{
 "cells": [
  {
   "cell_type": "code",
   "execution_count": 1,
   "metadata": {},
   "outputs": [
    {
     "data": {
      "text/html": [
       "<div>\n",
       "<style scoped>\n",
       "    .dataframe tbody tr th:only-of-type {\n",
       "        vertical-align: middle;\n",
       "    }\n",
       "\n",
       "    .dataframe tbody tr th {\n",
       "        vertical-align: top;\n",
       "    }\n",
       "\n",
       "    .dataframe thead th {\n",
       "        text-align: right;\n",
       "    }\n",
       "</style>\n",
       "<table border=\"1\" class=\"dataframe\">\n",
       "  <thead>\n",
       "    <tr style=\"text-align: right;\">\n",
       "      <th></th>\n",
       "      <th>aliases</th>\n",
       "      <th>news</th>\n",
       "      <th>keywords</th>\n",
       "    </tr>\n",
       "    <tr>\n",
       "      <th>companies</th>\n",
       "      <th></th>\n",
       "      <th></th>\n",
       "      <th></th>\n",
       "    </tr>\n",
       "  </thead>\n",
       "  <tbody>\n",
       "    <tr>\n",
       "      <th>Banco Comercial Português</th>\n",
       "      <td>[Banco Comercial Português, BCP]</td>\n",
       "      <td>[{'ExtractedText': 'DN   13 de Setembro de 200...</td>\n",
       "      <td>{'03 Mar': {'count': 2.0, 'date': {'201503': 2...</td>\n",
       "    </tr>\n",
       "    <tr>\n",
       "      <th>Galp Energia</th>\n",
       "      <td>[Galp Energia, GALP]</td>\n",
       "      <td>[{'ExtractedText': 'RTP Galp reforça posição n...</td>\n",
       "      <td>{'00h00': {'count': 7.0, 'date': {'201004': 1....</td>\n",
       "    </tr>\n",
       "    <tr>\n",
       "      <th>EDP</th>\n",
       "      <td>[EDP, Energias de Portugal, Electricidade de P...</td>\n",
       "      <td>[{'ExtractedText': 'DN-Sinteses Negocios 9 de ...</td>\n",
       "      <td>{'00h00': {'count': 4.0, 'date': {'201004': No...</td>\n",
       "    </tr>\n",
       "    <tr>\n",
       "      <th>Sonae</th>\n",
       "      <td>[Sonae, SON]</td>\n",
       "      <td>[{'ExtractedText': 'DN-Sinteses 5 de Março de ...</td>\n",
       "      <td>{'00h00': {'count': 3.0, 'date': {'201004': No...</td>\n",
       "    </tr>\n",
       "    <tr>\n",
       "      <th>Mota-Engil</th>\n",
       "      <td>[Mota-Engil, EGL]</td>\n",
       "      <td>[{'ExtractedText': 'RTP Lucro da Mota-Engil so...</td>\n",
       "      <td>{'15h30': {'count': 2.0, 'date': {'201509': 1....</td>\n",
       "    </tr>\n",
       "  </tbody>\n",
       "</table>\n",
       "</div>"
      ],
      "text/plain": [
       "                                                                     aliases  \\\n",
       "companies                                                                      \n",
       "Banco Comercial Português                   [Banco Comercial Português, BCP]   \n",
       "Galp Energia                                            [Galp Energia, GALP]   \n",
       "EDP                        [EDP, Energias de Portugal, Electricidade de P...   \n",
       "Sonae                                                           [Sonae, SON]   \n",
       "Mota-Engil                                                 [Mota-Engil, EGL]   \n",
       "\n",
       "                                                                        news  \\\n",
       "companies                                                                      \n",
       "Banco Comercial Português  [{'ExtractedText': 'DN   13 de Setembro de 200...   \n",
       "Galp Energia               [{'ExtractedText': 'RTP Galp reforça posição n...   \n",
       "EDP                        [{'ExtractedText': 'DN-Sinteses Negocios 9 de ...   \n",
       "Sonae                      [{'ExtractedText': 'DN-Sinteses 5 de Março de ...   \n",
       "Mota-Engil                 [{'ExtractedText': 'RTP Lucro da Mota-Engil so...   \n",
       "\n",
       "                                                                    keywords  \n",
       "companies                                                                     \n",
       "Banco Comercial Português  {'03 Mar': {'count': 2.0, 'date': {'201503': 2...  \n",
       "Galp Energia               {'00h00': {'count': 7.0, 'date': {'201004': 1....  \n",
       "EDP                        {'00h00': {'count': 4.0, 'date': {'201004': No...  \n",
       "Sonae                      {'00h00': {'count': 3.0, 'date': {'201004': No...  \n",
       "Mota-Engil                 {'15h30': {'count': 2.0, 'date': {'201509': 1....  "
      ]
     },
     "execution_count": 1,
     "metadata": {},
     "output_type": "execute_result"
    }
   ],
   "source": [
    "import pandas as pd\n",
    "\n",
    "df = pd.read_parquet(\"data05.parquet\")\n",
    "df[\"keywords\"] = df[\"keywords\"].map(lambda dic: {key: dic[key] for key in dic.keys() if dic[key] != None})\n",
    "df"
   ]
  },
  {
   "cell_type": "code",
   "execution_count": 2,
   "metadata": {},
   "outputs": [
    {
     "data": {
      "application/vnd.plotly.v1+json": {
       "config": {
        "plotlyServerURL": "https://plot.ly"
       },
       "data": [
        {
         "customdata": [
          [
           "LOC",
           "PER",
           "ORG"
          ],
          [
           "LOC"
          ],
          [
           "LOC",
           "PER"
          ],
          [
           "LOC",
           "PER",
           "WORD"
          ],
          [
           "LOC"
          ],
          [
           "ORG"
          ],
          [
           "LOC",
           "MISC",
           "ORG"
          ],
          [
           "LOC"
          ],
          [
           "LOC",
           "MISC",
           "WORD"
          ],
          [
           "LOC"
          ],
          [
           "LOC"
          ],
          [
           "LOC"
          ],
          [
           "PER",
           "MISC"
          ],
          [
           "LOC",
           "PER"
          ],
          [
           "LOC",
           "PER",
           "WORD"
          ],
          [
           "PER"
          ],
          [
           "LOC"
          ],
          [
           "PER",
           "ORG",
           "WORD"
          ],
          [
           "LOC",
           "PER",
           "MISC"
          ],
          [
           "LOC",
           "PER"
          ],
          [
           "LOC",
           "WORD"
          ],
          [
           "LOC"
          ],
          [
           "MISC",
           "WORD"
          ],
          [
           "PER"
          ],
          [
           "LOC"
          ],
          [
           "LOC",
           "PER",
           "WORD"
          ],
          [
           "LOC"
          ],
          [
           "PER",
           "WORD"
          ],
          [
           "LOC",
           "PER",
           "MISC",
           "WORD"
          ],
          [
           "LOC",
           "PER"
          ],
          [
           "WORD"
          ],
          [
           "MISC",
           "WORD"
          ],
          [
           "WORD"
          ],
          [
           "WORD"
          ],
          [
           "LOC",
           "WORD"
          ],
          [
           "WORD"
          ],
          [
           "WORD"
          ],
          [
           "ORG",
           "WORD"
          ],
          [
           "WORD"
          ],
          [
           "LOC",
           "ORG",
           "WORD"
          ],
          [
           "ORG"
          ],
          [
           "LOC",
           "WORD"
          ],
          [
           "WORD"
          ],
          [
           "WORD"
          ],
          [
           "WORD"
          ],
          [
           "WORD"
          ],
          [
           "LOC",
           "WORD"
          ],
          [
           "LOC",
           "WORD"
          ],
          [
           "LOC",
           "WORD"
          ],
          [
           "WORD"
          ],
          [
           "WORD"
          ],
          [
           "LOC",
           "WORD"
          ],
          [
           "WORD"
          ],
          [
           "LOC",
           "WORD"
          ],
          [
           "WORD"
          ],
          [
           "WORD"
          ],
          [
           "WORD"
          ],
          [
           "WORD"
          ],
          [
           "WORD"
          ],
          [
           "PER",
           "WORD"
          ],
          [
           "WORD"
          ],
          [
           "MISC",
           "WORD"
          ],
          [
           "LOC",
           "PER",
           "MISC",
           "WORD"
          ],
          [
           "MISC",
           "WORD"
          ],
          [
           "WORD"
          ],
          [
           "WORD"
          ],
          [
           "WORD"
          ],
          [
           "WORD"
          ],
          [
           "WORD"
          ],
          [
           "WORD"
          ],
          [
           "LOC",
           "WORD"
          ],
          [
           "PER",
           "WORD"
          ],
          [
           "LOC",
           "MISC",
           "WORD"
          ],
          [
           "LOC",
           "MISC",
           "WORD"
          ],
          [
           "WORD"
          ],
          [
           "LOC",
           "MISC",
           "WORD"
          ],
          [
           "LOC",
           "WORD"
          ],
          [
           "WORD"
          ],
          [
           "WORD"
          ],
          [
           "WORD"
          ],
          [
           "WORD"
          ],
          [
           "WORD"
          ],
          [
           "LOC",
           "WORD"
          ],
          [
           "WORD"
          ],
          [
           "LOC",
           "WORD"
          ],
          [
           "WORD"
          ],
          [
           "MISC",
           "WORD"
          ],
          [
           "MISC",
           "WORD"
          ],
          [
           "WORD"
          ],
          [
           "PER",
           "WORD"
          ],
          [
           "WORD"
          ],
          [
           "LOC",
           "WORD"
          ],
          [
           "MISC",
           "WORD"
          ],
          [
           "WORD"
          ],
          [
           "WORD"
          ],
          [
           "WORD"
          ],
          [
           "WORD"
          ],
          [
           "WORD"
          ],
          [
           "LOC",
           "WORD"
          ],
          [
           "LOC",
           "WORD"
          ],
          [
           "LOC"
          ]
         ],
         "hovertemplate": "<b>%{x}</b><br>Weight: %{y}<br>Class: %{customdata}<extra></extra>",
         "marker": {
          "color": [
           "black",
           "black",
           "black",
           "black",
           "black",
           "blue",
           "black",
           "black",
           "black",
           "black",
           "black",
           "black",
           "green",
           "black",
           "black",
           "green",
           "black",
           "green",
           "black",
           "black",
           "black",
           "black",
           "red",
           "green",
           "black",
           "black",
           "black",
           "green",
           "black",
           "black",
           "pink",
           "red",
           "pink",
           "pink",
           "black",
           "pink",
           "pink",
           "blue",
           "pink",
           "black",
           "blue",
           "black",
           "pink",
           "pink",
           "pink",
           "pink",
           "black",
           "black",
           "black",
           "pink",
           "pink",
           "black",
           "pink",
           "black",
           "pink",
           "pink",
           "pink",
           "pink",
           "pink",
           "green",
           "pink",
           "red",
           "black",
           "red",
           "pink",
           "pink",
           "pink",
           "pink",
           "pink",
           "pink",
           "black",
           "green",
           "black",
           "black",
           "pink",
           "black",
           "black",
           "pink",
           "pink",
           "pink",
           "pink",
           "pink",
           "black",
           "pink",
           "black",
           "pink",
           "red",
           "red",
           "pink",
           "green",
           "pink",
           "black",
           "red",
           "pink",
           "pink",
           "pink",
           "pink",
           "pink",
           "black",
           "black",
           "black"
          ]
         },
         "type": "bar",
         "x": [
          "América Latina",
          "Angola",
          "António Mota",
          "Anónimo",
          "Brasil",
          "Comissão do Mercado de Valores Mobiliários",
          "Dinheiro Vivo",
          "EUA",
          "Economia",
          "Em Portugal",
          "Estado",
          "Europa",
          "Fake News",
          "Ganhos da Mota-Engil",
          "Governo",
          "Jorge Coelho",
          "Lisboa",
          "Líder",
          "Mota-Engil",
          "Mota-Engil África",
          "Moçambique",
          "México",
          "PSI20",
          "Paulo Portas",
          "Polónia",
          "Portas",
          "Portugal",
          "Restantes",
          "Sociedade",
          "VISA",
          "acesso",
          "acordo",
          "acções",
          "administração",
          "anos",
          "artigos",
          "assinatura",
          "aumento",
          "ações",
          "bolsa",
          "bolsa de Lisboa",
          "campanha",
          "capital",
          "concessão",
          "concessões",
          "concurso",
          "condições",
          "construtora",
          "construção",
          "conta",
          "contrato",
          "contratos",
          "cotadas",
          "crescimento",
          "dados",
          "destaque",
          "dias",
          "direitos",
          "débito",
          "dívida",
          "dólares",
          "empresa",
          "empresas",
          "euros",
          "fecho",
          "fonte",
          "ganhos",
          "gestão",
          "hora",
          "horas",
          "investimento",
          "marca",
          "mercado",
          "ministro",
          "minutos",
          "mundo",
          "negócio",
          "negócios",
          "obra",
          "obras",
          "operação",
          "pagamentos",
          "parceria",
          "participação",
          "país",
          "período",
          "presidente",
          "processo",
          "qualidade",
          "queda",
          "reportagens",
          "resposta",
          "resultados",
          "semana",
          "semestre",
          "subida",
          "suspensão",
          "terreno",
          "venda",
          "volume",
          "África"
         ],
         "y": [
          96.95000000000007,
          128.80000000000018,
          170.80000000000027,
          71.30000000000003,
          67.74999999999999,
          65.35000000000004,
          108.35000000000014,
          85.75000000000006,
          144.39999999999972,
          122.70000000000016,
          121.05000000000018,
          184.7500000000003,
          67.04999999999998,
          186.8000000000002,
          222.45000000000022,
          141.3999999999999,
          273.0500000000002,
          71.95000000000006,
          2344.7500000000414,
          84.70000000000003,
          102.7500000000001,
          140.65000000000015,
          231.0999999999998,
          239.45000000000093,
          62.09999999999998,
          134.3000000000001,
          537.8999999999979,
          91.49999999999989,
          63.60000000000007,
          126.14999999999996,
          82.70000000000002,
          134.49999999999966,
          82.69999999999997,
          76.55000000000001,
          250.7499999999991,
          104.04999999999987,
          71.65000000000006,
          79.70000000000003,
          111.14999999999986,
          176.6499999999997,
          122.7499999999998,
          83.69999999999999,
          163.34999999999945,
          69.85000000000005,
          89.09999999999992,
          101.29999999999993,
          77.14999999999999,
          261.4999999999993,
          228.9499999999993,
          136.84999999999965,
          142.94999999999965,
          68.7,
          84.4499999999999,
          60.90000000000005,
          74.7,
          90.94999999999996,
          160.9499999999996,
          113.79999999999978,
          79.44999999999999,
          66.15000000000006,
          70.45000000000002,
          416.60000000000196,
          120.79999999999978,
          869.4500000000143,
          71.10000000000001,
          123.99999999999967,
          68.05000000000004,
          68.9,
          69.90000000000002,
          86.19999999999997,
          90.14999999999998,
          98.59999999999985,
          136.99999999999972,
          72.25000000000003,
          85.39999999999993,
          166.64999999999947,
          105.99999999999984,
          156.69999999999962,
          125.04999999999994,
          91.44999999999993,
          59.750000000000064,
          68.55000000000004,
          81.00000000000001,
          90.49999999999991,
          145.24999999999963,
          81.94999999999997,
          181.3999999999994,
          90.09999999999997,
          63.10000000000008,
          68.60000000000002,
          61.750000000000064,
          102.60000000000014,
          66.60000000000007,
          100.24999999999983,
          82.84999999999997,
          257.6499999999994,
          74.49999999999996,
          79.29999999999995,
          141.14999999999966,
          83.29999999999998,
          182.65000000000032
         ]
        }
       ],
       "layout": {
        "template": {
         "data": {
          "bar": [
           {
            "error_x": {
             "color": "#2a3f5f"
            },
            "error_y": {
             "color": "#2a3f5f"
            },
            "marker": {
             "line": {
              "color": "#E5ECF6",
              "width": 0.5
             },
             "pattern": {
              "fillmode": "overlay",
              "size": 10,
              "solidity": 0.2
             }
            },
            "type": "bar"
           }
          ],
          "barpolar": [
           {
            "marker": {
             "line": {
              "color": "#E5ECF6",
              "width": 0.5
             },
             "pattern": {
              "fillmode": "overlay",
              "size": 10,
              "solidity": 0.2
             }
            },
            "type": "barpolar"
           }
          ],
          "carpet": [
           {
            "aaxis": {
             "endlinecolor": "#2a3f5f",
             "gridcolor": "white",
             "linecolor": "white",
             "minorgridcolor": "white",
             "startlinecolor": "#2a3f5f"
            },
            "baxis": {
             "endlinecolor": "#2a3f5f",
             "gridcolor": "white",
             "linecolor": "white",
             "minorgridcolor": "white",
             "startlinecolor": "#2a3f5f"
            },
            "type": "carpet"
           }
          ],
          "choropleth": [
           {
            "colorbar": {
             "outlinewidth": 0,
             "ticks": ""
            },
            "type": "choropleth"
           }
          ],
          "contour": [
           {
            "colorbar": {
             "outlinewidth": 0,
             "ticks": ""
            },
            "colorscale": [
             [
              0,
              "#0d0887"
             ],
             [
              0.1111111111111111,
              "#46039f"
             ],
             [
              0.2222222222222222,
              "#7201a8"
             ],
             [
              0.3333333333333333,
              "#9c179e"
             ],
             [
              0.4444444444444444,
              "#bd3786"
             ],
             [
              0.5555555555555556,
              "#d8576b"
             ],
             [
              0.6666666666666666,
              "#ed7953"
             ],
             [
              0.7777777777777778,
              "#fb9f3a"
             ],
             [
              0.8888888888888888,
              "#fdca26"
             ],
             [
              1,
              "#f0f921"
             ]
            ],
            "type": "contour"
           }
          ],
          "contourcarpet": [
           {
            "colorbar": {
             "outlinewidth": 0,
             "ticks": ""
            },
            "type": "contourcarpet"
           }
          ],
          "heatmap": [
           {
            "colorbar": {
             "outlinewidth": 0,
             "ticks": ""
            },
            "colorscale": [
             [
              0,
              "#0d0887"
             ],
             [
              0.1111111111111111,
              "#46039f"
             ],
             [
              0.2222222222222222,
              "#7201a8"
             ],
             [
              0.3333333333333333,
              "#9c179e"
             ],
             [
              0.4444444444444444,
              "#bd3786"
             ],
             [
              0.5555555555555556,
              "#d8576b"
             ],
             [
              0.6666666666666666,
              "#ed7953"
             ],
             [
              0.7777777777777778,
              "#fb9f3a"
             ],
             [
              0.8888888888888888,
              "#fdca26"
             ],
             [
              1,
              "#f0f921"
             ]
            ],
            "type": "heatmap"
           }
          ],
          "heatmapgl": [
           {
            "colorbar": {
             "outlinewidth": 0,
             "ticks": ""
            },
            "colorscale": [
             [
              0,
              "#0d0887"
             ],
             [
              0.1111111111111111,
              "#46039f"
             ],
             [
              0.2222222222222222,
              "#7201a8"
             ],
             [
              0.3333333333333333,
              "#9c179e"
             ],
             [
              0.4444444444444444,
              "#bd3786"
             ],
             [
              0.5555555555555556,
              "#d8576b"
             ],
             [
              0.6666666666666666,
              "#ed7953"
             ],
             [
              0.7777777777777778,
              "#fb9f3a"
             ],
             [
              0.8888888888888888,
              "#fdca26"
             ],
             [
              1,
              "#f0f921"
             ]
            ],
            "type": "heatmapgl"
           }
          ],
          "histogram": [
           {
            "marker": {
             "pattern": {
              "fillmode": "overlay",
              "size": 10,
              "solidity": 0.2
             }
            },
            "type": "histogram"
           }
          ],
          "histogram2d": [
           {
            "colorbar": {
             "outlinewidth": 0,
             "ticks": ""
            },
            "colorscale": [
             [
              0,
              "#0d0887"
             ],
             [
              0.1111111111111111,
              "#46039f"
             ],
             [
              0.2222222222222222,
              "#7201a8"
             ],
             [
              0.3333333333333333,
              "#9c179e"
             ],
             [
              0.4444444444444444,
              "#bd3786"
             ],
             [
              0.5555555555555556,
              "#d8576b"
             ],
             [
              0.6666666666666666,
              "#ed7953"
             ],
             [
              0.7777777777777778,
              "#fb9f3a"
             ],
             [
              0.8888888888888888,
              "#fdca26"
             ],
             [
              1,
              "#f0f921"
             ]
            ],
            "type": "histogram2d"
           }
          ],
          "histogram2dcontour": [
           {
            "colorbar": {
             "outlinewidth": 0,
             "ticks": ""
            },
            "colorscale": [
             [
              0,
              "#0d0887"
             ],
             [
              0.1111111111111111,
              "#46039f"
             ],
             [
              0.2222222222222222,
              "#7201a8"
             ],
             [
              0.3333333333333333,
              "#9c179e"
             ],
             [
              0.4444444444444444,
              "#bd3786"
             ],
             [
              0.5555555555555556,
              "#d8576b"
             ],
             [
              0.6666666666666666,
              "#ed7953"
             ],
             [
              0.7777777777777778,
              "#fb9f3a"
             ],
             [
              0.8888888888888888,
              "#fdca26"
             ],
             [
              1,
              "#f0f921"
             ]
            ],
            "type": "histogram2dcontour"
           }
          ],
          "mesh3d": [
           {
            "colorbar": {
             "outlinewidth": 0,
             "ticks": ""
            },
            "type": "mesh3d"
           }
          ],
          "parcoords": [
           {
            "line": {
             "colorbar": {
              "outlinewidth": 0,
              "ticks": ""
             }
            },
            "type": "parcoords"
           }
          ],
          "pie": [
           {
            "automargin": true,
            "type": "pie"
           }
          ],
          "scatter": [
           {
            "fillpattern": {
             "fillmode": "overlay",
             "size": 10,
             "solidity": 0.2
            },
            "type": "scatter"
           }
          ],
          "scatter3d": [
           {
            "line": {
             "colorbar": {
              "outlinewidth": 0,
              "ticks": ""
             }
            },
            "marker": {
             "colorbar": {
              "outlinewidth": 0,
              "ticks": ""
             }
            },
            "type": "scatter3d"
           }
          ],
          "scattercarpet": [
           {
            "marker": {
             "colorbar": {
              "outlinewidth": 0,
              "ticks": ""
             }
            },
            "type": "scattercarpet"
           }
          ],
          "scattergeo": [
           {
            "marker": {
             "colorbar": {
              "outlinewidth": 0,
              "ticks": ""
             }
            },
            "type": "scattergeo"
           }
          ],
          "scattergl": [
           {
            "marker": {
             "colorbar": {
              "outlinewidth": 0,
              "ticks": ""
             }
            },
            "type": "scattergl"
           }
          ],
          "scattermapbox": [
           {
            "marker": {
             "colorbar": {
              "outlinewidth": 0,
              "ticks": ""
             }
            },
            "type": "scattermapbox"
           }
          ],
          "scatterpolar": [
           {
            "marker": {
             "colorbar": {
              "outlinewidth": 0,
              "ticks": ""
             }
            },
            "type": "scatterpolar"
           }
          ],
          "scatterpolargl": [
           {
            "marker": {
             "colorbar": {
              "outlinewidth": 0,
              "ticks": ""
             }
            },
            "type": "scatterpolargl"
           }
          ],
          "scatterternary": [
           {
            "marker": {
             "colorbar": {
              "outlinewidth": 0,
              "ticks": ""
             }
            },
            "type": "scatterternary"
           }
          ],
          "surface": [
           {
            "colorbar": {
             "outlinewidth": 0,
             "ticks": ""
            },
            "colorscale": [
             [
              0,
              "#0d0887"
             ],
             [
              0.1111111111111111,
              "#46039f"
             ],
             [
              0.2222222222222222,
              "#7201a8"
             ],
             [
              0.3333333333333333,
              "#9c179e"
             ],
             [
              0.4444444444444444,
              "#bd3786"
             ],
             [
              0.5555555555555556,
              "#d8576b"
             ],
             [
              0.6666666666666666,
              "#ed7953"
             ],
             [
              0.7777777777777778,
              "#fb9f3a"
             ],
             [
              0.8888888888888888,
              "#fdca26"
             ],
             [
              1,
              "#f0f921"
             ]
            ],
            "type": "surface"
           }
          ],
          "table": [
           {
            "cells": {
             "fill": {
              "color": "#EBF0F8"
             },
             "line": {
              "color": "white"
             }
            },
            "header": {
             "fill": {
              "color": "#C8D4E3"
             },
             "line": {
              "color": "white"
             }
            },
            "type": "table"
           }
          ]
         },
         "layout": {
          "annotationdefaults": {
           "arrowcolor": "#2a3f5f",
           "arrowhead": 0,
           "arrowwidth": 1
          },
          "autotypenumbers": "strict",
          "coloraxis": {
           "colorbar": {
            "outlinewidth": 0,
            "ticks": ""
           }
          },
          "colorscale": {
           "diverging": [
            [
             0,
             "#8e0152"
            ],
            [
             0.1,
             "#c51b7d"
            ],
            [
             0.2,
             "#de77ae"
            ],
            [
             0.3,
             "#f1b6da"
            ],
            [
             0.4,
             "#fde0ef"
            ],
            [
             0.5,
             "#f7f7f7"
            ],
            [
             0.6,
             "#e6f5d0"
            ],
            [
             0.7,
             "#b8e186"
            ],
            [
             0.8,
             "#7fbc41"
            ],
            [
             0.9,
             "#4d9221"
            ],
            [
             1,
             "#276419"
            ]
           ],
           "sequential": [
            [
             0,
             "#0d0887"
            ],
            [
             0.1111111111111111,
             "#46039f"
            ],
            [
             0.2222222222222222,
             "#7201a8"
            ],
            [
             0.3333333333333333,
             "#9c179e"
            ],
            [
             0.4444444444444444,
             "#bd3786"
            ],
            [
             0.5555555555555556,
             "#d8576b"
            ],
            [
             0.6666666666666666,
             "#ed7953"
            ],
            [
             0.7777777777777778,
             "#fb9f3a"
            ],
            [
             0.8888888888888888,
             "#fdca26"
            ],
            [
             1,
             "#f0f921"
            ]
           ],
           "sequentialminus": [
            [
             0,
             "#0d0887"
            ],
            [
             0.1111111111111111,
             "#46039f"
            ],
            [
             0.2222222222222222,
             "#7201a8"
            ],
            [
             0.3333333333333333,
             "#9c179e"
            ],
            [
             0.4444444444444444,
             "#bd3786"
            ],
            [
             0.5555555555555556,
             "#d8576b"
            ],
            [
             0.6666666666666666,
             "#ed7953"
            ],
            [
             0.7777777777777778,
             "#fb9f3a"
            ],
            [
             0.8888888888888888,
             "#fdca26"
            ],
            [
             1,
             "#f0f921"
            ]
           ]
          },
          "colorway": [
           "#636efa",
           "#EF553B",
           "#00cc96",
           "#ab63fa",
           "#FFA15A",
           "#19d3f3",
           "#FF6692",
           "#B6E880",
           "#FF97FF",
           "#FECB52"
          ],
          "font": {
           "color": "#2a3f5f"
          },
          "geo": {
           "bgcolor": "white",
           "lakecolor": "white",
           "landcolor": "#E5ECF6",
           "showlakes": true,
           "showland": true,
           "subunitcolor": "white"
          },
          "hoverlabel": {
           "align": "left"
          },
          "hovermode": "closest",
          "mapbox": {
           "style": "light"
          },
          "paper_bgcolor": "white",
          "plot_bgcolor": "#E5ECF6",
          "polar": {
           "angularaxis": {
            "gridcolor": "white",
            "linecolor": "white",
            "ticks": ""
           },
           "bgcolor": "#E5ECF6",
           "radialaxis": {
            "gridcolor": "white",
            "linecolor": "white",
            "ticks": ""
           }
          },
          "scene": {
           "xaxis": {
            "backgroundcolor": "#E5ECF6",
            "gridcolor": "white",
            "gridwidth": 2,
            "linecolor": "white",
            "showbackground": true,
            "ticks": "",
            "zerolinecolor": "white"
           },
           "yaxis": {
            "backgroundcolor": "#E5ECF6",
            "gridcolor": "white",
            "gridwidth": 2,
            "linecolor": "white",
            "showbackground": true,
            "ticks": "",
            "zerolinecolor": "white"
           },
           "zaxis": {
            "backgroundcolor": "#E5ECF6",
            "gridcolor": "white",
            "gridwidth": 2,
            "linecolor": "white",
            "showbackground": true,
            "ticks": "",
            "zerolinecolor": "white"
           }
          },
          "shapedefaults": {
           "line": {
            "color": "#2a3f5f"
           }
          },
          "ternary": {
           "aaxis": {
            "gridcolor": "white",
            "linecolor": "white",
            "ticks": ""
           },
           "baxis": {
            "gridcolor": "white",
            "linecolor": "white",
            "ticks": ""
           },
           "bgcolor": "#E5ECF6",
           "caxis": {
            "gridcolor": "white",
            "linecolor": "white",
            "ticks": ""
           }
          },
          "title": {
           "x": 0.05
          },
          "xaxis": {
           "automargin": true,
           "gridcolor": "white",
           "linecolor": "white",
           "ticks": "",
           "title": {
            "standoff": 15
           },
           "zerolinecolor": "white",
           "zerolinewidth": 2
          },
          "yaxis": {
           "automargin": true,
           "gridcolor": "white",
           "linecolor": "white",
           "ticks": "",
           "title": {
            "standoff": 15
           },
           "zerolinecolor": "white",
           "zerolinewidth": 2
          }
         }
        },
        "title": {
         "text": "Gráfico de Barras Interativo"
        },
        "xaxis": {
         "title": {
          "text": "Palavras"
         }
        },
        "yaxis": {
         "title": {
          "text": "Peso"
         }
        }
       }
      }
     },
     "metadata": {},
     "output_type": "display_data"
    }
   ],
   "source": [
    "import plotly.graph_objects as go\n",
    "\n",
    "\n",
    "\n",
    "frequencias = df[\"keywords\"].iloc[4]\n",
    "frequencias = {word: data for word, data in frequencias.items() if data[\"filter\"] >= 0.1}\n",
    "\n",
    "# Step 1: Extract words, counts, and classes\n",
    "palavras = list(frequencias.keys())\n",
    "valores = [data['weight'] for data in frequencias.values()]\n",
    "classes = [list(data['type']) for data in frequencias.values()]\n",
    "\n",
    "\n",
    "# Step 2: Define color mapping for classes\n",
    "color_map = {\n",
    "    'ORG': 'blue',\n",
    "    'PER': 'green',\n",
    "    'MISC': 'red',\n",
    "    \"WORD\": \"pink\",\n",
    "    \"LOC\": \"black\"\n",
    "}\n",
    "\n",
    "# Step 3: Assign colors based on class\n",
    "marker_colors = [\n",
    "    color_map[class_name[0]] if isinstance(class_name, list) else color_map[class_name]\n",
    "    for class_name in classes\n",
    "]\n",
    "# Step 4: Create the bar chart\n",
    "fig = go.Figure(data=[\n",
    "    go.Bar(\n",
    "        x=palavras,\n",
    "        y=valores,\n",
    "        marker_color=marker_colors,\n",
    "        hovertemplate=\"<b>%{x}</b><br>Weight: %{y}<br>Class: %{customdata}<extra></extra>\",\n",
    "        customdata=classes  # Adding class data for hover information\n",
    "    )\n",
    "])\n",
    "\n",
    "fig.update_layout(\n",
    "    title='Gráfico de Barras Interativo',\n",
    "    xaxis_title='Palavras',\n",
    "    yaxis_title='Peso',\n",
    ")\n",
    "\n",
    "fig.show()\n"
   ]
  }
 ],
 "metadata": {
  "kernelspec": {
   "display_name": "fcdProj",
   "language": "python",
   "name": "python3"
  },
  "language_info": {
   "codemirror_mode": {
    "name": "ipython",
    "version": 3
   },
   "file_extension": ".py",
   "mimetype": "text/x-python",
   "name": "python",
   "nbconvert_exporter": "python",
   "pygments_lexer": "ipython3",
   "version": "3.10.15"
  }
 },
 "nbformat": 4,
 "nbformat_minor": 2
}
