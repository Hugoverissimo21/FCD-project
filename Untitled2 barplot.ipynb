{
 "cells": [
  {
   "cell_type": "code",
   "execution_count": 1,
   "metadata": {},
   "outputs": [
    {
     "data": {
      "text/html": [
       "<div>\n",
       "<style scoped>\n",
       "    .dataframe tbody tr th:only-of-type {\n",
       "        vertical-align: middle;\n",
       "    }\n",
       "\n",
       "    .dataframe tbody tr th {\n",
       "        vertical-align: top;\n",
       "    }\n",
       "\n",
       "    .dataframe thead th {\n",
       "        text-align: right;\n",
       "    }\n",
       "</style>\n",
       "<table border=\"1\" class=\"dataframe\">\n",
       "  <thead>\n",
       "    <tr style=\"text-align: right;\">\n",
       "      <th></th>\n",
       "      <th>aliases</th>\n",
       "      <th>news</th>\n",
       "      <th>keywords</th>\n",
       "    </tr>\n",
       "    <tr>\n",
       "      <th>companies</th>\n",
       "      <th></th>\n",
       "      <th></th>\n",
       "      <th></th>\n",
       "    </tr>\n",
       "  </thead>\n",
       "  <tbody>\n",
       "    <tr>\n",
       "      <th>Banco Comercial Português</th>\n",
       "      <td>[Banco Comercial Português, BCP]</td>\n",
       "      <td>[{'ExtractedText': 'DN   13 de Setembro de 200...</td>\n",
       "      <td>{'03 Mar': {'count': 2.0, 'date': {'201503': 2...</td>\n",
       "    </tr>\n",
       "    <tr>\n",
       "      <th>Galp Energia</th>\n",
       "      <td>[Galp Energia, GALP]</td>\n",
       "      <td>[{'ExtractedText': 'RTP Galp reforça posição n...</td>\n",
       "      <td>{'00h00': {'count': 7.0, 'date': {'201004': 1....</td>\n",
       "    </tr>\n",
       "    <tr>\n",
       "      <th>EDP</th>\n",
       "      <td>[EDP, Energias de Portugal, Electricidade de P...</td>\n",
       "      <td>[{'ExtractedText': 'DN-Sinteses Negocios 9 de ...</td>\n",
       "      <td>{'00h00': {'count': 4.0, 'date': {'201004': No...</td>\n",
       "    </tr>\n",
       "    <tr>\n",
       "      <th>Sonae</th>\n",
       "      <td>[Sonae, SON]</td>\n",
       "      <td>[{'ExtractedText': 'DN-Sinteses 5 de Março de ...</td>\n",
       "      <td>{'00h00': {'count': 3.0, 'date': {'201004': No...</td>\n",
       "    </tr>\n",
       "    <tr>\n",
       "      <th>Mota-Engil</th>\n",
       "      <td>[Mota-Engil, EGL]</td>\n",
       "      <td>[{'ExtractedText': 'RTP Lucro da Mota-Engil so...</td>\n",
       "      <td>{'15h30': {'count': 2.0, 'date': {'201509': 1....</td>\n",
       "    </tr>\n",
       "  </tbody>\n",
       "</table>\n",
       "</div>"
      ],
      "text/plain": [
       "                                                                     aliases  \\\n",
       "companies                                                                      \n",
       "Banco Comercial Português                   [Banco Comercial Português, BCP]   \n",
       "Galp Energia                                            [Galp Energia, GALP]   \n",
       "EDP                        [EDP, Energias de Portugal, Electricidade de P...   \n",
       "Sonae                                                           [Sonae, SON]   \n",
       "Mota-Engil                                                 [Mota-Engil, EGL]   \n",
       "\n",
       "                                                                        news  \\\n",
       "companies                                                                      \n",
       "Banco Comercial Português  [{'ExtractedText': 'DN   13 de Setembro de 200...   \n",
       "Galp Energia               [{'ExtractedText': 'RTP Galp reforça posição n...   \n",
       "EDP                        [{'ExtractedText': 'DN-Sinteses Negocios 9 de ...   \n",
       "Sonae                      [{'ExtractedText': 'DN-Sinteses 5 de Março de ...   \n",
       "Mota-Engil                 [{'ExtractedText': 'RTP Lucro da Mota-Engil so...   \n",
       "\n",
       "                                                                    keywords  \n",
       "companies                                                                     \n",
       "Banco Comercial Português  {'03 Mar': {'count': 2.0, 'date': {'201503': 2...  \n",
       "Galp Energia               {'00h00': {'count': 7.0, 'date': {'201004': 1....  \n",
       "EDP                        {'00h00': {'count': 4.0, 'date': {'201004': No...  \n",
       "Sonae                      {'00h00': {'count': 3.0, 'date': {'201004': No...  \n",
       "Mota-Engil                 {'15h30': {'count': 2.0, 'date': {'201509': 1....  "
      ]
     },
     "execution_count": 1,
     "metadata": {},
     "output_type": "execute_result"
    }
   ],
   "source": [
    "import pandas as pd\n",
    "\n",
    "df = pd.read_parquet(\"data05.parquet\")\n",
    "df[\"keywords\"] = df[\"keywords\"].map(lambda dic: {key: dic[key] for key in dic.keys() if dic[key] != None})\n",
    "df"
   ]
  },
  {
   "cell_type": "code",
   "execution_count": 2,
   "metadata": {},
   "outputs": [],
   "source": [
    "linha = 0 #linha da empresa"
   ]
  },
  {
   "cell_type": "markdown",
   "metadata": {},
   "source": [
    "# barplot"
   ]
  },
  {
   "cell_type": "code",
   "execution_count": 3,
   "metadata": {},
   "outputs": [
    {
     "data": {
      "application/vnd.plotly.v1+json": {
       "config": {
        "plotlyServerURL": "https://plot.ly"
       },
       "data": [
        {
         "customdata": [
          [
           "LOC"
          ],
          [
           "PER",
           "ORG"
          ],
          [
           "ORG",
           "LOC",
           "MISC"
          ],
          [
           "ORG",
           "MISC"
          ],
          [
           "PER",
           "ORG"
          ],
          [
           "ORG",
           "MISC"
          ],
          [
           "ORG"
          ],
          [
           "PER",
           "LOC"
          ],
          [
           "LOC"
          ],
          [
           "ORG"
          ],
          [
           "PER",
           "LOC"
          ],
          [
           "ORG",
           "MISC"
          ],
          [
           "LOC"
          ],
          [
           "LOC"
          ],
          [
           "LOC"
          ],
          [
           "LOC"
          ],
          [
           "PER"
          ],
          [
           "PER",
           "ORG",
           "LOC"
          ],
          [
           "PER",
           "WORD",
           "LOC"
          ],
          [
           "PER",
           "LOC"
          ],
          [
           "WORD",
           "LOC"
          ],
          [
           "ORG",
           "LOC"
          ],
          [
           "PER"
          ],
          [
           "PER",
           "LOC"
          ],
          [
           "PER"
          ],
          [
           "LOC"
          ],
          [
           "PER",
           "ORG",
           "LOC",
           "MISC"
          ],
          [
           "PER"
          ],
          [
           "PER",
           "WORD",
           "ORG",
           "LOC",
           "MISC"
          ],
          [
           "MISC",
           "PER",
           "ORG",
           "LOC"
          ],
          [
           "PER"
          ],
          [
           "ORG"
          ],
          [
           "LOC"
          ],
          [
           "LOC"
          ],
          [
           "PER",
           "ORG",
           "LOC"
          ],
          [
           "PER"
          ],
          [
           "PER",
           "WORD",
           "ORG",
           "LOC"
          ],
          [
           "PER",
           "LOC"
          ],
          [
           "WORD",
           "LOC",
           "MISC"
          ],
          [
           "WORD"
          ],
          [
           "PER",
           "WORD",
           "MISC",
           "LOC"
          ],
          [
           "PER",
           "WORD",
           "LOC"
          ],
          [
           "PER",
           "WORD",
           "LOC"
          ],
          [
           "WORD",
           "LOC"
          ],
          [
           "WORD"
          ],
          [
           "WORD",
           "ORG",
           "LOC"
          ],
          [
           "WORD",
           "LOC"
          ],
          [
           "PER",
           "WORD",
           "MISC",
           "LOC"
          ],
          [
           "PER",
           "WORD",
           "ORG",
           "LOC"
          ],
          [
           "WORD",
           "MISC"
          ],
          [
           "PER",
           "WORD",
           "ORG",
           "LOC"
          ],
          [
           "WORD",
           "LOC"
          ],
          [
           "WORD",
           "LOC"
          ],
          [
           "WORD"
          ],
          [
           "PER",
           "WORD"
          ],
          [
           "WORD",
           "LOC"
          ],
          [
           "WORD",
           "LOC"
          ],
          [
           "WORD"
          ],
          [
           "WORD",
           "LOC"
          ],
          [
           "WORD",
           "LOC"
          ],
          [
           "WORD",
           "LOC"
          ],
          [
           "WORD",
           "LOC"
          ],
          [
           "WORD"
          ],
          [
           "WORD",
           "ORG",
           "LOC"
          ],
          [
           "WORD"
          ],
          [
           "WORD"
          ],
          [
           "WORD"
          ],
          [
           "WORD",
           "LOC"
          ],
          [
           "WORD"
          ],
          [
           "PER",
           "WORD"
          ],
          [
           "WORD",
           "LOC",
           "MISC"
          ],
          [
           "WORD",
           "LOC",
           "MISC"
          ],
          [
           "PER",
           "WORD",
           "LOC"
          ],
          [
           "WORD"
          ],
          [
           "WORD",
           "MISC"
          ],
          [
           "WORD"
          ],
          [
           "PER",
           "WORD",
           "MISC"
          ],
          [
           "ORG",
           "WORD",
           "MISC",
           "LOC"
          ],
          [
           "WORD",
           "LOC"
          ],
          [
           "WORD"
          ],
          [
           "PER",
           "WORD"
          ],
          [
           "WORD",
           "LOC",
           "MISC"
          ],
          [
           "WORD",
           "MISC"
          ],
          [
           "WORD"
          ],
          [
           "WORD"
          ],
          [
           "WORD",
           "MISC"
          ],
          [
           "WORD",
           "MISC"
          ],
          [
           "PER",
           "WORD",
           "ORG"
          ],
          [
           "WORD",
           "LOC"
          ],
          [
           "WORD"
          ],
          [
           "WORD",
           "MISC",
           "LOC"
          ],
          [
           "WORD"
          ],
          [
           "WORD",
           "LOC"
          ],
          [
           "WORD"
          ],
          [
           "WORD"
          ],
          [
           "WORD"
          ],
          [
           "WORD",
           "LOC"
          ],
          [
           "WORD",
           "LOC"
          ],
          [
           "WORD"
          ],
          [
           "WORD"
          ],
          [
           "WORD",
           "LOC"
          ],
          [
           "WORD",
           "LOC"
          ],
          [
           "WORD",
           "LOC"
          ],
          [
           "WORD",
           "MISC"
          ],
          [
           "WORD",
           "MISC"
          ],
          [
           "WORD"
          ],
          [
           "WORD"
          ],
          [
           "WORD"
          ],
          [
           "WORD"
          ],
          [
           "WORD",
           "MISC"
          ],
          [
           "WORD"
          ],
          [
           "PER",
           "WORD"
          ],
          [
           "WORD"
          ],
          [
           "WORD",
           "MISC"
          ],
          [
           "WORD",
           "MISC"
          ],
          [
           "PER",
           "WORD",
           "ORG",
           "LOC"
          ],
          [
           "WORD"
          ],
          [
           "WORD"
          ],
          [
           "WORD",
           "LOC"
          ],
          [
           "PER",
           "WORD",
           "MISC",
           "LOC"
          ],
          [
           "WORD",
           "LOC"
          ],
          [
           "WORD",
           "MISC",
           "LOC"
          ],
          [
           "WORD"
          ],
          [
           "WORD"
          ],
          [
           "PER",
           "WORD",
           "MISC"
          ],
          [
           "WORD",
           "LOC"
          ]
         ],
         "hovertemplate": "<b>%{x}</b><br>Weight: %{y}<br>Class: %{customdata}<extra></extra>",
         "marker": {
          "color": [
           "black",
           "green",
           "blue",
           "blue",
           "green",
           "blue",
           "blue",
           "green",
           "black",
           "blue",
           "green",
           "blue",
           "black",
           "black",
           "black",
           "black",
           "green",
           "green",
           "green",
           "green",
           "pink",
           "blue",
           "green",
           "green",
           "green",
           "black",
           "green",
           "green",
           "green",
           "red",
           "green",
           "blue",
           "black",
           "black",
           "green",
           "green",
           "green",
           "green",
           "pink",
           "pink",
           "green",
           "green",
           "green",
           "pink",
           "pink",
           "pink",
           "pink",
           "green",
           "green",
           "pink",
           "green",
           "pink",
           "pink",
           "pink",
           "green",
           "pink",
           "pink",
           "pink",
           "pink",
           "pink",
           "pink",
           "pink",
           "pink",
           "pink",
           "pink",
           "pink",
           "pink",
           "pink",
           "pink",
           "green",
           "pink",
           "pink",
           "green",
           "pink",
           "pink",
           "pink",
           "green",
           "blue",
           "pink",
           "pink",
           "green",
           "pink",
           "pink",
           "pink",
           "pink",
           "pink",
           "pink",
           "green",
           "pink",
           "pink",
           "pink",
           "pink",
           "pink",
           "pink",
           "pink",
           "pink",
           "pink",
           "pink",
           "pink",
           "pink",
           "pink",
           "pink",
           "pink",
           "pink",
           "pink",
           "pink",
           "pink",
           "pink",
           "pink",
           "pink",
           "pink",
           "green",
           "pink",
           "pink",
           "pink",
           "green",
           "pink",
           "pink",
           "pink",
           "green",
           "pink",
           "pink",
           "pink",
           "pink",
           "green",
           "pink"
          ]
         },
         "type": "bar",
         "x": [
          "Angola",
          "BCE",
          "BCP",
          "BES",
          "BPI",
          "Banco Comercial Português",
          "Banco de Portugal",
          "Berardo",
          "Bruxelas",
          "Comissão do Mercado de Valores Mobiliários",
          "Cristina Ferreira",
          "EDP",
          "EUA",
          "Em Portugal",
          "Estado",
          "Europa",
          "Filipe Pinhal",
          "Fosun",
          "Governo",
          "Grécia",
          "Investimento",
          "Irão",
          "Isabel dos Santos",
          "Jardim Gonçalves",
          "Joe Berardo",
          "Lisboa",
          "MILLENNIUM BCP",
          "Miguel Maya",
          "Millennium",
          "Novo Banco",
          "Nuno Amado",
          "PS",
          "Polónia",
          "Portugal",
          "Santos Ferreira",
          "Sócrates",
          "Tribunal",
          "Visa",
          "accionistas",
          "acesso",
          "acordo",
          "acções",
          "administração",
          "anos",
          "artigos",
          "aumento",
          "ações",
          "banca",
          "banco",
          "bancos",
          "bolsa",
          "campanha",
          "capital",
          "caso",
          "clientes",
          "compra",
          "condições",
          "conta",
          "contas",
          "corte",
          "cortes",
          "crédito",
          "dados",
          "decisão",
          "destaque",
          "dias",
          "dinheiro",
          "direitos",
          "débito",
          "dívida",
          "economia",
          "empresa",
          "empresas",
          "entrada",
          "euros",
          "fonte",
          "fundador",
          "fusão",
          "gestão",
          "hora",
          "horas",
          "instituição",
          "investidores",
          "leitores",
          "limite",
          "lucro",
          "lucros",
          "líder",
          "mercado",
          "minutos",
          "mundo",
          "navegação",
          "operação",
          "pagamento",
          "pagamentos",
          "participação",
          "país",
          "perdas",
          "período",
          "pessoas",
          "plano",
          "prejuízo",
          "prejuízos",
          "presidente",
          "processo",
          "proposta",
          "qualidade",
          "queda",
          "rating",
          "redução",
          "resposta",
          "restantes",
          "resultado",
          "resultados",
          "risco",
          "salários",
          "semana",
          "semestre",
          "situação",
          "sociedade",
          "trabalhadores",
          "trabalho",
          "trimestre",
          "títulos",
          "tópicos",
          "venda"
         ],
         "y": [
          234.9000000000003,
          225.49999999999943,
          4848.549999999983,
          430.05000000000086,
          833.0500000000067,
          427.15000000000066,
          439.95000000000016,
          217.70000000000067,
          182.90000000000026,
          170.39999999999972,
          299.7000000000006,
          207.54999999999959,
          446.2999999999988,
          306.89999999999986,
          670.449999999997,
          341.6499999999991,
          337.9500000000009,
          371.7000000000003,
          681.799999999999,
          178.75000000000026,
          193.8499999999996,
          180.4000000000003,
          205.7000000000003,
          442.8499999999991,
          199.5500000000003,
          746.7999999999962,
          189.0000000000003,
          237.0500000000007,
          335.1499999999992,
          723.6499999999965,
          864.4499999999933,
          174.2999999999996,
          276.2500000000003,
          1587.1500000000153,
          187.20000000000027,
          196.5000000000006,
          251.3999999999994,
          386.7000000000004,
          229.1499999999992,
          180.59999999999948,
          362.1500000000005,
          480.50000000000216,
          277.5999999999994,
          783.2500000000067,
          269.9999999999988,
          438.6500000000017,
          330.3500000000004,
          344.1000000000008,
          2278.7499999999395,
          629.7000000000047,
          187.29999999999959,
          277.70000000000044,
          973.4500000000118,
          310.1000000000003,
          219.6999999999993,
          272.09999999999974,
          222.5499999999995,
          431.60000000000286,
          298.5000000000001,
          176.54999999999953,
          234.04999999999978,
          345.9500000000006,
          197.34999999999968,
          242.2499999999993,
          205.79999999999924,
          432.25000000000136,
          245.39999999999947,
          381.25000000000114,
          227.09999999999883,
          396.7500000000015,
          308.3500000000001,
          337.25000000000034,
          273.2999999999995,
          228.7499999999993,
          2448.5499999999333,
          346.15000000000043,
          165.29999999999973,
          347.55,
          189.94999999999936,
          172.54999999999956,
          221.34999999999928,
          262.3499999999989,
          273.5999999999997,
          189.3999999999994,
          172.19999999999945,
          167.19999999999965,
          410.95000000000226,
          178.49999999999963,
          396.05000000000064,
          194.6499999999997,
          398.0000000000016,
          331.1000000000008,
          244.49999999999923,
          166.19999999999962,
          191.29999999999947,
          255.74999999999923,
          318.8000000000004,
          164.74999999999966,
          210.14999999999935,
          184.34999999999957,
          205.14999999999924,
          274.7499999999998,
          225.49999999999943,
          768.9000000000087,
          401.15000000000157,
          345.2000000000001,
          176.59999999999945,
          197.84999999999957,
          243.19999999999928,
          208.4999999999994,
          233.79999999999902,
          267.1500000000009,
          213.49999999999946,
          313.34999999999985,
          196.34999999999948,
          214.34999999999943,
          216.44999999999956,
          250.6499999999993,
          161.49999999999974,
          175.0499999999995,
          320.3500000000001,
          260.1499999999996,
          202.99999999999943,
          209.84999999999934,
          190.79999999999976,
          353.85000000000076
         ]
        }
       ],
       "layout": {
        "template": {
         "data": {
          "bar": [
           {
            "error_x": {
             "color": "#2a3f5f"
            },
            "error_y": {
             "color": "#2a3f5f"
            },
            "marker": {
             "line": {
              "color": "#E5ECF6",
              "width": 0.5
             },
             "pattern": {
              "fillmode": "overlay",
              "size": 10,
              "solidity": 0.2
             }
            },
            "type": "bar"
           }
          ],
          "barpolar": [
           {
            "marker": {
             "line": {
              "color": "#E5ECF6",
              "width": 0.5
             },
             "pattern": {
              "fillmode": "overlay",
              "size": 10,
              "solidity": 0.2
             }
            },
            "type": "barpolar"
           }
          ],
          "carpet": [
           {
            "aaxis": {
             "endlinecolor": "#2a3f5f",
             "gridcolor": "white",
             "linecolor": "white",
             "minorgridcolor": "white",
             "startlinecolor": "#2a3f5f"
            },
            "baxis": {
             "endlinecolor": "#2a3f5f",
             "gridcolor": "white",
             "linecolor": "white",
             "minorgridcolor": "white",
             "startlinecolor": "#2a3f5f"
            },
            "type": "carpet"
           }
          ],
          "choropleth": [
           {
            "colorbar": {
             "outlinewidth": 0,
             "ticks": ""
            },
            "type": "choropleth"
           }
          ],
          "contour": [
           {
            "colorbar": {
             "outlinewidth": 0,
             "ticks": ""
            },
            "colorscale": [
             [
              0,
              "#0d0887"
             ],
             [
              0.1111111111111111,
              "#46039f"
             ],
             [
              0.2222222222222222,
              "#7201a8"
             ],
             [
              0.3333333333333333,
              "#9c179e"
             ],
             [
              0.4444444444444444,
              "#bd3786"
             ],
             [
              0.5555555555555556,
              "#d8576b"
             ],
             [
              0.6666666666666666,
              "#ed7953"
             ],
             [
              0.7777777777777778,
              "#fb9f3a"
             ],
             [
              0.8888888888888888,
              "#fdca26"
             ],
             [
              1,
              "#f0f921"
             ]
            ],
            "type": "contour"
           }
          ],
          "contourcarpet": [
           {
            "colorbar": {
             "outlinewidth": 0,
             "ticks": ""
            },
            "type": "contourcarpet"
           }
          ],
          "heatmap": [
           {
            "colorbar": {
             "outlinewidth": 0,
             "ticks": ""
            },
            "colorscale": [
             [
              0,
              "#0d0887"
             ],
             [
              0.1111111111111111,
              "#46039f"
             ],
             [
              0.2222222222222222,
              "#7201a8"
             ],
             [
              0.3333333333333333,
              "#9c179e"
             ],
             [
              0.4444444444444444,
              "#bd3786"
             ],
             [
              0.5555555555555556,
              "#d8576b"
             ],
             [
              0.6666666666666666,
              "#ed7953"
             ],
             [
              0.7777777777777778,
              "#fb9f3a"
             ],
             [
              0.8888888888888888,
              "#fdca26"
             ],
             [
              1,
              "#f0f921"
             ]
            ],
            "type": "heatmap"
           }
          ],
          "heatmapgl": [
           {
            "colorbar": {
             "outlinewidth": 0,
             "ticks": ""
            },
            "colorscale": [
             [
              0,
              "#0d0887"
             ],
             [
              0.1111111111111111,
              "#46039f"
             ],
             [
              0.2222222222222222,
              "#7201a8"
             ],
             [
              0.3333333333333333,
              "#9c179e"
             ],
             [
              0.4444444444444444,
              "#bd3786"
             ],
             [
              0.5555555555555556,
              "#d8576b"
             ],
             [
              0.6666666666666666,
              "#ed7953"
             ],
             [
              0.7777777777777778,
              "#fb9f3a"
             ],
             [
              0.8888888888888888,
              "#fdca26"
             ],
             [
              1,
              "#f0f921"
             ]
            ],
            "type": "heatmapgl"
           }
          ],
          "histogram": [
           {
            "marker": {
             "pattern": {
              "fillmode": "overlay",
              "size": 10,
              "solidity": 0.2
             }
            },
            "type": "histogram"
           }
          ],
          "histogram2d": [
           {
            "colorbar": {
             "outlinewidth": 0,
             "ticks": ""
            },
            "colorscale": [
             [
              0,
              "#0d0887"
             ],
             [
              0.1111111111111111,
              "#46039f"
             ],
             [
              0.2222222222222222,
              "#7201a8"
             ],
             [
              0.3333333333333333,
              "#9c179e"
             ],
             [
              0.4444444444444444,
              "#bd3786"
             ],
             [
              0.5555555555555556,
              "#d8576b"
             ],
             [
              0.6666666666666666,
              "#ed7953"
             ],
             [
              0.7777777777777778,
              "#fb9f3a"
             ],
             [
              0.8888888888888888,
              "#fdca26"
             ],
             [
              1,
              "#f0f921"
             ]
            ],
            "type": "histogram2d"
           }
          ],
          "histogram2dcontour": [
           {
            "colorbar": {
             "outlinewidth": 0,
             "ticks": ""
            },
            "colorscale": [
             [
              0,
              "#0d0887"
             ],
             [
              0.1111111111111111,
              "#46039f"
             ],
             [
              0.2222222222222222,
              "#7201a8"
             ],
             [
              0.3333333333333333,
              "#9c179e"
             ],
             [
              0.4444444444444444,
              "#bd3786"
             ],
             [
              0.5555555555555556,
              "#d8576b"
             ],
             [
              0.6666666666666666,
              "#ed7953"
             ],
             [
              0.7777777777777778,
              "#fb9f3a"
             ],
             [
              0.8888888888888888,
              "#fdca26"
             ],
             [
              1,
              "#f0f921"
             ]
            ],
            "type": "histogram2dcontour"
           }
          ],
          "mesh3d": [
           {
            "colorbar": {
             "outlinewidth": 0,
             "ticks": ""
            },
            "type": "mesh3d"
           }
          ],
          "parcoords": [
           {
            "line": {
             "colorbar": {
              "outlinewidth": 0,
              "ticks": ""
             }
            },
            "type": "parcoords"
           }
          ],
          "pie": [
           {
            "automargin": true,
            "type": "pie"
           }
          ],
          "scatter": [
           {
            "fillpattern": {
             "fillmode": "overlay",
             "size": 10,
             "solidity": 0.2
            },
            "type": "scatter"
           }
          ],
          "scatter3d": [
           {
            "line": {
             "colorbar": {
              "outlinewidth": 0,
              "ticks": ""
             }
            },
            "marker": {
             "colorbar": {
              "outlinewidth": 0,
              "ticks": ""
             }
            },
            "type": "scatter3d"
           }
          ],
          "scattercarpet": [
           {
            "marker": {
             "colorbar": {
              "outlinewidth": 0,
              "ticks": ""
             }
            },
            "type": "scattercarpet"
           }
          ],
          "scattergeo": [
           {
            "marker": {
             "colorbar": {
              "outlinewidth": 0,
              "ticks": ""
             }
            },
            "type": "scattergeo"
           }
          ],
          "scattergl": [
           {
            "marker": {
             "colorbar": {
              "outlinewidth": 0,
              "ticks": ""
             }
            },
            "type": "scattergl"
           }
          ],
          "scattermapbox": [
           {
            "marker": {
             "colorbar": {
              "outlinewidth": 0,
              "ticks": ""
             }
            },
            "type": "scattermapbox"
           }
          ],
          "scatterpolar": [
           {
            "marker": {
             "colorbar": {
              "outlinewidth": 0,
              "ticks": ""
             }
            },
            "type": "scatterpolar"
           }
          ],
          "scatterpolargl": [
           {
            "marker": {
             "colorbar": {
              "outlinewidth": 0,
              "ticks": ""
             }
            },
            "type": "scatterpolargl"
           }
          ],
          "scatterternary": [
           {
            "marker": {
             "colorbar": {
              "outlinewidth": 0,
              "ticks": ""
             }
            },
            "type": "scatterternary"
           }
          ],
          "surface": [
           {
            "colorbar": {
             "outlinewidth": 0,
             "ticks": ""
            },
            "colorscale": [
             [
              0,
              "#0d0887"
             ],
             [
              0.1111111111111111,
              "#46039f"
             ],
             [
              0.2222222222222222,
              "#7201a8"
             ],
             [
              0.3333333333333333,
              "#9c179e"
             ],
             [
              0.4444444444444444,
              "#bd3786"
             ],
             [
              0.5555555555555556,
              "#d8576b"
             ],
             [
              0.6666666666666666,
              "#ed7953"
             ],
             [
              0.7777777777777778,
              "#fb9f3a"
             ],
             [
              0.8888888888888888,
              "#fdca26"
             ],
             [
              1,
              "#f0f921"
             ]
            ],
            "type": "surface"
           }
          ],
          "table": [
           {
            "cells": {
             "fill": {
              "color": "#EBF0F8"
             },
             "line": {
              "color": "white"
             }
            },
            "header": {
             "fill": {
              "color": "#C8D4E3"
             },
             "line": {
              "color": "white"
             }
            },
            "type": "table"
           }
          ]
         },
         "layout": {
          "annotationdefaults": {
           "arrowcolor": "#2a3f5f",
           "arrowhead": 0,
           "arrowwidth": 1
          },
          "autotypenumbers": "strict",
          "coloraxis": {
           "colorbar": {
            "outlinewidth": 0,
            "ticks": ""
           }
          },
          "colorscale": {
           "diverging": [
            [
             0,
             "#8e0152"
            ],
            [
             0.1,
             "#c51b7d"
            ],
            [
             0.2,
             "#de77ae"
            ],
            [
             0.3,
             "#f1b6da"
            ],
            [
             0.4,
             "#fde0ef"
            ],
            [
             0.5,
             "#f7f7f7"
            ],
            [
             0.6,
             "#e6f5d0"
            ],
            [
             0.7,
             "#b8e186"
            ],
            [
             0.8,
             "#7fbc41"
            ],
            [
             0.9,
             "#4d9221"
            ],
            [
             1,
             "#276419"
            ]
           ],
           "sequential": [
            [
             0,
             "#0d0887"
            ],
            [
             0.1111111111111111,
             "#46039f"
            ],
            [
             0.2222222222222222,
             "#7201a8"
            ],
            [
             0.3333333333333333,
             "#9c179e"
            ],
            [
             0.4444444444444444,
             "#bd3786"
            ],
            [
             0.5555555555555556,
             "#d8576b"
            ],
            [
             0.6666666666666666,
             "#ed7953"
            ],
            [
             0.7777777777777778,
             "#fb9f3a"
            ],
            [
             0.8888888888888888,
             "#fdca26"
            ],
            [
             1,
             "#f0f921"
            ]
           ],
           "sequentialminus": [
            [
             0,
             "#0d0887"
            ],
            [
             0.1111111111111111,
             "#46039f"
            ],
            [
             0.2222222222222222,
             "#7201a8"
            ],
            [
             0.3333333333333333,
             "#9c179e"
            ],
            [
             0.4444444444444444,
             "#bd3786"
            ],
            [
             0.5555555555555556,
             "#d8576b"
            ],
            [
             0.6666666666666666,
             "#ed7953"
            ],
            [
             0.7777777777777778,
             "#fb9f3a"
            ],
            [
             0.8888888888888888,
             "#fdca26"
            ],
            [
             1,
             "#f0f921"
            ]
           ]
          },
          "colorway": [
           "#636efa",
           "#EF553B",
           "#00cc96",
           "#ab63fa",
           "#FFA15A",
           "#19d3f3",
           "#FF6692",
           "#B6E880",
           "#FF97FF",
           "#FECB52"
          ],
          "font": {
           "color": "#2a3f5f"
          },
          "geo": {
           "bgcolor": "white",
           "lakecolor": "white",
           "landcolor": "#E5ECF6",
           "showlakes": true,
           "showland": true,
           "subunitcolor": "white"
          },
          "hoverlabel": {
           "align": "left"
          },
          "hovermode": "closest",
          "mapbox": {
           "style": "light"
          },
          "paper_bgcolor": "white",
          "plot_bgcolor": "#E5ECF6",
          "polar": {
           "angularaxis": {
            "gridcolor": "white",
            "linecolor": "white",
            "ticks": ""
           },
           "bgcolor": "#E5ECF6",
           "radialaxis": {
            "gridcolor": "white",
            "linecolor": "white",
            "ticks": ""
           }
          },
          "scene": {
           "xaxis": {
            "backgroundcolor": "#E5ECF6",
            "gridcolor": "white",
            "gridwidth": 2,
            "linecolor": "white",
            "showbackground": true,
            "ticks": "",
            "zerolinecolor": "white"
           },
           "yaxis": {
            "backgroundcolor": "#E5ECF6",
            "gridcolor": "white",
            "gridwidth": 2,
            "linecolor": "white",
            "showbackground": true,
            "ticks": "",
            "zerolinecolor": "white"
           },
           "zaxis": {
            "backgroundcolor": "#E5ECF6",
            "gridcolor": "white",
            "gridwidth": 2,
            "linecolor": "white",
            "showbackground": true,
            "ticks": "",
            "zerolinecolor": "white"
           }
          },
          "shapedefaults": {
           "line": {
            "color": "#2a3f5f"
           }
          },
          "ternary": {
           "aaxis": {
            "gridcolor": "white",
            "linecolor": "white",
            "ticks": ""
           },
           "baxis": {
            "gridcolor": "white",
            "linecolor": "white",
            "ticks": ""
           },
           "bgcolor": "#E5ECF6",
           "caxis": {
            "gridcolor": "white",
            "linecolor": "white",
            "ticks": ""
           }
          },
          "title": {
           "x": 0.05
          },
          "xaxis": {
           "automargin": true,
           "gridcolor": "white",
           "linecolor": "white",
           "ticks": "",
           "title": {
            "standoff": 15
           },
           "zerolinecolor": "white",
           "zerolinewidth": 2
          },
          "yaxis": {
           "automargin": true,
           "gridcolor": "white",
           "linecolor": "white",
           "ticks": "",
           "title": {
            "standoff": 15
           },
           "zerolinecolor": "white",
           "zerolinewidth": 2
          }
         }
        },
        "title": {
         "text": "Gráfico de Barras Interativo"
        },
        "xaxis": {
         "title": {
          "text": "Palavras"
         }
        },
        "yaxis": {
         "title": {
          "text": "Peso"
         }
        }
       }
      }
     },
     "metadata": {},
     "output_type": "display_data"
    }
   ],
   "source": [
    "import plotly.graph_objects as go\n",
    "\n",
    "\n",
    "\n",
    "frequencias = df[\"keywords\"].iloc[linha].copy()\n",
    "frequencias = {word: data for word, data in frequencias.items() if data[\"filter\"] >= 0.1}\n",
    "\n",
    "# Step 1: Extract words, counts, and classes\n",
    "palavras = list(frequencias.keys())\n",
    "valores = [data['weight'] for data in frequencias.values()]\n",
    "classes = [list(data['type']) for data in frequencias.values()]\n",
    "\n",
    "\n",
    "# Step 2: Define color mapping for classes\n",
    "color_map = {\n",
    "    'ORG': 'blue',\n",
    "    'PER': 'green',\n",
    "    'MISC': 'red',\n",
    "    \"WORD\": \"pink\",\n",
    "    \"LOC\": \"black\"\n",
    "}\n",
    "\n",
    "# Step 3: Assign colors based on class\n",
    "marker_colors = [\n",
    "    color_map[class_name[0]] if isinstance(class_name, list) else color_map[class_name]\n",
    "    for class_name in classes\n",
    "]\n",
    "# Step 4: Create the bar chart\n",
    "fig = go.Figure(data=[\n",
    "    go.Bar(\n",
    "        x=palavras,\n",
    "        y=valores,\n",
    "        marker_color=marker_colors,\n",
    "        hovertemplate=\"<b>%{x}</b><br>Weight: %{y}<br>Class: %{customdata}<extra></extra>\",\n",
    "        customdata=classes  # Adding class data for hover information\n",
    "    )\n",
    "])\n",
    "\n",
    "fig.update_layout(\n",
    "    title='Gráfico de Barras Interativo',\n",
    "    xaxis_title='Palavras',\n",
    "    yaxis_title='Peso',\n",
    ")\n",
    "\n",
    "fig.show()\n"
   ]
  },
  {
   "cell_type": "markdown",
   "metadata": {},
   "source": [
    "# scatter\n",
    "\n",
    "sentimentos vs frequencia, cada scatter é uma palavra e pode se passar o rato em cima"
   ]
  },
  {
   "cell_type": "code",
   "execution_count": 4,
   "metadata": {},
   "outputs": [
    {
     "data": {
      "application/vnd.jupyter.widget-view+json": {
       "model_id": "f18bc10aa5194c47b30977b084302e4a",
       "version_major": 2,
       "version_minor": 0
      },
      "text/plain": [
       "FigureWidget({\n",
       "    'data': [{'hovertemplate': '<b>%{text}</b><br>Sentimento: %{x}<br>Contagem: %{y}<br><extra></extra>',\n",
       "              'hovertext': [25 de abril, ABN, ABN Amro, ..., áudio, âmbito,\n",
       "                            órgãos],\n",
       "              'mode': 'markers+text',\n",
       "              'text': [25 de abril, ABN, ABN Amro, ..., áudio, âmbito, órgãos],\n",
       "              'textposition': 'middle center',\n",
       "              'type': 'scatter',\n",
       "              'uid': 'ddeac6aa-18ec-46d0-a686-839ddb7fc2ac',\n",
       "              'x': [0.4, 0.67, 0.59, ..., 0.13, 0.46, 0.37],\n",
       "              'y': [11.0, 7.0, 7.0, ..., 44.0, 67, 37]}],\n",
       "    'layout': {'shapes': [{'line': {'color': 'red', 'dash': 'dash', 'width': 2},\n",
       "                           'type': 'line',\n",
       "                           'x0': 0,\n",
       "                           'x1': 0,\n",
       "                           'y0': 5.0,\n",
       "                           'y1': 5170}],\n",
       "               'template': '...',\n",
       "               'title': {'text': 'Interactive Scatter Plot of Sentimento vs Contagem'},\n",
       "               'xaxis': {'range': [-1, 1], 'title': {'text': 'Sentimento'}},\n",
       "               'yaxis': {'title': {'text': 'Contagem'}, 'type': 'log'}}\n",
       "})"
      ]
     },
     "metadata": {},
     "output_type": "display_data"
    },
    {
     "data": {
      "application/vnd.jupyter.widget-view+json": {
       "model_id": "7932335f676e475d88cd4472a11e6f0c",
       "version_major": 2,
       "version_minor": 0
      },
      "text/plain": [
       "interactive(children=(FloatSlider(value=0.01, description='Filter:', max=0.25, step=0.01), Output()), _dom_cla…"
      ]
     },
     "metadata": {},
     "output_type": "display_data"
    }
   ],
   "source": [
    "import plotly.graph_objects as go\n",
    "import ipywidgets as widgets\n",
    "from IPython.display import display\n",
    "\n",
    "# Assum\n",
    "fig = go.FigureWidget()\n",
    "\n",
    "def scatterplotint(filter):\n",
    "    frequencias = df[\"keywords\"].iloc[linha].copy()\n",
    "    frequencias = {word: data for word, data in frequencias.items() if data[\"filter\"] >= filter}\n",
    "\n",
    "    sentimento = [round(word[\"sentiment\"], 2) for word in frequencias.values()]\n",
    "    contagem = [word[\"count\"] for word in frequencias.values()]\n",
    "    palavra = list(frequencias.keys())\n",
    "\n",
    "    # Update the existing figure with new data\n",
    "    with fig.batch_update():\n",
    "        # Clear previous traces\n",
    "        fig.data = []\n",
    "        \n",
    "        # Add new scatter trace\n",
    "        fig.add_trace(go.Scatter(\n",
    "            x=sentimento,\n",
    "            y=contagem,\n",
    "            text=palavra,\n",
    "            mode='markers+text',\n",
    "            textposition='middle center',\n",
    "            hovertext=palavra,\n",
    "            hovertemplate=\"<b>%{text}</b><br>\" +  # Display the word\n",
    "                          \"Sentimento: %{x}<br>\" +  # Display sentiment value (x-axis)\n",
    "                          \"Contagem: %{y}<br>\" + # Display count value (y-axis)\n",
    "                          \"<extra></extra>\"  # Optional: hides the extra trace info\n",
    "        ))\n",
    "\n",
    "\n",
    "        fig.update_layout(\n",
    "            xaxis=dict(range=[-1, 1]),\n",
    "            title=\"Interactive Scatter Plot of Sentimento vs Contagem\",\n",
    "            xaxis_title=\"Sentimento\",\n",
    "            yaxis_title=\"Contagem\",\n",
    "            yaxis=dict(type=\"log\"),  \n",
    "            shapes=[\n",
    "                # Add a vertical line at x=0\n",
    "                dict(\n",
    "                    type='line',\n",
    "                    x0=0, x1=0,\n",
    "                    y0=min(contagem), y1=max(contagem),  \n",
    "                    line=dict(color=\"red\", dash=\"dash\", width=2)\n",
    "                )\n",
    "            ]\n",
    "        )\n",
    "\n",
    "# Create the slider for float values\n",
    "slider = widgets.FloatSlider(\n",
    "    value=0.01,            \n",
    "    min=0.00,             \n",
    "    max=0.25,             \n",
    "    step=0.01,             \n",
    "    description='Filter:', \n",
    "    continuous_update=True  \n",
    ")\n",
    "\n",
    "interactive_widget = widgets.interactive(scatterplotint, filter=slider)\n",
    "\n",
    "display(fig)\n",
    "display(interactive_widget)\n"
   ]
  },
  {
   "cell_type": "code",
   "execution_count": null,
   "metadata": {},
   "outputs": [],
   "source": []
  }
 ],
 "metadata": {
  "kernelspec": {
   "display_name": "fcdProj",
   "language": "python",
   "name": "python3"
  },
  "language_info": {
   "codemirror_mode": {
    "name": "ipython",
    "version": 3
   },
   "file_extension": ".py",
   "mimetype": "text/x-python",
   "name": "python",
   "nbconvert_exporter": "python",
   "pygments_lexer": "ipython3",
   "version": "3.10.15"
  }
 },
 "nbformat": 4,
 "nbformat_minor": 2
}
