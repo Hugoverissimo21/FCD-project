{
 "cells": [
  {
   "cell_type": "markdown",
   "metadata": {},
   "source": [
    "# SAVE THE KEYWORDS TO A JSON"
   ]
  },
  {
   "cell_type": "code",
   "execution_count": 19,
   "metadata": {},
   "outputs": [],
   "source": [
    "import pandas as pd\n",
    "import json\n",
    "\n",
    "df = pd.read_parquet('data05.parquet')\n",
    "df[\"keywords\"] = df[\"keywords\"].map(lambda dic: {key: dic[key] for key in dic.keys() if dic[key] is not None})"
   ]
  },
  {
   "cell_type": "code",
   "execution_count": 20,
   "metadata": {},
   "outputs": [
    {
     "name": "stdout",
     "output_type": "stream",
     "text": [
      "Dictionary saved as JSON to 'data/kwrd_bcp.json'\n",
      "Dictionary saved as JSON to 'data/kwrd_galp.json'\n",
      "Dictionary saved as JSON to 'data/kwrd_edp.json'\n",
      "Dictionary saved as JSON to 'data/kwrd_sonae.json'\n",
      "Dictionary saved as JSON to 'data/kwrd_motgil.json'\n"
     ]
    }
   ],
   "source": [
    "file_name = [\"bcp\", \"galp\", \"edp\", \"sonae\", \"motgil\"]\n",
    "for row in range(len(df)):\n",
    "    name = file_name[row]\n",
    "    my_dict = df.iloc[row,-1]\n",
    "\n",
    "    # process the keywords\n",
    "    for key, values in my_dict.items():\n",
    "        for dat, value in values[\"date\"].copy().items():\n",
    "            if value == None:\n",
    "                del my_dict[key][\"date\"][dat]\n",
    "        try:\n",
    "            my_dict[key][\"news\"] = my_dict[key][\"news\"].tolist()\n",
    "        except:\n",
    "            pass\n",
    "        try:\n",
    "            my_dict[key][\"type\"] = my_dict[key][\"type\"].tolist()\n",
    "        except:\n",
    "            pass\n",
    "\n",
    "    # Save the dictionary to a file in JSON format\n",
    "    with open(f'data/kwrd_{name}.json', 'w', encoding=\"utf-8\") as json_file:\n",
    "        json.dump(my_dict, json_file, indent=4, ensure_ascii=False)\n",
    "\n",
    "    print(f\"Dictionary saved as JSON to 'data/kwrd_{name}.json'\")"
   ]
  },
  {
   "cell_type": "markdown",
   "metadata": {},
   "source": [
    "# SAVE THE NEWS TO A JSON"
   ]
  },
  {
   "cell_type": "code",
   "execution_count": 21,
   "metadata": {},
   "outputs": [
    {
     "name": "stdout",
     "output_type": "stream",
     "text": [
      "Dictionary saved as JSON to 'data/news_bcp.json'\n",
      "Dictionary saved as JSON to 'data/news_galp.json'\n",
      "Dictionary saved as JSON to 'data/news_edp.json'\n",
      "Dictionary saved as JSON to 'data/news_sonae.json'\n",
      "Dictionary saved as JSON to 'data/news_motgil.json'\n"
     ]
    }
   ],
   "source": [
    "file_name = [\"bcp\", \"galp\", \"edp\", \"sonae\", \"motgil\"]\n",
    "for row in range(len(df)):\n",
    "    dicio = {}\n",
    "    name = file_name[row]\n",
    "    for new in df.iloc[row][\"news\"]:\n",
    "        new_real_link = new[\"linkToArchive\"].replace(\"/wayback/\", \"/noFrame/replay/\")\n",
    "        dicio[new_real_link] = {}\n",
    "        keywords = []\n",
    "        for key in new[\"newsNER\"].keys():\n",
    "            try:\n",
    "                for word in new[\"newsNER\"][key]:\n",
    "                    keywords.append(word)\n",
    "            except:\n",
    "                pass\n",
    "        dicio[new_real_link][\"keywords\"] = keywords\n",
    "        dicio[new_real_link][\"probability\"] = new[\"newsProbability\"]\n",
    "        dicio[new_real_link][\"sentiment\"] = new[\"newsSentiment\"]\n",
    "        dicio[new_real_link][\"source\"] = new[\"newsSource\"]\n",
    "        dicio[new_real_link][\"tstamp\"] = new[\"tstamp\"]\n",
    "\n",
    "    # Save the dictionary to a file in JSON format\n",
    "    with open(f'data/news_{name}.json', 'w', encoding=\"utf-8\") as json_file:\n",
    "        json.dump(dicio, json_file, indent=4, ensure_ascii=False)\n",
    "\n",
    "    print(f\"Dictionary saved as JSON to 'data/news_{name}.json'\")"
   ]
  },
  {
   "cell_type": "code",
   "execution_count": null,
   "metadata": {},
   "outputs": [],
   "source": []
  }
 ],
 "metadata": {
  "kernelspec": {
   "display_name": "fcdProj",
   "language": "python",
   "name": "python3"
  },
  "language_info": {
   "codemirror_mode": {
    "name": "ipython",
    "version": 3
   },
   "file_extension": ".py",
   "mimetype": "text/x-python",
   "name": "python",
   "nbconvert_exporter": "python",
   "pygments_lexer": "ipython3",
   "version": "3.10.15"
  }
 },
 "nbformat": 4,
 "nbformat_minor": 2
}
