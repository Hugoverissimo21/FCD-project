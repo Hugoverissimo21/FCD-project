{
 "cells": [
  {
   "cell_type": "markdown",
   "metadata": {},
   "source": [
    "## ideia - conceitos associados a empresas portuguesas\n",
    "\n",
    "- decidir X empresas portuguesas\n",
    "\n",
    "- analisar noticias sobre as mesmas e encontrar palavras/pessoas/temas associadas (fazer grafo) [ver se é positivo / negativo o termo/pessoa]\n",
    "\n",
    "- tendo por base a tendência dessas palavras (+- faladas), analisar performance da empresa\n",
    "\n",
    "----\n",
    "\n",
    "Trabalho tem de ter 3 partes:\n",
    "1. project structure + data acquisition\n",
    "2. exploratory data analysis and visualization\n",
    "3. results & discussion\n",
    "\n",
    "Fonte de Dados: arquivo.pt (https://github.com/arquivo/pwa-technologies/wiki/Arquivo.pt-API)\n",
    "\n",
    "onde fui buscar site de notícias: https://www.kadaza.pt\n",
    "\n",
    "---\n",
    "\n",
    "pode ser preciso filtrar sites, pq não queremos primeiras páginas de notícias"
   ]
  },
  {
   "cell_type": "code",
   "execution_count": 1,
   "metadata": {},
   "outputs": [],
   "source": [
    "import pandas as pd\n",
    "import requests\n",
    "from bs4 import BeautifulSoup"
   ]
  },
  {
   "cell_type": "markdown",
   "metadata": {},
   "source": [
    "# which companies to study\n",
    "\n",
    "some PSI-20 companies"
   ]
  },
  {
   "cell_type": "code",
   "execution_count": 2,
   "metadata": {},
   "outputs": [
    {
     "data": {
      "text/html": [
       "<div>\n",
       "<style scoped>\n",
       "    .dataframe tbody tr th:only-of-type {\n",
       "        vertical-align: middle;\n",
       "    }\n",
       "\n",
       "    .dataframe tbody tr th {\n",
       "        vertical-align: top;\n",
       "    }\n",
       "\n",
       "    .dataframe thead th {\n",
       "        text-align: right;\n",
       "    }\n",
       "</style>\n",
       "<table border=\"1\" class=\"dataframe\">\n",
       "  <thead>\n",
       "    <tr style=\"text-align: right;\">\n",
       "      <th></th>\n",
       "      <th>aliases</th>\n",
       "    </tr>\n",
       "    <tr>\n",
       "      <th>companies</th>\n",
       "      <th></th>\n",
       "    </tr>\n",
       "  </thead>\n",
       "  <tbody>\n",
       "    <tr>\n",
       "      <th>Banco Comercial Português</th>\n",
       "      <td>[Banco Comercial Português, BCP]</td>\n",
       "    </tr>\n",
       "    <tr>\n",
       "      <th>Galp Energia</th>\n",
       "      <td>[Galp Energia, GALP]</td>\n",
       "    </tr>\n",
       "    <tr>\n",
       "      <th>EDP</th>\n",
       "      <td>[EDP, Energias de Portugal, Electricidade de P...</td>\n",
       "    </tr>\n",
       "    <tr>\n",
       "      <th>Sonae</th>\n",
       "      <td>[Sonae, SON]</td>\n",
       "    </tr>\n",
       "    <tr>\n",
       "      <th>Mota-Engil</th>\n",
       "      <td>[Mota-Engil, EGL]</td>\n",
       "    </tr>\n",
       "  </tbody>\n",
       "</table>\n",
       "</div>"
      ],
      "text/plain": [
       "                                                                     aliases\n",
       "companies                                                                   \n",
       "Banco Comercial Português                   [Banco Comercial Português, BCP]\n",
       "Galp Energia                                            [Galp Energia, GALP]\n",
       "EDP                        [EDP, Energias de Portugal, Electricidade de P...\n",
       "Sonae                                                           [Sonae, SON]\n",
       "Mota-Engil                                                 [Mota-Engil, EGL]"
      ]
     },
     "execution_count": 2,
     "metadata": {},
     "output_type": "execute_result"
    }
   ],
   "source": [
    "def datav1(companies):\n",
    "    \"\"\"\n",
    "    this is the function where we choose the companies which will be in study\n",
    "    -\n",
    "    companies should be a dictionary\n",
    "        {\"company1\": [aliases or other names the company is or was known by],\n",
    "        \"company2\": [...]}\n",
    "    this data will be saved into a parquet file for future use\n",
    "    \"\"\"\n",
    "    parquet = {\"companies\": [], \"aliases\": []}\n",
    "    for company in companies.keys():\n",
    "        parquet[\"companies\"].append(company)\n",
    "        parquet[\"aliases\"].append(companies[company])\n",
    "\n",
    "    df = pd.DataFrame(parquet).set_index(\"companies\")\n",
    "    df.to_parquet(\"data01.parquet\")\n",
    "    return df\n",
    "\n",
    "\n",
    "companies = {\"Banco Comercial Português\": [\"Banco Comercial Português\", \"BCP\"],\n",
    "             \"Galp Energia\": [\"Galp Energia\", \"GALP\"],\n",
    "             \"EDP\": [\"EDP\", \"Energias de Portugal\", \"Electricidade de Portugal\"],\n",
    "             \"Sonae\": [\"Sonae\", \"SON\"],\n",
    "             \"Mota-Engil\": [\"Mota-Engil\", \"EGL\"]}\n",
    "\n",
    "datav1(companies)"
   ]
  },
  {
   "cell_type": "markdown",
   "metadata": {},
   "source": [
    "# where to grab the news from"
   ]
  },
  {
   "cell_type": "code",
   "execution_count": 3,
   "metadata": {},
   "outputs": [
    {
     "data": {
      "text/plain": [
       "'www.publico.pt,publico.pt,www.dn.pt,www.rtp.pt,rpt.pt,www.cmjornal.pt,www.iol.pt,www.tvi24.iol.pt,tvi24.iol.pt,noticias.sapo.pt,observador.pt,expresso.pt,www.expresso.pt,sol.sapo.pt,www.jornaldenegocios.pt,www.jn.pt,jn.pt,ionline.pt,sicnoticias.pt,www.sicnoticias.pt,www.lux.iol.pt,www.ionline.pt,news.google.pt,www.dinheirovivo.pt,www.aeiou.pt,aeiou.pt,www.tsf.pt,tsf.pt,www.sabado.pt,dnoticias.pt,www.dnoticias.pt,economico.sapo.pt,cnnportugal.iol.pt'"
      ]
     },
     "execution_count": 3,
     "metadata": {},
     "output_type": "execute_result"
    }
   ],
   "source": [
    "def news(txtFile = 'noticias.txt'):\n",
    "    \"\"\"\n",
    "    grab the news websites from a text file\n",
    "    \"\"\"\n",
    "    with open(txtFile, 'r') as file:\n",
    "        links = file.read().splitlines()\n",
    "    return \",\".join(links)\n",
    "\n",
    "news()"
   ]
  },
  {
   "cell_type": "markdown",
   "metadata": {},
   "source": [
    "# api requests in 3 years intervals\n",
    "\n",
    "1 year to **3 years** is long enough to smooth out short-term fluctuations and identify underlying trends. Charts with weekly or monthly intervals over these periods show developments over full economic/market cycles."
   ]
  },
  {
   "cell_type": "code",
   "execution_count": 4,
   "metadata": {},
   "outputs": [],
   "source": [
    "def api_request(search, websites, date):\n",
    "    \"\"\"\n",
    "    search: expression/word (what to look for)\n",
    "    websites: comma separated websites (where to look for)\n",
    "    date: list such as [20030101, 20031231] (when to look for)\n",
    "    -\n",
    "    returns the responde_items from arquivo.pt api\n",
    "    \"\"\"\n",
    "\n",
    "    search = f\"q=%22{search.replace(' ', '%20')}%22\"\n",
    "    websites = f\"&siteSearch={websites}\"\n",
    "    date = f\"&from={date[0]}&to={date[1]}\"\n",
    "    \n",
    "    url = (\n",
    "        f\"https://arquivo.pt/textsearch?{search}{websites}{date}\"\n",
    "        \"&fields=title,linkToArchive,tstamp,linkToExtractedText,snippet\"\n",
    "        \"&maxItems=500&dedupValue=25&dedupField=url&prettyPrint=false&type=html\"\n",
    "        )\n",
    "\n",
    "    req = requests.get(url)\n",
    "    json = req.json()\n",
    "    data = json[\"response_items\"]\n",
    "    if len(data) == 500:\n",
    "        print(f\"You might have lost some data: {search, date}\")\n",
    "\n",
    "    return data"
   ]
  },
  {
   "cell_type": "code",
   "execution_count": 5,
   "metadata": {},
   "outputs": [
    {
     "name": "stdout",
     "output_type": "stream",
     "text": [
      "Processing cluster: 2000\n",
      "Processing company: Banco Comercial Português; Galp Energia; EDP; Sonae; Mota-Engil; 2000 OK.\n",
      "Processing cluster: 2003\n",
      "Processing company: Banco Comercial Português; Galp Energia; EDP; Sonae; Mota-Engil; 2003 OK.\n",
      "Processing cluster: 2006\n",
      "Processing company: Banco Comercial Português; Galp Energia; EDP; Sonae; Mota-Engil; 2006 OK.\n",
      "Processing cluster: 2009\n",
      "Processing company: Banco Comercial Português; Galp Energia; EDP; Sonae; Mota-Engil; 2009 OK.\n",
      "Processing cluster: 2012\n",
      "Processing company: Banco Comercial Português; Galp Energia; EDP; Sonae; Mota-Engil; 2012 OK.\n",
      "Processing cluster: 2015\n",
      "Processing company: Banco Comercial Português; Galp Energia; EDP; Sonae; Mota-Engil; 2015 OK.\n",
      "Processing cluster: 2018\n",
      "Processing company: Banco Comercial Português; Galp Energia; EDP; Sonae; Mota-Engil; 2018 OK.\n",
      "Finished.\n"
     ]
    }
   ],
   "source": [
    "df = pd.read_parquet(\"data01.parquet\",)\n",
    "websites = news()\n",
    "\n",
    "for cluster in range(2000, 2021, 3):\n",
    "    api_cluster = [] #reset api_cluster for each cluster (group of 3 year)\n",
    "    print(f\"Processing cluster: {cluster}\")\n",
    "    print(\"Processing company:\", end=\" \")\n",
    "    for company_aliases in df[\"aliases\"]:\n",
    "        api_company = [] #reset api_company for each company\n",
    "        print(f\"{company_aliases[0]}\", end = \"; \")\n",
    "\n",
    "        for alias in company_aliases:\n",
    "            for year in range(cluster, cluster + 3):                        \n",
    "                \n",
    "                api_aliasS1 = api_request(alias, websites, [int(f\"{year}0101\"), int(f\"{year}0630\")])\n",
    "                api_aliasS2 = api_request(alias, websites, [int(f\"{year}0701\"), int(f\"{year}1231\")])\n",
    "                api_company += api_aliasS1 + api_aliasS2\n",
    "\n",
    "        api_cluster.append(api_company)\n",
    "\n",
    "\n",
    "    df[f\"api.{cluster}\"] = api_cluster\n",
    "    print(f\"{cluster} OK.\")\n",
    "\n",
    "df.to_parquet(\"data02.parquet\")\n",
    "print(\"Finished.\")"
   ]
  },
  {
   "cell_type": "code",
   "execution_count": 6,
   "metadata": {},
   "outputs": [
    {
     "data": {
      "text/html": [
       "<div>\n",
       "<style scoped>\n",
       "    .dataframe tbody tr th:only-of-type {\n",
       "        vertical-align: middle;\n",
       "    }\n",
       "\n",
       "    .dataframe tbody tr th {\n",
       "        vertical-align: top;\n",
       "    }\n",
       "\n",
       "    .dataframe thead th {\n",
       "        text-align: right;\n",
       "    }\n",
       "</style>\n",
       "<table border=\"1\" class=\"dataframe\">\n",
       "  <thead>\n",
       "    <tr style=\"text-align: right;\">\n",
       "      <th></th>\n",
       "      <th>aliases</th>\n",
       "      <th>api.2000</th>\n",
       "      <th>api.2003</th>\n",
       "      <th>api.2006</th>\n",
       "      <th>api.2009</th>\n",
       "      <th>api.2012</th>\n",
       "      <th>api.2015</th>\n",
       "      <th>api.2018</th>\n",
       "    </tr>\n",
       "    <tr>\n",
       "      <th>companies</th>\n",
       "      <th></th>\n",
       "      <th></th>\n",
       "      <th></th>\n",
       "      <th></th>\n",
       "      <th></th>\n",
       "      <th></th>\n",
       "      <th></th>\n",
       "      <th></th>\n",
       "    </tr>\n",
       "  </thead>\n",
       "  <tbody>\n",
       "    <tr>\n",
       "      <th>Banco Comercial Português</th>\n",
       "      <td>2</td>\n",
       "      <td>153</td>\n",
       "      <td>241</td>\n",
       "      <td>183</td>\n",
       "      <td>561</td>\n",
       "      <td>1074</td>\n",
       "      <td>1430</td>\n",
       "      <td>954</td>\n",
       "    </tr>\n",
       "    <tr>\n",
       "      <th>Galp Energia</th>\n",
       "      <td>2</td>\n",
       "      <td>128</td>\n",
       "      <td>389</td>\n",
       "      <td>272</td>\n",
       "      <td>582</td>\n",
       "      <td>1156</td>\n",
       "      <td>1391</td>\n",
       "      <td>968</td>\n",
       "    </tr>\n",
       "    <tr>\n",
       "      <th>EDP</th>\n",
       "      <td>3</td>\n",
       "      <td>133</td>\n",
       "      <td>339</td>\n",
       "      <td>173</td>\n",
       "      <td>653</td>\n",
       "      <td>1232</td>\n",
       "      <td>1970</td>\n",
       "      <td>1096</td>\n",
       "    </tr>\n",
       "    <tr>\n",
       "      <th>Sonae</th>\n",
       "      <td>2</td>\n",
       "      <td>192</td>\n",
       "      <td>435</td>\n",
       "      <td>279</td>\n",
       "      <td>502</td>\n",
       "      <td>1215</td>\n",
       "      <td>1705</td>\n",
       "      <td>1196</td>\n",
       "    </tr>\n",
       "    <tr>\n",
       "      <th>Mota-Engil</th>\n",
       "      <td>2</td>\n",
       "      <td>4</td>\n",
       "      <td>83</td>\n",
       "      <td>60</td>\n",
       "      <td>195</td>\n",
       "      <td>538</td>\n",
       "      <td>828</td>\n",
       "      <td>560</td>\n",
       "    </tr>\n",
       "  </tbody>\n",
       "</table>\n",
       "</div>"
      ],
      "text/plain": [
       "                           aliases  api.2000  api.2003  api.2006  api.2009  \\\n",
       "companies                                                                    \n",
       "Banco Comercial Português        2       153       241       183       561   \n",
       "Galp Energia                     2       128       389       272       582   \n",
       "EDP                              3       133       339       173       653   \n",
       "Sonae                            2       192       435       279       502   \n",
       "Mota-Engil                       2         4        83        60       195   \n",
       "\n",
       "                           api.2012  api.2015  api.2018  \n",
       "companies                                                \n",
       "Banco Comercial Português      1074      1430       954  \n",
       "Galp Energia                   1156      1391       968  \n",
       "EDP                            1232      1970      1096  \n",
       "Sonae                          1215      1705      1196  \n",
       "Mota-Engil                      538       828       560  "
      ]
     },
     "execution_count": 6,
     "metadata": {},
     "output_type": "execute_result"
    }
   ],
   "source": [
    "df.map(lambda x: len(x))"
   ]
  },
  {
   "cell_type": "markdown",
   "metadata": {},
   "source": [
    "# if the url is the same, check the content to see if its repeated\n",
    "\n",
    "because we used `&dedupValue=25&dedupField=url` and different aliases, we might have repeated data, so it's important to check for it\n",
    "\n",
    "and also check for extractedText that doesn't have our aliases"
   ]
  },
  {
   "cell_type": "code",
   "execution_count": null,
   "metadata": {},
   "outputs": [],
   "source": []
  }
 ],
 "metadata": {
  "kernelspec": {
   "display_name": "Python 3",
   "language": "python",
   "name": "python3"
  },
  "language_info": {
   "codemirror_mode": {
    "name": "ipython",
    "version": 3
   },
   "file_extension": ".py",
   "mimetype": "text/x-python",
   "name": "python",
   "nbconvert_exporter": "python",
   "pygments_lexer": "ipython3",
   "version": "3.10.13"
  }
 },
 "nbformat": 4,
 "nbformat_minor": 2
}
