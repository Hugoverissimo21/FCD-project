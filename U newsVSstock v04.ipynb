{
 "cells": [
  {
   "cell_type": "markdown",
   "metadata": {},
   "source": [
    "## notas\n",
    "\n",
    "- ~~escala so para o sentimento~~\n",
    "\n",
    "- remover legenda dos 4 graficos juntos no slide seguinte\n",
    "\n",
    "- voltar a correr tudo, api esgotou o limite por hoje\n",
    "\n",
    "- acabar, guardar, promenores"
   ]
  },
  {
   "cell_type": "code",
   "execution_count": 1,
   "metadata": {},
   "outputs": [],
   "source": [
    "import pandas as pd\n",
    "import requests\n",
    "import matplotlib.pyplot as plt\n",
    "import numpy as np\n",
    "import plotly.graph_objects as go\n",
    "from datetime import datetime, timedelta"
   ]
  },
  {
   "cell_type": "markdown",
   "metadata": {},
   "source": [
    "---\n",
    "---\n",
    "---"
   ]
  },
  {
   "cell_type": "code",
   "execution_count": 35,
   "metadata": {},
   "outputs": [
    {
     "data": {
      "application/vnd.plotly.v1+json": {
       "config": {
        "plotlyServerURL": "https://plot.ly"
       },
       "data": [
        {
         "mode": "lines",
         "name": "Stock Price",
         "showlegend": true,
         "type": "scatter",
         "x": [
          "2005-02-01T00:00:00",
          "2005-03-01T00:00:00",
          "2005-04-01T00:00:00",
          "2005-05-01T00:00:00",
          "2005-06-01T00:00:00",
          "2005-07-01T00:00:00",
          "2005-08-01T00:00:00",
          "2005-09-01T00:00:00",
          "2005-10-01T00:00:00",
          "2005-11-01T00:00:00",
          "2005-12-01T00:00:00",
          "2006-01-01T00:00:00",
          "2006-02-01T00:00:00",
          "2006-03-01T00:00:00",
          "2006-04-01T00:00:00",
          "2006-05-01T00:00:00",
          "2006-06-01T00:00:00",
          "2006-07-01T00:00:00",
          "2006-08-01T00:00:00",
          "2006-09-01T00:00:00",
          "2006-10-01T00:00:00",
          "2006-11-01T00:00:00",
          "2006-12-01T00:00:00",
          "2007-01-01T00:00:00",
          "2007-02-01T00:00:00",
          "2007-03-01T00:00:00",
          "2007-04-01T00:00:00",
          "2007-05-01T00:00:00",
          "2007-06-01T00:00:00",
          "2007-07-01T00:00:00",
          "2007-08-01T00:00:00",
          "2007-09-01T00:00:00",
          "2007-10-01T00:00:00",
          "2007-11-01T00:00:00",
          "2007-12-01T00:00:00",
          "2008-01-01T00:00:00",
          "2008-02-01T00:00:00",
          "2008-03-01T00:00:00",
          "2008-04-01T00:00:00",
          "2008-05-01T00:00:00",
          "2008-06-01T00:00:00",
          "2008-07-01T00:00:00",
          "2008-08-01T00:00:00",
          "2008-09-01T00:00:00",
          "2008-10-01T00:00:00",
          "2008-11-01T00:00:00",
          "2008-12-01T00:00:00",
          "2009-01-01T00:00:00",
          "2009-02-01T00:00:00",
          "2009-03-01T00:00:00",
          "2009-04-01T00:00:00",
          "2009-05-01T00:00:00",
          "2009-06-01T00:00:00",
          "2009-07-01T00:00:00",
          "2009-08-01T00:00:00",
          "2009-09-01T00:00:00",
          "2009-10-01T00:00:00",
          "2009-11-01T00:00:00",
          "2009-12-01T00:00:00",
          "2010-01-01T00:00:00",
          "2010-02-01T00:00:00",
          "2010-03-01T00:00:00",
          "2010-04-01T00:00:00",
          "2010-05-01T00:00:00",
          "2010-06-01T00:00:00",
          "2010-07-01T00:00:00",
          "2010-08-01T00:00:00",
          "2010-09-01T00:00:00",
          "2010-10-01T00:00:00",
          "2010-11-01T00:00:00",
          "2010-12-01T00:00:00",
          "2011-01-01T00:00:00",
          "2011-02-01T00:00:00",
          "2011-03-01T00:00:00",
          "2011-04-01T00:00:00",
          "2011-05-01T00:00:00",
          "2011-06-01T00:00:00",
          "2011-07-01T00:00:00",
          "2011-08-01T00:00:00",
          "2011-09-01T00:00:00",
          "2011-10-01T00:00:00",
          "2011-11-01T00:00:00",
          "2011-12-01T00:00:00",
          "2012-01-01T00:00:00",
          "2012-02-01T00:00:00",
          "2012-03-01T00:00:00",
          "2012-04-01T00:00:00",
          "2012-05-01T00:00:00",
          "2012-06-01T00:00:00",
          "2012-07-01T00:00:00",
          "2012-08-01T00:00:00",
          "2012-09-01T00:00:00",
          "2012-10-01T00:00:00",
          "2012-11-01T00:00:00",
          "2012-12-01T00:00:00",
          "2013-01-01T00:00:00",
          "2013-02-01T00:00:00",
          "2013-03-01T00:00:00",
          "2013-04-01T00:00:00",
          "2013-05-01T00:00:00",
          "2013-06-01T00:00:00",
          "2013-07-01T00:00:00",
          "2013-08-01T00:00:00",
          "2013-09-01T00:00:00",
          "2013-10-01T00:00:00",
          "2013-11-01T00:00:00",
          "2013-12-01T00:00:00",
          "2014-01-01T00:00:00",
          "2014-02-01T00:00:00",
          "2014-03-01T00:00:00",
          "2014-04-01T00:00:00",
          "2014-05-01T00:00:00",
          "2014-06-01T00:00:00",
          "2014-07-01T00:00:00",
          "2014-08-01T00:00:00",
          "2014-09-01T00:00:00",
          "2014-10-01T00:00:00",
          "2014-11-01T00:00:00",
          "2014-12-01T00:00:00",
          "2015-01-01T00:00:00",
          "2015-02-01T00:00:00",
          "2015-03-01T00:00:00",
          "2015-04-01T00:00:00",
          "2015-05-01T00:00:00",
          "2015-06-01T00:00:00",
          "2015-07-01T00:00:00",
          "2015-08-01T00:00:00",
          "2015-09-01T00:00:00",
          "2015-10-01T00:00:00",
          "2015-11-01T00:00:00",
          "2015-12-01T00:00:00",
          "2016-01-01T00:00:00",
          "2016-02-01T00:00:00",
          "2016-03-01T00:00:00",
          "2016-04-01T00:00:00",
          "2016-05-01T00:00:00",
          "2016-06-01T00:00:00",
          "2016-07-01T00:00:00",
          "2016-08-01T00:00:00",
          "2016-09-01T00:00:00",
          "2016-10-01T00:00:00",
          "2016-11-01T00:00:00",
          "2016-12-01T00:00:00",
          "2017-01-01T00:00:00",
          "2017-02-01T00:00:00",
          "2017-03-01T00:00:00",
          "2017-04-01T00:00:00",
          "2017-05-01T00:00:00",
          "2017-06-01T00:00:00",
          "2017-07-01T00:00:00",
          "2017-08-01T00:00:00",
          "2017-09-01T00:00:00",
          "2017-10-01T00:00:00",
          "2017-11-01T00:00:00",
          "2017-12-01T00:00:00",
          "2018-01-01T00:00:00",
          "2018-02-01T00:00:00",
          "2018-03-01T00:00:00",
          "2018-04-01T00:00:00",
          "2018-05-01T00:00:00",
          "2018-06-01T00:00:00",
          "2018-07-01T00:00:00",
          "2018-08-01T00:00:00",
          "2018-09-01T00:00:00",
          "2018-10-01T00:00:00",
          "2018-11-01T00:00:00",
          "2018-12-01T00:00:00",
          "2019-01-01T00:00:00",
          "2019-02-01T00:00:00",
          "2019-03-01T00:00:00",
          "2019-04-01T00:00:00",
          "2019-05-01T00:00:00",
          "2019-06-01T00:00:00",
          "2019-07-01T00:00:00",
          "2019-08-01T00:00:00",
          "2019-09-01T00:00:00",
          "2019-10-01T00:00:00",
          "2019-11-01T00:00:00",
          "2019-12-01T00:00:00",
          "2020-01-01T00:00:00",
          "2020-02-01T00:00:00",
          "2020-03-01T00:00:00",
          "2020-04-01T00:00:00",
          "2020-05-01T00:00:00",
          "2020-06-01T00:00:00",
          "2020-07-01T00:00:00",
          "2020-08-01T00:00:00",
          "2020-09-01T00:00:00",
          "2020-10-01T00:00:00",
          "2020-11-01T00:00:00",
          "2020-12-01T00:00:00"
         ],
         "y": [
          2.11,
          2.1001,
          2.0798,
          2.1001,
          2.1198,
          2.11,
          2.1802,
          2.3103,
          2.11,
          2.11,
          2.33,
          2.4101,
          2.4903,
          2.6302,
          2.42,
          2.2598,
          2.2203,
          2.2499,
          2.4003,
          2.4502,
          2.5501,
          2.5599,
          2.7997,
          2.8398,
          2.7602,
          2.7103,
          3.09,
          3.7699,
          4.1398,
          3.7601,
          3.4303,
          2.91,
          3.3403,
          2.9902,
          2.9199,
          2.085,
          1.9102,
          2.06,
          1.8051,
          1.635,
          1.3749,
          1.145,
          1.1798,
          1.1421,
          0.9127,
          0.7989,
          0.8152,
          0.8001,
          0.6398,
          0.6178,
          0.7101,
          0.756,
          0.724,
          0.7507,
          0.9127,
          1.0109,
          0.9702,
          0.882,
          0.8448,
          0.785,
          0.7438,
          0.8239,
          0.7031,
          0.6439,
          0.6201,
          0.6642,
          0.63,
          0.6393,
          0.6538,
          0.5882,
          0.5818,
          0.587,
          0.6462,
          0.576,
          0.5388,
          0.4807,
          0.4099,
          0.3222,
          0.2531,
          0.1951,
          0.155,
          0.1272,
          0.1359,
          0.1353,
          0.1701,
          0.1388,
          0.1063,
          0.1022,
          0.0981,
          0.0941,
          0.0871,
          0.0639,
          0.0703,
          0.0703,
          0.0749,
          0.0993,
          0.1092,
          0.0952,
          0.1051,
          0.1068,
          0.0958,
          0.0941,
          0.0958,
          0.0958,
          0.1103,
          0.1301,
          0.1666,
          0.1661,
          0.1974,
          0.227,
          0.2189,
          0.1916,
          0.191,
          0.1074,
          0.1033,
          0.1033,
          0.09,
          0.083,
          0.0656,
          0.0633,
          0.083,
          0.0958,
          0.0888,
          0.0854,
          0.0778,
          0.0703,
          0.0633,
          0.0435,
          0.0523,
          0.0505,
          0.0488,
          0.0389,
          0.0343,
          0.0354,
          0.0389,
          0.0308,
          0.018,
          0.0203,
          0.018,
          0.0157,
          1.213,
          1.18,
          1.071,
          0.1564,
          0.1507,
          0.1961,
          0.2048,
          0.23,
          0.2357,
          0.2414,
          0.2234,
          0.2453,
          0.2565,
          0.2575,
          0.272,
          0.3221,
          0.295,
          0.272,
          0.2781,
          0.2512,
          0.2574,
          0.2684,
          0.2508,
          0.255,
          0.2382,
          0.2481,
          0.2295,
          0.241,
          0.241,
          0.2303,
          0.2501,
          0.252,
          0.2719,
          0.2312,
          0.1932,
          0.1906,
          0.203,
          0.196,
          0.2028,
          0.1917,
          0.1625,
          0.1025,
          0.102,
          0.0985,
          0.107,
          0.0982,
          0.0987,
          0.0803,
          0.0754,
          0.1185,
          0.1232
         ]
        },
        {
         "hoverlabel": {
          "namelength": 0
         },
         "hovertemplate": [
          "<b>Top 10 Words :</b><br>Polónia<br>conferência<br>mercado<br>BCP<br>Jorge Jardim Gonçalves<br>Portugal<br>perspectivas<br>presidência<br>relações<br>temas",
          "News not found.",
          "News not found.",
          "News not found.",
          "News not found.",
          "<b>Top 10 Words :</b><br>BCP<br>banco<br>processo<br>Governo<br>Jorge Jardim Gonçalves<br>bancos<br>instituição<br>Banca Comerciala Romana<br>Banco Comercial Português<br>Bélgica",
          "News not found.",
          "News not found.",
          "News not found.",
          "<b>Top 10 Words :</b><br>BCP<br>euros<br>EDP<br>BES<br>BPI<br>Euronext Lisboa<br>Europa<br>banca<br>congéneres<br>desvalorização",
          "News not found.",
          "<b>Top 10 Words :</b><br>banco<br>Millennium<br>Splitska Banka<br>proposta<br>Croácia<br>compra<br>fonte<br>O Millennium<br>alemão<br>analistas",
          "News not found.",
          "<b>Top 10 Words :</b><br>árvore<br>metros<br>Natal<br>pessoas<br>Praça do Comércio<br>altura<br>empresa<br>iniciativa<br>Belém<br>Carmona Rodrigues",
          "News not found.",
          "News not found.",
          "News not found.",
          "News not found.",
          "News not found.",
          "News not found.",
          "News not found.",
          "News not found.",
          "News not found.",
          "News not found.",
          "News not found.",
          "News not found.",
          "News not found.",
          "News not found.",
          "News not found.",
          "<b>Top 10 Words :</b><br>proposta<br>banco<br>estatutos<br>órgão<br>BCP<br>Supervisão<br>accionistas<br>assembleia<br>alteração<br>fundador",
          "<b>Top 10 Words :</b><br>BCP<br>assembleia<br>presidente<br>ABN Amro<br>CMVM<br>banco<br>mercado<br>mesa<br>votos<br>capital",
          "News not found.",
          "<b>Top 10 Words :</b><br>BCP<br>BPI<br>proposta<br>RDP Madeira<br>Millenium<br>Ant1<br>Ant3<br>Campeonatos Rally<br>Filipe Pinhal<br>Novo",
          "<b>Top 10 Words :</b><br>BCP<br>proposta<br>BPI<br>Filipe Pinhal<br>propostas<br>RDP Madeira<br>entanto<br>presidente<br>acordo<br>base",
          "News not found.",
          "News not found.",
          "<b>Top 10 Words :</b><br>contas<br>analistas<br>banco<br>exercício<br>Filipe Pinhal<br>actividade<br>custos<br>impactos<br>BCP<br>administradores",
          "News not found.",
          "News not found.",
          "News not found.",
          "News not found.",
          "News not found.",
          "News not found.",
          "News not found.",
          "News not found.",
          "News not found.",
          "News not found.",
          "News not found.",
          "News not found.",
          "News not found.",
          "News not found.",
          "News not found.",
          "News not found.",
          "News not found.",
          "News not found.",
          "News not found.",
          "News not found.",
          "News not found.",
          "<b>Top 10 Words :</b><br>BCP<br>O2<br>euros<br>Anónimo<br>Empresário<br>Godinho<br>Manuel José Godinho<br>Sol<br>contas<br>juiz",
          "News not found.",
          "News not found.",
          "News not found.",
          "News not found.",
          "<b>Top 10 Words :</b><br>BCP<br>banco<br>Banco de Portugal<br>presidente<br>capital<br>euros<br>Blogue<br>Lisboa<br>Jardim Gonçalves<br>anos",
          "<b>Top 10 Words :</b><br>BCP<br>Banco de Portugal<br>regresso<br>caso<br>Armando Vara<br>Face Oculta<br>Vara<br>administração<br>Alexandre Martins Coordenador-geral<br>Bárbara Reis",
          "<b>Top 10 Words :</b><br>BCP<br>DIAP<br>Millennium BCP<br>Lisboa<br>hora<br>balcão<br>Alexandra Lucas Coelho<br>Escola Projecto<br>Infografias<br>Iniciativas",
          "<b>Top 10 Words :</b><br>BCP<br>Sol<br>Armando Vara<br>Comissão de Ética<br>administrador<br>director<br>media<br>Agosto de 2010<br>Alexandra Lucas Coelho<br>Escola Projecto",
          "News not found.",
          "<b>Top 10 Words :</b><br>BCP<br>euros<br>banco<br>mercado<br>acções<br>clientes<br>títulos<br>Polónia<br>economia<br>Tribunal",
          "<b>Top 10 Words :</b><br>ICBC<br>BCP<br>banco<br>China<br>Portugal<br>Sines<br>visita<br>PORTO<br>compra<br>dívida",
          "<b>Top 10 Words :</b><br>BCP<br>Irão<br>actividade<br>conhecimento<br>presidente<br>Alexandra Lucas Coelho<br>BE<br>Banco de Portugal<br>Carlos Santos Ferreira<br>Corrigir Provedor do Leitor Feedback Diminuir",
          "<b>Top 10 Words :</b><br>BCP<br>EUA<br>Assange<br>Wikileaks<br>voos<br>Irão<br>Sócrates<br>Cavaco<br>resposta<br>Ana Gomes",
          "<b>Top 10 Words :</b><br>BCP<br>EUA<br>Wikileaks<br>Assange<br>Irão<br>voos<br>Banco de Portugal<br>Sócrates<br>telegramas<br>Cavaco",
          "<b>Top 10 Words :</b><br>BCP<br>EUA<br>Wikileaks<br>Assange<br>banco<br>voos<br>Irão<br>Sócrates<br>explicações<br>presidente",
          "<b>Top 10 Words :</b><br>BCP<br>banco<br>ABN<br>acções<br>compra<br>conta<br>Banco de Portugal<br>Constâncio<br>euros<br>Jardim Gonçalves",
          "<b>Top 10 Words :</b><br>BCP<br>capital<br>Unicre<br>BPI<br>SIBS<br>Sol<br>director<br>PSD<br>banco<br>hora",
          "News not found.",
          "<b>Top 10 Words :</b><br>BCP<br>euros<br>banco<br>resposta<br>BES<br>Governo<br>Estado<br>Obama<br>anos<br>EUA",
          "<b>Top 10 Words :</b><br>BCP<br>BES<br>Banco de Portugal<br>Polónia<br>operação<br>Banco Comercial Português<br>Bank Millenium<br>Bloomberg<br>Supervisão<br>euros",
          "<b>Top 10 Words :</b><br>BCP<br>anos<br>euros<br>resposta<br>dias<br>crise<br>Estado<br>Governo<br>horas<br>venda",
          "<b>Top 10 Words :</b><br>BCP<br>Governo<br>euros<br>dias<br>anos<br>horas<br>minutos<br>resposta<br>Armando Vara<br>orgias",
          "<b>Top 10 Words :</b><br>BCP<br>euros<br>bancos<br>banco<br>Fitch<br>crédito<br>rating<br>dívida<br>corte<br>dias",
          "<b>Top 10 Words :</b><br>BCP<br>rating<br>BES<br>acções<br>negociação<br>BPI<br>CGD<br>lixo<br>corte<br>BB",
          "<b>Top 10 Words :</b><br>BCP<br>euros<br>dias<br>Nuno Amado<br>Santos Ferreira<br>Brasil<br>Rendas<br>acionistas<br>economia<br>BES",
          "<b>Top 10 Words :</b><br>BCP<br>acionistas<br>dias<br>Estado<br>euros<br>Banco de Portugal<br>Brasil<br>capital<br>recapitalização<br>China",
          "News not found.",
          "News not found.",
          "News not found.",
          "News not found.",
          "<b>Top 10 Words :</b><br>BCP<br>euros<br>anos<br>Espanha<br>horas<br>médicos<br>Estado<br>BPI<br>minutos<br>Fisco",
          "<b>Top 10 Words :</b><br>euros<br>Governo<br>anos<br>concessão<br>Casas<br>Estado<br>venda<br>crédito<br>horas<br>imóveis",
          "<b>Top 10 Words :</b><br>BCP<br>euros<br>horas<br>minutos<br>resposta<br>Casas<br>austeridade<br>venda<br>TSU<br>Anónimo",
          "<b>Top 10 Words :</b><br>euros<br>dias<br>salários<br>anos<br>BCP<br>horas<br>minutos<br>resposta<br>Governo<br>Portugal",
          "<b>Top 10 Words :</b><br>Portugal<br>BCP<br>crise<br>Governo<br>Merkel<br>Rendas<br>empresas<br>subsídios<br>resposta<br>cortes",
          "<b>Top 10 Words :</b><br>BCP<br>banco<br>acções<br>Filipe Pinhal<br>Gémeas Cargas<br>Loja Emprego<br>anos<br>Jardim Gonçalves<br>arguidos<br>accionista",
          "<b>Top 10 Words :</b><br>BCP<br>banco<br>Filipe Pinhal<br>acções<br>Tribunal<br>accionista<br>arguidos<br>Gémeas Cargas<br>capital<br>Portugal",
          "<b>Top 10 Words :</b><br>BCP<br>euros<br>banco<br>Portugal<br>venda<br>anos<br>assinatura<br>Estado<br>Grécia<br>Gémeas Cargas",
          "<b>Top 10 Words :</b><br>BCP<br>Portugal<br>euros<br>banco<br>Governo<br>Estado<br>Troika<br>crédito<br>cortes<br>anos",
          "News not found.",
          "News not found.",
          "News not found.",
          "<b>Top 10 Words :</b><br>BCP<br>Interoceânico<br>Camargo Corrêa<br>Cimpor<br>Allpar<br>Portugal<br>acesso<br>sociedade<br>Carlos Silva<br>acordo",
          "<b>Top 10 Words :</b><br>BCP<br>resposta<br>BES<br>BPI<br>prejuízos<br>tendência<br>Galp<br>bancos<br>ganhos<br>rating",
          "<b>Top 10 Words :</b><br>BCP<br>Governo<br>corte<br>professores<br>resposta<br>Portugal<br>salários<br>anos<br>Pensões<br>autárquicas",
          "<b>Top 10 Words :</b><br>BCP<br>Governo<br>corte<br>Pensões<br>resgate<br>anos<br>resposta<br>BPI<br>Filipe Pinhal<br>cortes",
          "<b>Top 10 Words :</b><br>BCP<br>euros<br>mundo<br>Portugal<br>Santos Ferreira<br>banco<br>pagamento<br>Visa<br>acesso<br>assinatura",
          "News not found.",
          "News not found.",
          "News not found.",
          "News not found.",
          "News not found.",
          "<b>Top 10 Words :</b><br>BCP<br>euros<br>Governo<br>anos<br>salários<br>Portugal<br>Estado<br>banco<br>processo<br>mundo",
          "<b>Top 10 Words :</b><br>administração<br>contas<br>membros<br>TC<br>capital<br>proposta<br>reunião<br>BCP<br>Chumbo<br>Mundial 2014",
          "<b>Top 10 Words :</b><br>capital<br>BCP<br>aumento<br>euros<br>greve<br>banco<br>operação<br>BES<br>Miguel Bragança<br>Mundial 2014",
          "<b>Top 10 Words :</b><br>BCP<br>euros<br>banco<br>capital<br>ajuda<br>mundo<br>acções<br>Estado<br>BES<br>títulos",
          "News not found.",
          "<b>Top 10 Words :</b><br>BCP<br>euros<br>banco<br>Portugal<br>Visa<br>débito<br>mundo<br>pagamentos<br>restantes<br>artigos",
          "News not found.",
          "News not found.",
          "<b>Top 10 Words :</b><br>Jan<br>ganhos<br>BCP<br>PSI20<br>euros<br>Portugal<br>diário<br>receitas<br>seguidores<br>áudio",
          "<b>Top 10 Words :</b><br>euros<br>BCP<br>Nuno Amado<br>anos<br>acordo<br>banco<br>redução<br>áudio<br>prejuízo<br>prejuízos",
          "<b>Top 10 Words :</b><br>BCP<br>BPI<br>fusão<br>Isabel dos Santos<br>proposta<br>banco<br>CaixaBank<br>Nuno Amado<br>Santoro<br>operação",
          "<b>Top 10 Words :</b><br>BCP<br>euros<br>banco<br>capital<br>BCE<br>bancos<br>cenário<br>Portugal<br>activos<br>qualidade",
          "<b>Top 10 Words :</b><br>BCP<br>banco<br>anos<br>euros<br>artigos<br>Portugal<br>dias<br>lucros<br>período<br>Visa",
          "<b>Top 10 Words :</b><br>BCP<br>rating<br>bancos<br>Fitch<br>artigos<br>Portugal<br>BPI<br>Visa<br>dias<br>débito",
          "<b>Top 10 Words :</b><br>BCP<br>semestre<br>prejuízo<br>lucro<br>fusão<br>BPI<br>Presidente do BCP<br>presidente<br>evolução<br>fonte",
          "<b>Top 10 Words :</b><br>BCP<br>euros<br>dívida<br>bancos<br>créditos<br>habitação<br>acções<br>Polónia<br>rating<br>unidade",
          "<b>Top 10 Words :</b><br>BCP<br>capital<br>empresa<br>BPI<br>euros<br>queda<br>anos<br>aumento<br>refugiados<br>respetivamente",
          "<b>Top 10 Words :</b><br>BCP<br>euros<br>banco<br>Portugal<br>Visa<br>artigos<br>capital<br>débito<br>pagamentos<br>acções",
          "<b>Top 10 Words :</b><br>BCP<br>euros<br>Nuno Amado<br>Portugal<br>banco<br>capital<br>balcões<br>aumento<br>bancos<br>lucro",
          "<b>Top 10 Words :</b><br>BCP<br>arguidos<br>Banif<br>BPI<br>Portugal<br>absolvição<br>aumento<br>capital<br>prejuízo<br>BPP",
          "<b>Top 10 Words :</b><br>BCP<br>ações<br>banco<br>BPI<br>acções<br>investidores<br>Portugal<br>queda<br>CGD<br>banca",
          "<b>Top 10 Words :</b><br>BCP<br>euros<br>anos<br>Portugal<br>agências<br>lucros<br>prejuízos<br>balcões<br>investidores<br>postos",
          "<b>Top 10 Words :</b><br>BCP<br>Isabel dos Santos<br>BPI<br>Pharol<br>banco<br>entrada<br>PSI20<br>Governo<br>Nicolau Breyner<br>anos",
          "<b>Top 10 Words :</b><br>BCP<br>banco<br>BPI<br>fusão<br>Portugal<br>entrada<br>estatutos<br>Nuno Amado<br>capital<br>direitos",
          "<b>Top 10 Words :</b><br>BCP<br>euros<br>trimestre<br>banco<br>Lucro do BCP<br>Portugal<br>país<br>Estado<br>anos<br>capital",
          "<b>Top 10 Words :</b><br>BCP<br>Portugal<br>banco<br>descoberto<br>ações<br>euros<br>Lisboa<br>Vendas<br>bolsa<br>perdas",
          "<b>Top 10 Words :</b><br>BCP<br>banco<br>euros<br>capital<br>resultados<br>Portugal<br>Novo Banco<br>Nuno Amado<br>compra<br>Santander",
          "<b>Top 10 Words :</b><br>BCP<br>banco<br>ações<br>descoberto<br>Empresários<br>mira<br>Novo Banco<br>capital<br>Portugal<br>Vendas",
          "<b>Top 10 Words :</b><br>BCP<br>acções<br>banco<br>Portugal<br>rating<br>Reagrupamento<br>capital<br>euros<br>Visa<br>artigos",
          "<b>Top 10 Words :</b><br>BCP<br>acções<br>capital<br>negociações<br>Berardo<br>Chineses da Fosun<br>Deutsche Bank<br>Fosun<br>Joe Berardo<br>Luís Villalobos",
          "News not found.",
          "News not found.",
          "<b>Top 10 Words :</b><br>BCP<br>capital<br>aumento<br>euros<br>banco<br>direitos<br>Jan<br>Portugal<br>resultados<br>Dinheiro Vivo",
          "<b>Top 10 Words :</b><br>BCP<br>capital<br>aumento<br>Fosun<br>Lisboa<br>Portugal<br>EDP<br>Cristina Ferreira<br>Fundo de Resolução<br>Nuno Amado",
          "<b>Top 10 Words :</b><br>BCP<br>Mar<br>banco<br>Polónia<br>Portugal<br>capital<br>lucro<br>euros<br>Novo Banco<br>CGD",
          "<b>Top 10 Words :</b><br>melhoria<br>rating<br>essencial<br>Presidente do BCP<br>BCP<br>República<br>euros<br>banco<br>Apr<br>Portugal",
          "<b>Top 10 Words :</b><br>BCP<br>banco<br>clientes<br>euros<br>Sonangol<br>Fosun<br>operações<br>situação<br>ciberataque<br>ataque",
          "<b>Top 10 Words :</b><br>BCP<br>Nuno Amado<br>Fosun<br>melhoria<br>Cristina Ferreira<br>presidente<br>rating<br>banco<br>Moçambique<br>fundador",
          "<b>Top 10 Words :</b><br>BCP<br>euros<br>Novo Banco<br>banco<br>trabalhadores<br>cortes<br>empresa<br>postos<br>trabalho<br>PSI20",
          "<b>Top 10 Words :</b><br>BCP<br>Novo Banco<br>euros<br>projecto<br>Abel Coentrão<br>Agência Europeia do Medicamento<br>PORTO<br>aquicultura<br>edifício<br>empresa",
          "<b>Top 10 Words :</b><br>BCP<br>Novo Banco<br>venda<br>Banco de Portugal<br>plataforma<br>capital<br>euros<br>processo<br>crédito<br>participação",
          "<b>Top 10 Words :</b><br>conversão<br>ações<br>empresas<br>portador<br>valores<br>Altri<br>Banco de Investimento Imobiliário<br>Cofina<br>MILLENNIUM BCP<br>data",
          "<b>Top 10 Words :</b><br>BCP<br>dívida<br>emissão<br>euros<br>banco<br>investidores<br>Nov<br>Investimento<br>anos<br>direitos",
          "<b>Top 10 Words :</b><br>BCP<br>perspetiva<br>bancos<br>nota<br>Fitch<br>rating<br>Nov<br>greve<br>Euro 2016<br>Liga dos Campeões",
          "<b>Top 10 Words :</b><br>BCP<br>Jan<br>PSI20<br>Lisboa<br>Portugal<br>empresas<br>bolsa<br>BEI<br>euros<br>impulso",
          "<b>Top 10 Words :</b><br>BCP<br>euros<br>lucros<br>Banco BCP<br>participação<br>banco<br>atividade<br>Fev<br>Jan<br>Lisboa",
          "<b>Top 10 Words :</b><br>BCP<br>Sonangol<br>banco<br>Fosun<br>presidente<br>Galp<br>dívida<br>investimentos<br>depósitos<br>fonte",
          "<b>Top 10 Words :</b><br>BCP<br>Lisboa<br>Comissão do Mercado de Valores Mobiliários<br>Conselho de Administração<br>Google<br>Hoje<br>Magazine Publicidade<br>Portugal<br>SEXTA<br>Taguspark",
          "<b>Top 10 Words :</b><br>BCP<br>banco<br>clube<br>Miguel Maya<br>presidente<br>Sporting<br>euros<br>normalização<br>Lisboa<br>Nuno Amado",
          "<b>Top 10 Words :</b><br>BCP<br>euros<br>banco<br>website<br>conta<br>Miguel Maya<br>Nuno Amado<br>Sporting<br>anos<br>dívida",
          "<b>Top 10 Words :</b><br>BCP<br>euros<br>banco<br>conta<br>crédito<br>créditos<br>website<br>BES<br>Novo Banco<br>Miguel Maya",
          "News not found.",
          "<b>Top 10 Words :</b><br>euros<br>banco<br>BCP<br>presidente<br>conta<br>Miguel Maya<br>acusação<br>clube<br>José Filomeno dos Santos<br>Sporting",
          "<b>Top 10 Words :</b><br>banco<br>conta<br>spread<br>aumento<br>cliente<br>contrato<br>cumprimento<br>destaque<br>habitação<br>prazo",
          "<b>Top 10 Words :</b><br>BCP<br>euros<br>banco<br>Eurobank<br>Polónia<br>lucros<br>capital<br>compra<br>aquisição<br>bancos",
          "<b>Top 10 Words :</b><br>BCP<br>Sonangol<br>banco<br>Millennium<br>processo<br>Estado<br>Investimento<br>fusão<br>participação<br>João Lourenço",
          "<b>Top 10 Words :</b><br>BCP<br>banco<br>empresa<br>capital<br>conta<br>euros<br>trabalhadores<br>Sonangol<br>presidente<br>destaque",
          "<b>Top 10 Words :</b><br>BCP<br>ME<br>lucros<br>euros<br>apreensão<br>injeção<br>presidente<br>banco<br>Banco BCP<br>Miguel Maya",
          "<b>Top 10 Words :</b><br>banco<br>BCP<br>euros<br>Nuno Amado<br>aumento<br>conta<br>spread<br>BES<br>Novo Banco<br>Premium",
          "<b>Top 10 Words :</b><br>BCP<br>euros<br>acção<br>Joe Berardo<br>Novo Banco<br>BPI<br>dívidas<br>prédios<br>trabalhadores<br>Berardo",
          "<b>Top 10 Words :</b><br>BCP<br>trabalhadores<br>banco<br>euros<br>CGD<br>acionistas<br>Novo Banco<br>remunerações<br>presidente<br>conta",
          "<b>Top 10 Words :</b><br>BCP<br>Filipe Pinhal<br>Vítor Constâncio<br>CGD<br>Berardo<br>Banco de Portugal<br>Constâncio<br>presidente<br>banco<br>PS",
          "<b>Top 10 Words :</b><br>BCP<br>Filipe Pinhal<br>José Sócrates<br>conta<br>CGD<br>banco<br>Inquérito<br>euros<br>maledicência<br>Berardo",
          "<b>Top 10 Words :</b><br>BCP<br>banco<br>Fosun<br>capital<br>euros<br>histórias<br>PSD<br>ações<br>direitos<br>helicóptero",
          "<b>Top 10 Words :</b><br>BCP<br>banco<br>euros<br>Fosun<br>anos<br>capital<br>presidente<br>aumento<br>Millennium<br>semestre",
          "<b>Top 10 Words :</b><br>BCP<br>Global Media Group<br>Governo<br>banco<br>Dinheiro Vivo<br>Portugal<br>créditos<br>programa<br>AdC<br>António Costa",
          "<b>Top 10 Words :</b><br>euros<br>BCP<br>banco<br>resultados<br>bancos<br>Dinheiro Vivo<br>conta<br>anos<br>crédito<br>economia",
          "<b>Top 10 Words :</b><br>BCP<br>euros<br>banco<br>conta<br>acções<br>accionistas<br>capital<br>crédito<br>destaque<br>administração",
          "<b>Top 10 Words :</b><br>BCP<br>banco<br>euros<br>conta<br>acções<br>Polónia<br>capital<br>clientes<br>destaque<br>crédito",
          "<b>Top 10 Words :</b><br>BCP<br>banco<br>euros<br>Novo Banco<br>Sonangol<br>presidente<br>O Essencial<br>condições<br>lucros<br>razões",
          "<b>Top 10 Words :</b><br>BCP<br>Efacec<br>Isabel dos Santos<br>acionista<br>créditos<br>presidente<br>Em Portugal<br>Miguel Maya<br>O Essencial<br>Results",
          "<b>Top 10 Words :</b><br>BCP<br>banco<br>euros<br>Millennium<br>aumento<br>conta<br>spread<br>cliente<br>habitação<br>perito",
          "<b>Top 10 Words :</b><br>BCP<br>euros<br>obrigações<br>trimestre<br>conta<br>destaque<br>período<br>resultados<br>áreas<br>banco",
          "<b>Top 10 Words :</b><br>BCP<br>Banco de Portugal<br>euros<br>banco<br>crédito<br>CGD<br>ações<br>capital<br>Constâncio<br>Millennium",
          "<b>Top 10 Words :</b><br>BCP<br>semestre<br>euros<br>lucros<br>áreas<br>metade<br>Acompanhe<br>Covid-19<br>Nosso Futuro<br>O Essencial",
          "<b>Top 10 Words :</b><br>BCP<br>euros<br>bancos<br>EDP<br>Berardo<br>capital<br>banco<br>trabalhadores<br>comissões<br>dividendos",
          "<b>Top 10 Words :</b><br>BCP<br>capital<br>EDP<br>conta<br>banco<br>Novo Banco<br>processo<br>acordo<br>perito<br>Banco Montepio",
          "<b>Top 10 Words :</b><br>BCP<br>euros<br>áreas<br>Acompanhe<br>BCP Quer<br>Covid-19<br>MAIS<br>Miguel Maya<br>Nosso Futuro<br>O Essencial",
          "News not found.",
          "<b>Top 10 Words :</b><br>BCP<br>banco<br>Sonangol<br>Jardim Gonçalves<br>caso<br>Millennium<br>notificações<br>Novo Banco<br>processo<br>Isabel dos Santos"
         ],
         "marker": {
          "color": [
           "green",
           "black",
           "black",
           "black",
           "black",
           "green",
           "black",
           "black",
           "black",
           "red",
           "black",
           "red",
           "black",
           "green",
           "black",
           "black",
           "black",
           "black",
           "black",
           "black",
           "black",
           "black",
           "black",
           "black",
           "black",
           "black",
           "black",
           "black",
           "black",
           "green",
           "green",
           "black",
           "red",
           "red",
           "black",
           "black",
           "green",
           "black",
           "black",
           "black",
           "black",
           "black",
           "black",
           "black",
           "black",
           "black",
           "black",
           "black",
           "black",
           "black",
           "black",
           "black",
           "black",
           "black",
           "black",
           "black",
           "black",
           "black",
           "green",
           "black",
           "black",
           "black",
           "black",
           "green",
           "red",
           "green",
           "red",
           "black",
           "red",
           "green",
           "green",
           "red",
           "red",
           "red",
           "red",
           "green",
           "black",
           "red",
           "green",
           "red",
           "red",
           "red",
           "green",
           "red",
           "red",
           "black",
           "black",
           "black",
           "black",
           "red",
           "red",
           "red",
           "red",
           "red",
           "green",
           "green",
           "red",
           "red",
           "black",
           "black",
           "black",
           "green",
           "green",
           "red",
           "red",
           "green",
           "black",
           "black",
           "black",
           "black",
           "black",
           "red",
           "green",
           "green",
           "green",
           "black",
           "green",
           "black",
           "black",
           "green",
           "green",
           "green",
           "green",
           "green",
           "green",
           "green",
           "red",
           "green",
           "green",
           "green",
           "green",
           "red",
           "green",
           "red",
           "green",
           "green",
           "green",
           "red",
           "green",
           "green",
           "red",
           "black",
           "black",
           "green",
           "green",
           "green",
           "red",
           "red",
           "green",
           "green",
           "green",
           "red",
           "green",
           "green",
           "green",
           "green",
           "green",
           "green",
           "red",
           "green",
           "green",
           "green",
           "black",
           "green",
           "green",
           "green",
           "green",
           "green",
           "red",
           "green",
           "green",
           "green",
           "green",
           "red",
           "green",
           "green",
           "green",
           "green",
           "red",
           "green",
           "green",
           "green",
           "green",
           "green",
           "green",
           "green",
           "green",
           "green",
           "green",
           "black",
           "green"
          ]
         },
         "name": "Negative Sentiment",
         "opacity": 0.5,
         "showlegend": false,
         "type": "bar",
         "x": [
          "2005-02-01T00:00:00",
          "2005-03-01T00:00:00",
          "2005-04-01T00:00:00",
          "2005-05-01T00:00:00",
          "2005-06-01T00:00:00",
          "2005-07-01T00:00:00",
          "2005-08-01T00:00:00",
          "2005-09-01T00:00:00",
          "2005-10-01T00:00:00",
          "2005-11-01T00:00:00",
          "2005-12-01T00:00:00",
          "2006-01-01T00:00:00",
          "2006-02-01T00:00:00",
          "2006-03-01T00:00:00",
          "2006-04-01T00:00:00",
          "2006-05-01T00:00:00",
          "2006-06-01T00:00:00",
          "2006-07-01T00:00:00",
          "2006-08-01T00:00:00",
          "2006-09-01T00:00:00",
          "2006-10-01T00:00:00",
          "2006-11-01T00:00:00",
          "2006-12-01T00:00:00",
          "2007-01-01T00:00:00",
          "2007-02-01T00:00:00",
          "2007-03-01T00:00:00",
          "2007-04-01T00:00:00",
          "2007-05-01T00:00:00",
          "2007-06-01T00:00:00",
          "2007-07-01T00:00:00",
          "2007-08-01T00:00:00",
          "2007-09-01T00:00:00",
          "2007-10-01T00:00:00",
          "2007-11-01T00:00:00",
          "2007-12-01T00:00:00",
          "2008-01-01T00:00:00",
          "2008-02-01T00:00:00",
          "2008-03-01T00:00:00",
          "2008-04-01T00:00:00",
          "2008-05-01T00:00:00",
          "2008-06-01T00:00:00",
          "2008-07-01T00:00:00",
          "2008-08-01T00:00:00",
          "2008-09-01T00:00:00",
          "2008-10-01T00:00:00",
          "2008-11-01T00:00:00",
          "2008-12-01T00:00:00",
          "2009-01-01T00:00:00",
          "2009-02-01T00:00:00",
          "2009-03-01T00:00:00",
          "2009-04-01T00:00:00",
          "2009-05-01T00:00:00",
          "2009-06-01T00:00:00",
          "2009-07-01T00:00:00",
          "2009-08-01T00:00:00",
          "2009-09-01T00:00:00",
          "2009-10-01T00:00:00",
          "2009-11-01T00:00:00",
          "2009-12-01T00:00:00",
          "2010-01-01T00:00:00",
          "2010-02-01T00:00:00",
          "2010-03-01T00:00:00",
          "2010-04-01T00:00:00",
          "2010-05-01T00:00:00",
          "2010-06-01T00:00:00",
          "2010-07-01T00:00:00",
          "2010-08-01T00:00:00",
          "2010-09-01T00:00:00",
          "2010-10-01T00:00:00",
          "2010-11-01T00:00:00",
          "2010-12-01T00:00:00",
          "2011-01-01T00:00:00",
          "2011-02-01T00:00:00",
          "2011-03-01T00:00:00",
          "2011-04-01T00:00:00",
          "2011-05-01T00:00:00",
          "2011-06-01T00:00:00",
          "2011-07-01T00:00:00",
          "2011-08-01T00:00:00",
          "2011-09-01T00:00:00",
          "2011-10-01T00:00:00",
          "2011-11-01T00:00:00",
          "2011-12-01T00:00:00",
          "2012-01-01T00:00:00",
          "2012-02-01T00:00:00",
          "2012-03-01T00:00:00",
          "2012-04-01T00:00:00",
          "2012-05-01T00:00:00",
          "2012-06-01T00:00:00",
          "2012-07-01T00:00:00",
          "2012-08-01T00:00:00",
          "2012-09-01T00:00:00",
          "2012-10-01T00:00:00",
          "2012-11-01T00:00:00",
          "2012-12-01T00:00:00",
          "2013-01-01T00:00:00",
          "2013-02-01T00:00:00",
          "2013-03-01T00:00:00",
          "2013-04-01T00:00:00",
          "2013-05-01T00:00:00",
          "2013-06-01T00:00:00",
          "2013-07-01T00:00:00",
          "2013-08-01T00:00:00",
          "2013-09-01T00:00:00",
          "2013-10-01T00:00:00",
          "2013-11-01T00:00:00",
          "2013-12-01T00:00:00",
          "2014-01-01T00:00:00",
          "2014-02-01T00:00:00",
          "2014-03-01T00:00:00",
          "2014-04-01T00:00:00",
          "2014-05-01T00:00:00",
          "2014-06-01T00:00:00",
          "2014-07-01T00:00:00",
          "2014-08-01T00:00:00",
          "2014-09-01T00:00:00",
          "2014-10-01T00:00:00",
          "2014-11-01T00:00:00",
          "2014-12-01T00:00:00",
          "2015-01-01T00:00:00",
          "2015-02-01T00:00:00",
          "2015-03-01T00:00:00",
          "2015-04-01T00:00:00",
          "2015-05-01T00:00:00",
          "2015-06-01T00:00:00",
          "2015-07-01T00:00:00",
          "2015-08-01T00:00:00",
          "2015-09-01T00:00:00",
          "2015-10-01T00:00:00",
          "2015-11-01T00:00:00",
          "2015-12-01T00:00:00",
          "2016-01-01T00:00:00",
          "2016-02-01T00:00:00",
          "2016-03-01T00:00:00",
          "2016-04-01T00:00:00",
          "2016-05-01T00:00:00",
          "2016-06-01T00:00:00",
          "2016-07-01T00:00:00",
          "2016-08-01T00:00:00",
          "2016-09-01T00:00:00",
          "2016-10-01T00:00:00",
          "2016-11-01T00:00:00",
          "2016-12-01T00:00:00",
          "2017-01-01T00:00:00",
          "2017-02-01T00:00:00",
          "2017-03-01T00:00:00",
          "2017-04-01T00:00:00",
          "2017-05-01T00:00:00",
          "2017-06-01T00:00:00",
          "2017-07-01T00:00:00",
          "2017-08-01T00:00:00",
          "2017-09-01T00:00:00",
          "2017-10-01T00:00:00",
          "2017-11-01T00:00:00",
          "2017-12-01T00:00:00",
          "2018-01-01T00:00:00",
          "2018-02-01T00:00:00",
          "2018-03-01T00:00:00",
          "2018-04-01T00:00:00",
          "2018-05-01T00:00:00",
          "2018-06-01T00:00:00",
          "2018-07-01T00:00:00",
          "2018-08-01T00:00:00",
          "2018-09-01T00:00:00",
          "2018-10-01T00:00:00",
          "2018-11-01T00:00:00",
          "2018-12-01T00:00:00",
          "2019-01-01T00:00:00",
          "2019-02-01T00:00:00",
          "2019-03-01T00:00:00",
          "2019-04-01T00:00:00",
          "2019-05-01T00:00:00",
          "2019-06-01T00:00:00",
          "2019-07-01T00:00:00",
          "2019-08-01T00:00:00",
          "2019-09-01T00:00:00",
          "2019-10-01T00:00:00",
          "2019-11-01T00:00:00",
          "2019-12-01T00:00:00",
          "2020-01-01T00:00:00",
          "2020-02-01T00:00:00",
          "2020-03-01T00:00:00",
          "2020-04-01T00:00:00",
          "2020-05-01T00:00:00",
          "2020-06-01T00:00:00",
          "2020-07-01T00:00:00",
          "2020-08-01T00:00:00",
          "2020-09-01T00:00:00",
          "2020-10-01T00:00:00",
          "2020-11-01T00:00:00",
          "2020-12-01T00:00:00"
         ],
         "y": [
          0.0370059664376029,
          0,
          0,
          0,
          0,
          0.009278828960513186,
          0,
          0,
          0,
          0.2806267057387057,
          0,
          0.6938267057387058,
          0,
          0.3880937704517705,
          0,
          0,
          0,
          0,
          0,
          0,
          0,
          0,
          0,
          0,
          0,
          0,
          0,
          0,
          0,
          0.25580097102897104,
          0.2347626616190827,
          0,
          0.02960276634476633,
          0.4600371952491952,
          0,
          0,
          0.32934483671283665,
          0,
          0,
          0,
          0,
          0,
          0,
          0,
          0,
          0,
          0,
          0,
          0,
          0,
          0,
          0,
          0,
          0,
          0,
          0,
          0,
          0,
          0.1967420122100123,
          0,
          0,
          0,
          0,
          0.1458925056189208,
          0.7243324200244199,
          0.3126000415361725,
          0.2996543781544733,
          0,
          0.07558826508567679,
          0.386667506163625,
          0.372404087912088,
          0.39628401275872105,
          0.6362712544472395,
          0.685302992796436,
          0.11330496589125155,
          0.08808509528126196,
          0,
          0.16536943165258122,
          0.29321865329379615,
          0.54337822030688,
          0.07733750125481398,
          0.13472474696788175,
          0.09518786857586864,
          0.0544753789813128,
          0.12589719796253135,
          0,
          0,
          0,
          0,
          0.7527914163491867,
          0.819991552767815,
          0.31519021811110687,
          0.39379449383993254,
          0.5971621173377457,
          0.05305928353919387,
          0.1529010109648803,
          0.0323206758870512,
          0.4154355715111281,
          0,
          0,
          0,
          0.3736093220718676,
          0.11249639494228969,
          0.46738681179639086,
          0.7798772771426103,
          0.3318908320306162,
          0,
          0,
          0,
          0,
          0,
          0.02599098170890818,
          0.3980639003219003,
          0.3696477103672766,
          0.4032328424485562,
          0,
          0.10350455862386498,
          0,
          0,
          0.29344960017760013,
          0.32781465669721055,
          0.275997344429068,
          0.10547797471913334,
          0.28130776607011165,
          0.29196113773886123,
          0.3419867972622228,
          0.12097032730611226,
          0.2104614972502245,
          0.27772309611447943,
          0.21128129221080572,
          0.23412961350261352,
          0.15848447516004743,
          0.35350598186421045,
          0.030347210824383353,
          0.2301766430673664,
          0.25522705240925025,
          0.18454815736509084,
          0.0813951360066526,
          0.09123675252061492,
          0.10917890148188208,
          0.3652638774558774,
          0,
          0,
          0.2376338477078478,
          0.3789167543726115,
          0.24442174233625452,
          0.09461976409324549,
          0.009832557453525292,
          0.2400486376119168,
          0.11146452263969797,
          0.19585329426129428,
          0.09264778994515088,
          0.3936193260073261,
          0.17471074051536573,
          0.3932608678229983,
          0.4024074122135729,
          0.26504635657598885,
          0.36123242967188596,
          0.1138148221974104,
          0.06816111687722898,
          0.3819770746186367,
          0.2756375339137588,
          0,
          0.20001594341219142,
          0.3875072913752915,
          0.15107412781930296,
          0.2510085386744793,
          0.3775906207391454,
          0.030366359543032018,
          0.4046652879977103,
          0.316721807969808,
          0.2642720386252678,
          0.0760265847714473,
          0.07217399221395607,
          0.2901014281992981,
          0.3227172155568302,
          0.09180147640594705,
          0.0832283864629072,
          0.06542116542040105,
          0.3884950358060122,
          0.09040010522810527,
          0.08262947030747031,
          0.3681178218155936,
          0.40347238036038036,
          0.36165428722666226,
          0.3978358195138195,
          0.04240403514733193,
          0.4063393050230292,
          0.4261507612387613,
          0,
          0.33273827278373347
         ],
         "yaxis": "y2"
        },
        {
         "marker": {
          "color": "green"
         },
         "name": "Positive Sentiment",
         "showlegend": true,
         "type": "bar",
         "visible": "legendonly",
         "x": [
          null
         ],
         "y": [
          null
         ]
        },
        {
         "marker": {
          "color": "red"
         },
         "name": "Negative Sentiment",
         "showlegend": true,
         "type": "bar",
         "visible": "legendonly",
         "x": [
          null
         ],
         "y": [
          null
         ]
        }
       ],
       "layout": {
        "hoverlabel": {
         "bgcolor": "white"
        },
        "hovermode": "x unified",
        "legend": {
         "title": {
          "text": "Legend"
         }
        },
        "margin": {
         "b": 50,
         "l": 50,
         "r": 50,
         "t": 50
        },
        "paper_bgcolor": "rgba(0, 0, 0, 0)",
        "plot_bgcolor": "rgba(0, 0, 0, 0)",
        "template": {
         "data": {
          "bar": [
           {
            "error_x": {
             "color": "#2a3f5f"
            },
            "error_y": {
             "color": "#2a3f5f"
            },
            "marker": {
             "line": {
              "color": "white",
              "width": 0.5
             },
             "pattern": {
              "fillmode": "overlay",
              "size": 10,
              "solidity": 0.2
             }
            },
            "type": "bar"
           }
          ],
          "barpolar": [
           {
            "marker": {
             "line": {
              "color": "white",
              "width": 0.5
             },
             "pattern": {
              "fillmode": "overlay",
              "size": 10,
              "solidity": 0.2
             }
            },
            "type": "barpolar"
           }
          ],
          "carpet": [
           {
            "aaxis": {
             "endlinecolor": "#2a3f5f",
             "gridcolor": "#C8D4E3",
             "linecolor": "#C8D4E3",
             "minorgridcolor": "#C8D4E3",
             "startlinecolor": "#2a3f5f"
            },
            "baxis": {
             "endlinecolor": "#2a3f5f",
             "gridcolor": "#C8D4E3",
             "linecolor": "#C8D4E3",
             "minorgridcolor": "#C8D4E3",
             "startlinecolor": "#2a3f5f"
            },
            "type": "carpet"
           }
          ],
          "choropleth": [
           {
            "colorbar": {
             "outlinewidth": 0,
             "ticks": ""
            },
            "type": "choropleth"
           }
          ],
          "contour": [
           {
            "colorbar": {
             "outlinewidth": 0,
             "ticks": ""
            },
            "colorscale": [
             [
              0,
              "#0d0887"
             ],
             [
              0.1111111111111111,
              "#46039f"
             ],
             [
              0.2222222222222222,
              "#7201a8"
             ],
             [
              0.3333333333333333,
              "#9c179e"
             ],
             [
              0.4444444444444444,
              "#bd3786"
             ],
             [
              0.5555555555555556,
              "#d8576b"
             ],
             [
              0.6666666666666666,
              "#ed7953"
             ],
             [
              0.7777777777777778,
              "#fb9f3a"
             ],
             [
              0.8888888888888888,
              "#fdca26"
             ],
             [
              1,
              "#f0f921"
             ]
            ],
            "type": "contour"
           }
          ],
          "contourcarpet": [
           {
            "colorbar": {
             "outlinewidth": 0,
             "ticks": ""
            },
            "type": "contourcarpet"
           }
          ],
          "heatmap": [
           {
            "colorbar": {
             "outlinewidth": 0,
             "ticks": ""
            },
            "colorscale": [
             [
              0,
              "#0d0887"
             ],
             [
              0.1111111111111111,
              "#46039f"
             ],
             [
              0.2222222222222222,
              "#7201a8"
             ],
             [
              0.3333333333333333,
              "#9c179e"
             ],
             [
              0.4444444444444444,
              "#bd3786"
             ],
             [
              0.5555555555555556,
              "#d8576b"
             ],
             [
              0.6666666666666666,
              "#ed7953"
             ],
             [
              0.7777777777777778,
              "#fb9f3a"
             ],
             [
              0.8888888888888888,
              "#fdca26"
             ],
             [
              1,
              "#f0f921"
             ]
            ],
            "type": "heatmap"
           }
          ],
          "heatmapgl": [
           {
            "colorbar": {
             "outlinewidth": 0,
             "ticks": ""
            },
            "colorscale": [
             [
              0,
              "#0d0887"
             ],
             [
              0.1111111111111111,
              "#46039f"
             ],
             [
              0.2222222222222222,
              "#7201a8"
             ],
             [
              0.3333333333333333,
              "#9c179e"
             ],
             [
              0.4444444444444444,
              "#bd3786"
             ],
             [
              0.5555555555555556,
              "#d8576b"
             ],
             [
              0.6666666666666666,
              "#ed7953"
             ],
             [
              0.7777777777777778,
              "#fb9f3a"
             ],
             [
              0.8888888888888888,
              "#fdca26"
             ],
             [
              1,
              "#f0f921"
             ]
            ],
            "type": "heatmapgl"
           }
          ],
          "histogram": [
           {
            "marker": {
             "pattern": {
              "fillmode": "overlay",
              "size": 10,
              "solidity": 0.2
             }
            },
            "type": "histogram"
           }
          ],
          "histogram2d": [
           {
            "colorbar": {
             "outlinewidth": 0,
             "ticks": ""
            },
            "colorscale": [
             [
              0,
              "#0d0887"
             ],
             [
              0.1111111111111111,
              "#46039f"
             ],
             [
              0.2222222222222222,
              "#7201a8"
             ],
             [
              0.3333333333333333,
              "#9c179e"
             ],
             [
              0.4444444444444444,
              "#bd3786"
             ],
             [
              0.5555555555555556,
              "#d8576b"
             ],
             [
              0.6666666666666666,
              "#ed7953"
             ],
             [
              0.7777777777777778,
              "#fb9f3a"
             ],
             [
              0.8888888888888888,
              "#fdca26"
             ],
             [
              1,
              "#f0f921"
             ]
            ],
            "type": "histogram2d"
           }
          ],
          "histogram2dcontour": [
           {
            "colorbar": {
             "outlinewidth": 0,
             "ticks": ""
            },
            "colorscale": [
             [
              0,
              "#0d0887"
             ],
             [
              0.1111111111111111,
              "#46039f"
             ],
             [
              0.2222222222222222,
              "#7201a8"
             ],
             [
              0.3333333333333333,
              "#9c179e"
             ],
             [
              0.4444444444444444,
              "#bd3786"
             ],
             [
              0.5555555555555556,
              "#d8576b"
             ],
             [
              0.6666666666666666,
              "#ed7953"
             ],
             [
              0.7777777777777778,
              "#fb9f3a"
             ],
             [
              0.8888888888888888,
              "#fdca26"
             ],
             [
              1,
              "#f0f921"
             ]
            ],
            "type": "histogram2dcontour"
           }
          ],
          "mesh3d": [
           {
            "colorbar": {
             "outlinewidth": 0,
             "ticks": ""
            },
            "type": "mesh3d"
           }
          ],
          "parcoords": [
           {
            "line": {
             "colorbar": {
              "outlinewidth": 0,
              "ticks": ""
             }
            },
            "type": "parcoords"
           }
          ],
          "pie": [
           {
            "automargin": true,
            "type": "pie"
           }
          ],
          "scatter": [
           {
            "fillpattern": {
             "fillmode": "overlay",
             "size": 10,
             "solidity": 0.2
            },
            "type": "scatter"
           }
          ],
          "scatter3d": [
           {
            "line": {
             "colorbar": {
              "outlinewidth": 0,
              "ticks": ""
             }
            },
            "marker": {
             "colorbar": {
              "outlinewidth": 0,
              "ticks": ""
             }
            },
            "type": "scatter3d"
           }
          ],
          "scattercarpet": [
           {
            "marker": {
             "colorbar": {
              "outlinewidth": 0,
              "ticks": ""
             }
            },
            "type": "scattercarpet"
           }
          ],
          "scattergeo": [
           {
            "marker": {
             "colorbar": {
              "outlinewidth": 0,
              "ticks": ""
             }
            },
            "type": "scattergeo"
           }
          ],
          "scattergl": [
           {
            "marker": {
             "colorbar": {
              "outlinewidth": 0,
              "ticks": ""
             }
            },
            "type": "scattergl"
           }
          ],
          "scattermapbox": [
           {
            "marker": {
             "colorbar": {
              "outlinewidth": 0,
              "ticks": ""
             }
            },
            "type": "scattermapbox"
           }
          ],
          "scatterpolar": [
           {
            "marker": {
             "colorbar": {
              "outlinewidth": 0,
              "ticks": ""
             }
            },
            "type": "scatterpolar"
           }
          ],
          "scatterpolargl": [
           {
            "marker": {
             "colorbar": {
              "outlinewidth": 0,
              "ticks": ""
             }
            },
            "type": "scatterpolargl"
           }
          ],
          "scatterternary": [
           {
            "marker": {
             "colorbar": {
              "outlinewidth": 0,
              "ticks": ""
             }
            },
            "type": "scatterternary"
           }
          ],
          "surface": [
           {
            "colorbar": {
             "outlinewidth": 0,
             "ticks": ""
            },
            "colorscale": [
             [
              0,
              "#0d0887"
             ],
             [
              0.1111111111111111,
              "#46039f"
             ],
             [
              0.2222222222222222,
              "#7201a8"
             ],
             [
              0.3333333333333333,
              "#9c179e"
             ],
             [
              0.4444444444444444,
              "#bd3786"
             ],
             [
              0.5555555555555556,
              "#d8576b"
             ],
             [
              0.6666666666666666,
              "#ed7953"
             ],
             [
              0.7777777777777778,
              "#fb9f3a"
             ],
             [
              0.8888888888888888,
              "#fdca26"
             ],
             [
              1,
              "#f0f921"
             ]
            ],
            "type": "surface"
           }
          ],
          "table": [
           {
            "cells": {
             "fill": {
              "color": "#EBF0F8"
             },
             "line": {
              "color": "white"
             }
            },
            "header": {
             "fill": {
              "color": "#C8D4E3"
             },
             "line": {
              "color": "white"
             }
            },
            "type": "table"
           }
          ]
         },
         "layout": {
          "annotationdefaults": {
           "arrowcolor": "#2a3f5f",
           "arrowhead": 0,
           "arrowwidth": 1
          },
          "autotypenumbers": "strict",
          "coloraxis": {
           "colorbar": {
            "outlinewidth": 0,
            "ticks": ""
           }
          },
          "colorscale": {
           "diverging": [
            [
             0,
             "#8e0152"
            ],
            [
             0.1,
             "#c51b7d"
            ],
            [
             0.2,
             "#de77ae"
            ],
            [
             0.3,
             "#f1b6da"
            ],
            [
             0.4,
             "#fde0ef"
            ],
            [
             0.5,
             "#f7f7f7"
            ],
            [
             0.6,
             "#e6f5d0"
            ],
            [
             0.7,
             "#b8e186"
            ],
            [
             0.8,
             "#7fbc41"
            ],
            [
             0.9,
             "#4d9221"
            ],
            [
             1,
             "#276419"
            ]
           ],
           "sequential": [
            [
             0,
             "#0d0887"
            ],
            [
             0.1111111111111111,
             "#46039f"
            ],
            [
             0.2222222222222222,
             "#7201a8"
            ],
            [
             0.3333333333333333,
             "#9c179e"
            ],
            [
             0.4444444444444444,
             "#bd3786"
            ],
            [
             0.5555555555555556,
             "#d8576b"
            ],
            [
             0.6666666666666666,
             "#ed7953"
            ],
            [
             0.7777777777777778,
             "#fb9f3a"
            ],
            [
             0.8888888888888888,
             "#fdca26"
            ],
            [
             1,
             "#f0f921"
            ]
           ],
           "sequentialminus": [
            [
             0,
             "#0d0887"
            ],
            [
             0.1111111111111111,
             "#46039f"
            ],
            [
             0.2222222222222222,
             "#7201a8"
            ],
            [
             0.3333333333333333,
             "#9c179e"
            ],
            [
             0.4444444444444444,
             "#bd3786"
            ],
            [
             0.5555555555555556,
             "#d8576b"
            ],
            [
             0.6666666666666666,
             "#ed7953"
            ],
            [
             0.7777777777777778,
             "#fb9f3a"
            ],
            [
             0.8888888888888888,
             "#fdca26"
            ],
            [
             1,
             "#f0f921"
            ]
           ]
          },
          "colorway": [
           "#636efa",
           "#EF553B",
           "#00cc96",
           "#ab63fa",
           "#FFA15A",
           "#19d3f3",
           "#FF6692",
           "#B6E880",
           "#FF97FF",
           "#FECB52"
          ],
          "font": {
           "color": "#2a3f5f"
          },
          "geo": {
           "bgcolor": "white",
           "lakecolor": "white",
           "landcolor": "white",
           "showlakes": true,
           "showland": true,
           "subunitcolor": "#C8D4E3"
          },
          "hoverlabel": {
           "align": "left"
          },
          "hovermode": "closest",
          "mapbox": {
           "style": "light"
          },
          "paper_bgcolor": "white",
          "plot_bgcolor": "white",
          "polar": {
           "angularaxis": {
            "gridcolor": "#EBF0F8",
            "linecolor": "#EBF0F8",
            "ticks": ""
           },
           "bgcolor": "white",
           "radialaxis": {
            "gridcolor": "#EBF0F8",
            "linecolor": "#EBF0F8",
            "ticks": ""
           }
          },
          "scene": {
           "xaxis": {
            "backgroundcolor": "white",
            "gridcolor": "#DFE8F3",
            "gridwidth": 2,
            "linecolor": "#EBF0F8",
            "showbackground": true,
            "ticks": "",
            "zerolinecolor": "#EBF0F8"
           },
           "yaxis": {
            "backgroundcolor": "white",
            "gridcolor": "#DFE8F3",
            "gridwidth": 2,
            "linecolor": "#EBF0F8",
            "showbackground": true,
            "ticks": "",
            "zerolinecolor": "#EBF0F8"
           },
           "zaxis": {
            "backgroundcolor": "white",
            "gridcolor": "#DFE8F3",
            "gridwidth": 2,
            "linecolor": "#EBF0F8",
            "showbackground": true,
            "ticks": "",
            "zerolinecolor": "#EBF0F8"
           }
          },
          "shapedefaults": {
           "line": {
            "color": "#2a3f5f"
           }
          },
          "ternary": {
           "aaxis": {
            "gridcolor": "#DFE8F3",
            "linecolor": "#A2B1C6",
            "ticks": ""
           },
           "baxis": {
            "gridcolor": "#DFE8F3",
            "linecolor": "#A2B1C6",
            "ticks": ""
           },
           "bgcolor": "white",
           "caxis": {
            "gridcolor": "#DFE8F3",
            "linecolor": "#A2B1C6",
            "ticks": ""
           }
          },
          "title": {
           "x": 0.05
          },
          "xaxis": {
           "automargin": true,
           "gridcolor": "#EBF0F8",
           "linecolor": "#EBF0F8",
           "ticks": "",
           "title": {
            "standoff": 15
           },
           "zerolinecolor": "#EBF0F8",
           "zerolinewidth": 2
          },
          "yaxis": {
           "automargin": true,
           "gridcolor": "#EBF0F8",
           "linecolor": "#EBF0F8",
           "ticks": "",
           "title": {
            "standoff": 15
           },
           "zerolinecolor": "#EBF0F8",
           "zerolinewidth": 2
          }
         }
        },
        "title": {
         "text": "Banco Comercial Português (BCP.LS)"
        },
        "xaxis": {
         "linecolor": "black",
         "showline": true,
         "title": {
          "text": "Date"
         },
         "zeroline": false
        },
        "yaxis": {
         "linecolor": "black",
         "range": [
          0,
          4.34679
         ],
         "showline": true,
         "side": "left",
         "title": {
          "text": "Stock Price (€)"
         },
         "zeroline": false
        },
        "yaxis2": {
         "overlaying": "y",
         "range": [
          0,
          3
         ],
         "side": "right",
         "ticktext": [
          "0",
          "0.5",
          "1"
         ],
         "tickvals": [
          0,
          0.5,
          1
         ],
         "title": {
          "text": "Sentiment (0-1)"
         }
        }
       }
      }
     },
     "metadata": {},
     "output_type": "display_data"
    }
   ],
   "source": [
    "# Assuming you already have the following data in your environment:\n",
    "# dfS - A DataFrame containing sentiments for 'Banco Comercial Português'\n",
    "# dfW - A DataFrame with top 10 words data for each date\n",
    "\n",
    "#df = pd.read_parquet(\"data05.parquet\")\n",
    "\n",
    "def top10_word(x):\n",
    "    top10_word = {}\n",
    "    for word in x:\n",
    "        if x[word] is None:\n",
    "            continue\n",
    "        for date in x[word][\"date\"]:\n",
    "            if date not in top10_word:\n",
    "                top10_word[date] = {word: x[word][\"date\"][date] if x[word][\"date\"][date] is not None else 0}\n",
    "            elif word not in top10_word[date]:\n",
    "                top10_word[date][word] = x[word][\"date\"][date] if x[word][\"date\"][date] is not None else 0\n",
    "            else:\n",
    "                top10_word[date][word] += x[word][\"date\"][date] if x[word][\"date\"][date] is not None else 0\n",
    "    for date in top10_word:\n",
    "        for word in list(top10_word[date].keys()):\n",
    "            if top10_word[date][word] < 1:\n",
    "                del top10_word[date][word]\n",
    "        top10_word[date] = [k for k, v in sorted(top10_word[date].items(), key=lambda item: item[1], reverse=True)[:10]]\n",
    "    return top10_word\n",
    "\n",
    "def sentimentos_mensais(x):\n",
    "    sentimentos_mensais = {}\n",
    "    for i in x:\n",
    "        if i[\"tstamp\"] not in sentimentos_mensais:\n",
    "            sentimentos_mensais[i[\"tstamp\"]] = [i[\"newsSentiment\"]]\n",
    "        else:\n",
    "            sentimentos_mensais[i[\"tstamp\"]].append(i[\"newsSentiment\"])\n",
    "    return sentimentos_mensais\n",
    "\n",
    "def generate_dates(start, end):\n",
    "    dates = []\n",
    "    current = datetime.strptime(start, \"%Y%m\")\n",
    "    end = datetime.strptime(end, \"%Y%m\")\n",
    "\n",
    "    while current <= end:\n",
    "        dates.append(current.strftime(\"%Y%m\"))\n",
    "        # Move to the first day of the next month\n",
    "        current = (current.replace(day=1) + timedelta(days=32)).replace(day=1)\n",
    "\n",
    "    return dates\n",
    "\n",
    "dfS = df[\"news\"].map(sentimentos_mensais)\n",
    "dfW = df[\"keywords\"].map(top10_word)\n",
    "\n",
    "\"\"\"\n",
    "precos = {\"BCP.LS\": \"\",\n",
    "          \"GALP.LS\": \"\",\n",
    "          \"EDP.LS\": \"\",\n",
    "          \"SON.LS\": \"\",\n",
    "          \"EGL.LS\": \"\"}\n",
    "\n",
    "for symbol in precos:\n",
    "    # https://www.alphavantage.co\n",
    "    key = \"IX6KSZ9IKG9ZXMF5\"\n",
    "    url = f\"https://www.alphavantage.co/query?function=TIME_SERIES_MONTHLY_ADJUSTED&symbol={symbol}&apikey={key}\"\n",
    "    r = requests.get(url)\n",
    "    data = r.json()\n",
    "    close_prices = {date[:7].replace(\"-\", \"\"): float(details['4. close']) for date, details in data['Monthly Adjusted Time Series'].items()}\n",
    "    precos[symbol] = close_prices\n",
    "\"\"\"\n",
    "\n",
    "def stockVSnews(company, ticker, dfS, dfW, precos, name, title_company=False, SHOW_LEG=True):\n",
    "\n",
    "    top10_words = dfW[company]\n",
    "    # Extract sentiment data and prices\n",
    "    prices = precos[ticker]\n",
    "    sentiments = {key: np.mean(value) for key, value in dfS[company].items()}\n",
    "\n",
    "    # Get common dates between sentiments and stock prices\n",
    "    #common_dates = sorted(set(sentiments.keys()) & set(prices.keys()), key=lambda x: datetime.strptime(x, '%Y%m'))\n",
    "    \n",
    "    start_date = min(set(sentiments.keys()) & set(prices.keys()))\n",
    "    end_date = max(set(sentiments.keys()) & set(prices.keys()))\n",
    "    dates = generate_dates(start_date, end_date)\n",
    "\n",
    "\n",
    "\n",
    "    mediana = np.median(list(sentiments.values())) #remover enviesamento\n",
    "    y_news = [(sentiments[date] - mediana * 0.6) if date in sentiments else 0 for date in dates]\n",
    "    y_prices = [prices[date] if date in prices else None for date in dates]\n",
    "    dates_asdate = [datetime.strptime(date, '%Y%m') for date in dates]\n",
    "\n",
    "\n",
    "    fig = go.Figure()\n",
    "\n",
    "\n",
    "    fig.add_trace(go.Scatter(x=dates_asdate, y=y_prices, mode='lines', name=\"Stock Price\", showlegend=SHOW_LEG))\n",
    "    colors = ['green' if val > 0 else 'red' if val < 0 else 'black' for val in y_news]\n",
    "    fig.add_trace(go.Bar(\n",
    "        x=dates_asdate,\n",
    "        y=np.abs(y_news),\n",
    "        name=\"Negative Sentiment\",  # You can keep the name here if you want it in the legend, but it won't affect the hover now.\n",
    "        marker_color=colors,\n",
    "        opacity=0.5,\n",
    "        hovertemplate=[\n",
    "            f\"\"\"<b>Top 10 Words :</b><br>{'<br>'.join(top10_words[dates[i]])}\"\"\" \n",
    "            if dates[i] in top10_words and top10_words[dates[i]] != [] \n",
    "            else 'News not found.' \n",
    "            for i in range(len(dates))\n",
    "        ],\n",
    "        hoverlabel=dict(\n",
    "            namelength=0\n",
    "        ),\n",
    "        showlegend=False,\n",
    "        yaxis='y2'\n",
    "    ))\n",
    "    fig.add_trace(go.Bar(\n",
    "        x=[None], y=[None],  # Empty data\n",
    "        name=\"Positive Sentiment\",  # Legend label for positive sentiment\n",
    "        marker_color='green',  # Green color\n",
    "        visible=\"legendonly\",  # Make this trace appear only in the legend\n",
    "        showlegend=SHOW_LEG\n",
    "    ))\n",
    "    fig.add_trace(go.Bar(\n",
    "        x=[None], y=[None],  # Empty data\n",
    "        name=\"Negative Sentiment\",  # Legend label for negative sentiment\n",
    "        marker_color='red',  # Red color\n",
    "        visible=\"legendonly\",  # Make this trace appear only in the legend\n",
    "        showlegend=SHOW_LEG\n",
    "    ))\n",
    "\n",
    "    # Customize layout and hover\n",
    "    fig.update_layout(\n",
    "        title=f\"Stock Price and Sentiment Analysis: {company}\" if not title_company else f\"{company} ({ticker})\",\n",
    "        xaxis_title=\"Date\",\n",
    "        legend_title=\"Legend\",\n",
    "        hovermode=\"x unified\",  # Ensures hover shows all traces at once on x-axis\n",
    "        template=\"plotly_white\",  # Sets a clean template\n",
    "        paper_bgcolor='rgba(0, 0, 0, 0)',\n",
    "        plot_bgcolor='rgba(0, 0, 0, 0)',\n",
    "        margin=dict(t=50, b=50, l=50, r=50),  # Add margins around the plot (top, bottom, left, right)\n",
    "        xaxis=dict(\n",
    "            showline=True,  # Show the axis line\n",
    "            linecolor='black',  # Set the x-axis line color to black\n",
    "            zeroline=False  # Remove the zero line (optional)\n",
    "        ),\n",
    "        yaxis=dict(\n",
    "            showline=True,  # Show the axis line\n",
    "            linecolor='black',  # Set the y-axis line color to black\n",
    "            zeroline=False,  # Remove the zero line (optional)\n",
    "            range=[0, max(y_prices)*1.05]\n",
    "        )\n",
    "    )\n",
    "\n",
    "    fig.update_layout(\n",
    "        yaxis=dict(\n",
    "            title=\"Stock Price (€)\",  # Primary y-axis title\n",
    "            side=\"left\"\n",
    "        ),\n",
    "        yaxis2=dict(\n",
    "            title=\"Sentiment (0-1)\",    # Secondary y-axis title\n",
    "            overlaying=\"y\",\n",
    "            side=\"right\",         # Position secondary y-axis on the right\n",
    "            range=[0, 3],         # Limit y-axis range for sentiment to 0-1\n",
    "            tickvals=[0, 0.5, 1],  # Define specific tick values for visual scaling\n",
    "            ticktext=[\"0\", \"0.5\", \"1\"],  # Custom tick labels for clarity\n",
    "        ),\n",
    "        hoverlabel=dict(\n",
    "            bgcolor=\"white\"))\n",
    "\n",
    "\n",
    "    fig.show()\n",
    "    fig.write_html(f\"stockVSsenti {name}.html\")\n",
    "\n",
    "\n",
    "\n",
    "stockVSnews(\"Banco Comercial Português\", \"BCP.LS\", dfS, dfW, precos, \"bcp\",title_company=True,SHOW_LEG=True)\n",
    "#\n",
    "#stockVSnews(\"Banco Comercial Português\", \"BCP.LS\", dfS, dfW, precos, \"bcp\")#,title_company=True,SHOW_LEG=True)\n",
    "#\n",
    "#stockVSnews(\"Galp Energia\", \"GALP.LS\", dfS, dfW, precos, \"galp\")#, title_company=True, SHOW_LEG=False)\n",
    "#stockVSnews(\"EDP\", \"EDP.LS\", dfS, dfW, precos, \"edp\")#, title_company=True, SHOW_LEG=False)\n",
    "#stockVSnews(\"Sonae\", \"SON.LS\", dfS, dfW, precos, \"sonae\")#, title_company=True, SHOW_LEG=False)\n",
    "#stockVSnews(\"Mota-Engil\", \"EGL.LS\", dfS, dfW, precos, \"motaengil\")#, title_company=True, SHOW_LEG=False)"
   ]
  },
  {
   "cell_type": "code",
   "execution_count": null,
   "metadata": {},
   "outputs": [],
   "source": []
  }
 ],
 "metadata": {
  "kernelspec": {
   "display_name": "fcdProj",
   "language": "python",
   "name": "python3"
  },
  "language_info": {
   "codemirror_mode": {
    "name": "ipython",
    "version": 3
   },
   "file_extension": ".py",
   "mimetype": "text/x-python",
   "name": "python",
   "nbconvert_exporter": "python",
   "pygments_lexer": "ipython3",
   "version": "3.10.15"
  }
 },
 "nbformat": 4,
 "nbformat_minor": 2
}
