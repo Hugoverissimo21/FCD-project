{
 "cells": [
  {
   "cell_type": "markdown",
   "metadata": {},
   "source": [
    "problemas:\n",
    "\n",
    "- ~~extrair demora muito tempo, erro dá cabo de tudo:~~\n",
    "\n",
    "- - ~~funcao por coluna: inp: [col1, col2]: df03=02.copy, replace col, save, replace col, save...se der erro, só importa a ultima col~~\n",
    "\n",
    "- - ~~se fizer de vez keywords/sentiment/... assim poupa-se tempo do 1min dos requests~~\n",
    "\n",
    "- ~~noticias sobre algo, e contém a palavra Galp, como sei oq interessa?~~\n",
    "\n",
    "- - ~~https://arquivo.pt/textextracted?m=http%3A%2F%2Fwww.dn.pt%2Fneg%2Fpub%2F10s19a.htm%2F20010916233215~~\n",
    "\n",
    "- 1. ~~se resumir a noticia e n tiver a palavra galp, ignoro? - ver qnt demora~~\n",
    "\n",
    "- 2. ~~selecionar frase que tem a palavra +-1 frase, e pronto ? - n é má ideia se n se perder muita informcao~~\n",
    "\n",
    "- 3. ~~noticia tem de ter pelo menos 3? mencoes da empresa/aliases - ver quanto reduz~~\n",
    "\n",
    "- 4. ~~**logistical regression: machine learning: features: qty aliases, proporcao alfanumerico, qty palavras, ...**~~\n",
    "\n",
    "- filtrar noticias muito parecidas\n",
    "\n",
    "- 1. **fazer NER/sentiment, dois iguais, ver se é 80% igual?**\n",
    "\n",
    "- 2. selecionar 4 frases aleatórias ou contar palavras, e se for igual pronto?\n",
    "\n",
    "- 3. \"bbiggest substring\" - se >80%, é igual ?\n",
    "\n",
    "- que modelo usar para Sentiment Analysis ?\n",
    "\n",
    "- ~~converter noticias.txt into noticias.csv - para dps associar o site do arquivo ao nome da fonte de noticias~~\n",
    "\n",
    "\n",
    "tentar NER + Sentiment Analysis"
   ]
  },
  {
   "cell_type": "markdown",
   "metadata": {},
   "source": [
    "---"
   ]
  },
  {
   "cell_type": "markdown",
   "metadata": {},
   "source": [
    "to do now:\n",
    "\n",
    "- add news source to dicionary\n",
    "\n",
    "- convert timestamp to YYYYMM because ts is from archived, not the new itself\n",
    "\n",
    "- reorder dicionary\n",
    "\n",
    "- save all data in a single column or something different inside the parquet"
   ]
  },
  {
   "cell_type": "code",
   "execution_count": 2,
   "metadata": {},
   "outputs": [],
   "source": [
    "import pandas as pd"
   ]
  }
 ],
 "metadata": {
  "kernelspec": {
   "display_name": "fcdProj",
   "language": "python",
   "name": "python3"
  },
  "language_info": {
   "codemirror_mode": {
    "name": "ipython",
    "version": 3
   },
   "file_extension": ".py",
   "mimetype": "text/x-python",
   "name": "python",
   "nbconvert_exporter": "python",
   "pygments_lexer": "ipython3",
   "version": "3.10.15"
  }
 },
 "nbformat": 4,
 "nbformat_minor": 2
}
