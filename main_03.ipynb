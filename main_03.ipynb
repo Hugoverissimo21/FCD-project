{
 "cells": [
  {
   "cell_type": "code",
   "execution_count": null,
   "metadata": {},
   "outputs": [],
   "source": []
  },
  {
   "cell_type": "markdown",
   "metadata": {},
   "source": [
    "# HA EXTRACTEDTEXTS Q N TEM NENHUMA ALIAS, ANALISAR E ELIMINAR + CRIAR FILTRO BOOM PARA REMOVER REPETIDOS ?"
   ]
  },
  {
   "cell_type": "code",
   "execution_count": 1,
   "metadata": {},
   "outputs": [],
   "source": [
    "import pandas as pd\n",
    "import requests\n",
    "from bs4 import BeautifulSoup"
   ]
  },
  {
   "cell_type": "markdown",
   "metadata": {},
   "source": [
    "# if the url is the same, check the content to see if its repeated\n",
    "\n",
    "because we used `&dedupValue=25&dedupField=url` and different aliases, we might have repeated data, so it's important to check for it"
   ]
  },
  {
   "cell_type": "code",
   "execution_count": 7,
   "metadata": {},
   "outputs": [],
   "source": [
    "df = pd.read_parquet(\"data02.parquet\")\n",
    "\n",
    "def read_ExtractedText(linkToExtractedText):\n",
    "    response = requests.get(linkToExtractedText)\n",
    "    soup = BeautifulSoup(response.content, \"html.parser\")\n",
    "    page_text = soup.get_text()\n",
    "    return page_text\n",
    "\n",
    "def remove_repeated_content(cell):\n",
    "    \"\"\"\n",
    "    given one cell of the df, goes each result from the api request and find and remove duplicates\n",
    "    ex.: remove_repeated_content(df.loc[\"Banco Comercial Português\"][\"api.2000\"])\n",
    "    \"\"\"\n",
    "    seen_links = {}\n",
    "    for i in cell:\n",
    "        if i[\"linkToArchive\"] in seen_links:\n",
    "            seen_links[i[\"linkToArchive\"]] += 1\n",
    "        else:\n",
    "            seen_links[i[\"linkToArchive\"]] = 1\n",
    "\n",
    "    filtered_api = []\n",
    "    repeated = {}\n",
    "    for i in cell:\n",
    "        if seen_links[i[\"linkToArchive\"]] == 1:\n",
    "            filtered_api.append(i)\n",
    "        elif i[\"linkToArchive\"] not in repeated:\n",
    "                repeated[i[\"linkToArchive\"]] = [read_ExtractedText(i[\"linkToExtractedText\"])]\n",
    "                filtered_api.append(i)\n",
    "        else:\n",
    "             text = read_ExtractedText(i[\"linkToExtractedText\"])\n",
    "             if text in repeated[i[\"linkToArchive\"]]:\n",
    "                  pass\n",
    "             elif text not in repeated[i[\"linkToArchive\"]]:\n",
    "                  filtered_api.append(i)\n",
    "                  repeated[i[\"linkToArchive\"]].append(text)\n",
    "\n",
    "    return filtered_api\n",
    "\n",
    "df.loc[:, df.columns != 'aliases'] = df.loc[:, df.columns != 'aliases'].map(lambda x: remove_repeated_content(x))\n",
    "df.to_parquet(\"data03.parquet\")"
   ]
  },
  {
   "cell_type": "code",
   "execution_count": 8,
   "metadata": {},
   "outputs": [
    {
     "data": {
      "text/html": [
       "<div>\n",
       "<style scoped>\n",
       "    .dataframe tbody tr th:only-of-type {\n",
       "        vertical-align: middle;\n",
       "    }\n",
       "\n",
       "    .dataframe tbody tr th {\n",
       "        vertical-align: top;\n",
       "    }\n",
       "\n",
       "    .dataframe thead th {\n",
       "        text-align: right;\n",
       "    }\n",
       "</style>\n",
       "<table border=\"1\" class=\"dataframe\">\n",
       "  <thead>\n",
       "    <tr style=\"text-align: right;\">\n",
       "      <th></th>\n",
       "      <th>aliases</th>\n",
       "      <th>api.2000</th>\n",
       "      <th>api.2003</th>\n",
       "      <th>api.2006</th>\n",
       "      <th>api.2009</th>\n",
       "      <th>api.2012</th>\n",
       "      <th>api.2015</th>\n",
       "      <th>api.2018</th>\n",
       "    </tr>\n",
       "    <tr>\n",
       "      <th>companies</th>\n",
       "      <th></th>\n",
       "      <th></th>\n",
       "      <th></th>\n",
       "      <th></th>\n",
       "      <th></th>\n",
       "      <th></th>\n",
       "      <th></th>\n",
       "      <th></th>\n",
       "    </tr>\n",
       "  </thead>\n",
       "  <tbody>\n",
       "    <tr>\n",
       "      <th>Banco Comercial Português</th>\n",
       "      <td>0</td>\n",
       "      <td>-24</td>\n",
       "      <td>-21</td>\n",
       "      <td>-7</td>\n",
       "      <td>-12</td>\n",
       "      <td>-52</td>\n",
       "      <td>-66</td>\n",
       "      <td>-55</td>\n",
       "    </tr>\n",
       "    <tr>\n",
       "      <th>Galp Energia</th>\n",
       "      <td>0</td>\n",
       "      <td>-15</td>\n",
       "      <td>-8</td>\n",
       "      <td>-78</td>\n",
       "      <td>-24</td>\n",
       "      <td>-165</td>\n",
       "      <td>-78</td>\n",
       "      <td>-55</td>\n",
       "    </tr>\n",
       "    <tr>\n",
       "      <th>EDP</th>\n",
       "      <td>0</td>\n",
       "      <td>-3</td>\n",
       "      <td>-48</td>\n",
       "      <td>-15</td>\n",
       "      <td>-17</td>\n",
       "      <td>-1</td>\n",
       "      <td>-87</td>\n",
       "      <td>-9</td>\n",
       "    </tr>\n",
       "    <tr>\n",
       "      <th>Sonae</th>\n",
       "      <td>0</td>\n",
       "      <td>-2</td>\n",
       "      <td>0</td>\n",
       "      <td>0</td>\n",
       "      <td>-1</td>\n",
       "      <td>0</td>\n",
       "      <td>-61</td>\n",
       "      <td>-4</td>\n",
       "    </tr>\n",
       "    <tr>\n",
       "      <th>Mota-Engil</th>\n",
       "      <td>0</td>\n",
       "      <td>0</td>\n",
       "      <td>0</td>\n",
       "      <td>0</td>\n",
       "      <td>0</td>\n",
       "      <td>0</td>\n",
       "      <td>-31</td>\n",
       "      <td>0</td>\n",
       "    </tr>\n",
       "  </tbody>\n",
       "</table>\n",
       "</div>"
      ],
      "text/plain": [
       "                           aliases  api.2000  api.2003  api.2006  api.2009  \\\n",
       "companies                                                                    \n",
       "Banco Comercial Português        0       -24       -21        -7       -12   \n",
       "Galp Energia                     0       -15        -8       -78       -24   \n",
       "EDP                              0        -3       -48       -15       -17   \n",
       "Sonae                            0        -2         0         0        -1   \n",
       "Mota-Engil                       0         0         0         0         0   \n",
       "\n",
       "                           api.2012  api.2015  api.2018  \n",
       "companies                                                \n",
       "Banco Comercial Português       -52       -66       -55  \n",
       "Galp Energia                   -165       -78       -55  \n",
       "EDP                              -1       -87        -9  \n",
       "Sonae                             0       -61        -4  \n",
       "Mota-Engil                        0       -31         0  "
      ]
     },
     "execution_count": 8,
     "metadata": {},
     "output_type": "execute_result"
    }
   ],
   "source": [
    "df02 = pd.read_parquet(\"data02.parquet\")#.set_index(\"companies\")\n",
    "df03 = pd.read_parquet(\"data03.parquet\")#.set_index(\"companies\")\n",
    "\n",
    "df03.map(lambda x: len(x)) - df02.map(lambda x: len(x))"
   ]
  },
  {
   "cell_type": "code",
   "execution_count": 9,
   "metadata": {},
   "outputs": [
    {
     "data": {
      "text/plain": [
       "array([{'linkToArchive': 'https://arquivo.pt/wayback/20150227194532/http://www.publico.pt/economia/noticia/sonae-industria-vai-encerrar-actividade-industrial-em-franca-1687536', 'linkToExtractedText': 'https://arquivo.pt/textextracted?m=http%3A%2F%2Fwww.publico.pt%2Feconomia%2Fnoticia%2Fsonae-industria-vai-encerrar-actividade-industrial-em-franca-1687536%2F20150227194532', 'snippet': '<em>Sonae</em> Ind&uacute;stria sai do mercado franc&ecirc;s - P&Uacute;BLICO Artigos seguintes Artigos anteriores Mais <em>Sonae</em><span class=\"ellipsis\"> ... </span> de Azevedo <em>SONAE</em> Empresas <em>Sonae</em> Ind&uacute;stria sai do mercado franc&ecirc;s 0 Partilhar no Facebook Partilhar no Twitter Partilhar no Google+ 0 <em>Sonae</em> Ind&uacute;stria sai do mercado franc&ecirc;s Por Rosa Soares 27/02/2015<span class=\"ellipsis\"> ... </span>', 'title': 'Sonae Indústria sai do mercado francês - PÚBLICO', 'tstamp': '20150227194532'},\n",
       "       {'linkToArchive': 'https://arquivo.pt/wayback/20150315193756/http://www.publico.pt/economia/noticia/cronologia-acontecimentos-marcantes-da-historia-da-sonae-1689182', 'linkToExtractedText': 'https://arquivo.pt/textextracted?m=http%3A%2F%2Fwww.publico.pt%2Feconomia%2Fnoticia%2Fcronologia-acontecimentos-marcantes-da-historia-da-sonae-1689182%2F20150315193756', 'snippet': 'Cronologia: acontecimentos marcantes da hist&oacute;ria da <em>Sonae</em> - P&Uacute;BLICO Artigos seguintes Artigos anteriores Cronologia: acontecimentos marcantes da hist&oacute;ria da <em>Sonae</em> 3 Partilhar no Facebook Partilhar no Twitter Partilhar no Google+ 0 Cronologia: acontecimentos marcantes da hist&oacute;ria da <em>Sonae</em> Por 15/03<span class=\"ellipsis\"> ... </span>', 'title': 'Cronologia: acontecimentos marcantes da história da Sonae - PÚBLICO', 'tstamp': '20150315193756'},\n",
       "       {'linkToArchive': 'https://arquivo.pt/wayback/20150318010130/http://www.publico.pt/economia/noticia/cronologia-acontecimentos-marcantes-da-historia-da-sonae-1689182', 'linkToExtractedText': 'https://arquivo.pt/textextracted?m=http%3A%2F%2Fwww.publico.pt%2Feconomia%2Fnoticia%2Fcronologia-acontecimentos-marcantes-da-historia-da-sonae-1689182%2F20150318010130', 'snippet': 'Cronologia: acontecimentos marcantes da hist&oacute;ria da <em>Sonae</em> - P&Uacute;BLICO Artigos seguintes Artigos anteriores Cronologia: acontecimentos marcantes da hist&oacute;ria da <em>Sonae</em> 4 Partilhar no Facebook Partilhar no Twitter Partilhar no Google+ 0 Cronologia: acontecimentos marcantes da hist&oacute;ria da <em>Sonae</em> Por 15/03<span class=\"ellipsis\"> ... </span>', 'title': 'Cronologia: acontecimentos marcantes da história da Sonae - PÚBLICO', 'tstamp': '20150318010130'},\n",
       "       ...,\n",
       "       {'linkToArchive': 'https://arquivo.pt/wayback/20171125055945/https://www.dn.pt/tag/sapatos.html', 'linkToExtractedText': 'https://arquivo.pt/textextracted?m=https%3A%2F%2Fwww.dn.pt%2Ftag%2Fsapatos.html%2F20171125055945', 'snippet': ' poder&aacute; estar a reexportar mais caros sapatos comprados a Portugal Wolf &amp; <em>Son</em>: Tal pai, tal filho 20<span class=\"ellipsis\"> ... </span>', 'title': 'Sapatos - DN', 'tstamp': '20171125055945'},\n",
       "       {'linkToArchive': 'https://arquivo.pt/wayback/20171202060259/https://www.dn.pt/tag/sapatos.html', 'linkToExtractedText': 'https://arquivo.pt/textextracted?m=https%3A%2F%2Fwww.dn.pt%2Ftag%2Fsapatos.html%2F20171202060259', 'snippet': ' poder&aacute; estar a reexportar mais caros sapatos comprados a Portugal Wolf &amp; <em>Son</em>: Tal pai, tal filho 20<span class=\"ellipsis\"> ... </span>', 'title': 'Sapatos - DN', 'tstamp': '20171202060259'},\n",
       "       {'linkToArchive': 'https://arquivo.pt/wayback/20171209212726/https://www.dn.pt/lusa/interior/watford-em-inferioridade-numerica-derrotado-pelo-burnley-8974208.html', 'linkToExtractedText': 'https://arquivo.pt/textextracted?m=https%3A%2F%2Fwww.dn.pt%2Flusa%2Finterior%2Fwatford-em-inferioridade-numerica-derrotado-pelo-burnley-8974208.html%2F20171209212726', 'snippet': ' do Tottenham consolidou-se em 12 minutos, com o sul-coreano Heung-Min <em>Son</em> a marcar aos 53 e Harry<span class=\"ellipsis\"> ... </span>', 'title': 'Desporto - Watford, em inferioridade numérica, derrotado pelo Burnley', 'tstamp': '20171209212726'}],\n",
       "      dtype=object)"
      ]
     },
     "execution_count": 9,
     "metadata": {},
     "output_type": "execute_result"
    }
   ],
   "source": [
    "pd.read_parquet(\"data03.parquet\")[\"api.2015\"].loc[\"Sonae\"]"
   ]
  },
  {
   "cell_type": "markdown",
   "metadata": {},
   "source": [
    "# criar filtro bloom para quando for ler tudo, ver se n ha conteudos repetidos\n",
    "\n",
    "# ...."
   ]
  },
  {
   "cell_type": "code",
   "execution_count": null,
   "metadata": {},
   "outputs": [],
   "source": []
  }
 ],
 "metadata": {
  "kernelspec": {
   "display_name": "Python 3",
   "language": "python",
   "name": "python3"
  },
  "language_info": {
   "codemirror_mode": {
    "name": "ipython",
    "version": 3
   },
   "file_extension": ".py",
   "mimetype": "text/x-python",
   "name": "python",
   "nbconvert_exporter": "python",
   "pygments_lexer": "ipython3",
   "version": "3.10.13"
  }
 },
 "nbformat": 4,
 "nbformat_minor": 2
}
