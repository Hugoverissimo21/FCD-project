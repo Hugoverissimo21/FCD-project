{
 "cells": [
  {
   "cell_type": "markdown",
   "metadata": {},
   "source": [
    "# dtree01.ipynb & data03.parquet"
   ]
  },
  {
   "cell_type": "markdown",
   "metadata": {},
   "source": [
    "used a decision tree to remove non news (ads or unrelated news to each company)\n",
    "\n",
    "also used percentagens intervals in order to keep more news:\n",
    "\n",
    "- if newsProb in [.0, .4[ - trash\n",
    "\n",
    "- if newsProb in [.4, .6] - filter setences: keep only the ones with any alias\n",
    "\n",
    "- if newsProb in ].6, 1.] - keep everything"
   ]
  },
  {
   "cell_type": "code",
   "execution_count": null,
   "metadata": {},
   "outputs": [],
   "source": [
    "import pandas as pd\n",
    "import re\n",
    "from joblib import load"
   ]
  },
  {
   "cell_type": "code",
   "execution_count": null,
   "metadata": {},
   "outputs": [],
   "source": [
    "# FEATURES\n",
    "# [['IstALIAS', 'propAN', 'txtSZ', 'countALI', 'countDTS', 'countHOUR', 'countCAPS']]\n",
    "\n",
    "# added \"aliases\" to all func in order to run them all without worrying about the inputs\n",
    "\n",
    "def IstALIAS(text, aliases):\n",
    "    \"\"\"where does the first alias appear, title?\"\"\"\n",
    "    indexs = []\n",
    "    for alias in aliases:\n",
    "        index = text.lower().find(alias.lower())\n",
    "        if index != -1:\n",
    "            indexs.append(index)\n",
    "    try:\n",
    "        a = text[:min(indexs)].count(' ')\n",
    "    except:\n",
    "        a = 10000000000000000000\n",
    "    return a\n",
    "\n",
    "def propAN(text, aliases):\n",
    "    \"\"\"proportion of alphanumeric chars in the text\"\"\"\n",
    "    alphanumeric_chars = sum(char.isalnum() for char in text)\n",
    "    proportion = alphanumeric_chars / len(text)\n",
    "    return proportion\n",
    "\n",
    "def txtSZ(text, aliases):\n",
    "    \"\"\"text size\"\"\"\n",
    "    return len(text)\n",
    "\n",
    "def countALI(text, aliases):\n",
    "    \"\"\"count how many aliases appear in the text\"\"\"\n",
    "    alias_count = {expression: 0 for expression in aliases}\n",
    "    for alias in aliases:\n",
    "        # Use re.escape to handle any special characters in the expression\n",
    "        pattern = re.escape(alias.lower())\n",
    "        matches = re.findall(alias, text.lower())\n",
    "        alias_count[alias] = len(matches)\n",
    "    return sum(alias_count.values())\n",
    "\n",
    "def countDTS(text, aliases):\n",
    "    \"\"\"count how many dates appear in the text\"\"\"\n",
    "    date_pattern = r'\\b(\\d{1,2}[-/]\\d{1,2}[-/]\\d{2,4}|\\d{4}[-/]\\d{1,2}[-/]\\d{1,2})\\b'\n",
    "    # 10/11/2024', '10/10/2024', '12-25-1990', '2024-11-05', '01/10/2024'\n",
    "    dates = re.findall(date_pattern, text)\n",
    "    date_count = len(dates)\n",
    "    return date_count\n",
    "\n",
    "def countHOUR(text, aliases):\n",
    "    \"\"\"count how many hours (ex.: hh:mm) appear in the text\"\"\"\n",
    "    time_pattern = r'\\b([01]?[0-9]|2[0-3]):[0-5][0-9]\\b'   \n",
    "    occurrences = re.findall(time_pattern, text)\n",
    "    return len(occurrences)\n",
    "\n",
    "def countCAPS(text, aliases):\n",
    "    \"\"\"count how many WORDS are upper\"\"\"\n",
    "    words = text.split()\n",
    "    uppercase_word_count = sum(1 for word in words if word.isupper())\n",
    "    return uppercase_word_count\n",
    "\n",
    "# Load the saved model\n",
    "clf = load('dtree01.joblib')"
   ]
  },
  {
   "cell_type": "code",
   "execution_count": null,
   "metadata": {},
   "outputs": [],
   "source": [
    "def filter_sentences_by_keywords(text, aliases):\n",
    "    # Split the text by punctuation and also by multiple spaces or newlines\n",
    "    sentences = re.split(r'(?<=[.!?]) +|\\s{2,}|\\n+', text)\n",
    "    # Filter sentences that contain any of the aliases\n",
    "    filtered_sentences = [sentence for sentence in sentences if any(keyword.lower() in sentence.lower() for keyword in aliases)]\n",
    "    # Join the filtered sentences back into a single string\n",
    "    filtered_text = ' '.join(filtered_sentences)\n",
    "    return filtered_text\n",
    "\n",
    "\n",
    "\n",
    "features = ['IstALIAS', 'propAN', 'txtSZ', 'countALI', 'countDTS', 'countHOUR', 'countCAPS']\n",
    "\n",
    "data = pd.read_parquet(\"data02.parquet\")\n",
    "\n",
    "sonae = data.iloc[3,0].copy()\n",
    "data.iloc[3,0] = [\"Sonae\"] ############## ele vai buscar SON mesmo q seja son...\n",
    "\n",
    "probs_distribution = [] #### probs_distri\n",
    "\n",
    "for row in data.index:\n",
    "    print(f\"\\n {row}\", end = \": \")\n",
    "    aliases = data.loc[row, \"aliases\"]\n",
    "    for column in data.columns[1:]:\n",
    "        print(column, end = \" | \")\n",
    "        validation = []\n",
    "        for req in data.loc[row, column]:\n",
    "            text = req[\"ExtractedText\"]\n",
    "            df = {}\n",
    "            for feature in features:\n",
    "                df[feature] = [globals()[feature](text, aliases)]\n",
    "            #prediction = clf.predict(pd.DataFrame(df)) # binario\n",
    "            probability = clf.predict_proba(pd.DataFrame(df))[0, 1]\n",
    "            probs_distribution.append(round(probability, 3)) #### probs_distri\n",
    "            if probability < 0.4:\n",
    "                pass\n",
    "            elif probability >= 0.4 and probability <= 0.6:\n",
    "                req[\"newsProbability\"] = round(probability, 3)\n",
    "                req[\"ExtractedText\"] = filter_sentences_by_keywords(text, aliases)\n",
    "                validation.append(req)\n",
    "            elif probability > 0.6:\n",
    "                req[\"newsProbability\"] = round(probability, 3)\n",
    "                validation.append(req)\n",
    "        data.loc[row, column] = validation\n",
    "\n",
    "data.iloc[3,0] = sonae\n",
    "\n",
    "data.to_parquet(\"data03.parquet\")"
   ]
  },
  {
   "cell_type": "code",
   "execution_count": null,
   "metadata": {},
   "outputs": [],
   "source": [
    "pd.read_parquet(\"data03.parquet\").map(lambda x: len(x)) - pd.read_parquet(\"data02.parquet\").map(lambda x: len(x))"
   ]
  },
  {
   "cell_type": "code",
   "execution_count": null,
   "metadata": {},
   "outputs": [],
   "source": [
    "pd.read_parquet(\"data03.parquet\").map(lambda x: len(x))"
   ]
  },
  {
   "cell_type": "code",
   "execution_count": null,
   "metadata": {},
   "outputs": [],
   "source": [
    "data.iloc[0,2][0]"
   ]
  },
  {
   "cell_type": "markdown",
   "metadata": {},
   "source": [
    "---"
   ]
  },
  {
   "cell_type": "markdown",
   "metadata": {},
   "source": [
    "# data04.paquet"
   ]
  },
  {
   "cell_type": "markdown",
   "metadata": {},
   "source": [
    "also:\n",
    "\n",
    "- ~~save all data in a single column or something different inside the parquet~~\n",
    "\n",
    "- ~~add news source to dicionary~~\n",
    "\n",
    "- ~~convert timestamp to YYYYMM because ts is from archived, not the new itself~~\n",
    "\n",
    "- ~~reorder dicionary~~\n",
    "\n",
    "- ~~remove near duplicates (90%)~~"
   ]
  },
  {
   "cell_type": "markdown",
   "metadata": {},
   "source": [
    "**merged api columns into news**"
   ]
  },
  {
   "cell_type": "code",
   "execution_count": 101,
   "metadata": {},
   "outputs": [
    {
     "data": {
      "text/html": [
       "<div>\n",
       "<style scoped>\n",
       "    .dataframe tbody tr th:only-of-type {\n",
       "        vertical-align: middle;\n",
       "    }\n",
       "\n",
       "    .dataframe tbody tr th {\n",
       "        vertical-align: top;\n",
       "    }\n",
       "\n",
       "    .dataframe thead th {\n",
       "        text-align: right;\n",
       "    }\n",
       "</style>\n",
       "<table border=\"1\" class=\"dataframe\">\n",
       "  <thead>\n",
       "    <tr style=\"text-align: right;\">\n",
       "      <th></th>\n",
       "      <th>aliases</th>\n",
       "      <th>news</th>\n",
       "    </tr>\n",
       "    <tr>\n",
       "      <th>companies</th>\n",
       "      <th></th>\n",
       "      <th></th>\n",
       "    </tr>\n",
       "  </thead>\n",
       "  <tbody>\n",
       "    <tr>\n",
       "      <th>Banco Comercial Português</th>\n",
       "      <td>[Banco Comercial Português, BCP]</td>\n",
       "      <td>[{'ExtractedText': 'DN   13 de Setembro de 200...</td>\n",
       "    </tr>\n",
       "    <tr>\n",
       "      <th>Galp Energia</th>\n",
       "      <td>[Galp Energia, GALP]</td>\n",
       "      <td>[{'ExtractedText': 'RTP Galp reforça posição n...</td>\n",
       "    </tr>\n",
       "    <tr>\n",
       "      <th>EDP</th>\n",
       "      <td>[EDP, Energias de Portugal, Electricidade de P...</td>\n",
       "      <td>[{'ExtractedText': 'DN-Sinteses Negocios 9 de ...</td>\n",
       "    </tr>\n",
       "    <tr>\n",
       "      <th>Sonae</th>\n",
       "      <td>[Sonae, SON]</td>\n",
       "      <td>[{'ExtractedText': 'DN-Sinteses 5 de Março de ...</td>\n",
       "    </tr>\n",
       "    <tr>\n",
       "      <th>Mota-Engil</th>\n",
       "      <td>[Mota-Engil, EGL]</td>\n",
       "      <td>[{'ExtractedText': 'RTP Lucro da Mota-Engil so...</td>\n",
       "    </tr>\n",
       "  </tbody>\n",
       "</table>\n",
       "</div>"
      ],
      "text/plain": [
       "                                                                     aliases  \\\n",
       "companies                                                                      \n",
       "Banco Comercial Português                   [Banco Comercial Português, BCP]   \n",
       "Galp Energia                                            [Galp Energia, GALP]   \n",
       "EDP                        [EDP, Energias de Portugal, Electricidade de P...   \n",
       "Sonae                                                           [Sonae, SON]   \n",
       "Mota-Engil                                                 [Mota-Engil, EGL]   \n",
       "\n",
       "                                                                        news  \n",
       "companies                                                                     \n",
       "Banco Comercial Português  [{'ExtractedText': 'DN   13 de Setembro de 200...  \n",
       "Galp Energia               [{'ExtractedText': 'RTP Galp reforça posição n...  \n",
       "EDP                        [{'ExtractedText': 'DN-Sinteses Negocios 9 de ...  \n",
       "Sonae                      [{'ExtractedText': 'DN-Sinteses 5 de Março de ...  \n",
       "Mota-Engil                 [{'ExtractedText': 'RTP Lucro da Mota-Engil so...  "
      ]
     },
     "execution_count": 101,
     "metadata": {},
     "output_type": "execute_result"
    }
   ],
   "source": [
    "df = pd.read_parquet(\"data03.parquet\").map(lambda x: list(x))\n",
    "df['news'] = df.iloc[:, 1:].sum(axis=1)\n",
    "df_filtered = df.iloc[:, [0, -1]]\n",
    "df_filtered"
   ]
  },
  {
   "cell_type": "code",
   "execution_count": 102,
   "metadata": {},
   "outputs": [
    {
     "data": {
      "text/html": [
       "<div>\n",
       "<style scoped>\n",
       "    .dataframe tbody tr th:only-of-type {\n",
       "        vertical-align: middle;\n",
       "    }\n",
       "\n",
       "    .dataframe tbody tr th {\n",
       "        vertical-align: top;\n",
       "    }\n",
       "\n",
       "    .dataframe thead th {\n",
       "        text-align: right;\n",
       "    }\n",
       "</style>\n",
       "<table border=\"1\" class=\"dataframe\">\n",
       "  <thead>\n",
       "    <tr style=\"text-align: right;\">\n",
       "      <th></th>\n",
       "      <th>aliases</th>\n",
       "      <th>news</th>\n",
       "    </tr>\n",
       "    <tr>\n",
       "      <th>companies</th>\n",
       "      <th></th>\n",
       "      <th></th>\n",
       "    </tr>\n",
       "  </thead>\n",
       "  <tbody>\n",
       "    <tr>\n",
       "      <th>Banco Comercial Português</th>\n",
       "      <td>2</td>\n",
       "      <td>1284</td>\n",
       "    </tr>\n",
       "    <tr>\n",
       "      <th>Galp Energia</th>\n",
       "      <td>2</td>\n",
       "      <td>1338</td>\n",
       "    </tr>\n",
       "    <tr>\n",
       "      <th>EDP</th>\n",
       "      <td>3</td>\n",
       "      <td>1456</td>\n",
       "    </tr>\n",
       "    <tr>\n",
       "      <th>Sonae</th>\n",
       "      <td>2</td>\n",
       "      <td>899</td>\n",
       "    </tr>\n",
       "    <tr>\n",
       "      <th>Mota-Engil</th>\n",
       "      <td>2</td>\n",
       "      <td>459</td>\n",
       "    </tr>\n",
       "  </tbody>\n",
       "</table>\n",
       "</div>"
      ],
      "text/plain": [
       "                           aliases  news\n",
       "companies                               \n",
       "Banco Comercial Português        2  1284\n",
       "Galp Energia                     2  1338\n",
       "EDP                              3  1456\n",
       "Sonae                            2   899\n",
       "Mota-Engil                       2   459"
      ]
     },
     "execution_count": 102,
     "metadata": {},
     "output_type": "execute_result"
    }
   ],
   "source": [
    "df_filtered.map(len)"
   ]
  },
  {
   "cell_type": "markdown",
   "metadata": {},
   "source": [
    "**convert timestamp +  add sources + reorder dictionary**"
   ]
  },
  {
   "cell_type": "code",
   "execution_count": 103,
   "metadata": {},
   "outputs": [],
   "source": [
    "def tstampANDsourceANDreorderdict(lista):\n",
    "    new_list = []\n",
    "    noticias = pd.read_csv(\"noticias.csv\")\n",
    "    for req in lista:\n",
    "        # news source\n",
    "        linkToArchive = req[\"linkToArchive\"]\n",
    "        foundSource = False\n",
    "        for index, row in noticias.iterrows():\n",
    "            if row.iloc[0] in linkToArchive:\n",
    "                req[\"newsSource\"] = row.iloc[1]\n",
    "                foundSource = True\n",
    "                break\n",
    "            else:\n",
    "                pass\n",
    "        if not foundSource:\n",
    "            req[\"newsSource\"] = \"unknown\"\n",
    "        # timestamp\n",
    "        req[\"tstamp\"] = req[\"tstamp\"][:6]\n",
    "        # reorder dict\n",
    "        ordered_keys = [\"tstamp\", \"newsSource\", \"newsProbability\", \"linkToArchive\", \"ExtractedText\"]\n",
    "        reordered_dict = {key: req[key] for key in ordered_keys}\n",
    "        # SAVE\n",
    "        new_list.append(reordered_dict)\n",
    "    return new_list\n",
    "\n",
    "df_filtered.loc[:, \"news\"] = df_filtered[\"news\"].map(lambda x: tstampANDsourceANDreorderdict(x))"
   ]
  },
  {
   "cell_type": "code",
   "execution_count": 104,
   "metadata": {},
   "outputs": [
    {
     "data": {
      "text/plain": [
       "{'tstamp': '200109',\n",
       " 'newsSource': 'Diário de Notícias',\n",
       " 'newsProbability': 0.933,\n",
       " 'linkToArchive': 'https://arquivo.pt/wayback/20010913052557/http://www.dn.pt/int/13p4x.htm',\n",
       " 'ExtractedText': 'DN \\xa0 13 de Setembro de 2001 Intalações do BCP servem de refúgio As instalações do Banco Comercial Português, em Wall Street, foram utilizadas como refúgio por dezenas de pessoas depois dos atentados ao World Trade Center. Nenhum dos 48 funcionários daquela sucursal bancário ficou ferido e os dois trabalhadores que ainda não tinham comunicado com empresa fizeram-no na madrugada de ontem. Voo TAP para Newark chega hoje O voo 1331 da TAP que partiu terça-feira de Lisboa para Newark, nos Estados Unidos, deve chegar hoje ao seu destino. Segundo anunciou a porta-voz da companhia aérea, o avião foi direccionado para a cidade de Halifax, no Canadá, quando os EUA encerraram todos os seus aeroportos a vôos comerciais que se dirigissem para o território. EUA agradecem apoio português O representante diplomático dos EUA em Portugal, William McGlynn, agradeceu a solidariedade com que o Governo e o povo têm acompanhado a tragédia. \"Rezamos para que não existam vítimas portuguesas nos ataques que não fizeram distinção de nacionalidade\", disse o diplomata, recebido ontem por Jorge Sampaio. Governo sueco adia cimeira O primeiro-ministro da Suécia, Goran Person, adiou a terceira cimeira da esquerda liberal, inicialmente agendada para decorrer amanhã e depois, em Estocolmo. O encontro iria reunir chefes de Estado e de Governo de vários países, entre os quais o primeiro-ministro português, António Guterres. Portugueses de volta ao trabalho O consulado português em Nova Iorque retomou ontem funções nas instalações do ICEP, na 5.ª Avenida, onde ficará temporariamente alojado por questões de segurança. Também os portugueses que trabalham em Manhattan voltaram ao serviço, apesar de a cidade viver o rescaldo dos atentados e estar quase \"deserta\". Maçonaria condena atentados Contrariando a discrição que o caracteriza, o Grande Oriente Lusitano (GOL) divulgou ontem um comunicado assinado pelo grão-mestre, Eugénio de Oliveira, lamentando os ataques terroristas de terça-feira e dirigindo um apelo \"à necessidade de luta contra os fanatismos que levam à destruição de vidas humanas\". PCTP/MRPP contra imperialismo \"O imperialismo é um gigante com pés de barro e é o povo norte-americano a primeira vítima dos desmandos cometidos pela classe dominante do seu país.\" Foi esta a reacção do PCTP/MRPP, que diz recear que o \"imperialismo\" dos EUA descambe numa retaliação sem limites contra os alvos que considerar inimigos. Comunistas retomam linha dura O PCP endureceu ontem a sua posição face aos atentados nos EUA. Em comunicado, a Comissão Política do Comité Central lembrou o \"rol de crimes e agressões\" cometidos pelos Estados Unidos e países aliados, e diz esperar que os ataques de terça-feira não sirvam \"de pretexto para retirar apoio a justas lutas dos povos\". Falso alarme nas Amoreiras As mil pessoas que trabalham na torre três das Amoreiras, em Lisboa, tiveram ontem de abandonar o edifício entre as 15 e as 16 horas, enquanto os agentes da Brigada de Inactivação de Agentes Explosivos da PSP vistoriaram o edifíco devido a uma ameaça de bomba. Mas \"nada de anormal foi encontrado\", disse a PSP. Protecção Civil apoia EUA O Serviço Nacional de Protecção Civil tem 58 elementos preparados para seguir para os EUA, em quatro equipas: uma de assistência psicológica, uma de assistência médica, uma de resgate e outra de identificação. Lisboa associa-se assim à disponibilidade da UE para prestar assistência técnica e sanitária aos EUA. National Geographic de luto Dois colaboradores da National Geographic morreram nos atentados, levando a sua representação portuguesa a adiar uma conferência científica marcada para amanhã, na Sociedade de Geografia. Os conferencistas Nick Nichols e Michael Fay, que se encontram na Alemanha, querem regressar de imediato a casa. Jornais não chegam às ilhas As edições da imprensa nacional e internacional de ontem não chegaram às regiões autónomas, devido às medidas de restrição da carga aérea tomadas pela TAP por razões de segurança. Uma situação que poderá repetir-se hoje, caso não seja possível levantar o embargo aos jornais destinados às Ilhas. A \"ajuda\" dos simuladores É provável que alguns dos terroristas que desviaram os aviões envolvidos no ataque tivessem experiência de pilotagem, mas, segundo os especialistas, isso nem seria sequer imprescindível. Um simulador de voo pode proporcionar conhecimentos suficientes para \"pilotar\" um aparelho, pelo menos naquelas circunstâncias. NASA aperta a segurança A agência espacial americana deu ontem aos funcionários a possibilidade de não comparecerem no local de trabalho, caso se sentissem afectados pelo ataque terrorista. O Kennedy Space Center, na Florida, que alberga a frota espacial, esteve em alerta máximo. Na sede, em Washington, todos os carros foram revistados. Reunião do FMI pode ser anulada A assembleia anual do FMI, prevista para finais de Setembro em Washington, poderá ser anulada, em virtude dos ataques terroristas aos EUA, admitiu o ministro das Finanças alemão, Hans Eichel. A discussão sobre o cancelamento ou não da reunião conjunta do FMI e do Banco Mundial está, no entanto, ainda em aberto. BCE está a construir \"bunker\" O Banco Central Europeu tem praticamente concluído, em Frankfurt, um \"bunker\" que servirá de refúgio em caso de catástrofe, revelou ontem Wim Duisenberg, presidente da instituição. As instalações permitirão ao BCE manter a sua actividade perante atentados do tipo dos que atingiram Nova Iorque. \"Site\" do DN lidera top O site do Diário de Notícias liderou nos últimos dois dias, na sequência das notícias sobre os atentados nos EUA, o top do portal Sapo, que mede o número de consultas a páginas na Net feitas a partir daquele portal, batendo inclusive os diários desportivos. Ontem à noite, o top era comandado pelo DN, seguido por \"A Bola\". Morreu produtor de \"Frasier\" David Angell, 54 anos, produtor da série televisiva Frasier , está entre as vítimas dos atentados de terça-feira nos EUA. Ele a sua mulher Lynn viajavam a bordo de um dos aviões que se despenharam. Ao longo da sua carreira, Angell venceu alguns prémios Emmy e escreveu vários episódios para séries como Cheers . Copyright © 1995,2001 Diário de Notícias, SA Todos os direitos reservados webmaster@DnOnline'}"
      ]
     },
     "execution_count": 104,
     "metadata": {},
     "output_type": "execute_result"
    }
   ],
   "source": [
    "df_filtered.iloc[0,-1][0]"
   ]
  },
  {
   "cell_type": "code",
   "execution_count": 106,
   "metadata": {},
   "outputs": [
    {
     "data": {
      "text/html": [
       "<div>\n",
       "<style scoped>\n",
       "    .dataframe tbody tr th:only-of-type {\n",
       "        vertical-align: middle;\n",
       "    }\n",
       "\n",
       "    .dataframe tbody tr th {\n",
       "        vertical-align: top;\n",
       "    }\n",
       "\n",
       "    .dataframe thead th {\n",
       "        text-align: right;\n",
       "    }\n",
       "</style>\n",
       "<table border=\"1\" class=\"dataframe\">\n",
       "  <thead>\n",
       "    <tr style=\"text-align: right;\">\n",
       "      <th></th>\n",
       "      <th>aliases</th>\n",
       "      <th>news</th>\n",
       "    </tr>\n",
       "    <tr>\n",
       "      <th>companies</th>\n",
       "      <th></th>\n",
       "      <th></th>\n",
       "    </tr>\n",
       "  </thead>\n",
       "  <tbody>\n",
       "    <tr>\n",
       "      <th>Banco Comercial Português</th>\n",
       "      <td>2</td>\n",
       "      <td>1284</td>\n",
       "    </tr>\n",
       "    <tr>\n",
       "      <th>Galp Energia</th>\n",
       "      <td>2</td>\n",
       "      <td>1338</td>\n",
       "    </tr>\n",
       "    <tr>\n",
       "      <th>EDP</th>\n",
       "      <td>3</td>\n",
       "      <td>1456</td>\n",
       "    </tr>\n",
       "    <tr>\n",
       "      <th>Sonae</th>\n",
       "      <td>2</td>\n",
       "      <td>899</td>\n",
       "    </tr>\n",
       "    <tr>\n",
       "      <th>Mota-Engil</th>\n",
       "      <td>2</td>\n",
       "      <td>459</td>\n",
       "    </tr>\n",
       "  </tbody>\n",
       "</table>\n",
       "</div>"
      ],
      "text/plain": [
       "                           aliases  news\n",
       "companies                               \n",
       "Banco Comercial Português        2  1284\n",
       "Galp Energia                     2  1338\n",
       "EDP                              3  1456\n",
       "Sonae                            2   899\n",
       "Mota-Engil                       2   459"
      ]
     },
     "execution_count": 106,
     "metadata": {},
     "output_type": "execute_result"
    }
   ],
   "source": [
    "df_filtered.map(len)"
   ]
  },
  {
   "cell_type": "code",
   "execution_count": 107,
   "metadata": {},
   "outputs": [
    {
     "name": "stdout",
     "output_type": "stream",
     "text": [
      "42 of 1284 | 309 of 1284 | 348 of 1284 | 799 of 1284 | 936 of 1284 | 1027 of 1284 | 1145 of 1284 | 1226 of 1284 | \n",
      "267 of 1338 | 315 of 1338 | 323 of 1338 | 339 of 1338 | 380 of 1338 | 386 of 1338 | 389 of 1338 | 412 of 1338 | 510 of 1338 | 570 of 1338 | 615 of 1338 | 764 of 1338 | 917 of 1338 | 950 of 1338 | 977 of 1338 | 1058 of 1338 | 1062 of 1338 | 1073 of 1338 | 1206 of 1338 | \n",
      "51 of 1456 | 76 of 1456 | 526 of 1456 | 660 of 1456 | 678 of 1456 | 689 of 1456 | 885 of 1456 | 993 of 1456 | 1203 of 1456 | \n",
      "209 of 899 | 285 of 899 | 598 of 899 | 623 of 899 | 715 of 899 | 734 of 899 | 758 of 899 | 779 of 899 | 873 of 899 | 890 of 899 | \n",
      "37 of 459 | 38 of 459 | 40 of 459 | 261 of 459 | 284 of 459 | 313 of 459 | 389 of 459 | \n"
     ]
    },
    {
     "data": {
      "text/html": [
       "<div>\n",
       "<style scoped>\n",
       "    .dataframe tbody tr th:only-of-type {\n",
       "        vertical-align: middle;\n",
       "    }\n",
       "\n",
       "    .dataframe tbody tr th {\n",
       "        vertical-align: top;\n",
       "    }\n",
       "\n",
       "    .dataframe thead th {\n",
       "        text-align: right;\n",
       "    }\n",
       "</style>\n",
       "<table border=\"1\" class=\"dataframe\">\n",
       "  <thead>\n",
       "    <tr style=\"text-align: right;\">\n",
       "      <th></th>\n",
       "      <th>aliases</th>\n",
       "      <th>news</th>\n",
       "    </tr>\n",
       "    <tr>\n",
       "      <th>companies</th>\n",
       "      <th></th>\n",
       "      <th></th>\n",
       "    </tr>\n",
       "  </thead>\n",
       "  <tbody>\n",
       "    <tr>\n",
       "      <th>Banco Comercial Português</th>\n",
       "      <td>2</td>\n",
       "      <td>807</td>\n",
       "    </tr>\n",
       "    <tr>\n",
       "      <th>Galp Energia</th>\n",
       "      <td>2</td>\n",
       "      <td>809</td>\n",
       "    </tr>\n",
       "    <tr>\n",
       "      <th>EDP</th>\n",
       "      <td>3</td>\n",
       "      <td>954</td>\n",
       "    </tr>\n",
       "    <tr>\n",
       "      <th>Sonae</th>\n",
       "      <td>2</td>\n",
       "      <td>520</td>\n",
       "    </tr>\n",
       "    <tr>\n",
       "      <th>Mota-Engil</th>\n",
       "      <td>2</td>\n",
       "      <td>296</td>\n",
       "    </tr>\n",
       "  </tbody>\n",
       "</table>\n",
       "</div>"
      ],
      "text/plain": [
       "                           aliases  news\n",
       "companies                               \n",
       "Banco Comercial Português        2   807\n",
       "Galp Energia                     2   809\n",
       "EDP                              3   954\n",
       "Sonae                            2   520\n",
       "Mota-Engil                       2   296"
      ]
     },
     "execution_count": 107,
     "metadata": {},
     "output_type": "execute_result"
    }
   ],
   "source": [
    "from fuzzywuzzy import fuzz\n",
    "import random\n",
    "\n",
    "def nearDuplicates(lista, threshold=90):\n",
    "    total_data = len(lista) # status\n",
    "    curr_data = 0 # status\n",
    "    new_list = [lista[0]]\n",
    "    texts = [lista[0][\"ExtractedText\"]]\n",
    "    for req in lista[1:]:\n",
    "        curr_data += 1 # status\n",
    "        ExtractedText = req[\"ExtractedText\"]\n",
    "        similarity = 0\n",
    "        for txt in texts:\n",
    "            similarity = max(similarity, fuzz.ratio(txt, ExtractedText))\n",
    "            if similarity > threshold:\n",
    "                break\n",
    "        if similarity <= threshold:\n",
    "            new_list.append(req)\n",
    "            texts.append(ExtractedText)\n",
    "        if random.uniform(0, 1) < 0.01: # status\n",
    "            print(f\"{curr_data} of {total_data}\", end = \" | \") # status\n",
    "    print(\"\") # status\n",
    "    return new_list\n",
    "\n",
    "df_filtered.loc[:, \"news\"] = df_filtered[\"news\"].map(lambda x: nearDuplicates(x))\n",
    "df_filtered.map(len)"
   ]
  },
  {
   "cell_type": "code",
   "execution_count": null,
   "metadata": {},
   "outputs": [],
   "source": [
    "df_filtered.iloc[0,1][0]"
   ]
  },
  {
   "cell_type": "code",
   "execution_count": 110,
   "metadata": {},
   "outputs": [],
   "source": [
    "#df_filtered.to_parquet(\"data04.parquet\")"
   ]
  },
  {
   "cell_type": "code",
   "execution_count": 114,
   "metadata": {},
   "outputs": [
    {
     "data": {
      "text/html": [
       "<div>\n",
       "<style scoped>\n",
       "    .dataframe tbody tr th:only-of-type {\n",
       "        vertical-align: middle;\n",
       "    }\n",
       "\n",
       "    .dataframe tbody tr th {\n",
       "        vertical-align: top;\n",
       "    }\n",
       "\n",
       "    .dataframe thead th {\n",
       "        text-align: right;\n",
       "    }\n",
       "</style>\n",
       "<table border=\"1\" class=\"dataframe\">\n",
       "  <thead>\n",
       "    <tr style=\"text-align: right;\">\n",
       "      <th></th>\n",
       "      <th>aliases</th>\n",
       "      <th>news</th>\n",
       "    </tr>\n",
       "    <tr>\n",
       "      <th>companies</th>\n",
       "      <th></th>\n",
       "      <th></th>\n",
       "    </tr>\n",
       "  </thead>\n",
       "  <tbody>\n",
       "    <tr>\n",
       "      <th>Banco Comercial Português</th>\n",
       "      <td>[Banco Comercial Português, BCP]</td>\n",
       "      <td>[{'ExtractedText': 'DN   13 de Setembro de 200...</td>\n",
       "    </tr>\n",
       "    <tr>\n",
       "      <th>Galp Energia</th>\n",
       "      <td>[Galp Energia, GALP]</td>\n",
       "      <td>[{'ExtractedText': 'RTP Galp reforça posição n...</td>\n",
       "    </tr>\n",
       "    <tr>\n",
       "      <th>EDP</th>\n",
       "      <td>[EDP, Energias de Portugal, Electricidade de P...</td>\n",
       "      <td>[{'ExtractedText': 'DN-Sinteses Negocios 9 de ...</td>\n",
       "    </tr>\n",
       "    <tr>\n",
       "      <th>Sonae</th>\n",
       "      <td>[Sonae, SON]</td>\n",
       "      <td>[{'ExtractedText': 'DN-Sinteses 5 de Março de ...</td>\n",
       "    </tr>\n",
       "    <tr>\n",
       "      <th>Mota-Engil</th>\n",
       "      <td>[Mota-Engil, EGL]</td>\n",
       "      <td>[{'ExtractedText': 'RTP Lucro da Mota-Engil so...</td>\n",
       "    </tr>\n",
       "  </tbody>\n",
       "</table>\n",
       "</div>"
      ],
      "text/plain": [
       "                                                                     aliases  \\\n",
       "companies                                                                      \n",
       "Banco Comercial Português                   [Banco Comercial Português, BCP]   \n",
       "Galp Energia                                            [Galp Energia, GALP]   \n",
       "EDP                        [EDP, Energias de Portugal, Electricidade de P...   \n",
       "Sonae                                                           [Sonae, SON]   \n",
       "Mota-Engil                                                 [Mota-Engil, EGL]   \n",
       "\n",
       "                                                                        news  \n",
       "companies                                                                     \n",
       "Banco Comercial Português  [{'ExtractedText': 'DN   13 de Setembro de 200...  \n",
       "Galp Energia               [{'ExtractedText': 'RTP Galp reforça posição n...  \n",
       "EDP                        [{'ExtractedText': 'DN-Sinteses Negocios 9 de ...  \n",
       "Sonae                      [{'ExtractedText': 'DN-Sinteses 5 de Março de ...  \n",
       "Mota-Engil                 [{'ExtractedText': 'RTP Lucro da Mota-Engil so...  "
      ]
     },
     "execution_count": 114,
     "metadata": {},
     "output_type": "execute_result"
    }
   ],
   "source": [
    "pd.read_parquet(\"data04.parquet\")"
   ]
  },
  {
   "cell_type": "code",
   "execution_count": 115,
   "metadata": {},
   "outputs": [
    {
     "data": {
      "text/plain": [
       "{'ExtractedText': 'DN \\xa0 13 de Setembro de 2001 Intalações do BCP servem de refúgio As instalações do Banco Comercial Português, em Wall Street, foram utilizadas como refúgio por dezenas de pessoas depois dos atentados ao World Trade Center. Nenhum dos 48 funcionários daquela sucursal bancário ficou ferido e os dois trabalhadores que ainda não tinham comunicado com empresa fizeram-no na madrugada de ontem. Voo TAP para Newark chega hoje O voo 1331 da TAP que partiu terça-feira de Lisboa para Newark, nos Estados Unidos, deve chegar hoje ao seu destino. Segundo anunciou a porta-voz da companhia aérea, o avião foi direccionado para a cidade de Halifax, no Canadá, quando os EUA encerraram todos os seus aeroportos a vôos comerciais que se dirigissem para o território. EUA agradecem apoio português O representante diplomático dos EUA em Portugal, William McGlynn, agradeceu a solidariedade com que o Governo e o povo têm acompanhado a tragédia. \"Rezamos para que não existam vítimas portuguesas nos ataques que não fizeram distinção de nacionalidade\", disse o diplomata, recebido ontem por Jorge Sampaio. Governo sueco adia cimeira O primeiro-ministro da Suécia, Goran Person, adiou a terceira cimeira da esquerda liberal, inicialmente agendada para decorrer amanhã e depois, em Estocolmo. O encontro iria reunir chefes de Estado e de Governo de vários países, entre os quais o primeiro-ministro português, António Guterres. Portugueses de volta ao trabalho O consulado português em Nova Iorque retomou ontem funções nas instalações do ICEP, na 5.ª Avenida, onde ficará temporariamente alojado por questões de segurança. Também os portugueses que trabalham em Manhattan voltaram ao serviço, apesar de a cidade viver o rescaldo dos atentados e estar quase \"deserta\". Maçonaria condena atentados Contrariando a discrição que o caracteriza, o Grande Oriente Lusitano (GOL) divulgou ontem um comunicado assinado pelo grão-mestre, Eugénio de Oliveira, lamentando os ataques terroristas de terça-feira e dirigindo um apelo \"à necessidade de luta contra os fanatismos que levam à destruição de vidas humanas\". PCTP/MRPP contra imperialismo \"O imperialismo é um gigante com pés de barro e é o povo norte-americano a primeira vítima dos desmandos cometidos pela classe dominante do seu país.\" Foi esta a reacção do PCTP/MRPP, que diz recear que o \"imperialismo\" dos EUA descambe numa retaliação sem limites contra os alvos que considerar inimigos. Comunistas retomam linha dura O PCP endureceu ontem a sua posição face aos atentados nos EUA. Em comunicado, a Comissão Política do Comité Central lembrou o \"rol de crimes e agressões\" cometidos pelos Estados Unidos e países aliados, e diz esperar que os ataques de terça-feira não sirvam \"de pretexto para retirar apoio a justas lutas dos povos\". Falso alarme nas Amoreiras As mil pessoas que trabalham na torre três das Amoreiras, em Lisboa, tiveram ontem de abandonar o edifício entre as 15 e as 16 horas, enquanto os agentes da Brigada de Inactivação de Agentes Explosivos da PSP vistoriaram o edifíco devido a uma ameaça de bomba. Mas \"nada de anormal foi encontrado\", disse a PSP. Protecção Civil apoia EUA O Serviço Nacional de Protecção Civil tem 58 elementos preparados para seguir para os EUA, em quatro equipas: uma de assistência psicológica, uma de assistência médica, uma de resgate e outra de identificação. Lisboa associa-se assim à disponibilidade da UE para prestar assistência técnica e sanitária aos EUA. National Geographic de luto Dois colaboradores da National Geographic morreram nos atentados, levando a sua representação portuguesa a adiar uma conferência científica marcada para amanhã, na Sociedade de Geografia. Os conferencistas Nick Nichols e Michael Fay, que se encontram na Alemanha, querem regressar de imediato a casa. Jornais não chegam às ilhas As edições da imprensa nacional e internacional de ontem não chegaram às regiões autónomas, devido às medidas de restrição da carga aérea tomadas pela TAP por razões de segurança. Uma situação que poderá repetir-se hoje, caso não seja possível levantar o embargo aos jornais destinados às Ilhas. A \"ajuda\" dos simuladores É provável que alguns dos terroristas que desviaram os aviões envolvidos no ataque tivessem experiência de pilotagem, mas, segundo os especialistas, isso nem seria sequer imprescindível. Um simulador de voo pode proporcionar conhecimentos suficientes para \"pilotar\" um aparelho, pelo menos naquelas circunstâncias. NASA aperta a segurança A agência espacial americana deu ontem aos funcionários a possibilidade de não comparecerem no local de trabalho, caso se sentissem afectados pelo ataque terrorista. O Kennedy Space Center, na Florida, que alberga a frota espacial, esteve em alerta máximo. Na sede, em Washington, todos os carros foram revistados. Reunião do FMI pode ser anulada A assembleia anual do FMI, prevista para finais de Setembro em Washington, poderá ser anulada, em virtude dos ataques terroristas aos EUA, admitiu o ministro das Finanças alemão, Hans Eichel. A discussão sobre o cancelamento ou não da reunião conjunta do FMI e do Banco Mundial está, no entanto, ainda em aberto. BCE está a construir \"bunker\" O Banco Central Europeu tem praticamente concluído, em Frankfurt, um \"bunker\" que servirá de refúgio em caso de catástrofe, revelou ontem Wim Duisenberg, presidente da instituição. As instalações permitirão ao BCE manter a sua actividade perante atentados do tipo dos que atingiram Nova Iorque. \"Site\" do DN lidera top O site do Diário de Notícias liderou nos últimos dois dias, na sequência das notícias sobre os atentados nos EUA, o top do portal Sapo, que mede o número de consultas a páginas na Net feitas a partir daquele portal, batendo inclusive os diários desportivos. Ontem à noite, o top era comandado pelo DN, seguido por \"A Bola\". Morreu produtor de \"Frasier\" David Angell, 54 anos, produtor da série televisiva Frasier , está entre as vítimas dos atentados de terça-feira nos EUA. Ele a sua mulher Lynn viajavam a bordo de um dos aviões que se despenharam. Ao longo da sua carreira, Angell venceu alguns prémios Emmy e escreveu vários episódios para séries como Cheers . Copyright © 1995,2001 Diário de Notícias, SA Todos os direitos reservados webmaster@DnOnline',\n",
       " 'linkToArchive': 'https://arquivo.pt/wayback/20010913052557/http://www.dn.pt/int/13p4x.htm',\n",
       " 'newsProbability': 0.933,\n",
       " 'newsSource': 'Diário de Notícias',\n",
       " 'tstamp': '200109'}"
      ]
     },
     "execution_count": 115,
     "metadata": {},
     "output_type": "execute_result"
    }
   ],
   "source": [
    "pd.read_parquet(\"data04.parquet\").iloc[0,1][0]"
   ]
  },
  {
   "cell_type": "code",
   "execution_count": null,
   "metadata": {},
   "outputs": [],
   "source": []
  }
 ],
 "metadata": {
  "kernelspec": {
   "display_name": "fcdProj",
   "language": "python",
   "name": "python3"
  },
  "language_info": {
   "codemirror_mode": {
    "name": "ipython",
    "version": 3
   },
   "file_extension": ".py",
   "mimetype": "text/x-python",
   "name": "python",
   "nbconvert_exporter": "python",
   "pygments_lexer": "ipython3",
   "version": "3.10.15"
  }
 },
 "nbformat": 4,
 "nbformat_minor": 2
}
