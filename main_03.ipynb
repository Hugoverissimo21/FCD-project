{
 "cells": [
  {
   "cell_type": "markdown",
   "metadata": {},
   "source": [
    "problemas:\n",
    "\n",
    "- filtrar noticias muito parecidas\n",
    "\n",
    "- 1. **fazer NER/sentiment, dois iguais, ver se é 80% igual?**\n",
    "\n",
    "- 2. selecionar 4 frases aleatórias ou contar palavras, e se for igual pronto?\n",
    "\n",
    "- 3. \"bbiggest substring\" - se >80%, é igual ?\n",
    "\n",
    "- que modelo usar para Sentiment Analysis ?\n",
    "\n",
    "\n",
    "tentar NER + Sentiment Analysis"
   ]
  },
  {
   "cell_type": "markdown",
   "metadata": {},
   "source": [
    "---"
   ]
  },
  {
   "cell_type": "markdown",
   "metadata": {},
   "source": [
    "to do now:\n",
    "\n",
    "- ~~save all data in a single column or something different inside the parquet~~\n",
    "\n",
    "- ~~add news source to dicionary~~\n",
    "\n",
    "- ~~convert timestamp to YYYYMM because ts is from archived, not the new itself~~\n",
    "\n",
    "- ~~reorder dicionary~~"
   ]
  },
  {
   "cell_type": "code",
   "execution_count": 247,
   "metadata": {},
   "outputs": [],
   "source": [
    "import pandas as pd\n",
    "from datetime import datetime"
   ]
  },
  {
   "cell_type": "markdown",
   "metadata": {},
   "source": [
    "---"
   ]
  },
  {
   "cell_type": "markdown",
   "metadata": {},
   "source": [
    "**merged api columns into news**"
   ]
  },
  {
   "cell_type": "code",
   "execution_count": 248,
   "metadata": {},
   "outputs": [
    {
     "data": {
      "text/html": [
       "<div>\n",
       "<style scoped>\n",
       "    .dataframe tbody tr th:only-of-type {\n",
       "        vertical-align: middle;\n",
       "    }\n",
       "\n",
       "    .dataframe tbody tr th {\n",
       "        vertical-align: top;\n",
       "    }\n",
       "\n",
       "    .dataframe thead th {\n",
       "        text-align: right;\n",
       "    }\n",
       "</style>\n",
       "<table border=\"1\" class=\"dataframe\">\n",
       "  <thead>\n",
       "    <tr style=\"text-align: right;\">\n",
       "      <th></th>\n",
       "      <th>aliases</th>\n",
       "      <th>news</th>\n",
       "    </tr>\n",
       "    <tr>\n",
       "      <th>companies</th>\n",
       "      <th></th>\n",
       "      <th></th>\n",
       "    </tr>\n",
       "  </thead>\n",
       "  <tbody>\n",
       "    <tr>\n",
       "      <th>Banco Comercial Português</th>\n",
       "      <td>[Banco Comercial Português, BCP]</td>\n",
       "      <td>[{'ExtractedText': 'DN   13 de Setembro de 200...</td>\n",
       "    </tr>\n",
       "    <tr>\n",
       "      <th>Galp Energia</th>\n",
       "      <td>[Galp Energia, GALP]</td>\n",
       "      <td>[{'ExtractedText': 'RTP Galp reforça posição n...</td>\n",
       "    </tr>\n",
       "    <tr>\n",
       "      <th>EDP</th>\n",
       "      <td>[EDP, Energias de Portugal, Electricidade de P...</td>\n",
       "      <td>[{'ExtractedText': 'DN-Sinteses Negocios 9 de ...</td>\n",
       "    </tr>\n",
       "    <tr>\n",
       "      <th>Sonae</th>\n",
       "      <td>[Sonae, SON]</td>\n",
       "      <td>[{'ExtractedText': 'DN-Sinteses 5 de Março de ...</td>\n",
       "    </tr>\n",
       "    <tr>\n",
       "      <th>Mota-Engil</th>\n",
       "      <td>[Mota-Engil, EGL]</td>\n",
       "      <td>[{'ExtractedText': 'RTP Lucro da Mota-Engil so...</td>\n",
       "    </tr>\n",
       "  </tbody>\n",
       "</table>\n",
       "</div>"
      ],
      "text/plain": [
       "                                                                     aliases  \\\n",
       "companies                                                                      \n",
       "Banco Comercial Português                   [Banco Comercial Português, BCP]   \n",
       "Galp Energia                                            [Galp Energia, GALP]   \n",
       "EDP                        [EDP, Energias de Portugal, Electricidade de P...   \n",
       "Sonae                                                           [Sonae, SON]   \n",
       "Mota-Engil                                                 [Mota-Engil, EGL]   \n",
       "\n",
       "                                                                        news  \n",
       "companies                                                                     \n",
       "Banco Comercial Português  [{'ExtractedText': 'DN   13 de Setembro de 200...  \n",
       "Galp Energia               [{'ExtractedText': 'RTP Galp reforça posição n...  \n",
       "EDP                        [{'ExtractedText': 'DN-Sinteses Negocios 9 de ...  \n",
       "Sonae                      [{'ExtractedText': 'DN-Sinteses 5 de Março de ...  \n",
       "Mota-Engil                 [{'ExtractedText': 'RTP Lucro da Mota-Engil so...  "
      ]
     },
     "execution_count": 248,
     "metadata": {},
     "output_type": "execute_result"
    }
   ],
   "source": [
    "df = pd.read_parquet(\"data03.parquet\").map(lambda x: list(x))\n",
    "df['news'] = df.iloc[:, 1:].sum(axis=1)\n",
    "df_filtered = df.iloc[:, [0, -1]]\n",
    "df_filtered"
   ]
  },
  {
   "cell_type": "code",
   "execution_count": 249,
   "metadata": {},
   "outputs": [
    {
     "data": {
      "text/html": [
       "<div>\n",
       "<style scoped>\n",
       "    .dataframe tbody tr th:only-of-type {\n",
       "        vertical-align: middle;\n",
       "    }\n",
       "\n",
       "    .dataframe tbody tr th {\n",
       "        vertical-align: top;\n",
       "    }\n",
       "\n",
       "    .dataframe thead th {\n",
       "        text-align: right;\n",
       "    }\n",
       "</style>\n",
       "<table border=\"1\" class=\"dataframe\">\n",
       "  <thead>\n",
       "    <tr style=\"text-align: right;\">\n",
       "      <th></th>\n",
       "      <th>aliases</th>\n",
       "      <th>news</th>\n",
       "    </tr>\n",
       "    <tr>\n",
       "      <th>companies</th>\n",
       "      <th></th>\n",
       "      <th></th>\n",
       "    </tr>\n",
       "  </thead>\n",
       "  <tbody>\n",
       "    <tr>\n",
       "      <th>Banco Comercial Português</th>\n",
       "      <td>2</td>\n",
       "      <td>1284</td>\n",
       "    </tr>\n",
       "    <tr>\n",
       "      <th>Galp Energia</th>\n",
       "      <td>2</td>\n",
       "      <td>1338</td>\n",
       "    </tr>\n",
       "    <tr>\n",
       "      <th>EDP</th>\n",
       "      <td>3</td>\n",
       "      <td>1456</td>\n",
       "    </tr>\n",
       "    <tr>\n",
       "      <th>Sonae</th>\n",
       "      <td>2</td>\n",
       "      <td>899</td>\n",
       "    </tr>\n",
       "    <tr>\n",
       "      <th>Mota-Engil</th>\n",
       "      <td>2</td>\n",
       "      <td>459</td>\n",
       "    </tr>\n",
       "  </tbody>\n",
       "</table>\n",
       "</div>"
      ],
      "text/plain": [
       "                           aliases  news\n",
       "companies                               \n",
       "Banco Comercial Português        2  1284\n",
       "Galp Energia                     2  1338\n",
       "EDP                              3  1456\n",
       "Sonae                            2   899\n",
       "Mota-Engil                       2   459"
      ]
     },
     "execution_count": 249,
     "metadata": {},
     "output_type": "execute_result"
    }
   ],
   "source": [
    "df_filtered.map(len)"
   ]
  },
  {
   "cell_type": "markdown",
   "metadata": {},
   "source": [
    "**convert timestamp +  add sources + reorder dictionary**"
   ]
  },
  {
   "cell_type": "code",
   "execution_count": 250,
   "metadata": {},
   "outputs": [],
   "source": [
    "def tstampANDsourceANDreorderdict(lista):\n",
    "    new_list = []\n",
    "    noticias = pd.read_csv(\"noticias.csv\")\n",
    "    for req in lista:\n",
    "        # news source\n",
    "        linkToArchive = req[\"linkToArchive\"]\n",
    "        foundSource = False\n",
    "        for index, row in noticias.iterrows():\n",
    "            if row.iloc[0] in linkToArchive:\n",
    "                req[\"newsSource\"] = row.iloc[1]\n",
    "                foundSource = True\n",
    "                break\n",
    "            else:\n",
    "                pass\n",
    "        if not foundSource:\n",
    "            req[\"newsSource\"] = \"unknown\"\n",
    "        # timestamp\n",
    "        req[\"tstamp\"] = req[\"tstamp\"][:6]\n",
    "        # reorder dict\n",
    "        ordered_keys = [\"tstamp\", \"newsSource\", \"newsProbability\", \"linkToArchive\", \"ExtractedText\"]\n",
    "        reordered_dict = {key: req[key] for key in ordered_keys}\n",
    "        # SAVE\n",
    "        new_list.append(reordered_dict)\n",
    "    return new_list\n",
    "\n",
    "df_filtered.loc[:, \"news\"] = df_filtered[\"news\"].map(lambda x: tstampANDsourceANDreorderdict(x))"
   ]
  },
  {
   "cell_type": "code",
   "execution_count": 251,
   "metadata": {},
   "outputs": [
    {
     "data": {
      "text/plain": [
       "{'tstamp': '200109',\n",
       " 'newsSource': 'Diário de Notícias',\n",
       " 'newsProbability': 0.933,\n",
       " 'linkToArchive': 'https://arquivo.pt/wayback/20010913052557/http://www.dn.pt/int/13p4x.htm',\n",
       " 'ExtractedText': 'DN \\xa0 13 de Setembro de 2001 Intalações do BCP servem de refúgio As instalações do Banco Comercial Português, em Wall Street, foram utilizadas como refúgio por dezenas de pessoas depois dos atentados ao World Trade Center. Nenhum dos 48 funcionários daquela sucursal bancário ficou ferido e os dois trabalhadores que ainda não tinham comunicado com empresa fizeram-no na madrugada de ontem. Voo TAP para Newark chega hoje O voo 1331 da TAP que partiu terça-feira de Lisboa para Newark, nos Estados Unidos, deve chegar hoje ao seu destino. Segundo anunciou a porta-voz da companhia aérea, o avião foi direccionado para a cidade de Halifax, no Canadá, quando os EUA encerraram todos os seus aeroportos a vôos comerciais que se dirigissem para o território. EUA agradecem apoio português O representante diplomático dos EUA em Portugal, William McGlynn, agradeceu a solidariedade com que o Governo e o povo têm acompanhado a tragédia. \"Rezamos para que não existam vítimas portuguesas nos ataques que não fizeram distinção de nacionalidade\", disse o diplomata, recebido ontem por Jorge Sampaio. Governo sueco adia cimeira O primeiro-ministro da Suécia, Goran Person, adiou a terceira cimeira da esquerda liberal, inicialmente agendada para decorrer amanhã e depois, em Estocolmo. O encontro iria reunir chefes de Estado e de Governo de vários países, entre os quais o primeiro-ministro português, António Guterres. Portugueses de volta ao trabalho O consulado português em Nova Iorque retomou ontem funções nas instalações do ICEP, na 5.ª Avenida, onde ficará temporariamente alojado por questões de segurança. Também os portugueses que trabalham em Manhattan voltaram ao serviço, apesar de a cidade viver o rescaldo dos atentados e estar quase \"deserta\". Maçonaria condena atentados Contrariando a discrição que o caracteriza, o Grande Oriente Lusitano (GOL) divulgou ontem um comunicado assinado pelo grão-mestre, Eugénio de Oliveira, lamentando os ataques terroristas de terça-feira e dirigindo um apelo \"à necessidade de luta contra os fanatismos que levam à destruição de vidas humanas\". PCTP/MRPP contra imperialismo \"O imperialismo é um gigante com pés de barro e é o povo norte-americano a primeira vítima dos desmandos cometidos pela classe dominante do seu país.\" Foi esta a reacção do PCTP/MRPP, que diz recear que o \"imperialismo\" dos EUA descambe numa retaliação sem limites contra os alvos que considerar inimigos. Comunistas retomam linha dura O PCP endureceu ontem a sua posição face aos atentados nos EUA. Em comunicado, a Comissão Política do Comité Central lembrou o \"rol de crimes e agressões\" cometidos pelos Estados Unidos e países aliados, e diz esperar que os ataques de terça-feira não sirvam \"de pretexto para retirar apoio a justas lutas dos povos\". Falso alarme nas Amoreiras As mil pessoas que trabalham na torre três das Amoreiras, em Lisboa, tiveram ontem de abandonar o edifício entre as 15 e as 16 horas, enquanto os agentes da Brigada de Inactivação de Agentes Explosivos da PSP vistoriaram o edifíco devido a uma ameaça de bomba. Mas \"nada de anormal foi encontrado\", disse a PSP. Protecção Civil apoia EUA O Serviço Nacional de Protecção Civil tem 58 elementos preparados para seguir para os EUA, em quatro equipas: uma de assistência psicológica, uma de assistência médica, uma de resgate e outra de identificação. Lisboa associa-se assim à disponibilidade da UE para prestar assistência técnica e sanitária aos EUA. National Geographic de luto Dois colaboradores da National Geographic morreram nos atentados, levando a sua representação portuguesa a adiar uma conferência científica marcada para amanhã, na Sociedade de Geografia. Os conferencistas Nick Nichols e Michael Fay, que se encontram na Alemanha, querem regressar de imediato a casa. Jornais não chegam às ilhas As edições da imprensa nacional e internacional de ontem não chegaram às regiões autónomas, devido às medidas de restrição da carga aérea tomadas pela TAP por razões de segurança. Uma situação que poderá repetir-se hoje, caso não seja possível levantar o embargo aos jornais destinados às Ilhas. A \"ajuda\" dos simuladores É provável que alguns dos terroristas que desviaram os aviões envolvidos no ataque tivessem experiência de pilotagem, mas, segundo os especialistas, isso nem seria sequer imprescindível. Um simulador de voo pode proporcionar conhecimentos suficientes para \"pilotar\" um aparelho, pelo menos naquelas circunstâncias. NASA aperta a segurança A agência espacial americana deu ontem aos funcionários a possibilidade de não comparecerem no local de trabalho, caso se sentissem afectados pelo ataque terrorista. O Kennedy Space Center, na Florida, que alberga a frota espacial, esteve em alerta máximo. Na sede, em Washington, todos os carros foram revistados. Reunião do FMI pode ser anulada A assembleia anual do FMI, prevista para finais de Setembro em Washington, poderá ser anulada, em virtude dos ataques terroristas aos EUA, admitiu o ministro das Finanças alemão, Hans Eichel. A discussão sobre o cancelamento ou não da reunião conjunta do FMI e do Banco Mundial está, no entanto, ainda em aberto. BCE está a construir \"bunker\" O Banco Central Europeu tem praticamente concluído, em Frankfurt, um \"bunker\" que servirá de refúgio em caso de catástrofe, revelou ontem Wim Duisenberg, presidente da instituição. As instalações permitirão ao BCE manter a sua actividade perante atentados do tipo dos que atingiram Nova Iorque. \"Site\" do DN lidera top O site do Diário de Notícias liderou nos últimos dois dias, na sequência das notícias sobre os atentados nos EUA, o top do portal Sapo, que mede o número de consultas a páginas na Net feitas a partir daquele portal, batendo inclusive os diários desportivos. Ontem à noite, o top era comandado pelo DN, seguido por \"A Bola\". Morreu produtor de \"Frasier\" David Angell, 54 anos, produtor da série televisiva Frasier , está entre as vítimas dos atentados de terça-feira nos EUA. Ele a sua mulher Lynn viajavam a bordo de um dos aviões que se despenharam. Ao longo da sua carreira, Angell venceu alguns prémios Emmy e escreveu vários episódios para séries como Cheers . Copyright © 1995,2001 Diário de Notícias, SA Todos os direitos reservados webmaster@DnOnline'}"
      ]
     },
     "execution_count": 251,
     "metadata": {},
     "output_type": "execute_result"
    }
   ],
   "source": [
    "df_filtered.iloc[0,-1][0]"
   ]
  },
  {
   "cell_type": "markdown",
   "metadata": {},
   "source": [
    "---"
   ]
  },
  {
   "cell_type": "code",
   "execution_count": 252,
   "metadata": {},
   "outputs": [
    {
     "name": "stdout",
     "output_type": "stream",
     "text": [
      "Comparing: 'This is a simple text.' with 'This is the first text.', Similarity: 71%\n",
      "Comparing: 'Another text example.' with 'This is the first text.', Similarity: 45%\n",
      "Comparing: 'Another text example.' with 'This is a simple text.', Similarity: 37%\n",
      "Comparing: 'Yet another sample.' with 'This is the first text.', Similarity: 38%\n",
      "Comparing: 'Yet another sample.' with 'This is a simple text.', Similarity: 44%\n",
      "Comparing: 'Yet another sample.' with 'Another text example.', Similarity: 65%\n",
      "No similar texts found above the threshold.\n"
     ]
    }
   ],
   "source": [
    "from fuzzywuzzy import fuzz\n",
    "\n",
    "def find_similar_texts(texts, threshold=80):\n",
    "    similar_texts = []\n",
    "    \n",
    "    # Iterate through each text\n",
    "    for i in range(1, len(texts)):\n",
    "        # Compare the current text (texts[i]) with all previous ones (texts[:i])\n",
    "        for j in range(i):\n",
    "            similarity = fuzz.ratio(texts[i], texts[j])\n",
    "            # Print similarity score for debugging\n",
    "            print(f\"Comparing: '{texts[i]}' with '{texts[j]}', Similarity: {similarity}%\")\n",
    "            if similarity >= threshold:\n",
    "                similar_texts.append((texts[i], texts[j], similarity))\n",
    "    \n",
    "    return similar_texts\n",
    "\n",
    "# Example list of texts\n",
    "texts = [\n",
    "    \"This is the first text.\",\n",
    "    \"This is a simple text.\",\n",
    "    \"Another text example.\",\n",
    "    \"Yet another sample.\"\n",
    "]\n",
    "\n",
    "# Run the function\n",
    "results = find_similar_texts(texts, threshold=80)\n",
    "\n",
    "# Print results\n",
    "if results:\n",
    "    for res in results:\n",
    "        print(f\"Text 1: {res[0]}\\nText 2: {res[1]}\\nSimilarity: {res[2]}%\\n\")\n",
    "else:\n",
    "    print(\"No similar texts found above the threshold.\")\n"
   ]
  },
  {
   "cell_type": "code",
   "execution_count": null,
   "metadata": {},
   "outputs": [],
   "source": []
  }
 ],
 "metadata": {
  "kernelspec": {
   "display_name": "fcdProj",
   "language": "python",
   "name": "python3"
  },
  "language_info": {
   "codemirror_mode": {
    "name": "ipython",
    "version": 3
   },
   "file_extension": ".py",
   "mimetype": "text/x-python",
   "name": "python",
   "nbconvert_exporter": "python",
   "pygments_lexer": "ipython3",
   "version": "3.10.15"
  }
 },
 "nbformat": 4,
 "nbformat_minor": 2
}
