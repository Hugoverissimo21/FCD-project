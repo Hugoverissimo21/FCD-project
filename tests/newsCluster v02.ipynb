{
 "cells": [
  {
   "cell_type": "markdown",
   "metadata": {},
   "source": [
    "# news recommendation"
   ]
  },
  {
   "cell_type": "code",
   "execution_count": 1,
   "metadata": {},
   "outputs": [],
   "source": [
    "import pandas as pd\n",
    "\n",
    "df = pd.read_parquet('data05.parquet')\n",
    "df[\"keywords\"] = df[\"keywords\"].map(lambda dic: {key: dic[key] for key in dic.keys() if dic[key] is not None and dic[key][\"filter\"] > 0.1})"
   ]
  },
  {
   "cell_type": "code",
   "execution_count": 2,
   "metadata": {},
   "outputs": [
    {
     "data": {
      "text/plain": [
       "aliases                      [Banco Comercial Português, BCP]\n",
       "news        [{'ExtractedText': 'DN   13 de Setembro de 200...\n",
       "keywords    {'Angola': {'count': 135, 'date': {'200409': N...\n",
       "Name: Banco Comercial Português, dtype: object"
      ]
     },
     "execution_count": 2,
     "metadata": {},
     "output_type": "execute_result"
    }
   ],
   "source": [
    "df = df.iloc[0, :]\n",
    "df"
   ]
  },
  {
   "cell_type": "code",
   "execution_count": 3,
   "metadata": {},
   "outputs": [],
   "source": [
    "#df[\"news\"][0][\"newsNER\"]"
   ]
  },
  {
   "cell_type": "code",
   "execution_count": 4,
   "metadata": {},
   "outputs": [
    {
     "data": {
      "image/png": "[encoded data removed]",
      "text/plain": [
       "<Figure size 1000x700 with 1 Axes>"
      ]
     },
     "metadata": {},
     "output_type": "display_data"
    }
   ],
   "source": [
    "from scipy.cluster.hierarchy import dendrogram, linkage\n",
    "import matplotlib.pyplot as plt\n",
    "from sklearn.feature_extraction.text import TfidfVectorizer\n",
    "\n",
    "# Sample articles\n",
    "articles = [\n",
    "    \"Tecnologia avança rapidamente na inteligência artificial\",\n",
    "    \"Esporte: time ganha campeonato nacional\",\n",
    "    \"Ciência faz descoberta sobre o universo\",\n",
    "    \"Política: eleições e debates atuais\",\n",
    "    \"Inteligência artificial e avanços em tecnologia\",\n",
    "    \"Campeonato de futebol termina em vitória\",\n",
    "    \"Descoberta científica em biotecnologia\",\n",
    "    \"Notícias sobre economia global\",\n",
    "    \"Viagem espacial e novas fronteiras\",\n",
    "    \"Esporte e saúde mental dos atletas\"\n",
    "]\n",
    "\n",
    "# Step 1: Compute TF-IDF matrix\n",
    "vectorizer = TfidfVectorizer()\n",
    "tfidf_matrix = vectorizer.fit_transform(articles)\n",
    "#print(tfidf_matrix)\n",
    "\n",
    "# Step 2: Perform hierarchical clustering using 'linkage'\n",
    "linked = linkage(tfidf_matrix.toarray(), method='ward')\n",
    "#print(linked)\n",
    "\n",
    "# Step 3: Plot the dendrogram\n",
    "plt.figure(figsize=(10, 7))\n",
    "dendrogram(linked, labels=range(0, len(articles)), leaf_rotation=90, leaf_font_size=12)\n",
    "plt.show()\n"
   ]
  },
  {
   "cell_type": "code",
   "execution_count": 5,
   "metadata": {},
   "outputs": [
    {
     "data": {
      "text/plain": [
       "<10x39 sparse matrix of type '<class 'numpy.float64'>'\n",
       "\twith 48 stored elements in Compressed Sparse Row format>"
      ]
     },
     "execution_count": 5,
     "metadata": {},
     "output_type": "execute_result"
    }
   ],
   "source": [
    "tfidf_matrix"
   ]
  },
  {
   "cell_type": "code",
   "execution_count": 6,
   "metadata": {},
   "outputs": [
    {
     "data": {
      "image/png": "[encoded data removed]",
      "text/plain": [
       "<Figure size 640x480 with 1 Axes>"
      ]
     },
     "metadata": {},
     "output_type": "display_data"
    }
   ],
   "source": [
    "from scipy.cluster.hierarchy import dendrogram, linkage\n",
    "import matplotlib.pyplot as plt\n",
    "\n",
    "# Example user-item interaction matrix (rows are users, columns are items)\n",
    "X = [[5, 3, 0, 0, 2],\n",
    "     [4, 0, 0, 2, 4],\n",
    "     [0, 0, 4, 4, 0],\n",
    "     [1, 2, 4, 0, 0]]\n",
    "\n",
    "# Perform hierarchical clustering (Ward's method minimizes variance within clusters)\n",
    "Z = linkage(X, method='ward')\n",
    "\n",
    "# Plot the dendrogram to visualize the clustering\n",
    "dendrogram(Z)\n",
    "plt.show()\n"
   ]
  },
  {
   "cell_type": "code",
   "execution_count": 8,
   "metadata": {},
   "outputs": [
    {
     "name": "stdout",
     "output_type": "stream",
     "text": [
      "User 0 is initially assigned to cluster 1.\n"
     ]
    }
   ],
   "source": [
    "from scipy.cluster.hierarchy import linkage, fcluster\n",
    "import numpy as np\n",
    "\n",
    "# Example user-item interaction matrix (rows = users, columns = items)\n",
    "X = np.array([[5, 3, 0, 0, 2],\n",
    "              [4, 0, 0, 2, 4],\n",
    "              [0, 0, 4, 4, 0],\n",
    "              [1, 2, 4, 0, 0]])\n",
    "\n",
    "# Perform hierarchical clustering (Ward's method)\n",
    "Z = linkage(X, method='ward')\n",
    "\n",
    "# Assign users to clusters (e.g., with 2 clusters)\n",
    "n_clusters = 2\n",
    "clusters = fcluster(Z, n_clusters, criterion='maxclust')\n",
    "\n",
    "# Assuming user 0 is the user you want to make recommendations for\n",
    "user_id = 0\n",
    "user_cluster = clusters[user_id]\n",
    "\n",
    "print(f\"User {user_id} is initially assigned to cluster {user_cluster}.\")\n"
   ]
  },
  {
   "cell_type": "code",
   "execution_count": 9,
   "metadata": {},
   "outputs": [
    {
     "name": "stdout",
     "output_type": "stream",
     "text": [
      "Iteration 1 recommendations for user 0: [0 4 1 3 2]\n"
     ]
    }
   ],
   "source": [
    "# Get users in the same cluster as the target user\n",
    "same_cluster_users = np.where(clusters == user_cluster)[0]\n",
    "\n",
    "# Get the item interaction data for these users\n",
    "items_in_cluster = X[same_cluster_users, :]\n",
    "\n",
    "# Recommend the items with the highest interactions/ratings in this cluster\n",
    "recommended_items = np.argsort(np.sum(items_in_cluster, axis=0))[::-1]\n",
    "\n",
    "print(f\"Iteration 1 recommendations for user {user_id}: {recommended_items}\")\n"
   ]
  },
  {
   "cell_type": "code",
   "execution_count": 10,
   "metadata": {},
   "outputs": [
    {
     "name": "stdout",
     "output_type": "stream",
     "text": [
      "Iteration 2 recommendations for user 0: [2 3 1 0 4]\n"
     ]
    }
   ],
   "source": [
    "# Assume the user feedback is provided in some form (e.g., likes/dislikes)\n",
    "feedback = {'liked': [0, 1], 'disliked': [2, 3]}  # Example feedback: liked items 0, 1 and disliked 2, 3\n",
    "\n",
    "# In the next iteration, focus on refining the recommendations by:\n",
    "# a. Reassessing the user's position within the cluster (more granular sub-clusters).\n",
    "# b. Shifting to a nearby cluster if the initial cluster was not a good match.\n",
    "\n",
    "# E.g., If feedback suggests items from a particular cluster are disliked, refine by exploring other clusters.\n",
    "\n",
    "# In this case, let's just assume we're exploring a nearby cluster in iteration 2\n",
    "new_cluster = user_cluster + 1 if user_cluster < n_clusters else user_cluster - 1  # Change cluster as an example\n",
    "\n",
    "# Get users from the new cluster\n",
    "same_cluster_users = np.where(clusters == new_cluster)[0]\n",
    "\n",
    "# Get the item interaction data for the new cluster\n",
    "items_in_new_cluster = X[same_cluster_users, :]\n",
    "\n",
    "# Recommend the items with the highest interactions/ratings in this new cluster\n",
    "recommended_items_new = np.argsort(np.sum(items_in_new_cluster, axis=0))[::-1]\n",
    "\n",
    "print(f\"Iteration 2 recommendations for user {user_id}: {recommended_items_new}\")\n"
   ]
  },
  {
   "cell_type": "markdown",
   "metadata": {},
   "source": [
    "---\n",
    "---\n",
    "---"
   ]
  },
  {
   "cell_type": "code",
   "execution_count": 11,
   "metadata": {},
   "outputs": [
    {
     "data": {
      "image/png": "[encoded data removed]",
      "text/plain": [
       "<Figure size 1000x700 with 1 Axes>"
      ]
     },
     "metadata": {},
     "output_type": "display_data"
    }
   ],
   "source": [
    "import numpy as np\n",
    "import matplotlib.pyplot as plt\n",
    "from scipy.cluster.hierarchy import linkage, dendrogram\n",
    "\n",
    "# Example user-item interaction matrix (randomized for demo purposes)\n",
    "# 5 users, 5 items (ratings or interaction count)\n",
    "X = np.array([[5, 3, 0, 0, 2],\n",
    "              [4, 0, 0, 2, 4],\n",
    "              [0, 0, 4, 4, 0],\n",
    "              [1, 2, 4, 0, 0],\n",
    "              [2, 3, 1, 0, 3]])\n",
    "\n",
    "# Perform hierarchical clustering (Ward's method)\n",
    "Z = linkage(X, method='ward')\n",
    "\n",
    "# Plot the dendrogram\n",
    "plt.figure(figsize=(10, 7))\n",
    "dendrogram(Z)\n",
    "plt.title(\"Dendrogram - Hierarchical Clustering\")\n",
    "plt.xlabel(\"Users\")\n",
    "plt.ylabel(\"Distance\")\n",
    "plt.show()\n"
   ]
  },
  {
   "cell_type": "markdown",
   "metadata": {},
   "source": [
    "---\n",
    "----\n",
    "---\n",
    "---"
   ]
  },
  {
   "cell_type": "code",
   "execution_count": 14,
   "metadata": {},
   "outputs": [
    {
     "data": {
      "image/png": "[encoded data removed]",
      "text/plain": [
       "<Figure size 1200x800 with 1 Axes>"
      ]
     },
     "metadata": {},
     "output_type": "display_data"
    },
    {
     "name": "stdout",
     "output_type": "stream",
     "text": [
      "\n",
      "User 0 is initially assigned to cluster 1.\n",
      "\n",
      "\n",
      "--- Iteration 1 ---\n",
      "Recommended Items (based on current cluster):\n",
      "Item 1 (Rating: 2.52)\n",
      "Item 9 (Rating: 2.36)\n",
      "Item 8 (Rating: 2.64)\n",
      "\n",
      "Please rate the following items on a scale of 0 to 5:\n",
      "\n",
      "User feedback suggests satisfaction. Refining recommendations within the current cluster...\n",
      "\n",
      "Refined Recommendations for the next iteration:\n",
      "Item 1 (Rating: 2.52)\n",
      "Item 9 (Rating: 2.36)\n",
      "Item 8 (Rating: 2.64)\n",
      "\n",
      "--- Iteration 2 ---\n",
      "Recommended Items (based on current cluster):\n",
      "Item 20 (Rating: 2.8)\n",
      "Item 19 (Rating: 2.2)\n",
      "Item 2 (Rating: 2.18)\n",
      "\n",
      "Please rate the following items on a scale of 0 to 5:\n",
      "\n",
      "User feedback suggests dissatisfaction. Trying to move to a neighboring cluster...\n",
      "Exploring nearby cluster 1...\n",
      "\n",
      "Refined Recommendations for the next iteration:\n",
      "Item 16 (Rating: 2.52)\n",
      "Item 20 (Rating: 2.8)\n",
      "Item 6 (Rating: 2.52)\n",
      "\n",
      "--- Iteration 3 ---\n",
      "Recommended Items (based on current cluster):\n",
      "Item 20 (Rating: 2.8)\n",
      "Item 19 (Rating: 2.2)\n",
      "Item 2 (Rating: 2.18)\n",
      "\n",
      "Please rate the following items on a scale of 0 to 5:\n",
      "\n",
      "User feedback suggests dissatisfaction. Trying to move to a neighboring cluster...\n",
      "Exploring nearby cluster 14...\n",
      "\n",
      "Refined Recommendations for the next iteration:\n",
      "Item 20 (Rating: 2.8)\n",
      "Item 19 (Rating: 2.2)\n",
      "Item 2 (Rating: 2.18)\n",
      "\n",
      "--- Iteration 4 ---\n",
      "Recommended Items (based on current cluster):\n",
      "Item 20 (Rating: 2.8)\n",
      "Item 19 (Rating: 2.2)\n",
      "Item 2 (Rating: 2.18)\n",
      "\n",
      "Please rate the following items on a scale of 0 to 5:\n"
     ]
    },
    {
     "ename": "ValueError",
     "evalue": "invalid literal for int() with base 10: ''",
     "output_type": "error",
     "traceback": [
      "\u001b[0;31m---------------------------------------------------------------------------\u001b[0m",
      "\u001b[0;31mValueError\u001b[0m                                Traceback (most recent call last)",
      "Cell \u001b[0;32mIn[14], line 99\u001b[0m\n\u001b[1;32m     96\u001b[0m         user_cluster \u001b[38;5;241m=\u001b[39m refined_recommendations[\u001b[38;5;241m0\u001b[39m]  \u001b[38;5;66;03m# Example of refining user cluster based on feedback\u001b[39;00m\n\u001b[1;32m     98\u001b[0m \u001b[38;5;66;03m# Run the interactive recommendation system for 5 iterations\u001b[39;00m\n\u001b[0;32m---> 99\u001b[0m \u001b[43mrun_recommendation_iterations\u001b[49m\u001b[43m(\u001b[49m\u001b[43miterations\u001b[49m\u001b[38;5;241;43m=\u001b[39;49m\u001b[38;5;241;43m5\u001b[39;49m\u001b[43m)\u001b[49m\n",
      "Cell \u001b[0;32mIn[14], line 85\u001b[0m, in \u001b[0;36mrun_recommendation_iterations\u001b[0;34m(iterations)\u001b[0m\n\u001b[1;32m     82\u001b[0m     \u001b[38;5;28mprint\u001b[39m(\u001b[38;5;124mf\u001b[39m\u001b[38;5;124m\"\u001b[39m\u001b[38;5;124mItem \u001b[39m\u001b[38;5;132;01m{\u001b[39;00mitem_id\u001b[38;5;250m \u001b[39m\u001b[38;5;241m+\u001b[39m\u001b[38;5;250m \u001b[39m\u001b[38;5;241m1\u001b[39m\u001b[38;5;132;01m}\u001b[39;00m\u001b[38;5;124m (Rating: \u001b[39m\u001b[38;5;132;01m{\u001b[39;00mnp\u001b[38;5;241m.\u001b[39mmean(X[:,\u001b[38;5;250m \u001b[39mitem_id])\u001b[38;5;132;01m}\u001b[39;00m\u001b[38;5;124m)\u001b[39m\u001b[38;5;124m\"\u001b[39m)\n\u001b[1;32m     84\u001b[0m \u001b[38;5;66;03m# Get user feedback\u001b[39;00m\n\u001b[0;32m---> 85\u001b[0m user_feedback \u001b[38;5;241m=\u001b[39m \u001b[43mget_user_feedback\u001b[49m\u001b[43m(\u001b[49m\u001b[43m)\u001b[49m\n\u001b[1;32m     87\u001b[0m \u001b[38;5;66;03m# Refine recommendations based on feedback\u001b[39;00m\n\u001b[1;32m     88\u001b[0m refined_recommendations \u001b[38;5;241m=\u001b[39m refine_recommendations(user_feedback, user_cluster, X, clusters)\n",
      "Cell \u001b[0;32mIn[14], line 50\u001b[0m, in \u001b[0;36mget_user_feedback\u001b[0;34m()\u001b[0m\n\u001b[1;32m     48\u001b[0m \u001b[38;5;28mprint\u001b[39m(\u001b[38;5;124m\"\u001b[39m\u001b[38;5;130;01m\\n\u001b[39;00m\u001b[38;5;124mPlease rate the following items on a scale of 0 to 5:\u001b[39m\u001b[38;5;124m\"\u001b[39m)\n\u001b[1;32m     49\u001b[0m \u001b[38;5;28;01mfor\u001b[39;00m i \u001b[38;5;129;01min\u001b[39;00m \u001b[38;5;28mrange\u001b[39m(\u001b[38;5;241m3\u001b[39m):  \u001b[38;5;66;03m# Rating 3 items\u001b[39;00m\n\u001b[0;32m---> 50\u001b[0m     rating \u001b[38;5;241m=\u001b[39m \u001b[38;5;28;43mint\u001b[39;49m\u001b[43m(\u001b[49m\u001b[38;5;28;43minput\u001b[39;49m\u001b[43m(\u001b[49m\u001b[38;5;124;43mf\u001b[39;49m\u001b[38;5;124;43m\"\u001b[39;49m\u001b[38;5;124;43mItem \u001b[39;49m\u001b[38;5;132;43;01m{\u001b[39;49;00m\u001b[43mi\u001b[49m\u001b[38;5;241;43m+\u001b[39;49m\u001b[38;5;241;43m1\u001b[39;49m\u001b[38;5;132;43;01m}\u001b[39;49;00m\u001b[38;5;124;43m: \u001b[39;49m\u001b[38;5;124;43m\"\u001b[39;49m\u001b[43m)\u001b[49m\u001b[43m)\u001b[49m\n\u001b[1;32m     51\u001b[0m     feedback\u001b[38;5;241m.\u001b[39mappend(rating)\n\u001b[1;32m     52\u001b[0m \u001b[38;5;28;01mreturn\u001b[39;00m feedback\n",
      "\u001b[0;31mValueError\u001b[0m: invalid literal for int() with base 10: ''"
     ]
    }
   ],
   "source": [
    "import numpy as np\n",
    "import matplotlib.pyplot as plt\n",
    "from scipy.cluster.hierarchy import linkage, dendrogram\n",
    "import random\n",
    "\n",
    "# Create a larger user-item interaction matrix (e.g., 50 users, 20 items)\n",
    "np.random.seed(42)\n",
    "num_users = 50\n",
    "num_items = 20\n",
    "\n",
    "# Simulate random user-item interaction (ratings between 0-5)\n",
    "X = np.random.randint(0, 6, size=(num_users, num_items))\n",
    "\n",
    "# Perform hierarchical clustering (Ward's method)\n",
    "Z = linkage(X, method='ward')\n",
    "\n",
    "# Plot the dendrogram\n",
    "plt.figure(figsize=(12, 8))\n",
    "dendrogram(Z)\n",
    "plt.title(\"Dendrogram - Hierarchical Clustering\")\n",
    "plt.xlabel(\"Users\")\n",
    "plt.ylabel(\"Distance\")\n",
    "plt.show()\n",
    "\n",
    "# Perform initial clustering (let's pick 5 clusters for this demo)\n",
    "from scipy.cluster.hierarchy import fcluster\n",
    "n_clusters = 5\n",
    "clusters = fcluster(Z, n_clusters, criterion='maxclust')\n",
    "\n",
    "# Randomly assign user to a cluster (starting point)\n",
    "user_id = 0  # We will assume the user is the first user\n",
    "user_cluster = random.choice(clusters)  # Assign the user to a random cluster\n",
    "\n",
    "# Show initial cluster assignment\n",
    "print(f\"\\nUser {user_id} is initially assigned to cluster {user_cluster}.\\n\")\n",
    "\n",
    "# Function to recommend items based on cluster (randomized)\n",
    "def recommend_items_for_cluster(cluster, X):\n",
    "    cluster_users = np.where(clusters == cluster)[0]  # Get users in the same cluster\n",
    "    items_in_cluster = X[cluster_users, :]  # Get item interaction data for these users\n",
    "    item_scores = np.sum(items_in_cluster, axis=0)  # Summing up the ratings of the items\n",
    "    recommended_items = np.argsort(item_scores)[::-1]  # Get the items with highest total ratings\n",
    "    return recommended_items[:3]  # Recommend top 3 items\n",
    "\n",
    "# Function to collect user feedback\n",
    "def get_user_feedback():\n",
    "    feedback = []\n",
    "    print(\"\\nPlease rate the following items on a scale of 0 to 5:\")\n",
    "    for i in range(3):  # Rating 3 items\n",
    "        rating = int(input(f\"Item {i+1}: \"))\n",
    "        feedback.append(rating)\n",
    "    return feedback\n",
    "\n",
    "# Function to refine recommendations based on feedback\n",
    "def refine_recommendations(feedback, user_cluster, X, clusters):\n",
    "    # If feedback is mostly negative, move to a neighboring cluster\n",
    "    if np.mean(feedback) < 3:\n",
    "        print(\"\\nUser feedback suggests dissatisfaction. Trying to move to a neighboring cluster...\")\n",
    "        # Move to a neighboring cluster (just an example for now)\n",
    "        nearby_cluster = user_cluster + 1 if user_cluster < n_clusters else user_cluster - 1\n",
    "        print(f\"Exploring nearby cluster {nearby_cluster}...\")\n",
    "        return recommend_items_for_cluster(nearby_cluster, X)\n",
    "    else:\n",
    "        # If feedback is positive, reinforce the current cluster or its sub-clusters\n",
    "        print(\"\\nUser feedback suggests satisfaction. Refining recommendations within the current cluster...\")\n",
    "        return recommend_items_for_cluster(user_cluster, X)\n",
    "\n",
    "# Simulate multiple iterations with a larger search space (e.g., 5 iterations)\n",
    "def run_recommendation_iterations(iterations=5):\n",
    "    # Starting cluster assignment (random)\n",
    "    user_cluster = random.choice(clusters)\n",
    "    \n",
    "    for iteration in range(iterations):\n",
    "        print(f\"\\n--- Iteration {iteration + 1} ---\")\n",
    "        \n",
    "        # Recommend items for the current cluster\n",
    "        recommended_items = recommend_items_for_cluster(user_cluster, X)\n",
    "        \n",
    "        # Display the recommended items\n",
    "        print(\"Recommended Items (based on current cluster):\")\n",
    "        for item_id in recommended_items:\n",
    "            print(f\"Item {item_id + 1} (Rating: {np.mean(X[:, item_id])})\")\n",
    "        \n",
    "        # Get user feedback\n",
    "        user_feedback = get_user_feedback()\n",
    "        \n",
    "        # Refine recommendations based on feedback\n",
    "        refined_recommendations = refine_recommendations(user_feedback, user_cluster, X, clusters)\n",
    "        \n",
    "        # Show the refined recommendations\n",
    "        print(\"\\nRefined Recommendations for the next iteration:\")\n",
    "        for item_id in refined_recommendations:\n",
    "            print(f\"Item {item_id + 1} (Rating: {np.mean(X[:, item_id])})\")\n",
    "        \n",
    "        # After the first round, the system will narrow down to more accurate recommendations\n",
    "        user_cluster = refined_recommendations[0]  # Example of refining user cluster based on feedback\n",
    "\n",
    "# Run the interactive recommendation system for 5 iterations\n",
    "run_recommendation_iterations(iterations=5)\n"
   ]
  },
  {
   "cell_type": "code",
   "execution_count": null,
   "metadata": {},
   "outputs": [],
   "source": []
  }
 ],
 "metadata": {
  "kernelspec": {
   "display_name": "fcdProj",
   "language": "python",
   "name": "python3"
  },
  "language_info": {
   "codemirror_mode": {
    "name": "ipython",
    "version": 3
   },
   "file_extension": ".py",
   "mimetype": "text/x-python",
   "name": "python",
   "nbconvert_exporter": "python",
   "pygments_lexer": "ipython3",
   "version": "3.10.15"
  }
 },
 "nbformat": 4,
 "nbformat_minor": 2
}
