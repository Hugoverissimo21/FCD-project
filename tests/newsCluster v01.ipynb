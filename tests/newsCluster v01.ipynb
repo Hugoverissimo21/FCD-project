{
 "cells": [
  {
   "cell_type": "markdown",
   "metadata": {},
   "source": [
    "# nlp topic modeling"
   ]
  },
  {
   "cell_type": "code",
   "execution_count": null,
   "metadata": {},
   "outputs": [],
   "source": [
    "import pandas as pd\n",
    "\n",
    "df = pd.read_parquet('data05.parquet')\n",
    "df[\"keywords\"] = df[\"keywords\"].map(lambda dic: {key: dic[key] for key in dic.keys() if dic[key] is not None and dic[key][\"filter\"] > 0.1})"
   ]
  },
  {
   "cell_type": "code",
   "execution_count": null,
   "metadata": {},
   "outputs": [],
   "source": [
    "df = df.iloc[0, :]\n",
    "df"
   ]
  },
  {
   "cell_type": "code",
   "execution_count": null,
   "metadata": {},
   "outputs": [],
   "source": [
    "df[\"text\"] = [df[\"news\"][i][\"ExtractedText\"] for i in range(len(df[\"news\"]))]"
   ]
  },
  {
   "cell_type": "code",
   "execution_count": null,
   "metadata": {},
   "outputs": [],
   "source": [
    "\n",
    "\n",
    "df = pd.DataFrame(df)\n",
    "df = df.transpose()\n",
    "df"
   ]
  },
  {
   "cell_type": "code",
   "execution_count": null,
   "metadata": {},
   "outputs": [],
   "source": [
    "import pandas as pd\n",
    "import nltk\n",
    "from sklearn.feature_extraction.text import CountVectorizer\n",
    "from sklearn.decomposition import LatentDirichletAllocation\n",
    "from nltk.corpus import stopwords\n",
    "import matplotlib.pyplot as plt\n",
    "\n",
    "nltk.download('stopwords')"
   ]
  },
  {
   "cell_type": "code",
   "execution_count": null,
   "metadata": {},
   "outputs": [],
   "source": [
    "df_new = pd.DataFrame({})\n",
    "df_new"
   ]
  },
  {
   "cell_type": "code",
   "execution_count": null,
   "metadata": {},
   "outputs": [],
   "source": [
    "texts = df['text'][0]\n",
    "\n",
    "stop_words = stopwords.words('portuguese')\n",
    "\n",
    "def preprocess(text):\n",
    "    # Lowercase, remove non-alphabetic characters\n",
    "    text = text.lower()\n",
    "    text = ''.join([char for char in text if char.isalpha() or char.isspace()])\n",
    "    # Remove stopwords\n",
    "    words = [word for word in text.split() if word not in stop_words]\n",
    "    return ' '.join(words)\n",
    "\n",
    "df_new['cleaned_text'] = pd.Series(texts).map(preprocess)\n",
    "df_new['cleaned_text'] = df_new['cleaned_text'].fillna('')\n",
    "\n",
    "vectorizer = CountVectorizer(max_df=0.95, min_df=2)\n",
    "dtm = vectorizer.fit_transform(df_new['cleaned_text'])\n",
    "\n",
    "\n",
    "\n",
    "n_topics = 5  # Adjust the number of topics as needed\n",
    "lda_model = LatentDirichletAllocation(n_components=n_topics, random_state=42)\n",
    "lda_model.fit(dtm)\n",
    "\n",
    "def display_topics(model, feature_names, no_top_words):\n",
    "    for topic_idx, topic in enumerate(model.components_):\n",
    "        print(f\"Topic {topic_idx+1}:\")\n",
    "        print(\", \".join([feature_names[i] for i in topic.argsort()[-no_top_words:]]))\n",
    "\n",
    "no_top_words = 10\n",
    "display_topics(lda_model, vectorizer.get_feature_names_out(), no_top_words)"
   ]
  },
  {
   "cell_type": "code",
   "execution_count": null,
   "metadata": {},
   "outputs": [],
   "source": [
    "# Vocabulary as a list of terms\n",
    "vocab = vectorizer.get_feature_names_out()\n",
    "\n",
    "# Term frequencies (sum of word counts across all documents)\n",
    "term_frequency = dtm.sum(axis=0).A1\n"
   ]
  },
  {
   "cell_type": "code",
   "execution_count": null,
   "metadata": {},
   "outputs": [],
   "source": [
    "import pyLDAvis\n",
    "\n",
    "pyLDAvis.enable_notebook()\n",
    "\n",
    "vis_data = pyLDAvis.prepare(\n",
    "    topic_term_dists=lda_model.components_,\n",
    "    doc_topic_dists=lda_model.transform(dtm),\n",
    "    doc_lengths=dtm.sum(axis=1).A1,\n",
    "    vocab=vocab,\n",
    "    term_frequency=term_frequency\n",
    ")\n",
    "\n",
    "pyLDAvis.display(vis_data)\n"
   ]
  },
  {
   "cell_type": "code",
   "execution_count": null,
   "metadata": {},
   "outputs": [],
   "source": []
  }
 ],
 "metadata": {
  "kernelspec": {
   "display_name": "fcdProj",
   "language": "python",
   "name": "python3"
  },
  "language_info": {
   "codemirror_mode": {
    "name": "ipython",
    "version": 3
   },
   "file_extension": ".py",
   "mimetype": "text/x-python",
   "name": "python",
   "nbconvert_exporter": "python",
   "pygments_lexer": "ipython3",
   "version": "3.10.15"
  }
 },
 "nbformat": 4,
 "nbformat_minor": 2
}
