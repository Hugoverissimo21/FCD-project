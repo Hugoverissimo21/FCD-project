{
 "cells": [
  {
   "cell_type": "markdown",
   "metadata": {},
   "source": [
    "ideia:\n",
    "\n",
    "- ao clicar na bola, site com estat sobre a palavra?\n",
    "\n",
    "- selecionar threshold dos 0.05 com barrinha mesmo no html?\n",
    "\n",
    "- mudar cor para verde, neutro, vermelho: pq o neutro parece verde, ent vamos meter tp amarelo ou assim idk, dps ve se"
   ]
  },
  {
   "cell_type": "code",
   "execution_count": 1,
   "metadata": {},
   "outputs": [],
   "source": [
    "import pandas as pd\n",
    "\n",
    "df = pd.read_parquet('data05.parquet')\n",
    "df[\"keywords\"] = df[\"keywords\"].map(lambda dic: {key: dic[key] for key in dic.keys() if dic[key] != None and dic[key][\"filter\"] > 0.1})"
   ]
  },
  {
   "cell_type": "code",
   "execution_count": 4,
   "metadata": {},
   "outputs": [
    {
     "data": {
      "application/vnd.plotly.v1+json": {
       "config": {
        "plotlyServerURL": "https://plot.ly"
       },
       "data": [
        {
         "hoverinfo": "none",
         "line": {
          "color": "gray",
          "width": 1
         },
         "mode": "lines",
         "type": "scatter",
         "x": [
          0.1478200441021211,
          -0.0016226506331009553,
          null,
          -0.0016226506331009553,
          -0.7744469368388414,
          null,
          -0.0016226506331009553,
          -0.7697166810547993,
          null,
          -0.0016226506331009553,
          0.27533088900510844,
          null,
          -0.0016226506331009553,
          -0.31568654055680817,
          null,
          -0.0016226506331009553,
          -0.0016226506331009553,
          null,
          -0.0016226506331009553,
          0.8222125612354187,
          null,
          -0.0016226506331009553,
          -0.7164770345334649,
          null,
          -0.0016226506331009553,
          -0.6178187453591955,
          null,
          -0.0016226506331009553,
          0.30127978905552527,
          null,
          -0.0016226506331009553,
          0.12416210841217801,
          null,
          -0.0016226506331009553,
          -0.40517665419971893,
          null,
          -0.0016226506331009553,
          -0.030060372570841102,
          null,
          -0.0016226506331009553,
          -0.5990628768906032,
          null,
          -0.0016226506331009553,
          0.13804481517633815,
          null,
          -0.0016226506331009553,
          0.055853435944150966,
          null,
          -0.0016226506331009553,
          -0.5974652695439587,
          null,
          -0.0016226506331009553,
          0.8932051091310726,
          null,
          -0.0016226506331009553,
          -0.40453333242776957,
          null,
          -0.0016226506331009553,
          0.7141054383837582,
          null,
          -0.0016226506331009553,
          -0.7763384814064718,
          null,
          -0.0016226506331009553,
          -0.8544482370320748,
          null,
          -0.0016226506331009553,
          -0.7274678614443689,
          null,
          -0.0016226506331009553,
          -0.19224939603426286,
          null,
          -0.0016226506331009553,
          -0.2669239706798452,
          null,
          -0.0016226506331009553,
          0.8852903075612051,
          null,
          -0.0016226506331009553,
          0.7109789849705322,
          null,
          -0.0016226506331009553,
          0.010809993508275583,
          null,
          -0.0016226506331009553,
          -0.8626540973692065,
          null,
          -0.0016226506331009553,
          -0.9643665340680493,
          null,
          -0.0016226506331009553,
          -0.42059560638112287,
          null,
          -0.0016226506331009553,
          0.6043797852457058,
          null,
          -0.0016226506331009553,
          -0.6643820352193679,
          null,
          -0.0016226506331009553,
          -0.4194235272970181,
          null,
          -0.0016226506331009553,
          -0.488300936461593,
          null,
          -0.0016226506331009553,
          0.9246225834427627,
          null,
          -0.0016226506331009553,
          -0.8910086311968456,
          null,
          -0.0016226506331009553,
          0.5512009213905114,
          null,
          -0.0016226506331009553,
          0.7301368827764964,
          null,
          -0.0016226506331009553,
          -0.038946908359510736,
          null,
          -0.0016226506331009553,
          0.44075254450509155,
          null,
          -0.0016226506331009553,
          -0.1693684931762693,
          null,
          -0.0016226506331009553,
          -0.03652966019014152,
          null,
          -0.0016226506331009553,
          0.49082843392748804,
          null,
          -0.0016226506331009553,
          0.8326865093096436,
          null,
          -0.0016226506331009553,
          -0.7634131578936609,
          null,
          -0.0016226506331009553,
          0.5981002747506015,
          null,
          -0.0016226506331009553,
          0.5851445354662603,
          null,
          -0.0016226506331009553,
          0.6981500774999441,
          null,
          -0.0016226506331009553,
          -0.5273901323340418,
          null,
          -0.0016226506331009553,
          -0.9619025492403427,
          null,
          -0.0016226506331009553,
          -0.21489620026979558,
          null,
          -0.0016226506331009553,
          0.5035461356598997,
          null,
          -0.0016226506331009553,
          -0.043120360061343434,
          null,
          -0.0016226506331009553,
          -0.6572056260971301,
          null,
          -0.0016226506331009553,
          -0.5766870352872124,
          null,
          -0.0016226506331009553,
          0.7284649814047006,
          null,
          -0.0016226506331009553,
          0.17618648767300676,
          null,
          -0.0016226506331009553,
          0.514084255422123,
          null,
          -0.0016226506331009553,
          0.9633442233959653,
          null,
          -0.0016226506331009553,
          0.4632570983676707,
          null,
          -0.0016226506331009553,
          -0.2964574308235476,
          null,
          -0.0016226506331009553,
          -0.6026736649496275,
          null,
          -0.0016226506331009553,
          0.3423614334300667,
          null,
          -0.0016226506331009553,
          -0.9903166353873902,
          null,
          -0.0016226506331009553,
          0.09030327143503661,
          null,
          -0.0016226506331009553,
          -0.8041630705493893,
          null,
          -0.0016226506331009553,
          0.8946805230843058,
          null,
          -0.0016226506331009553,
          -0.0347320147053789,
          null,
          -0.0016226506331009553,
          -0.12847889470805124,
          null,
          -0.0016226506331009553,
          0.661602604389462,
          null,
          -0.0016226506331009553,
          -0.36949624184386404,
          null,
          -0.0016226506331009553,
          -0.5485835802341023,
          null,
          -0.0016226506331009553,
          -0.07099698276647728,
          null,
          -0.0016226506331009553,
          -0.9139103578406611,
          null,
          -0.0016226506331009553,
          0.3787422033207019,
          null,
          -0.0016226506331009553,
          -0.6631806168511869,
          null,
          -0.0016226506331009553,
          0.5147540903939707,
          null,
          -0.0016226506331009553,
          0.13478675763553666,
          null,
          -0.0016226506331009553,
          -0.251610796381107,
          null,
          -0.0016226506331009553,
          -0.17715463502709305,
          null,
          -0.0016226506331009553,
          0.38719380301132666,
          null,
          -0.0016226506331009553,
          -0.596912715510014,
          null,
          -0.0016226506331009553,
          -0.20075327107838384,
          null,
          -0.0016226506331009553,
          -0.9098624655253009,
          null,
          -0.0016226506331009553,
          0.2422273454786911,
          null,
          -0.0016226506331009553,
          -0.2447154690696065,
          null,
          -0.0016226506331009553,
          0.5032349977988196,
          null,
          -0.0016226506331009553,
          0.2703890457550256,
          null,
          -0.0016226506331009553,
          0.5032548491145309,
          null,
          -0.0016226506331009553,
          -0.1682986844132877,
          null,
          -0.0016226506331009553,
          0.3557742782396274,
          null,
          -0.0016226506331009553,
          -0.5133519803561577,
          null,
          -0.0016226506331009553,
          0.7908503521575719,
          null,
          -0.0016226506331009553,
          0.4238998553896173,
          null,
          -0.0016226506331009553,
          -0.17461721348091955,
          null,
          -0.0016226506331009553,
          0.9274026300727446,
          null,
          -0.0016226506331009553,
          0.028283117614258856,
          null,
          -0.0016226506331009553,
          0.2114184781830066,
          null,
          -0.0016226506331009553,
          0.6186137769424489,
          null,
          -0.0016226506331009553,
          0.24189158594683746,
          null,
          -0.0016226506331009553,
          -0.3372356397590319,
          null,
          -0.0016226506331009553,
          0.6274703893533561,
          null,
          -0.0016226506331009553,
          -0.4386151137374801,
          null,
          -0.0016226506331009553,
          -0.7482130960653068,
          null,
          -0.0016226506331009553,
          -0.2710535911593351,
          null,
          -0.0016226506331009553,
          0.37829096235949194,
          null,
          -0.0016226506331009553,
          0.9068294903393526,
          null,
          -0.0016226506331009553,
          -0.4806876780991469,
          null,
          -0.0016226506331009553,
          0.4172172556443601,
          null,
          -0.0016226506331009553,
          0.307329134074186,
          null,
          -0.0016226506331009553,
          -0.8942083728907836,
          null,
          -0.0016226506331009553,
          -0.5806029116038658,
          null,
          -0.0016226506331009553,
          1,
          null,
          -0.0016226506331009553,
          0.7393747982007055,
          null,
          -0.0016226506331009553,
          0.7180201085397587,
          null,
          -0.0016226506331009553,
          0.20823060709909433,
          null,
          -0.0016226506331009553,
          -0.3700072847419367,
          null,
          -0.0016226506331009553,
          -0.3985713929579756,
          null,
          -0.0016226506331009553,
          0.25793164415444386,
          null,
          -0.0016226506331009553,
          0.5984381994019085,
          null,
          -0.0016226506331009553,
          0.7738286967596488,
          null,
          -0.0016226506331009553,
          -0.7844614205992702,
          null,
          -0.0016226506331009553,
          0.07065912945448166,
          null,
          -0.0016226506331009553,
          0.7954239990475044,
          null,
          -0.0016226506331009553,
          -0.4910788653209768,
          null
         ],
         "y": [
          0.3463053209288092,
          -0.0011465873725517136,
          null,
          -0.0011465873725517136,
          -0.6134521384002094,
          null,
          -0.0011465873725517136,
          0.1407343376846754,
          null,
          -0.0011465873725517136,
          0.9358309406286339,
          null,
          -0.0011465873725517136,
          0.3738108118089855,
          null,
          -0.0011465873725517136,
          -0.0011465873725517136,
          null,
          -0.0011465873725517136,
          -0.5250065433203727,
          null,
          -0.0011465873725517136,
          -0.5125332719295107,
          null,
          -0.0011465873725517136,
          0.29535527240172565,
          null,
          -0.0011465873725517136,
          -0.5943740249483421,
          null,
          -0.0011465873725517136,
          -0.5767486177412989,
          null,
          -0.0011465873725517136,
          -0.338600421036115,
          null,
          -0.0011465873725517136,
          0.446522335310561,
          null,
          -0.0011465873725517136,
          0.11670160205051575,
          null,
          -0.0011465873725517136,
          -0.8890432817605848,
          null,
          -0.0011465873725517136,
          -0.9790760052296915,
          null,
          -0.0011465873725517136,
          0.7706867308621218,
          null,
          -0.0011465873725517136,
          0.3038404759922758,
          null,
          -0.0011465873725517136,
          -0.7468289660803177,
          null,
          -0.0011465873725517136,
          -0.138988305420723,
          null,
          -0.0011465873725517136,
          -0.019239563119670337,
          null,
          -0.0011465873725517136,
          0.4558796162262117,
          null,
          -0.0011465873725517136,
          0.4627625289711717,
          null,
          -0.0011465873725517136,
          0.5416399300494918,
          null,
          -0.0011465873725517136,
          -0.5906551494479042,
          null,
          -0.0011465873725517136,
          0.431725688858268,
          null,
          -0.0011465873725517136,
          0.6685612734803923,
          null,
          -0.0011465873725517136,
          0.9798125868901574,
          null,
          -0.0011465873725517136,
          -0.4659275001552121,
          null,
          -0.0011465873725517136,
          -0.20293070715331724,
          null,
          -0.0011465873725517136,
          -0.5494029691991875,
          null,
          -0.0011465873725517136,
          -0.39628751733413725,
          null,
          -0.0011465873725517136,
          0.654139486441877,
          null,
          -0.0011465873725517136,
          0.7299695892401852,
          null,
          -0.0011465873725517136,
          0.3960437028057201,
          null,
          -0.0011465873725517136,
          -0.26912933330931454,
          null,
          -0.0011465873725517136,
          0.32674887144854436,
          null,
          -0.0011465873725517136,
          0.6551513058683314,
          null,
          -0.0011465873725517136,
          -0.6469952084520374,
          null,
          -0.0011465873725517136,
          -0.8909858965426419,
          null,
          -0.0011465873725517136,
          0.34905619859788994,
          null,
          -0.0011465873725517136,
          -0.9858814054408637,
          null,
          -0.0011465873725517136,
          -0.6935976698066306,
          null,
          -0.0011465873725517136,
          0.5273881465925778,
          null,
          -0.0011465873725517136,
          -0.04297809283140458,
          null,
          -0.0011465873725517136,
          0.29175656960073104,
          null,
          -0.0011465873725517136,
          0.27493416483082106,
          null,
          -0.0011465873725517136,
          -0.046934331078157296,
          null,
          -0.0011465873725517136,
          -0.26887804486748473,
          null,
          -0.0011465873725517136,
          -0.6699612190565681,
          null,
          -0.0011465873725517136,
          0.2168333902607754,
          null,
          -0.0011465873725517136,
          -0.21462206809142365,
          null,
          -0.0011465873725517136,
          -0.5503408306821223,
          null,
          -0.0011465873725517136,
          0.8274908347872278,
          null,
          -0.0011465873725517136,
          -0.711680895344934,
          null,
          -0.0011465873725517136,
          -0.5314376280153454,
          null,
          -0.0011465873725517136,
          0.43797342059972355,
          null,
          -0.0011465873725517136,
          0.6559009411156002,
          null,
          -0.0011465873725517136,
          0.13087536929976018,
          null,
          -0.0011465873725517136,
          0.1916901298915578,
          null,
          -0.0011465873725517136,
          0.7571584657393436,
          null,
          -0.0011465873725517136,
          -0.8503151381542723,
          null,
          -0.0011465873725517136,
          -0.04381752924256902,
          null,
          -0.0011465873725517136,
          0.7490917359561866,
          null,
          -0.0011465873725517136,
          -0.00020326546168323225,
          null,
          -0.0011465873725517136,
          -0.7498441864310333,
          null,
          -0.0011465873725517136,
          -0.20859078664031389,
          null,
          -0.0011465873725517136,
          -0.16199073770434436,
          null,
          -0.0011465873725517136,
          0.633810509301836,
          null,
          -0.0011465873725517136,
          0.9541239630851054,
          null,
          -0.0011465873725517136,
          -0.5356083176288742,
          null,
          -0.0011465873725517136,
          0.001585362440077598,
          null,
          -0.0011465873725517136,
          -0.8164693313680902,
          null,
          -0.0011465873725517136,
          -0.5343619433159833,
          null,
          -0.0011465873725517136,
          -0.335161272839451,
          null,
          -0.0011465873725517136,
          -0.7266635933809178,
          null,
          -0.0011465873725517136,
          -0.2134106398011221,
          null,
          -0.0011465873725517136,
          -0.6789371644000521,
          null,
          -0.0011465873725517136,
          0.9461623818655295,
          null,
          -0.0011465873725517136,
          0.6865319224856804,
          null,
          -0.0011465873725517136,
          0.8146857879068878,
          null,
          -0.0011465873725517136,
          -0.03485143777982209,
          null,
          -0.0011465873725517136,
          0.5021930708593523,
          null,
          -0.0011465873725517136,
          -0.713445366577388,
          null,
          -0.0011465873725517136,
          0.09950028096495553,
          null,
          -0.0011465873725517136,
          -0.4165400566264673,
          null,
          -0.0011465873725517136,
          -0.4278318697088004,
          null,
          -0.0011465873725517136,
          -0.8333457755652445,
          null,
          -0.0011465873725517136,
          -0.2201439642814551,
          null,
          -0.0011465873725517136,
          -0.2376358257587281,
          null,
          -0.0011465873725517136,
          -0.860306155553729,
          null,
          -0.0011465873725517136,
          0.5316579055268849,
          null,
          -0.0011465873725517136,
          0.6287608840483927,
          null,
          -0.0011465873725517136,
          0.16805682102706662,
          null,
          -0.0011465873725517136,
          -0.4164268073263514,
          null,
          -0.0011465873725517136,
          0.24086950377844749,
          null,
          -0.0011465873725517136,
          0.06611617531062687,
          null,
          -0.0011465873725517136,
          -0.3621313551688081,
          null,
          -0.0011465873725517136,
          0.810823180992005,
          null,
          -0.0011465873725517136,
          0.5029010242292685,
          null,
          -0.0011465873725517136,
          -0.7685190507718561,
          null,
          -0.0011465873725517136,
          0.8484175367672572,
          null,
          -0.0011465873725517136,
          -0.7479146673474035,
          null,
          -0.0011465873725517136,
          0.19572846722661125,
          null,
          -0.0011465873725517136,
          -0.3602339449449886,
          null,
          -0.0011465873725517136,
          0.9536183647261385,
          null,
          -0.0011465873725517136,
          -0.8953342310962332,
          null,
          -0.0011465873725517136,
          -0.3968474681893938,
          null,
          -0.0011465873725517136,
          0.8648684416403277,
          null,
          -0.0011465873725517136,
          0.8914480930132598,
          null,
          -0.0011465873725517136,
          0.2034284995273046,
          null,
          -0.0011465873725517136,
          -0.08740012624103966,
          null,
          -0.0011465873725517136,
          -0.3756738102739284,
          null,
          -0.0011465873725517136,
          -0.05593596331741965,
          null,
          -0.0011465873725517136,
          0.30159796669837224,
          null,
          -0.0011465873725517136,
          0.0646247617922256,
          null,
          -0.0011465873725517136,
          0.5163304271652531,
          null,
          -0.0011465873725517136,
          0.5531335805840254,
          null,
          -0.0011465873725517136,
          -0.9055614966015904,
          null,
          -0.0011465873725517136,
          -0.9327395814873285,
          null,
          -0.0011465873725517136,
          0.7850204813873635,
          null,
          -0.0011465873725517136,
          -0.38268407724487724,
          null,
          -0.0011465873725517136,
          0.5982297396262929,
          null,
          -0.0011465873725517136,
          0.7670284992750067,
          null,
          -0.0011465873725517136,
          0.5576445924210319,
          null,
          -0.0011465873725517136,
          -0.1807288694936977,
          null
         ]
        },
        {
         "hoverinfo": "text",
         "hovertext": [
          "Palavra: Angola\n        <br>Contagem: 135\n        <br>Sentiment: 0.514\n        <br>Source:\n        <br>{'Diário de Notícias': 17, 'Público': 78, 'RTP': 40}",
          "Company: Banco Comercial Português",
          "Palavra: BCE\n        <br>Contagem: 146\n        <br>Sentiment: 0.074\n        <br>Source:\n        <br>{'Diário de Notícias': 29, 'Público': 65, 'RTP': 52}",
          "Palavra: BCP\n        <br>Contagem: 5170\n        <br>Sentiment: 0.35\n        <br>Source:\n        <br>{'Diário de Notícias': 1546, 'Público': 2193.0, 'RTP': 1431}",
          "Palavra: BES\n        <br>Contagem: 333\n        <br>Sentiment: 0.221\n        <br>Source:\n        <br>{'Diário de Notícias': 159, 'Público': 131, 'RTP': 43}",
          "Palavra: BPI\n        <br>Contagem: 442\n        <br>Sentiment: 0.322\n        <br>Source:\n        <br>{'Diário de Notícias': 159, 'Público': 165, 'RTP': 118}",
          "Palavra: Banco de Portugal\n        <br>Contagem: 326\n        <br>Sentiment: 0.22\n        <br>Source:\n        <br>{'Diário de Notícias': 89, 'Público': 131.0, 'RTP': 106.0}",
          "Palavra: Berardo\n        <br>Contagem: 134.0\n        <br>Sentiment: 0.35\n        <br>Source:\n        <br>{'Diário de Notícias': 43.0, 'Público': 55.0, 'RTP': 36.0}",
          "Palavra: Bruxelas\n        <br>Contagem: 115\n        <br>Sentiment: 0.043\n        <br>Source:\n        <br>{'Diário de Notícias': 55, 'Público': 38, 'RTP': 22}",
          "Palavra: Comissão do Mercado de Valores Mobiliários\n        <br>Contagem: 107\n        <br>Sentiment: 0.486\n        <br>Source:\n        <br>{'Diário de Notícias': 33, 'Público': 49, 'RTP': 25}",
          "Palavra: Cristina Ferreira\n        <br>Contagem: 123.0\n        <br>Sentiment: 0.423\n        <br>Source:\n        <br>{'Público': 123.0}",
          "Palavra: EDP\n        <br>Contagem: 135\n        <br>Sentiment: 0.302\n        <br>Source:\n        <br>{'Diário de Notícias': 51, 'Público': 52, 'RTP': 32}",
          "Palavra: EUA\n        <br>Contagem: 312\n        <br>Sentiment: -0.183\n        <br>Source:\n        <br>{'Diário de Notícias': 236, 'Público': 50, 'RTP': 26}",
          "Palavra: Em Portugal\n        <br>Contagem: 194\n        <br>Sentiment: 0.33\n        <br>Source:\n        <br>{'Diário de Notícias': 57, 'Público': 69, 'RTP': 68}",
          "Palavra: Estado\n        <br>Contagem: 431\n        <br>Sentiment: 0.093\n        <br>Source:\n        <br>{'Diário de Notícias': 248, 'Público': 142, 'RTP': 41}",
          "Palavra: Europa\n        <br>Contagem: 232\n        <br>Sentiment: 0.175\n        <br>Source:\n        <br>{'Diário de Notícias': 119, 'Público': 50, 'RTP': 63}",
          "Palavra: Filipe Pinhal\n        <br>Contagem: 213.0\n        <br>Sentiment: 0.188\n        <br>Source:\n        <br>{'Diário de Notícias': 43.0, 'Público': 120.0, 'RTP': 50.0}",
          "Palavra: Fosun\n        <br>Contagem: 217.0\n        <br>Sentiment: 0.51\n        <br>Source:\n        <br>{'Diário de Notícias': 70.0, 'Público': 73.0, 'RTP': 74.0}",
          "Palavra: Governo\n        <br>Contagem: 518\n        <br>Sentiment: -0.096\n        <br>Source:\n        <br>{'Diário de Notícias': 353, 'Público': 100, 'RTP': 65}",
          "Palavra: Grécia\n        <br>Contagem: 107\n        <br>Sentiment: 0.338\n        <br>Source:\n        <br>{'Diário de Notícias': 20, 'Público': 73, 'RTP': 14}",
          "Palavra: Investimento\n        <br>Contagem: 181.0\n        <br>Sentiment: 0.394\n        <br>Source:\n        <br>{'Diário de Notícias': 62.0, 'Público': 57.0, 'RTP': 62.0}",
          "Palavra: Irão\n        <br>Contagem: 109\n        <br>Sentiment: 0.071\n        <br>Source:\n        <br>{'Diário de Notícias': 52, 'Público': 43.0, 'RTP': 14}",
          "Palavra: Isabel dos Santos\n        <br>Contagem: 119\n        <br>Sentiment: 0.413\n        <br>Source:\n        <br>{'Diário de Notícias': 42, 'Público': 35.0, 'RTP': 42.0}",
          "Palavra: Jardim Gonçalves\n        <br>Contagem: 219.0\n        <br>Sentiment: 0.281\n        <br>Source:\n        <br>{'Diário de Notícias': 68.0, 'Público': 136.0, 'RTP': 15.0}",
          "Palavra: Joe Berardo\n        <br>Contagem: 112.0\n        <br>Sentiment: 0.242\n        <br>Source:\n        <br>{'Diário de Notícias': 30.0, 'Público': 63.0, 'RTP': 19.0}",
          "Palavra: Lisboa\n        <br>Contagem: 384\n        <br>Sentiment: 0.281\n        <br>Source:\n        <br>{'Diário de Notícias': 181, 'Público': 117, 'RTP': 86}",
          "Palavra: MILLENNIUM BCP\n        <br>Contagem: 144.0\n        <br>Sentiment: 0.471\n        <br>Source:\n        <br>{'Diário de Notícias': 44.0, 'Público': 55.0, 'RTP': 45.0}",
          "Palavra: Miguel Maya\n        <br>Contagem: 149.0\n        <br>Sentiment: 0.483\n        <br>Source:\n        <br>{'Diário de Notícias': 31.0, 'Público': 80.0, 'RTP': 38.0}",
          "Palavra: Millennium\n        <br>Contagem: 236.0\n        <br>Sentiment: 0.442\n        <br>Source:\n        <br>{'Diário de Notícias': 109.0, 'Público': 66.0, 'RTP': 61.0}",
          "Palavra: Novo Banco\n        <br>Contagem: 346\n        <br>Sentiment: 0.386\n        <br>Source:\n        <br>{'Diário de Notícias': 64.0, 'Público': 189.0, 'RTP': 93}",
          "Palavra: Nuno Amado\n        <br>Contagem: 454.0\n        <br>Sentiment: 0.416\n        <br>Source:\n        <br>{'Diário de Notícias': 149.0, 'Público': 227.0, 'RTP': 78.0}",
          "Palavra: PS\n        <br>Contagem: 167\n        <br>Sentiment: 0.016\n        <br>Source:\n        <br>{'Diário de Notícias': 96, 'Público': 28, 'RTP': 43}",
          "Palavra: Polónia\n        <br>Contagem: 160\n        <br>Sentiment: 0.551\n        <br>Source:\n        <br>{'Diário de Notícias': 26.0, 'Público': 89, 'RTP': 45.0}",
          "Palavra: Portugal\n        <br>Contagem: 941\n        <br>Sentiment: 0.272\n        <br>Source:\n        <br>{'Diário de Notícias': 357, 'Público': 449, 'RTP': 135}",
          "Palavra: Santos Ferreira\n        <br>Contagem: 127.0\n        <br>Sentiment: 0.456\n        <br>Source:\n        <br>{'Diário de Notícias': 25.0, 'Público': 97.0, 'RTP': 5.0}",
          "Palavra: Sócrates\n        <br>Contagem: 133\n        <br>Sentiment: -0.261\n        <br>Source:\n        <br>{'Diário de Notícias': 104, 'Público': 13, 'RTP': 16}",
          "Palavra: Tribunal\n        <br>Contagem: 205.0\n        <br>Sentiment: 0.117\n        <br>Source:\n        <br>{'Diário de Notícias': 60.0, 'Público': 139.0, 'RTP': 6.0}",
          "Palavra: Visa\n        <br>Contagem: 292.0\n        <br>Sentiment: 0.503\n        <br>Source:\n        <br>{'Diário de Notícias': 14.0, 'Público': 276.0, 'RTP': 2.0}",
          "Palavra: accionistas\n        <br>Contagem: 198\n        <br>Sentiment: 0.474\n        <br>Source:\n        <br>{'Diário de Notícias': 14.0, 'Público': 169, 'RTP': 15.0}",
          "Palavra: acesso\n        <br>Contagem: 188\n        <br>Sentiment: 0.396\n        <br>Source:\n        <br>{'Diário de Notícias': 58, 'Público': 112, 'RTP': 18}",
          "Palavra: acordo\n        <br>Contagem: 325\n        <br>Sentiment: 0.377\n        <br>Source:\n        <br>{'Diário de Notícias': 75, 'Público': 149, 'RTP': 101}",
          "Palavra: acções\n        <br>Contagem: 362\n        <br>Sentiment: 0.446\n        <br>Source:\n        <br>{'Diário de Notícias': 37, 'Público': 313, 'RTP': 12}",
          "Palavra: administração\n        <br>Contagem: 235\n        <br>Sentiment: 0.455\n        <br>Source:\n        <br>{'Diário de Notícias': 58, 'Público': 134, 'RTP': 43}",
          "Palavra: anos\n        <br>Contagem: 811\n        <br>Sentiment: 0.182\n        <br>Source:\n        <br>{'Diário de Notícias': 339, 'Público': 282, 'RTP': 190}",
          "Palavra: artigos\n        <br>Contagem: 328\n        <br>Sentiment: 0.535\n        <br>Source:\n        <br>{'Diário de Notícias': 4, 'Público': 323, 'RTP': 1.0}",
          "Palavra: aumento\n        <br>Contagem: 367\n        <br>Sentiment: 0.466\n        <br>Source:\n        <br>{'Diário de Notícias': 80, 'Público': 189, 'RTP': 98}",
          "Palavra: ações\n        <br>Contagem: 227.0\n        <br>Sentiment: 0.473\n        <br>Source:\n        <br>{'Diário de Notícias': 126.0, 'Público': 2.0, 'RTP': 99.0}",
          "Palavra: banca\n        <br>Contagem: 250\n        <br>Sentiment: 0.174\n        <br>Source:\n        <br>{'Diário de Notícias': 112, 'Público': 106, 'RTP': 32}",
          "Palavra: banco\n        <br>Contagem: 1856.0\n        <br>Sentiment: 0.386\n        <br>Source:\n        <br>{'Diário de Notícias': 499.0, 'Público': 963.0, 'RTP': 394.0}",
          "Palavra: bancos\n        <br>Contagem: 547\n        <br>Sentiment: 0.222\n        <br>Source:\n        <br>{'Diário de Notícias': 172, 'Público': 260, 'RTP': 115}",
          "Palavra: bolsa\n        <br>Contagem: 151.0\n        <br>Sentiment: 0.294\n        <br>Source:\n        <br>{'Diário de Notícias': 61.0, 'Público': 45.0, 'RTP': 45.0}",
          "Palavra: campanha\n        <br>Contagem: 220\n        <br>Sentiment: 0.291\n        <br>Source:\n        <br>{'Diário de Notícias': 45, 'Público': 167, 'RTP': 8}",
          "Palavra: capital\n        <br>Contagem: 828\n        <br>Sentiment: 0.452\n        <br>Source:\n        <br>{'Diário de Notícias': 201, 'Público': 419, 'RTP': 208}",
          "Palavra: caso\n        <br>Contagem: 270\n        <br>Sentiment: 0.261\n        <br>Source:\n        <br>{'Diário de Notícias': 116, 'Público': 119, 'RTP': 35}",
          "Palavra: clientes\n        <br>Contagem: 234\n        <br>Sentiment: 0.367\n        <br>Source:\n        <br>{'Diário de Notícias': 44, 'Público': 153, 'RTP': 37}",
          "Palavra: compra\n        <br>Contagem: 228\n        <br>Sentiment: 0.37\n        <br>Source:\n        <br>{'Diário de Notícias': 60, 'Público': 122, 'RTP': 46}",
          "Palavra: condições\n        <br>Contagem: 177\n        <br>Sentiment: 0.408\n        <br>Source:\n        <br>{'Diário de Notícias': 36, 'Público': 102, 'RTP': 39}",
          "Palavra: conta\n        <br>Contagem: 484\n        <br>Sentiment: 0.294\n        <br>Source:\n        <br>{'Diário de Notícias': 153, 'Público': 312, 'RTP': 19}",
          "Palavra: contas\n        <br>Contagem: 282\n        <br>Sentiment: 0.21\n        <br>Source:\n        <br>{'Diário de Notícias': 96, 'Público': 141, 'RTP': 45}",
          "Palavra: corte\n        <br>Contagem: 183\n        <br>Sentiment: -0.297\n        <br>Source:\n        <br>{'Diário de Notícias': 148, 'Público': 31, 'RTP': 4.0}",
          "Palavra: cortes\n        <br>Contagem: 208\n        <br>Sentiment: -0.121\n        <br>Source:\n        <br>{'Diário de Notícias': 146, 'Público': 39, 'RTP': 23}",
          "Palavra: crédito\n        <br>Contagem: 348.0\n        <br>Sentiment: 0.378\n        <br>Source:\n        <br>{'Diário de Notícias': 72.0, 'Público': 182.0, 'RTP': 94.0}",
          "Palavra: dados\n        <br>Contagem: 237\n        <br>Sentiment: -0.042\n        <br>Source:\n        <br>{'Diário de Notícias': 153, 'Público': 74, 'RTP': 10}",
          "Palavra: decisão\n        <br>Contagem: 201\n        <br>Sentiment: 0.361\n        <br>Source:\n        <br>{'Diário de Notícias': 50, 'Público': 113, 'RTP': 38}",
          "Palavra: destaque\n        <br>Contagem: 200\n        <br>Sentiment: 0.572\n        <br>Source:\n        <br>{'Diário de Notícias': 11, 'Público': 171, 'RTP': 18}",
          "Palavra: dias\n        <br>Contagem: 475\n        <br>Sentiment: 0.152\n        <br>Source:\n        <br>{'Diário de Notícias': 202, 'Público': 249, 'RTP': 24}",
          "Palavra: dinheiro\n        <br>Contagem: 191\n        <br>Sentiment: 0.096\n        <br>Source:\n        <br>{'Diário de Notícias': 138, 'Público': 37, 'RTP': 16}",
          "Palavra: direitos\n        <br>Contagem: 392\n        <br>Sentiment: 0.31\n        <br>Source:\n        <br>{'Diário de Notícias': 143, 'Público': 37, 'RTP': 212}",
          "Palavra: débito\n        <br>Contagem: 276\n        <br>Sentiment: 0.556\n        <br>Source:\n        <br>{'Diário de Notícias': None, 'Público': 276}",
          "Palavra: dívida\n        <br>Contagem: 388\n        <br>Sentiment: 0.245\n        <br>Source:\n        <br>{'Diário de Notícias': 121, 'Público': 175, 'RTP': 92}",
          "Palavra: economia\n        <br>Contagem: 395.0\n        <br>Sentiment: 0.383\n        <br>Source:\n        <br>{'Diário de Notícias': 142.0, 'Público': 150.0, 'RTP': 103.0}",
          "Palavra: empresa\n        <br>Contagem: 332.0\n        <br>Sentiment: 0.375\n        <br>Source:\n        <br>{'Diário de Notícias': 89.0, 'Público': 119.0, 'RTP': 124.0}",
          "Palavra: empresas\n        <br>Contagem: 268\n        <br>Sentiment: 0.224\n        <br>Source:\n        <br>{'Diário de Notícias': 125, 'Público': 99, 'RTP': 44}",
          "Palavra: entrada\n        <br>Contagem: 171\n        <br>Sentiment: 0.423\n        <br>Source:\n        <br>{'Diário de Notícias': 59, 'Público': 74, 'RTP': 38}",
          "Palavra: euros\n        <br>Contagem: 2133\n        <br>Sentiment: 0.329\n        <br>Source:\n        <br>{'Diário de Notícias': 607, 'Público': 939, 'RTP': 587}",
          "Palavra: fonte\n        <br>Contagem: 290\n        <br>Sentiment: 0.45\n        <br>Source:\n        <br>{'Diário de Notícias': 15, 'Público': 36, 'RTP': 239}",
          "Palavra: fundador\n        <br>Contagem: 101\n        <br>Sentiment: 0.233\n        <br>Source:\n        <br>{'Diário de Notícias': 26.0, 'Público': 63.0, 'RTP': 12.0}",
          "Palavra: fusão\n        <br>Contagem: 222\n        <br>Sentiment: 0.499\n        <br>Source:\n        <br>{'Diário de Notícias': 101, 'Público': 59, 'RTP': 62.0}",
          "Palavra: gestão\n        <br>Contagem: 191\n        <br>Sentiment: 0.36\n        <br>Source:\n        <br>{'Diário de Notícias': 47, 'Público': 120, 'RTP': 24}",
          "Palavra: hora\n        <br>Contagem: 121\n        <br>Sentiment: 0.16\n        <br>Source:\n        <br>{'Diário de Notícias': 57, 'Público': 49, 'RTP': 15}",
          "Palavra: horas\n        <br>Contagem: 265\n        <br>Sentiment: -0.248\n        <br>Source:\n        <br>{'Diário de Notícias': 231, 'Público': 21, 'RTP': 13}",
          "Palavra: instituição\n        <br>Contagem: 246\n        <br>Sentiment: 0.422\n        <br>Source:\n        <br>{'Diário de Notícias': 42, 'Público': 164.0, 'RTP': 40.0}",
          "Palavra: investidores\n        <br>Contagem: 200\n        <br>Sentiment: 0.423\n        <br>Source:\n        <br>{'Diário de Notícias': 67, 'Público': 96, 'RTP': 37}",
          "Palavra: leitores\n        <br>Contagem: 201\n        <br>Sentiment: 0.336\n        <br>Source:\n        <br>{'Diário de Notícias': 43, 'Público': 156, 'RTP': 2.0}",
          "Palavra: limite\n        <br>Contagem: 213\n        <br>Sentiment: 0.494\n        <br>Source:\n        <br>{'Diário de Notícias': 24.0, 'Público': 185, 'RTP': 4.0}",
          "Palavra: lucro\n        <br>Contagem: 120\n        <br>Sentiment: 0.581\n        <br>Source:\n        <br>{'Diário de Notícias': 11, 'Público': 29, 'RTP': 80}",
          "Palavra: lucros\n        <br>Contagem: 325\n        <br>Sentiment: 0.482\n        <br>Source:\n        <br>{'Diário de Notícias': 88, 'Público': 105, 'RTP': 132.0}",
          "Palavra: líder\n        <br>Contagem: 172.0\n        <br>Sentiment: 0.325\n        <br>Source:\n        <br>{'Diário de Notícias': 54.0, 'Público': 99.0, 'RTP': 19.0}",
          "Palavra: mercado\n        <br>Contagem: 305.0\n        <br>Sentiment: 0.329\n        <br>Source:\n        <br>{'Diário de Notícias': 73.0, 'Público': 170.0, 'RTP': 62.0}",
          "Palavra: minutos\n        <br>Contagem: 235\n        <br>Sentiment: -0.175\n        <br>Source:\n        <br>{'Diário de Notícias': 176, 'Público': 21, 'RTP': 38}",
          "Palavra: mundo\n        <br>Contagem: 433\n        <br>Sentiment: 0.468\n        <br>Source:\n        <br>{'Diário de Notícias': 57, 'Público': 296, 'RTP': 80}",
          "Palavra: navegação\n        <br>Contagem: 205\n        <br>Sentiment: 0.439\n        <br>Source:\n        <br>{'Diário de Notícias': 1.0, 'Público': 203, 'RTP': 1.0}",
          "Palavra: operação\n        <br>Contagem: 232\n        <br>Sentiment: 0.471\n        <br>Source:\n        <br>{'Diário de Notícias': 61, 'Público': 122, 'RTP': 49}",
          "Palavra: pagamento\n        <br>Contagem: 187\n        <br>Sentiment: 0.427\n        <br>Source:\n        <br>{'Diário de Notícias': 34, 'Público': 140, 'RTP': 13}",
          "Palavra: pagamentos\n        <br>Contagem: 227\n        <br>Sentiment: 0.535\n        <br>Source:\n        <br>{'Diário de Notícias': 5.0, 'Público': 221, 'RTP': 1.0}",
          "Palavra: participação\n        <br>Contagem: 229\n        <br>Sentiment: 0.511\n        <br>Source:\n        <br>{'Diário de Notícias': 106, 'Público': 58, 'RTP': 65}",
          "Palavra: país\n        <br>Contagem: 300.0\n        <br>Sentiment: 0.25\n        <br>Source:\n        <br>{'Diário de Notícias': 93.0, 'Público': 83.0, 'RTP': 124.0}",
          "Palavra: perdas\n        <br>Contagem: 132\n        <br>Sentiment: 0.318\n        <br>Source:\n        <br>{'Diário de Notícias': 32, 'Público': 61, 'RTP': 39}",
          "Palavra: período\n        <br>Contagem: 220\n        <br>Sentiment: 0.477\n        <br>Source:\n        <br>{'Diário de Notícias': 21, 'Público': 163, 'RTP': 36}",
          "Palavra: pessoas\n        <br>Contagem: 205\n        <br>Sentiment: 0.084\n        <br>Source:\n        <br>{'Diário de Notícias': 96, 'Público': 28, 'RTP': 81}",
          "Palavra: plano\n        <br>Contagem: 204\n        <br>Sentiment: 0.295\n        <br>Source:\n        <br>{'Diário de Notícias': 55, 'Público': 108, 'RTP': 41.0}",
          "Palavra: prejuízo\n        <br>Contagem: 184\n        <br>Sentiment: 0.31\n        <br>Source:\n        <br>{'Diário de Notícias': 39.0, 'Público': 77, 'RTP': 68}",
          "Palavra: prejuízos\n        <br>Contagem: 201\n        <br>Sentiment: 0.228\n        <br>Source:\n        <br>{'Diário de Notícias': 60, 'Público': 82, 'RTP': 59.0}",
          "Palavra: presidente\n        <br>Contagem: 652\n        <br>Sentiment: 0.386\n        <br>Source:\n        <br>{'Diário de Notícias': 186, 'Público': 272, 'RTP': 194}",
          "Palavra: processo\n        <br>Contagem: 384\n        <br>Sentiment: 0.28\n        <br>Source:\n        <br>{'Diário de Notícias': 110, 'Público': 200, 'RTP': 74}",
          "Palavra: proposta\n        <br>Contagem: 248\n        <br>Sentiment: 0.424\n        <br>Source:\n        <br>{'Diário de Notícias': 88, 'Público': 80, 'RTP': 80}",
          "Palavra: qualidade\n        <br>Contagem: 211\n        <br>Sentiment: 0.487\n        <br>Source:\n        <br>{'Diário de Notícias': 18, 'Público': 180, 'RTP': 13}",
          "Palavra: queda\n        <br>Contagem: 161\n        <br>Sentiment: 0.231\n        <br>Source:\n        <br>{'Diário de Notícias': 52, 'Público': 52, 'RTP': 57}",
          "Palavra: rating\n        <br>Contagem: 200\n        <br>Sentiment: 0.438\n        <br>Source:\n        <br>{'Diário de Notícias': 30, 'Público': 107.0, 'RTP': 63}",
          "Palavra: redução\n        <br>Contagem: 186\n        <br>Sentiment: 0.326\n        <br>Source:\n        <br>{'Diário de Notícias': 74, 'Público': 63, 'RTP': 49}",
          "Palavra: resposta\n        <br>Contagem: 305\n        <br>Sentiment: -0.258\n        <br>Source:\n        <br>{'Diário de Notícias': 271, 'Público': 24, 'RTP': 10}",
          "Palavra: restantes\n        <br>Contagem: 209.0\n        <br>Sentiment: 0.559\n        <br>Source:\n        <br>{'Diário de Notícias': 1.0, 'Público': 207.0, 'RTP': 1.0}",
          "Palavra: resultado\n        <br>Contagem: 175\n        <br>Sentiment: 0.407\n        <br>Source:\n        <br>{'Diário de Notícias': 23, 'Público': 91, 'RTP': 61}",
          "Palavra: resultados\n        <br>Contagem: 322\n        <br>Sentiment: 0.392\n        <br>Source:\n        <br>{'Diário de Notícias': 60, 'Público': 171, 'RTP': 91}",
          "Palavra: risco\n        <br>Contagem: 186\n        <br>Sentiment: 0.14\n        <br>Source:\n        <br>{'Diário de Notícias': 73, 'Público': 76, 'RTP': 37}",
          "Palavra: salários\n        <br>Contagem: 207\n        <br>Sentiment: -0.078\n        <br>Source:\n        <br>{'Diário de Notícias': 130, 'Público': 50, 'RTP': 27}",
          "Palavra: semana\n        <br>Contagem: 156\n        <br>Sentiment: 0.34\n        <br>Source:\n        <br>{'Diário de Notícias': 74, 'Público': 52, 'RTP': 30}",
          "Palavra: semestre\n        <br>Contagem: 161\n        <br>Sentiment: 0.435\n        <br>Source:\n        <br>{'Diário de Notícias': 30, 'Público': 75, 'RTP': 56}",
          "Palavra: situação\n        <br>Contagem: 149\n        <br>Sentiment: 0.247\n        <br>Source:\n        <br>{'Diário de Notícias': 48, 'Público': 64, 'RTP': 37}",
          "Palavra: sociedade\n        <br>Contagem: 149.0\n        <br>Sentiment: 0.527\n        <br>Source:\n        <br>{'Diário de Notícias': 15.0, 'Público': 125.0, 'RTP': 9.0}",
          "Palavra: trabalhadores\n        <br>Contagem: 269\n        <br>Sentiment: 0.315\n        <br>Source:\n        <br>{'Diário de Notícias': 112, 'Público': 104, 'RTP': 53}",
          "Palavra: trabalho\n        <br>Contagem: 205.0\n        <br>Sentiment: 0.08\n        <br>Source:\n        <br>{'Diário de Notícias': 109.0, 'Público': 27.0, 'RTP': 69.0}",
          "Palavra: trimestre\n        <br>Contagem: 163\n        <br>Sentiment: 0.479\n        <br>Source:\n        <br>{'Diário de Notícias': 44, 'Público': 45, 'RTP': 74}",
          "Palavra: títulos\n        <br>Contagem: 168\n        <br>Sentiment: 0.44\n        <br>Source:\n        <br>{'Diário de Notícias': 35, 'Público': 108, 'RTP': 25}",
          "Palavra: tópicos\n        <br>Contagem: 72.0\n        <br>Sentiment: 0.229\n        <br>Source:\n        <br>{'Público': 72.0, 'RTP': None}",
          "Palavra: venda\n        <br>Contagem: 294\n        <br>Sentiment: 0.229\n        <br>Source:\n        <br>{'Diário de Notícias': 98, 'Público': 141, 'RTP': 55}"
         ],
         "marker": {
          "color": [
           "rgb(61.99372476171911, 193.0062752382809, 0)",
           "black",
           "rgb(118.00576383684373, 136.99423616315627, 0)",
           "rgb(82.87543317107291, 172.12456682892707, 0)",
           "rgb(99.35686535211343, 155.64313464788657, 0)",
           "rgb(86.46179806053615, 168.53820193946385, 0)",
           "rgb(99.39158652473482, 155.60841347526517, 0)",
           "rgb(82.87012158514834, 172.12987841485167, 0)",
           "rgb(122.01294868326184, 132.98705131673816, 0)",
           "rgb(65.4804580032601, 189.51954199673992, 0)",
           "rgb(73.50596089066664, 181.49403910933336, 0)",
           "rgb(89.00787176374172, 165.99212823625828, 0)",
           "rgb(150.80771760008855, 104.19228239991145, 0)",
           "rgb(85.40092126077215, 169.59907873922785, 0)",
           "rgb(115.58234766036809, 139.41765233963193, 0)",
           "rgb(105.1718549065953, 149.8281450934047, 0)",
           "rgb(103.52307723467621, 151.4769227653238, 0)",
           "rgb(62.42078751224545, 192.57921248775455, 0)",
           "rgb(139.78751772221048, 115.21248227778952, 0)",
           "rgb(84.39517009404294, 170.60482990595708, 0)",
           "rgb(77.30911416539249, 177.6908858346075, 0)",
           "rgb(118.46366248355486, 136.53633751644514, 0)",
           "rgb(74.85522977561915, 180.14477022438084, 0)",
           "rgb(91.72042917765988, 163.27957082234013, 0)",
           "rgb(96.64572876798431, 158.3542712320157, 0)",
           "rgb(91.72025355381265, 163.27974644618735, 0)",
           "rgb(67.50381484324974, 187.49618515675024, 0)",
           "rgb(65.87310080509567, 189.12689919490433, 0)",
           "rgb(71.20078866658305, 183.79921133341693, 0)",
           "rgb(78.25029552136822, 176.74970447863177, 0)",
           "rgb(74.49768407386094, 180.50231592613906, 0)",
           "rgb(125.4269597355494, 129.5730402644506, 0)",
           "rgb(57.25178863301962, 197.74821136698037, 0)",
           "rgb(92.86344900795534, 162.13655099204468, 0)",
           "rgb(69.36134711717358, 185.63865288282642, 0)",
           "rgb(160.73574904077637, 94.26425095922366, 0)",
           "rgb(112.63998464654702, 142.36001535345298, 0)",
           "rgb(63.41542395477723, 191.58457604522278, 0)",
           "rgb(67.06967060465207, 187.9303293953479, 0)",
           "rgb(76.96423111151873, 178.03576888848127, 0)",
           "rgb(79.43262174948164, 175.56737825051837, 0)",
           "rgb(70.59083771794636, 184.40916228205364, 0)",
           "rgb(69.47581915894352, 185.52418084105648, 0)",
           "rgb(104.30722353911467, 150.69277646088534, 0)",
           "rgb(59.31215716267448, 195.68784283732552, 0)",
           "rgb(68.13945085056325, 186.86054914943676, 0)",
           "rgb(67.13953297096675, 187.86046702903326, 0)",
           "rgb(105.33866530199667, 149.66133469800332, 0)",
           "rgb(78.28075654051824, 176.71924345948176, 0)",
           "rgb(99.1570485465807, 155.8429514534193, 0)",
           "rgb(89.99473056979167, 165.00526943020833, 0)",
           "rgb(90.43535810531401, 164.564641894686, 0)",
           "rgb(69.89691556786872, 185.10308443213128, 0)",
           "rgb(94.25773774446917, 160.74226225553085, 0)",
           "rgb(80.7176459858098, 174.28235401419022, 0)",
           "rgb(80.27755909050857, 174.72244090949144, 0)",
           "rgb(75.43598502300993, 179.56401497699008, 0)",
           "rgb(89.9577422549861, 165.0422577450139, 0)",
           "rgb(100.78280022386703, 154.21719977613296, 0)",
           "rgb(165.31751586438412, 89.6824841356159, 0)",
           "rgb(142.88131954040057, 112.11868045959945, 0)",
           "rgb(79.27096522259149, 175.72903477740851, 0)",
           "rgb(132.8100553085475, 122.1899446914525, 0)",
           "rgb(81.49563317999078, 173.50436682000924, 0)",
           "rgb(54.57863790254145, 200.42136209745854, 0)",
           "rgb(108.15775662965152, 146.84224337034848, 0)",
           "rgb(115.22411998528395, 139.77588001471605, 0)",
           "rgb(87.9182338961386, 167.0817661038614, 0)",
           "rgb(56.65341485016627, 198.34658514983371, 0)",
           "rgb(96.27444236887048, 158.7255576311295, 0)",
           "rgb(78.63540253631966, 176.36459746368035, 0)",
           "rgb(79.63734127391817, 175.36265872608183, 0)",
           "rgb(98.94575213416124, 156.05424786583876, 0)",
           "rgb(73.62790119911897, 181.37209880088102, 0)",
           "rgb(85.53846908776684, 169.46153091223317, 0)",
           "rgb(70.07162973011653, 184.9283702698835, 0)",
           "rgb(97.8222268132829, 157.1777731867171, 0)",
           "rgb(63.862754627858614, 191.1372453721414, 0)",
           "rgb(81.64730520170966, 173.35269479829034, 0)",
           "rgb(107.10712919663798, 147.892870803362, 0)",
           "rgb(159.10078629440423, 95.89921370559577, 0)",
           "rgb(73.70840141066691, 181.2915985893331, 0)",
           "rgb(73.58608209910098, 181.41391790089904, 0)",
           "rgb(84.63248258159916, 170.36751741840084, 0)",
           "rgb(64.56268879574158, 190.43731120425844, 0)",
           "rgb(53.43633033029694, 201.56366966970307, 0)",
           "rgb(66.09782848378097, 188.90217151621903, 0)",
           "rgb(86.03335530033577, 168.96664469966424, 0)",
           "rgb(85.59228008001858, 169.40771991998142, 0)",
           "rgb(149.76806760053822, 105.23193239946177, 0)",
           "rgb(67.77060946537333, 187.22939053462667, 0)",
           "rgb(71.47678674823722, 183.5232132517628, 0)",
           "rgb(67.42320243047027, 187.57679756952973, 0)",
           "rgb(73.05058992096527, 181.94941007903475, 0)",
           "rgb(59.327395177668066, 195.67260482233192, 0)",
           "rgb(62.33497929400949, 192.66502070599051, 0)",
           "rgb(95.64764911180326, 159.35235088819675, 0)",
           "rgb(86.9104083043084, 168.0895916956916, 0)",
           "rgb(66.7147307734826, 188.28526922651739, 0)",
           "rgb(116.81214316832731, 138.1878568316727, 0)",
           "rgb(89.8759248998537, 165.12407510014629, 0)",
           "rgb(87.92113848579208, 167.07886151420792, 0)",
           "rgb(98.49067565373099, 156.509324346269, 0)",
           "rgb(78.3420680031057, 176.6579319968943, 0)",
           "rgb(91.85918607378576, 163.14081392621424, 0)",
           "rgb(73.49213525752853, 181.50786474247147, 0)",
           "rgb(65.35717238402924, 189.64282761597076, 0)",
           "rgb(98.05217335803883, 156.94782664196117, 0)",
           "rgb(71.65952656077589, 183.34047343922413, 0)",
           "rgb(85.88756361182553, 169.11243638817447, 0)",
           "rgb(160.37888025034428, 94.6211197496557, 0)",
           "rgb(56.16764473526736, 198.83235526473263, 0)",
           "rgb(75.5497939706239, 179.45020602937612, 0)",
           "rgb(77.56249972378384, 177.43750027621616, 0)",
           "rgb(109.70377687870354, 145.29622312129646, 0)",
           "rgb(137.4827827800397, 117.51721721996029, 0)",
           "rgb(84.20442231206756, 170.79557768793242, 0)",
           "rgb(71.99753617928395, 183.00246382071603, 0)",
           "rgb(96.03390192560431, 158.9660980743957, 0)",
           "rgb(60.368607578431906, 194.63139242156808, 0)",
           "rgb(87.303110139412, 167.696889860588, 0)",
           "rgb(117.25044631358013, 137.7495536864199, 0)",
           "rgb(66.47134579214, 188.52865420786, 0)",
           "rgb(71.37500634120617, 183.6249936587938, 0)",
           "rgb(98.29534674920612, 156.70465325079388, 0)",
           "rgb(98.3020460926424, 156.6979539073576, 0)"
          ],
          "line": {
           "color": "black",
           "width": 1
          },
          "size": 20
         },
         "mode": "markers+text",
         "text": [
          "Angola",
          "Banco Comercial Português",
          "BCE",
          "BCP",
          "BES",
          "BPI",
          "Banco de Portugal",
          "Berardo",
          "Bruxelas",
          "Comissão do Mercado de Valores Mobiliários",
          "Cristina Ferreira",
          "EDP",
          "EUA",
          "Em Portugal",
          "Estado",
          "Europa",
          "Filipe Pinhal",
          "Fosun",
          "Governo",
          "Grécia",
          "Investimento",
          "Irão",
          "Isabel dos Santos",
          "Jardim Gonçalves",
          "Joe Berardo",
          "Lisboa",
          "MILLENNIUM BCP",
          "Miguel Maya",
          "Millennium",
          "Novo Banco",
          "Nuno Amado",
          "PS",
          "Polónia",
          "Portugal",
          "Santos Ferreira",
          "Sócrates",
          "Tribunal",
          "Visa",
          "accionistas",
          "acesso",
          "acordo",
          "acções",
          "administração",
          "anos",
          "artigos",
          "aumento",
          "ações",
          "banca",
          "banco",
          "bancos",
          "bolsa",
          "campanha",
          "capital",
          "caso",
          "clientes",
          "compra",
          "condições",
          "conta",
          "contas",
          "corte",
          "cortes",
          "crédito",
          "dados",
          "decisão",
          "destaque",
          "dias",
          "dinheiro",
          "direitos",
          "débito",
          "dívida",
          "economia",
          "empresa",
          "empresas",
          "entrada",
          "euros",
          "fonte",
          "fundador",
          "fusão",
          "gestão",
          "hora",
          "horas",
          "instituição",
          "investidores",
          "leitores",
          "limite",
          "lucro",
          "lucros",
          "líder",
          "mercado",
          "minutos",
          "mundo",
          "navegação",
          "operação",
          "pagamento",
          "pagamentos",
          "participação",
          "país",
          "perdas",
          "período",
          "pessoas",
          "plano",
          "prejuízo",
          "prejuízos",
          "presidente",
          "processo",
          "proposta",
          "qualidade",
          "queda",
          "rating",
          "redução",
          "resposta",
          "restantes",
          "resultado",
          "resultados",
          "risco",
          "salários",
          "semana",
          "semestre",
          "situação",
          "sociedade",
          "trabalhadores",
          "trabalho",
          "trimestre",
          "títulos",
          "tópicos",
          "venda"
         ],
         "type": "scatter",
         "x": [
          0.1478200441021211,
          0,
          -0.7744469368388414,
          -0.7697166810547993,
          0.27533088900510844,
          -0.31568654055680817,
          0.8222125612354187,
          -0.7164770345334649,
          -0.6178187453591955,
          0.30127978905552527,
          0.12416210841217801,
          -0.40517665419971893,
          -0.030060372570841102,
          -0.5990628768906032,
          0.13804481517633815,
          0.055853435944150966,
          -0.5974652695439587,
          0.8932051091310726,
          -0.40453333242776957,
          0.7141054383837582,
          -0.7763384814064718,
          -0.8544482370320748,
          -0.7274678614443689,
          -0.19224939603426286,
          -0.2669239706798452,
          0.8852903075612051,
          0.7109789849705322,
          0.010809993508275583,
          -0.8626540973692065,
          -0.9643665340680493,
          -0.42059560638112287,
          0.6043797852457058,
          -0.6643820352193679,
          -0.4194235272970181,
          -0.488300936461593,
          0.9246225834427627,
          -0.8910086311968456,
          0.5512009213905114,
          0.7301368827764964,
          -0.038946908359510736,
          0.44075254450509155,
          -0.1693684931762693,
          -0.03652966019014152,
          0.49082843392748804,
          0.8326865093096436,
          -0.7634131578936609,
          0.5981002747506015,
          0.5851445354662603,
          0.6981500774999441,
          -0.5273901323340418,
          -0.9619025492403427,
          -0.21489620026979558,
          0.5035461356598997,
          -0.043120360061343434,
          -0.6572056260971301,
          -0.5766870352872124,
          0.7284649814047006,
          0.17618648767300676,
          0.514084255422123,
          0.9633442233959653,
          0.4632570983676707,
          -0.2964574308235476,
          -0.6026736649496275,
          0.3423614334300667,
          -0.9903166353873902,
          0.09030327143503661,
          -0.8041630705493893,
          0.8946805230843058,
          -0.0347320147053789,
          -0.12847889470805124,
          0.661602604389462,
          -0.36949624184386404,
          -0.5485835802341023,
          -0.07099698276647728,
          -0.9139103578406611,
          0.3787422033207019,
          -0.6631806168511869,
          0.5147540903939707,
          0.13478675763553666,
          -0.251610796381107,
          -0.17715463502709305,
          0.38719380301132666,
          -0.596912715510014,
          -0.20075327107838384,
          -0.9098624655253009,
          0.2422273454786911,
          -0.2447154690696065,
          0.5032349977988196,
          0.2703890457550256,
          0.5032548491145309,
          -0.1682986844132877,
          0.3557742782396274,
          -0.5133519803561577,
          0.7908503521575719,
          0.4238998553896173,
          -0.17461721348091955,
          0.9274026300727446,
          0.028283117614258856,
          0.2114184781830066,
          0.6186137769424489,
          0.24189158594683746,
          -0.3372356397590319,
          0.6274703893533561,
          -0.4386151137374801,
          -0.7482130960653068,
          -0.2710535911593351,
          0.37829096235949194,
          0.9068294903393526,
          -0.4806876780991469,
          0.4172172556443601,
          0.307329134074186,
          -0.8942083728907836,
          -0.5806029116038658,
          1,
          0.7393747982007055,
          0.7180201085397587,
          0.20823060709909433,
          -0.3700072847419367,
          -0.3985713929579756,
          0.25793164415444386,
          0.5984381994019085,
          0.7738286967596488,
          -0.7844614205992702,
          0.07065912945448166,
          0.7954239990475044,
          -0.4910788653209768
         ],
         "y": [
          0.3463053209288092,
          0,
          -0.6134521384002094,
          0.1407343376846754,
          0.9358309406286339,
          0.3738108118089855,
          -0.5250065433203727,
          -0.5125332719295107,
          0.29535527240172565,
          -0.5943740249483421,
          -0.5767486177412989,
          -0.338600421036115,
          0.446522335310561,
          0.11670160205051575,
          -0.8890432817605848,
          -0.9790760052296915,
          0.7706867308621218,
          0.3038404759922758,
          -0.7468289660803177,
          -0.138988305420723,
          -0.019239563119670337,
          0.4558796162262117,
          0.4627625289711717,
          0.5416399300494918,
          -0.5906551494479042,
          0.431725688858268,
          0.6685612734803923,
          0.9798125868901574,
          -0.4659275001552121,
          -0.20293070715331724,
          -0.5494029691991875,
          -0.39628751733413725,
          0.654139486441877,
          0.7299695892401852,
          0.3960437028057201,
          -0.26912933330931454,
          0.32674887144854436,
          0.6551513058683314,
          -0.6469952084520374,
          -0.8909858965426419,
          0.34905619859788994,
          -0.9858814054408637,
          -0.6935976698066306,
          0.5273881465925778,
          -0.04297809283140458,
          0.29175656960073104,
          0.27493416483082106,
          -0.046934331078157296,
          -0.26887804486748473,
          -0.6699612190565681,
          0.2168333902607754,
          -0.21462206809142365,
          -0.5503408306821223,
          0.8274908347872278,
          -0.711680895344934,
          -0.5314376280153454,
          0.43797342059972355,
          0.6559009411156002,
          0.13087536929976018,
          0.1916901298915578,
          0.7571584657393436,
          -0.8503151381542723,
          -0.04381752924256902,
          0.7490917359561866,
          -0.00020326546168323225,
          -0.7498441864310333,
          -0.20859078664031389,
          -0.16199073770434436,
          0.633810509301836,
          0.9541239630851054,
          -0.5356083176288742,
          0.001585362440077598,
          -0.8164693313680902,
          -0.5343619433159833,
          -0.335161272839451,
          -0.7266635933809178,
          -0.2134106398011221,
          -0.6789371644000521,
          0.9461623818655295,
          0.6865319224856804,
          0.8146857879068878,
          -0.03485143777982209,
          0.5021930708593523,
          -0.713445366577388,
          0.09950028096495553,
          -0.4165400566264673,
          -0.4278318697088004,
          -0.8333457755652445,
          -0.2201439642814551,
          -0.2376358257587281,
          -0.860306155553729,
          0.5316579055268849,
          0.6287608840483927,
          0.16805682102706662,
          -0.4164268073263514,
          0.24086950377844749,
          0.06611617531062687,
          -0.3621313551688081,
          0.810823180992005,
          0.5029010242292685,
          -0.7685190507718561,
          0.8484175367672572,
          -0.7479146673474035,
          0.19572846722661125,
          -0.3602339449449886,
          0.9536183647261385,
          -0.8953342310962332,
          -0.3968474681893938,
          0.8648684416403277,
          0.8914480930132598,
          0.2034284995273046,
          -0.08740012624103966,
          -0.3756738102739284,
          -0.05593596331741965,
          0.30159796669837224,
          0.0646247617922256,
          0.5163304271652531,
          0.5531335805840254,
          -0.9055614966015904,
          -0.9327395814873285,
          0.7850204813873635,
          -0.38268407724487724,
          0.5982297396262929,
          0.7670284992750067,
          0.5576445924210319,
          -0.1807288694936977
         ]
        }
       ],
       "layout": {
        "hovermode": "closest",
        "margin": {
         "b": 0,
         "l": 0,
         "r": 0,
         "t": 0
        },
        "showlegend": false,
        "template": {
         "data": {
          "bar": [
           {
            "error_x": {
             "color": "#2a3f5f"
            },
            "error_y": {
             "color": "#2a3f5f"
            },
            "marker": {
             "line": {
              "color": "#E5ECF6",
              "width": 0.5
             },
             "pattern": {
              "fillmode": "overlay",
              "size": 10,
              "solidity": 0.2
             }
            },
            "type": "bar"
           }
          ],
          "barpolar": [
           {
            "marker": {
             "line": {
              "color": "#E5ECF6",
              "width": 0.5
             },
             "pattern": {
              "fillmode": "overlay",
              "size": 10,
              "solidity": 0.2
             }
            },
            "type": "barpolar"
           }
          ],
          "carpet": [
           {
            "aaxis": {
             "endlinecolor": "#2a3f5f",
             "gridcolor": "white",
             "linecolor": "white",
             "minorgridcolor": "white",
             "startlinecolor": "#2a3f5f"
            },
            "baxis": {
             "endlinecolor": "#2a3f5f",
             "gridcolor": "white",
             "linecolor": "white",
             "minorgridcolor": "white",
             "startlinecolor": "#2a3f5f"
            },
            "type": "carpet"
           }
          ],
          "choropleth": [
           {
            "colorbar": {
             "outlinewidth": 0,
             "ticks": ""
            },
            "type": "choropleth"
           }
          ],
          "contour": [
           {
            "colorbar": {
             "outlinewidth": 0,
             "ticks": ""
            },
            "colorscale": [
             [
              0,
              "#0d0887"
             ],
             [
              0.1111111111111111,
              "#46039f"
             ],
             [
              0.2222222222222222,
              "#7201a8"
             ],
             [
              0.3333333333333333,
              "#9c179e"
             ],
             [
              0.4444444444444444,
              "#bd3786"
             ],
             [
              0.5555555555555556,
              "#d8576b"
             ],
             [
              0.6666666666666666,
              "#ed7953"
             ],
             [
              0.7777777777777778,
              "#fb9f3a"
             ],
             [
              0.8888888888888888,
              "#fdca26"
             ],
             [
              1,
              "#f0f921"
             ]
            ],
            "type": "contour"
           }
          ],
          "contourcarpet": [
           {
            "colorbar": {
             "outlinewidth": 0,
             "ticks": ""
            },
            "type": "contourcarpet"
           }
          ],
          "heatmap": [
           {
            "colorbar": {
             "outlinewidth": 0,
             "ticks": ""
            },
            "colorscale": [
             [
              0,
              "#0d0887"
             ],
             [
              0.1111111111111111,
              "#46039f"
             ],
             [
              0.2222222222222222,
              "#7201a8"
             ],
             [
              0.3333333333333333,
              "#9c179e"
             ],
             [
              0.4444444444444444,
              "#bd3786"
             ],
             [
              0.5555555555555556,
              "#d8576b"
             ],
             [
              0.6666666666666666,
              "#ed7953"
             ],
             [
              0.7777777777777778,
              "#fb9f3a"
             ],
             [
              0.8888888888888888,
              "#fdca26"
             ],
             [
              1,
              "#f0f921"
             ]
            ],
            "type": "heatmap"
           }
          ],
          "heatmapgl": [
           {
            "colorbar": {
             "outlinewidth": 0,
             "ticks": ""
            },
            "colorscale": [
             [
              0,
              "#0d0887"
             ],
             [
              0.1111111111111111,
              "#46039f"
             ],
             [
              0.2222222222222222,
              "#7201a8"
             ],
             [
              0.3333333333333333,
              "#9c179e"
             ],
             [
              0.4444444444444444,
              "#bd3786"
             ],
             [
              0.5555555555555556,
              "#d8576b"
             ],
             [
              0.6666666666666666,
              "#ed7953"
             ],
             [
              0.7777777777777778,
              "#fb9f3a"
             ],
             [
              0.8888888888888888,
              "#fdca26"
             ],
             [
              1,
              "#f0f921"
             ]
            ],
            "type": "heatmapgl"
           }
          ],
          "histogram": [
           {
            "marker": {
             "pattern": {
              "fillmode": "overlay",
              "size": 10,
              "solidity": 0.2
             }
            },
            "type": "histogram"
           }
          ],
          "histogram2d": [
           {
            "colorbar": {
             "outlinewidth": 0,
             "ticks": ""
            },
            "colorscale": [
             [
              0,
              "#0d0887"
             ],
             [
              0.1111111111111111,
              "#46039f"
             ],
             [
              0.2222222222222222,
              "#7201a8"
             ],
             [
              0.3333333333333333,
              "#9c179e"
             ],
             [
              0.4444444444444444,
              "#bd3786"
             ],
             [
              0.5555555555555556,
              "#d8576b"
             ],
             [
              0.6666666666666666,
              "#ed7953"
             ],
             [
              0.7777777777777778,
              "#fb9f3a"
             ],
             [
              0.8888888888888888,
              "#fdca26"
             ],
             [
              1,
              "#f0f921"
             ]
            ],
            "type": "histogram2d"
           }
          ],
          "histogram2dcontour": [
           {
            "colorbar": {
             "outlinewidth": 0,
             "ticks": ""
            },
            "colorscale": [
             [
              0,
              "#0d0887"
             ],
             [
              0.1111111111111111,
              "#46039f"
             ],
             [
              0.2222222222222222,
              "#7201a8"
             ],
             [
              0.3333333333333333,
              "#9c179e"
             ],
             [
              0.4444444444444444,
              "#bd3786"
             ],
             [
              0.5555555555555556,
              "#d8576b"
             ],
             [
              0.6666666666666666,
              "#ed7953"
             ],
             [
              0.7777777777777778,
              "#fb9f3a"
             ],
             [
              0.8888888888888888,
              "#fdca26"
             ],
             [
              1,
              "#f0f921"
             ]
            ],
            "type": "histogram2dcontour"
           }
          ],
          "mesh3d": [
           {
            "colorbar": {
             "outlinewidth": 0,
             "ticks": ""
            },
            "type": "mesh3d"
           }
          ],
          "parcoords": [
           {
            "line": {
             "colorbar": {
              "outlinewidth": 0,
              "ticks": ""
             }
            },
            "type": "parcoords"
           }
          ],
          "pie": [
           {
            "automargin": true,
            "type": "pie"
           }
          ],
          "scatter": [
           {
            "fillpattern": {
             "fillmode": "overlay",
             "size": 10,
             "solidity": 0.2
            },
            "type": "scatter"
           }
          ],
          "scatter3d": [
           {
            "line": {
             "colorbar": {
              "outlinewidth": 0,
              "ticks": ""
             }
            },
            "marker": {
             "colorbar": {
              "outlinewidth": 0,
              "ticks": ""
             }
            },
            "type": "scatter3d"
           }
          ],
          "scattercarpet": [
           {
            "marker": {
             "colorbar": {
              "outlinewidth": 0,
              "ticks": ""
             }
            },
            "type": "scattercarpet"
           }
          ],
          "scattergeo": [
           {
            "marker": {
             "colorbar": {
              "outlinewidth": 0,
              "ticks": ""
             }
            },
            "type": "scattergeo"
           }
          ],
          "scattergl": [
           {
            "marker": {
             "colorbar": {
              "outlinewidth": 0,
              "ticks": ""
             }
            },
            "type": "scattergl"
           }
          ],
          "scattermapbox": [
           {
            "marker": {
             "colorbar": {
              "outlinewidth": 0,
              "ticks": ""
             }
            },
            "type": "scattermapbox"
           }
          ],
          "scatterpolar": [
           {
            "marker": {
             "colorbar": {
              "outlinewidth": 0,
              "ticks": ""
             }
            },
            "type": "scatterpolar"
           }
          ],
          "scatterpolargl": [
           {
            "marker": {
             "colorbar": {
              "outlinewidth": 0,
              "ticks": ""
             }
            },
            "type": "scatterpolargl"
           }
          ],
          "scatterternary": [
           {
            "marker": {
             "colorbar": {
              "outlinewidth": 0,
              "ticks": ""
             }
            },
            "type": "scatterternary"
           }
          ],
          "surface": [
           {
            "colorbar": {
             "outlinewidth": 0,
             "ticks": ""
            },
            "colorscale": [
             [
              0,
              "#0d0887"
             ],
             [
              0.1111111111111111,
              "#46039f"
             ],
             [
              0.2222222222222222,
              "#7201a8"
             ],
             [
              0.3333333333333333,
              "#9c179e"
             ],
             [
              0.4444444444444444,
              "#bd3786"
             ],
             [
              0.5555555555555556,
              "#d8576b"
             ],
             [
              0.6666666666666666,
              "#ed7953"
             ],
             [
              0.7777777777777778,
              "#fb9f3a"
             ],
             [
              0.8888888888888888,
              "#fdca26"
             ],
             [
              1,
              "#f0f921"
             ]
            ],
            "type": "surface"
           }
          ],
          "table": [
           {
            "cells": {
             "fill": {
              "color": "#EBF0F8"
             },
             "line": {
              "color": "white"
             }
            },
            "header": {
             "fill": {
              "color": "#C8D4E3"
             },
             "line": {
              "color": "white"
             }
            },
            "type": "table"
           }
          ]
         },
         "layout": {
          "annotationdefaults": {
           "arrowcolor": "#2a3f5f",
           "arrowhead": 0,
           "arrowwidth": 1
          },
          "autotypenumbers": "strict",
          "coloraxis": {
           "colorbar": {
            "outlinewidth": 0,
            "ticks": ""
           }
          },
          "colorscale": {
           "diverging": [
            [
             0,
             "#8e0152"
            ],
            [
             0.1,
             "#c51b7d"
            ],
            [
             0.2,
             "#de77ae"
            ],
            [
             0.3,
             "#f1b6da"
            ],
            [
             0.4,
             "#fde0ef"
            ],
            [
             0.5,
             "#f7f7f7"
            ],
            [
             0.6,
             "#e6f5d0"
            ],
            [
             0.7,
             "#b8e186"
            ],
            [
             0.8,
             "#7fbc41"
            ],
            [
             0.9,
             "#4d9221"
            ],
            [
             1,
             "#276419"
            ]
           ],
           "sequential": [
            [
             0,
             "#0d0887"
            ],
            [
             0.1111111111111111,
             "#46039f"
            ],
            [
             0.2222222222222222,
             "#7201a8"
            ],
            [
             0.3333333333333333,
             "#9c179e"
            ],
            [
             0.4444444444444444,
             "#bd3786"
            ],
            [
             0.5555555555555556,
             "#d8576b"
            ],
            [
             0.6666666666666666,
             "#ed7953"
            ],
            [
             0.7777777777777778,
             "#fb9f3a"
            ],
            [
             0.8888888888888888,
             "#fdca26"
            ],
            [
             1,
             "#f0f921"
            ]
           ],
           "sequentialminus": [
            [
             0,
             "#0d0887"
            ],
            [
             0.1111111111111111,
             "#46039f"
            ],
            [
             0.2222222222222222,
             "#7201a8"
            ],
            [
             0.3333333333333333,
             "#9c179e"
            ],
            [
             0.4444444444444444,
             "#bd3786"
            ],
            [
             0.5555555555555556,
             "#d8576b"
            ],
            [
             0.6666666666666666,
             "#ed7953"
            ],
            [
             0.7777777777777778,
             "#fb9f3a"
            ],
            [
             0.8888888888888888,
             "#fdca26"
            ],
            [
             1,
             "#f0f921"
            ]
           ]
          },
          "colorway": [
           "#636efa",
           "#EF553B",
           "#00cc96",
           "#ab63fa",
           "#FFA15A",
           "#19d3f3",
           "#FF6692",
           "#B6E880",
           "#FF97FF",
           "#FECB52"
          ],
          "font": {
           "color": "#2a3f5f"
          },
          "geo": {
           "bgcolor": "white",
           "lakecolor": "white",
           "landcolor": "#E5ECF6",
           "showlakes": true,
           "showland": true,
           "subunitcolor": "white"
          },
          "hoverlabel": {
           "align": "left"
          },
          "hovermode": "closest",
          "mapbox": {
           "style": "light"
          },
          "paper_bgcolor": "white",
          "plot_bgcolor": "#E5ECF6",
          "polar": {
           "angularaxis": {
            "gridcolor": "white",
            "linecolor": "white",
            "ticks": ""
           },
           "bgcolor": "#E5ECF6",
           "radialaxis": {
            "gridcolor": "white",
            "linecolor": "white",
            "ticks": ""
           }
          },
          "scene": {
           "xaxis": {
            "backgroundcolor": "#E5ECF6",
            "gridcolor": "white",
            "gridwidth": 2,
            "linecolor": "white",
            "showbackground": true,
            "ticks": "",
            "zerolinecolor": "white"
           },
           "yaxis": {
            "backgroundcolor": "#E5ECF6",
            "gridcolor": "white",
            "gridwidth": 2,
            "linecolor": "white",
            "showbackground": true,
            "ticks": "",
            "zerolinecolor": "white"
           },
           "zaxis": {
            "backgroundcolor": "#E5ECF6",
            "gridcolor": "white",
            "gridwidth": 2,
            "linecolor": "white",
            "showbackground": true,
            "ticks": "",
            "zerolinecolor": "white"
           }
          },
          "shapedefaults": {
           "line": {
            "color": "#2a3f5f"
           }
          },
          "ternary": {
           "aaxis": {
            "gridcolor": "white",
            "linecolor": "white",
            "ticks": ""
           },
           "baxis": {
            "gridcolor": "white",
            "linecolor": "white",
            "ticks": ""
           },
           "bgcolor": "#E5ECF6",
           "caxis": {
            "gridcolor": "white",
            "linecolor": "white",
            "ticks": ""
           }
          },
          "title": {
           "x": 0.05
          },
          "xaxis": {
           "automargin": true,
           "gridcolor": "white",
           "linecolor": "white",
           "ticks": "",
           "title": {
            "standoff": 15
           },
           "zerolinecolor": "white",
           "zerolinewidth": 2
          },
          "yaxis": {
           "automargin": true,
           "gridcolor": "white",
           "linecolor": "white",
           "ticks": "",
           "title": {
            "standoff": 15
           },
           "zerolinecolor": "white",
           "zerolinewidth": 2
          }
         }
        },
        "xaxis": {
         "anchor": "y",
         "domain": [
          0,
          1
         ],
         "showgrid": false,
         "showticklabels": false,
         "zeroline": false
        },
        "yaxis": {
         "anchor": "x",
         "domain": [
          0,
          1
         ],
         "showgrid": false,
         "showticklabels": false,
         "zeroline": false
        }
       }
      }
     },
     "metadata": {},
     "output_type": "display_data"
    }
   ],
   "source": [
    "import networkx as nx\n",
    "import plotly.graph_objects as go\n",
    "from plotly.subplots import make_subplots\n",
    "import numpy as np\n",
    "\n",
    "\n",
    "# Sample dictionary data\n",
    "linha = 0\n",
    "data = df[\"keywords\"].iloc[linha]\n",
    "company = df.index[linha]\n",
    "\n",
    "# Create the graph\n",
    "G = nx.Graph()\n",
    "\n",
    "# Add nodes to the graph with attributes\n",
    "for word, attributes in data.items():\n",
    "    G.add_node(word, **attributes)\n",
    "    G.add_edge(company, word)\n",
    "\n",
    "# Node positions\n",
    "pos = nx.spring_layout(G, seed=42)\n",
    "\n",
    "# Lists for node positions and info\n",
    "node_x = []\n",
    "node_y = []\n",
    "node_color = []\n",
    "node_text = []  # Label to show only the word\n",
    "node_hovertext = []  # Detailed info for hover\n",
    "\n",
    "for node in G.nodes:\n",
    "    if node == company:\n",
    "        x, y = 0, 0\n",
    "        node_x.append(x)\n",
    "        node_y.append(y)\n",
    "        node_text.append(node)\n",
    "        node_hovertext.append(f\"Company: {node}\")\n",
    "        node_color.append(\"black\")\n",
    "        continue\n",
    "    x, y = pos[node]\n",
    "    node_x.append(x)\n",
    "    node_y.append(y)\n",
    "    \n",
    "    # Color the node from red (-1) to green (1)\n",
    "    color_value = (G.nodes[node][\"sentiment\"] + 1) / 2  # Normalize between 0 and 1\n",
    "    node_color.append(f\"rgb({255 * (1 - color_value)}, {255 * color_value}, 0)\")\n",
    "    \n",
    "    # Text for label (only the word) and hover (detailed info)\n",
    "    node_text.append(node)\n",
    "    node_hovertext.append(\n",
    "        f\"\"\"Palavra: {node}\n",
    "        <br>Contagem: {G.nodes[node]['count']}\n",
    "        <br>Sentiment: {round(G.nodes[node]['sentiment'], 3)}\n",
    "        <br>Source:\n",
    "        <br>{G.nodes[node]['source']}\"\"\"\n",
    "        #<br>News: {random.choice(list(G.nodes[node]['news']))} #arranjar melhor forma de fazer isto\n",
    "    )\n",
    "\n",
    "# Create the plotly figure\n",
    "fig = make_subplots()\n",
    "\n",
    "# Draw edges\n",
    "edge_x = []\n",
    "edge_y = []\n",
    "\n",
    "for edge in G.edges:\n",
    "    x0, y0 = pos[edge[0]]\n",
    "    x1, y1 = pos[edge[1]]\n",
    "    edge_x.extend([x0, x1, None])\n",
    "    edge_y.extend([y0, y1, None])\n",
    "\n",
    "fig.add_trace(\n",
    "    go.Scatter(\n",
    "        x=edge_x,\n",
    "        y=edge_y,\n",
    "        line=dict(width=1, color=\"gray\"),\n",
    "        hoverinfo=\"none\",\n",
    "        mode=\"lines\"\n",
    "    )\n",
    ")\n",
    "\n",
    "# Draw nodes\n",
    "fig.add_trace(\n",
    "    go.Scatter(\n",
    "        x=node_x,\n",
    "        y=node_y,\n",
    "        mode=\"markers+text\",\n",
    "        text=node_text,  # Shows only the word as label\n",
    "        hovertext=node_hovertext,  # Detailed info on hover\n",
    "        marker=dict(\n",
    "            color=node_color,\n",
    "            size=20,\n",
    "            line=dict(color=\"black\", width=1)\n",
    "        ),\n",
    "        hoverinfo=\"text\"  # Use hovertext for detailed info\n",
    "    )\n",
    ")\n",
    "\n",
    "# Figure layout\n",
    "fig.update_layout(\n",
    "    showlegend=False,\n",
    "    hovermode=\"closest\",\n",
    "    margin=dict(b=0, l=0, r=0, t=0),\n",
    "    xaxis=dict(showgrid=False, zeroline=False, showticklabels=False),\n",
    "    yaxis=dict(showgrid=False, zeroline=False, showticklabels=False)\n",
    ")\n",
    "\n",
    "fig.write_html(\"grafo_interativo.html\")\n",
    "fig.show()\n"
   ]
  },
  {
   "cell_type": "code",
   "execution_count": 3,
   "metadata": {},
   "outputs": [],
   "source": [
    "#import webbrowser\n",
    "#webbrowser.open(\"grafo_interativo.html\")"
   ]
  },
  {
   "cell_type": "code",
   "execution_count": 64,
   "metadata": {},
   "outputs": [
    {
     "name": "stdout",
     "output_type": "stream",
     "text": [
      "HTML file with interactive graph and side panel created as 'interactive_graph.html'.\n"
     ]
    }
   ],
   "source": [
    "import networkx as nx\n",
    "import plotly.graph_objects as go\n",
    "import pandas as pd\n",
    "\n",
    "# Sample data (You should replace this with your actual dataframe)\n",
    "df = pd.read_parquet('data05.parquet')\n",
    "df[\"keywords\"] = df[\"keywords\"].map(lambda dic: {key: dic[key] for key in dic.keys() if dic[key] is not None and dic[key][\"filter\"] > 0.1})\n",
    "\n",
    "# Using the first row as an example\n",
    "linha = 0\n",
    "data = df[\"keywords\"].iloc[linha]\n",
    "company = \"Company A\"\n",
    "\n",
    "# Create the graph\n",
    "G = nx.Graph()\n",
    "\n",
    "# Add nodes to the graph with attributes\n",
    "for word, attributes in data.items():\n",
    "    G.add_node(word, **attributes)\n",
    "    G.add_edge(company, word)\n",
    "\n",
    "# Node positions\n",
    "pos = nx.spring_layout(G, seed=42)\n",
    "\n",
    "# Lists for node positions and info\n",
    "node_x = []\n",
    "node_y = []\n",
    "node_color = []\n",
    "node_text = []\n",
    "node_hovertext = []\n",
    "\n",
    "for node in G.nodes:\n",
    "    if node == company:\n",
    "        x, y = 0, 0\n",
    "        node_x.append(x)\n",
    "        node_y.append(y)\n",
    "        node_text.append(node)\n",
    "        node_hovertext.append(f\"Company: {node}\")\n",
    "        node_color.append(\"black\")\n",
    "        continue\n",
    "    x, y = pos[node]\n",
    "    node_x.append(x)\n",
    "    node_y.append(y)\n",
    "    \n",
    "    # Color from red (-1) to green (1)\n",
    "    color_value = (G.nodes[node][\"sentiment\"] + 1) / 2\n",
    "    node_color.append(f\"rgb({255 * (1 - color_value)}, {255 * color_value}, 0)\")\n",
    "    \n",
    "    node_text.append(node)\n",
    "    node_hovertext.append(\n",
    "        f\"\"\"Word: {node}<br>Count: {G.nodes[node]['count']}<br>Sentiment: {round(G.nodes[node]['sentiment'], 3)}<br>Source: {G.nodes[node]['source']}\"\"\"\n",
    "    )\n",
    "\n",
    "# Create the Plotly figure\n",
    "fig = go.Figure()\n",
    "\n",
    "# Draw edges\n",
    "edge_x = []\n",
    "edge_y = []\n",
    "\n",
    "for edge in G.edges:\n",
    "    x0, y0 = pos[edge[0]]\n",
    "    x1, y1 = pos[edge[1]]\n",
    "    edge_x.extend([x0, x1, None])\n",
    "    edge_y.extend([y0, y1, None])\n",
    "\n",
    "fig.add_trace(\n",
    "    go.Scatter(\n",
    "        x=edge_x,\n",
    "        y=edge_y,\n",
    "        line=dict(width=1, color=\"gray\"),\n",
    "        hoverinfo=\"none\",\n",
    "        mode=\"lines\"\n",
    "    )\n",
    ")\n",
    "\n",
    "# Draw nodes\n",
    "fig.add_trace(\n",
    "    go.Scatter(\n",
    "        x=node_x,\n",
    "        y=node_y,\n",
    "        mode=\"markers+text\",\n",
    "        text=node_text,\n",
    "        hovertext=node_hovertext,\n",
    "        marker=dict(\n",
    "            color=node_color,\n",
    "            size=20,\n",
    "            line=dict(color=\"black\", width=1)\n",
    "        ),\n",
    "        hoverinfo=\"text\"\n",
    "    )\n",
    ")\n",
    "\n",
    "fig.update_layout(\n",
    "    showlegend=False,\n",
    "    xaxis=dict(showgrid=False, zeroline=False, showticklabels=False),\n",
    "    yaxis=dict(showgrid=False, zeroline=False, showticklabels=False),\n",
    "    margin=dict(l=0, r=0, t=0, b=0)  # Remove all margins\n",
    ")\n",
    "\n",
    "# Generate the HTML with full document structure\n",
    "html_code = fig.to_html(include_plotlyjs='cdn', full_html=True)\n",
    "\n",
    "# Modify the generated HTML to include the side panel and additional styles/scripts\n",
    "additional_html = \"\"\"\n",
    "<style>\n",
    "    body, html {\n",
    "        height: 100%;\n",
    "        margin: 0;\n",
    "        font-family: Arial, sans-serif;\n",
    "        overflow: hidden;\n",
    "    }\n",
    "    #graph {\n",
    "        position: absolute;\n",
    "        top: 0;\n",
    "        left: 0;\n",
    "        right: 0;\n",
    "        bottom: 0;\n",
    "        z-index: 1; /* Ensure the graph is behind the panel */\n",
    "    }\n",
    "    #info-panel {\n",
    "        position: absolute;\n",
    "        right: 0; /* Default to right */\n",
    "        top: 0;\n",
    "        width: 300px; /* Fixed width of the panel */\n",
    "        height: 100vh; /* Full height of container */\n",
    "        background-color: #f4f4f9;\n",
    "        box-shadow: -2px 0 5px rgba(0,0,0,0.1);\n",
    "        transform: translateX(100%); /* Hide initially */\n",
    "        transition: transform 0.3s ease; /* Smooth slide in */\n",
    "        z-index: 2; /* Panel above the graph */\n",
    "        display: flex;\n",
    "        flex-direction: column; /* Arrange children vertically */\n",
    "    }\n",
    "    #info-panel.open {\n",
    "        transform: translateX(0); /* Slide in the panel */\n",
    "    }\n",
    "    .close-button {\n",
    "        background-color: #ff4c4c;\n",
    "        color: white;\n",
    "        border: none;\n",
    "        padding: 10px;\n",
    "        cursor: pointer;\n",
    "        float: right;\n",
    "        margin-bottom: 10px;\n",
    "    }\n",
    "\n",
    "    #scrollable-content {\n",
    "        flex: 1; /* Take remaining vertical space */\n",
    "        max-height: 400px; /* Adjust height as needed */\n",
    "        overflow-y: auto; /* Enable vertical scrolling */\n",
    "        padding: 10px; /* Padding for inner content */\n",
    "        background-color: #ffffff; /* Background color */\n",
    "        border: 1px solid #ddd; /* Border for the scrollable area */\n",
    "        box-shadow: inset 0 0 5px rgba(0,0,0,0.1); /* Inner shadow */\n",
    "        margin-top: 10px; /* Spacing from the title */\n",
    "        }\n",
    "</style>\n",
    "\n",
    "<div id=\"info-panel\">\n",
    "    <button class=\"close-button\" onclick=\"closePanel()\">Close</button>\n",
    "    <h2>Node Information</h2>\n",
    "    <p id=\"node-info\">Click a node to view details</p>\n",
    "    <div id=\"scrollable-content\">\n",
    "        <ul>\n",
    "            <li><a href=\"http://example.com\" target=\"_blank\">Example URL 1</a></li>\n",
    "            <li><a href=\"http://example.org\" target=\"_blank\">Example URL 2</a></li>\n",
    "            <li><a href=\"http://example.net\" target=\"_blank\">Example URL 3</a></li>\n",
    "            <li><a href=\"http://example.net\" target=\"_blank\">Example URL 3</a></li>\n",
    "            <li><a href=\"http://example.net\" target=\"_blank\">Example URL 3</a></li>\n",
    "            <li><a href=\"http://example.net\" target=\"_blank\">Example URL 3</a></li>\n",
    "            <li><a href=\"http://example.net\" target=\"_blank\">Example URL 3</a></li>\n",
    "            <li><a href=\"http://example.net\" target=\"_blank\">Example URL 3</a></li>\n",
    "            <li><a href=\"http://example.net\" target=\"_blank\">Example URL 3</a></li>\n",
    "            <li><a href=\"http://example.net\" target=\"_blank\">Example URL 3</a></li>\n",
    "            <li><a href=\"http://example.net\" target=\"_blank\">Example URL 3</a></li>\n",
    "            <li><a href=\"http://example.net\" target=\"_blank\">Example URL 3</a></li>\n",
    "            <li><a href=\"http://example.net\" target=\"_blank\">Example URL 3</a></li>\n",
    "            <li><a href=\"http://example.net\" target=\"_blank\">Example URL 3</a></li>\n",
    "            <li><a href=\"http://example.net\" target=\"_blank\">Example URL 3</a></li>\n",
    "            <li><a href=\"http://example.net\" target=\"_blank\">Example URL 3</a></li>\n",
    "            <li><a href=\"http://example.net\" target=\"_blank\">Example URL 3</a></li>\n",
    "            <li><a href=\"http://example.net\" target=\"_blank\">Example URL 3</a></li>\n",
    "            <li><a href=\"http://example.net\" target=\"_blank\">Example URL 3</a></li>\n",
    "            <li><a href=\"http://example.net\" target=\"_blank\">Example URL 3</a></li>\n",
    "            <li><a href=\"http://example.net\" target=\"_blank\">Example URL 3</a></li>\n",
    "            <li><a href=\"http://example.net\" target=\"_blank\">Example URL 3</a></li>\n",
    "            <li><a href=\"http://example.net\" target=\"_blank\">Example URL 3</a></li>\n",
    "            <li><a href=\"http://example.net\" target=\"_blank\">Example URL 3</a></li>\n",
    "            <li><a href=\"http://example.net\" target=\"_blank\">Example URL 3</a></li>\n",
    "            <li><a href=\"http://example.net\" target=\"_blank\">Example URL 3</a></li>\n",
    "            <li><a href=\"http://example.net\" target=\"_blank\">Example URL 3</a></li>\n",
    "            <li><a href=\"http://example.net\" target=\"_blank\">Example URL 3</a></li>\n",
    "        </ul>\n",
    "    </div>\n",
    "    <p> iupi </p>\n",
    "</div>\n",
    "\n",
    "<script>\n",
    "    function closePanel() {\n",
    "        document.getElementById('info-panel').classList.remove('open');\n",
    "    }\n",
    "\n",
    "    document.addEventListener('DOMContentLoaded', function() {\n",
    "        var plotDiv = document.querySelector('.plotly-graph-div');\n",
    "        \n",
    "        if (plotDiv) {\n",
    "            plotDiv.on('plotly_click', function(data) {\n",
    "                if (data.points.length > 0) {\n",
    "                    var point = data.points[0];\n",
    "                    document.getElementById('node-info').innerHTML = point.hovertext;\n",
    "\n",
    "                    // Determine mouse click position for panel placement\n",
    "                    var mouseX = data.event.clientX; // Get mouse X position\n",
    "                    var panel = document.getElementById('info-panel');\n",
    "\n",
    "                    // Adjust panel position based on click location\n",
    "                    if (mouseX > window.innerWidth / 2) {\n",
    "                        panel.style.right = 'auto'; // Clear right positioning\n",
    "                        panel.style.left = '0'; // Show on the left side\n",
    "                    } else {\n",
    "                        panel.style.left = 'auto'; // Clear left positioning\n",
    "                        panel.style.right = '0'; // Show on the right side\n",
    "                    }\n",
    "\n",
    "                    // Show the panel\n",
    "                    panel.classList.add('open'); // Show panel on click\n",
    "                }\n",
    "            });\n",
    "        } else {\n",
    "            console.error(\"Graph div not found.\");\n",
    "        }\n",
    "    });\n",
    "</script>\n",
    "\"\"\"\n",
    "\n",
    "# Combine the Plotly HTML and the additional HTML\n",
    "html_code = html_code.replace(\"</body>\", additional_html + \"</body>\")\n",
    "\n",
    "# Save to HTML file\n",
    "with open(\"interactive_graph.html\", \"w\") as file:\n",
    "    file.write(html_code)\n",
    "\n",
    "print(\"HTML file with interactive graph and side panel created as 'interactive_graph.html'.\")\n"
   ]
  },
  {
   "cell_type": "markdown",
   "metadata": {},
   "source": [
    "---\n",
    "---\n",
    "---\n",
    "---\n",
    "---\n",
    "---\n",
    "---\n",
    "---\n",
    "---\n",
    "---\n",
    "---"
   ]
  },
  {
   "cell_type": "code",
   "execution_count": null,
   "metadata": {},
   "outputs": [],
   "source": []
  }
 ],
 "metadata": {
  "kernelspec": {
   "display_name": "fcdProj",
   "language": "python",
   "name": "python3"
  },
  "language_info": {
   "codemirror_mode": {
    "name": "ipython",
    "version": 3
   },
   "file_extension": ".py",
   "mimetype": "text/x-python",
   "name": "python",
   "nbconvert_exporter": "python",
   "pygments_lexer": "ipython3",
   "version": "3.10.15"
  }
 },
 "nbformat": 4,
 "nbformat_minor": 2
}
