{
 "cells": [
  {
   "cell_type": "markdown",
   "metadata": {},
   "source": [
    "## notas\n",
    "\n",
    "- escala so para o sentimento\n",
    "\n",
    "- acabar, guardar, promenores"
   ]
  },
  {
   "cell_type": "code",
   "execution_count": 1,
   "metadata": {},
   "outputs": [],
   "source": [
    "import pandas as pd\n",
    "import requests\n",
    "import matplotlib.pyplot as plt\n",
    "import numpy as np\n",
    "import plotly.graph_objects as go\n",
    "from datetime import datetime, timedelta"
   ]
  },
  {
   "cell_type": "markdown",
   "metadata": {},
   "source": [
    "---\n",
    "---\n",
    "---"
   ]
  },
  {
   "cell_type": "code",
   "execution_count": 2,
   "metadata": {},
   "outputs": [
    {
     "data": {
      "application/vnd.plotly.v1+json": {
       "config": {
        "plotlyServerURL": "https://plot.ly"
       },
       "data": [
        {
         "mode": "lines",
         "name": "Stock Price",
         "type": "scatter",
         "x": [
          "2005-02-01T00:00:00",
          "2005-03-01T00:00:00",
          "2005-04-01T00:00:00",
          "2005-05-01T00:00:00",
          "2005-06-01T00:00:00",
          "2005-07-01T00:00:00",
          "2005-08-01T00:00:00",
          "2005-09-01T00:00:00",
          "2005-10-01T00:00:00",
          "2005-11-01T00:00:00",
          "2005-12-01T00:00:00",
          "2006-01-01T00:00:00",
          "2006-02-01T00:00:00",
          "2006-03-01T00:00:00",
          "2006-04-01T00:00:00",
          "2006-05-01T00:00:00",
          "2006-06-01T00:00:00",
          "2006-07-01T00:00:00",
          "2006-08-01T00:00:00",
          "2006-09-01T00:00:00",
          "2006-10-01T00:00:00",
          "2006-11-01T00:00:00",
          "2006-12-01T00:00:00",
          "2007-01-01T00:00:00",
          "2007-02-01T00:00:00",
          "2007-03-01T00:00:00",
          "2007-04-01T00:00:00",
          "2007-05-01T00:00:00",
          "2007-06-01T00:00:00",
          "2007-07-01T00:00:00",
          "2007-08-01T00:00:00",
          "2007-09-01T00:00:00",
          "2007-10-01T00:00:00",
          "2007-11-01T00:00:00",
          "2007-12-01T00:00:00",
          "2008-01-01T00:00:00",
          "2008-02-01T00:00:00",
          "2008-03-01T00:00:00",
          "2008-04-01T00:00:00",
          "2008-05-01T00:00:00",
          "2008-06-01T00:00:00",
          "2008-07-01T00:00:00",
          "2008-08-01T00:00:00",
          "2008-09-01T00:00:00",
          "2008-10-01T00:00:00",
          "2008-11-01T00:00:00",
          "2008-12-01T00:00:00",
          "2009-01-01T00:00:00",
          "2009-02-01T00:00:00",
          "2009-03-01T00:00:00",
          "2009-04-01T00:00:00",
          "2009-05-01T00:00:00",
          "2009-06-01T00:00:00",
          "2009-07-01T00:00:00",
          "2009-08-01T00:00:00",
          "2009-09-01T00:00:00",
          "2009-10-01T00:00:00",
          "2009-11-01T00:00:00",
          "2009-12-01T00:00:00",
          "2010-01-01T00:00:00",
          "2010-02-01T00:00:00",
          "2010-03-01T00:00:00",
          "2010-04-01T00:00:00",
          "2010-05-01T00:00:00",
          "2010-06-01T00:00:00",
          "2010-07-01T00:00:00",
          "2010-08-01T00:00:00",
          "2010-09-01T00:00:00",
          "2010-10-01T00:00:00",
          "2010-11-01T00:00:00",
          "2010-12-01T00:00:00",
          "2011-01-01T00:00:00",
          "2011-02-01T00:00:00",
          "2011-03-01T00:00:00",
          "2011-04-01T00:00:00",
          "2011-05-01T00:00:00",
          "2011-06-01T00:00:00",
          "2011-07-01T00:00:00",
          "2011-08-01T00:00:00",
          "2011-09-01T00:00:00",
          "2011-10-01T00:00:00",
          "2011-11-01T00:00:00",
          "2011-12-01T00:00:00",
          "2012-01-01T00:00:00",
          "2012-02-01T00:00:00",
          "2012-03-01T00:00:00",
          "2012-04-01T00:00:00",
          "2012-05-01T00:00:00",
          "2012-06-01T00:00:00",
          "2012-07-01T00:00:00",
          "2012-08-01T00:00:00",
          "2012-09-01T00:00:00",
          "2012-10-01T00:00:00",
          "2012-11-01T00:00:00",
          "2012-12-01T00:00:00",
          "2013-01-01T00:00:00",
          "2013-02-01T00:00:00",
          "2013-03-01T00:00:00",
          "2013-04-01T00:00:00",
          "2013-05-01T00:00:00",
          "2013-06-01T00:00:00",
          "2013-07-01T00:00:00",
          "2013-08-01T00:00:00",
          "2013-09-01T00:00:00",
          "2013-10-01T00:00:00",
          "2013-11-01T00:00:00",
          "2013-12-01T00:00:00",
          "2014-01-01T00:00:00",
          "2014-02-01T00:00:00",
          "2014-03-01T00:00:00",
          "2014-04-01T00:00:00",
          "2014-05-01T00:00:00",
          "2014-06-01T00:00:00",
          "2014-07-01T00:00:00",
          "2014-08-01T00:00:00",
          "2014-09-01T00:00:00",
          "2014-10-01T00:00:00",
          "2014-11-01T00:00:00",
          "2014-12-01T00:00:00",
          "2015-01-01T00:00:00",
          "2015-02-01T00:00:00",
          "2015-03-01T00:00:00",
          "2015-04-01T00:00:00",
          "2015-05-01T00:00:00",
          "2015-06-01T00:00:00",
          "2015-07-01T00:00:00",
          "2015-08-01T00:00:00",
          "2015-09-01T00:00:00",
          "2015-10-01T00:00:00",
          "2015-11-01T00:00:00",
          "2015-12-01T00:00:00",
          "2016-01-01T00:00:00",
          "2016-02-01T00:00:00",
          "2016-03-01T00:00:00",
          "2016-04-01T00:00:00",
          "2016-05-01T00:00:00",
          "2016-06-01T00:00:00",
          "2016-07-01T00:00:00",
          "2016-08-01T00:00:00",
          "2016-09-01T00:00:00",
          "2016-10-01T00:00:00",
          "2016-11-01T00:00:00",
          "2016-12-01T00:00:00",
          "2017-01-01T00:00:00",
          "2017-02-01T00:00:00",
          "2017-03-01T00:00:00",
          "2017-04-01T00:00:00",
          "2017-05-01T00:00:00",
          "2017-06-01T00:00:00",
          "2017-07-01T00:00:00",
          "2017-08-01T00:00:00",
          "2017-09-01T00:00:00",
          "2017-10-01T00:00:00",
          "2017-11-01T00:00:00",
          "2017-12-01T00:00:00",
          "2018-01-01T00:00:00",
          "2018-02-01T00:00:00",
          "2018-03-01T00:00:00",
          "2018-04-01T00:00:00",
          "2018-05-01T00:00:00",
          "2018-06-01T00:00:00",
          "2018-07-01T00:00:00",
          "2018-08-01T00:00:00",
          "2018-09-01T00:00:00",
          "2018-10-01T00:00:00",
          "2018-11-01T00:00:00",
          "2018-12-01T00:00:00",
          "2019-01-01T00:00:00",
          "2019-02-01T00:00:00",
          "2019-03-01T00:00:00",
          "2019-04-01T00:00:00",
          "2019-05-01T00:00:00",
          "2019-06-01T00:00:00",
          "2019-07-01T00:00:00",
          "2019-08-01T00:00:00",
          "2019-09-01T00:00:00",
          "2019-10-01T00:00:00",
          "2019-11-01T00:00:00",
          "2019-12-01T00:00:00",
          "2020-01-01T00:00:00",
          "2020-02-01T00:00:00",
          "2020-03-01T00:00:00",
          "2020-04-01T00:00:00",
          "2020-05-01T00:00:00",
          "2020-06-01T00:00:00",
          "2020-07-01T00:00:00",
          "2020-08-01T00:00:00",
          "2020-09-01T00:00:00",
          "2020-10-01T00:00:00",
          "2020-11-01T00:00:00",
          "2020-12-01T00:00:00"
         ],
         "y": [
          2.11,
          2.1001,
          2.0798,
          2.1001,
          2.1198,
          2.11,
          2.1802,
          2.3103,
          2.11,
          2.11,
          2.33,
          2.4101,
          2.4903,
          2.6302,
          2.42,
          2.2598,
          2.2203,
          2.2499,
          2.4003,
          2.4502,
          2.5501,
          2.5599,
          2.7997,
          2.8398,
          2.7602,
          2.7103,
          3.09,
          3.7699,
          4.1398,
          3.7601,
          3.4303,
          2.91,
          3.3403,
          2.9902,
          2.9199,
          2.085,
          1.9102,
          2.06,
          1.8051,
          1.635,
          1.3749,
          1.145,
          1.1798,
          1.1421,
          0.9127,
          0.7989,
          0.8152,
          0.8001,
          0.6398,
          0.6178,
          0.7101,
          0.756,
          0.724,
          0.7507,
          0.9127,
          1.0109,
          0.9702,
          0.882,
          0.8448,
          0.785,
          0.7438,
          0.8239,
          0.7031,
          0.6439,
          0.6201,
          0.6642,
          0.63,
          0.6393,
          0.6538,
          0.5882,
          0.5818,
          0.587,
          0.6462,
          0.576,
          0.5388,
          0.4807,
          0.4099,
          0.3222,
          0.2531,
          0.1951,
          0.155,
          0.1272,
          0.1359,
          0.1353,
          0.1701,
          0.1388,
          0.1063,
          0.1022,
          0.0981,
          0.0941,
          0.0871,
          0.0639,
          0.0703,
          0.0703,
          0.0749,
          0.0993,
          0.1092,
          0.0952,
          0.1051,
          0.1068,
          0.0958,
          0.0941,
          0.0958,
          0.0958,
          0.1103,
          0.1301,
          0.1666,
          0.1661,
          0.1974,
          0.227,
          0.2189,
          0.1916,
          0.191,
          0.1074,
          0.1033,
          0.1033,
          0.09,
          0.083,
          0.0656,
          0.0633,
          0.083,
          0.0958,
          0.0888,
          0.0854,
          0.0778,
          0.0703,
          0.0633,
          0.0435,
          0.0523,
          0.0505,
          0.0488,
          0.0389,
          0.0343,
          0.0354,
          0.0389,
          0.0308,
          0.018,
          0.0203,
          0.018,
          0.0157,
          1.213,
          1.18,
          1.071,
          0.1564,
          0.1507,
          0.1961,
          0.2048,
          0.23,
          0.2357,
          0.2414,
          0.2234,
          0.2453,
          0.2565,
          0.2575,
          0.272,
          0.3221,
          0.295,
          0.272,
          0.2781,
          0.2512,
          0.2574,
          0.2684,
          0.2508,
          0.255,
          0.2382,
          0.2481,
          0.2295,
          0.241,
          0.241,
          0.2303,
          0.2501,
          0.252,
          0.2719,
          0.2312,
          0.1932,
          0.1906,
          0.203,
          0.196,
          0.2028,
          0.1917,
          0.1625,
          0.1025,
          0.102,
          0.0985,
          0.107,
          0.0982,
          0.0987,
          0.0803,
          0.0754,
          0.1185,
          0.1232
         ]
        },
        {
         "hoverlabel": {
          "namelength": 0
         },
         "hovertemplate": [
          "<b>Top 10 Words :</b><br>Polónia<br>conferência<br>mercado<br>BCP<br>Jorge Jardim Gonçalves<br>Portugal<br>perspectivas<br>presidência<br>relações<br>temas",
          "News not found.",
          "News not found.",
          "News not found.",
          "News not found.",
          "<b>Top 10 Words :</b><br>BCP<br>banco<br>processo<br>Governo<br>Jorge Jardim Gonçalves<br>bancos<br>instituição<br>Banca Comerciala Romana<br>Banco Comercial Português<br>Bélgica",
          "News not found.",
          "News not found.",
          "News not found.",
          "<b>Top 10 Words :</b><br>BCP<br>euros<br>EDP<br>BES<br>BPI<br>Euronext Lisboa<br>Europa<br>banca<br>congéneres<br>desvalorização",
          "News not found.",
          "<b>Top 10 Words :</b><br>banco<br>Millennium<br>Splitska Banka<br>proposta<br>Croácia<br>compra<br>fonte<br>O Millennium<br>alemão<br>analistas",
          "News not found.",
          "<b>Top 10 Words :</b><br>árvore<br>metros<br>Natal<br>pessoas<br>Praça do Comércio<br>altura<br>empresa<br>iniciativa<br>Belém<br>Carmona Rodrigues",
          "News not found.",
          "News not found.",
          "News not found.",
          "News not found.",
          "News not found.",
          "News not found.",
          "News not found.",
          "News not found.",
          "News not found.",
          "News not found.",
          "News not found.",
          "News not found.",
          "News not found.",
          "News not found.",
          "News not found.",
          "<b>Top 10 Words :</b><br>proposta<br>banco<br>estatutos<br>órgão<br>BCP<br>Supervisão<br>accionistas<br>assembleia<br>alteração<br>fundador",
          "<b>Top 10 Words :</b><br>BCP<br>assembleia<br>presidente<br>ABN Amro<br>CMVM<br>banco<br>mercado<br>mesa<br>votos<br>capital",
          "News not found.",
          "<b>Top 10 Words :</b><br>BCP<br>BPI<br>proposta<br>RDP Madeira<br>Millenium<br>Ant1<br>Ant3<br>Campeonatos Rally<br>Filipe Pinhal<br>Novo",
          "<b>Top 10 Words :</b><br>BCP<br>proposta<br>BPI<br>Filipe Pinhal<br>propostas<br>RDP Madeira<br>entanto<br>presidente<br>acordo<br>base",
          "News not found.",
          "News not found.",
          "<b>Top 10 Words :</b><br>contas<br>analistas<br>banco<br>exercício<br>Filipe Pinhal<br>actividade<br>custos<br>impactos<br>BCP<br>administradores",
          "News not found.",
          "News not found.",
          "News not found.",
          "News not found.",
          "News not found.",
          "News not found.",
          "News not found.",
          "News not found.",
          "News not found.",
          "News not found.",
          "News not found.",
          "News not found.",
          "News not found.",
          "News not found.",
          "News not found.",
          "News not found.",
          "News not found.",
          "News not found.",
          "News not found.",
          "News not found.",
          "News not found.",
          "<b>Top 10 Words :</b><br>BCP<br>O2<br>euros<br>Anónimo<br>Empresário<br>Godinho<br>Manuel José Godinho<br>Sol<br>contas<br>juiz",
          "News not found.",
          "News not found.",
          "News not found.",
          "News not found.",
          "<b>Top 10 Words :</b><br>BCP<br>banco<br>Banco de Portugal<br>presidente<br>capital<br>euros<br>Blogue<br>Lisboa<br>Jardim Gonçalves<br>anos",
          "<b>Top 10 Words :</b><br>BCP<br>Banco de Portugal<br>regresso<br>caso<br>Armando Vara<br>Face Oculta<br>Vara<br>administração<br>Alexandre Martins Coordenador-geral<br>Bárbara Reis",
          "<b>Top 10 Words :</b><br>BCP<br>DIAP<br>Millennium BCP<br>Lisboa<br>hora<br>balcão<br>Alexandra Lucas Coelho<br>Escola Projecto<br>Infografias<br>Iniciativas",
          "<b>Top 10 Words :</b><br>BCP<br>Sol<br>Armando Vara<br>Comissão de Ética<br>administrador<br>director<br>media<br>Agosto de 2010<br>Alexandra Lucas Coelho<br>Escola Projecto",
          "News not found.",
          "<b>Top 10 Words :</b><br>BCP<br>euros<br>banco<br>mercado<br>acções<br>clientes<br>títulos<br>Polónia<br>economia<br>Tribunal",
          "<b>Top 10 Words :</b><br>ICBC<br>BCP<br>banco<br>China<br>Portugal<br>Sines<br>visita<br>PORTO<br>compra<br>dívida",
          "<b>Top 10 Words :</b><br>BCP<br>Irão<br>actividade<br>conhecimento<br>presidente<br>Alexandra Lucas Coelho<br>BE<br>Banco de Portugal<br>Carlos Santos Ferreira<br>Corrigir Provedor do Leitor Feedback Diminuir",
          "<b>Top 10 Words :</b><br>BCP<br>EUA<br>Assange<br>Wikileaks<br>voos<br>Irão<br>Sócrates<br>Cavaco<br>resposta<br>Ana Gomes",
          "<b>Top 10 Words :</b><br>BCP<br>EUA<br>Wikileaks<br>Assange<br>Irão<br>voos<br>Banco de Portugal<br>Sócrates<br>telegramas<br>Cavaco",
          "<b>Top 10 Words :</b><br>BCP<br>EUA<br>Wikileaks<br>Assange<br>banco<br>voos<br>Irão<br>Sócrates<br>explicações<br>presidente",
          "<b>Top 10 Words :</b><br>BCP<br>banco<br>ABN<br>acções<br>compra<br>conta<br>Banco de Portugal<br>Constâncio<br>euros<br>Jardim Gonçalves",
          "<b>Top 10 Words :</b><br>BCP<br>capital<br>Unicre<br>BPI<br>SIBS<br>Sol<br>director<br>PSD<br>banco<br>hora",
          "News not found.",
          "<b>Top 10 Words :</b><br>BCP<br>euros<br>banco<br>resposta<br>BES<br>Governo<br>Estado<br>Obama<br>anos<br>EUA",
          "<b>Top 10 Words :</b><br>BCP<br>BES<br>Banco de Portugal<br>Polónia<br>operação<br>Banco Comercial Português<br>Bank Millenium<br>Bloomberg<br>Supervisão<br>euros",
          "<b>Top 10 Words :</b><br>BCP<br>anos<br>euros<br>resposta<br>dias<br>crise<br>Estado<br>Governo<br>horas<br>venda",
          "<b>Top 10 Words :</b><br>BCP<br>Governo<br>euros<br>dias<br>anos<br>horas<br>minutos<br>resposta<br>Armando Vara<br>orgias",
          "<b>Top 10 Words :</b><br>BCP<br>euros<br>bancos<br>banco<br>Fitch<br>crédito<br>rating<br>dívida<br>corte<br>dias",
          "<b>Top 10 Words :</b><br>BCP<br>rating<br>BES<br>acções<br>negociação<br>BPI<br>CGD<br>lixo<br>corte<br>BB",
          "<b>Top 10 Words :</b><br>BCP<br>euros<br>dias<br>Nuno Amado<br>Santos Ferreira<br>Brasil<br>Rendas<br>acionistas<br>economia<br>BES",
          "<b>Top 10 Words :</b><br>BCP<br>acionistas<br>dias<br>Estado<br>euros<br>Banco de Portugal<br>Brasil<br>capital<br>recapitalização<br>China",
          "News not found.",
          "News not found.",
          "News not found.",
          "News not found.",
          "<b>Top 10 Words :</b><br>BCP<br>euros<br>anos<br>Espanha<br>horas<br>médicos<br>Estado<br>BPI<br>minutos<br>Fisco",
          "<b>Top 10 Words :</b><br>euros<br>Governo<br>anos<br>concessão<br>Casas<br>Estado<br>venda<br>crédito<br>horas<br>imóveis",
          "<b>Top 10 Words :</b><br>BCP<br>euros<br>horas<br>minutos<br>resposta<br>Casas<br>austeridade<br>venda<br>TSU<br>Anónimo",
          "<b>Top 10 Words :</b><br>euros<br>dias<br>salários<br>anos<br>BCP<br>horas<br>minutos<br>resposta<br>Governo<br>Portugal",
          "<b>Top 10 Words :</b><br>Portugal<br>BCP<br>crise<br>Governo<br>Merkel<br>Rendas<br>empresas<br>subsídios<br>resposta<br>cortes",
          "<b>Top 10 Words :</b><br>BCP<br>banco<br>acções<br>Filipe Pinhal<br>Gémeas Cargas<br>Loja Emprego<br>anos<br>Jardim Gonçalves<br>arguidos<br>accionista",
          "<b>Top 10 Words :</b><br>BCP<br>banco<br>Filipe Pinhal<br>acções<br>Tribunal<br>accionista<br>arguidos<br>Gémeas Cargas<br>capital<br>Portugal",
          "<b>Top 10 Words :</b><br>BCP<br>euros<br>banco<br>Portugal<br>venda<br>anos<br>assinatura<br>Estado<br>Grécia<br>Gémeas Cargas",
          "<b>Top 10 Words :</b><br>BCP<br>Portugal<br>euros<br>banco<br>Governo<br>Estado<br>Troika<br>crédito<br>cortes<br>anos",
          "News not found.",
          "News not found.",
          "News not found.",
          "<b>Top 10 Words :</b><br>BCP<br>Interoceânico<br>Camargo Corrêa<br>Cimpor<br>Allpar<br>Portugal<br>acesso<br>sociedade<br>Carlos Silva<br>acordo",
          "<b>Top 10 Words :</b><br>BCP<br>resposta<br>BES<br>BPI<br>prejuízos<br>tendência<br>Galp<br>bancos<br>ganhos<br>rating",
          "<b>Top 10 Words :</b><br>BCP<br>Governo<br>corte<br>professores<br>resposta<br>Portugal<br>salários<br>anos<br>Pensões<br>autárquicas",
          "<b>Top 10 Words :</b><br>BCP<br>Governo<br>corte<br>Pensões<br>resgate<br>anos<br>resposta<br>BPI<br>Filipe Pinhal<br>cortes",
          "<b>Top 10 Words :</b><br>BCP<br>euros<br>mundo<br>Portugal<br>Santos Ferreira<br>banco<br>pagamento<br>Visa<br>acesso<br>assinatura",
          "News not found.",
          "News not found.",
          "News not found.",
          "News not found.",
          "News not found.",
          "<b>Top 10 Words :</b><br>BCP<br>euros<br>Governo<br>anos<br>salários<br>Portugal<br>Estado<br>banco<br>processo<br>mundo",
          "<b>Top 10 Words :</b><br>administração<br>contas<br>membros<br>TC<br>capital<br>proposta<br>reunião<br>BCP<br>Chumbo<br>Mundial 2014",
          "<b>Top 10 Words :</b><br>capital<br>BCP<br>aumento<br>euros<br>greve<br>banco<br>operação<br>BES<br>Miguel Bragança<br>Mundial 2014",
          "<b>Top 10 Words :</b><br>BCP<br>euros<br>banco<br>capital<br>ajuda<br>mundo<br>acções<br>Estado<br>BES<br>títulos",
          "News not found.",
          "<b>Top 10 Words :</b><br>BCP<br>euros<br>banco<br>Portugal<br>Visa<br>débito<br>mundo<br>pagamentos<br>restantes<br>artigos",
          "News not found.",
          "News not found.",
          "<b>Top 10 Words :</b><br>Jan<br>ganhos<br>BCP<br>PSI20<br>euros<br>Portugal<br>diário<br>receitas<br>seguidores<br>áudio",
          "<b>Top 10 Words :</b><br>euros<br>BCP<br>Nuno Amado<br>anos<br>acordo<br>banco<br>redução<br>áudio<br>prejuízo<br>prejuízos",
          "<b>Top 10 Words :</b><br>BCP<br>BPI<br>fusão<br>Isabel dos Santos<br>proposta<br>banco<br>CaixaBank<br>Nuno Amado<br>Santoro<br>operação",
          "<b>Top 10 Words :</b><br>BCP<br>euros<br>banco<br>capital<br>BCE<br>bancos<br>cenário<br>Portugal<br>activos<br>qualidade",
          "<b>Top 10 Words :</b><br>BCP<br>banco<br>anos<br>euros<br>artigos<br>Portugal<br>dias<br>lucros<br>período<br>Visa",
          "<b>Top 10 Words :</b><br>BCP<br>rating<br>bancos<br>Fitch<br>artigos<br>Portugal<br>BPI<br>Visa<br>dias<br>débito",
          "<b>Top 10 Words :</b><br>BCP<br>semestre<br>prejuízo<br>lucro<br>fusão<br>BPI<br>Presidente do BCP<br>presidente<br>evolução<br>fonte",
          "<b>Top 10 Words :</b><br>BCP<br>euros<br>dívida<br>bancos<br>créditos<br>habitação<br>acções<br>Polónia<br>rating<br>unidade",
          "<b>Top 10 Words :</b><br>BCP<br>capital<br>empresa<br>BPI<br>euros<br>queda<br>anos<br>aumento<br>refugiados<br>respetivamente",
          "<b>Top 10 Words :</b><br>BCP<br>euros<br>banco<br>Portugal<br>Visa<br>artigos<br>capital<br>débito<br>pagamentos<br>acções",
          "<b>Top 10 Words :</b><br>BCP<br>euros<br>Nuno Amado<br>Portugal<br>banco<br>capital<br>balcões<br>aumento<br>bancos<br>lucro",
          "<b>Top 10 Words :</b><br>BCP<br>arguidos<br>Banif<br>BPI<br>Portugal<br>absolvição<br>aumento<br>capital<br>prejuízo<br>BPP",
          "<b>Top 10 Words :</b><br>BCP<br>ações<br>banco<br>BPI<br>acções<br>investidores<br>Portugal<br>queda<br>CGD<br>banca",
          "<b>Top 10 Words :</b><br>BCP<br>euros<br>anos<br>Portugal<br>agências<br>lucros<br>prejuízos<br>balcões<br>investidores<br>postos",
          "<b>Top 10 Words :</b><br>BCP<br>Isabel dos Santos<br>BPI<br>Pharol<br>banco<br>entrada<br>PSI20<br>Governo<br>Nicolau Breyner<br>anos",
          "<b>Top 10 Words :</b><br>BCP<br>banco<br>BPI<br>fusão<br>Portugal<br>entrada<br>estatutos<br>Nuno Amado<br>capital<br>direitos",
          "<b>Top 10 Words :</b><br>BCP<br>euros<br>trimestre<br>banco<br>Lucro do BCP<br>Portugal<br>país<br>Estado<br>anos<br>capital",
          "<b>Top 10 Words :</b><br>BCP<br>Portugal<br>banco<br>descoberto<br>ações<br>euros<br>Lisboa<br>Vendas<br>bolsa<br>perdas",
          "<b>Top 10 Words :</b><br>BCP<br>banco<br>euros<br>capital<br>resultados<br>Portugal<br>Novo Banco<br>Nuno Amado<br>compra<br>Santander",
          "<b>Top 10 Words :</b><br>BCP<br>banco<br>ações<br>descoberto<br>Empresários<br>mira<br>Novo Banco<br>capital<br>Portugal<br>Vendas",
          "<b>Top 10 Words :</b><br>BCP<br>acções<br>banco<br>Portugal<br>rating<br>Reagrupamento<br>capital<br>euros<br>Visa<br>artigos",
          "<b>Top 10 Words :</b><br>BCP<br>acções<br>capital<br>negociações<br>Berardo<br>Chineses da Fosun<br>Deutsche Bank<br>Fosun<br>Joe Berardo<br>Luís Villalobos",
          "News not found.",
          "News not found.",
          "<b>Top 10 Words :</b><br>BCP<br>capital<br>aumento<br>euros<br>banco<br>direitos<br>Jan<br>Portugal<br>resultados<br>Dinheiro Vivo",
          "<b>Top 10 Words :</b><br>BCP<br>capital<br>aumento<br>Fosun<br>Lisboa<br>Portugal<br>EDP<br>Cristina Ferreira<br>Fundo de Resolução<br>Nuno Amado",
          "<b>Top 10 Words :</b><br>BCP<br>Mar<br>banco<br>Polónia<br>Portugal<br>capital<br>lucro<br>euros<br>Novo Banco<br>CGD",
          "<b>Top 10 Words :</b><br>melhoria<br>rating<br>essencial<br>Presidente do BCP<br>BCP<br>República<br>euros<br>banco<br>Apr<br>Portugal",
          "<b>Top 10 Words :</b><br>BCP<br>banco<br>clientes<br>euros<br>Sonangol<br>Fosun<br>operações<br>situação<br>ciberataque<br>ataque",
          "<b>Top 10 Words :</b><br>BCP<br>Nuno Amado<br>Fosun<br>melhoria<br>Cristina Ferreira<br>presidente<br>rating<br>banco<br>Moçambique<br>fundador",
          "<b>Top 10 Words :</b><br>BCP<br>euros<br>Novo Banco<br>banco<br>trabalhadores<br>cortes<br>empresa<br>postos<br>trabalho<br>PSI20",
          "<b>Top 10 Words :</b><br>BCP<br>Novo Banco<br>euros<br>projecto<br>Abel Coentrão<br>Agência Europeia do Medicamento<br>PORTO<br>aquicultura<br>edifício<br>empresa",
          "<b>Top 10 Words :</b><br>BCP<br>Novo Banco<br>venda<br>Banco de Portugal<br>plataforma<br>capital<br>euros<br>processo<br>crédito<br>participação",
          "<b>Top 10 Words :</b><br>conversão<br>ações<br>empresas<br>portador<br>valores<br>Altri<br>Banco de Investimento Imobiliário<br>Cofina<br>MILLENNIUM BCP<br>data",
          "<b>Top 10 Words :</b><br>BCP<br>dívida<br>emissão<br>euros<br>banco<br>investidores<br>Nov<br>Investimento<br>anos<br>direitos",
          "<b>Top 10 Words :</b><br>BCP<br>perspetiva<br>bancos<br>nota<br>Fitch<br>rating<br>Nov<br>greve<br>Euro 2016<br>Liga dos Campeões",
          "<b>Top 10 Words :</b><br>BCP<br>Jan<br>PSI20<br>Lisboa<br>Portugal<br>empresas<br>bolsa<br>BEI<br>euros<br>impulso",
          "<b>Top 10 Words :</b><br>BCP<br>euros<br>lucros<br>Banco BCP<br>participação<br>banco<br>atividade<br>Fev<br>Jan<br>Lisboa",
          "<b>Top 10 Words :</b><br>BCP<br>Sonangol<br>banco<br>Fosun<br>presidente<br>Galp<br>dívida<br>investimentos<br>depósitos<br>fonte",
          "<b>Top 10 Words :</b><br>BCP<br>Lisboa<br>Comissão do Mercado de Valores Mobiliários<br>Conselho de Administração<br>Google<br>Hoje<br>Magazine Publicidade<br>Portugal<br>SEXTA<br>Taguspark",
          "<b>Top 10 Words :</b><br>BCP<br>banco<br>clube<br>Miguel Maya<br>presidente<br>Sporting<br>euros<br>normalização<br>Lisboa<br>Nuno Amado",
          "<b>Top 10 Words :</b><br>BCP<br>euros<br>banco<br>website<br>conta<br>Miguel Maya<br>Nuno Amado<br>Sporting<br>anos<br>dívida",
          "<b>Top 10 Words :</b><br>BCP<br>euros<br>banco<br>conta<br>crédito<br>créditos<br>website<br>BES<br>Novo Banco<br>Miguel Maya",
          "News not found.",
          "<b>Top 10 Words :</b><br>euros<br>banco<br>BCP<br>presidente<br>conta<br>Miguel Maya<br>acusação<br>clube<br>José Filomeno dos Santos<br>Sporting",
          "<b>Top 10 Words :</b><br>banco<br>conta<br>spread<br>aumento<br>cliente<br>contrato<br>cumprimento<br>destaque<br>habitação<br>prazo",
          "<b>Top 10 Words :</b><br>BCP<br>euros<br>banco<br>Eurobank<br>Polónia<br>lucros<br>capital<br>compra<br>aquisição<br>bancos",
          "<b>Top 10 Words :</b><br>BCP<br>Sonangol<br>banco<br>Millennium<br>processo<br>Estado<br>Investimento<br>fusão<br>participação<br>João Lourenço",
          "<b>Top 10 Words :</b><br>BCP<br>banco<br>empresa<br>capital<br>conta<br>euros<br>trabalhadores<br>Sonangol<br>presidente<br>destaque",
          "<b>Top 10 Words :</b><br>BCP<br>ME<br>lucros<br>euros<br>apreensão<br>injeção<br>presidente<br>banco<br>Banco BCP<br>Miguel Maya",
          "<b>Top 10 Words :</b><br>banco<br>BCP<br>euros<br>Nuno Amado<br>aumento<br>conta<br>spread<br>BES<br>Novo Banco<br>Premium",
          "<b>Top 10 Words :</b><br>BCP<br>euros<br>acção<br>Joe Berardo<br>Novo Banco<br>BPI<br>dívidas<br>prédios<br>trabalhadores<br>Berardo",
          "<b>Top 10 Words :</b><br>BCP<br>trabalhadores<br>banco<br>euros<br>CGD<br>acionistas<br>Novo Banco<br>remunerações<br>presidente<br>conta",
          "<b>Top 10 Words :</b><br>BCP<br>Filipe Pinhal<br>Vítor Constâncio<br>CGD<br>Berardo<br>Banco de Portugal<br>Constâncio<br>presidente<br>banco<br>PS",
          "<b>Top 10 Words :</b><br>BCP<br>Filipe Pinhal<br>José Sócrates<br>conta<br>CGD<br>banco<br>Inquérito<br>euros<br>maledicência<br>Berardo",
          "<b>Top 10 Words :</b><br>BCP<br>banco<br>Fosun<br>capital<br>euros<br>histórias<br>PSD<br>ações<br>direitos<br>helicóptero",
          "<b>Top 10 Words :</b><br>BCP<br>banco<br>euros<br>Fosun<br>anos<br>capital<br>presidente<br>aumento<br>Millennium<br>semestre",
          "<b>Top 10 Words :</b><br>BCP<br>Global Media Group<br>Governo<br>banco<br>Dinheiro Vivo<br>Portugal<br>créditos<br>programa<br>AdC<br>António Costa",
          "<b>Top 10 Words :</b><br>euros<br>BCP<br>banco<br>resultados<br>bancos<br>Dinheiro Vivo<br>conta<br>anos<br>crédito<br>economia",
          "<b>Top 10 Words :</b><br>BCP<br>euros<br>banco<br>conta<br>acções<br>accionistas<br>capital<br>crédito<br>destaque<br>administração",
          "<b>Top 10 Words :</b><br>BCP<br>banco<br>euros<br>conta<br>acções<br>Polónia<br>capital<br>clientes<br>destaque<br>crédito",
          "<b>Top 10 Words :</b><br>BCP<br>banco<br>euros<br>Novo Banco<br>Sonangol<br>presidente<br>O Essencial<br>condições<br>lucros<br>razões",
          "<b>Top 10 Words :</b><br>BCP<br>Efacec<br>Isabel dos Santos<br>acionista<br>créditos<br>presidente<br>Em Portugal<br>Miguel Maya<br>O Essencial<br>Results",
          "<b>Top 10 Words :</b><br>BCP<br>banco<br>euros<br>Millennium<br>aumento<br>conta<br>spread<br>cliente<br>habitação<br>perito",
          "<b>Top 10 Words :</b><br>BCP<br>euros<br>obrigações<br>trimestre<br>conta<br>destaque<br>período<br>resultados<br>áreas<br>banco",
          "<b>Top 10 Words :</b><br>BCP<br>Banco de Portugal<br>euros<br>banco<br>crédito<br>CGD<br>ações<br>capital<br>Constâncio<br>Millennium",
          "<b>Top 10 Words :</b><br>BCP<br>semestre<br>euros<br>lucros<br>áreas<br>metade<br>Acompanhe<br>Covid-19<br>Nosso Futuro<br>O Essencial",
          "<b>Top 10 Words :</b><br>BCP<br>euros<br>bancos<br>EDP<br>Berardo<br>capital<br>banco<br>trabalhadores<br>comissões<br>dividendos",
          "<b>Top 10 Words :</b><br>BCP<br>capital<br>EDP<br>conta<br>banco<br>Novo Banco<br>processo<br>acordo<br>perito<br>Banco Montepio",
          "<b>Top 10 Words :</b><br>BCP<br>euros<br>áreas<br>Acompanhe<br>BCP Quer<br>Covid-19<br>MAIS<br>Miguel Maya<br>Nosso Futuro<br>O Essencial",
          "News not found.",
          "<b>Top 10 Words :</b><br>BCP<br>banco<br>Sonangol<br>Jardim Gonçalves<br>caso<br>Millennium<br>notificações<br>Novo Banco<br>processo<br>Isabel dos Santos"
         ],
         "marker": {
          "color": [
           "green",
           "black",
           "black",
           "black",
           "black",
           "green",
           "black",
           "black",
           "black",
           "red",
           "black",
           "red",
           "black",
           "green",
           "black",
           "black",
           "black",
           "black",
           "black",
           "black",
           "black",
           "black",
           "black",
           "black",
           "black",
           "black",
           "black",
           "black",
           "black",
           "green",
           "green",
           "black",
           "red",
           "red",
           "black",
           "black",
           "green",
           "black",
           "black",
           "black",
           "black",
           "black",
           "black",
           "black",
           "black",
           "black",
           "black",
           "black",
           "black",
           "black",
           "black",
           "black",
           "black",
           "black",
           "black",
           "black",
           "black",
           "black",
           "green",
           "black",
           "black",
           "black",
           "black",
           "green",
           "red",
           "green",
           "red",
           "black",
           "red",
           "green",
           "green",
           "red",
           "red",
           "red",
           "red",
           "green",
           "black",
           "red",
           "green",
           "red",
           "red",
           "red",
           "green",
           "red",
           "red",
           "black",
           "black",
           "black",
           "black",
           "red",
           "red",
           "red",
           "red",
           "red",
           "green",
           "green",
           "red",
           "red",
           "black",
           "black",
           "black",
           "green",
           "green",
           "red",
           "red",
           "green",
           "black",
           "black",
           "black",
           "black",
           "black",
           "red",
           "green",
           "green",
           "green",
           "black",
           "green",
           "black",
           "black",
           "green",
           "green",
           "green",
           "green",
           "green",
           "green",
           "green",
           "red",
           "green",
           "green",
           "green",
           "green",
           "red",
           "green",
           "red",
           "green",
           "green",
           "green",
           "red",
           "green",
           "green",
           "red",
           "black",
           "black",
           "green",
           "green",
           "green",
           "red",
           "red",
           "green",
           "green",
           "green",
           "red",
           "green",
           "green",
           "green",
           "green",
           "green",
           "green",
           "red",
           "green",
           "green",
           "green",
           "black",
           "green",
           "green",
           "green",
           "green",
           "green",
           "red",
           "green",
           "green",
           "green",
           "green",
           "red",
           "green",
           "green",
           "green",
           "green",
           "red",
           "green",
           "green",
           "green",
           "green",
           "green",
           "green",
           "green",
           "green",
           "green",
           "green",
           "black",
           "green"
          ]
         },
         "name": "Negative Sentiment",
         "opacity": 0.5,
         "showlegend": false,
         "type": "bar",
         "x": [
          "2005-02-01T00:00:00",
          "2005-03-01T00:00:00",
          "2005-04-01T00:00:00",
          "2005-05-01T00:00:00",
          "2005-06-01T00:00:00",
          "2005-07-01T00:00:00",
          "2005-08-01T00:00:00",
          "2005-09-01T00:00:00",
          "2005-10-01T00:00:00",
          "2005-11-01T00:00:00",
          "2005-12-01T00:00:00",
          "2006-01-01T00:00:00",
          "2006-02-01T00:00:00",
          "2006-03-01T00:00:00",
          "2006-04-01T00:00:00",
          "2006-05-01T00:00:00",
          "2006-06-01T00:00:00",
          "2006-07-01T00:00:00",
          "2006-08-01T00:00:00",
          "2006-09-01T00:00:00",
          "2006-10-01T00:00:00",
          "2006-11-01T00:00:00",
          "2006-12-01T00:00:00",
          "2007-01-01T00:00:00",
          "2007-02-01T00:00:00",
          "2007-03-01T00:00:00",
          "2007-04-01T00:00:00",
          "2007-05-01T00:00:00",
          "2007-06-01T00:00:00",
          "2007-07-01T00:00:00",
          "2007-08-01T00:00:00",
          "2007-09-01T00:00:00",
          "2007-10-01T00:00:00",
          "2007-11-01T00:00:00",
          "2007-12-01T00:00:00",
          "2008-01-01T00:00:00",
          "2008-02-01T00:00:00",
          "2008-03-01T00:00:00",
          "2008-04-01T00:00:00",
          "2008-05-01T00:00:00",
          "2008-06-01T00:00:00",
          "2008-07-01T00:00:00",
          "2008-08-01T00:00:00",
          "2008-09-01T00:00:00",
          "2008-10-01T00:00:00",
          "2008-11-01T00:00:00",
          "2008-12-01T00:00:00",
          "2009-01-01T00:00:00",
          "2009-02-01T00:00:00",
          "2009-03-01T00:00:00",
          "2009-04-01T00:00:00",
          "2009-05-01T00:00:00",
          "2009-06-01T00:00:00",
          "2009-07-01T00:00:00",
          "2009-08-01T00:00:00",
          "2009-09-01T00:00:00",
          "2009-10-01T00:00:00",
          "2009-11-01T00:00:00",
          "2009-12-01T00:00:00",
          "2010-01-01T00:00:00",
          "2010-02-01T00:00:00",
          "2010-03-01T00:00:00",
          "2010-04-01T00:00:00",
          "2010-05-01T00:00:00",
          "2010-06-01T00:00:00",
          "2010-07-01T00:00:00",
          "2010-08-01T00:00:00",
          "2010-09-01T00:00:00",
          "2010-10-01T00:00:00",
          "2010-11-01T00:00:00",
          "2010-12-01T00:00:00",
          "2011-01-01T00:00:00",
          "2011-02-01T00:00:00",
          "2011-03-01T00:00:00",
          "2011-04-01T00:00:00",
          "2011-05-01T00:00:00",
          "2011-06-01T00:00:00",
          "2011-07-01T00:00:00",
          "2011-08-01T00:00:00",
          "2011-09-01T00:00:00",
          "2011-10-01T00:00:00",
          "2011-11-01T00:00:00",
          "2011-12-01T00:00:00",
          "2012-01-01T00:00:00",
          "2012-02-01T00:00:00",
          "2012-03-01T00:00:00",
          "2012-04-01T00:00:00",
          "2012-05-01T00:00:00",
          "2012-06-01T00:00:00",
          "2012-07-01T00:00:00",
          "2012-08-01T00:00:00",
          "2012-09-01T00:00:00",
          "2012-10-01T00:00:00",
          "2012-11-01T00:00:00",
          "2012-12-01T00:00:00",
          "2013-01-01T00:00:00",
          "2013-02-01T00:00:00",
          "2013-03-01T00:00:00",
          "2013-04-01T00:00:00",
          "2013-05-01T00:00:00",
          "2013-06-01T00:00:00",
          "2013-07-01T00:00:00",
          "2013-08-01T00:00:00",
          "2013-09-01T00:00:00",
          "2013-10-01T00:00:00",
          "2013-11-01T00:00:00",
          "2013-12-01T00:00:00",
          "2014-01-01T00:00:00",
          "2014-02-01T00:00:00",
          "2014-03-01T00:00:00",
          "2014-04-01T00:00:00",
          "2014-05-01T00:00:00",
          "2014-06-01T00:00:00",
          "2014-07-01T00:00:00",
          "2014-08-01T00:00:00",
          "2014-09-01T00:00:00",
          "2014-10-01T00:00:00",
          "2014-11-01T00:00:00",
          "2014-12-01T00:00:00",
          "2015-01-01T00:00:00",
          "2015-02-01T00:00:00",
          "2015-03-01T00:00:00",
          "2015-04-01T00:00:00",
          "2015-05-01T00:00:00",
          "2015-06-01T00:00:00",
          "2015-07-01T00:00:00",
          "2015-08-01T00:00:00",
          "2015-09-01T00:00:00",
          "2015-10-01T00:00:00",
          "2015-11-01T00:00:00",
          "2015-12-01T00:00:00",
          "2016-01-01T00:00:00",
          "2016-02-01T00:00:00",
          "2016-03-01T00:00:00",
          "2016-04-01T00:00:00",
          "2016-05-01T00:00:00",
          "2016-06-01T00:00:00",
          "2016-07-01T00:00:00",
          "2016-08-01T00:00:00",
          "2016-09-01T00:00:00",
          "2016-10-01T00:00:00",
          "2016-11-01T00:00:00",
          "2016-12-01T00:00:00",
          "2017-01-01T00:00:00",
          "2017-02-01T00:00:00",
          "2017-03-01T00:00:00",
          "2017-04-01T00:00:00",
          "2017-05-01T00:00:00",
          "2017-06-01T00:00:00",
          "2017-07-01T00:00:00",
          "2017-08-01T00:00:00",
          "2017-09-01T00:00:00",
          "2017-10-01T00:00:00",
          "2017-11-01T00:00:00",
          "2017-12-01T00:00:00",
          "2018-01-01T00:00:00",
          "2018-02-01T00:00:00",
          "2018-03-01T00:00:00",
          "2018-04-01T00:00:00",
          "2018-05-01T00:00:00",
          "2018-06-01T00:00:00",
          "2018-07-01T00:00:00",
          "2018-08-01T00:00:00",
          "2018-09-01T00:00:00",
          "2018-10-01T00:00:00",
          "2018-11-01T00:00:00",
          "2018-12-01T00:00:00",
          "2019-01-01T00:00:00",
          "2019-02-01T00:00:00",
          "2019-03-01T00:00:00",
          "2019-04-01T00:00:00",
          "2019-05-01T00:00:00",
          "2019-06-01T00:00:00",
          "2019-07-01T00:00:00",
          "2019-08-01T00:00:00",
          "2019-09-01T00:00:00",
          "2019-10-01T00:00:00",
          "2019-11-01T00:00:00",
          "2019-12-01T00:00:00",
          "2020-01-01T00:00:00",
          "2020-02-01T00:00:00",
          "2020-03-01T00:00:00",
          "2020-04-01T00:00:00",
          "2020-05-01T00:00:00",
          "2020-06-01T00:00:00",
          "2020-07-01T00:00:00",
          "2020-08-01T00:00:00",
          "2020-09-01T00:00:00",
          "2020-10-01T00:00:00",
          "2020-11-01T00:00:00",
          "2020-12-01T00:00:00"
         ],
         "y": [
          0.0370059664376029,
          0,
          0,
          0,
          0,
          0.009278828960513186,
          0,
          0,
          0,
          0.2806267057387057,
          0,
          0.6938267057387058,
          0,
          0.3880937704517705,
          0,
          0,
          0,
          0,
          0,
          0,
          0,
          0,
          0,
          0,
          0,
          0,
          0,
          0,
          0,
          0.25580097102897104,
          0.2347626616190827,
          0,
          0.02960276634476633,
          0.4600371952491952,
          0,
          0,
          0.32934483671283665,
          0,
          0,
          0,
          0,
          0,
          0,
          0,
          0,
          0,
          0,
          0,
          0,
          0,
          0,
          0,
          0,
          0,
          0,
          0,
          0,
          0,
          0.1967420122100123,
          0,
          0,
          0,
          0,
          0.1458925056189208,
          0.7243324200244199,
          0.3126000415361725,
          0.2996543781544733,
          0,
          0.07558826508567679,
          0.386667506163625,
          0.372404087912088,
          0.39628401275872105,
          0.6362712544472395,
          0.685302992796436,
          0.11330496589125155,
          0.08808509528126196,
          0,
          0.16536943165258122,
          0.29321865329379615,
          0.54337822030688,
          0.07733750125481398,
          0.13472474696788175,
          0.09518786857586864,
          0.0544753789813128,
          0.12589719796253135,
          0,
          0,
          0,
          0,
          0.7527914163491867,
          0.819991552767815,
          0.31519021811110687,
          0.39379449383993254,
          0.5971621173377457,
          0.05305928353919387,
          0.1529010109648803,
          0.0323206758870512,
          0.4154355715111281,
          0,
          0,
          0,
          0.3736093220718676,
          0.11249639494228969,
          0.46738681179639086,
          0.7798772771426103,
          0.3318908320306162,
          0,
          0,
          0,
          0,
          0,
          0.02599098170890818,
          0.3980639003219003,
          0.3696477103672766,
          0.4032328424485562,
          0,
          0.10350455862386498,
          0,
          0,
          0.29344960017760013,
          0.32781465669721055,
          0.275997344429068,
          0.10547797471913334,
          0.28130776607011165,
          0.29196113773886123,
          0.3419867972622228,
          0.12097032730611226,
          0.2104614972502245,
          0.27772309611447943,
          0.21128129221080572,
          0.23412961350261352,
          0.15848447516004743,
          0.35350598186421045,
          0.030347210824383353,
          0.2301766430673664,
          0.25522705240925025,
          0.18454815736509084,
          0.0813951360066526,
          0.09123675252061492,
          0.10917890148188208,
          0.3652638774558774,
          0,
          0,
          0.2376338477078478,
          0.3789167543726115,
          0.24442174233625452,
          0.09461976409324549,
          0.009832557453525292,
          0.2400486376119168,
          0.11146452263969797,
          0.19585329426129428,
          0.09264778994515088,
          0.3936193260073261,
          0.17471074051536573,
          0.3932608678229983,
          0.4024074122135729,
          0.26504635657598885,
          0.36123242967188596,
          0.1138148221974104,
          0.06816111687722898,
          0.3819770746186367,
          0.2756375339137588,
          0,
          0.20001594341219142,
          0.3875072913752915,
          0.15107412781930296,
          0.2510085386744793,
          0.3775906207391454,
          0.030366359543032018,
          0.4046652879977103,
          0.316721807969808,
          0.2642720386252678,
          0.0760265847714473,
          0.07217399221395607,
          0.2901014281992981,
          0.3227172155568302,
          0.09180147640594705,
          0.0832283864629072,
          0.06542116542040105,
          0.3884950358060122,
          0.09040010522810527,
          0.08262947030747031,
          0.3681178218155936,
          0.40347238036038036,
          0.36165428722666226,
          0.3978358195138195,
          0.04240403514733193,
          0.4063393050230292,
          0.4261507612387613,
          0,
          0.33273827278373347
         ]
        },
        {
         "marker": {
          "color": "green"
         },
         "name": "Positive Sentiment",
         "type": "bar",
         "visible": "legendonly",
         "x": [
          null
         ],
         "y": [
          null
         ]
        },
        {
         "marker": {
          "color": "red"
         },
         "name": "Negative Sentiment",
         "type": "bar",
         "visible": "legendonly",
         "x": [
          null
         ],
         "y": [
          null
         ]
        }
       ],
       "layout": {
        "hovermode": "x unified",
        "legend": {
         "title": {
          "text": "Legend"
         }
        },
        "margin": {
         "b": 50,
         "l": 50,
         "r": 50,
         "t": 50
        },
        "paper_bgcolor": "rgba(0, 0, 0, 0)",
        "plot_bgcolor": "rgba(0, 0, 0, 0)",
        "template": {
         "data": {
          "bar": [
           {
            "error_x": {
             "color": "#2a3f5f"
            },
            "error_y": {
             "color": "#2a3f5f"
            },
            "marker": {
             "line": {
              "color": "white",
              "width": 0.5
             },
             "pattern": {
              "fillmode": "overlay",
              "size": 10,
              "solidity": 0.2
             }
            },
            "type": "bar"
           }
          ],
          "barpolar": [
           {
            "marker": {
             "line": {
              "color": "white",
              "width": 0.5
             },
             "pattern": {
              "fillmode": "overlay",
              "size": 10,
              "solidity": 0.2
             }
            },
            "type": "barpolar"
           }
          ],
          "carpet": [
           {
            "aaxis": {
             "endlinecolor": "#2a3f5f",
             "gridcolor": "#C8D4E3",
             "linecolor": "#C8D4E3",
             "minorgridcolor": "#C8D4E3",
             "startlinecolor": "#2a3f5f"
            },
            "baxis": {
             "endlinecolor": "#2a3f5f",
             "gridcolor": "#C8D4E3",
             "linecolor": "#C8D4E3",
             "minorgridcolor": "#C8D4E3",
             "startlinecolor": "#2a3f5f"
            },
            "type": "carpet"
           }
          ],
          "choropleth": [
           {
            "colorbar": {
             "outlinewidth": 0,
             "ticks": ""
            },
            "type": "choropleth"
           }
          ],
          "contour": [
           {
            "colorbar": {
             "outlinewidth": 0,
             "ticks": ""
            },
            "colorscale": [
             [
              0,
              "#0d0887"
             ],
             [
              0.1111111111111111,
              "#46039f"
             ],
             [
              0.2222222222222222,
              "#7201a8"
             ],
             [
              0.3333333333333333,
              "#9c179e"
             ],
             [
              0.4444444444444444,
              "#bd3786"
             ],
             [
              0.5555555555555556,
              "#d8576b"
             ],
             [
              0.6666666666666666,
              "#ed7953"
             ],
             [
              0.7777777777777778,
              "#fb9f3a"
             ],
             [
              0.8888888888888888,
              "#fdca26"
             ],
             [
              1,
              "#f0f921"
             ]
            ],
            "type": "contour"
           }
          ],
          "contourcarpet": [
           {
            "colorbar": {
             "outlinewidth": 0,
             "ticks": ""
            },
            "type": "contourcarpet"
           }
          ],
          "heatmap": [
           {
            "colorbar": {
             "outlinewidth": 0,
             "ticks": ""
            },
            "colorscale": [
             [
              0,
              "#0d0887"
             ],
             [
              0.1111111111111111,
              "#46039f"
             ],
             [
              0.2222222222222222,
              "#7201a8"
             ],
             [
              0.3333333333333333,
              "#9c179e"
             ],
             [
              0.4444444444444444,
              "#bd3786"
             ],
             [
              0.5555555555555556,
              "#d8576b"
             ],
             [
              0.6666666666666666,
              "#ed7953"
             ],
             [
              0.7777777777777778,
              "#fb9f3a"
             ],
             [
              0.8888888888888888,
              "#fdca26"
             ],
             [
              1,
              "#f0f921"
             ]
            ],
            "type": "heatmap"
           }
          ],
          "heatmapgl": [
           {
            "colorbar": {
             "outlinewidth": 0,
             "ticks": ""
            },
            "colorscale": [
             [
              0,
              "#0d0887"
             ],
             [
              0.1111111111111111,
              "#46039f"
             ],
             [
              0.2222222222222222,
              "#7201a8"
             ],
             [
              0.3333333333333333,
              "#9c179e"
             ],
             [
              0.4444444444444444,
              "#bd3786"
             ],
             [
              0.5555555555555556,
              "#d8576b"
             ],
             [
              0.6666666666666666,
              "#ed7953"
             ],
             [
              0.7777777777777778,
              "#fb9f3a"
             ],
             [
              0.8888888888888888,
              "#fdca26"
             ],
             [
              1,
              "#f0f921"
             ]
            ],
            "type": "heatmapgl"
           }
          ],
          "histogram": [
           {
            "marker": {
             "pattern": {
              "fillmode": "overlay",
              "size": 10,
              "solidity": 0.2
             }
            },
            "type": "histogram"
           }
          ],
          "histogram2d": [
           {
            "colorbar": {
             "outlinewidth": 0,
             "ticks": ""
            },
            "colorscale": [
             [
              0,
              "#0d0887"
             ],
             [
              0.1111111111111111,
              "#46039f"
             ],
             [
              0.2222222222222222,
              "#7201a8"
             ],
             [
              0.3333333333333333,
              "#9c179e"
             ],
             [
              0.4444444444444444,
              "#bd3786"
             ],
             [
              0.5555555555555556,
              "#d8576b"
             ],
             [
              0.6666666666666666,
              "#ed7953"
             ],
             [
              0.7777777777777778,
              "#fb9f3a"
             ],
             [
              0.8888888888888888,
              "#fdca26"
             ],
             [
              1,
              "#f0f921"
             ]
            ],
            "type": "histogram2d"
           }
          ],
          "histogram2dcontour": [
           {
            "colorbar": {
             "outlinewidth": 0,
             "ticks": ""
            },
            "colorscale": [
             [
              0,
              "#0d0887"
             ],
             [
              0.1111111111111111,
              "#46039f"
             ],
             [
              0.2222222222222222,
              "#7201a8"
             ],
             [
              0.3333333333333333,
              "#9c179e"
             ],
             [
              0.4444444444444444,
              "#bd3786"
             ],
             [
              0.5555555555555556,
              "#d8576b"
             ],
             [
              0.6666666666666666,
              "#ed7953"
             ],
             [
              0.7777777777777778,
              "#fb9f3a"
             ],
             [
              0.8888888888888888,
              "#fdca26"
             ],
             [
              1,
              "#f0f921"
             ]
            ],
            "type": "histogram2dcontour"
           }
          ],
          "mesh3d": [
           {
            "colorbar": {
             "outlinewidth": 0,
             "ticks": ""
            },
            "type": "mesh3d"
           }
          ],
          "parcoords": [
           {
            "line": {
             "colorbar": {
              "outlinewidth": 0,
              "ticks": ""
             }
            },
            "type": "parcoords"
           }
          ],
          "pie": [
           {
            "automargin": true,
            "type": "pie"
           }
          ],
          "scatter": [
           {
            "fillpattern": {
             "fillmode": "overlay",
             "size": 10,
             "solidity": 0.2
            },
            "type": "scatter"
           }
          ],
          "scatter3d": [
           {
            "line": {
             "colorbar": {
              "outlinewidth": 0,
              "ticks": ""
             }
            },
            "marker": {
             "colorbar": {
              "outlinewidth": 0,
              "ticks": ""
             }
            },
            "type": "scatter3d"
           }
          ],
          "scattercarpet": [
           {
            "marker": {
             "colorbar": {
              "outlinewidth": 0,
              "ticks": ""
             }
            },
            "type": "scattercarpet"
           }
          ],
          "scattergeo": [
           {
            "marker": {
             "colorbar": {
              "outlinewidth": 0,
              "ticks": ""
             }
            },
            "type": "scattergeo"
           }
          ],
          "scattergl": [
           {
            "marker": {
             "colorbar": {
              "outlinewidth": 0,
              "ticks": ""
             }
            },
            "type": "scattergl"
           }
          ],
          "scattermapbox": [
           {
            "marker": {
             "colorbar": {
              "outlinewidth": 0,
              "ticks": ""
             }
            },
            "type": "scattermapbox"
           }
          ],
          "scatterpolar": [
           {
            "marker": {
             "colorbar": {
              "outlinewidth": 0,
              "ticks": ""
             }
            },
            "type": "scatterpolar"
           }
          ],
          "scatterpolargl": [
           {
            "marker": {
             "colorbar": {
              "outlinewidth": 0,
              "ticks": ""
             }
            },
            "type": "scatterpolargl"
           }
          ],
          "scatterternary": [
           {
            "marker": {
             "colorbar": {
              "outlinewidth": 0,
              "ticks": ""
             }
            },
            "type": "scatterternary"
           }
          ],
          "surface": [
           {
            "colorbar": {
             "outlinewidth": 0,
             "ticks": ""
            },
            "colorscale": [
             [
              0,
              "#0d0887"
             ],
             [
              0.1111111111111111,
              "#46039f"
             ],
             [
              0.2222222222222222,
              "#7201a8"
             ],
             [
              0.3333333333333333,
              "#9c179e"
             ],
             [
              0.4444444444444444,
              "#bd3786"
             ],
             [
              0.5555555555555556,
              "#d8576b"
             ],
             [
              0.6666666666666666,
              "#ed7953"
             ],
             [
              0.7777777777777778,
              "#fb9f3a"
             ],
             [
              0.8888888888888888,
              "#fdca26"
             ],
             [
              1,
              "#f0f921"
             ]
            ],
            "type": "surface"
           }
          ],
          "table": [
           {
            "cells": {
             "fill": {
              "color": "#EBF0F8"
             },
             "line": {
              "color": "white"
             }
            },
            "header": {
             "fill": {
              "color": "#C8D4E3"
             },
             "line": {
              "color": "white"
             }
            },
            "type": "table"
           }
          ]
         },
         "layout": {
          "annotationdefaults": {
           "arrowcolor": "#2a3f5f",
           "arrowhead": 0,
           "arrowwidth": 1
          },
          "autotypenumbers": "strict",
          "coloraxis": {
           "colorbar": {
            "outlinewidth": 0,
            "ticks": ""
           }
          },
          "colorscale": {
           "diverging": [
            [
             0,
             "#8e0152"
            ],
            [
             0.1,
             "#c51b7d"
            ],
            [
             0.2,
             "#de77ae"
            ],
            [
             0.3,
             "#f1b6da"
            ],
            [
             0.4,
             "#fde0ef"
            ],
            [
             0.5,
             "#f7f7f7"
            ],
            [
             0.6,
             "#e6f5d0"
            ],
            [
             0.7,
             "#b8e186"
            ],
            [
             0.8,
             "#7fbc41"
            ],
            [
             0.9,
             "#4d9221"
            ],
            [
             1,
             "#276419"
            ]
           ],
           "sequential": [
            [
             0,
             "#0d0887"
            ],
            [
             0.1111111111111111,
             "#46039f"
            ],
            [
             0.2222222222222222,
             "#7201a8"
            ],
            [
             0.3333333333333333,
             "#9c179e"
            ],
            [
             0.4444444444444444,
             "#bd3786"
            ],
            [
             0.5555555555555556,
             "#d8576b"
            ],
            [
             0.6666666666666666,
             "#ed7953"
            ],
            [
             0.7777777777777778,
             "#fb9f3a"
            ],
            [
             0.8888888888888888,
             "#fdca26"
            ],
            [
             1,
             "#f0f921"
            ]
           ],
           "sequentialminus": [
            [
             0,
             "#0d0887"
            ],
            [
             0.1111111111111111,
             "#46039f"
            ],
            [
             0.2222222222222222,
             "#7201a8"
            ],
            [
             0.3333333333333333,
             "#9c179e"
            ],
            [
             0.4444444444444444,
             "#bd3786"
            ],
            [
             0.5555555555555556,
             "#d8576b"
            ],
            [
             0.6666666666666666,
             "#ed7953"
            ],
            [
             0.7777777777777778,
             "#fb9f3a"
            ],
            [
             0.8888888888888888,
             "#fdca26"
            ],
            [
             1,
             "#f0f921"
            ]
           ]
          },
          "colorway": [
           "#636efa",
           "#EF553B",
           "#00cc96",
           "#ab63fa",
           "#FFA15A",
           "#19d3f3",
           "#FF6692",
           "#B6E880",
           "#FF97FF",
           "#FECB52"
          ],
          "font": {
           "color": "#2a3f5f"
          },
          "geo": {
           "bgcolor": "white",
           "lakecolor": "white",
           "landcolor": "white",
           "showlakes": true,
           "showland": true,
           "subunitcolor": "#C8D4E3"
          },
          "hoverlabel": {
           "align": "left"
          },
          "hovermode": "closest",
          "mapbox": {
           "style": "light"
          },
          "paper_bgcolor": "white",
          "plot_bgcolor": "white",
          "polar": {
           "angularaxis": {
            "gridcolor": "#EBF0F8",
            "linecolor": "#EBF0F8",
            "ticks": ""
           },
           "bgcolor": "white",
           "radialaxis": {
            "gridcolor": "#EBF0F8",
            "linecolor": "#EBF0F8",
            "ticks": ""
           }
          },
          "scene": {
           "xaxis": {
            "backgroundcolor": "white",
            "gridcolor": "#DFE8F3",
            "gridwidth": 2,
            "linecolor": "#EBF0F8",
            "showbackground": true,
            "ticks": "",
            "zerolinecolor": "#EBF0F8"
           },
           "yaxis": {
            "backgroundcolor": "white",
            "gridcolor": "#DFE8F3",
            "gridwidth": 2,
            "linecolor": "#EBF0F8",
            "showbackground": true,
            "ticks": "",
            "zerolinecolor": "#EBF0F8"
           },
           "zaxis": {
            "backgroundcolor": "white",
            "gridcolor": "#DFE8F3",
            "gridwidth": 2,
            "linecolor": "#EBF0F8",
            "showbackground": true,
            "ticks": "",
            "zerolinecolor": "#EBF0F8"
           }
          },
          "shapedefaults": {
           "line": {
            "color": "#2a3f5f"
           }
          },
          "ternary": {
           "aaxis": {
            "gridcolor": "#DFE8F3",
            "linecolor": "#A2B1C6",
            "ticks": ""
           },
           "baxis": {
            "gridcolor": "#DFE8F3",
            "linecolor": "#A2B1C6",
            "ticks": ""
           },
           "bgcolor": "white",
           "caxis": {
            "gridcolor": "#DFE8F3",
            "linecolor": "#A2B1C6",
            "ticks": ""
           }
          },
          "title": {
           "x": 0.05
          },
          "xaxis": {
           "automargin": true,
           "gridcolor": "#EBF0F8",
           "linecolor": "#EBF0F8",
           "ticks": "",
           "title": {
            "standoff": 15
           },
           "zerolinecolor": "#EBF0F8",
           "zerolinewidth": 2
          },
          "yaxis": {
           "automargin": true,
           "gridcolor": "#EBF0F8",
           "linecolor": "#EBF0F8",
           "ticks": "",
           "title": {
            "standoff": 15
           },
           "zerolinecolor": "#EBF0F8",
           "zerolinewidth": 2
          }
         }
        },
        "title": {
         "text": "Stock Price and Sentiment Analysis: Banco Comercial Português"
        },
        "xaxis": {
         "linecolor": "black",
         "showline": true,
         "title": {
          "text": "Date"
         },
         "zeroline": false
        },
        "yaxis": {
         "linecolor": "black",
         "range": [
          0,
          4.34679
         ],
         "showline": true,
         "title": {
          "text": "Stock Price (€) / Sentiment (0-1)"
         },
         "zeroline": false
        }
       }
      }
     },
     "metadata": {},
     "output_type": "display_data"
    },
    {
     "data": {
      "application/vnd.plotly.v1+json": {
       "config": {
        "plotlyServerURL": "https://plot.ly"
       },
       "data": [
        {
         "mode": "lines",
         "name": "Stock Price",
         "type": "scatter",
         "x": [
          "2007-02-01T00:00:00",
          "2007-03-01T00:00:00",
          "2007-04-01T00:00:00",
          "2007-05-01T00:00:00",
          "2007-06-01T00:00:00",
          "2007-07-01T00:00:00",
          "2007-08-01T00:00:00",
          "2007-09-01T00:00:00",
          "2007-10-01T00:00:00",
          "2007-11-01T00:00:00",
          "2007-12-01T00:00:00",
          "2008-01-01T00:00:00",
          "2008-02-01T00:00:00",
          "2008-03-01T00:00:00",
          "2008-04-01T00:00:00",
          "2008-05-01T00:00:00",
          "2008-06-01T00:00:00",
          "2008-07-01T00:00:00",
          "2008-08-01T00:00:00",
          "2008-09-01T00:00:00",
          "2008-10-01T00:00:00",
          "2008-11-01T00:00:00",
          "2008-12-01T00:00:00",
          "2009-01-01T00:00:00",
          "2009-02-01T00:00:00",
          "2009-03-01T00:00:00",
          "2009-04-01T00:00:00",
          "2009-05-01T00:00:00",
          "2009-06-01T00:00:00",
          "2009-07-01T00:00:00",
          "2009-08-01T00:00:00",
          "2009-09-01T00:00:00",
          "2009-10-01T00:00:00",
          "2009-11-01T00:00:00",
          "2009-12-01T00:00:00",
          "2010-01-01T00:00:00",
          "2010-02-01T00:00:00",
          "2010-03-01T00:00:00",
          "2010-04-01T00:00:00",
          "2010-05-01T00:00:00",
          "2010-06-01T00:00:00",
          "2010-07-01T00:00:00",
          "2010-08-01T00:00:00",
          "2010-09-01T00:00:00",
          "2010-10-01T00:00:00",
          "2010-11-01T00:00:00",
          "2010-12-01T00:00:00",
          "2011-01-01T00:00:00",
          "2011-02-01T00:00:00",
          "2011-03-01T00:00:00",
          "2011-04-01T00:00:00",
          "2011-05-01T00:00:00",
          "2011-06-01T00:00:00",
          "2011-07-01T00:00:00",
          "2011-08-01T00:00:00",
          "2011-09-01T00:00:00",
          "2011-10-01T00:00:00",
          "2011-11-01T00:00:00",
          "2011-12-01T00:00:00",
          "2012-01-01T00:00:00",
          "2012-02-01T00:00:00",
          "2012-03-01T00:00:00",
          "2012-04-01T00:00:00",
          "2012-05-01T00:00:00",
          "2012-06-01T00:00:00",
          "2012-07-01T00:00:00",
          "2012-08-01T00:00:00",
          "2012-09-01T00:00:00",
          "2012-10-01T00:00:00",
          "2012-11-01T00:00:00",
          "2012-12-01T00:00:00",
          "2013-01-01T00:00:00",
          "2013-02-01T00:00:00",
          "2013-03-01T00:00:00",
          "2013-04-01T00:00:00",
          "2013-05-01T00:00:00",
          "2013-06-01T00:00:00",
          "2013-07-01T00:00:00",
          "2013-08-01T00:00:00",
          "2013-09-01T00:00:00",
          "2013-10-01T00:00:00",
          "2013-11-01T00:00:00",
          "2013-12-01T00:00:00",
          "2014-01-01T00:00:00",
          "2014-02-01T00:00:00",
          "2014-03-01T00:00:00",
          "2014-04-01T00:00:00",
          "2014-05-01T00:00:00",
          "2014-06-01T00:00:00",
          "2014-07-01T00:00:00",
          "2014-08-01T00:00:00",
          "2014-09-01T00:00:00",
          "2014-10-01T00:00:00",
          "2014-11-01T00:00:00",
          "2014-12-01T00:00:00",
          "2015-01-01T00:00:00",
          "2015-02-01T00:00:00",
          "2015-03-01T00:00:00",
          "2015-04-01T00:00:00",
          "2015-05-01T00:00:00",
          "2015-06-01T00:00:00",
          "2015-07-01T00:00:00",
          "2015-08-01T00:00:00",
          "2015-09-01T00:00:00",
          "2015-10-01T00:00:00",
          "2015-11-01T00:00:00",
          "2015-12-01T00:00:00",
          "2016-01-01T00:00:00",
          "2016-02-01T00:00:00",
          "2016-03-01T00:00:00",
          "2016-04-01T00:00:00",
          "2016-05-01T00:00:00",
          "2016-06-01T00:00:00",
          "2016-07-01T00:00:00",
          "2016-08-01T00:00:00",
          "2016-09-01T00:00:00",
          "2016-10-01T00:00:00",
          "2016-11-01T00:00:00",
          "2016-12-01T00:00:00",
          "2017-01-01T00:00:00",
          "2017-02-01T00:00:00",
          "2017-03-01T00:00:00",
          "2017-04-01T00:00:00",
          "2017-05-01T00:00:00",
          "2017-06-01T00:00:00",
          "2017-07-01T00:00:00",
          "2017-08-01T00:00:00",
          "2017-09-01T00:00:00",
          "2017-10-01T00:00:00",
          "2017-11-01T00:00:00",
          "2017-12-01T00:00:00",
          "2018-01-01T00:00:00",
          "2018-02-01T00:00:00",
          "2018-03-01T00:00:00",
          "2018-04-01T00:00:00",
          "2018-05-01T00:00:00",
          "2018-06-01T00:00:00",
          "2018-07-01T00:00:00",
          "2018-08-01T00:00:00",
          "2018-09-01T00:00:00",
          "2018-10-01T00:00:00",
          "2018-11-01T00:00:00",
          "2018-12-01T00:00:00",
          "2019-01-01T00:00:00",
          "2019-02-01T00:00:00",
          "2019-03-01T00:00:00",
          "2019-04-01T00:00:00",
          "2019-05-01T00:00:00",
          "2019-06-01T00:00:00",
          "2019-07-01T00:00:00",
          "2019-08-01T00:00:00",
          "2019-09-01T00:00:00",
          "2019-10-01T00:00:00",
          "2019-11-01T00:00:00",
          "2019-12-01T00:00:00",
          "2020-01-01T00:00:00",
          "2020-02-01T00:00:00",
          "2020-03-01T00:00:00",
          "2020-04-01T00:00:00",
          "2020-05-01T00:00:00",
          "2020-06-01T00:00:00",
          "2020-07-01T00:00:00",
          "2020-08-01T00:00:00",
          "2020-09-01T00:00:00",
          "2020-10-01T00:00:00",
          "2020-11-01T00:00:00",
          "2020-12-01T00:00:00"
         ],
         "y": [
          6.8901,
          7.3718,
          7.8141,
          9.0034,
          9.7799,
          10.7922,
          10.8021,
          10.6448,
          10.9397,
          14.5567,
          18.0755,
          14.9008,
          16.5717,
          14.8516,
          15.2939,
          15.9328,
          13.9179,
          11.7063,
          13.4952,
          11.441,
          7.0621,
          8.4382,
          7.0572,
          8.1974,
          8.6004,
          8.8264,
          9.9273,
          10.9298,
          9.829,
          9.023,
          9.9273,
          11.6179,
          11.2444,
          11.8095,
          11.8734,
          11.3574,
          11.7211,
          12.6401,
          11.8243,
          11.9226,
          12.0897,
          12.3354,
          12.6008,
          12.4435,
          13.623,
          12.6794,
          12.4918,
          14.655,
          14.8172,
          14.8467,
          14.8467,
          14.4585,
          16.1687,
          15.4758,
          13.6672,
          13.505,
          14.7238,
          12.2174,
          11.1854,
          12.1241,
          12.8662,
          12.129,
          11.6867,
          9.4614,
          9.829,
          10.8119,
          11.7407,
          12.4042,
          12.1388,
          11.5884,
          11.5589,
          11.7604,
          11.6179,
          12.011,
          11.9619,
          12.4337,
          11.1805,
          11.7948,
          12.5172,
          12.0848,
          12.2666,
          11.9865,
          11.7113,
          11.2837,
          11.9717,
          12.3207,
          12.2715,
          12.7777,
          13.1512,
          13.0333,
          13.2692,
          12.6499,
          11.1559,
          9.6324,
          8.2947,
          9.2039,
          10.3254,
          9.8929,
          11.9816,
          10.5367,
          10.3401,
          10.3696,
          9.2363,
          8.6485,
          9.6688,
          9.8978,
          10.6055,
          10.7234,
          9.9371,
          10.861,
          11.7899,
          11.5786,
          12.2863,
          12.0012,
          12.8072,
          11.957,
          12.1388,
          12.5467,
          13.9474,
          13.3871,
          13.6525,
          13.9818,
          14.026,
          13.4952,
          13.0283,
          13.3085,
          13.6721,
          14.7386,
          15.6871,
          15.5839,
          15.0629,
          15.1072,
          14.6157,
          15.0433,
          15.6429,
          15.6232,
          16.0557,
          17.2892,
          17.2204,
          16.7978,
          15.1317,
          14.2668,
          13.5591,
          13.4117,
          14.1832,
          14.0358,
          14.714,
          13.2495,
          13.2937,
          13.8441,
          12.8367,
          13.5886,
          14.0358,
          14.5223,
          14.6452,
          13.4068,
          12.1585,
          10.2172,
          10.3352,
          10.5318,
          10.119,
          8.7478,
          8.8186,
          7.7767,
          6.8351,
          8.8893,
          8.6043
         ]
        },
        {
         "hoverlabel": {
          "namelength": 0
         },
         "hovertemplate": [
          "<b>Top 10 Words :</b><br>consórcio<br>Galp<br>Galp Energia<br>anos<br>contratos<br>costa<br>largo<br>petróleo<br>produção<br>prospecção",
          "News not found.",
          "News not found.",
          "News not found.",
          "News not found.",
          "News not found.",
          "News not found.",
          "News not found.",
          "<b>Top 10 Words :</b><br>Angola<br>euros<br>Bloco 32<br>Galp Energia<br>Sines<br>descoberta<br>milhïżœes<br>Galp<br>RDP Madeira<br>concessïżœo",
          "<b>Top 10 Words :</b><br>Venezuela<br>Galp<br>presidente<br>central<br>RDP Madeira<br>acordo<br>investimento<br>Galp Energia<br>empresa<br>empresas",
          "News not found.",
          "<b>Top 10 Words :</b><br>Trabalho<br>argumentos<br>aumento<br>causa<br>combustíveis<br>gasolinas<br>postos<br>preço<br>preços",
          "News not found.",
          "News not found.",
          "News not found.",
          "News not found.",
          "News not found.",
          "News not found.",
          "News not found.",
          "News not found.",
          "News not found.",
          "News not found.",
          "News not found.",
          "News not found.",
          "News not found.",
          "News not found.",
          "News not found.",
          "News not found.",
          "News not found.",
          "News not found.",
          "News not found.",
          "News not found.",
          "News not found.",
          "News not found.",
          "News not found.",
          "News not found.",
          "News not found.",
          "<b>Top 10 Words :</b><br>greve<br>empresa<br>dias<br>abastecimento<br>Galp<br>Galp Energia<br>administração<br>aumento<br>portugueses<br>presidente",
          "<b>Top 10 Words :</b><br>combustíveis<br>BP<br>Blogue<br>Galp<br>preço<br>preços<br>semana<br>subida<br>dólares<br>petrolífera",
          "<b>Top 10 Words :</b><br>Galp<br>greve<br>Galp Energia<br>Petrobras<br>Economia<br>empresa<br>euros<br>projecto<br>acordo<br>adesão",
          "<b>Top 10 Words :</b><br>Galp<br>Sines<br>central<br>Galp Energia<br>Economia<br>International Power<br>acordo<br>construção<br>euros<br>investimento",
          "<b>Top 10 Words :</b><br>Galp<br>PT<br>Bolsa portuguesa<br>alta<br>euros<br>Alexandra Lucas Coelho<br>Economia<br>Escola Projecto<br>Infografias<br>Iniciativas",
          "<b>Top 10 Words :</b><br>Galp<br>Lisboagas<br>Lusitaniagas<br>capital<br>EDP<br>Lisboa<br>Setgas<br>empresa<br>euros<br>participações",
          "<b>Top 10 Words :</b><br>Galp<br>obrigações<br>euros<br>Estado<br>Lisboa<br>empresa<br>obra<br>acções<br>emissão<br>semana",
          "<b>Top 10 Words :</b><br>trimestre<br>Galp<br>bomba<br>diferença<br>efeito<br>euros<br>preço<br>produtos<br>produção<br>vendas",
          "News not found.",
          "<b>Top 10 Words :</b><br>Galp<br>petróleo<br>preço<br>CCDRN<br>Petrogal<br>benzeno<br>refinaria<br>Economia<br>Tupi<br>poço",
          "<b>Top 10 Words :</b><br>Galp<br>PT<br>Petrobras<br>Eni<br>Escutas<br>Galp Energia<br>empresas<br>PSD<br>Sonangol<br>capital",
          "<b>Top 10 Words :</b><br>Galp<br>negociações<br>Petrobras<br>participação<br>Sócrates<br>Sonangol<br>acordo<br>retoma<br>Galp Energia<br>Estado",
          "<b>Top 10 Words :</b><br>Escutas<br>PT<br>PSD<br>Sócrates<br>negócio<br>DIAP<br>PGR<br>comissão<br>inquérito<br>Galp",
          "<b>Top 10 Words :</b><br>Escutas<br>PT<br>PSD<br>Sócrates<br>negócio<br>DIAP<br>PGR<br>comissão<br>inquérito<br>resposta",
          "<b>Top 10 Words :</b><br>Galp<br>Portugal<br>Sócrates<br>PSD<br>euros<br>resposta<br>Estado<br>anos<br>Escutas<br>PS",
          "<b>Top 10 Words :</b><br>Escutas<br>PT<br>Sócrates<br>PSD<br>negócio<br>DIAP<br>PGR<br>inquérito<br>Figo<br>Godinho",
          "<b>Top 10 Words :</b><br>PT<br>Escutas<br>Galp<br>negócio<br>PSD<br>Sócrates<br>resposta<br>DIAP<br>PGR<br>EDP",
          "<b>Top 10 Words :</b><br>refinaria<br>Explosão<br>Matosinhos<br>PSD<br>incêndio<br>Leça da Palmeira<br>concelho<br>Galp Energia<br>Local<br>envolvimento",
          "<b>Top 10 Words :</b><br>euros<br>Galp<br>vida<br>Matosinhos<br>refinaria<br>administração<br>linha<br>Economia<br>Galp Energia<br>Murteira Nabo",
          "<b>Top 10 Words :</b><br>PT<br>Escutas<br>Galp<br>resposta<br>Sócrates<br>negócio<br>PGR<br>PSD<br>comissão<br>despedimentos",
          "<b>Top 10 Words :</b><br>Galp<br>euros<br>empresa<br>Brasil<br>Portugal<br>aeroporto<br>fuga<br>combustível<br>aeroporto de Lisboa<br>conta",
          "<b>Top 10 Words :</b><br>petróleo<br>poço<br>horas<br>minutos<br>Brasil<br>qualidade<br>resposta<br>Anónimo<br>Galp<br>Passos",
          "<b>Top 10 Words :</b><br>Galp<br>Galp Energia<br>euros<br>empresa<br>BES<br>accionista<br>administradores<br>Eni<br>PSI20<br>decurso",
          "<b>Top 10 Words :</b><br>resposta<br>minutos<br>horas<br>Galp<br>euros<br>lucros<br>Anónimo<br>Economia<br>conta<br>dados",
          "<b>Top 10 Words :</b><br>Galp<br>petróleo<br>resposta<br>Brasil<br>Economia<br>combustíveis<br>preço<br>caixas<br>horas<br>minutos",
          "News not found.",
          "News not found.",
          "News not found.",
          "<b>Top 10 Words :</b><br>resposta<br>euros<br>Anónimo<br>Galp<br>conta<br>EUA<br>Economia<br>caixas<br>dados<br>dificuldade",
          "<b>Top 10 Words :</b><br>Galp<br>Fundações<br>EDP<br>greve<br>nota<br>PSI20<br>apoios<br>Economia<br>Estado<br>Fundação Galp Energia",
          "<b>Top 10 Words :</b><br>bomba<br>Galp<br>automóvel<br>ATUALIZADA<br>CÂMARA<br>Despiste<br>Global Imagens<br>Lisboa<br>Orlando Almeida<br>PSP",
          "<b>Top 10 Words :</b><br>horas<br>euros<br>greve<br>minutos<br>resposta<br>caixas<br>trabalhadores<br>Anónimo<br>BCP<br>Economia",
          "<b>Top 10 Words :</b><br>Galp<br>greve<br>mercado<br>Galp Energia<br>combustíveis<br>electricidade<br>empresa<br>euros<br>Gás de Portugal<br>Gémeas Cargas",
          "<b>Top 10 Words :</b><br>Galp<br>greve<br>mercado<br>participação<br>Gémeas Cargas<br>acordo<br>trabalhadores<br>empresa<br>Loja Emprego<br>electricidade",
          "<b>Top 10 Words :</b><br>Galp<br>Portugal<br>acordo<br>euros<br>mercado<br>participação<br>Gémeas Cargas<br>greve<br>empresas<br>assinatura",
          "<b>Top 10 Words :</b><br>Galp<br>euros<br>acordo<br>clientes<br>empresa<br>mercado<br>Espanha<br>exploração<br>Portugal<br>aumento",
          "<b>Top 10 Words :</b><br>euros<br>Portugal<br>anos<br>Governo<br>Estado<br>exploração<br>Passos<br>petróleo<br>troika<br>salário",
          "News not found.",
          "News not found.",
          "News not found.",
          "News not found.",
          "<b>Top 10 Words :</b><br>Galp<br>resposta<br>poço<br>BCP<br>exploração<br>caixas<br>dias<br>Anónimo<br>conta<br>dados",
          "<b>Top 10 Words :</b><br>Angola<br>Portugal<br>acesso<br>compras<br>assinatura<br>campo<br>condições<br>custo<br>código<br>nota",
          "<b>Top 10 Words :</b><br>sector<br>euros<br>Governo<br>contribuição<br>Taxa<br>impacto<br>Galp Energia<br>Portugal<br>distribuição<br>transporte",
          "<b>Top 10 Words :</b><br>Portugal<br>mundo<br>euros<br>acesso<br>assinatura<br>Governo<br>Galp<br>Restantes<br>VISA<br>aumento",
          "News not found.",
          "News not found.",
          "News not found.",
          "News not found.",
          "<b>Top 10 Words :</b><br>Galp<br>mundo<br>euros<br>Portugal<br>produção<br>concessão<br>empresa<br>Galp Energia<br>Restantes<br>VISA",
          "<b>Top 10 Words :</b><br>Galp<br>mundo<br>euros<br>contratos<br>Portugal<br>mercado<br>venda<br>presidente<br>empresa<br>concessão",
          "<b>Top 10 Words :</b><br>empresas<br>contratos<br>mundo<br>AdC<br>causa<br>nota<br>presidente<br>António Ferreira Gomes<br>EGF<br>Galp",
          "<b>Top 10 Words :</b><br>mundo<br>armazenamento<br>Leilão<br>Deco<br>euros<br>Galp<br>Galp Energia<br>REN<br>Portugal<br>concessão",
          "<b>Top 10 Words :</b><br>BES<br>Governo<br>euros<br>clientes<br>cortes<br>Galp<br>Galp Energia<br>Portugal<br>dívida<br>salário",
          "<b>Top 10 Words :</b><br>Galp<br>euros<br>armazenamento<br>Portugal<br>Galp Energia<br>Leilão<br>REN<br>Deco<br>clientes<br>electricidade",
          "<b>Top 10 Words :</b><br>Galp<br>Portugal<br>VISA<br>débito<br>Economia<br>mundo<br>pagamentos<br>Restantes<br>artigos<br>empresa",
          "<b>Top 10 Words :</b><br>Galp<br>REN<br>contribuição<br>empresas<br>euros<br>Economia<br>Governo<br>Portugal<br>VISA<br>débito",
          "<b>Top 10 Words :</b><br>Galp<br>Moçambique<br>REN<br>concurso<br>petróleo<br>participação<br>Governo<br>Portugal<br>Rovuma<br>bacia",
          "<b>Top 10 Words :</b><br>Galp<br>euros<br>PSI20<br>produção<br>venda<br>Portugal<br>campanha<br>clientes<br>contratos<br>data",
          "<b>Top 10 Words :</b><br>Galp<br>euros<br>distribuidores<br>práticas<br>mercado<br>multa<br>AdC<br>Autoridade da Concorrência<br>Ontem<br>empresa",
          "<b>Top 10 Words :</b><br>Galp<br>Galp Energia<br>contribuição<br>anos<br>Ana Brito<br>euros<br>presidente<br>Ferreira de Oliveira<br>petróleo<br>investimento",
          "<b>Top 10 Words :</b><br>Galp<br>euros<br>anos<br>empresa<br>Galp Energia<br>artigos<br>dias<br>presidente<br>Portugal<br>petrolífera",
          "<b>Top 10 Words :</b><br>Moçambique<br>mercado<br>Ontem<br>euros<br>refinação<br>Galp<br>trimestre<br>Carlos Gomes da Silva<br>MAI<br>aumento",
          "<b>Top 10 Words :</b><br>Galp<br>petróleo<br>refinação<br>Portugal<br>aumento<br>empresa<br>margens<br>negócio<br>queda<br>Angola",
          "<b>Top 10 Words :</b><br>lucros<br>semestre<br>Galp<br>euros<br>Galp Energia<br>produção<br>petróleo<br>Partex<br>blocos<br>operadoras",
          "<b>Top 10 Words :</b><br>Espanha<br>Galp<br>combustíveis<br>negócio<br>euros<br>África<br>postos<br>venda<br>Ana Brito<br>Portugal",
          "<b>Top 10 Words :</b><br>Galp Energia<br>anos<br>General Motors<br>Portugal<br>empresa<br>ação<br>campanha<br>gestor<br>período<br>Marques Gonçalves",
          "<b>Top 10 Words :</b><br>petróleo<br>produção<br>Galp<br>Galp Energia<br>euros<br>empresa<br>trimestre<br>Brasil<br>barris<br>segurança",
          "<b>Top 10 Words :</b><br>Galp<br>petróleo<br>exploração<br>Galp Energia<br>euros<br>Brasil<br>produção<br>Setgás<br>consórcio<br>líder",
          "<b>Top 10 Words :</b><br>Galp<br>projeto<br>Moçambique<br>anos<br>Galp Energia<br>Portugal<br>euros<br>Governo<br>arranque<br>empresa",
          "<b>Top 10 Words :</b><br>euros<br>Galp<br>coima<br>Bruxelas<br>Tribunal da Concorrência<br>empresa<br>Galp Energia<br>decisão<br>tribunal<br>AdC",
          "<b>Top 10 Words :</b><br>Galp<br>euros<br>empresa<br>Galp Energia<br>Portugal<br>VISA<br>artigos<br>débito<br>emissão<br>pagamentos",
          "<b>Top 10 Words :</b><br>Galp<br>petróleo<br>produção<br>país<br>Irão<br>embargo<br>unidades<br>Nicolau Breyner<br>Portugal<br>anos",
          "<b>Top 10 Words :</b><br>Galp<br>petróleo<br>investimento<br>produção<br>Ana Brito<br>Brasil<br>petrolífera<br>Portugal<br>anos<br>empresa",
          "<b>Top 10 Words :</b><br>Galp<br>petróleo<br>euros<br>trimestre<br>empresa<br>Ana Brito<br>preço<br>produção<br>Espanha<br>dólares",
          "<b>Top 10 Words :</b><br>Galp<br>euros<br>tarifa<br>empresa<br>aplicação<br>Portugal<br>Regulador<br>consumidores<br>direitos<br>Galp Power",
          "<b>Top 10 Words :</b><br>Galp<br>Statoil<br>ativo<br>euros<br>Brasil<br>Carcará<br>entrada<br>concorrência<br>Petrobras<br>petrolífera",
          "<b>Top 10 Words :</b><br>Galp<br>viagens<br>Estado<br>Governo<br>caso<br>secretários<br>convite<br>secretário<br>código<br>conduta",
          "<b>Top 10 Words :</b><br>Galp<br>convite<br>viagens<br>Portugal<br>empresa<br>euros<br>António Costa<br>Estado<br>França<br>Governo",
          "News not found.",
          "<b>Top 10 Words :</b><br>acordo<br>administração<br>prazo<br>Carlos Costa Pina<br>José Sócrates<br>Portugal<br>VISA<br>artigos<br>débito<br>lista",
          "News not found.",
          "<b>Top 10 Words :</b><br>AdC<br>Galp<br>Galp Energia<br>recurso<br>Santander Totta<br>capital<br>coima<br>decisão<br>mercado<br>redução",
          "<b>Top 10 Words :</b><br>Galp<br>Brasil<br>euros<br>investimento<br>Angola<br>Feb<br>anos<br>produção<br>unidades<br>ação",
          "<b>Top 10 Words :</b><br>serviços<br>assistência<br>Galp<br>EDP<br>Reclamações<br>causa<br>Deco<br>contratos<br>Feb<br>Portugal",
          "<b>Top 10 Words :</b><br>Galp<br>convite<br>produção<br>trimestre<br>empresa<br>período<br>França<br>consciência<br>viagem<br>Governo",
          "<b>Top 10 Words :</b><br>Galp<br>produção<br>euros<br>trimestre<br>Brasil<br>empresa<br>período<br>Amorim<br>ME<br>Portugal",
          "<b>Top 10 Words :</b><br>Galp<br>euros<br>Parpública<br>acções<br>investimento<br>petrolífera<br>Estado<br>Moçambique<br>acordo<br>empresa",
          "<b>Top 10 Words :</b><br>Galp<br>viagens<br>Sócrates<br>país<br>euros<br>Jul<br>caso<br>CESE<br>anos<br>empresa",
          "<b>Top 10 Words :</b><br>Galp<br>presidente<br>petróleo<br>Carlos Gomes da Silva<br>empresa<br>Galp Energia<br>Alentejo<br>preferência<br>viagens<br>concessões",
          "<b>Top 10 Words :</b><br>ação<br>Galp<br>intercalar<br>empresa<br>presidente<br>Ago<br>Euro 2016<br>dividendo<br>país<br>penas",
          "<b>Top 10 Words :</b><br>Brasil<br>petróleo<br>Galp<br>participação<br>bloco<br>Out<br>trimestre<br>produção<br>euros<br>Statoil",
          "<b>Top 10 Words :</b><br>PSI20<br>BCP<br>CTT<br>descidas<br>Nov<br>Out<br>Euro 2016<br>Galp<br>Liga dos Campeões<br>Madrid",
          "<b>Top 10 Words :</b><br>greve<br>trabalhadores<br>Arménio Carlos<br>empresas<br>refinaria<br>CGTP<br>Governo<br>Matosinhos<br>administração<br>contratação",
          "<b>Top 10 Words :</b><br>Sines<br>frente<br>refinaria<br>sede<br>trabalhadores<br>Jan<br>eletricidade<br>Galp<br>direitos<br>história",
          "<b>Top 10 Words :</b><br>Galp<br>Repsol<br>falha<br>trimestre<br>Lisboa<br>Intermarché<br>Jan<br>exclusivo<br>direitos<br>euros",
          "<b>Top 10 Words :</b><br>Galp<br>Sonangol<br>investimento<br>Brasil<br>Podo<br>banco<br>investimentos<br>Espanha<br>compra<br>eletricidade",
          "<b>Top 10 Words :</b><br>trabalhadores<br>Galp<br>Sines<br>frente<br>refinaria<br>sede<br>empresa<br>pagamento<br>prémios<br>Abr",
          "<b>Top 10 Words :</b><br>Galp<br>acordo<br>consórcio<br>petróleo<br>anos<br>compra<br>concessão<br>pesquisa<br>Governo<br>Venture Global",
          "<b>Top 10 Words :</b><br>Galp<br>Parpública<br>viagens<br>Estado<br>accionista<br>TAP<br>website<br>Euro 2016<br>empresa<br>conta",
          "<b>Top 10 Words :</b><br>Galp<br>petróleo<br>produção<br>rede<br>mercado<br>trimestre<br>veículos<br>conta<br>empresa<br>website",
          "<b>Top 10 Words :</b><br>euros<br>Galp<br>greve<br>PSI20<br>ganhos<br>anos<br>Moçambique<br>Trabalho<br>petrolífera<br>trabalhadores",
          "<b>Top 10 Words :</b><br>euros<br>Galp<br>petróleo<br>exploração<br>investimento<br>subidas<br>PSI20<br>produção<br>petrolífera<br>Galp Energia",
          "<b>Top 10 Words :</b><br>Galp<br>euros<br>pagamento<br>atraso<br>clientes<br>furo<br>petróleo<br>empresa<br>exploração<br>decisão",
          "<b>Top 10 Words :</b><br>Galp<br>empresa<br>euros<br>mercado<br>petróleo<br>preço<br>pagamento<br>CNMC<br>multa<br>Espanha",
          "<b>Top 10 Words :</b><br>greve<br>eletricidade<br>Galp<br>processo<br>trabalhadores<br>euros<br>arguidos<br>empresas<br>mercado<br>multa",
          "News not found.",
          "<b>Top 10 Words :</b><br>euros<br>Galp<br>produção<br>petróleo<br>Brasil<br>conta<br>entrada<br>Estado<br>exploração<br>secretários",
          "<b>Top 10 Words :</b><br>Galp<br>conta<br>Adolfo Mesquita Nunes<br>CDS<br>BCP<br>Estado<br>administração<br>destaque<br>dividendos<br>empresa",
          "<b>Top 10 Words :</b><br>euros<br>Galp<br>produção<br>resultados<br>petróleo<br>resultado<br>aumento<br>conta<br>impacto<br>refinação",
          "<b>Top 10 Words :</b><br>arguidos<br>Galp<br>acusação<br>Estado<br>convites<br>funções<br>viagens<br>MP<br>despacho<br>direito",
          "<b>Top 10 Words :</b><br>Galp<br>Estado<br>viagens<br>Governo<br>petróleo<br>arguidos<br>consórcio<br>pesquisa<br>Galpgate<br>investigação",
          "<b>Top 10 Words :</b><br>Tagusgás<br>euros<br>distribuição<br>compra<br>concessão<br>conta<br>Em Portugal<br>Santarém<br>aquisição<br>capital",
          "<b>Top 10 Words :</b><br>Galp<br>contratos<br>Governo<br>mobilidade<br>conclusão<br>avaliação<br>filha<br>ideias<br>presidência<br>procura",
          "<b>Top 10 Words :</b><br>Galp<br>anos<br>Governo<br>consórcio<br>petróleo<br>Estado<br>costa<br>Galp Energia<br>concessão<br>viagens",
          "<b>Top 10 Words :</b><br>Galp<br>BCP<br>conta<br>Estado<br>anos<br>terreno<br>convite<br>petróleo<br>Galp Energia<br>empresa",
          "<b>Top 10 Words :</b><br>Galp<br>BCP<br>euros<br>António Costa<br>Governo<br>petróleo<br>terreno<br>Galp Energia<br>consórcio<br>pesquisa",
          "<b>Top 10 Words :</b><br>BCP<br>combustíveis<br>Galp<br>país<br>bombas<br>terreno<br>Ferreira de Oliveira<br>impostos<br>Governo<br>conta",
          "<b>Top 10 Words :</b><br>Galp<br>conta<br>combustíveis<br>empresa<br>postos<br>euros<br>destaque<br>petróleo<br>empresas<br>país",
          "<b>Top 10 Words :</b><br>Galp<br>Isabel dos Santos<br>euros<br>empresa<br>Estado<br>Amorim Energia<br>Sonangol<br>petrolífera<br>pausas<br>Galp Energia",
          "<b>Top 10 Words :</b><br>EDP<br>Galp<br>ganhos<br>PSI20<br>euros<br>A bolsa de Lisboa<br>Nosso Futuro<br>O Essencial<br>Parcerias Anunciar Aplicações móveis Concursos<br>apoios",
          "<b>Top 10 Words :</b><br>Galp<br>conta<br>dividendos<br>refinaria<br>Sines<br>accionistas<br>euros<br>empresa<br>perito<br>destaque",
          "<b>Top 10 Words :</b><br>petróleo<br>Galp<br>combustíveis<br>consórcio<br>pesquisa<br>semestre<br>anos<br>conta<br>euros<br>Repsol",
          "<b>Top 10 Words :</b><br>Galp<br>Estado<br>secretários<br>empresas<br>petróleo<br>viagens<br>Brasil<br>MP<br>caso<br>pausas",
          "News not found.",
          "<b>Top 10 Words :</b><br>Ao Minuto<br>Futuro Mundo Cidades Cultura Desportos<br>Google Play Apple App Store<br>Grupo TSF Dinheiro Vivo<br>Madrid<br>Marta Amorim<br>Mediterrâneo<br>News Multimedia Legislativas 2019<br>Paula<br>Secções Poder País Vida",
          "<b>Top 10 Words :</b><br>casos<br>viagens<br>Galp<br>mirtilos<br>Benfica<br>Governo de<br>conta<br>Costa António Costa<br>Governo<br>Luís Filipe Vieira",
          "<b>Top 10 Words :</b><br>Galp<br>produção<br>empresa<br>período<br>trimestre<br>conta<br>condições<br>empresas<br>mercado<br>refinaria",
          "<b>Top 10 Words :</b><br>Galp<br>Estado<br>arguidos<br>caso<br>empresas<br>euros<br>secretários<br>Galpgate<br>Governo<br>Jorge Costa Oliveira",
          "<b>Top 10 Words :</b><br>Galp<br>Matosinhos<br>refinaria<br>trabalhadores<br>empresa<br>refinação<br>decisão<br>Governo<br>Sines<br>país"
         ],
         "marker": {
          "color": [
           "green",
           "black",
           "black",
           "black",
           "black",
           "black",
           "black",
           "black",
           "red",
           "green",
           "black",
           "red",
           "black",
           "black",
           "black",
           "black",
           "black",
           "black",
           "black",
           "black",
           "black",
           "black",
           "black",
           "black",
           "black",
           "black",
           "black",
           "black",
           "black",
           "black",
           "black",
           "black",
           "black",
           "black",
           "black",
           "black",
           "black",
           "green",
           "green",
           "green",
           "green",
           "green",
           "green",
           "green",
           "green",
           "black",
           "green",
           "red",
           "green",
           "red",
           "red",
           "red",
           "red",
           "red",
           "red",
           "green",
           "red",
           "green",
           "green",
           "green",
           "green",
           "red",
           "black",
           "black",
           "black",
           "red",
           "green",
           "red",
           "red",
           "green",
           "green",
           "green",
           "green",
           "red",
           "black",
           "black",
           "black",
           "black",
           "green",
           "green",
           "green",
           "green",
           "black",
           "black",
           "black",
           "black",
           "green",
           "red",
           "green",
           "green",
           "red",
           "green",
           "green",
           "green",
           "red",
           "green",
           "green",
           "green",
           "red",
           "green",
           "green",
           "green",
           "green",
           "green",
           "green",
           "green",
           "red",
           "green",
           "green",
           "green",
           "green",
           "green",
           "red",
           "red",
           "red",
           "green",
           "black",
           "green",
           "black",
           "green",
           "green",
           "red",
           "green",
           "green",
           "green",
           "red",
           "green",
           "green",
           "green",
           "green",
           "red",
           "red",
           "green",
           "green",
           "green",
           "green",
           "green",
           "green",
           "green",
           "green",
           "green",
           "green",
           "green",
           "black",
           "green",
           "green",
           "red",
           "red",
           "green",
           "green",
           "green",
           "green",
           "green",
           "green",
           "green",
           "green",
           "green",
           "green",
           "green",
           "green",
           "green",
           "black",
           "red",
           "green",
           "green",
           "red",
           "green"
          ]
         },
         "name": "Negative Sentiment",
         "opacity": 0.5,
         "showlegend": false,
         "type": "bar",
         "x": [
          "2007-02-01T00:00:00",
          "2007-03-01T00:00:00",
          "2007-04-01T00:00:00",
          "2007-05-01T00:00:00",
          "2007-06-01T00:00:00",
          "2007-07-01T00:00:00",
          "2007-08-01T00:00:00",
          "2007-09-01T00:00:00",
          "2007-10-01T00:00:00",
          "2007-11-01T00:00:00",
          "2007-12-01T00:00:00",
          "2008-01-01T00:00:00",
          "2008-02-01T00:00:00",
          "2008-03-01T00:00:00",
          "2008-04-01T00:00:00",
          "2008-05-01T00:00:00",
          "2008-06-01T00:00:00",
          "2008-07-01T00:00:00",
          "2008-08-01T00:00:00",
          "2008-09-01T00:00:00",
          "2008-10-01T00:00:00",
          "2008-11-01T00:00:00",
          "2008-12-01T00:00:00",
          "2009-01-01T00:00:00",
          "2009-02-01T00:00:00",
          "2009-03-01T00:00:00",
          "2009-04-01T00:00:00",
          "2009-05-01T00:00:00",
          "2009-06-01T00:00:00",
          "2009-07-01T00:00:00",
          "2009-08-01T00:00:00",
          "2009-09-01T00:00:00",
          "2009-10-01T00:00:00",
          "2009-11-01T00:00:00",
          "2009-12-01T00:00:00",
          "2010-01-01T00:00:00",
          "2010-02-01T00:00:00",
          "2010-03-01T00:00:00",
          "2010-04-01T00:00:00",
          "2010-05-01T00:00:00",
          "2010-06-01T00:00:00",
          "2010-07-01T00:00:00",
          "2010-08-01T00:00:00",
          "2010-09-01T00:00:00",
          "2010-10-01T00:00:00",
          "2010-11-01T00:00:00",
          "2010-12-01T00:00:00",
          "2011-01-01T00:00:00",
          "2011-02-01T00:00:00",
          "2011-03-01T00:00:00",
          "2011-04-01T00:00:00",
          "2011-05-01T00:00:00",
          "2011-06-01T00:00:00",
          "2011-07-01T00:00:00",
          "2011-08-01T00:00:00",
          "2011-09-01T00:00:00",
          "2011-10-01T00:00:00",
          "2011-11-01T00:00:00",
          "2011-12-01T00:00:00",
          "2012-01-01T00:00:00",
          "2012-02-01T00:00:00",
          "2012-03-01T00:00:00",
          "2012-04-01T00:00:00",
          "2012-05-01T00:00:00",
          "2012-06-01T00:00:00",
          "2012-07-01T00:00:00",
          "2012-08-01T00:00:00",
          "2012-09-01T00:00:00",
          "2012-10-01T00:00:00",
          "2012-11-01T00:00:00",
          "2012-12-01T00:00:00",
          "2013-01-01T00:00:00",
          "2013-02-01T00:00:00",
          "2013-03-01T00:00:00",
          "2013-04-01T00:00:00",
          "2013-05-01T00:00:00",
          "2013-06-01T00:00:00",
          "2013-07-01T00:00:00",
          "2013-08-01T00:00:00",
          "2013-09-01T00:00:00",
          "2013-10-01T00:00:00",
          "2013-11-01T00:00:00",
          "2013-12-01T00:00:00",
          "2014-01-01T00:00:00",
          "2014-02-01T00:00:00",
          "2014-03-01T00:00:00",
          "2014-04-01T00:00:00",
          "2014-05-01T00:00:00",
          "2014-06-01T00:00:00",
          "2014-07-01T00:00:00",
          "2014-08-01T00:00:00",
          "2014-09-01T00:00:00",
          "2014-10-01T00:00:00",
          "2014-11-01T00:00:00",
          "2014-12-01T00:00:00",
          "2015-01-01T00:00:00",
          "2015-02-01T00:00:00",
          "2015-03-01T00:00:00",
          "2015-04-01T00:00:00",
          "2015-05-01T00:00:00",
          "2015-06-01T00:00:00",
          "2015-07-01T00:00:00",
          "2015-08-01T00:00:00",
          "2015-09-01T00:00:00",
          "2015-10-01T00:00:00",
          "2015-11-01T00:00:00",
          "2015-12-01T00:00:00",
          "2016-01-01T00:00:00",
          "2016-02-01T00:00:00",
          "2016-03-01T00:00:00",
          "2016-04-01T00:00:00",
          "2016-05-01T00:00:00",
          "2016-06-01T00:00:00",
          "2016-07-01T00:00:00",
          "2016-08-01T00:00:00",
          "2016-09-01T00:00:00",
          "2016-10-01T00:00:00",
          "2016-11-01T00:00:00",
          "2016-12-01T00:00:00",
          "2017-01-01T00:00:00",
          "2017-02-01T00:00:00",
          "2017-03-01T00:00:00",
          "2017-04-01T00:00:00",
          "2017-05-01T00:00:00",
          "2017-06-01T00:00:00",
          "2017-07-01T00:00:00",
          "2017-08-01T00:00:00",
          "2017-09-01T00:00:00",
          "2017-10-01T00:00:00",
          "2017-11-01T00:00:00",
          "2017-12-01T00:00:00",
          "2018-01-01T00:00:00",
          "2018-02-01T00:00:00",
          "2018-03-01T00:00:00",
          "2018-04-01T00:00:00",
          "2018-05-01T00:00:00",
          "2018-06-01T00:00:00",
          "2018-07-01T00:00:00",
          "2018-08-01T00:00:00",
          "2018-09-01T00:00:00",
          "2018-10-01T00:00:00",
          "2018-11-01T00:00:00",
          "2018-12-01T00:00:00",
          "2019-01-01T00:00:00",
          "2019-02-01T00:00:00",
          "2019-03-01T00:00:00",
          "2019-04-01T00:00:00",
          "2019-05-01T00:00:00",
          "2019-06-01T00:00:00",
          "2019-07-01T00:00:00",
          "2019-08-01T00:00:00",
          "2019-09-01T00:00:00",
          "2019-10-01T00:00:00",
          "2019-11-01T00:00:00",
          "2019-12-01T00:00:00",
          "2020-01-01T00:00:00",
          "2020-02-01T00:00:00",
          "2020-03-01T00:00:00",
          "2020-04-01T00:00:00",
          "2020-05-01T00:00:00",
          "2020-06-01T00:00:00",
          "2020-07-01T00:00:00",
          "2020-08-01T00:00:00",
          "2020-09-01T00:00:00",
          "2020-10-01T00:00:00",
          "2020-11-01T00:00:00",
          "2020-12-01T00:00:00"
         ],
         "y": [
          0.19857428656617393,
          0,
          0,
          0,
          0,
          0,
          0,
          0,
          0.4347901723082849,
          0.3883816492035366,
          0,
          0.8309971420052547,
          0,
          0,
          0,
          0,
          0,
          0,
          0,
          0,
          0,
          0,
          0,
          0,
          0,
          0,
          0,
          0,
          0,
          0,
          0,
          0,
          0,
          0,
          0,
          0,
          0,
          0.2318886722705597,
          0.1223880176999051,
          0.013400227945824461,
          0.3380925838244712,
          0.30447515236703976,
          0.36969548294555205,
          0.3784013369110086,
          0.2900497143130302,
          0,
          0.35106259401263856,
          0.024987717083431088,
          0.3098812017108084,
          0.8536293975191955,
          0.8489966716912289,
          0.29331929213954366,
          0.7581982012038229,
          0.11161918150271374,
          0.16893142830096944,
          0.24779491496002476,
          0.43092680172391623,
          0.0049553561200735285,
          0.39566617935423704,
          0.3036394266434879,
          0.19495467247363152,
          0.06350343520784013,
          0,
          0,
          0,
          0.33535895606421146,
          0.04772011570897283,
          0.8781177480658606,
          0.07692909695851385,
          0.03926516445314493,
          0.31048870273843915,
          0.3522595794213515,
          0.10708861569234379,
          0.8427504019232537,
          0,
          0,
          0,
          0,
          0.14351199589498043,
          0.32220733610922353,
          0.3249338129993367,
          0.35861237793213024,
          0,
          0,
          0,
          0,
          0.04503157355948367,
          0.050354678726014734,
          0.3851104481823356,
          0.20456900118897536,
          0.09107765594053296,
          0.08374060304308933,
          0.356388668866563,
          0.24096245346439732,
          0.280953127837604,
          0.10807035565015699,
          0.12684726609019303,
          0.2778299210538406,
          0.004499920555995962,
          0.25951576306992946,
          0.32639079251685704,
          0.30813839389485215,
          0.37680400730295355,
          0.24842879589143513,
          0.1606086787554944,
          0.2135925539676769,
          0.03648238544960242,
          0.34848921770477187,
          0.31950512013319704,
          0.12285104053442791,
          0.07578199661670137,
          0.283216235278358,
          0.07303503815884455,
          0.05167302569379112,
          0.13175637514926816,
          0.20715122405383035,
          0,
          0.3587558017176891,
          0,
          0.041527418964268814,
          0.28626020766917365,
          0.333454739180867,
          0.27081550055447184,
          0.26763632739620064,
          0.3276575165065217,
          0.0774699613141138,
          0.038303869142602365,
          0.36282635412824144,
          0.3675183892083303,
          0.36291056542620287,
          0.8480078562909688,
          0.24158007572317833,
          0.09582631486347482,
          0.11611413868912412,
          0.37346511863725457,
          0.31248917106616386,
          0.3861903012925308,
          0.12817248759766825,
          0.16471537378904755,
          0.3486546030958995,
          0.20205828484361438,
          0.1881976618484245,
          0.013175117067346032,
          0,
          0.20917865429943244,
          0.2968974094843337,
          0.13099082515711954,
          0.3736014122055804,
          0.24892502745572403,
          0.3677986595031785,
          0.35392289653807335,
          0.23646093876011703,
          0.1006834130072361,
          0.07453295141704575,
          0.007027093462419864,
          0.3747209378287211,
          0.16120176181221074,
          0.379959221631109,
          0.27177348858874045,
          0.19555030203807428,
          0.27256414534127854,
          0,
          0.08911207500875903,
          0.35100581254019997,
          0.3500754990847444,
          0.7489653597761842,
          0.3510904635606616
         ]
        },
        {
         "marker": {
          "color": "green"
         },
         "name": "Positive Sentiment",
         "type": "bar",
         "visible": "legendonly",
         "x": [
          null
         ],
         "y": [
          null
         ]
        },
        {
         "marker": {
          "color": "red"
         },
         "name": "Negative Sentiment",
         "type": "bar",
         "visible": "legendonly",
         "x": [
          null
         ],
         "y": [
          null
         ]
        }
       ],
       "layout": {
        "hovermode": "x unified",
        "legend": {
         "title": {
          "text": "Legend"
         }
        },
        "margin": {
         "b": 50,
         "l": 50,
         "r": 50,
         "t": 50
        },
        "paper_bgcolor": "rgba(0, 0, 0, 0)",
        "plot_bgcolor": "rgba(0, 0, 0, 0)",
        "template": {
         "data": {
          "bar": [
           {
            "error_x": {
             "color": "#2a3f5f"
            },
            "error_y": {
             "color": "#2a3f5f"
            },
            "marker": {
             "line": {
              "color": "white",
              "width": 0.5
             },
             "pattern": {
              "fillmode": "overlay",
              "size": 10,
              "solidity": 0.2
             }
            },
            "type": "bar"
           }
          ],
          "barpolar": [
           {
            "marker": {
             "line": {
              "color": "white",
              "width": 0.5
             },
             "pattern": {
              "fillmode": "overlay",
              "size": 10,
              "solidity": 0.2
             }
            },
            "type": "barpolar"
           }
          ],
          "carpet": [
           {
            "aaxis": {
             "endlinecolor": "#2a3f5f",
             "gridcolor": "#C8D4E3",
             "linecolor": "#C8D4E3",
             "minorgridcolor": "#C8D4E3",
             "startlinecolor": "#2a3f5f"
            },
            "baxis": {
             "endlinecolor": "#2a3f5f",
             "gridcolor": "#C8D4E3",
             "linecolor": "#C8D4E3",
             "minorgridcolor": "#C8D4E3",
             "startlinecolor": "#2a3f5f"
            },
            "type": "carpet"
           }
          ],
          "choropleth": [
           {
            "colorbar": {
             "outlinewidth": 0,
             "ticks": ""
            },
            "type": "choropleth"
           }
          ],
          "contour": [
           {
            "colorbar": {
             "outlinewidth": 0,
             "ticks": ""
            },
            "colorscale": [
             [
              0,
              "#0d0887"
             ],
             [
              0.1111111111111111,
              "#46039f"
             ],
             [
              0.2222222222222222,
              "#7201a8"
             ],
             [
              0.3333333333333333,
              "#9c179e"
             ],
             [
              0.4444444444444444,
              "#bd3786"
             ],
             [
              0.5555555555555556,
              "#d8576b"
             ],
             [
              0.6666666666666666,
              "#ed7953"
             ],
             [
              0.7777777777777778,
              "#fb9f3a"
             ],
             [
              0.8888888888888888,
              "#fdca26"
             ],
             [
              1,
              "#f0f921"
             ]
            ],
            "type": "contour"
           }
          ],
          "contourcarpet": [
           {
            "colorbar": {
             "outlinewidth": 0,
             "ticks": ""
            },
            "type": "contourcarpet"
           }
          ],
          "heatmap": [
           {
            "colorbar": {
             "outlinewidth": 0,
             "ticks": ""
            },
            "colorscale": [
             [
              0,
              "#0d0887"
             ],
             [
              0.1111111111111111,
              "#46039f"
             ],
             [
              0.2222222222222222,
              "#7201a8"
             ],
             [
              0.3333333333333333,
              "#9c179e"
             ],
             [
              0.4444444444444444,
              "#bd3786"
             ],
             [
              0.5555555555555556,
              "#d8576b"
             ],
             [
              0.6666666666666666,
              "#ed7953"
             ],
             [
              0.7777777777777778,
              "#fb9f3a"
             ],
             [
              0.8888888888888888,
              "#fdca26"
             ],
             [
              1,
              "#f0f921"
             ]
            ],
            "type": "heatmap"
           }
          ],
          "heatmapgl": [
           {
            "colorbar": {
             "outlinewidth": 0,
             "ticks": ""
            },
            "colorscale": [
             [
              0,
              "#0d0887"
             ],
             [
              0.1111111111111111,
              "#46039f"
             ],
             [
              0.2222222222222222,
              "#7201a8"
             ],
             [
              0.3333333333333333,
              "#9c179e"
             ],
             [
              0.4444444444444444,
              "#bd3786"
             ],
             [
              0.5555555555555556,
              "#d8576b"
             ],
             [
              0.6666666666666666,
              "#ed7953"
             ],
             [
              0.7777777777777778,
              "#fb9f3a"
             ],
             [
              0.8888888888888888,
              "#fdca26"
             ],
             [
              1,
              "#f0f921"
             ]
            ],
            "type": "heatmapgl"
           }
          ],
          "histogram": [
           {
            "marker": {
             "pattern": {
              "fillmode": "overlay",
              "size": 10,
              "solidity": 0.2
             }
            },
            "type": "histogram"
           }
          ],
          "histogram2d": [
           {
            "colorbar": {
             "outlinewidth": 0,
             "ticks": ""
            },
            "colorscale": [
             [
              0,
              "#0d0887"
             ],
             [
              0.1111111111111111,
              "#46039f"
             ],
             [
              0.2222222222222222,
              "#7201a8"
             ],
             [
              0.3333333333333333,
              "#9c179e"
             ],
             [
              0.4444444444444444,
              "#bd3786"
             ],
             [
              0.5555555555555556,
              "#d8576b"
             ],
             [
              0.6666666666666666,
              "#ed7953"
             ],
             [
              0.7777777777777778,
              "#fb9f3a"
             ],
             [
              0.8888888888888888,
              "#fdca26"
             ],
             [
              1,
              "#f0f921"
             ]
            ],
            "type": "histogram2d"
           }
          ],
          "histogram2dcontour": [
           {
            "colorbar": {
             "outlinewidth": 0,
             "ticks": ""
            },
            "colorscale": [
             [
              0,
              "#0d0887"
             ],
             [
              0.1111111111111111,
              "#46039f"
             ],
             [
              0.2222222222222222,
              "#7201a8"
             ],
             [
              0.3333333333333333,
              "#9c179e"
             ],
             [
              0.4444444444444444,
              "#bd3786"
             ],
             [
              0.5555555555555556,
              "#d8576b"
             ],
             [
              0.6666666666666666,
              "#ed7953"
             ],
             [
              0.7777777777777778,
              "#fb9f3a"
             ],
             [
              0.8888888888888888,
              "#fdca26"
             ],
             [
              1,
              "#f0f921"
             ]
            ],
            "type": "histogram2dcontour"
           }
          ],
          "mesh3d": [
           {
            "colorbar": {
             "outlinewidth": 0,
             "ticks": ""
            },
            "type": "mesh3d"
           }
          ],
          "parcoords": [
           {
            "line": {
             "colorbar": {
              "outlinewidth": 0,
              "ticks": ""
             }
            },
            "type": "parcoords"
           }
          ],
          "pie": [
           {
            "automargin": true,
            "type": "pie"
           }
          ],
          "scatter": [
           {
            "fillpattern": {
             "fillmode": "overlay",
             "size": 10,
             "solidity": 0.2
            },
            "type": "scatter"
           }
          ],
          "scatter3d": [
           {
            "line": {
             "colorbar": {
              "outlinewidth": 0,
              "ticks": ""
             }
            },
            "marker": {
             "colorbar": {
              "outlinewidth": 0,
              "ticks": ""
             }
            },
            "type": "scatter3d"
           }
          ],
          "scattercarpet": [
           {
            "marker": {
             "colorbar": {
              "outlinewidth": 0,
              "ticks": ""
             }
            },
            "type": "scattercarpet"
           }
          ],
          "scattergeo": [
           {
            "marker": {
             "colorbar": {
              "outlinewidth": 0,
              "ticks": ""
             }
            },
            "type": "scattergeo"
           }
          ],
          "scattergl": [
           {
            "marker": {
             "colorbar": {
              "outlinewidth": 0,
              "ticks": ""
             }
            },
            "type": "scattergl"
           }
          ],
          "scattermapbox": [
           {
            "marker": {
             "colorbar": {
              "outlinewidth": 0,
              "ticks": ""
             }
            },
            "type": "scattermapbox"
           }
          ],
          "scatterpolar": [
           {
            "marker": {
             "colorbar": {
              "outlinewidth": 0,
              "ticks": ""
             }
            },
            "type": "scatterpolar"
           }
          ],
          "scatterpolargl": [
           {
            "marker": {
             "colorbar": {
              "outlinewidth": 0,
              "ticks": ""
             }
            },
            "type": "scatterpolargl"
           }
          ],
          "scatterternary": [
           {
            "marker": {
             "colorbar": {
              "outlinewidth": 0,
              "ticks": ""
             }
            },
            "type": "scatterternary"
           }
          ],
          "surface": [
           {
            "colorbar": {
             "outlinewidth": 0,
             "ticks": ""
            },
            "colorscale": [
             [
              0,
              "#0d0887"
             ],
             [
              0.1111111111111111,
              "#46039f"
             ],
             [
              0.2222222222222222,
              "#7201a8"
             ],
             [
              0.3333333333333333,
              "#9c179e"
             ],
             [
              0.4444444444444444,
              "#bd3786"
             ],
             [
              0.5555555555555556,
              "#d8576b"
             ],
             [
              0.6666666666666666,
              "#ed7953"
             ],
             [
              0.7777777777777778,
              "#fb9f3a"
             ],
             [
              0.8888888888888888,
              "#fdca26"
             ],
             [
              1,
              "#f0f921"
             ]
            ],
            "type": "surface"
           }
          ],
          "table": [
           {
            "cells": {
             "fill": {
              "color": "#EBF0F8"
             },
             "line": {
              "color": "white"
             }
            },
            "header": {
             "fill": {
              "color": "#C8D4E3"
             },
             "line": {
              "color": "white"
             }
            },
            "type": "table"
           }
          ]
         },
         "layout": {
          "annotationdefaults": {
           "arrowcolor": "#2a3f5f",
           "arrowhead": 0,
           "arrowwidth": 1
          },
          "autotypenumbers": "strict",
          "coloraxis": {
           "colorbar": {
            "outlinewidth": 0,
            "ticks": ""
           }
          },
          "colorscale": {
           "diverging": [
            [
             0,
             "#8e0152"
            ],
            [
             0.1,
             "#c51b7d"
            ],
            [
             0.2,
             "#de77ae"
            ],
            [
             0.3,
             "#f1b6da"
            ],
            [
             0.4,
             "#fde0ef"
            ],
            [
             0.5,
             "#f7f7f7"
            ],
            [
             0.6,
             "#e6f5d0"
            ],
            [
             0.7,
             "#b8e186"
            ],
            [
             0.8,
             "#7fbc41"
            ],
            [
             0.9,
             "#4d9221"
            ],
            [
             1,
             "#276419"
            ]
           ],
           "sequential": [
            [
             0,
             "#0d0887"
            ],
            [
             0.1111111111111111,
             "#46039f"
            ],
            [
             0.2222222222222222,
             "#7201a8"
            ],
            [
             0.3333333333333333,
             "#9c179e"
            ],
            [
             0.4444444444444444,
             "#bd3786"
            ],
            [
             0.5555555555555556,
             "#d8576b"
            ],
            [
             0.6666666666666666,
             "#ed7953"
            ],
            [
             0.7777777777777778,
             "#fb9f3a"
            ],
            [
             0.8888888888888888,
             "#fdca26"
            ],
            [
             1,
             "#f0f921"
            ]
           ],
           "sequentialminus": [
            [
             0,
             "#0d0887"
            ],
            [
             0.1111111111111111,
             "#46039f"
            ],
            [
             0.2222222222222222,
             "#7201a8"
            ],
            [
             0.3333333333333333,
             "#9c179e"
            ],
            [
             0.4444444444444444,
             "#bd3786"
            ],
            [
             0.5555555555555556,
             "#d8576b"
            ],
            [
             0.6666666666666666,
             "#ed7953"
            ],
            [
             0.7777777777777778,
             "#fb9f3a"
            ],
            [
             0.8888888888888888,
             "#fdca26"
            ],
            [
             1,
             "#f0f921"
            ]
           ]
          },
          "colorway": [
           "#636efa",
           "#EF553B",
           "#00cc96",
           "#ab63fa",
           "#FFA15A",
           "#19d3f3",
           "#FF6692",
           "#B6E880",
           "#FF97FF",
           "#FECB52"
          ],
          "font": {
           "color": "#2a3f5f"
          },
          "geo": {
           "bgcolor": "white",
           "lakecolor": "white",
           "landcolor": "white",
           "showlakes": true,
           "showland": true,
           "subunitcolor": "#C8D4E3"
          },
          "hoverlabel": {
           "align": "left"
          },
          "hovermode": "closest",
          "mapbox": {
           "style": "light"
          },
          "paper_bgcolor": "white",
          "plot_bgcolor": "white",
          "polar": {
           "angularaxis": {
            "gridcolor": "#EBF0F8",
            "linecolor": "#EBF0F8",
            "ticks": ""
           },
           "bgcolor": "white",
           "radialaxis": {
            "gridcolor": "#EBF0F8",
            "linecolor": "#EBF0F8",
            "ticks": ""
           }
          },
          "scene": {
           "xaxis": {
            "backgroundcolor": "white",
            "gridcolor": "#DFE8F3",
            "gridwidth": 2,
            "linecolor": "#EBF0F8",
            "showbackground": true,
            "ticks": "",
            "zerolinecolor": "#EBF0F8"
           },
           "yaxis": {
            "backgroundcolor": "white",
            "gridcolor": "#DFE8F3",
            "gridwidth": 2,
            "linecolor": "#EBF0F8",
            "showbackground": true,
            "ticks": "",
            "zerolinecolor": "#EBF0F8"
           },
           "zaxis": {
            "backgroundcolor": "white",
            "gridcolor": "#DFE8F3",
            "gridwidth": 2,
            "linecolor": "#EBF0F8",
            "showbackground": true,
            "ticks": "",
            "zerolinecolor": "#EBF0F8"
           }
          },
          "shapedefaults": {
           "line": {
            "color": "#2a3f5f"
           }
          },
          "ternary": {
           "aaxis": {
            "gridcolor": "#DFE8F3",
            "linecolor": "#A2B1C6",
            "ticks": ""
           },
           "baxis": {
            "gridcolor": "#DFE8F3",
            "linecolor": "#A2B1C6",
            "ticks": ""
           },
           "bgcolor": "white",
           "caxis": {
            "gridcolor": "#DFE8F3",
            "linecolor": "#A2B1C6",
            "ticks": ""
           }
          },
          "title": {
           "x": 0.05
          },
          "xaxis": {
           "automargin": true,
           "gridcolor": "#EBF0F8",
           "linecolor": "#EBF0F8",
           "ticks": "",
           "title": {
            "standoff": 15
           },
           "zerolinecolor": "#EBF0F8",
           "zerolinewidth": 2
          },
          "yaxis": {
           "automargin": true,
           "gridcolor": "#EBF0F8",
           "linecolor": "#EBF0F8",
           "ticks": "",
           "title": {
            "standoff": 15
           },
           "zerolinecolor": "#EBF0F8",
           "zerolinewidth": 2
          }
         }
        },
        "title": {
         "text": "Stock Price and Sentiment Analysis: Galp Energia"
        },
        "xaxis": {
         "linecolor": "black",
         "showline": true,
         "title": {
          "text": "Date"
         },
         "zeroline": false
        },
        "yaxis": {
         "linecolor": "black",
         "range": [
          0,
          18.979275
         ],
         "showline": true,
         "title": {
          "text": "Stock Price (€) / Sentiment (0-1)"
         },
         "zeroline": false
        }
       }
      }
     },
     "metadata": {},
     "output_type": "display_data"
    },
    {
     "data": {
      "application/vnd.plotly.v1+json": {
       "config": {
        "plotlyServerURL": "https://plot.ly"
       },
       "data": [
        {
         "mode": "lines",
         "name": "Stock Price",
         "type": "scatter",
         "x": [
          "2005-02-01T00:00:00",
          "2005-03-01T00:00:00",
          "2005-04-01T00:00:00",
          "2005-05-01T00:00:00",
          "2005-06-01T00:00:00",
          "2005-07-01T00:00:00",
          "2005-08-01T00:00:00",
          "2005-09-01T00:00:00",
          "2005-10-01T00:00:00",
          "2005-11-01T00:00:00",
          "2005-12-01T00:00:00",
          "2006-01-01T00:00:00",
          "2006-02-01T00:00:00",
          "2006-03-01T00:00:00",
          "2006-04-01T00:00:00",
          "2006-05-01T00:00:00",
          "2006-06-01T00:00:00",
          "2006-07-01T00:00:00",
          "2006-08-01T00:00:00",
          "2006-09-01T00:00:00",
          "2006-10-01T00:00:00",
          "2006-11-01T00:00:00",
          "2006-12-01T00:00:00",
          "2007-01-01T00:00:00",
          "2007-02-01T00:00:00",
          "2007-03-01T00:00:00",
          "2007-04-01T00:00:00",
          "2007-05-01T00:00:00",
          "2007-06-01T00:00:00",
          "2007-07-01T00:00:00",
          "2007-08-01T00:00:00",
          "2007-09-01T00:00:00",
          "2007-10-01T00:00:00",
          "2007-11-01T00:00:00",
          "2007-12-01T00:00:00",
          "2008-01-01T00:00:00",
          "2008-02-01T00:00:00",
          "2008-03-01T00:00:00",
          "2008-04-01T00:00:00",
          "2008-05-01T00:00:00",
          "2008-06-01T00:00:00",
          "2008-07-01T00:00:00",
          "2008-08-01T00:00:00",
          "2008-09-01T00:00:00",
          "2008-10-01T00:00:00",
          "2008-11-01T00:00:00",
          "2008-12-01T00:00:00",
          "2009-01-01T00:00:00",
          "2009-02-01T00:00:00",
          "2009-03-01T00:00:00",
          "2009-04-01T00:00:00",
          "2009-05-01T00:00:00",
          "2009-06-01T00:00:00",
          "2009-07-01T00:00:00",
          "2009-08-01T00:00:00",
          "2009-09-01T00:00:00",
          "2009-10-01T00:00:00",
          "2009-11-01T00:00:00",
          "2009-12-01T00:00:00",
          "2010-01-01T00:00:00",
          "2010-02-01T00:00:00",
          "2010-03-01T00:00:00",
          "2010-04-01T00:00:00",
          "2010-05-01T00:00:00",
          "2010-06-01T00:00:00",
          "2010-07-01T00:00:00",
          "2010-08-01T00:00:00",
          "2010-09-01T00:00:00",
          "2010-10-01T00:00:00",
          "2010-11-01T00:00:00",
          "2010-12-01T00:00:00",
          "2011-01-01T00:00:00",
          "2011-02-01T00:00:00",
          "2011-03-01T00:00:00",
          "2011-04-01T00:00:00",
          "2011-05-01T00:00:00",
          "2011-06-01T00:00:00",
          "2011-07-01T00:00:00",
          "2011-08-01T00:00:00",
          "2011-09-01T00:00:00",
          "2011-10-01T00:00:00",
          "2011-11-01T00:00:00",
          "2011-12-01T00:00:00",
          "2012-01-01T00:00:00",
          "2012-02-01T00:00:00",
          "2012-03-01T00:00:00",
          "2012-04-01T00:00:00",
          "2012-05-01T00:00:00",
          "2012-06-01T00:00:00",
          "2012-07-01T00:00:00",
          "2012-08-01T00:00:00",
          "2012-09-01T00:00:00",
          "2012-10-01T00:00:00",
          "2012-11-01T00:00:00",
          "2012-12-01T00:00:00",
          "2013-01-01T00:00:00",
          "2013-02-01T00:00:00",
          "2013-03-01T00:00:00",
          "2013-04-01T00:00:00",
          "2013-05-01T00:00:00",
          "2013-06-01T00:00:00",
          "2013-07-01T00:00:00",
          "2013-08-01T00:00:00",
          "2013-09-01T00:00:00",
          "2013-10-01T00:00:00",
          "2013-11-01T00:00:00",
          "2013-12-01T00:00:00",
          "2014-01-01T00:00:00",
          "2014-02-01T00:00:00",
          "2014-03-01T00:00:00",
          "2014-04-01T00:00:00",
          "2014-05-01T00:00:00",
          "2014-06-01T00:00:00",
          "2014-07-01T00:00:00",
          "2014-08-01T00:00:00",
          "2014-09-01T00:00:00",
          "2014-10-01T00:00:00",
          "2014-11-01T00:00:00",
          "2014-12-01T00:00:00",
          "2015-01-01T00:00:00",
          "2015-02-01T00:00:00",
          "2015-03-01T00:00:00",
          "2015-04-01T00:00:00",
          "2015-05-01T00:00:00",
          "2015-06-01T00:00:00",
          "2015-07-01T00:00:00",
          "2015-08-01T00:00:00",
          "2015-09-01T00:00:00",
          "2015-10-01T00:00:00",
          "2015-11-01T00:00:00",
          "2015-12-01T00:00:00",
          "2016-01-01T00:00:00",
          "2016-02-01T00:00:00",
          "2016-03-01T00:00:00",
          "2016-04-01T00:00:00",
          "2016-05-01T00:00:00",
          "2016-06-01T00:00:00",
          "2016-07-01T00:00:00",
          "2016-08-01T00:00:00",
          "2016-09-01T00:00:00",
          "2016-10-01T00:00:00",
          "2016-11-01T00:00:00",
          "2016-12-01T00:00:00",
          "2017-01-01T00:00:00",
          "2017-02-01T00:00:00",
          "2017-03-01T00:00:00",
          "2017-04-01T00:00:00",
          "2017-05-01T00:00:00",
          "2017-06-01T00:00:00",
          "2017-07-01T00:00:00",
          "2017-08-01T00:00:00",
          "2017-09-01T00:00:00",
          "2017-10-01T00:00:00",
          "2017-11-01T00:00:00",
          "2017-12-01T00:00:00",
          "2018-01-01T00:00:00",
          "2018-02-01T00:00:00",
          "2018-03-01T00:00:00",
          "2018-04-01T00:00:00",
          "2018-05-01T00:00:00",
          "2018-06-01T00:00:00",
          "2018-07-01T00:00:00",
          "2018-08-01T00:00:00",
          "2018-09-01T00:00:00",
          "2018-10-01T00:00:00",
          "2018-11-01T00:00:00",
          "2018-12-01T00:00:00",
          "2019-01-01T00:00:00",
          "2019-02-01T00:00:00",
          "2019-03-01T00:00:00",
          "2019-04-01T00:00:00",
          "2019-05-01T00:00:00",
          "2019-06-01T00:00:00",
          "2019-07-01T00:00:00",
          "2019-08-01T00:00:00",
          "2019-09-01T00:00:00",
          "2019-10-01T00:00:00",
          "2019-11-01T00:00:00",
          "2019-12-01T00:00:00",
          "2020-01-01T00:00:00",
          "2020-02-01T00:00:00",
          "2020-03-01T00:00:00",
          "2020-04-01T00:00:00",
          "2020-05-01T00:00:00",
          "2020-06-01T00:00:00",
          "2020-07-01T00:00:00",
          "2020-08-01T00:00:00",
          "2020-09-01T00:00:00",
          "2020-10-01T00:00:00",
          "2020-11-01T00:00:00",
          "2020-12-01T00:00:00"
         ],
         "y": [
          2.21,
          2.15,
          2.1,
          2.06,
          2.08,
          2.2,
          2.28,
          2.32,
          2.36,
          2.5,
          2.6,
          2.71,
          2.93,
          3.24,
          3.12,
          2.88,
          3.07,
          3.1,
          3.14,
          3.42,
          3.52,
          3.58,
          3.84,
          3.83,
          4.14,
          4.02,
          4.01,
          4.23,
          4.09,
          4.17,
          4.03,
          4.1,
          4.44,
          4.61,
          4.47,
          4.26,
          3.875,
          3.84,
          4.06,
          4.05,
          3.315,
          3.515,
          3.47,
          2.939,
          2.686,
          2.663,
          2.695,
          2.778,
          2.51,
          2.613,
          2.764,
          2.836,
          2.793,
          2.783,
          3.015,
          3.13,
          3.007,
          3.054,
          3.108,
          2.871,
          2.695,
          2.943,
          2.689,
          2.516,
          2.44,
          2.523,
          2.4,
          2.514,
          2.749,
          2.464,
          2.491,
          2.806,
          2.748,
          2.748,
          2.76,
          2.585,
          2.449,
          2.42,
          2.29,
          2.315,
          2.285,
          2.38,
          2.391,
          2.231,
          2.19,
          2.181,
          2.16,
          1.68,
          1.864,
          1.854,
          1.938,
          2.142,
          2.096,
          1.946,
          2.29,
          2.375,
          2.298,
          2.402,
          2.61,
          2.479,
          2.475,
          2.67,
          2.674,
          2.7,
          2.712,
          2.785,
          2.67,
          2.786,
          3.14,
          3.371,
          3.5,
          3.47,
          3.664,
          3.503,
          3.684,
          3.455,
          3.431,
          3.299,
          3.218,
          3.377,
          3.526,
          3.485,
          3.572,
          3.555,
          3.405,
          3.368,
          3.126,
          3.271,
          3.368,
          3.155,
          3.321,
          3.217,
          2.857,
          3.126,
          3.104,
          2.995,
          2.754,
          3.068,
          3.005,
          2.989,
          3.011,
          2.727,
          2.894,
          2.688,
          2.919,
          3.175,
          3.03,
          3.274,
          2.863,
          3,
          3.225,
          3.185,
          3.063,
          2.945,
          2.885,
          2.829,
          2.753,
          3.088,
          3.076,
          3.35,
          3.4,
          3.489,
          3.365,
          3.178,
          3.104,
          3.087,
          3.049,
          3.19,
          3.225,
          3.505,
          3.379,
          3.259,
          3.342,
          3.321,
          3.438,
          3.562,
          3.69,
          3.67,
          3.864,
          4.524,
          4.22,
          3.658,
          3.85,
          4.223,
          4.25,
          4.285,
          4.242,
          4.195,
          4.232,
          4.468,
          5.156
         ]
        },
        {
         "hoverlabel": {
          "namelength": 0
         },
         "hovertemplate": [
          "<b>Top 10 Words :</b><br>EDP<br>euros<br>BPI<br>Hidrocantábrico<br>projectos<br>analista<br>centrais<br>comunicado<br>consórcio<br>dessulfuração",
          "News not found.",
          "<b>Top 10 Words :</b><br>Energia<br>barragem<br>euros<br>Energias do Brasil<br>reais<br>produção<br>Brasil<br>António Martins da Costa<br>Empresa<br>barragem de Peixe Angical",
          "<b>Top 10 Words :</b><br>EDP<br>capacidade<br>ciclo<br>megawatts<br>Hidrocantábrico<br>centrais<br>central<br>atribuição<br>eléctrica<br>euros",
          "<b>Top 10 Words :</b><br>EDP<br>operação<br>petróleo<br>Junho de 2005 Quinta<br>Junho de 2005 Sexta<br>Junho de 2005 Terça<br>Mulheres<br>Sartre<br>euro<br>euros",
          "News not found.",
          "<b>Top 10 Words :</b><br>Energia<br>euros<br>barragem<br>Energias do Brasil<br>reais<br>produção<br>Brasil<br>António Martins da Costa<br>Empresa<br>barragem de Peixe Angical",
          "News not found.",
          "<b>Top 10 Words :</b><br>Empresa<br>EDP<br>CNMV<br>Iberdrola<br>Iberdrola Participações<br>em Portugal<br>subsidiária<br>Comissão do Mercado de Valores Mobiliários<br>Lisboa<br>Pina Moura",
          "<b>Top 10 Words :</b><br>EDP<br>decisão<br>mercados<br>euros<br>Energia<br>concorrência<br>mercado<br>barragem<br>comissão<br>em Portugal",
          "News not found.",
          "<b>Top 10 Words :</b><br>EDP<br>euros<br>eléctrica<br>BPI<br>Citigroup<br>analistas<br>compra<br>mercado<br>acções<br>banco",
          "News not found.",
          "News not found.",
          "News not found.",
          "News not found.",
          "News not found.",
          "News not found.",
          "News not found.",
          "News not found.",
          "<b>Top 10 Words :</b><br>Brisa<br>EDP<br>alta<br>euros<br>ganhos<br>Euronext Lisboa<br>PT<br>Portugal Telecom<br>congéneres<br>queda",
          "News not found.",
          "News not found.",
          "<b>Top 10 Words :</b><br>EDP<br>Sonatrach<br>produtores<br>Empresa<br>País<br>Portugal<br>argelina<br>conversações<br>eléctrica<br>estratégia",
          "<b>Top 10 Words :</b><br>Contras<br>Marcelo Rebelo de Sousa<br>Meia Maratona de Lisboa<br>jogos",
          "News not found.",
          "News not found.",
          "News not found.",
          "News not found.",
          "<b>Top 10 Words :</b><br>EDP<br>Horizon<br>Empresa<br>director<br>António Martins da Costa<br>Energias do Brasil<br>Estados Unidos<br>Horizon Wind Energy<br>RDP Madeira<br>empresas",
          "<b>Top 10 Words :</b><br>EDP<br>receitas<br>contrato<br>autarquia<br>TC<br>euros<br>EDP Renováveis<br>Empresa<br>antecipação<br>operação",
          "<b>Top 10 Words :</b><br>EDP<br>parceria<br>Sonatrach<br>mercado<br>Empresa<br>RDP Madeira<br>acordos<br>comunicado<br>Acessibilidades EDP<br>Ant1",
          "<b>Top 10 Words :</b><br>EDP<br>queda<br>PT<br>euros<br>PSI<br>A Euronext Lisboa<br>Ant1<br>Ant3<br>Campeonatos Rally<br>Cimpor",
          "<b>Top 10 Words :</b><br>EDP<br>trimestre<br>Energia<br>RDP Madeira<br>REN<br>euros<br>venda<br>Acessibilidades EDP<br>Ant1<br>Ant3",
          "News not found.",
          "News not found.",
          "News not found.",
          "News not found.",
          "News not found.",
          "News not found.",
          "News not found.",
          "News not found.",
          "News not found.",
          "News not found.",
          "News not found.",
          "News not found.",
          "News not found.",
          "News not found.",
          "News not found.",
          "News not found.",
          "News not found.",
          "News not found.",
          "News not found.",
          "News not found.",
          "News not found.",
          "News not found.",
          "News not found.",
          "News not found.",
          "<b>Top 10 Words :</b><br>EDP<br>clientes<br>Empresa<br>Sociedade<br>Torres Vedras<br>situação<br>Alenquer<br>Cadaval<br>ELECTRICIDADE<br>Energia",
          "News not found.",
          "News not found.",
          "News not found.",
          "<b>Top 10 Words :</b><br>EDP<br>proposta<br>euros<br>remunerações<br>presidente<br>prémios<br>salários<br>Empresa<br>assembleia<br>António Mexia",
          "<b>Top 10 Words :</b><br>EDP<br>obrigações<br>acções<br>emissão<br>euros<br>BES<br>actividades<br>comunicado<br>BES Finance<br>Economia",
          "<b>Top 10 Words :</b><br>Biodiversidade<br>EDP<br>projectos<br>barragens<br>organizações<br>Empresa<br>Sociedade<br>ambiente<br>associações<br>campanha",
          "News not found.",
          "<b>Top 10 Words :</b><br>EDP<br>euros<br>semestre<br>dívida<br>EBITDA<br>Empresa<br>EDPR<br>resultados<br>lucros<br>Economia",
          "News not found.",
          "<b>Top 10 Words :</b><br>EDP<br>Naturgas<br>Empresa<br>capital<br>compra<br>euros<br>negócio<br>obtenção<br>Alexandra Lucas Coelho<br>Brasil",
          "<b>Top 10 Words :</b><br>EDP<br>plano<br>Local<br>avisos<br>chuva<br>cidade<br>hora<br>imediato<br>medida<br>previsão",
          "<b>Top 10 Words :</b><br>Energia<br>Ferreira do Zêzere<br>Sertã<br>Tomar<br>EDP<br>madrugada<br>restabelecimento<br>EDP Distribuição<br>Empresa<br>Local",
          "<b>Top 10 Words :</b><br>EDP<br>Empresa<br>PT<br>anos<br>hora<br>edifício<br>euros<br>Energia<br>FERRAMENTAS<br>administradores",
          "<b>Top 10 Words :</b><br>EDP<br>euros<br>hora<br>Zon<br>anos<br>títulos<br>acções<br>lucros<br>artistas<br>obrigações",
          "<b>Top 10 Words :</b><br>EDP<br>direitos<br>shares<br>capital<br>Portugal<br>dívida<br>hora<br>rating<br>Eletrobras<br>Estado",
          "<b>Top 10 Words :</b><br>EDP<br>centro<br>edifício<br>projecto<br>Belém<br>Eletrobras<br>Fundação EDP<br>espaço<br>Igespar<br>Levete",
          "<b>Top 10 Words :</b><br>EDP<br>euros<br>PT<br>PSD<br>centro<br>gestores<br>projecto<br>Sócrates<br>anos<br>edifício",
          "<b>Top 10 Words :</b><br>projecto<br>EDP<br>Novos Povoadores<br>piloto<br>Dinheiro Vivo<br>Iniciativas<br>concelho<br>concelhos<br>conjunto<br>desenvolvimento",
          "<b>Top 10 Words :</b><br>EDP<br>Estado<br>Governo<br>euros<br>Empresa<br>shares<br>REN<br>PT<br>dias<br>hora",
          "<b>Top 10 Words :</b><br>EDP<br>capital<br>direitos<br>Estado<br>Troika<br>hora<br>Empresa<br>Iberdrola<br>eléctrica<br>euros",
          "News not found.",
          "<b>Top 10 Words :</b><br>EDP<br>Empresa<br>Lisboa<br>Página<br>accionistas<br>privatização<br>trabalho<br>Líbia<br>crise<br>empresas",
          "<b>Top 10 Words :</b><br>EDP<br>Empresa<br>accionistas<br>resposta<br>António Mexia<br>Estado<br>empresas<br>entrada<br>Brasil<br>gestão",
          "<b>Top 10 Words :</b><br>EDP<br>barragem<br>euros<br>resposta<br>Three Gorges<br>dias<br>Empresa<br>acções<br>privatização<br>projecto",
          "<b>Top 10 Words :</b><br>EDP<br>Chineses<br>Governo<br>Empresa<br>euros<br>privatização<br>horas<br>resposta<br>Supervisão<br>accionistas",
          "News not found.",
          "News not found.",
          "News not found.",
          "News not found.",
          "News not found.",
          "<b>Top 10 Words :</b><br>euros<br>EDP<br>horas<br>minutos<br>Governo<br>Portugal<br>Médicos<br>resposta<br>País<br>dias",
          "<b>Top 10 Words :</b><br>EDP<br>euros<br>horas<br>minutos<br>resposta<br>Estado<br>Economia<br>cartões<br>dias<br>Anónimo",
          "News not found.",
          "News not found.",
          "<b>Top 10 Words :</b><br>EDP<br>Portugal<br>Gémeas Cargas<br>Loja Emprego<br>mercado<br>privatizações<br>REN<br>euros<br>Entrar<br>RSS",
          "<b>Top 10 Words :</b><br>EDP<br>euros<br>António Mexia<br>Empresa<br>empresas<br>presidente<br>Gémeas Cargas<br>Lisboa<br>produção<br>Entrar",
          "<b>Top 10 Words :</b><br>EDP<br>euros<br>Empresa<br>Portugal<br>Gémeas Cargas<br>presidente<br>RSS<br>projecto<br>Estado<br>Three Gorges",
          "<b>Top 10 Words :</b><br>EDP<br>euros<br>assinatura<br>Portugal<br>António Mexia<br>condições<br>custo<br>código<br>acesso<br>Gémeas Cargas",
          "<b>Top 10 Words :</b><br>euros<br>EDP<br>Portugal<br>assinatura<br>EDP Renováveis<br>António Mexia<br>presidente<br>acesso<br>código<br>Gémeas Cargas",
          "News not found.",
          "News not found.",
          "News not found.",
          "News not found.",
          "<b>Top 10 Words :</b><br>EDP<br>Portugal<br>acesso<br>euros<br>vigilância<br>Espanha<br>exposição<br>arquivo<br>assinatura<br>campo",
          "<b>Top 10 Words :</b><br>EDP<br>euros<br>Empresa<br>acesso<br>empresas<br>programa<br>Portugal<br>eficiência<br>presidente<br>anos",
          "<b>Top 10 Words :</b><br>EDP<br>euros<br>taxa<br>Empresa<br>setor<br>proposta<br>eletricidade<br>terreno<br>impostos<br>produção",
          "<b>Top 10 Words :</b><br>EDP<br>Portugal<br>China<br>euros<br>mundo<br>Governo<br>Chineses<br>Empresa<br>anos<br>Estado",
          "News not found.",
          "News not found.",
          "News not found.",
          "News not found.",
          "<b>Top 10 Words :</b><br>EDP<br>Cao Guangjing<br>China<br>mundo<br>Empresa<br>Three Gorges<br>accionista<br>presidente<br>Hubei<br>Portugal",
          "<b>Top 10 Words :</b><br>EDP<br>Empresa<br>euros<br>Portugal<br>mundo<br>accionista<br>China<br>capital<br>participação<br>água",
          "News not found.",
          "<b>Top 10 Words :</b><br>EDP<br>privatização<br>Ricardo Salgado<br>ações<br>caso<br>euros<br>BES Vida<br>José Maria Ricciardi<br>REN<br>administradores",
          "<b>Top 10 Words :</b><br>EDP<br>euros<br>mundo<br>custo<br>Energia<br>ELECTRICIDADE<br>Economia<br>Espanha<br>Galp Energia<br>competitividade",
          "<b>Top 10 Words :</b><br>euros<br>EDP<br>remunerações<br>presidente<br>António Mexia<br>objectivos<br>lucros<br>Empresa<br>pessoas<br>prémios",
          "<b>Top 10 Words :</b><br>EDP<br>euros<br>Portugal<br>Empresa<br>dias<br>Estado<br>VISA<br>débito<br>Economia<br>mundo",
          "News not found.",
          "<b>Top 10 Words :</b><br>EDP<br>Economia<br>VISA<br>artigos<br>débito<br>Portugal<br>acordo<br>activos<br>limite<br>mundo",
          "<b>Top 10 Words :</b><br>EDP<br>euros<br>parques<br>Brasil<br>Empresa<br>Portugal<br>acordo<br>capital<br>VISA<br>artigos",
          "<b>Top 10 Words :</b><br>EDP<br>Baixo Sabor<br>barragem<br>Biodiversidade<br>Hoje<br>Objetivo<br>ambientalistas<br>região<br>Empresa<br>Fev",
          "News not found.",
          "<b>Top 10 Words :</b><br>EDP<br>Empresa<br>Portugal<br>TAP<br>campanha<br>euros<br>ERSE<br>acordo<br>anos<br>artigos",
          "<b>Top 10 Words :</b><br>EDP<br>euros<br>MAI<br>Empresa<br>Portugal<br>artigos<br>seguidores<br>Ontem<br>TAP<br>capital",
          "<b>Top 10 Words :</b><br>Prémio Novos Artistas EDP<br>Frequências<br>escultura<br>exposição<br>finalistas<br>horas<br>ideias<br>iniciativa<br>instalação<br>instrumentos",
          "<b>Top 10 Words :</b><br>EDP<br>Prémio EDP<br>Governo<br>Mariana Silva<br>Estado<br>Lisboa<br>Artista Mariana Silva<br>artista<br>barragem<br>fonte",
          "<b>Top 10 Words :</b><br>Fundação EDP<br>presidente<br>António de Almeida<br>EDP<br>País<br>Portugal<br>mundo<br>ASAE<br>Alunos<br>BES",
          "<b>Top 10 Words :</b><br>EDP<br>euros<br>noite<br>presidente<br>António de Almeida<br>Bank of China<br>Caetano Veloso<br>Cultura-Ípsilon<br>Fundação EDP<br>Lisboa",
          "<b>Top 10 Words :</b><br>EDP<br>euros<br>Empresa<br>Portugal<br>mundo<br>VISA<br>artigos<br>débito<br>pagamentos<br>rating",
          "<b>Top 10 Words :</b><br>EDP<br>Portugal<br>euros<br>VISA<br>artigos<br>centrais<br>débito<br>pagamentos<br>Brasil<br>concessão",
          "<b>Top 10 Words :</b><br>EDP<br>Empresa<br>euros<br>Energia<br>fonte<br>EDP Renováveis<br>Economia<br>Portugal<br>Estado<br>privatização",
          "<b>Top 10 Words :</b><br>EDP<br>eletricidade<br>distribuição<br>Energia<br>Espanha<br>ativos<br>compra<br>Repsol<br>euros<br>Empresa",
          "<b>Top 10 Words :</b><br>EDP<br>EDP Comercial<br>multa<br>ERSE<br>tarifa<br>eletricidade<br>euros<br>Empresa<br>fonte<br>clientes",
          "<b>Top 10 Words :</b><br>EDP<br>euros<br>Portugal<br>campanha<br>resultados<br>Empresa<br>Mexia<br>Fundação EDP<br>VISA<br>artigos",
          "<b>Top 10 Words :</b><br>EDP<br>Portugal<br>fábrica<br>corpo<br>euros<br>Lisboa<br>VISA<br>Vítima<br>anos<br>artigos",
          "<b>Top 10 Words :</b><br>EDP<br>eletricidade<br>Portugal<br>tarifa<br>euros<br>Empresa<br>presidente<br>aumento<br>Polícia<br>capital",
          "<b>Top 10 Words :</b><br>EDP<br>Portugal<br>Empresa<br>mundo<br>VISA<br>artigos<br>débito<br>pagamentos<br>tarifa<br>dias",
          "<b>Top 10 Words :</b><br>EDP<br>euros<br>Portugal<br>anos<br>museu<br>arquitectura<br>semestre<br>compra<br>BES<br>Carminho",
          "<b>Top 10 Words :</b><br>EDP<br>BES<br>Portugal<br>acções<br>compra<br>operação<br>Projeto<br>carteira<br>ações<br>processo",
          "<b>Top 10 Words :</b><br>EDP<br>euros<br>barragem<br>tarifa<br>clientes<br>Portugal<br>ELECTRICIDADE<br>responsabilidade<br>EDP Comercial<br>Goldman",
          "News not found.",
          "<b>Top 10 Words :</b><br>EDP<br>responsabilidade<br>Portugal<br>MAAT<br>VISA<br>artigos<br>débito<br>pagamentos<br>empresas<br>mundo",
          "News not found.",
          "<b>Top 10 Words :</b><br>EDP<br>Energia<br>euros<br>ELECTRICIDADE<br>concelhos<br>frio<br>BE<br>ERSE<br>País<br>corte",
          "<b>Top 10 Words :</b><br>EDP<br>euros<br>Ana Brito<br>obra<br>Empresa<br>Energia<br>anos<br>artista<br>barragem<br>multa",
          "<b>Top 10 Words :</b><br>EDP<br>euros<br>Governo<br>Portugal<br>Empresa<br>anos<br>EDP Renováveis<br>barragens<br>destaque<br>eletricidade",
          "<b>Top 10 Words :</b><br>EDP<br>euros<br>EDP Renováveis<br>Empresa<br>aumento<br>EDP Gás<br>clientes<br>acordo<br>REN<br>distribuição",
          "<b>Top 10 Words :</b><br>EDP<br>Sonae<br>pacto<br>euros<br>multa<br>Empresa<br>ME<br>Autoridade da Concorrência<br>direitos<br>empresas",
          "<b>Top 10 Words :</b><br>EDP<br>Governo<br>rendas<br>Empresa<br>Energia<br>REN<br>eletricidade<br>euros<br>MAI<br>Lisboa",
          "<b>Top 10 Words :</b><br>EDP<br>euros<br>Manuel Pinho<br>EDP Renováveis<br>destaque<br>anos<br>rendas<br>processo<br>Energia<br>imagens",
          "<b>Top 10 Words :</b><br>EDP<br>EDP Renováveis<br>euros<br>País<br>Empresa<br>participação<br>buscas<br>António Mexia<br>capital<br>direitos",
          "<b>Top 10 Words :</b><br>EDP<br>Gas Natural<br>fusão<br>acionistas<br>assunto<br>Governo<br>Economia<br>direitos<br>JUNHO 2017<br>Japão",
          "<b>Top 10 Words :</b><br>EDP<br>relatório<br>conclusões<br>incêndios<br>rendas<br>corte<br>regulador<br>Lisboa<br>Catalunha<br>Out",
          "<b>Top 10 Words :</b><br>EDP<br>produção<br>centrais<br>greve<br>centers<br>Out<br>trabalhadores<br>direitos<br>Energia<br>Empresa",
          "<b>Top 10 Words :</b><br>EDP<br>Seca<br>barragens<br>Fridão<br>Lisboa<br>PREÇOS<br>Energia<br>manhas<br>preço<br>Portugal",
          "<b>Top 10 Words :</b><br>EDP<br>Jan<br>Empresa<br>direitos<br>EDP Renováveis<br>Euro 2016<br>Liga dos Campeões<br>Portugal<br>fonte<br>mandato",
          "<b>Top 10 Words :</b><br>euros<br>EDP Renováveis<br>lucros<br>EBITDA<br>EDP<br>Empresa<br>Euro 2016<br>Europa<br>Fev<br>GW",
          "<b>Top 10 Words :</b><br>EDP<br>negligência<br>hipótese<br>fogos<br>incêndios<br>anos<br>Empresa<br>Lisboa<br>relatório<br>ministro",
          "<b>Top 10 Words :</b><br>EDP<br>Energia<br>painéis<br>Projeto<br>barragem<br>contrato<br>Abr<br>Liga dos Campeões<br>caso<br>Cascais",
          "<b>Top 10 Words :</b><br>EDP<br>euros<br>China<br>Empresa<br>elétrica<br>capital<br>mercado<br>Three Gorges<br>China Three Gorges<br>oferta",
          "<b>Top 10 Words :</b><br>EDP<br>CTG<br>Empresa<br>EDP Renováveis<br>oferta<br>website<br>euros<br>Governo<br>capital<br>conta",
          "<b>Top 10 Words :</b><br>EDP<br>anos<br>EDP Renováveis<br>sede<br>euros<br>arquitectura<br>obra<br>edifício<br>EUA<br>mundo",
          "<b>Top 10 Words :</b><br>EDP<br>António Vitorino<br>Monchique<br>festival<br>segurança<br>cargos<br>Norah Jones<br>Cooul Jazz Cascais<br>Juncker<br>presidente",
          "<b>Top 10 Words :</b><br>EDP<br>conta<br>consumidores<br>Abel Mateus<br>Energia<br>ELECTRICIDADE<br>mercado<br>rede<br>AdC<br>destaque",
          "<b>Top 10 Words :</b><br>EDP<br>Governo<br>fundos<br>Empresa<br>capital<br>investimento<br>Paul Singer<br>Premium<br>euros<br>participação",
          "<b>Top 10 Words :</b><br>EDP<br>euros<br>Empresa<br>conta<br>REN<br>CTG<br>Portugal<br>investimento<br>EDP Renováveis<br>ofertas",
          "<b>Top 10 Words :</b><br>EDP<br>mercado<br>ERSE<br>tarifas<br>PREÇOS<br>Empresa<br>conta<br>fundos<br>ELECTRICIDADE<br>Energia",
          "<b>Top 10 Words :</b><br>EDP<br>Empresa<br>rede<br>serviços<br>Energia<br>conta<br>clientes<br>comunicações<br>distribuição<br>contrato",
          "<b>Top 10 Words :</b><br>EDP<br>conta<br>Governo<br>ERSE<br>Empresa<br>destaque<br>Estado<br>euros<br>Tribunal<br>centrais",
          "<b>Top 10 Words :</b><br>EDP<br>Empresa<br>euros<br>centrais<br>conta<br>Em Portugal<br>renováveis<br>CTG<br>mercado<br>activos",
          "<b>Top 10 Words :</b><br>EDP<br>Estado<br>Sampaio Nunes<br>rendas<br>caso<br>relatório<br>Empresa<br>Governo<br>comissão<br>euros",
          "<b>Top 10 Words :</b><br>EDP<br>euros<br>Empresa<br>Estado<br>Energia<br>rendas<br>Engie<br>anos<br>Manuel Pinho<br>concessão",
          "<b>Top 10 Words :</b><br>EDP<br>barragem<br>Empresa<br>Manuel Pinho<br>anos<br>Governo<br>Fridão<br>Premium<br>relatório<br>rendas",
          "<b>Top 10 Words :</b><br>EDP<br>incêndios<br>Empresa<br>Braga<br>EDP Distribuição<br>carregamento<br>Cartaz<br>Premium<br>The Roots<br>anos",
          "<b>Top 10 Words :</b><br>EDP<br>euros<br>défice<br>anos<br>histórias<br>helicóptero<br>PSD<br>fonte<br>Foco Imagem do Dia Galeria Tempo Infografias RSS<br>serviço",
          "<b>Top 10 Words :</b><br>EDP<br>euros<br>Empresa<br>EDP Renováveis<br>oferta<br>anos<br>conta<br>França<br>direitos<br>preço",
          "<b>Top 10 Words :</b><br>EDP<br>conta<br>Energia<br>consumidores<br>ERSE<br>rendas<br>Empresa<br>destaque<br>euros<br>corte",
          "<b>Top 10 Words :</b><br>EDP<br>contadores<br>Energia<br>Empresa<br>euros<br>eletricidade<br>consumidores<br>António Costa<br>anos<br>arguidos",
          "<b>Top 10 Words :</b><br>EDP<br>conta<br>euros<br>Empresa<br>destaque<br>barragem<br>barragens<br>comunidade<br>ELECTRICIDADE<br>Governo",
          "<b>Top 10 Words :</b><br>EDP<br>imagem<br>mercado<br>Energia<br>Empresa<br>nome<br>conta<br>ERSE<br>ELECTRICIDADE<br>Espanha",
          "<b>Top 10 Words :</b><br>EDP<br>Monchique<br>Empresa<br>eletricidade<br>Energia<br>Fogo<br>euros<br>segurança<br>EUA<br>zonas",
          "<b>Top 10 Words :</b><br>EDP<br>euros<br>Empresa<br>eletricidade<br>Energia<br>semana<br>Em Portugal<br>barragens<br>resultados<br>venda",
          "<b>Top 10 Words :</b><br>EDP<br>Galp<br>ataque<br>shares<br>Governo<br>Estado<br>ministros<br>operações<br>serviços<br>Empresa",
          "<b>Top 10 Words :</b><br>EDP<br>Energia<br>Paul Singer<br>Empresa<br>ataque<br>conta<br>Elliot<br>alvo<br>perito<br>preço",
          "<b>Top 10 Words :</b><br>EDP<br>António Mexia<br>juiz<br>Carlos Alexandre<br>caso<br>eletricidade<br>Empresa<br>euros<br>anos<br>carregamento",
          "<b>Top 10 Words :</b><br>EDP<br>áreas<br>Empresa<br>euros<br>concessão<br>Portugal<br>condições<br>pandemia<br>Acompanhe<br>Caixa BI",
          "<b>Top 10 Words :</b><br>euros<br>EDPR<br>EDP<br>Espanha<br>acordo<br>capital<br>Viesgo<br>conta<br>mercado<br>Empresa",
          "<b>Top 10 Words :</b><br>EDP<br>Espanha<br>euros<br>Empresa<br>Guardar<br>aquisição<br>ativos<br>semestre<br>áreas<br>compra",
          "<b>Top 10 Words :</b><br>EDP<br>euros<br>Empresa<br>pandemia<br>Artur Barrio<br>semestre<br>activos<br>conta<br>período<br>tarifa",
          "<b>Top 10 Words :</b><br>EDP<br>Portugal<br>mobilidade<br>caso<br>funções<br>Manso Neto<br>António Mexia<br>CAE<br>Carlos Alexandre<br>euros",
          "<b>Top 10 Words :</b><br>EDP<br>mobilidade<br>Portugal<br>funções<br>caso<br>Manso Neto<br>juiz<br>postos<br>António Mexia<br>Carlos Alexandre"
         ],
         "marker": {
          "color": [
           "green",
           "black",
           "green",
           "red",
           "red",
           "black",
           "green",
           "black",
           "green",
           "green",
           "black",
           "green",
           "black",
           "black",
           "black",
           "black",
           "black",
           "black",
           "black",
           "black",
           "green",
           "black",
           "black",
           "green",
           "green",
           "black",
           "black",
           "black",
           "black",
           "green",
           "green",
           "green",
           "red",
           "green",
           "black",
           "black",
           "black",
           "black",
           "black",
           "black",
           "black",
           "black",
           "black",
           "black",
           "black",
           "black",
           "black",
           "black",
           "black",
           "black",
           "black",
           "black",
           "black",
           "black",
           "black",
           "black",
           "black",
           "black",
           "red",
           "black",
           "black",
           "black",
           "green",
           "green",
           "red",
           "black",
           "green",
           "black",
           "green",
           "red",
           "red",
           "green",
           "green",
           "red",
           "green",
           "green",
           "green",
           "red",
           "green",
           "black",
           "red",
           "green",
           "green",
           "red",
           "black",
           "black",
           "black",
           "black",
           "black",
           "red",
           "red",
           "black",
           "black",
           "green",
           "green",
           "green",
           "green",
           "green",
           "black",
           "black",
           "black",
           "black",
           "green",
           "red",
           "red",
           "green",
           "black",
           "black",
           "black",
           "black",
           "green",
           "green",
           "black",
           "green",
           "green",
           "green",
           "green",
           "black",
           "green",
           "green",
           "green",
           "black",
           "green",
           "green",
           "green",
           "green",
           "red",
           "red",
           "green",
           "green",
           "green",
           "green",
           "green",
           "green",
           "green",
           "green",
           "green",
           "green",
           "green",
           "red",
           "black",
           "green",
           "black",
           "green",
           "green",
           "green",
           "green",
           "green",
           "green",
           "green",
           "green",
           "green",
           "red",
           "green",
           "green",
           "green",
           "green",
           "green",
           "green",
           "green",
           "green",
           "green",
           "red",
           "green",
           "green",
           "green",
           "green",
           "green",
           "green",
           "green",
           "green",
           "green",
           "green",
           "green",
           "red",
           "green",
           "green",
           "red",
           "green",
           "green",
           "red",
           "red",
           "green",
           "green",
           "red",
           "green",
           "green",
           "green",
           "green",
           "green",
           "green"
          ]
         },
         "name": "Negative Sentiment",
         "opacity": 0.5,
         "showlegend": false,
         "type": "bar",
         "x": [
          "2005-02-01T00:00:00",
          "2005-03-01T00:00:00",
          "2005-04-01T00:00:00",
          "2005-05-01T00:00:00",
          "2005-06-01T00:00:00",
          "2005-07-01T00:00:00",
          "2005-08-01T00:00:00",
          "2005-09-01T00:00:00",
          "2005-10-01T00:00:00",
          "2005-11-01T00:00:00",
          "2005-12-01T00:00:00",
          "2006-01-01T00:00:00",
          "2006-02-01T00:00:00",
          "2006-03-01T00:00:00",
          "2006-04-01T00:00:00",
          "2006-05-01T00:00:00",
          "2006-06-01T00:00:00",
          "2006-07-01T00:00:00",
          "2006-08-01T00:00:00",
          "2006-09-01T00:00:00",
          "2006-10-01T00:00:00",
          "2006-11-01T00:00:00",
          "2006-12-01T00:00:00",
          "2007-01-01T00:00:00",
          "2007-02-01T00:00:00",
          "2007-03-01T00:00:00",
          "2007-04-01T00:00:00",
          "2007-05-01T00:00:00",
          "2007-06-01T00:00:00",
          "2007-07-01T00:00:00",
          "2007-08-01T00:00:00",
          "2007-09-01T00:00:00",
          "2007-10-01T00:00:00",
          "2007-11-01T00:00:00",
          "2007-12-01T00:00:00",
          "2008-01-01T00:00:00",
          "2008-02-01T00:00:00",
          "2008-03-01T00:00:00",
          "2008-04-01T00:00:00",
          "2008-05-01T00:00:00",
          "2008-06-01T00:00:00",
          "2008-07-01T00:00:00",
          "2008-08-01T00:00:00",
          "2008-09-01T00:00:00",
          "2008-10-01T00:00:00",
          "2008-11-01T00:00:00",
          "2008-12-01T00:00:00",
          "2009-01-01T00:00:00",
          "2009-02-01T00:00:00",
          "2009-03-01T00:00:00",
          "2009-04-01T00:00:00",
          "2009-05-01T00:00:00",
          "2009-06-01T00:00:00",
          "2009-07-01T00:00:00",
          "2009-08-01T00:00:00",
          "2009-09-01T00:00:00",
          "2009-10-01T00:00:00",
          "2009-11-01T00:00:00",
          "2009-12-01T00:00:00",
          "2010-01-01T00:00:00",
          "2010-02-01T00:00:00",
          "2010-03-01T00:00:00",
          "2010-04-01T00:00:00",
          "2010-05-01T00:00:00",
          "2010-06-01T00:00:00",
          "2010-07-01T00:00:00",
          "2010-08-01T00:00:00",
          "2010-09-01T00:00:00",
          "2010-10-01T00:00:00",
          "2010-11-01T00:00:00",
          "2010-12-01T00:00:00",
          "2011-01-01T00:00:00",
          "2011-02-01T00:00:00",
          "2011-03-01T00:00:00",
          "2011-04-01T00:00:00",
          "2011-05-01T00:00:00",
          "2011-06-01T00:00:00",
          "2011-07-01T00:00:00",
          "2011-08-01T00:00:00",
          "2011-09-01T00:00:00",
          "2011-10-01T00:00:00",
          "2011-11-01T00:00:00",
          "2011-12-01T00:00:00",
          "2012-01-01T00:00:00",
          "2012-02-01T00:00:00",
          "2012-03-01T00:00:00",
          "2012-04-01T00:00:00",
          "2012-05-01T00:00:00",
          "2012-06-01T00:00:00",
          "2012-07-01T00:00:00",
          "2012-08-01T00:00:00",
          "2012-09-01T00:00:00",
          "2012-10-01T00:00:00",
          "2012-11-01T00:00:00",
          "2012-12-01T00:00:00",
          "2013-01-01T00:00:00",
          "2013-02-01T00:00:00",
          "2013-03-01T00:00:00",
          "2013-04-01T00:00:00",
          "2013-05-01T00:00:00",
          "2013-06-01T00:00:00",
          "2013-07-01T00:00:00",
          "2013-08-01T00:00:00",
          "2013-09-01T00:00:00",
          "2013-10-01T00:00:00",
          "2013-11-01T00:00:00",
          "2013-12-01T00:00:00",
          "2014-01-01T00:00:00",
          "2014-02-01T00:00:00",
          "2014-03-01T00:00:00",
          "2014-04-01T00:00:00",
          "2014-05-01T00:00:00",
          "2014-06-01T00:00:00",
          "2014-07-01T00:00:00",
          "2014-08-01T00:00:00",
          "2014-09-01T00:00:00",
          "2014-10-01T00:00:00",
          "2014-11-01T00:00:00",
          "2014-12-01T00:00:00",
          "2015-01-01T00:00:00",
          "2015-02-01T00:00:00",
          "2015-03-01T00:00:00",
          "2015-04-01T00:00:00",
          "2015-05-01T00:00:00",
          "2015-06-01T00:00:00",
          "2015-07-01T00:00:00",
          "2015-08-01T00:00:00",
          "2015-09-01T00:00:00",
          "2015-10-01T00:00:00",
          "2015-11-01T00:00:00",
          "2015-12-01T00:00:00",
          "2016-01-01T00:00:00",
          "2016-02-01T00:00:00",
          "2016-03-01T00:00:00",
          "2016-04-01T00:00:00",
          "2016-05-01T00:00:00",
          "2016-06-01T00:00:00",
          "2016-07-01T00:00:00",
          "2016-08-01T00:00:00",
          "2016-09-01T00:00:00",
          "2016-10-01T00:00:00",
          "2016-11-01T00:00:00",
          "2016-12-01T00:00:00",
          "2017-01-01T00:00:00",
          "2017-02-01T00:00:00",
          "2017-03-01T00:00:00",
          "2017-04-01T00:00:00",
          "2017-05-01T00:00:00",
          "2017-06-01T00:00:00",
          "2017-07-01T00:00:00",
          "2017-08-01T00:00:00",
          "2017-09-01T00:00:00",
          "2017-10-01T00:00:00",
          "2017-11-01T00:00:00",
          "2017-12-01T00:00:00",
          "2018-01-01T00:00:00",
          "2018-02-01T00:00:00",
          "2018-03-01T00:00:00",
          "2018-04-01T00:00:00",
          "2018-05-01T00:00:00",
          "2018-06-01T00:00:00",
          "2018-07-01T00:00:00",
          "2018-08-01T00:00:00",
          "2018-09-01T00:00:00",
          "2018-10-01T00:00:00",
          "2018-11-01T00:00:00",
          "2018-12-01T00:00:00",
          "2019-01-01T00:00:00",
          "2019-02-01T00:00:00",
          "2019-03-01T00:00:00",
          "2019-04-01T00:00:00",
          "2019-05-01T00:00:00",
          "2019-06-01T00:00:00",
          "2019-07-01T00:00:00",
          "2019-08-01T00:00:00",
          "2019-09-01T00:00:00",
          "2019-10-01T00:00:00",
          "2019-11-01T00:00:00",
          "2019-12-01T00:00:00",
          "2020-01-01T00:00:00",
          "2020-02-01T00:00:00",
          "2020-03-01T00:00:00",
          "2020-04-01T00:00:00",
          "2020-05-01T00:00:00",
          "2020-06-01T00:00:00",
          "2020-07-01T00:00:00",
          "2020-08-01T00:00:00",
          "2020-09-01T00:00:00",
          "2020-10-01T00:00:00",
          "2020-11-01T00:00:00",
          "2020-12-01T00:00:00"
         ],
         "y": [
          0.30283114673242967,
          0,
          0.34256049914153813,
          0.5656322371059541,
          0.2877941573229367,
          0,
          0.34177106546866426,
          0,
          0.1961367888680718,
          0.07339529871333611,
          0,
          0.29281710632838925,
          0,
          0,
          0,
          0,
          0,
          0,
          0,
          0,
          0.20763124774253067,
          0,
          0,
          0.2620512477425306,
          0.36210759389637676,
          0,
          0,
          0,
          0,
          0.29133177115850867,
          0.07338594995950559,
          0.301048304019587,
          0.794055014883732,
          0.10553482900974825,
          0,
          0,
          0,
          0,
          0,
          0,
          0,
          0,
          0,
          0,
          0,
          0,
          0,
          0,
          0,
          0,
          0,
          0,
          0,
          0,
          0,
          0,
          0,
          0,
          0.09247424245354777,
          0,
          0,
          0,
          0.150974051208135,
          0.014869026775092276,
          0.49170321113192816,
          0,
          0.30668938110638494,
          0,
          0.3336649820783702,
          0.6585378720265891,
          0.2217784739643339,
          0.0296014222335812,
          0.16085590775372122,
          0.17894085919147107,
          0.3659675104076882,
          0.13440423880037233,
          0.3768827628940458,
          0.020721167735064605,
          0.10542651520383212,
          0,
          0.09941031263919778,
          0.3437022762155892,
          0.34662073497047025,
          0.05957915076034645,
          0,
          0,
          0,
          0,
          0,
          0.5918187521023834,
          0.2187406549311841,
          0,
          0,
          0.203705101778408,
          0.23809617263007715,
          0.12845728206744034,
          0.12183329519302494,
          0.19490407185449093,
          0,
          0,
          0,
          0,
          0.09813322926717888,
          0.18850660855487378,
          0.06520012872051248,
          0.08948018798470209,
          0,
          0,
          0,
          0,
          0.32489244246865684,
          0.06892028149857304,
          0,
          0.32025321743950036,
          0.32075660949640633,
          0.32335813239914174,
          0.2482536016006333,
          0,
          0.3599725215906338,
          0.32711387077024495,
          0.35779242619370916,
          0,
          0.3403474542213774,
          0.3378481912552978,
          0.3497336719849548,
          0.2472029504664926,
          0.8197382760669931,
          0.4367520855908027,
          0.3511802943686247,
          0.33926390538955725,
          0.2997426462993719,
          0.07493101480853998,
          0.3478438364275029,
          0.3518030279820769,
          0.273267745764961,
          0.014552020177274583,
          0.16600152261142648,
          0.17471149167250005,
          0.28242387580890865,
          0.09109756002323616,
          0,
          0.35015458552138395,
          0,
          0.1581963123957435,
          0.35857617877565523,
          0.20551147310627899,
          0.2349481730245821,
          0.3222269895428293,
          0.20281710303077632,
          0.2733640631163982,
          0.06261721563424127,
          0.03598781112571098,
          0.07838318171974931,
          0.06732120828897453,
          0.10923163228211713,
          0.3168973769876939,
          0.3326316346806954,
          0.15162695467705178,
          0.32786554647612115,
          0.1570465727943382,
          0.2950169990731271,
          0.3452531044839103,
          0.1659187008927173,
          0.3538667061975736,
          0.3229033571690288,
          0.3400774523146077,
          0.33524210714882746,
          0.34918019175582954,
          0.3194605617952448,
          0.3466248236735064,
          0.3142307401763493,
          0.24915634374730372,
          0.1000582059148804,
          0.005425516383164242,
          0.1995920971274498,
          0.046852713873109575,
          0.16686100788242936,
          0.376186732494823,
          0.17347771327797895,
          0.33062060828628986,
          0.1013370370534814,
          0.045076306479009676,
          0.019655813856366222,
          0.06377276131343768,
          0.12916836275959814,
          0.21355282811087245,
          0.3639430500960213,
          0.33356466945704016,
          0.34162562931475243,
          0.3359288084683936,
          0.29827128950617415
         ]
        },
        {
         "marker": {
          "color": "green"
         },
         "name": "Positive Sentiment",
         "type": "bar",
         "visible": "legendonly",
         "x": [
          null
         ],
         "y": [
          null
         ]
        },
        {
         "marker": {
          "color": "red"
         },
         "name": "Negative Sentiment",
         "type": "bar",
         "visible": "legendonly",
         "x": [
          null
         ],
         "y": [
          null
         ]
        }
       ],
       "layout": {
        "hovermode": "x unified",
        "legend": {
         "title": {
          "text": "Legend"
         }
        },
        "margin": {
         "b": 50,
         "l": 50,
         "r": 50,
         "t": 50
        },
        "paper_bgcolor": "rgba(0, 0, 0, 0)",
        "plot_bgcolor": "rgba(0, 0, 0, 0)",
        "template": {
         "data": {
          "bar": [
           {
            "error_x": {
             "color": "#2a3f5f"
            },
            "error_y": {
             "color": "#2a3f5f"
            },
            "marker": {
             "line": {
              "color": "white",
              "width": 0.5
             },
             "pattern": {
              "fillmode": "overlay",
              "size": 10,
              "solidity": 0.2
             }
            },
            "type": "bar"
           }
          ],
          "barpolar": [
           {
            "marker": {
             "line": {
              "color": "white",
              "width": 0.5
             },
             "pattern": {
              "fillmode": "overlay",
              "size": 10,
              "solidity": 0.2
             }
            },
            "type": "barpolar"
           }
          ],
          "carpet": [
           {
            "aaxis": {
             "endlinecolor": "#2a3f5f",
             "gridcolor": "#C8D4E3",
             "linecolor": "#C8D4E3",
             "minorgridcolor": "#C8D4E3",
             "startlinecolor": "#2a3f5f"
            },
            "baxis": {
             "endlinecolor": "#2a3f5f",
             "gridcolor": "#C8D4E3",
             "linecolor": "#C8D4E3",
             "minorgridcolor": "#C8D4E3",
             "startlinecolor": "#2a3f5f"
            },
            "type": "carpet"
           }
          ],
          "choropleth": [
           {
            "colorbar": {
             "outlinewidth": 0,
             "ticks": ""
            },
            "type": "choropleth"
           }
          ],
          "contour": [
           {
            "colorbar": {
             "outlinewidth": 0,
             "ticks": ""
            },
            "colorscale": [
             [
              0,
              "#0d0887"
             ],
             [
              0.1111111111111111,
              "#46039f"
             ],
             [
              0.2222222222222222,
              "#7201a8"
             ],
             [
              0.3333333333333333,
              "#9c179e"
             ],
             [
              0.4444444444444444,
              "#bd3786"
             ],
             [
              0.5555555555555556,
              "#d8576b"
             ],
             [
              0.6666666666666666,
              "#ed7953"
             ],
             [
              0.7777777777777778,
              "#fb9f3a"
             ],
             [
              0.8888888888888888,
              "#fdca26"
             ],
             [
              1,
              "#f0f921"
             ]
            ],
            "type": "contour"
           }
          ],
          "contourcarpet": [
           {
            "colorbar": {
             "outlinewidth": 0,
             "ticks": ""
            },
            "type": "contourcarpet"
           }
          ],
          "heatmap": [
           {
            "colorbar": {
             "outlinewidth": 0,
             "ticks": ""
            },
            "colorscale": [
             [
              0,
              "#0d0887"
             ],
             [
              0.1111111111111111,
              "#46039f"
             ],
             [
              0.2222222222222222,
              "#7201a8"
             ],
             [
              0.3333333333333333,
              "#9c179e"
             ],
             [
              0.4444444444444444,
              "#bd3786"
             ],
             [
              0.5555555555555556,
              "#d8576b"
             ],
             [
              0.6666666666666666,
              "#ed7953"
             ],
             [
              0.7777777777777778,
              "#fb9f3a"
             ],
             [
              0.8888888888888888,
              "#fdca26"
             ],
             [
              1,
              "#f0f921"
             ]
            ],
            "type": "heatmap"
           }
          ],
          "heatmapgl": [
           {
            "colorbar": {
             "outlinewidth": 0,
             "ticks": ""
            },
            "colorscale": [
             [
              0,
              "#0d0887"
             ],
             [
              0.1111111111111111,
              "#46039f"
             ],
             [
              0.2222222222222222,
              "#7201a8"
             ],
             [
              0.3333333333333333,
              "#9c179e"
             ],
             [
              0.4444444444444444,
              "#bd3786"
             ],
             [
              0.5555555555555556,
              "#d8576b"
             ],
             [
              0.6666666666666666,
              "#ed7953"
             ],
             [
              0.7777777777777778,
              "#fb9f3a"
             ],
             [
              0.8888888888888888,
              "#fdca26"
             ],
             [
              1,
              "#f0f921"
             ]
            ],
            "type": "heatmapgl"
           }
          ],
          "histogram": [
           {
            "marker": {
             "pattern": {
              "fillmode": "overlay",
              "size": 10,
              "solidity": 0.2
             }
            },
            "type": "histogram"
           }
          ],
          "histogram2d": [
           {
            "colorbar": {
             "outlinewidth": 0,
             "ticks": ""
            },
            "colorscale": [
             [
              0,
              "#0d0887"
             ],
             [
              0.1111111111111111,
              "#46039f"
             ],
             [
              0.2222222222222222,
              "#7201a8"
             ],
             [
              0.3333333333333333,
              "#9c179e"
             ],
             [
              0.4444444444444444,
              "#bd3786"
             ],
             [
              0.5555555555555556,
              "#d8576b"
             ],
             [
              0.6666666666666666,
              "#ed7953"
             ],
             [
              0.7777777777777778,
              "#fb9f3a"
             ],
             [
              0.8888888888888888,
              "#fdca26"
             ],
             [
              1,
              "#f0f921"
             ]
            ],
            "type": "histogram2d"
           }
          ],
          "histogram2dcontour": [
           {
            "colorbar": {
             "outlinewidth": 0,
             "ticks": ""
            },
            "colorscale": [
             [
              0,
              "#0d0887"
             ],
             [
              0.1111111111111111,
              "#46039f"
             ],
             [
              0.2222222222222222,
              "#7201a8"
             ],
             [
              0.3333333333333333,
              "#9c179e"
             ],
             [
              0.4444444444444444,
              "#bd3786"
             ],
             [
              0.5555555555555556,
              "#d8576b"
             ],
             [
              0.6666666666666666,
              "#ed7953"
             ],
             [
              0.7777777777777778,
              "#fb9f3a"
             ],
             [
              0.8888888888888888,
              "#fdca26"
             ],
             [
              1,
              "#f0f921"
             ]
            ],
            "type": "histogram2dcontour"
           }
          ],
          "mesh3d": [
           {
            "colorbar": {
             "outlinewidth": 0,
             "ticks": ""
            },
            "type": "mesh3d"
           }
          ],
          "parcoords": [
           {
            "line": {
             "colorbar": {
              "outlinewidth": 0,
              "ticks": ""
             }
            },
            "type": "parcoords"
           }
          ],
          "pie": [
           {
            "automargin": true,
            "type": "pie"
           }
          ],
          "scatter": [
           {
            "fillpattern": {
             "fillmode": "overlay",
             "size": 10,
             "solidity": 0.2
            },
            "type": "scatter"
           }
          ],
          "scatter3d": [
           {
            "line": {
             "colorbar": {
              "outlinewidth": 0,
              "ticks": ""
             }
            },
            "marker": {
             "colorbar": {
              "outlinewidth": 0,
              "ticks": ""
             }
            },
            "type": "scatter3d"
           }
          ],
          "scattercarpet": [
           {
            "marker": {
             "colorbar": {
              "outlinewidth": 0,
              "ticks": ""
             }
            },
            "type": "scattercarpet"
           }
          ],
          "scattergeo": [
           {
            "marker": {
             "colorbar": {
              "outlinewidth": 0,
              "ticks": ""
             }
            },
            "type": "scattergeo"
           }
          ],
          "scattergl": [
           {
            "marker": {
             "colorbar": {
              "outlinewidth": 0,
              "ticks": ""
             }
            },
            "type": "scattergl"
           }
          ],
          "scattermapbox": [
           {
            "marker": {
             "colorbar": {
              "outlinewidth": 0,
              "ticks": ""
             }
            },
            "type": "scattermapbox"
           }
          ],
          "scatterpolar": [
           {
            "marker": {
             "colorbar": {
              "outlinewidth": 0,
              "ticks": ""
             }
            },
            "type": "scatterpolar"
           }
          ],
          "scatterpolargl": [
           {
            "marker": {
             "colorbar": {
              "outlinewidth": 0,
              "ticks": ""
             }
            },
            "type": "scatterpolargl"
           }
          ],
          "scatterternary": [
           {
            "marker": {
             "colorbar": {
              "outlinewidth": 0,
              "ticks": ""
             }
            },
            "type": "scatterternary"
           }
          ],
          "surface": [
           {
            "colorbar": {
             "outlinewidth": 0,
             "ticks": ""
            },
            "colorscale": [
             [
              0,
              "#0d0887"
             ],
             [
              0.1111111111111111,
              "#46039f"
             ],
             [
              0.2222222222222222,
              "#7201a8"
             ],
             [
              0.3333333333333333,
              "#9c179e"
             ],
             [
              0.4444444444444444,
              "#bd3786"
             ],
             [
              0.5555555555555556,
              "#d8576b"
             ],
             [
              0.6666666666666666,
              "#ed7953"
             ],
             [
              0.7777777777777778,
              "#fb9f3a"
             ],
             [
              0.8888888888888888,
              "#fdca26"
             ],
             [
              1,
              "#f0f921"
             ]
            ],
            "type": "surface"
           }
          ],
          "table": [
           {
            "cells": {
             "fill": {
              "color": "#EBF0F8"
             },
             "line": {
              "color": "white"
             }
            },
            "header": {
             "fill": {
              "color": "#C8D4E3"
             },
             "line": {
              "color": "white"
             }
            },
            "type": "table"
           }
          ]
         },
         "layout": {
          "annotationdefaults": {
           "arrowcolor": "#2a3f5f",
           "arrowhead": 0,
           "arrowwidth": 1
          },
          "autotypenumbers": "strict",
          "coloraxis": {
           "colorbar": {
            "outlinewidth": 0,
            "ticks": ""
           }
          },
          "colorscale": {
           "diverging": [
            [
             0,
             "#8e0152"
            ],
            [
             0.1,
             "#c51b7d"
            ],
            [
             0.2,
             "#de77ae"
            ],
            [
             0.3,
             "#f1b6da"
            ],
            [
             0.4,
             "#fde0ef"
            ],
            [
             0.5,
             "#f7f7f7"
            ],
            [
             0.6,
             "#e6f5d0"
            ],
            [
             0.7,
             "#b8e186"
            ],
            [
             0.8,
             "#7fbc41"
            ],
            [
             0.9,
             "#4d9221"
            ],
            [
             1,
             "#276419"
            ]
           ],
           "sequential": [
            [
             0,
             "#0d0887"
            ],
            [
             0.1111111111111111,
             "#46039f"
            ],
            [
             0.2222222222222222,
             "#7201a8"
            ],
            [
             0.3333333333333333,
             "#9c179e"
            ],
            [
             0.4444444444444444,
             "#bd3786"
            ],
            [
             0.5555555555555556,
             "#d8576b"
            ],
            [
             0.6666666666666666,
             "#ed7953"
            ],
            [
             0.7777777777777778,
             "#fb9f3a"
            ],
            [
             0.8888888888888888,
             "#fdca26"
            ],
            [
             1,
             "#f0f921"
            ]
           ],
           "sequentialminus": [
            [
             0,
             "#0d0887"
            ],
            [
             0.1111111111111111,
             "#46039f"
            ],
            [
             0.2222222222222222,
             "#7201a8"
            ],
            [
             0.3333333333333333,
             "#9c179e"
            ],
            [
             0.4444444444444444,
             "#bd3786"
            ],
            [
             0.5555555555555556,
             "#d8576b"
            ],
            [
             0.6666666666666666,
             "#ed7953"
            ],
            [
             0.7777777777777778,
             "#fb9f3a"
            ],
            [
             0.8888888888888888,
             "#fdca26"
            ],
            [
             1,
             "#f0f921"
            ]
           ]
          },
          "colorway": [
           "#636efa",
           "#EF553B",
           "#00cc96",
           "#ab63fa",
           "#FFA15A",
           "#19d3f3",
           "#FF6692",
           "#B6E880",
           "#FF97FF",
           "#FECB52"
          ],
          "font": {
           "color": "#2a3f5f"
          },
          "geo": {
           "bgcolor": "white",
           "lakecolor": "white",
           "landcolor": "white",
           "showlakes": true,
           "showland": true,
           "subunitcolor": "#C8D4E3"
          },
          "hoverlabel": {
           "align": "left"
          },
          "hovermode": "closest",
          "mapbox": {
           "style": "light"
          },
          "paper_bgcolor": "white",
          "plot_bgcolor": "white",
          "polar": {
           "angularaxis": {
            "gridcolor": "#EBF0F8",
            "linecolor": "#EBF0F8",
            "ticks": ""
           },
           "bgcolor": "white",
           "radialaxis": {
            "gridcolor": "#EBF0F8",
            "linecolor": "#EBF0F8",
            "ticks": ""
           }
          },
          "scene": {
           "xaxis": {
            "backgroundcolor": "white",
            "gridcolor": "#DFE8F3",
            "gridwidth": 2,
            "linecolor": "#EBF0F8",
            "showbackground": true,
            "ticks": "",
            "zerolinecolor": "#EBF0F8"
           },
           "yaxis": {
            "backgroundcolor": "white",
            "gridcolor": "#DFE8F3",
            "gridwidth": 2,
            "linecolor": "#EBF0F8",
            "showbackground": true,
            "ticks": "",
            "zerolinecolor": "#EBF0F8"
           },
           "zaxis": {
            "backgroundcolor": "white",
            "gridcolor": "#DFE8F3",
            "gridwidth": 2,
            "linecolor": "#EBF0F8",
            "showbackground": true,
            "ticks": "",
            "zerolinecolor": "#EBF0F8"
           }
          },
          "shapedefaults": {
           "line": {
            "color": "#2a3f5f"
           }
          },
          "ternary": {
           "aaxis": {
            "gridcolor": "#DFE8F3",
            "linecolor": "#A2B1C6",
            "ticks": ""
           },
           "baxis": {
            "gridcolor": "#DFE8F3",
            "linecolor": "#A2B1C6",
            "ticks": ""
           },
           "bgcolor": "white",
           "caxis": {
            "gridcolor": "#DFE8F3",
            "linecolor": "#A2B1C6",
            "ticks": ""
           }
          },
          "title": {
           "x": 0.05
          },
          "xaxis": {
           "automargin": true,
           "gridcolor": "#EBF0F8",
           "linecolor": "#EBF0F8",
           "ticks": "",
           "title": {
            "standoff": 15
           },
           "zerolinecolor": "#EBF0F8",
           "zerolinewidth": 2
          },
          "yaxis": {
           "automargin": true,
           "gridcolor": "#EBF0F8",
           "linecolor": "#EBF0F8",
           "ticks": "",
           "title": {
            "standoff": 15
           },
           "zerolinecolor": "#EBF0F8",
           "zerolinewidth": 2
          }
         }
        },
        "title": {
         "text": "Stock Price and Sentiment Analysis: EDP"
        },
        "xaxis": {
         "linecolor": "black",
         "showline": true,
         "title": {
          "text": "Date"
         },
         "zeroline": false
        },
        "yaxis": {
         "linecolor": "black",
         "range": [
          0,
          5.4138
         ],
         "showline": true,
         "title": {
          "text": "Stock Price (€) / Sentiment (0-1)"
         },
         "zeroline": false
        }
       }
      }
     },
     "metadata": {},
     "output_type": "display_data"
    },
    {
     "data": {
      "application/vnd.plotly.v1+json": {
       "config": {
        "plotlyServerURL": "https://plot.ly"
       },
       "data": [
        {
         "mode": "lines",
         "name": "Stock Price",
         "type": "scatter",
         "x": [
          "2005-02-01T00:00:00",
          "2005-03-01T00:00:00",
          "2005-04-01T00:00:00",
          "2005-05-01T00:00:00",
          "2005-06-01T00:00:00",
          "2005-07-01T00:00:00",
          "2005-08-01T00:00:00",
          "2005-09-01T00:00:00",
          "2005-10-01T00:00:00",
          "2005-11-01T00:00:00",
          "2005-12-01T00:00:00",
          "2006-01-01T00:00:00",
          "2006-02-01T00:00:00",
          "2006-03-01T00:00:00",
          "2006-04-01T00:00:00",
          "2006-05-01T00:00:00",
          "2006-06-01T00:00:00",
          "2006-07-01T00:00:00",
          "2006-08-01T00:00:00",
          "2006-09-01T00:00:00",
          "2006-10-01T00:00:00",
          "2006-11-01T00:00:00",
          "2006-12-01T00:00:00",
          "2007-01-01T00:00:00",
          "2007-02-01T00:00:00",
          "2007-03-01T00:00:00",
          "2007-04-01T00:00:00",
          "2007-05-01T00:00:00",
          "2007-06-01T00:00:00",
          "2007-07-01T00:00:00",
          "2007-08-01T00:00:00",
          "2007-09-01T00:00:00",
          "2007-10-01T00:00:00",
          "2007-11-01T00:00:00",
          "2007-12-01T00:00:00",
          "2008-01-01T00:00:00",
          "2008-02-01T00:00:00",
          "2008-03-01T00:00:00",
          "2008-04-01T00:00:00",
          "2008-05-01T00:00:00",
          "2008-06-01T00:00:00",
          "2008-07-01T00:00:00",
          "2008-08-01T00:00:00",
          "2008-09-01T00:00:00",
          "2008-10-01T00:00:00",
          "2008-11-01T00:00:00",
          "2008-12-01T00:00:00",
          "2009-01-01T00:00:00",
          "2009-02-01T00:00:00",
          "2009-03-01T00:00:00",
          "2009-04-01T00:00:00",
          "2009-05-01T00:00:00",
          "2009-06-01T00:00:00",
          "2009-07-01T00:00:00",
          "2009-08-01T00:00:00",
          "2009-09-01T00:00:00",
          "2009-10-01T00:00:00",
          "2009-11-01T00:00:00",
          "2009-12-01T00:00:00",
          "2010-01-01T00:00:00",
          "2010-02-01T00:00:00",
          "2010-03-01T00:00:00",
          "2010-04-01T00:00:00",
          "2010-05-01T00:00:00",
          "2010-06-01T00:00:00",
          "2010-07-01T00:00:00",
          "2010-08-01T00:00:00",
          "2010-09-01T00:00:00",
          "2010-10-01T00:00:00",
          "2010-11-01T00:00:00",
          "2010-12-01T00:00:00",
          "2011-01-01T00:00:00",
          "2011-02-01T00:00:00",
          "2011-03-01T00:00:00",
          "2011-04-01T00:00:00",
          "2011-05-01T00:00:00",
          "2011-06-01T00:00:00",
          "2011-07-01T00:00:00",
          "2011-08-01T00:00:00",
          "2011-09-01T00:00:00",
          "2011-10-01T00:00:00",
          "2011-11-01T00:00:00",
          "2011-12-01T00:00:00",
          "2012-01-01T00:00:00",
          "2012-02-01T00:00:00",
          "2012-03-01T00:00:00",
          "2012-04-01T00:00:00",
          "2012-05-01T00:00:00",
          "2012-06-01T00:00:00",
          "2012-07-01T00:00:00",
          "2012-08-01T00:00:00",
          "2012-09-01T00:00:00",
          "2012-10-01T00:00:00",
          "2012-11-01T00:00:00",
          "2012-12-01T00:00:00",
          "2013-01-01T00:00:00",
          "2013-02-01T00:00:00",
          "2013-03-01T00:00:00",
          "2013-04-01T00:00:00",
          "2013-05-01T00:00:00",
          "2013-06-01T00:00:00",
          "2013-07-01T00:00:00",
          "2013-08-01T00:00:00",
          "2013-09-01T00:00:00",
          "2013-10-01T00:00:00",
          "2013-11-01T00:00:00",
          "2013-12-01T00:00:00",
          "2014-01-01T00:00:00",
          "2014-02-01T00:00:00",
          "2014-03-01T00:00:00",
          "2014-04-01T00:00:00",
          "2014-05-01T00:00:00",
          "2014-06-01T00:00:00",
          "2014-07-01T00:00:00",
          "2014-08-01T00:00:00",
          "2014-09-01T00:00:00",
          "2014-10-01T00:00:00",
          "2014-11-01T00:00:00",
          "2014-12-01T00:00:00",
          "2015-01-01T00:00:00",
          "2015-02-01T00:00:00",
          "2015-03-01T00:00:00",
          "2015-04-01T00:00:00",
          "2015-05-01T00:00:00",
          "2015-06-01T00:00:00",
          "2015-07-01T00:00:00",
          "2015-08-01T00:00:00",
          "2015-09-01T00:00:00",
          "2015-10-01T00:00:00",
          "2015-11-01T00:00:00",
          "2015-12-01T00:00:00",
          "2016-01-01T00:00:00",
          "2016-02-01T00:00:00",
          "2016-03-01T00:00:00",
          "2016-04-01T00:00:00",
          "2016-05-01T00:00:00",
          "2016-06-01T00:00:00",
          "2016-07-01T00:00:00",
          "2016-08-01T00:00:00",
          "2016-09-01T00:00:00",
          "2016-10-01T00:00:00",
          "2016-11-01T00:00:00",
          "2016-12-01T00:00:00",
          "2017-01-01T00:00:00",
          "2017-02-01T00:00:00",
          "2017-03-01T00:00:00",
          "2017-04-01T00:00:00",
          "2017-05-01T00:00:00",
          "2017-06-01T00:00:00",
          "2017-07-01T00:00:00",
          "2017-08-01T00:00:00",
          "2017-09-01T00:00:00",
          "2017-10-01T00:00:00",
          "2017-11-01T00:00:00",
          "2017-12-01T00:00:00",
          "2018-01-01T00:00:00",
          "2018-02-01T00:00:00",
          "2018-03-01T00:00:00",
          "2018-04-01T00:00:00",
          "2018-05-01T00:00:00",
          "2018-06-01T00:00:00",
          "2018-07-01T00:00:00",
          "2018-08-01T00:00:00",
          "2018-09-01T00:00:00",
          "2018-10-01T00:00:00",
          "2018-11-01T00:00:00",
          "2018-12-01T00:00:00",
          "2019-01-01T00:00:00",
          "2019-02-01T00:00:00",
          "2019-03-01T00:00:00",
          "2019-04-01T00:00:00",
          "2019-05-01T00:00:00",
          "2019-06-01T00:00:00",
          "2019-07-01T00:00:00",
          "2019-08-01T00:00:00",
          "2019-09-01T00:00:00",
          "2019-10-01T00:00:00",
          "2019-11-01T00:00:00",
          "2019-12-01T00:00:00",
          "2020-01-01T00:00:00",
          "2020-02-01T00:00:00",
          "2020-03-01T00:00:00",
          "2020-04-01T00:00:00",
          "2020-05-01T00:00:00",
          "2020-06-01T00:00:00",
          "2020-07-01T00:00:00",
          "2020-08-01T00:00:00",
          "2020-09-01T00:00:00",
          "2020-10-01T00:00:00",
          "2020-11-01T00:00:00",
          "2020-12-01T00:00:00"
         ],
         "y": [
          0.7359,
          0.7235,
          0.7671,
          0.7422,
          0.711,
          0.7297,
          0.7921,
          0.8856,
          0.842,
          0.9043,
          1.0317,
          1.0317,
          1.1366,
          1.1804,
          1.1804,
          1.0667,
          1.023,
          1.0754,
          1.1366,
          1.1979,
          1.3028,
          1.3115,
          1.3203,
          1.4864,
          1.4252,
          1.4776,
          1.7487,
          1.8973,
          1.8361,
          1.8798,
          1.7137,
          1.5913,
          1.7662,
          1.7924,
          1.7312,
          1.26,
          1.21,
          1.165,
          1.145,
          1.05,
          0.765,
          0.68,
          0.695,
          0.534,
          0.48,
          0.411,
          0.437,
          0.483,
          0.446,
          0.511,
          0.641,
          0.713,
          0.674,
          0.737,
          0.859,
          0.945,
          0.895,
          0.897,
          0.87,
          0.898,
          0.815,
          0.88,
          0.826,
          0.748,
          0.761,
          0.806,
          0.855,
          0.813,
          0.85,
          0.744,
          0.78,
          0.822,
          0.818,
          0.824,
          0.811,
          0.768,
          0.721,
          0.665,
          0.547,
          0.525,
          0.525,
          0.441,
          0.459,
          0.438,
          0.459,
          0.446,
          0.41,
          0.38,
          0.412,
          0.431,
          0.504,
          0.518,
          0.572,
          0.584,
          0.687,
          0.73,
          0.71,
          0.7,
          0.738,
          0.769,
          0.731,
          0.779,
          0.83,
          0.922,
          1.065,
          1.097,
          1.049,
          1.17,
          1.305,
          1.364,
          1.354,
          1.286,
          1.199,
          1.124,
          1.158,
          1.148,
          1.069,
          1.096,
          1.024,
          1.164,
          1.28,
          1.416,
          1.242,
          1.199,
          1.177,
          1.263,
          1.136,
          1.1,
          1.088,
          1.117,
          1.048,
          1.033,
          0.952,
          1.059,
          0.97,
          0.925,
          0.705,
          0.696,
          0.748,
          0.68,
          0.725,
          0.795,
          0.874,
          0.795,
          0.829,
          0.948,
          0.942,
          0.917,
          0.974,
          0.972,
          0.941,
          1.021,
          1.028,
          1.019,
          1.126,
          1.293,
          1.204,
          1.095,
          1.128,
          1.057,
          1.03,
          0.9725,
          0.917,
          0.8925,
          0.8845,
          0.837,
          0.81,
          0.9115,
          0.938,
          0.922,
          0.994,
          0.89,
          0.8495,
          0.845,
          0.825,
          0.855,
          0.9035,
          0.9105,
          0.91,
          0.8395,
          0.708,
          0.5895,
          0.716,
          0.671,
          0.642,
          0.594,
          0.5965,
          0.579,
          0.505,
          0.6735,
          0.6615
         ]
        },
        {
         "hoverlabel": {
          "namelength": 0
         },
         "hovertemplate": [
          "<b>Top 10 Words :</b><br>Sonae<br>euros<br>Gescartão<br>Europac<br>venda<br>Mercado<br>participação<br>Sonae SGPS<br>empresa<br>título",
          "<b>Top 10 Words :</b><br>euros<br>empresa<br>Espanha<br>centros<br>EBITDA<br>Portugal<br>São Paulo<br>construção<br>custos<br>investimentos",
          "<b>Top 10 Words :</b><br>Sonae Indústria<br>euros<br>obrigações<br>BPI<br>acção<br>acções<br>analistas<br>anos<br>empréstimos<br>prazo",
          "News not found.",
          "<b>Top 10 Words :</b><br>BPI<br>PT<br>compra<br>venda<br>Semapa<br>Sonae<br>rubro<br>BBVA<br>BCP<br>Cofina",
          "News not found.",
          "News not found.",
          "News not found.",
          "News not found.",
          "<b>Top 10 Words :</b><br>torres<br>projecto<br>implosão<br>investimento<br>Belmiro de Azevedo<br>zona<br>de Tróia<br>Grupo Sonae<br>Torralta<br>anos",
          "News not found.",
          "News not found.",
          "News not found.",
          "News not found.",
          "News not found.",
          "News not found.",
          "News not found.",
          "News not found.",
          "News not found.",
          "News not found.",
          "News not found.",
          "News not found.",
          "News not found.",
          "<b>Top 10 Words :</b><br>Sonaecom<br>euros<br>PT<br>oferta<br>registo<br>pedido<br>PT Multimédia<br>accionistas<br>acções<br>preço",
          "News not found.",
          "News not found.",
          "News not found.",
          "News not found.",
          "News not found.",
          "News not found.",
          "<b>Top 10 Words :</b><br>PT<br>Sonaecom<br>queixa<br>AdC<br>banda<br>Mercado<br>RDP Madeira<br>abuso<br>empresa<br>fonte",
          "<b>Top 10 Words :</b><br>Belmiro de Azevedo<br>Sonae<br>Mercado<br>Sonae SGPS<br>empresas<br>euros<br>Continente<br>Modelo<br>OPV<br>PME",
          "<b>Top 10 Words :</b><br>activos<br>Sonae Sierra<br>Alemanha<br>Ant1<br>Ant3<br>Brasil<br>Campeonatos Rally<br>Espanha<br>Novo<br>RDP Madeira",
          "<b>Top 10 Words :</b><br>Carrefour<br>euros<br>hipermercados<br>BPI<br>Carrefour Portugal<br>Martins<br>fonte<br>ranking<br>APED<br>Auchan",
          "News not found.",
          "News not found.",
          "News not found.",
          "News not found.",
          "News not found.",
          "News not found.",
          "News not found.",
          "News not found.",
          "News not found.",
          "News not found.",
          "News not found.",
          "News not found.",
          "News not found.",
          "News not found.",
          "News not found.",
          "News not found.",
          "News not found.",
          "News not found.",
          "News not found.",
          "News not found.",
          "News not found.",
          "News not found.",
          "News not found.",
          "News not found.",
          "News not found.",
          "News not found.",
          "News not found.",
          "News not found.",
          "News not found.",
          "<b>Top 10 Words :</b><br>tecnologias<br>Sonae<br>entrada<br>retalho<br>Mercado<br>Economia<br>Paulo Magalhães<br>empresa<br>mercados<br>Angola",
          "News not found.",
          "<b>Top 10 Words :</b><br>Sonae<br>lojas<br>horários<br>vida<br>Economia<br>países<br>Educação<br>Escola Projecto<br>Infografias<br>Iniciativas",
          "<b>Top 10 Words :</b><br>euros<br>Sonae Indústria<br>semestre<br>trimestre<br>período<br>prejuízos<br>redução<br>Economia<br>Lure<br>alienação",
          "News not found.",
          "<b>Top 10 Words :</b><br>Sonae<br>horários<br>hipermercados<br>vida<br>Auchan<br>Continente<br>Economia<br>decisão<br>emprego<br>estabelecimentos",
          "<b>Top 10 Words :</b><br>euros<br>EBITDA<br>Sonae<br>retalho<br>Paulo Azevedo<br>crescimento<br>Economia<br>Espanha<br>aumento<br>criação",
          "News not found.",
          "<b>Top 10 Words :</b><br>campanha<br>candidatos<br>euros<br>Elton John<br>Sonae<br>bebé<br>filho<br>patrão<br>retalho<br>Alegre",
          "<b>Top 10 Words :</b><br>Sonae<br>PT<br>euros<br>OPA<br>anos<br>hora<br>operadora<br>telecomunicações<br>Meu Super<br>Zeinal Bava",
          "<b>Top 10 Words :</b><br>Sonae<br>empresas<br>mundo<br>euros<br>lista<br>sociedade<br>empresa<br>firma<br>hora<br>retalho",
          "<b>Top 10 Words :</b><br>Sonae<br>pressões<br>trabalhadores<br>greve<br>Continente<br>Jerónimo Martins<br>hipermercados<br>CESP<br>Economia<br>Jorge Pinto",
          "<b>Top 10 Words :</b><br>Sonae<br>empresa<br>IC2A<br>BES<br>PSI<br>Sonae Sierra<br>centros<br>restaurantes<br>hora<br>Estado",
          "<b>Top 10 Words :</b><br>Jerónimo<br>Jerónimo de Sousa<br>CDU<br>PCP<br>campanha<br>PSD<br>PS<br>Sonae<br>dias<br>horas",
          "<b>Top 10 Words :</b><br>Sonae<br>Sonae Indústria<br>financiamento<br>exposição<br>resposta<br>hora<br>Economia<br>Egipto<br>Turquia<br>Zippy",
          "<b>Top 10 Words :</b><br>Sonae<br>rede<br>resposta<br>transportes<br>internacionalização<br>marca<br>terra<br>trabalho<br>Anónimo<br>Cabreira",
          "<b>Top 10 Words :</b><br>Sonae Sierra<br>Brasil<br>Colômbia<br>centros<br>estratégia<br>empresa<br>investimentos<br>Porto<br>Sonae<br>capital",
          "<b>Top 10 Words :</b><br>Sonae Indústria<br>Sonae<br>presidência<br>Bianchi de Aguiar<br>Comissão Executiva<br>Lisboa<br>euros<br>frente<br>gestão<br>hora",
          "<b>Top 10 Words :</b><br>Sonae Indústria<br>negócios<br>euros<br>prejuízos<br>Alexandra Lucas Coelho<br>Corrigir Provedor do Leitor Feedback Diminuir<br>Escola Projecto<br>Fernando Veludo<br>Infografias<br>Iraque",
          "News not found.",
          "<b>Top 10 Words :</b><br>Sonae<br>Angola<br>Paulo Azevedo<br>resposta<br>presidente<br>direitos<br>empresa<br>Governo<br>Anónimo<br>Economia",
          "News not found.",
          "<b>Top 10 Words :</b><br>resultado<br>resposta<br>Anónimo<br>Cavaco<br>Economia<br>Governo<br>Lisboa<br>Luz<br>Sonae Indústria<br>anos",
          "News not found.",
          "News not found.",
          "News not found.",
          "<b>Top 10 Words :</b><br>BPI<br>Sonae<br>euros<br>ganhos<br>títulos<br>Sonae Indústria<br>Alexandra Lucas Coelho<br>Blogues<br>Bolsa<br>Escola Projecto",
          "News not found.",
          "News not found.",
          "News not found.",
          "News not found.",
          "<b>Top 10 Words :</b><br>Zon<br>fusão<br>Sonaecom<br>Optimus<br>Isabel dos Santos<br>Sonae<br>presidente<br>empresa<br>acções<br>sentido",
          "<b>Top 10 Words :</b><br>Sonae<br>Zon<br>fusão<br>Sonaecom<br>Isabel dos Santos<br>empresas<br>mundo<br>Portugal<br>Optimus<br>empresa",
          "<b>Top 10 Words :</b><br>Sonae<br>EDP<br>Portugal<br>assinatura<br>euros<br>minigeração<br>projecto<br>retalho<br>Gémeas Cargas<br>país",
          "<b>Top 10 Words :</b><br>Sonae<br>euros<br>Portugal<br>assinatura<br>acesso<br>campo<br>custo<br>nota<br>volume<br>Gémeas Cargas",
          "News not found.",
          "News not found.",
          "News not found.",
          "News not found.",
          "<b>Top 10 Words :</b><br>acesso<br>Portugal<br>assinatura<br>campo<br>condições<br>custo<br>código<br>nota<br>IVA<br>arquivo",
          "<b>Top 10 Words :</b><br>empresa<br>Alemanha<br>Sonae Indústria<br>acesso<br>produção<br>trabalhadores<br>Portugal<br>actividade<br>arquivo<br>emprego",
          "<b>Top 10 Words :</b><br>centros<br>empresa<br>Sonae Sierra<br>vendas<br>aposta<br>Portugal<br>acesso<br>Europa<br>empresas<br>melhoria",
          "<b>Top 10 Words :</b><br>Sonaecom<br>empresa<br>Portugal<br>Zon Optimus<br>operação<br>acesso<br>acções<br>consórcio<br>euros<br>capital",
          "News not found.",
          "News not found.",
          "News not found.",
          "News not found.",
          "<b>Top 10 Words :</b><br>centros<br>Mercado<br>Sonae Sierra<br>mundo<br>China<br>empresa<br>gestão<br>CITIC Capital<br>Portugal<br>anos",
          "<b>Top 10 Words :</b><br>Sonae<br>euros<br>empresa<br>lojas<br>mundo<br>trimestre<br>Portugal<br>centros<br>Mercado<br>vendas",
          "<b>Top 10 Words :</b><br>Sonae<br>acções<br>obrigações<br>euros<br>anos<br>Portugal<br>dívida<br>mundo<br>oferta<br>Por Rosa Soares",
          "<b>Top 10 Words :</b><br>euros<br>franchising<br>lojas<br>Sonae Indústria<br>Hoje<br>Sonae<br>livraria<br>mundo<br>papelaria<br>prejuízos",
          "<b>Top 10 Words :</b><br>Sonae<br>euros<br>semestre<br>vendas<br>preços<br>retalho<br>lojas<br>situação<br>Mercado<br>Paulo Azevedo",
          "<b>Top 10 Words :</b><br>Sonae<br>euros<br>anos<br>lojas<br>vendas<br>Ana Rute Silva<br>Entrar<br>Museu do Chiado<br>Portugal<br>Prémio Sonae Media",
          "<b>Top 10 Words :</b><br>euros<br>Sonae<br>Portugal<br>VISA<br>débito<br>Angola<br>Economia<br>Restantes<br>artigos<br>capital",
          "<b>Top 10 Words :</b><br>euros<br>Sonae<br>período<br>empresa<br>crescimento<br>Portugal<br>resultado<br>VISA<br>débito<br>Economia",
          "<b>Top 10 Words :</b><br>MO<br>Moçambique<br>Sonae<br>artigos<br>loja<br>entrada<br>internacionalização<br>mundo<br>VISA<br>débito",
          "<b>Top 10 Words :</b><br>centros<br>Sonae Sierra<br>Alemanha<br>VISA<br>artigos<br>débito<br>China<br>Lisboa<br>Restantes<br>limite",
          "<b>Top 10 Words :</b><br>Sonae Indústria<br>fábricas<br>empresa<br>euros<br>França<br>anos<br>Mercado<br>Rui Correia<br>reestruturação<br>Espanha",
          "<b>Top 10 Words :</b><br>Sonae<br>euros<br>empresa<br>artigos<br>VISA<br>débito<br>Paulo Azevedo<br>Portugal<br>negócios<br>mundo",
          "<b>Top 10 Words :</b><br>Sonae<br>dias<br>Belmiro de Azevedo<br>anos<br>artigos<br>poluição<br>VISA<br>débito<br>empresa<br>limite",
          "<b>Top 10 Words :</b><br>euros<br>centros<br>empresa<br>artigos<br>lojas<br>Sonae<br>dias<br>Portugal<br>Sonae Sierra<br>limite",
          "<b>Top 10 Words :</b><br>Sonae<br>euros<br>MO<br>anos<br>Ontem<br>dias<br>empréstimo<br>entrada<br>greve<br>internacionalização",
          "<b>Top 10 Words :</b><br>Sonae<br>trabalhadores<br>greve<br>Logística<br>dias<br>salários<br>empresa<br>euros<br>anos<br>fonte",
          "<b>Top 10 Words :</b><br>Sonae<br>trabalhadores<br>greve<br>anos<br>queixa<br>Sindicato<br>fonte<br>Continente<br>Emirados Árabes Unidos<br>Sonae Sierra",
          "<b>Top 10 Words :</b><br>Sonae<br>Angola<br>participação<br>projeto<br>retalho<br>Isabel dos Santos<br>empresa<br>centros<br>hipermercado<br>Ex-quadro da Sonae",
          "<b>Top 10 Words :</b><br>empresa<br>euros<br>Portugal<br>Sonae<br>Sonae Indústria<br>artigos<br>VISA<br>débito<br>pagamentos<br>mundo",
          "<b>Top 10 Words :</b><br>PT<br>euros<br>Oi<br>Sonae<br>Lula da Silva<br>accionistas<br>negócio<br>negócios<br>Brasil<br>Prémio Sonae Media",
          "<b>Top 10 Words :</b><br>Sonae<br>Zippy<br>Sonae Indústria<br>lojas<br>Arauco<br>Europa<br>parceria<br>Portugal<br>empresa<br>franchising",
          "<b>Top 10 Words :</b><br>retalho<br>euros<br>lojas<br>Sonae<br>negócios<br>vendas<br>crescimento<br>Negócio de retalho da Sonae<br>Sonae MC<br>m2",
          "<b>Top 10 Words :</b><br>euros<br>Sonae<br>Sonae Indústria<br>resultado<br>lojas<br>imagem<br>marca<br>retalho<br>Ana Brito<br>Portugal",
          "<b>Top 10 Words :</b><br>Sonae<br>crescimento<br>euros<br>anos<br>Liga dos Campeões<br>Portugal<br>direitos<br>empresa<br>país<br>Paulo Azevedo",
          "<b>Top 10 Words :</b><br>Sonae<br>Portugal<br>euros<br>venda<br>capital<br>Sonae Capital<br>Zippy<br>empresa<br>mercados<br>lojas",
          "<b>Top 10 Words :</b><br>Sonae<br>euros<br>Sonae Indústria<br>resultados<br>trimestre<br>lucros<br>empresa<br>Portugal<br>PT<br>anos",
          "<b>Top 10 Words :</b><br>Sonae<br>Isabel dos Santos<br>Portugal<br>empresa<br>euros<br>Sonaecom<br>Zopt<br>empresas<br>trimestre<br>Lisboa",
          "<b>Top 10 Words :</b><br>Sonae<br>cibersegurança<br>Europa<br>Isabel dos Santos<br>empresa<br>parceria<br>trimestre<br>Brexit<br>Bruxelas<br>Portugal",
          "<b>Top 10 Words :</b><br>Sonae<br>PT<br>Isabel dos Santos<br>Portugal<br>centros<br>Sonae Sierra<br>empresa<br>Belmiro de Azevedo<br>presidente<br>capital",
          "<b>Top 10 Words :</b><br>Sonae Sierra<br>Roménia<br>centros<br>centro<br>Bucareste<br>Europa<br>cidades<br>anos<br>empresa<br>Sonae",
          "News not found.",
          "News not found.",
          "News not found.",
          "<b>Top 10 Words :</b><br>Sonae<br>saúde<br>Go Natural<br>plano<br>comida<br>euros<br>Mercado<br>Publicidade<br>presidente<br>Economia",
          "<b>Top 10 Words :</b><br>Sonae<br>comida<br>Ana Rute Silva<br>Go Natural<br>Mercado<br>Novo Banco<br>OPA<br>empresas<br>oposição<br>presidente",
          "<b>Top 10 Words :</b><br>Sonae<br>euros<br>Sonae Indústria<br>lucros<br>empresa<br>subida<br>Mar<br>Lucros da Sonae<br>negócio<br>negócios",
          "<b>Top 10 Words :</b><br>Sonae<br>Brio<br>negócio<br>supermercados<br>The Edge Group<br>venda<br>euros<br>alimentação<br>Sonae MC<br>crescimento",
          "<b>Top 10 Words :</b><br>Sonae<br>EDP<br>decisão<br>euros<br>supermercados<br>pacto<br>Go Natural<br>concorrência<br>May<br>anos",
          "<b>Top 10 Words :</b><br>Sonae MC<br>supermercados<br>Sonae<br>alimentação<br>retalho<br>Brio<br>Go Natural<br>Lisboa<br>Mercado<br>Portugal",
          "<b>Top 10 Words :</b><br>Sonae<br>supermercados<br>Go Natural<br>Jerónimo Martins<br>EDP<br>Brio<br>compra<br>euros<br>gases<br>cadeia",
          "<b>Top 10 Words :</b><br>Sonae<br>euros<br>semestre<br>EDP<br>Jerónimo Martins<br>Sonae Sierra<br>lucros<br>centros<br>gases<br>gestora",
          "<b>Top 10 Words :</b><br>Sonae<br>empresa<br>políticas<br>Altice<br>Media Capital<br>causa<br>democracia<br>negócio<br>trabalhadores<br>Economia",
          "<b>Top 10 Words :</b><br>Sonae<br>políticas<br>empresa<br>trabalhadores<br>Trabalhadores da Sonae de Azambuja<br>Economia<br>Sonae Arauco<br>clínica<br>direitos<br>euros",
          "<b>Top 10 Words :</b><br>Colômbia<br>Pump<br>artistas<br>centro<br>prémio<br>Lisboa<br>Sonae Capital<br>Sonae Sierra<br>direitos<br>procura",
          "<b>Top 10 Words :</b><br>Sonae<br>prémio<br>trabalhadores<br>greve<br>Sonae Media<br>centro<br>Nov<br>Rodrigo Gomes<br>Belmiro de Azevedo<br>marca",
          "<b>Top 10 Words :</b><br>vendas<br>Sonae<br>negócios<br>retalho<br>administrador<br>euros<br>Portugal<br>Worten<br>direitos<br>Jan",
          "<b>Top 10 Words :</b><br>Sonae Sierra<br>Armórica<br>aquisição<br>parceria<br>SerraShopping<br>Covilhã<br>projeto<br>euros<br>Itália<br>Jan",
          "<b>Top 10 Words :</b><br>euros<br>anos<br>Sonae Capital<br>Sonae<br>negócio<br>Bolsa<br>produção<br>direitos<br>retalho<br>PSI20",
          "News not found.",
          "<b>Top 10 Words :</b><br>Sonae Investimentos<br>Conselho Fiscal<br>Conselho de Administração<br>Paulo de Azevedo<br>administração<br>mandato<br>presidente<br>Comissão do Mercado de Valores Mobiliários<br>Luís Moutinho<br>Luís Reis",
          "<b>Top 10 Words :</b><br>euros<br>Sonae<br>CTT<br>website<br>conta<br>negócios<br>comércio<br>destaque<br>Sócrates<br>Lena",
          "<b>Top 10 Words :</b><br>Sonae<br>Cláudia Azevedo<br>Paulo Azevedo<br>negócios<br>conta<br>centros<br>website<br>empresa<br>negócio<br>Sonae Sierra",
          "<b>Top 10 Words :</b><br>euros<br>PSI20<br>descidas<br>Sonae<br>SONAE SGPS<br>Bolsa<br>bolsa de Lisboa<br>quedas<br>Frankfurt<br>Londres",
          "<b>Top 10 Words :</b><br>Sonae Sierra<br>Sonae<br>Grosvenor<br>compra<br>aquisição<br>Mercado<br>concorrência<br>euros<br>anos<br>aprovação",
          "<b>Top 10 Words :</b><br>Sonae<br>Sonae MC<br>euros<br>Bolsa<br>Mercado<br>entrada<br>insolvência<br>Maputo<br>PSI20<br>condições",
          "<b>Top 10 Words :</b><br>euros<br>retalho<br>Sonae<br>Mercado<br>lojas<br>Bolsa<br>Sonae MC<br>condições<br>entrada<br>Sonae Capital",
          "<b>Top 10 Words :</b><br>Sonae<br>euros<br>compra<br>retalho<br>Paulo Azevedo<br>concorrência<br>empresa<br>supermercados<br>acordo<br>lojas",
          "<b>Top 10 Words :</b><br>Sonae<br>Sonae MC<br>hotel<br>Mercado<br>operação<br>conta<br>empresa<br>investidores<br>Bolsa<br>Sonae Capital",
          "<b>Top 10 Words :</b><br>Sonae Capital<br>exploração<br>hotel<br>Sonae<br>Algarve<br>segmento<br>estação<br>Lisboa<br>cidade<br>conta",
          "<b>Top 10 Words :</b><br>euros<br>Sonae<br>crescimento<br>Paulo Azevedo<br>Sonae Capital<br>vendas<br>conta<br>Cláudia Azevedo<br>destaque<br>anos",
          "<b>Top 10 Words :</b><br>centro<br>Sonae<br>Sonae Sierra<br>euros<br>Dinheiro Vivo<br>cidade<br>resultados<br>Colômbia<br>Economia<br>Campeonato de Portugal",
          "<b>Top 10 Words :</b><br>Sonae<br>Sonae MC<br>supermercados<br>retalho<br>conta<br>Brio<br>Go Natural<br>euros<br>Portugal<br>alimentação",
          "<b>Top 10 Words :</b><br>jovens<br>Sonae<br>estágios<br>oportunidade<br>Premium<br>Tiananmen<br>anos<br>Avenida Marginal<br>Brexit<br>China",
          "<b>Top 10 Words :</b><br>Sonae<br>Governo<br>José Sócrates<br>pressão<br>Sócrates<br>deputados<br>PT<br>presidente<br>neutralidade<br>euros",
          "<b>Top 10 Words :</b><br>semestre<br>Sonae Sierra<br>59ME<br>emite<br>empresa<br>euros<br>Histórias<br>PSD<br>Sonae<br>helicóptero",
          "<b>Top 10 Words :</b><br>prémio<br>imagens<br>Sonae<br>anos<br>artistas<br>marca<br>vídeos<br>Continente<br>Sofia Caetano<br>jovens",
          "<b>Top 10 Words :</b><br>conta<br>Sonae Indústria<br>euros<br>Sonae<br>destaque<br>empresa<br>Belmiro de Azevedo<br>Paulo Azevedo<br>comunidade<br>Técnica Estatuto Editorial Autores",
          "<b>Top 10 Words :</b><br>Sonae<br>euros<br>anos<br>marca<br>conta<br>Continente<br>Espanha<br>género<br>mundo<br>prazo",
          "<b>Top 10 Words :</b><br>Sonae<br>anos<br>euros<br>conta<br>instalação<br>artistas<br>Prémio Sonae Media<br>exposição<br>finalistas<br>prémio",
          "<b>Top 10 Words :</b><br>Sonae<br>anos<br>Paulo Azevedo<br>conta<br>gestão<br>negócios<br>Paulo<br>euros<br>Sonae MC<br>Belmiro de Azevedo",
          "<b>Top 10 Words :</b><br>Sonae<br>Espanha<br>retalho<br>Worten<br>lojas<br>conta<br>custos<br>inovação<br>vendas<br>operação",
          "<b>Top 10 Words :</b><br>Sonae<br>euros<br>Sonae Sierra<br>negócios<br>deputados<br>José Sócrates<br>Governo<br>Sócrates<br>conta<br>PT",
          "News not found.",
          "<b>Top 10 Words :</b><br>Sonae<br>empresa<br>trabalhadores<br>compra<br>capital<br>casos<br>conta<br>áreas<br>Azambuja<br>Portugal",
          "<b>Top 10 Words :</b><br>Sonae<br>trabalhadores<br>empresa<br>Azambuja<br>casos<br>armazéns<br>centros<br>Lisboa<br>Plataforma Logística de Azambuja<br>Azambuja infetados",
          "News not found.",
          "<b>Top 10 Words :</b><br>Efanor<br>euros<br>Sonae Capital<br>Sonae Indústria<br>Sonae<br>Ações<br>capital<br>direitos<br>voto<br>Bolsa",
          "<b>Top 10 Words :</b><br>Sonae<br>euros<br>coimas<br>energia<br>AdC<br>Cláudia Azevedo<br>EDP<br>EDP Comercial<br>TCRS<br>concorrência",
          "<b>Top 10 Words :</b><br>Sonae Indústria<br>oferta<br>títulos<br>Efanor<br>Ações<br>Mercado<br>aquisição<br>capital<br>compra<br>empresa",
          "<b>Top 10 Words :</b><br>euros<br>Sonae<br>negócios<br>EBITDA<br>empresa<br>lucros<br>Sonae MC<br>prejuízos<br>trimestre<br>volume",
          "<b>Top 10 Words :</b><br>Sonae<br>Sonae Capital<br>Efanor<br>notificações<br>Sonae Indústria<br>capital<br>empresas<br>Bolsa<br>Paulo Azevedo<br>euros"
         ],
         "marker": {
          "color": [
           "green",
           "green",
           "green",
           "black",
           "green",
           "black",
           "black",
           "black",
           "black",
           "red",
           "black",
           "black",
           "black",
           "black",
           "black",
           "black",
           "black",
           "black",
           "black",
           "black",
           "black",
           "black",
           "black",
           "green",
           "black",
           "black",
           "black",
           "black",
           "black",
           "black",
           "red",
           "green",
           "green",
           "green",
           "black",
           "black",
           "black",
           "black",
           "black",
           "black",
           "black",
           "black",
           "black",
           "black",
           "black",
           "black",
           "black",
           "black",
           "black",
           "black",
           "black",
           "black",
           "black",
           "black",
           "black",
           "black",
           "black",
           "black",
           "black",
           "black",
           "black",
           "black",
           "black",
           "green",
           "black",
           "green",
           "green",
           "black",
           "green",
           "green",
           "black",
           "red",
           "red",
           "green",
           "red",
           "red",
           "red",
           "green",
           "green",
           "green",
           "green",
           "green",
           "black",
           "green",
           "black",
           "green",
           "black",
           "black",
           "black",
           "green",
           "black",
           "black",
           "black",
           "black",
           "green",
           "green",
           "green",
           "green",
           "black",
           "black",
           "black",
           "black",
           "green",
           "green",
           "green",
           "green",
           "black",
           "black",
           "black",
           "black",
           "green",
           "green",
           "green",
           "green",
           "green",
           "red",
           "green",
           "green",
           "green",
           "green",
           "green",
           "green",
           "green",
           "green",
           "green",
           "green",
           "red",
           "green",
           "green",
           "green",
           "green",
           "green",
           "red",
           "green",
           "red",
           "red",
           "green",
           "green",
           "red",
           "red",
           "black",
           "black",
           "black",
           "red",
           "green",
           "green",
           "green",
           "green",
           "green",
           "green",
           "green",
           "green",
           "green",
           "green",
           "green",
           "green",
           "green",
           "green",
           "black",
           "green",
           "green",
           "green",
           "red",
           "green",
           "red",
           "green",
           "green",
           "green",
           "green",
           "green",
           "green",
           "green",
           "red",
           "red",
           "green",
           "green",
           "green",
           "red",
           "green",
           "green",
           "green",
           "green",
           "black",
           "green",
           "green",
           "black",
           "green",
           "green",
           "green",
           "green",
           "green"
          ]
         },
         "name": "Negative Sentiment",
         "opacity": 0.5,
         "showlegend": false,
         "type": "bar",
         "x": [
          "2005-02-01T00:00:00",
          "2005-03-01T00:00:00",
          "2005-04-01T00:00:00",
          "2005-05-01T00:00:00",
          "2005-06-01T00:00:00",
          "2005-07-01T00:00:00",
          "2005-08-01T00:00:00",
          "2005-09-01T00:00:00",
          "2005-10-01T00:00:00",
          "2005-11-01T00:00:00",
          "2005-12-01T00:00:00",
          "2006-01-01T00:00:00",
          "2006-02-01T00:00:00",
          "2006-03-01T00:00:00",
          "2006-04-01T00:00:00",
          "2006-05-01T00:00:00",
          "2006-06-01T00:00:00",
          "2006-07-01T00:00:00",
          "2006-08-01T00:00:00",
          "2006-09-01T00:00:00",
          "2006-10-01T00:00:00",
          "2006-11-01T00:00:00",
          "2006-12-01T00:00:00",
          "2007-01-01T00:00:00",
          "2007-02-01T00:00:00",
          "2007-03-01T00:00:00",
          "2007-04-01T00:00:00",
          "2007-05-01T00:00:00",
          "2007-06-01T00:00:00",
          "2007-07-01T00:00:00",
          "2007-08-01T00:00:00",
          "2007-09-01T00:00:00",
          "2007-10-01T00:00:00",
          "2007-11-01T00:00:00",
          "2007-12-01T00:00:00",
          "2008-01-01T00:00:00",
          "2008-02-01T00:00:00",
          "2008-03-01T00:00:00",
          "2008-04-01T00:00:00",
          "2008-05-01T00:00:00",
          "2008-06-01T00:00:00",
          "2008-07-01T00:00:00",
          "2008-08-01T00:00:00",
          "2008-09-01T00:00:00",
          "2008-10-01T00:00:00",
          "2008-11-01T00:00:00",
          "2008-12-01T00:00:00",
          "2009-01-01T00:00:00",
          "2009-02-01T00:00:00",
          "2009-03-01T00:00:00",
          "2009-04-01T00:00:00",
          "2009-05-01T00:00:00",
          "2009-06-01T00:00:00",
          "2009-07-01T00:00:00",
          "2009-08-01T00:00:00",
          "2009-09-01T00:00:00",
          "2009-10-01T00:00:00",
          "2009-11-01T00:00:00",
          "2009-12-01T00:00:00",
          "2010-01-01T00:00:00",
          "2010-02-01T00:00:00",
          "2010-03-01T00:00:00",
          "2010-04-01T00:00:00",
          "2010-05-01T00:00:00",
          "2010-06-01T00:00:00",
          "2010-07-01T00:00:00",
          "2010-08-01T00:00:00",
          "2010-09-01T00:00:00",
          "2010-10-01T00:00:00",
          "2010-11-01T00:00:00",
          "2010-12-01T00:00:00",
          "2011-01-01T00:00:00",
          "2011-02-01T00:00:00",
          "2011-03-01T00:00:00",
          "2011-04-01T00:00:00",
          "2011-05-01T00:00:00",
          "2011-06-01T00:00:00",
          "2011-07-01T00:00:00",
          "2011-08-01T00:00:00",
          "2011-09-01T00:00:00",
          "2011-10-01T00:00:00",
          "2011-11-01T00:00:00",
          "2011-12-01T00:00:00",
          "2012-01-01T00:00:00",
          "2012-02-01T00:00:00",
          "2012-03-01T00:00:00",
          "2012-04-01T00:00:00",
          "2012-05-01T00:00:00",
          "2012-06-01T00:00:00",
          "2012-07-01T00:00:00",
          "2012-08-01T00:00:00",
          "2012-09-01T00:00:00",
          "2012-10-01T00:00:00",
          "2012-11-01T00:00:00",
          "2012-12-01T00:00:00",
          "2013-01-01T00:00:00",
          "2013-02-01T00:00:00",
          "2013-03-01T00:00:00",
          "2013-04-01T00:00:00",
          "2013-05-01T00:00:00",
          "2013-06-01T00:00:00",
          "2013-07-01T00:00:00",
          "2013-08-01T00:00:00",
          "2013-09-01T00:00:00",
          "2013-10-01T00:00:00",
          "2013-11-01T00:00:00",
          "2013-12-01T00:00:00",
          "2014-01-01T00:00:00",
          "2014-02-01T00:00:00",
          "2014-03-01T00:00:00",
          "2014-04-01T00:00:00",
          "2014-05-01T00:00:00",
          "2014-06-01T00:00:00",
          "2014-07-01T00:00:00",
          "2014-08-01T00:00:00",
          "2014-09-01T00:00:00",
          "2014-10-01T00:00:00",
          "2014-11-01T00:00:00",
          "2014-12-01T00:00:00",
          "2015-01-01T00:00:00",
          "2015-02-01T00:00:00",
          "2015-03-01T00:00:00",
          "2015-04-01T00:00:00",
          "2015-05-01T00:00:00",
          "2015-06-01T00:00:00",
          "2015-07-01T00:00:00",
          "2015-08-01T00:00:00",
          "2015-09-01T00:00:00",
          "2015-10-01T00:00:00",
          "2015-11-01T00:00:00",
          "2015-12-01T00:00:00",
          "2016-01-01T00:00:00",
          "2016-02-01T00:00:00",
          "2016-03-01T00:00:00",
          "2016-04-01T00:00:00",
          "2016-05-01T00:00:00",
          "2016-06-01T00:00:00",
          "2016-07-01T00:00:00",
          "2016-08-01T00:00:00",
          "2016-09-01T00:00:00",
          "2016-10-01T00:00:00",
          "2016-11-01T00:00:00",
          "2016-12-01T00:00:00",
          "2017-01-01T00:00:00",
          "2017-02-01T00:00:00",
          "2017-03-01T00:00:00",
          "2017-04-01T00:00:00",
          "2017-05-01T00:00:00",
          "2017-06-01T00:00:00",
          "2017-07-01T00:00:00",
          "2017-08-01T00:00:00",
          "2017-09-01T00:00:00",
          "2017-10-01T00:00:00",
          "2017-11-01T00:00:00",
          "2017-12-01T00:00:00",
          "2018-01-01T00:00:00",
          "2018-02-01T00:00:00",
          "2018-03-01T00:00:00",
          "2018-04-01T00:00:00",
          "2018-05-01T00:00:00",
          "2018-06-01T00:00:00",
          "2018-07-01T00:00:00",
          "2018-08-01T00:00:00",
          "2018-09-01T00:00:00",
          "2018-10-01T00:00:00",
          "2018-11-01T00:00:00",
          "2018-12-01T00:00:00",
          "2019-01-01T00:00:00",
          "2019-02-01T00:00:00",
          "2019-03-01T00:00:00",
          "2019-04-01T00:00:00",
          "2019-05-01T00:00:00",
          "2019-06-01T00:00:00",
          "2019-07-01T00:00:00",
          "2019-08-01T00:00:00",
          "2019-09-01T00:00:00",
          "2019-10-01T00:00:00",
          "2019-11-01T00:00:00",
          "2019-12-01T00:00:00",
          "2020-01-01T00:00:00",
          "2020-02-01T00:00:00",
          "2020-03-01T00:00:00",
          "2020-04-01T00:00:00",
          "2020-05-01T00:00:00",
          "2020-06-01T00:00:00",
          "2020-07-01T00:00:00",
          "2020-08-01T00:00:00",
          "2020-09-01T00:00:00",
          "2020-10-01T00:00:00",
          "2020-11-01T00:00:00",
          "2020-12-01T00:00:00"
         ],
         "y": [
          0.2694536108923334,
          0.2659888970876196,
          0.271824473363196,
          0,
          0.2764197281642042,
          0,
          0,
          0,
          0,
          0.055174020881055885,
          0,
          0,
          0,
          0,
          0,
          0,
          0,
          0,
          0,
          0,
          0,
          0,
          0,
          0.20400496731368983,
          0,
          0,
          0,
          0,
          0,
          0,
          0.878477817679095,
          0.22589274509146767,
          0.1352631347018573,
          0.22264875222159236,
          0,
          0,
          0,
          0,
          0,
          0,
          0,
          0,
          0,
          0,
          0,
          0,
          0,
          0,
          0,
          0,
          0,
          0,
          0,
          0,
          0,
          0,
          0,
          0,
          0,
          0,
          0,
          0,
          0,
          0.28661849747467766,
          0,
          0.2905585442604312,
          0.28490285598514026,
          0,
          0.2934073553489351,
          0.32558818189510125,
          0,
          0.6653636570249344,
          0.2682451134256766,
          0.32064651931509697,
          0.9000101120513895,
          0.8540935406228181,
          0.4095513964123012,
          0.08611100186555781,
          0.2810834862070139,
          0.2845109148541944,
          0.058906756635479285,
          0.2687994117581343,
          0,
          0.1634647433347703,
          0,
          0.2543631949314827,
          0,
          0,
          0,
          0.29714477972350234,
          0,
          0,
          0,
          0,
          0.2867090007736805,
          0.1877860250469447,
          0.23432835669133728,
          0.2660379250656619,
          0,
          0,
          0,
          0,
          0.2303800081987309,
          0.275485079423802,
          0.273092406253351,
          0.2816218885041322,
          0,
          0,
          0,
          0,
          0.27337013130885385,
          0.08133520182432635,
          0.2464049240236466,
          0.2929240821831505,
          0.25945378096987587,
          0.03520244971372716,
          0.29420956845809426,
          0.28881969590365913,
          0.30413216914567437,
          0.3193656308220892,
          0.28985927348947865,
          0.2855104124142625,
          0.19544977412670922,
          0.30371398909207065,
          0.30109750446931466,
          0.28902025748245824,
          0.2527980756441732,
          0.09973937528226451,
          0.2942062364554709,
          0.06852324523207726,
          0.29348616106325104,
          0.2504091137654028,
          0.16434076351535903,
          0.25523067902913416,
          0.15909583197485644,
          0.11514251658984193,
          0.23222208302626018,
          0.2911534748379116,
          0.01796621130527193,
          0.2482304028758532,
          0,
          0,
          0,
          0.016104638759249446,
          0.31753926523798776,
          0.2686020878940823,
          0.006803698034783812,
          0.2098034267304984,
          0.33034841608713866,
          0.2858706589236672,
          0.23783369747242006,
          0.16606085574385238,
          0.1762675751143859,
          0.07392907666113258,
          0.24715922873271862,
          0.20598541979771384,
          0.17339293123972238,
          0.26497817503091264,
          0,
          0.1708130048317274,
          0.2974169456185141,
          0.25043707796319786,
          0.16953143961271702,
          0.2941511878010215,
          0.16460067127363268,
          0.18902657392392558,
          0.25089129534556137,
          0.28902946437702476,
          0.20616113616799486,
          0.14405940211069157,
          0.07684236038845144,
          0.22004263071243207,
          0.33788409171513656,
          0.08521306213386531,
          0.25732184981059386,
          0.13769533608072526,
          0.20417184013760242,
          0.024375219318025332,
          0.08576442593003264,
          0.26359336624934976,
          0.2821922562176932,
          0.1761409760423523,
          0,
          0.11309900424536395,
          0.05853879441744225,
          0,
          0.2938298754533661,
          0.29529772607008503,
          0.29968774167383266,
          0.3091784743047831,
          0.2875626520943854
         ]
        },
        {
         "marker": {
          "color": "green"
         },
         "name": "Positive Sentiment",
         "type": "bar",
         "visible": "legendonly",
         "x": [
          null
         ],
         "y": [
          null
         ]
        },
        {
         "marker": {
          "color": "red"
         },
         "name": "Negative Sentiment",
         "type": "bar",
         "visible": "legendonly",
         "x": [
          null
         ],
         "y": [
          null
         ]
        }
       ],
       "layout": {
        "hovermode": "x unified",
        "legend": {
         "title": {
          "text": "Legend"
         }
        },
        "margin": {
         "b": 50,
         "l": 50,
         "r": 50,
         "t": 50
        },
        "paper_bgcolor": "rgba(0, 0, 0, 0)",
        "plot_bgcolor": "rgba(0, 0, 0, 0)",
        "template": {
         "data": {
          "bar": [
           {
            "error_x": {
             "color": "#2a3f5f"
            },
            "error_y": {
             "color": "#2a3f5f"
            },
            "marker": {
             "line": {
              "color": "white",
              "width": 0.5
             },
             "pattern": {
              "fillmode": "overlay",
              "size": 10,
              "solidity": 0.2
             }
            },
            "type": "bar"
           }
          ],
          "barpolar": [
           {
            "marker": {
             "line": {
              "color": "white",
              "width": 0.5
             },
             "pattern": {
              "fillmode": "overlay",
              "size": 10,
              "solidity": 0.2
             }
            },
            "type": "barpolar"
           }
          ],
          "carpet": [
           {
            "aaxis": {
             "endlinecolor": "#2a3f5f",
             "gridcolor": "#C8D4E3",
             "linecolor": "#C8D4E3",
             "minorgridcolor": "#C8D4E3",
             "startlinecolor": "#2a3f5f"
            },
            "baxis": {
             "endlinecolor": "#2a3f5f",
             "gridcolor": "#C8D4E3",
             "linecolor": "#C8D4E3",
             "minorgridcolor": "#C8D4E3",
             "startlinecolor": "#2a3f5f"
            },
            "type": "carpet"
           }
          ],
          "choropleth": [
           {
            "colorbar": {
             "outlinewidth": 0,
             "ticks": ""
            },
            "type": "choropleth"
           }
          ],
          "contour": [
           {
            "colorbar": {
             "outlinewidth": 0,
             "ticks": ""
            },
            "colorscale": [
             [
              0,
              "#0d0887"
             ],
             [
              0.1111111111111111,
              "#46039f"
             ],
             [
              0.2222222222222222,
              "#7201a8"
             ],
             [
              0.3333333333333333,
              "#9c179e"
             ],
             [
              0.4444444444444444,
              "#bd3786"
             ],
             [
              0.5555555555555556,
              "#d8576b"
             ],
             [
              0.6666666666666666,
              "#ed7953"
             ],
             [
              0.7777777777777778,
              "#fb9f3a"
             ],
             [
              0.8888888888888888,
              "#fdca26"
             ],
             [
              1,
              "#f0f921"
             ]
            ],
            "type": "contour"
           }
          ],
          "contourcarpet": [
           {
            "colorbar": {
             "outlinewidth": 0,
             "ticks": ""
            },
            "type": "contourcarpet"
           }
          ],
          "heatmap": [
           {
            "colorbar": {
             "outlinewidth": 0,
             "ticks": ""
            },
            "colorscale": [
             [
              0,
              "#0d0887"
             ],
             [
              0.1111111111111111,
              "#46039f"
             ],
             [
              0.2222222222222222,
              "#7201a8"
             ],
             [
              0.3333333333333333,
              "#9c179e"
             ],
             [
              0.4444444444444444,
              "#bd3786"
             ],
             [
              0.5555555555555556,
              "#d8576b"
             ],
             [
              0.6666666666666666,
              "#ed7953"
             ],
             [
              0.7777777777777778,
              "#fb9f3a"
             ],
             [
              0.8888888888888888,
              "#fdca26"
             ],
             [
              1,
              "#f0f921"
             ]
            ],
            "type": "heatmap"
           }
          ],
          "heatmapgl": [
           {
            "colorbar": {
             "outlinewidth": 0,
             "ticks": ""
            },
            "colorscale": [
             [
              0,
              "#0d0887"
             ],
             [
              0.1111111111111111,
              "#46039f"
             ],
             [
              0.2222222222222222,
              "#7201a8"
             ],
             [
              0.3333333333333333,
              "#9c179e"
             ],
             [
              0.4444444444444444,
              "#bd3786"
             ],
             [
              0.5555555555555556,
              "#d8576b"
             ],
             [
              0.6666666666666666,
              "#ed7953"
             ],
             [
              0.7777777777777778,
              "#fb9f3a"
             ],
             [
              0.8888888888888888,
              "#fdca26"
             ],
             [
              1,
              "#f0f921"
             ]
            ],
            "type": "heatmapgl"
           }
          ],
          "histogram": [
           {
            "marker": {
             "pattern": {
              "fillmode": "overlay",
              "size": 10,
              "solidity": 0.2
             }
            },
            "type": "histogram"
           }
          ],
          "histogram2d": [
           {
            "colorbar": {
             "outlinewidth": 0,
             "ticks": ""
            },
            "colorscale": [
             [
              0,
              "#0d0887"
             ],
             [
              0.1111111111111111,
              "#46039f"
             ],
             [
              0.2222222222222222,
              "#7201a8"
             ],
             [
              0.3333333333333333,
              "#9c179e"
             ],
             [
              0.4444444444444444,
              "#bd3786"
             ],
             [
              0.5555555555555556,
              "#d8576b"
             ],
             [
              0.6666666666666666,
              "#ed7953"
             ],
             [
              0.7777777777777778,
              "#fb9f3a"
             ],
             [
              0.8888888888888888,
              "#fdca26"
             ],
             [
              1,
              "#f0f921"
             ]
            ],
            "type": "histogram2d"
           }
          ],
          "histogram2dcontour": [
           {
            "colorbar": {
             "outlinewidth": 0,
             "ticks": ""
            },
            "colorscale": [
             [
              0,
              "#0d0887"
             ],
             [
              0.1111111111111111,
              "#46039f"
             ],
             [
              0.2222222222222222,
              "#7201a8"
             ],
             [
              0.3333333333333333,
              "#9c179e"
             ],
             [
              0.4444444444444444,
              "#bd3786"
             ],
             [
              0.5555555555555556,
              "#d8576b"
             ],
             [
              0.6666666666666666,
              "#ed7953"
             ],
             [
              0.7777777777777778,
              "#fb9f3a"
             ],
             [
              0.8888888888888888,
              "#fdca26"
             ],
             [
              1,
              "#f0f921"
             ]
            ],
            "type": "histogram2dcontour"
           }
          ],
          "mesh3d": [
           {
            "colorbar": {
             "outlinewidth": 0,
             "ticks": ""
            },
            "type": "mesh3d"
           }
          ],
          "parcoords": [
           {
            "line": {
             "colorbar": {
              "outlinewidth": 0,
              "ticks": ""
             }
            },
            "type": "parcoords"
           }
          ],
          "pie": [
           {
            "automargin": true,
            "type": "pie"
           }
          ],
          "scatter": [
           {
            "fillpattern": {
             "fillmode": "overlay",
             "size": 10,
             "solidity": 0.2
            },
            "type": "scatter"
           }
          ],
          "scatter3d": [
           {
            "line": {
             "colorbar": {
              "outlinewidth": 0,
              "ticks": ""
             }
            },
            "marker": {
             "colorbar": {
              "outlinewidth": 0,
              "ticks": ""
             }
            },
            "type": "scatter3d"
           }
          ],
          "scattercarpet": [
           {
            "marker": {
             "colorbar": {
              "outlinewidth": 0,
              "ticks": ""
             }
            },
            "type": "scattercarpet"
           }
          ],
          "scattergeo": [
           {
            "marker": {
             "colorbar": {
              "outlinewidth": 0,
              "ticks": ""
             }
            },
            "type": "scattergeo"
           }
          ],
          "scattergl": [
           {
            "marker": {
             "colorbar": {
              "outlinewidth": 0,
              "ticks": ""
             }
            },
            "type": "scattergl"
           }
          ],
          "scattermapbox": [
           {
            "marker": {
             "colorbar": {
              "outlinewidth": 0,
              "ticks": ""
             }
            },
            "type": "scattermapbox"
           }
          ],
          "scatterpolar": [
           {
            "marker": {
             "colorbar": {
              "outlinewidth": 0,
              "ticks": ""
             }
            },
            "type": "scatterpolar"
           }
          ],
          "scatterpolargl": [
           {
            "marker": {
             "colorbar": {
              "outlinewidth": 0,
              "ticks": ""
             }
            },
            "type": "scatterpolargl"
           }
          ],
          "scatterternary": [
           {
            "marker": {
             "colorbar": {
              "outlinewidth": 0,
              "ticks": ""
             }
            },
            "type": "scatterternary"
           }
          ],
          "surface": [
           {
            "colorbar": {
             "outlinewidth": 0,
             "ticks": ""
            },
            "colorscale": [
             [
              0,
              "#0d0887"
             ],
             [
              0.1111111111111111,
              "#46039f"
             ],
             [
              0.2222222222222222,
              "#7201a8"
             ],
             [
              0.3333333333333333,
              "#9c179e"
             ],
             [
              0.4444444444444444,
              "#bd3786"
             ],
             [
              0.5555555555555556,
              "#d8576b"
             ],
             [
              0.6666666666666666,
              "#ed7953"
             ],
             [
              0.7777777777777778,
              "#fb9f3a"
             ],
             [
              0.8888888888888888,
              "#fdca26"
             ],
             [
              1,
              "#f0f921"
             ]
            ],
            "type": "surface"
           }
          ],
          "table": [
           {
            "cells": {
             "fill": {
              "color": "#EBF0F8"
             },
             "line": {
              "color": "white"
             }
            },
            "header": {
             "fill": {
              "color": "#C8D4E3"
             },
             "line": {
              "color": "white"
             }
            },
            "type": "table"
           }
          ]
         },
         "layout": {
          "annotationdefaults": {
           "arrowcolor": "#2a3f5f",
           "arrowhead": 0,
           "arrowwidth": 1
          },
          "autotypenumbers": "strict",
          "coloraxis": {
           "colorbar": {
            "outlinewidth": 0,
            "ticks": ""
           }
          },
          "colorscale": {
           "diverging": [
            [
             0,
             "#8e0152"
            ],
            [
             0.1,
             "#c51b7d"
            ],
            [
             0.2,
             "#de77ae"
            ],
            [
             0.3,
             "#f1b6da"
            ],
            [
             0.4,
             "#fde0ef"
            ],
            [
             0.5,
             "#f7f7f7"
            ],
            [
             0.6,
             "#e6f5d0"
            ],
            [
             0.7,
             "#b8e186"
            ],
            [
             0.8,
             "#7fbc41"
            ],
            [
             0.9,
             "#4d9221"
            ],
            [
             1,
             "#276419"
            ]
           ],
           "sequential": [
            [
             0,
             "#0d0887"
            ],
            [
             0.1111111111111111,
             "#46039f"
            ],
            [
             0.2222222222222222,
             "#7201a8"
            ],
            [
             0.3333333333333333,
             "#9c179e"
            ],
            [
             0.4444444444444444,
             "#bd3786"
            ],
            [
             0.5555555555555556,
             "#d8576b"
            ],
            [
             0.6666666666666666,
             "#ed7953"
            ],
            [
             0.7777777777777778,
             "#fb9f3a"
            ],
            [
             0.8888888888888888,
             "#fdca26"
            ],
            [
             1,
             "#f0f921"
            ]
           ],
           "sequentialminus": [
            [
             0,
             "#0d0887"
            ],
            [
             0.1111111111111111,
             "#46039f"
            ],
            [
             0.2222222222222222,
             "#7201a8"
            ],
            [
             0.3333333333333333,
             "#9c179e"
            ],
            [
             0.4444444444444444,
             "#bd3786"
            ],
            [
             0.5555555555555556,
             "#d8576b"
            ],
            [
             0.6666666666666666,
             "#ed7953"
            ],
            [
             0.7777777777777778,
             "#fb9f3a"
            ],
            [
             0.8888888888888888,
             "#fdca26"
            ],
            [
             1,
             "#f0f921"
            ]
           ]
          },
          "colorway": [
           "#636efa",
           "#EF553B",
           "#00cc96",
           "#ab63fa",
           "#FFA15A",
           "#19d3f3",
           "#FF6692",
           "#B6E880",
           "#FF97FF",
           "#FECB52"
          ],
          "font": {
           "color": "#2a3f5f"
          },
          "geo": {
           "bgcolor": "white",
           "lakecolor": "white",
           "landcolor": "white",
           "showlakes": true,
           "showland": true,
           "subunitcolor": "#C8D4E3"
          },
          "hoverlabel": {
           "align": "left"
          },
          "hovermode": "closest",
          "mapbox": {
           "style": "light"
          },
          "paper_bgcolor": "white",
          "plot_bgcolor": "white",
          "polar": {
           "angularaxis": {
            "gridcolor": "#EBF0F8",
            "linecolor": "#EBF0F8",
            "ticks": ""
           },
           "bgcolor": "white",
           "radialaxis": {
            "gridcolor": "#EBF0F8",
            "linecolor": "#EBF0F8",
            "ticks": ""
           }
          },
          "scene": {
           "xaxis": {
            "backgroundcolor": "white",
            "gridcolor": "#DFE8F3",
            "gridwidth": 2,
            "linecolor": "#EBF0F8",
            "showbackground": true,
            "ticks": "",
            "zerolinecolor": "#EBF0F8"
           },
           "yaxis": {
            "backgroundcolor": "white",
            "gridcolor": "#DFE8F3",
            "gridwidth": 2,
            "linecolor": "#EBF0F8",
            "showbackground": true,
            "ticks": "",
            "zerolinecolor": "#EBF0F8"
           },
           "zaxis": {
            "backgroundcolor": "white",
            "gridcolor": "#DFE8F3",
            "gridwidth": 2,
            "linecolor": "#EBF0F8",
            "showbackground": true,
            "ticks": "",
            "zerolinecolor": "#EBF0F8"
           }
          },
          "shapedefaults": {
           "line": {
            "color": "#2a3f5f"
           }
          },
          "ternary": {
           "aaxis": {
            "gridcolor": "#DFE8F3",
            "linecolor": "#A2B1C6",
            "ticks": ""
           },
           "baxis": {
            "gridcolor": "#DFE8F3",
            "linecolor": "#A2B1C6",
            "ticks": ""
           },
           "bgcolor": "white",
           "caxis": {
            "gridcolor": "#DFE8F3",
            "linecolor": "#A2B1C6",
            "ticks": ""
           }
          },
          "title": {
           "x": 0.05
          },
          "xaxis": {
           "automargin": true,
           "gridcolor": "#EBF0F8",
           "linecolor": "#EBF0F8",
           "ticks": "",
           "title": {
            "standoff": 15
           },
           "zerolinecolor": "#EBF0F8",
           "zerolinewidth": 2
          },
          "yaxis": {
           "automargin": true,
           "gridcolor": "#EBF0F8",
           "linecolor": "#EBF0F8",
           "ticks": "",
           "title": {
            "standoff": 15
           },
           "zerolinecolor": "#EBF0F8",
           "zerolinewidth": 2
          }
         }
        },
        "title": {
         "text": "Stock Price and Sentiment Analysis: Sonae"
        },
        "xaxis": {
         "linecolor": "black",
         "showline": true,
         "title": {
          "text": "Date"
         },
         "zeroline": false
        },
        "yaxis": {
         "linecolor": "black",
         "range": [
          0,
          1.992165
         ],
         "showline": true,
         "title": {
          "text": "Stock Price (€) / Sentiment (0-1)"
         },
         "zeroline": false
        }
       }
      }
     },
     "metadata": {},
     "output_type": "display_data"
    },
    {
     "data": {
      "application/vnd.plotly.v1+json": {
       "config": {
        "plotlyServerURL": "https://plot.ly"
       },
       "data": [
        {
         "mode": "lines",
         "name": "Stock Price",
         "type": "scatter",
         "x": [
          "2005-02-01T00:00:00",
          "2005-03-01T00:00:00",
          "2005-04-01T00:00:00",
          "2005-05-01T00:00:00",
          "2005-06-01T00:00:00",
          "2005-07-01T00:00:00",
          "2005-08-01T00:00:00",
          "2005-09-01T00:00:00",
          "2005-10-01T00:00:00",
          "2005-11-01T00:00:00",
          "2005-12-01T00:00:00",
          "2006-01-01T00:00:00",
          "2006-02-01T00:00:00",
          "2006-03-01T00:00:00",
          "2006-04-01T00:00:00",
          "2006-05-01T00:00:00",
          "2006-06-01T00:00:00",
          "2006-07-01T00:00:00",
          "2006-08-01T00:00:00",
          "2006-09-01T00:00:00",
          "2006-10-01T00:00:00",
          "2006-11-01T00:00:00",
          "2006-12-01T00:00:00",
          "2007-01-01T00:00:00",
          "2007-02-01T00:00:00",
          "2007-03-01T00:00:00",
          "2007-04-01T00:00:00",
          "2007-05-01T00:00:00",
          "2007-06-01T00:00:00",
          "2007-07-01T00:00:00",
          "2007-08-01T00:00:00",
          "2007-09-01T00:00:00",
          "2007-10-01T00:00:00",
          "2007-11-01T00:00:00",
          "2007-12-01T00:00:00",
          "2008-01-01T00:00:00",
          "2008-02-01T00:00:00",
          "2008-03-01T00:00:00",
          "2008-04-01T00:00:00",
          "2008-05-01T00:00:00",
          "2008-06-01T00:00:00",
          "2008-07-01T00:00:00",
          "2008-08-01T00:00:00",
          "2008-09-01T00:00:00",
          "2008-10-01T00:00:00",
          "2008-11-01T00:00:00",
          "2008-12-01T00:00:00",
          "2009-01-01T00:00:00",
          "2009-02-01T00:00:00",
          "2009-03-01T00:00:00",
          "2009-04-01T00:00:00",
          "2009-05-01T00:00:00",
          "2009-06-01T00:00:00",
          "2009-07-01T00:00:00",
          "2009-08-01T00:00:00",
          "2009-09-01T00:00:00",
          "2009-10-01T00:00:00",
          "2009-11-01T00:00:00",
          "2009-12-01T00:00:00",
          "2010-01-01T00:00:00",
          "2010-02-01T00:00:00",
          "2010-03-01T00:00:00",
          "2010-04-01T00:00:00",
          "2010-05-01T00:00:00",
          "2010-06-01T00:00:00",
          "2010-07-01T00:00:00",
          "2010-08-01T00:00:00",
          "2010-09-01T00:00:00",
          "2010-10-01T00:00:00",
          "2010-11-01T00:00:00",
          "2010-12-01T00:00:00",
          "2011-01-01T00:00:00",
          "2011-02-01T00:00:00",
          "2011-03-01T00:00:00",
          "2011-04-01T00:00:00",
          "2011-05-01T00:00:00",
          "2011-06-01T00:00:00",
          "2011-07-01T00:00:00",
          "2011-08-01T00:00:00",
          "2011-09-01T00:00:00",
          "2011-10-01T00:00:00",
          "2011-11-01T00:00:00",
          "2011-12-01T00:00:00",
          "2012-01-01T00:00:00",
          "2012-02-01T00:00:00",
          "2012-03-01T00:00:00",
          "2012-04-01T00:00:00",
          "2012-05-01T00:00:00",
          "2012-06-01T00:00:00",
          "2012-07-01T00:00:00",
          "2012-08-01T00:00:00",
          "2012-09-01T00:00:00",
          "2012-10-01T00:00:00",
          "2012-11-01T00:00:00",
          "2012-12-01T00:00:00",
          "2013-01-01T00:00:00",
          "2013-02-01T00:00:00",
          "2013-03-01T00:00:00",
          "2013-04-01T00:00:00",
          "2013-05-01T00:00:00",
          "2013-06-01T00:00:00",
          "2013-07-01T00:00:00",
          "2013-08-01T00:00:00",
          "2013-09-01T00:00:00",
          "2013-10-01T00:00:00",
          "2013-11-01T00:00:00",
          "2013-12-01T00:00:00",
          "2014-01-01T00:00:00",
          "2014-02-01T00:00:00",
          "2014-03-01T00:00:00",
          "2014-04-01T00:00:00",
          "2014-05-01T00:00:00",
          "2014-06-01T00:00:00",
          "2014-07-01T00:00:00",
          "2014-08-01T00:00:00",
          "2014-09-01T00:00:00",
          "2014-10-01T00:00:00",
          "2014-11-01T00:00:00",
          "2014-12-01T00:00:00",
          "2015-01-01T00:00:00",
          "2015-02-01T00:00:00",
          "2015-03-01T00:00:00",
          "2015-04-01T00:00:00",
          "2015-05-01T00:00:00",
          "2015-06-01T00:00:00",
          "2015-07-01T00:00:00",
          "2015-08-01T00:00:00",
          "2015-09-01T00:00:00",
          "2015-10-01T00:00:00",
          "2015-11-01T00:00:00",
          "2015-12-01T00:00:00",
          "2016-01-01T00:00:00",
          "2016-02-01T00:00:00",
          "2016-03-01T00:00:00",
          "2016-04-01T00:00:00",
          "2016-05-01T00:00:00",
          "2016-06-01T00:00:00",
          "2016-07-01T00:00:00",
          "2016-08-01T00:00:00",
          "2016-09-01T00:00:00",
          "2016-10-01T00:00:00",
          "2016-11-01T00:00:00",
          "2016-12-01T00:00:00",
          "2017-01-01T00:00:00",
          "2017-02-01T00:00:00",
          "2017-03-01T00:00:00",
          "2017-04-01T00:00:00",
          "2017-05-01T00:00:00",
          "2017-06-01T00:00:00",
          "2017-07-01T00:00:00",
          "2017-08-01T00:00:00",
          "2017-09-01T00:00:00",
          "2017-10-01T00:00:00",
          "2017-11-01T00:00:00",
          "2017-12-01T00:00:00",
          "2018-01-01T00:00:00",
          "2018-02-01T00:00:00",
          "2018-03-01T00:00:00",
          "2018-04-01T00:00:00",
          "2018-05-01T00:00:00",
          "2018-06-01T00:00:00",
          "2018-07-01T00:00:00",
          "2018-08-01T00:00:00",
          "2018-09-01T00:00:00",
          "2018-10-01T00:00:00",
          "2018-11-01T00:00:00",
          "2018-12-01T00:00:00",
          "2019-01-01T00:00:00",
          "2019-02-01T00:00:00",
          "2019-03-01T00:00:00",
          "2019-04-01T00:00:00",
          "2019-05-01T00:00:00",
          "2019-06-01T00:00:00",
          "2019-07-01T00:00:00",
          "2019-08-01T00:00:00",
          "2019-09-01T00:00:00",
          "2019-10-01T00:00:00",
          "2019-11-01T00:00:00",
          "2019-12-01T00:00:00",
          "2020-01-01T00:00:00",
          "2020-02-01T00:00:00",
          "2020-03-01T00:00:00",
          "2020-04-01T00:00:00",
          "2020-05-01T00:00:00",
          "2020-06-01T00:00:00",
          "2020-07-01T00:00:00",
          "2020-08-01T00:00:00",
          "2020-09-01T00:00:00",
          "2020-10-01T00:00:00",
          "2020-11-01T00:00:00",
          "2020-12-01T00:00:00"
         ],
         "y": [
          2.1296,
          2.2685,
          2.3148,
          2.2222,
          2.4167,
          2.7315,
          2.8704,
          3.1111,
          2.7963,
          2.963,
          3.0093,
          3.3611,
          3.713,
          3.9167,
          4.0463,
          3.9537,
          3.8241,
          4.0278,
          4.1389,
          4.1111,
          4.5,
          4.9074,
          4.7593,
          5.4259,
          5.4352,
          5.4907,
          5.6481,
          6.5463,
          6.5741,
          6.0185,
          5.2685,
          4.9537,
          5.2778,
          4.7963,
          4.7407,
          3.8611,
          4.2222,
          4.4537,
          5.3056,
          5.0556,
          3.787,
          3.5,
          3.3704,
          2.825,
          2.3472,
          2.1759,
          2.1759,
          2.2583,
          2.0556,
          2.3333,
          3.0463,
          3.0019,
          2.9907,
          2.7685,
          3.1574,
          3.5185,
          3.738,
          3.5361,
          3.6463,
          3.0509,
          2.9194,
          3.0028,
          2.5065,
          2.0083,
          1.9815,
          2,
          2.0565,
          1.975,
          1.9815,
          1.5519,
          1.6139,
          1.8398,
          1.8333,
          1.6852,
          1.6574,
          1.5741,
          1.4815,
          1.2037,
          1.2269,
          0.9574,
          0.9583,
          0.9713,
          0.9583,
          0.9611,
          1.0926,
          1.1269,
          1.1528,
          0.9491,
          0.95,
          0.9444,
          1,
          1.1343,
          1.2083,
          1.2583,
          1.4509,
          2.0046,
          1.9176,
          1.7204,
          1.9444,
          2.0139,
          2.1546,
          2.537,
          2.5417,
          2.713,
          3.1389,
          4.112,
          4.0028,
          4.679,
          5.134,
          5.9,
          5.507,
          5.3,
          5.72,
          4.672,
          4.692,
          5.114,
          4.18,
          3.532,
          2.661,
          2.737,
          3.349,
          3.44,
          3.088,
          2.44,
          2.282,
          2.431,
          2.153,
          1.899,
          2.285,
          2.065,
          1.925,
          1.45,
          1.58,
          1.861,
          1.808,
          1.775,
          1.488,
          1.716,
          1.751,
          1.709,
          1.78,
          1.511,
          1.61,
          1.609,
          1.644,
          1.894,
          2.334,
          2.72,
          2.43,
          2.38,
          2.427,
          3.172,
          3.448,
          3.45,
          3.663,
          4,
          4,
          3.27,
          3.595,
          3.25,
          2.875,
          2.865,
          2.675,
          2.1,
          1.758,
          1.702,
          1.61,
          1.93,
          2.015,
          2.04,
          2.374,
          2.118,
          1.905,
          1.825,
          1.894,
          1.811,
          1.985,
          1.907,
          1.87,
          1.689,
          1.319,
          1.1,
          1.15,
          1.148,
          1.142,
          1.17,
          1.576,
          1.084,
          1.098,
          1.456,
          1.364
         ]
        },
        {
         "hoverlabel": {
          "namelength": 0
         },
         "hovertemplate": [
          "<b>Top 10 Words :</b><br>Mota-Engil<br>acções<br>capital<br>Highfields Capital Management<br>direitos<br>voto<br>Mota-Engil SGPS<br>construtora<br>fundos<br>participação",
          "News not found.",
          "News not found.",
          "<b>Top 10 Words :</b><br>euros<br>potencial<br>valorização<br>Millennium<br>Mota-Engil<br>empresa<br>investimento<br>carteira<br>risco<br>Altri",
          "News not found.",
          "News not found.",
          "News not found.",
          "News not found.",
          "News not found.",
          "News not found.",
          "News not found.",
          "News not found.",
          "News not found.",
          "News not found.",
          "News not found.",
          "News not found.",
          "News not found.",
          "News not found.",
          "News not found.",
          "News not found.",
          "News not found.",
          "News not found.",
          "News not found.",
          "<b>Top 10 Words :</b><br>concurso<br>Brisa<br>AEGL<br>Grande Lisboa<br>concessão<br>consórcio<br>Mota-Engil<br>euros<br>exploração<br>propostas",
          "News not found.",
          "News not found.",
          "News not found.",
          "News not found.",
          "News not found.",
          "News not found.",
          "News not found.",
          "News not found.",
          "<b>Top 10 Words :</b><br>resultados<br>euros<br>semestre<br>ME<br>Mota-Engil<br>RDP Madeira<br>Grupo Mota-Engil<br>Martifer<br>Novo<br>Oferta",
          "News not found.",
          "News not found.",
          "News not found.",
          "News not found.",
          "News not found.",
          "News not found.",
          "News not found.",
          "News not found.",
          "News not found.",
          "News not found.",
          "News not found.",
          "News not found.",
          "News not found.",
          "News not found.",
          "News not found.",
          "News not found.",
          "News not found.",
          "News not found.",
          "News not found.",
          "News not found.",
          "News not found.",
          "News not found.",
          "News not found.",
          "News not found.",
          "News not found.",
          "News not found.",
          "News not found.",
          "News not found.",
          "News not found.",
          "News not found.",
          "<b>Top 10 Words :</b><br>Mota-Engil<br>BERD<br>parceria<br>projectos<br>Luísa Pinto<br>carteira<br>presidente<br>Banco<br>Economia<br>Escola Projecto",
          "News not found.",
          "News not found.",
          "News not found.",
          "<b>Top 10 Words :</b><br>Mota-Engil<br>dívida<br>empresas<br>Angola<br>dívidas<br>entendimento<br>pagamento<br>PME<br>semana<br>Economia",
          "<b>Top 10 Words :</b><br>ANEOP<br>Angola<br>Mota-Engil<br>empresa<br>Portugal<br>construtoras<br>dias<br>transferência<br>verbas<br>Alexandra Lucas Coelho",
          "<b>Top 10 Words :</b><br>Mota-Engil<br>presidente<br>DCIAP<br>processo<br>âmbito<br>dinheiro<br>Acção Penal<br>Alexandra Lucas Coelho<br>António Mota<br>CENSURA",
          "News not found.",
          "<b>Top 10 Words :</b><br>Administradora<br>Mota-Engil<br>construtora<br>acções<br>Bolsa 19-01-11<br>Bolsa 25 mil acções da empresa<br>Maria Paula Queirós Vasconcelos Mota de Meireles<br>capital<br>construção<br>empresa",
          "<b>Top 10 Words :</b><br>Administradora<br>Mota-Engil<br>construtora<br>Bolsa 25 mil acções da empresa<br>Maria Paula Queirós Vasconcelos Mota de Meireles<br>acções<br>capital<br>construção<br>empresa<br>hora",
          "<b>Top 10 Words :</b><br>resposta<br>Mota-Engil<br>PSD<br>anos<br>dados<br>Anónimo<br>FERRAMENTAS<br>Lisboa<br>Líbia<br>conta",
          "News not found.",
          "<b>Top 10 Words :</b><br>Mota-Engil<br>EDP<br>euros<br>queda<br>Europa<br>banca<br>bolsa<br>bolsa de Lisboa<br>hora<br>perdas",
          "News not found.",
          "News not found.",
          "<b>Top 10 Words :</b><br>euros<br>resposta<br>Mota-Engil<br>construtora<br>dados<br>Anónimo<br>FERRAMENTAS<br>conta<br>empresa<br>bolsa",
          "<b>Top 10 Words :</b><br>Mota-Engil<br>euros<br>país<br>resposta<br>empresa<br>Mundiais2011<br>ministro<br>Anónimo<br>Em Portugal<br>FERRAMENTAS",
          "News not found.",
          "<b>Top 10 Words :</b><br>euros<br>resposta<br>Verba<br>lucros<br>negócios<br>volume<br>Mota-Engil<br>Anónimo<br>Economia<br>Lisboa",
          "News not found.",
          "<b>Top 10 Words :</b><br>Mota-Engil<br>administração<br>Luís Parreirão<br>António Mota<br>Jorge Coelho<br>cargo<br>construtora<br>crise<br>Alexandra Lucas Coelho<br>António Guterres",
          "<b>Top 10 Words :</b><br>Mota-Engil<br>resposta<br>Em Portugal<br>Jorge Coelho<br>programa<br>Anónimo<br>CPLP<br>Comunidade de Países de Língua Portuguesa<br>Crise no Euro Passos<br>Economia",
          "<b>Top 10 Words :</b><br>Mota-Engil<br>horas<br>minutos<br>dias<br>resposta<br>administrador<br>Cracóvia<br>morte<br>Anónimo<br>Polónia",
          "News not found.",
          "News not found.",
          "News not found.",
          "News not found.",
          "News not found.",
          "<b>Top 10 Words :</b><br>euros<br>Governo<br>dias<br>minutos<br>Mota-Engil<br>horas<br>resposta<br>austeridade<br>presidente<br>Estado",
          "News not found.",
          "News not found.",
          "News not found.",
          "<b>Top 10 Words :</b><br>Mota-Engil<br>Jorge Coelho<br>empresa<br>ministro<br>construtora<br>euros<br>liderança<br>presidente<br>Coelho<br>FMI",
          "<b>Top 10 Words :</b><br>Mota-Engil<br>Portugal<br>projecto<br>Governo<br>Jorge Coelho<br>assinatura<br>presidente<br>Lisboa<br>bitola<br>empresa",
          "<b>Top 10 Words :</b><br>Mota-Engil<br>Portugal<br>euros<br>assinatura<br>acesso<br>condições<br>Gémeas Cargas<br>campo<br>custo<br>código",
          "News not found.",
          "News not found.",
          "News not found.",
          "News not found.",
          "News not found.",
          "<b>Top 10 Words :</b><br>euros<br>semestre<br>Portugal<br>Mota-Engil<br>acesso<br>construtora<br>Gonçalo Moura Martins<br>arquivo<br>assinatura<br>campo",
          "<b>Top 10 Words :</b><br>Portugal<br>África<br>acesso<br>Mota-Engil<br>assinatura<br>campo<br>condições<br>custo<br>código<br>mercado",
          "<b>Top 10 Words :</b><br>mundo<br>Mota-Engil<br>Portugal<br>concurso<br>indemnização<br>AltaVia<br>Poceirão<br>anulação<br>campanha<br>custos",
          "News not found.",
          "News not found.",
          "News not found.",
          "News not found.",
          "News not found.",
          "<b>Top 10 Words :</b><br>euros<br>Mota-Engil<br>capital<br>empresa<br>mundo<br>Portugal<br>Mota-Engil África<br>acesso<br>trimestre<br>António Mota",
          "<b>Top 10 Words :</b><br>euros<br>concessão<br>Mota-Engil<br>construção<br>obras<br>Estado<br>anos<br>mundo<br>Colômbia<br>México",
          "<b>Top 10 Words :</b><br>BES<br>euros<br>entrada<br>Governo<br>férias<br>GES<br>bolsa<br>casas<br>contas<br>família",
          "<b>Top 10 Words :</b><br>EGF<br>propostas<br>processo<br>Governo<br>condições<br>mundo<br>BES<br>Indaver<br>Mota-Engil<br>calendário",
          "<b>Top 10 Words :</b><br>euros<br>Mota-Engil<br>México<br>construção<br>obra<br>EGF<br>VISA<br>débito<br>privatização<br>projectos",
          "<b>Top 10 Words :</b><br>euros<br>Mota-Engil<br>VISA<br>débito<br>Portugal<br>Restantes<br>artigos<br>dias<br>mundo<br>pagamentos",
          "<b>Top 10 Words :</b><br>EGF<br>empresa<br>Mota-Engil<br>privatização<br>Estado<br>processo<br>providências<br>SUMA<br>euros<br>VISA",
          "News not found.",
          "News not found.",
          "<b>Top 10 Words :</b><br>Mota-Engil<br>BPI<br>alta<br>euros<br>fecha<br>práticas<br>subidas<br>PSI20<br>Texto Galp<br>ganhos",
          "News not found.",
          "<b>Top 10 Words :</b><br>euros<br>Mota-Engil<br>negócios<br>Portugal<br>crescimento<br>resultados<br>Europa<br>Grécia<br>artigos<br>aumento",
          "<b>Top 10 Words :</b><br>Mota-Engil<br>consórcio<br>período<br>Colômbia<br>RIO DE JANEIRO<br>artigos<br>concessão<br>dias<br>empresas<br>obra",
          "<b>Top 10 Words :</b><br>Ascendi<br>Portugal<br>Mota-Engil<br>euros<br>parceria<br>acordo<br>empresa<br>Ardian<br>artigos<br>Oferta",
          "News not found.",
          "<b>Top 10 Words :</b><br>BCP<br>Mota-Engil<br>PSI20<br>fecha<br>fonte<br>Diminuir<br>Europa<br>Pub Últimos<br>linha<br>títulos",
          "<b>Top 10 Words :</b><br>Mota-Engil<br>Mota-Engil África<br>António Mota<br>bolsa<br>capital<br>acções<br>empresa<br>Amesterdão<br>campanha<br>euros",
          "<b>Top 10 Words :</b><br>Mota-Engil<br>Portugal<br>gestão<br>reconhecimento<br>António Mota<br>Mota-Engil África<br>Venda da Tertir<br>acções<br>capital<br>setor",
          "<b>Top 10 Words :</b><br>capital<br>aumento<br>ações<br>euros<br>Acionistas da Mota-Engil<br>Mota-Engil<br>MGP<br>frente<br>âmbito<br>acionistas",
          "<b>Top 10 Words :</b><br>concurso<br>euros<br>Mota-Engil<br>fonte<br>A Mota-Engil<br>Aumentar<br>Diminuir<br>EGF<br>Economia<br>JavaScript",
          "<b>Top 10 Words :</b><br>Mota-Engil<br>euros<br>ações<br>empresa<br>suspensão<br>queda<br>bolsa<br>negociação<br>Portugal<br>venda",
          "<b>Top 10 Words :</b><br>Mota-Engil<br>venda<br>euros<br>negócio<br>Portugal<br>empresa<br>interesse<br>participação<br>Mota-Engil África<br>acções",
          "News not found.",
          "<b>Top 10 Words :</b><br>ações<br>Mota-Engil<br>negociação<br>suspensão<br>motivos<br>cotação<br>alienação<br>atividade<br>ativos<br>comportamento",
          "<b>Top 10 Words :</b><br>México<br>Mota-Engil<br>mercado<br>Angola<br>país<br>empresa<br>António Mota<br>construção<br>euros<br>Brasil",
          "<b>Top 10 Words :</b><br>Paulo Portas<br>Mota-Engil<br>Portugal<br>Portas<br>construção<br>América Latina<br>Governo<br>barragem<br>euros<br>empresa",
          "<b>Top 10 Words :</b><br>euros<br>Mota-Engil<br>venda<br>impostos<br>empresa<br>Indáqua<br>Portugal<br>VISA<br>actividade<br>artigos",
          "News not found.",
          "<b>Top 10 Words :</b><br>Mota-Engil<br>euros<br>construção<br>país<br>António Mota<br>México<br>resultados<br>Portugal<br>mercado<br>negócios",
          "News not found.",
          "News not found.",
          "News not found.",
          "News not found.",
          "<b>Top 10 Words :</b><br>Mota-Engil<br>Angola<br>Dinheiro Vivo<br>Luanda<br>construtora<br>euros<br>obra<br>província<br>reabilitação<br>Economia",
          "<b>Top 10 Words :</b><br>euros<br>Mota-Engil<br>Lucro da Mota-Engil<br>África<br>Europa<br>negócio<br>venda<br>prazo<br>América Latina<br>Mar",
          "<b>Top 10 Words :</b><br>Mota-Engil<br>empresa<br>Paulo Portas<br>Portas<br>concurso<br>destaque<br>venda<br>Tecnorém<br>euros<br>favorecimento",
          "<b>Top 10 Words :</b><br>Mota-Engil<br>Paulo Portas<br>empresa<br>favorecimento<br>Portas<br>Tecnorém<br>concurso<br>Lisboa<br>Partido<br>ação",
          "<b>Top 10 Words :</b><br>Mota-Engil<br>contrato<br>dólares<br>Guiné-Conacri<br>empresa<br>anos<br>euros<br>região<br>Moçambique<br>Paulo Portas",
          "News not found.",
          "<b>Top 10 Words :</b><br>obra<br>Tecnorém<br>Mota-Engil<br>concurso<br>Oeiras<br>Portas<br>Portugal<br>habilitações<br>júri<br>CDS",
          "<b>Top 10 Words :</b><br>Mota-Engil<br>recolha<br>resíduos<br>ME<br>contrato<br>Costa do Marfim<br>obra<br>Tecnorém<br>euros<br>concurso",
          "<b>Top 10 Words :</b><br>Mota-Engil<br>Lineas<br>participações<br>Out<br>euros<br>mercado<br>obrigações<br>taxa<br>ME<br>direitos",
          "<b>Top 10 Words :</b><br>Mota-Engil<br>Navigator<br>alta<br>ganhos<br>Bolsa de Lisboa<br>euros<br>Greve<br>Nov<br>ações<br>dólares",
          "News not found.",
          "<b>Top 10 Words :</b><br>euros<br>contrato<br>Mota-Engil<br>Costa do Marfim<br>Jan<br>anos<br>capacidade<br>capital<br>construção<br>empresa",
          "News not found.",
          "<b>Top 10 Words :</b><br>barragem<br>construção<br>obra<br>Paulo Portas<br>Portas<br>EDP<br>Governo<br>Unesco<br>Cristas<br>Mota-Engil",
          "<b>Top 10 Words :</b><br>Mota-Engil<br>Jorge Coelho<br>construtora<br>euros<br>Lisboa<br>PSI20<br>administração<br>Google<br>Hoje<br>Magazine Publicidade",
          "<b>Top 10 Words :</b><br>Mota-Engil<br>Jorge Coelho<br>regresso<br>empresa<br>Conselho de Administração<br>anos<br>alargamento<br>composição<br>elementos<br>euros",
          "<b>Top 10 Words :</b><br>Mota-Engil<br>PSI20<br>ganho<br>bolsa<br>bolsa de Lisboa<br>euros<br>subidas",
          "<b>Top 10 Words :</b><br>Nigéria<br>parceria<br>Mota-Engil<br>acordo<br>Shoreline<br>Tailândia<br>construção<br>gruta<br>mercado<br>resgate",
          "<b>Top 10 Words :</b><br>euros<br>Mota-Engil<br>PSI20<br>descidas<br>conta<br>África<br>construtora<br>subidas<br>website<br>Europa",
          "News not found.",
          "<b>Top 10 Words :</b><br>garantia<br>Fundbox<br>Mota-Engil<br>fundo<br>conta<br>Aleixo<br>anos<br>torres<br>bairro<br>destaque",
          "<b>Top 10 Words :</b><br>euros<br>Mota-Engil<br>emissão<br>electricidade<br>anos<br>presidente<br>procura<br>empresa<br>futuro<br>México",
          "<b>Top 10 Words :</b><br>água<br>Indaqua<br>empresa<br>Vista Water<br>abastecimento<br>capital<br>Angola<br>Mota-Engil<br>águas<br>acordo",
          "<b>Top 10 Words :</b><br>Mota-Engil<br>PSI20<br>subida<br>euros<br>ganhos<br>Peru<br>corrupção<br>empresa<br>acordo<br>bolsa",
          "<b>Top 10 Words :</b><br>confiança<br>Mota-Engil<br>construção<br>António Mota<br>Em Portugal<br>Europa<br>investimento<br>setor<br>Economia<br>Portugal",
          "<b>Top 10 Words :</b><br>Moçambique<br>PSI20<br>Mota-Engil<br>subida<br>Ganhos da Mota-Engil<br>obras<br>euros<br>recuperação<br>construção<br>dólares",
          "<b>Top 10 Words :</b><br>empresas<br>cartel<br>manutenção<br>AdC<br>concursos<br>Mota-Engil<br>euros<br>conta<br>entidade<br>participação",
          "<b>Top 10 Words :</b><br>euros<br>Mota-Engil<br>Premium<br>Sociedade<br>emissão<br>empresa<br>acordo<br>eleições<br>Aladdin<br>Génio",
          "News not found.",
          "<b>Top 10 Words :</b><br>PSI20<br>subida<br>Ganhos da Mota-Engil<br>Dinheiro Vivo<br>Economia<br>Mota-Engil<br>bolsa<br>bolsa de Lisboa<br>cotadas<br>fecho",
          "<b>Top 10 Words :</b><br>Mota-Engil<br>euros<br>semestre<br>negócios<br>ME<br>empresa<br>volume<br>PSI20<br>anos<br>contratos",
          "<b>Top 10 Words :</b><br>Paulo Portas<br>Mota-Engil<br>empresa<br>incompatibilidade<br>Bloco de Esquerda<br>PSI20<br>BE<br>Portas<br>empresas<br>Governo",
          "News not found.",
          "<b>Top 10 Words :</b><br>Bolsa de Lisboa<br>CTT<br>PSI20<br>Pharol<br>ganhos<br>Mota-Engil<br>funções<br>vida<br>Dinheiro Vivo<br>Economia",
          "<b>Top 10 Words :</b><br>ações<br>Mota-Engil<br>participações<br>Governo<br>Mota Gestão<br>capital<br>construtora<br>negociação<br>suspensão<br>MGP",
          "<b>Top 10 Words :</b><br>PSI20<br>subida<br>Mota-Engil<br>marca<br>semana<br>Dinheiro Vivo<br>Economia<br>Ganhos da Mota-Engil<br>Peru<br>Todos os Direitos Reservados",
          "<b>Top 10 Words :</b><br>PSI20<br>subida<br>Coronavírus<br>semana<br>Dinheiro Vivo<br>Economia<br>Ganhos da Mota-Engil<br>Mota-Engil<br>Todos os Direitos Reservados<br>bolsa",
          "<b>Top 10 Words :</b><br>PSI20<br>Covid-19<br>subida<br>Mota-Engil<br>euros<br>emergência<br>Economia<br>Dinheiro Vivo<br>Ganhos da Mota-Engil<br>News Multimedia Legislativas 2019",
          "<b>Top 10 Words :</b><br>negócios<br>euros<br>Mota-Engil<br>moratórias<br>actividade<br>bancos<br>liquidez<br>processo<br>conta<br>América Latina",
          "<b>Top 10 Words :</b><br>euros<br>Mota-Engil<br>contrato<br>construção<br>Polónia<br>troço<br>áreas<br>A Mota-Engil<br>Acompanhe<br>Comissão do Mercado de Valores Mobiliários",
          "News not found.",
          "<b>Top 10 Words :</b><br>PSI20<br>Mota-Engil<br>subida<br>México<br>Ganhos da Mota-Engil<br>adjudicação<br>causa<br>fogo<br>Dinheiro Vivo<br>Economia",
          "<b>Top 10 Words :</b><br>Mota-Engil<br>euros<br>capital<br>acordo<br>parceria<br>investimento<br>mundo<br>conta<br>empresa<br>grupos",
          "<b>Top 10 Words :</b><br>Mota-Engil<br>obra<br>metro de Lisboa<br>empresa<br>conta<br>contrato<br>expansão<br>Sacyr Somague<br>impugnação<br>concurso",
          "News not found.",
          "<b>Top 10 Words :</b><br>euros<br>Mota-Engil<br>construtora<br>construção<br>conta<br>capital<br>Jorge Coelho<br>Costa do Marfim<br>empresa<br>estádio",
          "<b>Top 10 Words :</b><br>México<br>contrato<br>Mota-Engil<br>euros<br>empresa<br>obras<br>perito<br>América Latina<br>CCCC<br>Conjuntura Finanças"
         ],
         "marker": {
          "color": [
           "green",
           "black",
           "black",
           "green",
           "black",
           "black",
           "black",
           "black",
           "black",
           "black",
           "black",
           "black",
           "black",
           "black",
           "black",
           "black",
           "black",
           "black",
           "black",
           "black",
           "black",
           "black",
           "black",
           "green",
           "black",
           "black",
           "black",
           "black",
           "black",
           "black",
           "black",
           "black",
           "green",
           "black",
           "black",
           "black",
           "black",
           "black",
           "black",
           "black",
           "black",
           "black",
           "black",
           "black",
           "black",
           "black",
           "black",
           "black",
           "black",
           "black",
           "black",
           "black",
           "black",
           "black",
           "black",
           "black",
           "black",
           "black",
           "black",
           "black",
           "black",
           "black",
           "black",
           "green",
           "black",
           "black",
           "black",
           "green",
           "green",
           "red",
           "black",
           "green",
           "green",
           "green",
           "black",
           "red",
           "black",
           "black",
           "green",
           "green",
           "black",
           "green",
           "black",
           "green",
           "green",
           "red",
           "black",
           "black",
           "black",
           "black",
           "black",
           "red",
           "black",
           "black",
           "black",
           "green",
           "green",
           "green",
           "black",
           "black",
           "black",
           "black",
           "black",
           "green",
           "green",
           "green",
           "black",
           "black",
           "black",
           "black",
           "black",
           "green",
           "green",
           "red",
           "green",
           "green",
           "green",
           "green",
           "black",
           "black",
           "green",
           "black",
           "red",
           "green",
           "green",
           "black",
           "red",
           "green",
           "green",
           "green",
           "green",
           "green",
           "green",
           "black",
           "green",
           "green",
           "green",
           "green",
           "black",
           "red",
           "black",
           "black",
           "black",
           "black",
           "green",
           "green",
           "green",
           "green",
           "red",
           "black",
           "green",
           "red",
           "green",
           "green",
           "black",
           "green",
           "black",
           "red",
           "red",
           "green",
           "green",
           "green",
           "green",
           "black",
           "green",
           "red",
           "green",
           "red",
           "red",
           "green",
           "green",
           "green",
           "black",
           "green",
           "green",
           "green",
           "black",
           "red",
           "red",
           "red",
           "red",
           "red",
           "green",
           "green",
           "black",
           "green",
           "green",
           "green",
           "black",
           "green",
           "green"
          ]
         },
         "name": "Negative Sentiment",
         "opacity": 0.5,
         "showlegend": false,
         "type": "bar",
         "x": [
          "2005-02-01T00:00:00",
          "2005-03-01T00:00:00",
          "2005-04-01T00:00:00",
          "2005-05-01T00:00:00",
          "2005-06-01T00:00:00",
          "2005-07-01T00:00:00",
          "2005-08-01T00:00:00",
          "2005-09-01T00:00:00",
          "2005-10-01T00:00:00",
          "2005-11-01T00:00:00",
          "2005-12-01T00:00:00",
          "2006-01-01T00:00:00",
          "2006-02-01T00:00:00",
          "2006-03-01T00:00:00",
          "2006-04-01T00:00:00",
          "2006-05-01T00:00:00",
          "2006-06-01T00:00:00",
          "2006-07-01T00:00:00",
          "2006-08-01T00:00:00",
          "2006-09-01T00:00:00",
          "2006-10-01T00:00:00",
          "2006-11-01T00:00:00",
          "2006-12-01T00:00:00",
          "2007-01-01T00:00:00",
          "2007-02-01T00:00:00",
          "2007-03-01T00:00:00",
          "2007-04-01T00:00:00",
          "2007-05-01T00:00:00",
          "2007-06-01T00:00:00",
          "2007-07-01T00:00:00",
          "2007-08-01T00:00:00",
          "2007-09-01T00:00:00",
          "2007-10-01T00:00:00",
          "2007-11-01T00:00:00",
          "2007-12-01T00:00:00",
          "2008-01-01T00:00:00",
          "2008-02-01T00:00:00",
          "2008-03-01T00:00:00",
          "2008-04-01T00:00:00",
          "2008-05-01T00:00:00",
          "2008-06-01T00:00:00",
          "2008-07-01T00:00:00",
          "2008-08-01T00:00:00",
          "2008-09-01T00:00:00",
          "2008-10-01T00:00:00",
          "2008-11-01T00:00:00",
          "2008-12-01T00:00:00",
          "2009-01-01T00:00:00",
          "2009-02-01T00:00:00",
          "2009-03-01T00:00:00",
          "2009-04-01T00:00:00",
          "2009-05-01T00:00:00",
          "2009-06-01T00:00:00",
          "2009-07-01T00:00:00",
          "2009-08-01T00:00:00",
          "2009-09-01T00:00:00",
          "2009-10-01T00:00:00",
          "2009-11-01T00:00:00",
          "2009-12-01T00:00:00",
          "2010-01-01T00:00:00",
          "2010-02-01T00:00:00",
          "2010-03-01T00:00:00",
          "2010-04-01T00:00:00",
          "2010-05-01T00:00:00",
          "2010-06-01T00:00:00",
          "2010-07-01T00:00:00",
          "2010-08-01T00:00:00",
          "2010-09-01T00:00:00",
          "2010-10-01T00:00:00",
          "2010-11-01T00:00:00",
          "2010-12-01T00:00:00",
          "2011-01-01T00:00:00",
          "2011-02-01T00:00:00",
          "2011-03-01T00:00:00",
          "2011-04-01T00:00:00",
          "2011-05-01T00:00:00",
          "2011-06-01T00:00:00",
          "2011-07-01T00:00:00",
          "2011-08-01T00:00:00",
          "2011-09-01T00:00:00",
          "2011-10-01T00:00:00",
          "2011-11-01T00:00:00",
          "2011-12-01T00:00:00",
          "2012-01-01T00:00:00",
          "2012-02-01T00:00:00",
          "2012-03-01T00:00:00",
          "2012-04-01T00:00:00",
          "2012-05-01T00:00:00",
          "2012-06-01T00:00:00",
          "2012-07-01T00:00:00",
          "2012-08-01T00:00:00",
          "2012-09-01T00:00:00",
          "2012-10-01T00:00:00",
          "2012-11-01T00:00:00",
          "2012-12-01T00:00:00",
          "2013-01-01T00:00:00",
          "2013-02-01T00:00:00",
          "2013-03-01T00:00:00",
          "2013-04-01T00:00:00",
          "2013-05-01T00:00:00",
          "2013-06-01T00:00:00",
          "2013-07-01T00:00:00",
          "2013-08-01T00:00:00",
          "2013-09-01T00:00:00",
          "2013-10-01T00:00:00",
          "2013-11-01T00:00:00",
          "2013-12-01T00:00:00",
          "2014-01-01T00:00:00",
          "2014-02-01T00:00:00",
          "2014-03-01T00:00:00",
          "2014-04-01T00:00:00",
          "2014-05-01T00:00:00",
          "2014-06-01T00:00:00",
          "2014-07-01T00:00:00",
          "2014-08-01T00:00:00",
          "2014-09-01T00:00:00",
          "2014-10-01T00:00:00",
          "2014-11-01T00:00:00",
          "2014-12-01T00:00:00",
          "2015-01-01T00:00:00",
          "2015-02-01T00:00:00",
          "2015-03-01T00:00:00",
          "2015-04-01T00:00:00",
          "2015-05-01T00:00:00",
          "2015-06-01T00:00:00",
          "2015-07-01T00:00:00",
          "2015-08-01T00:00:00",
          "2015-09-01T00:00:00",
          "2015-10-01T00:00:00",
          "2015-11-01T00:00:00",
          "2015-12-01T00:00:00",
          "2016-01-01T00:00:00",
          "2016-02-01T00:00:00",
          "2016-03-01T00:00:00",
          "2016-04-01T00:00:00",
          "2016-05-01T00:00:00",
          "2016-06-01T00:00:00",
          "2016-07-01T00:00:00",
          "2016-08-01T00:00:00",
          "2016-09-01T00:00:00",
          "2016-10-01T00:00:00",
          "2016-11-01T00:00:00",
          "2016-12-01T00:00:00",
          "2017-01-01T00:00:00",
          "2017-02-01T00:00:00",
          "2017-03-01T00:00:00",
          "2017-04-01T00:00:00",
          "2017-05-01T00:00:00",
          "2017-06-01T00:00:00",
          "2017-07-01T00:00:00",
          "2017-08-01T00:00:00",
          "2017-09-01T00:00:00",
          "2017-10-01T00:00:00",
          "2017-11-01T00:00:00",
          "2017-12-01T00:00:00",
          "2018-01-01T00:00:00",
          "2018-02-01T00:00:00",
          "2018-03-01T00:00:00",
          "2018-04-01T00:00:00",
          "2018-05-01T00:00:00",
          "2018-06-01T00:00:00",
          "2018-07-01T00:00:00",
          "2018-08-01T00:00:00",
          "2018-09-01T00:00:00",
          "2018-10-01T00:00:00",
          "2018-11-01T00:00:00",
          "2018-12-01T00:00:00",
          "2019-01-01T00:00:00",
          "2019-02-01T00:00:00",
          "2019-03-01T00:00:00",
          "2019-04-01T00:00:00",
          "2019-05-01T00:00:00",
          "2019-06-01T00:00:00",
          "2019-07-01T00:00:00",
          "2019-08-01T00:00:00",
          "2019-09-01T00:00:00",
          "2019-10-01T00:00:00",
          "2019-11-01T00:00:00",
          "2019-12-01T00:00:00",
          "2020-01-01T00:00:00",
          "2020-02-01T00:00:00",
          "2020-03-01T00:00:00",
          "2020-04-01T00:00:00",
          "2020-05-01T00:00:00",
          "2020-06-01T00:00:00",
          "2020-07-01T00:00:00",
          "2020-08-01T00:00:00",
          "2020-09-01T00:00:00",
          "2020-10-01T00:00:00",
          "2020-11-01T00:00:00",
          "2020-12-01T00:00:00"
         ],
         "y": [
          0.17055399556541018,
          0,
          0,
          0.3089489955654102,
          0,
          0,
          0,
          0,
          0,
          0,
          0,
          0,
          0,
          0,
          0,
          0,
          0,
          0,
          0,
          0,
          0,
          0,
          0,
          0.21556923366064829,
          0,
          0,
          0,
          0,
          0,
          0,
          0,
          0,
          0.14512210745352205,
          0,
          0,
          0,
          0,
          0,
          0,
          0,
          0,
          0,
          0,
          0,
          0,
          0,
          0,
          0,
          0,
          0,
          0,
          0,
          0,
          0,
          0,
          0,
          0,
          0,
          0,
          0,
          0,
          0,
          0,
          0.21340066223207677,
          0,
          0,
          0,
          0.2974914447828594,
          0.23387978137380472,
          0.21867849876565557,
          0,
          0.2458673288987434,
          0.15543399556541015,
          0.28875148824756125,
          0,
          0.8129574330060183,
          0,
          0,
          0.15840024733217595,
          0.008366553855073677,
          0,
          0.2890180669672594,
          0,
          0.04860095345600446,
          0.3066609530104808,
          0.2580304920118603,
          0,
          0,
          0,
          0,
          0,
          0.4102020307593545,
          0,
          0,
          0,
          0.29852642958300546,
          0.2860121279756911,
          0.2760788015477793,
          0,
          0,
          0,
          0,
          0,
          0.2953721974112591,
          0.2578913440502586,
          0.2888262963510443,
          0,
          0,
          0,
          0,
          0,
          0.28394284019336113,
          0.289869736069038,
          0.9379418306773125,
          0.28440669272332475,
          0.3031538566971642,
          0.24677298889518218,
          0.277595884585481,
          0,
          0,
          0.2826162560076706,
          0,
          0.050320355198464395,
          0.2944593108298559,
          0.3018169569563661,
          0,
          0.6310390479128507,
          0.28162359336796994,
          0.3157200082322925,
          0.2900515979630126,
          0.28495399556541023,
          0.07323072875836861,
          0.13590373996780208,
          0,
          0.2581806622320768,
          0.2756184043592307,
          0.16072389209876625,
          0.13198601905567886,
          0,
          0.3000894374348173,
          0,
          0,
          0,
          0,
          0.25136066223207687,
          0.043644932999573394,
          0.09359726660494955,
          0.18744285538293715,
          0.11106835650798974,
          0,
          0.2820714453883145,
          0.21095715357340097,
          0.27292940503488217,
          0.24859759946151405,
          0,
          0.3006156484579722,
          0,
          0.36038134608640204,
          0.03816757009115551,
          0.260720752066694,
          0.24387399556541023,
          0.29158520070435723,
          0.03388616963840779,
          0,
          0.2677691807505953,
          0.23331497217535196,
          0.2754384444370348,
          0.013870437473239905,
          0.19417670040528578,
          0.17306925239015647,
          0.2802206496842382,
          0.27430798823940283,
          0,
          0.21220083576225035,
          0.23857733628972655,
          0.08031117090819051,
          0,
          0.11553947244805782,
          0.22656094985953526,
          0.4531537611720989,
          0.12321320088736648,
          0.7219337703760449,
          0.2857446377336994,
          0.28547323986021,
          0,
          0.19535011228819354,
          0.23609701924784576,
          0.2779797474733384,
          0,
          0.15880396039315348,
          0.26780093771417046
         ]
        },
        {
         "marker": {
          "color": "green"
         },
         "name": "Positive Sentiment",
         "type": "bar",
         "visible": "legendonly",
         "x": [
          null
         ],
         "y": [
          null
         ]
        },
        {
         "marker": {
          "color": "red"
         },
         "name": "Negative Sentiment",
         "type": "bar",
         "visible": "legendonly",
         "x": [
          null
         ],
         "y": [
          null
         ]
        }
       ],
       "layout": {
        "hovermode": "x unified",
        "legend": {
         "title": {
          "text": "Legend"
         }
        },
        "margin": {
         "b": 50,
         "l": 50,
         "r": 50,
         "t": 50
        },
        "paper_bgcolor": "rgba(0, 0, 0, 0)",
        "plot_bgcolor": "rgba(0, 0, 0, 0)",
        "template": {
         "data": {
          "bar": [
           {
            "error_x": {
             "color": "#2a3f5f"
            },
            "error_y": {
             "color": "#2a3f5f"
            },
            "marker": {
             "line": {
              "color": "white",
              "width": 0.5
             },
             "pattern": {
              "fillmode": "overlay",
              "size": 10,
              "solidity": 0.2
             }
            },
            "type": "bar"
           }
          ],
          "barpolar": [
           {
            "marker": {
             "line": {
              "color": "white",
              "width": 0.5
             },
             "pattern": {
              "fillmode": "overlay",
              "size": 10,
              "solidity": 0.2
             }
            },
            "type": "barpolar"
           }
          ],
          "carpet": [
           {
            "aaxis": {
             "endlinecolor": "#2a3f5f",
             "gridcolor": "#C8D4E3",
             "linecolor": "#C8D4E3",
             "minorgridcolor": "#C8D4E3",
             "startlinecolor": "#2a3f5f"
            },
            "baxis": {
             "endlinecolor": "#2a3f5f",
             "gridcolor": "#C8D4E3",
             "linecolor": "#C8D4E3",
             "minorgridcolor": "#C8D4E3",
             "startlinecolor": "#2a3f5f"
            },
            "type": "carpet"
           }
          ],
          "choropleth": [
           {
            "colorbar": {
             "outlinewidth": 0,
             "ticks": ""
            },
            "type": "choropleth"
           }
          ],
          "contour": [
           {
            "colorbar": {
             "outlinewidth": 0,
             "ticks": ""
            },
            "colorscale": [
             [
              0,
              "#0d0887"
             ],
             [
              0.1111111111111111,
              "#46039f"
             ],
             [
              0.2222222222222222,
              "#7201a8"
             ],
             [
              0.3333333333333333,
              "#9c179e"
             ],
             [
              0.4444444444444444,
              "#bd3786"
             ],
             [
              0.5555555555555556,
              "#d8576b"
             ],
             [
              0.6666666666666666,
              "#ed7953"
             ],
             [
              0.7777777777777778,
              "#fb9f3a"
             ],
             [
              0.8888888888888888,
              "#fdca26"
             ],
             [
              1,
              "#f0f921"
             ]
            ],
            "type": "contour"
           }
          ],
          "contourcarpet": [
           {
            "colorbar": {
             "outlinewidth": 0,
             "ticks": ""
            },
            "type": "contourcarpet"
           }
          ],
          "heatmap": [
           {
            "colorbar": {
             "outlinewidth": 0,
             "ticks": ""
            },
            "colorscale": [
             [
              0,
              "#0d0887"
             ],
             [
              0.1111111111111111,
              "#46039f"
             ],
             [
              0.2222222222222222,
              "#7201a8"
             ],
             [
              0.3333333333333333,
              "#9c179e"
             ],
             [
              0.4444444444444444,
              "#bd3786"
             ],
             [
              0.5555555555555556,
              "#d8576b"
             ],
             [
              0.6666666666666666,
              "#ed7953"
             ],
             [
              0.7777777777777778,
              "#fb9f3a"
             ],
             [
              0.8888888888888888,
              "#fdca26"
             ],
             [
              1,
              "#f0f921"
             ]
            ],
            "type": "heatmap"
           }
          ],
          "heatmapgl": [
           {
            "colorbar": {
             "outlinewidth": 0,
             "ticks": ""
            },
            "colorscale": [
             [
              0,
              "#0d0887"
             ],
             [
              0.1111111111111111,
              "#46039f"
             ],
             [
              0.2222222222222222,
              "#7201a8"
             ],
             [
              0.3333333333333333,
              "#9c179e"
             ],
             [
              0.4444444444444444,
              "#bd3786"
             ],
             [
              0.5555555555555556,
              "#d8576b"
             ],
             [
              0.6666666666666666,
              "#ed7953"
             ],
             [
              0.7777777777777778,
              "#fb9f3a"
             ],
             [
              0.8888888888888888,
              "#fdca26"
             ],
             [
              1,
              "#f0f921"
             ]
            ],
            "type": "heatmapgl"
           }
          ],
          "histogram": [
           {
            "marker": {
             "pattern": {
              "fillmode": "overlay",
              "size": 10,
              "solidity": 0.2
             }
            },
            "type": "histogram"
           }
          ],
          "histogram2d": [
           {
            "colorbar": {
             "outlinewidth": 0,
             "ticks": ""
            },
            "colorscale": [
             [
              0,
              "#0d0887"
             ],
             [
              0.1111111111111111,
              "#46039f"
             ],
             [
              0.2222222222222222,
              "#7201a8"
             ],
             [
              0.3333333333333333,
              "#9c179e"
             ],
             [
              0.4444444444444444,
              "#bd3786"
             ],
             [
              0.5555555555555556,
              "#d8576b"
             ],
             [
              0.6666666666666666,
              "#ed7953"
             ],
             [
              0.7777777777777778,
              "#fb9f3a"
             ],
             [
              0.8888888888888888,
              "#fdca26"
             ],
             [
              1,
              "#f0f921"
             ]
            ],
            "type": "histogram2d"
           }
          ],
          "histogram2dcontour": [
           {
            "colorbar": {
             "outlinewidth": 0,
             "ticks": ""
            },
            "colorscale": [
             [
              0,
              "#0d0887"
             ],
             [
              0.1111111111111111,
              "#46039f"
             ],
             [
              0.2222222222222222,
              "#7201a8"
             ],
             [
              0.3333333333333333,
              "#9c179e"
             ],
             [
              0.4444444444444444,
              "#bd3786"
             ],
             [
              0.5555555555555556,
              "#d8576b"
             ],
             [
              0.6666666666666666,
              "#ed7953"
             ],
             [
              0.7777777777777778,
              "#fb9f3a"
             ],
             [
              0.8888888888888888,
              "#fdca26"
             ],
             [
              1,
              "#f0f921"
             ]
            ],
            "type": "histogram2dcontour"
           }
          ],
          "mesh3d": [
           {
            "colorbar": {
             "outlinewidth": 0,
             "ticks": ""
            },
            "type": "mesh3d"
           }
          ],
          "parcoords": [
           {
            "line": {
             "colorbar": {
              "outlinewidth": 0,
              "ticks": ""
             }
            },
            "type": "parcoords"
           }
          ],
          "pie": [
           {
            "automargin": true,
            "type": "pie"
           }
          ],
          "scatter": [
           {
            "fillpattern": {
             "fillmode": "overlay",
             "size": 10,
             "solidity": 0.2
            },
            "type": "scatter"
           }
          ],
          "scatter3d": [
           {
            "line": {
             "colorbar": {
              "outlinewidth": 0,
              "ticks": ""
             }
            },
            "marker": {
             "colorbar": {
              "outlinewidth": 0,
              "ticks": ""
             }
            },
            "type": "scatter3d"
           }
          ],
          "scattercarpet": [
           {
            "marker": {
             "colorbar": {
              "outlinewidth": 0,
              "ticks": ""
             }
            },
            "type": "scattercarpet"
           }
          ],
          "scattergeo": [
           {
            "marker": {
             "colorbar": {
              "outlinewidth": 0,
              "ticks": ""
             }
            },
            "type": "scattergeo"
           }
          ],
          "scattergl": [
           {
            "marker": {
             "colorbar": {
              "outlinewidth": 0,
              "ticks": ""
             }
            },
            "type": "scattergl"
           }
          ],
          "scattermapbox": [
           {
            "marker": {
             "colorbar": {
              "outlinewidth": 0,
              "ticks": ""
             }
            },
            "type": "scattermapbox"
           }
          ],
          "scatterpolar": [
           {
            "marker": {
             "colorbar": {
              "outlinewidth": 0,
              "ticks": ""
             }
            },
            "type": "scatterpolar"
           }
          ],
          "scatterpolargl": [
           {
            "marker": {
             "colorbar": {
              "outlinewidth": 0,
              "ticks": ""
             }
            },
            "type": "scatterpolargl"
           }
          ],
          "scatterternary": [
           {
            "marker": {
             "colorbar": {
              "outlinewidth": 0,
              "ticks": ""
             }
            },
            "type": "scatterternary"
           }
          ],
          "surface": [
           {
            "colorbar": {
             "outlinewidth": 0,
             "ticks": ""
            },
            "colorscale": [
             [
              0,
              "#0d0887"
             ],
             [
              0.1111111111111111,
              "#46039f"
             ],
             [
              0.2222222222222222,
              "#7201a8"
             ],
             [
              0.3333333333333333,
              "#9c179e"
             ],
             [
              0.4444444444444444,
              "#bd3786"
             ],
             [
              0.5555555555555556,
              "#d8576b"
             ],
             [
              0.6666666666666666,
              "#ed7953"
             ],
             [
              0.7777777777777778,
              "#fb9f3a"
             ],
             [
              0.8888888888888888,
              "#fdca26"
             ],
             [
              1,
              "#f0f921"
             ]
            ],
            "type": "surface"
           }
          ],
          "table": [
           {
            "cells": {
             "fill": {
              "color": "#EBF0F8"
             },
             "line": {
              "color": "white"
             }
            },
            "header": {
             "fill": {
              "color": "#C8D4E3"
             },
             "line": {
              "color": "white"
             }
            },
            "type": "table"
           }
          ]
         },
         "layout": {
          "annotationdefaults": {
           "arrowcolor": "#2a3f5f",
           "arrowhead": 0,
           "arrowwidth": 1
          },
          "autotypenumbers": "strict",
          "coloraxis": {
           "colorbar": {
            "outlinewidth": 0,
            "ticks": ""
           }
          },
          "colorscale": {
           "diverging": [
            [
             0,
             "#8e0152"
            ],
            [
             0.1,
             "#c51b7d"
            ],
            [
             0.2,
             "#de77ae"
            ],
            [
             0.3,
             "#f1b6da"
            ],
            [
             0.4,
             "#fde0ef"
            ],
            [
             0.5,
             "#f7f7f7"
            ],
            [
             0.6,
             "#e6f5d0"
            ],
            [
             0.7,
             "#b8e186"
            ],
            [
             0.8,
             "#7fbc41"
            ],
            [
             0.9,
             "#4d9221"
            ],
            [
             1,
             "#276419"
            ]
           ],
           "sequential": [
            [
             0,
             "#0d0887"
            ],
            [
             0.1111111111111111,
             "#46039f"
            ],
            [
             0.2222222222222222,
             "#7201a8"
            ],
            [
             0.3333333333333333,
             "#9c179e"
            ],
            [
             0.4444444444444444,
             "#bd3786"
            ],
            [
             0.5555555555555556,
             "#d8576b"
            ],
            [
             0.6666666666666666,
             "#ed7953"
            ],
            [
             0.7777777777777778,
             "#fb9f3a"
            ],
            [
             0.8888888888888888,
             "#fdca26"
            ],
            [
             1,
             "#f0f921"
            ]
           ],
           "sequentialminus": [
            [
             0,
             "#0d0887"
            ],
            [
             0.1111111111111111,
             "#46039f"
            ],
            [
             0.2222222222222222,
             "#7201a8"
            ],
            [
             0.3333333333333333,
             "#9c179e"
            ],
            [
             0.4444444444444444,
             "#bd3786"
            ],
            [
             0.5555555555555556,
             "#d8576b"
            ],
            [
             0.6666666666666666,
             "#ed7953"
            ],
            [
             0.7777777777777778,
             "#fb9f3a"
            ],
            [
             0.8888888888888888,
             "#fdca26"
            ],
            [
             1,
             "#f0f921"
            ]
           ]
          },
          "colorway": [
           "#636efa",
           "#EF553B",
           "#00cc96",
           "#ab63fa",
           "#FFA15A",
           "#19d3f3",
           "#FF6692",
           "#B6E880",
           "#FF97FF",
           "#FECB52"
          ],
          "font": {
           "color": "#2a3f5f"
          },
          "geo": {
           "bgcolor": "white",
           "lakecolor": "white",
           "landcolor": "white",
           "showlakes": true,
           "showland": true,
           "subunitcolor": "#C8D4E3"
          },
          "hoverlabel": {
           "align": "left"
          },
          "hovermode": "closest",
          "mapbox": {
           "style": "light"
          },
          "paper_bgcolor": "white",
          "plot_bgcolor": "white",
          "polar": {
           "angularaxis": {
            "gridcolor": "#EBF0F8",
            "linecolor": "#EBF0F8",
            "ticks": ""
           },
           "bgcolor": "white",
           "radialaxis": {
            "gridcolor": "#EBF0F8",
            "linecolor": "#EBF0F8",
            "ticks": ""
           }
          },
          "scene": {
           "xaxis": {
            "backgroundcolor": "white",
            "gridcolor": "#DFE8F3",
            "gridwidth": 2,
            "linecolor": "#EBF0F8",
            "showbackground": true,
            "ticks": "",
            "zerolinecolor": "#EBF0F8"
           },
           "yaxis": {
            "backgroundcolor": "white",
            "gridcolor": "#DFE8F3",
            "gridwidth": 2,
            "linecolor": "#EBF0F8",
            "showbackground": true,
            "ticks": "",
            "zerolinecolor": "#EBF0F8"
           },
           "zaxis": {
            "backgroundcolor": "white",
            "gridcolor": "#DFE8F3",
            "gridwidth": 2,
            "linecolor": "#EBF0F8",
            "showbackground": true,
            "ticks": "",
            "zerolinecolor": "#EBF0F8"
           }
          },
          "shapedefaults": {
           "line": {
            "color": "#2a3f5f"
           }
          },
          "ternary": {
           "aaxis": {
            "gridcolor": "#DFE8F3",
            "linecolor": "#A2B1C6",
            "ticks": ""
           },
           "baxis": {
            "gridcolor": "#DFE8F3",
            "linecolor": "#A2B1C6",
            "ticks": ""
           },
           "bgcolor": "white",
           "caxis": {
            "gridcolor": "#DFE8F3",
            "linecolor": "#A2B1C6",
            "ticks": ""
           }
          },
          "title": {
           "x": 0.05
          },
          "xaxis": {
           "automargin": true,
           "gridcolor": "#EBF0F8",
           "linecolor": "#EBF0F8",
           "ticks": "",
           "title": {
            "standoff": 15
           },
           "zerolinecolor": "#EBF0F8",
           "zerolinewidth": 2
          },
          "yaxis": {
           "automargin": true,
           "gridcolor": "#EBF0F8",
           "linecolor": "#EBF0F8",
           "ticks": "",
           "title": {
            "standoff": 15
           },
           "zerolinecolor": "#EBF0F8",
           "zerolinewidth": 2
          }
         }
        },
        "title": {
         "text": "Stock Price and Sentiment Analysis: Mota-Engil"
        },
        "xaxis": {
         "linecolor": "black",
         "showline": true,
         "title": {
          "text": "Date"
         },
         "zeroline": false
        },
        "yaxis": {
         "linecolor": "black",
         "range": [
          0,
          6.902805
         ],
         "showline": true,
         "title": {
          "text": "Stock Price (€) / Sentiment (0-1)"
         },
         "zeroline": false
        }
       }
      }
     },
     "metadata": {},
     "output_type": "display_data"
    }
   ],
   "source": [
    "# Assuming you already have the following data in your environment:\n",
    "# dfS - A DataFrame containing sentiments for 'Banco Comercial Português'\n",
    "# dfW - A DataFrame with top 10 words data for each date\n",
    "\n",
    "df = pd.read_parquet(\"data05.parquet\")\n",
    "\n",
    "def top10_word(x):\n",
    "    top10_word = {}\n",
    "    for word in x:\n",
    "        if x[word] is None:\n",
    "            continue\n",
    "        for date in x[word][\"date\"]:\n",
    "            if date not in top10_word:\n",
    "                top10_word[date] = {word: x[word][\"date\"][date] if x[word][\"date\"][date] is not None else 0}\n",
    "            elif word not in top10_word[date]:\n",
    "                top10_word[date][word] = x[word][\"date\"][date] if x[word][\"date\"][date] is not None else 0\n",
    "            else:\n",
    "                top10_word[date][word] += x[word][\"date\"][date] if x[word][\"date\"][date] is not None else 0\n",
    "    for date in top10_word:\n",
    "        for word in list(top10_word[date].keys()):\n",
    "            if top10_word[date][word] < 1:\n",
    "                del top10_word[date][word]\n",
    "        top10_word[date] = [k for k, v in sorted(top10_word[date].items(), key=lambda item: item[1], reverse=True)[:10]]\n",
    "    return top10_word\n",
    "\n",
    "def sentimentos_mensais(x):\n",
    "    sentimentos_mensais = {}\n",
    "    for i in x:\n",
    "        if i[\"tstamp\"] not in sentimentos_mensais:\n",
    "            sentimentos_mensais[i[\"tstamp\"]] = [i[\"newsSentiment\"]]\n",
    "        else:\n",
    "            sentimentos_mensais[i[\"tstamp\"]].append(i[\"newsSentiment\"])\n",
    "    return sentimentos_mensais\n",
    "\n",
    "def generate_dates(start, end):\n",
    "    dates = []\n",
    "    current = datetime.strptime(start, \"%Y%m\")\n",
    "    end = datetime.strptime(end, \"%Y%m\")\n",
    "\n",
    "    while current <= end:\n",
    "        dates.append(current.strftime(\"%Y%m\"))\n",
    "        # Move to the first day of the next month\n",
    "        current = (current.replace(day=1) + timedelta(days=32)).replace(day=1)\n",
    "\n",
    "    return dates\n",
    "\n",
    "dfS = df[\"news\"].map(sentimentos_mensais)\n",
    "dfW = df[\"keywords\"].map(top10_word)\n",
    "\n",
    "precos = {\"BCP.LS\": \"\",\n",
    "          \"GALP.LS\": \"\",\n",
    "          \"EDP.LS\": \"\",\n",
    "          \"SON.LS\": \"\",\n",
    "          \"EGL.LS\": \"\"}\n",
    "\n",
    "for symbol in precos:\n",
    "    # https://www.alphavantage.co\n",
    "    key = \"IX6KSZ9IKG9ZXMF5\"\n",
    "    url = f\"https://www.alphavantage.co/query?function=TIME_SERIES_MONTHLY_ADJUSTED&symbol={symbol}&apikey={key}\"\n",
    "    r = requests.get(url)\n",
    "    data = r.json()\n",
    "    close_prices = {date[:7].replace(\"-\", \"\"): float(details['4. close']) for date, details in data['Monthly Adjusted Time Series'].items()}\n",
    "    precos[symbol] = close_prices\n",
    "\n",
    "def stockVSnews(company, ticker, dfS, dfW, precos, name):\n",
    "\n",
    "    top10_words = dfW[company]\n",
    "    # Extract sentiment data and prices\n",
    "    prices = precos[ticker]\n",
    "    sentiments = {key: np.mean(value) for key, value in dfS[company].items()}\n",
    "\n",
    "    # Get common dates between sentiments and stock prices\n",
    "    #common_dates = sorted(set(sentiments.keys()) & set(prices.keys()), key=lambda x: datetime.strptime(x, '%Y%m'))\n",
    "    \n",
    "    start_date = min(set(sentiments.keys()) & set(prices.keys()))\n",
    "    end_date = max(set(sentiments.keys()) & set(prices.keys()))\n",
    "    dates = generate_dates(start_date, end_date)\n",
    "\n",
    "\n",
    "\n",
    "    mediana = np.median(list(sentiments.values())) #remover enviesamento\n",
    "    y_news = [(sentiments[date] - mediana * 0.6) if date in sentiments else 0 for date in dates]\n",
    "    y_prices = [prices[date] if date in prices else None for date in dates]\n",
    "    dates_asdate = [datetime.strptime(date, '%Y%m') for date in dates]\n",
    "\n",
    "\n",
    "    fig = go.Figure()\n",
    "\n",
    "\n",
    "    fig.add_trace(go.Scatter(x=dates_asdate, y=y_prices, mode='lines', name=\"Stock Price\"))\n",
    "    colors = ['green' if val > 0 else 'red' if val < 0 else 'black' for val in y_news]\n",
    "    fig.add_trace(go.Bar(\n",
    "        x=dates_asdate,\n",
    "        y=np.abs(y_news),\n",
    "        name=\"Negative Sentiment\",  # You can keep the name here if you want it in the legend, but it won't affect the hover now.\n",
    "        marker_color=colors,\n",
    "        opacity=0.5,\n",
    "        hovertemplate=[\n",
    "            f\"\"\"<b>Top 10 Words :</b><br>{'<br>'.join(top10_words[dates[i]])}\"\"\" \n",
    "            if dates[i] in top10_words and top10_words[dates[i]] != [] \n",
    "            else 'News not found.' \n",
    "            for i in range(len(dates))\n",
    "        ],\n",
    "        hoverlabel=dict(namelength=0),\n",
    "        showlegend=False\n",
    "    ))\n",
    "    fig.add_trace(go.Bar(\n",
    "        x=[None], y=[None],  # Empty data\n",
    "        name=\"Positive Sentiment\",  # Legend label for positive sentiment\n",
    "        marker_color='green',  # Green color\n",
    "        visible=\"legendonly\"  # Make this trace appear only in the legend\n",
    "    ))\n",
    "    fig.add_trace(go.Bar(\n",
    "        x=[None], y=[None],  # Empty data\n",
    "        name=\"Negative Sentiment\",  # Legend label for negative sentiment\n",
    "        marker_color='red',  # Red color\n",
    "        visible=\"legendonly\"  # Make this trace appear only in the legend\n",
    "    ))\n",
    "\n",
    "    # Customize layout and hover\n",
    "    fig.update_layout(\n",
    "        title=f\"Stock Price and Sentiment Analysis: {company}\",\n",
    "        xaxis_title=\"Date\",\n",
    "        yaxis_title=\"Stock Price (€) / Sentiment (0-1)\",\n",
    "        legend_title=\"Legend\",\n",
    "        hovermode=\"x unified\",  # Ensures hover shows all traces at once on x-axis\n",
    "        template=\"plotly_white\",  # Sets a clean template\n",
    "        paper_bgcolor='rgba(0, 0, 0, 0)',\n",
    "        plot_bgcolor='rgba(0, 0, 0, 0)',\n",
    "        margin=dict(t=50, b=50, l=50, r=50),  # Add margins around the plot (top, bottom, left, right)\n",
    "        xaxis=dict(\n",
    "            showline=True,  # Show the axis line\n",
    "            linecolor='black',  # Set the x-axis line color to black\n",
    "            zeroline=False  # Remove the zero line (optional)\n",
    "        ),\n",
    "        yaxis=dict(\n",
    "            showline=True,  # Show the axis line\n",
    "            linecolor='black',  # Set the y-axis line color to black\n",
    "            zeroline=False,  # Remove the zero line (optional)\n",
    "            range=[0, max(y_prices)*1.05]\n",
    "        )\n",
    "    )\n",
    "\n",
    "\n",
    "    fig.show()\n",
    "    fig.write_html(f\"stockVSsenti {name}.html\")\n",
    "\n",
    "\n",
    "\n",
    "stockVSnews(\"Banco Comercial Português\", \"BCP.LS\", dfS, dfW, precos, \"bcp\")\n",
    "stockVSnews(\"Galp Energia\", \"GALP.LS\", dfS, dfW, precos, \"galp\")\n",
    "stockVSnews(\"EDP\", \"EDP.LS\", dfS, dfW, precos, \"edp\")\n",
    "stockVSnews(\"Sonae\", \"SON.LS\", dfS, dfW, precos, \"sonae\")\n",
    "stockVSnews(\"Mota-Engil\", \"EGL.LS\", dfS, dfW, precos, \"motaengil\")"
   ]
  },
  {
   "cell_type": "code",
   "execution_count": null,
   "metadata": {},
   "outputs": [],
   "source": []
  }
 ],
 "metadata": {
  "kernelspec": {
   "display_name": "fcdProj",
   "language": "python",
   "name": "python3"
  },
  "language_info": {
   "codemirror_mode": {
    "name": "ipython",
    "version": 3
   },
   "file_extension": ".py",
   "mimetype": "text/x-python",
   "name": "python",
   "nbconvert_exporter": "python",
   "pygments_lexer": "ipython3",
   "version": "3.10.15"
  }
 },
 "nbformat": 4,
 "nbformat_minor": 2
}
