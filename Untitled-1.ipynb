{
 "cells": [
  {
   "cell_type": "markdown",
   "metadata": {},
   "source": [
    "**todo**\n",
    "\n",
    "- analise sentimento\n",
    "\n",
    "- ~~ner + conceitos~~\n",
    "\n",
    "- tentar newsVSprice de novo, agora com menos noticias\n",
    "\n",
    "- qty de noticias por newsSource\n",
    "\n",
    "- word cloud com cores de cada empresa"
   ]
  },
  {
   "cell_type": "markdown",
   "metadata": {},
   "source": [
    "# NER aos dados"
   ]
  },
  {
   "cell_type": "code",
   "execution_count": 42,
   "metadata": {},
   "outputs": [],
   "source": [
    "import pandas as pd\n",
    "import spacy\n",
    "\n",
    "df = pd.read_parquet(\"data04.parquet\")\n",
    "\n",
    "# Load the Portuguese model\n",
    "nlp = spacy.load(\"pt_core_news_sm\")\n",
    "\n",
    "\n",
    "dict = df.iloc[2,1][3]\n",
    "\n",
    "def NER_KEYWORDS(dict):\n",
    "    # Process the text\n",
    "    text = dict[\"ExtractedText\"]\n",
    "    doc = nlp(text)\n",
    "\n",
    "    meses = {\"janeiro\", \"fevereiro\", \"março\", \"abril\", \"maio\", \"junho\",\n",
    "             \"julho\", \"agosto\", \"setembro\", \"outubro\", \"novembro\", \"dezembro\"}\n",
    "    dias_da_semana = {\"segunda-feira\", \"terça-feira\", \"quarta-feira\",\n",
    "                      \"quinta-feira\", \"sexta-feira\", \"sábado\", \"domingo\", \"fim-de-semana\"}\n",
    "    noticias = {\"comentários\", \"notícias\", \"artigo\", \"jornal\", \"assine\", \"facebook\", \"assinaturas\"}\n",
    "    # Extract named entities and filter keywords\n",
    "    named_entities = [\n",
    "        (ent.text, ent.label_) for ent in doc.ents\n",
    "        if ent.label_ in {\"PER\", \"ORG\", \"LOC\", \"MISC\"}\n",
    "        and ent.text.lower() not in meses\n",
    "        and ent.text.lower() not in dias_da_semana\n",
    "        and all(w not in ent.text.lower() for w in noticias)\n",
    "    ]\n",
    "    palavras_significativas = [\n",
    "        token.text for token in doc \n",
    "        if token.pos_ in {\"NOUN\"} # {\"NOUN\", \"VERB\", \"PROPN\"} \n",
    "        and not token.is_stop\n",
    "        and (token.text.islower() or token.text.isupper())\n",
    "        and token.text.lower() not in meses \n",
    "        and token.text.lower() not in dias_da_semana\n",
    "        and token.text.lower() not in noticias\n",
    "        and token.text.isalnum()\n",
    "        and len(token.text) > 3\n",
    "    ]\n",
    "\n",
    "    organized_entities = {}\n",
    "    for entity, category in named_entities:\n",
    "        if category not in organized_entities:\n",
    "            organized_entities[category] = [entity]\n",
    "        else:\n",
    "            organized_entities[category].append(entity)\n",
    " \n",
    "    dict[\"newsNER\"] = organized_entities\n",
    "    dict[\"newsNER\"][\"WORD\"] =  palavras_significativas\n",
    "    return dict\n",
    "\n",
    "#NER_KEYWORDS(dict)\n"
   ]
  },
  {
   "cell_type": "markdown",
   "metadata": {},
   "source": [
    "# analise de sentimentos\n",
    "\n",
    "**por acabar**"
   ]
  },
  {
   "cell_type": "code",
   "execution_count": 43,
   "metadata": {},
   "outputs": [],
   "source": [
    "import random\n",
    "def sentimentos(dict):\n",
    "    \"\"\"analise de sentimentos ficticia\"\"\"\n",
    "    text = dict[\"ExtractedText\"]\n",
    "    # ...\n",
    "    dict[\"newsSentiment\"] = random.random()\n",
    "    return dict"
   ]
  },
  {
   "cell_type": "markdown",
   "metadata": {},
   "source": [
    "# processar das noticias"
   ]
  },
  {
   "cell_type": "code",
   "execution_count": 44,
   "metadata": {},
   "outputs": [],
   "source": [
    "def ProcCol(list):\n",
    "    for i in range(len(list)):\n",
    "        list[i] = NER_KEYWORDS(list[i])\n",
    "        list[i] = sentimentos(list[i])\n",
    "    return list\n",
    "\n",
    "df[\"news\"] = df[\"news\"].map(ProcCol)"
   ]
  },
  {
   "cell_type": "code",
   "execution_count": 45,
   "metadata": {},
   "outputs": [],
   "source": [
    "#df[\"news\"].iloc[0][0]"
   ]
  },
  {
   "cell_type": "markdown",
   "metadata": {},
   "source": [
    "---\n",
    "---\n",
    "---\n",
    "---\n",
    "---\n",
    "---\n",
    "---\n",
    "---\n",
    "---\n",
    "---\n",
    "---\n",
    "---\n",
    "---\n",
    "---\n",
    "---\n",
    "---\n",
    "---\n",
    "---\n"
   ]
  },
  {
   "cell_type": "markdown",
   "metadata": {},
   "source": [
    "### nota:\n",
    "\n",
    "devo guardar os sites do arquivo, pode ser curioso ver de onde vêm certas palavras ou assim"
   ]
  },
  {
   "cell_type": "code",
   "execution_count": 46,
   "metadata": {},
   "outputs": [
    {
     "data": {
      "text/html": [
       "<div>\n",
       "<style scoped>\n",
       "    .dataframe tbody tr th:only-of-type {\n",
       "        vertical-align: middle;\n",
       "    }\n",
       "\n",
       "    .dataframe tbody tr th {\n",
       "        vertical-align: top;\n",
       "    }\n",
       "\n",
       "    .dataframe thead th {\n",
       "        text-align: right;\n",
       "    }\n",
       "</style>\n",
       "<table border=\"1\" class=\"dataframe\">\n",
       "  <thead>\n",
       "    <tr style=\"text-align: right;\">\n",
       "      <th></th>\n",
       "      <th>aliases</th>\n",
       "      <th>news</th>\n",
       "      <th>keywords</th>\n",
       "    </tr>\n",
       "    <tr>\n",
       "      <th>companies</th>\n",
       "      <th></th>\n",
       "      <th></th>\n",
       "      <th></th>\n",
       "    </tr>\n",
       "  </thead>\n",
       "  <tbody>\n",
       "    <tr>\n",
       "      <th>Banco Comercial Português</th>\n",
       "      <td>[Banco Comercial Português, BCP]</td>\n",
       "      <td>[{'ExtractedText': 'DN   13 de Setembro de 200...</td>\n",
       "      <td>{'ORG': {'DN': {'count': 100, 'sentiment': 0.5...</td>\n",
       "    </tr>\n",
       "    <tr>\n",
       "      <th>Galp Energia</th>\n",
       "      <td>[Galp Energia, GALP]</td>\n",
       "      <td>[{'ExtractedText': 'RTP Galp reforça posição n...</td>\n",
       "      <td>{'ORG': {'Galp': {'count': 2768, 'sentiment': ...</td>\n",
       "    </tr>\n",
       "    <tr>\n",
       "      <th>EDP</th>\n",
       "      <td>[EDP, Energias de Portugal, Electricidade de P...</td>\n",
       "      <td>[{'ExtractedText': 'DN-Sinteses Negocios 9 de ...</td>\n",
       "      <td>{'ORG': {'EDP': {'count': 6260, 'sentiment': 0...</td>\n",
       "    </tr>\n",
       "    <tr>\n",
       "      <th>Sonae</th>\n",
       "      <td>[Sonae, SON]</td>\n",
       "      <td>[{'ExtractedText': 'DN-Sinteses 5 de Março de ...</td>\n",
       "      <td>{'ORG': {'Sonae': {'count': 1420, 'sentiment':...</td>\n",
       "    </tr>\n",
       "    <tr>\n",
       "      <th>Mota-Engil</th>\n",
       "      <td>[Mota-Engil, EGL]</td>\n",
       "      <td>[{'ExtractedText': 'RTP Lucro da Mota-Engil so...</td>\n",
       "      <td>{'ORG': {'Comissão do Mercado de Valores Mobil...</td>\n",
       "    </tr>\n",
       "  </tbody>\n",
       "</table>\n",
       "</div>"
      ],
      "text/plain": [
       "                                                                     aliases  \\\n",
       "companies                                                                      \n",
       "Banco Comercial Português                   [Banco Comercial Português, BCP]   \n",
       "Galp Energia                                            [Galp Energia, GALP]   \n",
       "EDP                        [EDP, Energias de Portugal, Electricidade de P...   \n",
       "Sonae                                                           [Sonae, SON]   \n",
       "Mota-Engil                                                 [Mota-Engil, EGL]   \n",
       "\n",
       "                                                                        news  \\\n",
       "companies                                                                      \n",
       "Banco Comercial Português  [{'ExtractedText': 'DN   13 de Setembro de 200...   \n",
       "Galp Energia               [{'ExtractedText': 'RTP Galp reforça posição n...   \n",
       "EDP                        [{'ExtractedText': 'DN-Sinteses Negocios 9 de ...   \n",
       "Sonae                      [{'ExtractedText': 'DN-Sinteses 5 de Março de ...   \n",
       "Mota-Engil                 [{'ExtractedText': 'RTP Lucro da Mota-Engil so...   \n",
       "\n",
       "                                                                    keywords  \n",
       "companies                                                                     \n",
       "Banco Comercial Português  {'ORG': {'DN': {'count': 100, 'sentiment': 0.5...  \n",
       "Galp Energia               {'ORG': {'Galp': {'count': 2768, 'sentiment': ...  \n",
       "EDP                        {'ORG': {'EDP': {'count': 6260, 'sentiment': 0...  \n",
       "Sonae                      {'ORG': {'Sonae': {'count': 1420, 'sentiment':...  \n",
       "Mota-Engil                 {'ORG': {'Comissão do Mercado de Valores Mobil...  "
      ]
     },
     "execution_count": 46,
     "metadata": {},
     "output_type": "execute_result"
    }
   ],
   "source": [
    "def keywords(lista, lower = 0.1):\n",
    "    ner = {\"ORG\": {}, \"LOC\": {}, \"PER\": {}, \"MISC\": {}, \"WORD\": {}}\n",
    "    for news in lista:\n",
    "        keywords = news[\"newsNER\"]\n",
    "        sentiment = news[\"newsSentiment\"]\n",
    "        for type, words in keywords.items():\n",
    "            for word in words:\n",
    "                if word not in ner[type]:\n",
    "                    ner[type][word] = {\"count\": 1,\n",
    "                                       \"sentiment\": sentiment,\n",
    "                                       \"source\": {news[\"newsSource\"]: 1},\n",
    "                                       \"news\": {news[\"linkToArchive\"]}}\n",
    "                else:\n",
    "                    ner[type][word][\"count\"] += 1\n",
    "                    ner[type][word][\"sentiment\"] = ((ner[type][word][\"sentiment\"] * (ner[type][word][\"count\"] - 1)) + sentiment) / ner[type][word][\"count\"]\n",
    "                    if news[\"newsSource\"] not in ner[type][word][\"source\"]:\n",
    "                        ner[type][word][\"source\"][news[\"newsSource\"]] = 1\n",
    "                    else:\n",
    "                        ner[type][word][\"source\"][news[\"newsSource\"]] += 1\n",
    "                    ner[type][word][\"news\"].add(news[\"linkToArchive\"])\n",
    "\n",
    "                    # JUNTAR \"Público\" e \"PÚBLICO\": if is uppser, look for istitle and vice versa.. a primeira que aparecer é a q fica\n",
    "                    # passar o nao estar para else e i fazer if islower is , if ititle is, if caps is\n",
    "                    # criar entrada do dicionario chamada weight q se sobrepoes a contagem: ex.: probnew = 0.6 ent weight = count*1.1\n",
    "                    #       tbm varia consoante o type, se é WORD ou dos outros\n",
    "                    # tbm devia remover urls que sao iguais e so muda a data do upload\n",
    "    \n",
    "    qtyNews = len(lista)\n",
    "    filtered_ner = {\n",
    "        type: {\n",
    "            word: details\n",
    "            for word, details in words.items()\n",
    "            if details[\"count\"] >= qtyNews * lower\n",
    "        }\n",
    "        for type, words in ner.items()\n",
    "    }\n",
    "\n",
    "    return filtered_ner\n",
    "\n",
    "#keywords(df[\"news\"].iloc[0])\n",
    "df[\"keywords\"] = df[\"news\"].map(keywords)\n",
    "df"
   ]
  },
  {
   "cell_type": "code",
   "execution_count": 47,
   "metadata": {},
   "outputs": [
    {
     "data": {
      "image/png": "[encoded data removed]",
      "text/plain": [
       "<Figure size 1000x500 with 1 Axes>"
      ]
     },
     "metadata": {},
     "output_type": "display_data"
    }
   ],
   "source": [
    "import matplotlib.pyplot as plt\n",
    "from wordcloud import WordCloud\n",
    "\n",
    "# Example dictionary of words and their frequencies\n",
    "word_freq = {}\n",
    "for type, words in df[\"keywords\"].iloc[0].items():\n",
    "    for word, details in words.items():\n",
    "        word_freq[word] = details[\"count\"]  # dar prioridade as nao palavras, arranjar um peso para as palavras\n",
    "                                            # normalizar as contagens/pesos, tlvz fazer um logaritmo ou assim\n",
    "\n",
    "wordcloud = WordCloud(width=800, height=400, background_color='white').generate_from_frequencies(word_freq)\n",
    "\n",
    "plt.figure(figsize=(10, 5))\n",
    "plt.imshow(wordcloud, interpolation='bilinear')\n",
    "plt.axis('off')\n",
    "plt.show()\n"
   ]
  },
  {
   "cell_type": "code",
   "execution_count": 48,
   "metadata": {},
   "outputs": [
    {
     "data": {
      "application/vnd.plotly.v1+json": {
       "config": {
        "plotlyServerURL": "https://plot.ly"
       },
       "data": [
        {
         "type": "bar",
         "x": [
          "DN",
          "Banco Comercial Português",
          "FMI",
          "BCE",
          "PT",
          "BCP",
          "EDP",
          "Lusa",
          "BPI",
          "CMVM",
          "Comissão do Mercado de Valores Mobiliários",
          "PS",
          "PSD",
          "BES",
          "RTP",
          "PÚBLICO",
          "Banco de Portugal",
          "Público",
          "DN | Classificados |",
          "Portugal Globo Economia Ciência Artes TV & Media",
          "Caixa Geral de Depósitos",
          "Sporting",
          "Partilhar",
          "Contactos",
          "PÚBLICO ONLINE",
          "PayPal",
          "Rádio e Televisão de Portugal",
          "Pinterest Enviar",
          "EUA",
          "Portugal",
          "Governo",
          "Estado",
          "Lisboa",
          "Brasil",
          "Jardim Gonçalves",
          "Bruxelas",
          "Europa",
          "Millennium",
          "Grécia",
          "China",
          "Espanha",
          "Polónia",
          "em Portugal",
          "Angola",
          "Irão",
          "Política de Privacidade |",
          "Termos de Uso",
          "Política de Privacidade",
          "Campanha",
          "Iniciar Sessão Entrar",
          "VISA",
          "Ongoing",
          "Inicie",
          "Perguntas Frequentes",
          "Novo Banco",
          "Partilhe",
          "Linkedin Partilhe",
          "Joe Berardo",
          "Filipe Pinhal",
          "Cristina Ferreira",
          "Santos Ferreira",
          "Berardo",
          "Sócrates",
          "Visa",
          "Conjuntura Finanças",
          "Nuno Amado",
          "Restantes",
          "Imprimir",
          "Isabel dos Santos",
          "Rádio",
          "Fosun",
          "Miguel Maya",
          "Sonangol",
          "Economia",
          "”",
          "CGD",
          "DN Mobile | Iniciativas DN |",
          "PSI20",
          "ME",
          "Saltar",
          "RSS",
          "Twitter Ou Palavra-chave Lembrar-se de mim Esqueceu-se da sua palavra-chave?",
          "Jogos TV Classificados Imobiliário Iniciativas",
          "Provedor do Leitor Termos",
          "Registar Conteúdo",
          "Palavra-chave Lembrar-se de mim Esqueceu-se da sua palavra-chave?",
          "ENTRE NO MUNDO DAS NOTICIAS",
          "LIMITES",
          "Público Online",
          "Twitter Partilhe",
          "Liga dos Campeões",
          "Técnica Estatuto Editorial Autores",
          "WhatsApp",
          "pessoas",
          "funcionários",
          "trabalhadores",
          "empresa",
          "trabalho",
          "funções",
          "questões",
          "portugueses",
          "serviço",
          "comunicado",
          "país",
          "limites",
          "linha",
          "horas",
          "casa",
          "imprensa",
          "medidas",
          "situação",
          "alerta",
          "caso",
          "presidente",
          "instituição",
          "actividade",
          "site",
          "dias",
          "anos",
          "direitos",
          "informações",
          "clientes",
          "banco",
          "resposta",
          "impacto",
          "bolsa",
          "informação",
          "serviços",
          "mercado",
          "decisão",
          "mundo",
          "empresas",
          "entrada",
          "proposta",
          "dívida",
          "economia",
          "trimestre",
          "accionistas",
          "prazo",
          "vida",
          "gestores",
          "gestão",
          "acesso",
          "resultado",
          "mercados",
          "responsabilidade",
          "queda",
          "perdas",
          "euros",
          "resultados",
          "lucro",
          "aumento",
          "capital",
          "fundos",
          "investidores",
          "base",
          "hora",
          "rating",
          "acordo",
          "compra",
          "venda",
          "votação",
          "processo",
          "dívidas",
          "acções",
          "concessão",
          "regras",
          "lucros",
          "edição",
          "risco",
          "altura",
          "nome",
          "conta",
          "referência",
          "pagamento",
          "operações",
          "negociações",
          "semestre",
          "índice",
          "plataforma",
          "sector",
          "sessão",
          "fonte",
          "evolução",
          "subida",
          "período",
          "títulos",
          "crime",
          "fusão",
          "julgamento",
          "início",
          "causa",
          "participação",
          "pensões",
          "financiamento",
          "investimento",
          "crédito",
          "operação",
          "administração",
          "autoridades",
          "bancos",
          "apresentação",
          "banca",
          "activos",
          "fundador",
          "destaque",
          "plano",
          "reestruturação",
          "semana",
          "leitores",
          "qualidade",
          "nota",
          "dados",
          "instituições",
          "termos",
          "negócio",
          "media",
          "direito",
          "propósito",
          "reforço",
          "condições",
          "trabalhos",
          "email",
          "música",
          "opinião",
          "ONLINE",
          "crise",
          "contas",
          "exercício",
          "custos",
          "processos",
          "escola",
          "programa",
          "accionista",
          "petrolífera",
          "solução",
          "comissão",
          "créditos",
          "notícia",
          "reportagens",
          "tribunal",
          "artigos",
          "semanas",
          "emissão",
          "assinatura",
          "corte",
          "login",
          "limite",
          "emprego",
          "líder",
          "redução",
          "desporto",
          "intenção",
          "minutos",
          "autores",
          "liberdade",
          "dinheiro",
          "ajuda",
          "prejuízo",
          "salários",
          "dúvidas",
          "greve",
          "exposição",
          "presença",
          "conteúdos",
          "rácio",
          "défice",
          "excelência",
          "inquéritos",
          "prejuízos",
          "arguidos",
          "rádio",
          "eleições",
          "saída",
          "marca",
          "cortes",
          "troika",
          "vídeo",
          "reforma",
          "pagamentos",
          "testes",
          "acionistas",
          "navegação",
          "conteúdo",
          "caixas",
          "código",
          "assinantes",
          "moderador",
          "MUNDO",
          "cultura",
          "débito",
          "ações",
          "jornalismo",
          "fidelização",
          "canais",
          "programação",
          "partilhas",
          "cookies"
         ],
         "y": [
          100,
          257,
          85,
          144,
          101,
          3999,
          131,
          177,
          437,
          323,
          107,
          167,
          115,
          264,
          250,
          338,
          326,
          276,
          126,
          127,
          88,
          90,
          96,
          113,
          90,
          276,
          236,
          129,
          312,
          941,
          429,
          430,
          384,
          98,
          183,
          115,
          232,
          81,
          106,
          94,
          84,
          160,
          186,
          135,
          103,
          99,
          99,
          103,
          150,
          116,
          140,
          81,
          242,
          140,
          302,
          83,
          105,
          112,
          213,
          90,
          120,
          119,
          133,
          143,
          84,
          453,
          202,
          94,
          119,
          87,
          152,
          149,
          176,
          212,
          158,
          314,
          90,
          125,
          81,
          119,
          125,
          152,
          113,
          122,
          100,
          90,
          90,
          90,
          248,
          95,
          101,
          108,
          192,
          205,
          89,
          266,
          322,
          201,
          83,
          124,
          104,
          144,
          129,
          289,
          802,
          118,
          263,
          151,
          161,
          109,
          145,
          88,
          268,
          607,
          243,
          123,
          493,
          456,
          778,
          390,
          225,
          230,
          1821,
          305,
          99,
          140,
          284,
          94,
          303,
          199,
          311,
          243,
          171,
          248,
          387,
          166,
          163,
          190,
          111,
          131,
          95,
          187,
          188,
          175,
          88,
          100,
          161,
          129,
          2129,
          298,
          118,
          345,
          825,
          105,
          198,
          103,
          121,
          200,
          322,
          227,
          286,
          81,
          377,
          109,
          355,
          130,
          183,
          321,
          81,
          184,
          97,
          126,
          484,
          91,
          187,
          125,
          96,
          161,
          81,
          104,
          88,
          653,
          290,
          81,
          101,
          220,
          168,
          99,
          212,
          95,
          132,
          120,
          229,
          135,
          121,
          179,
          341,
          231,
          231,
          121,
          529,
          96,
          211,
          81,
          87,
          200,
          203,
          90,
          156,
          201,
          211,
          138,
          237,
          120,
          96,
          100,
          85,
          168,
          99,
          83,
          112,
          131,
          384,
          129,
          123,
          91,
          156,
          280,
          103,
          124,
          85,
          88,
          84,
          116,
          83,
          84,
          85,
          102,
          239,
          142,
          152,
          328,
          148,
          81,
          160,
          148,
          171,
          213,
          129,
          165,
          175,
          93,
          85,
          235,
          96,
          128,
          191,
          104,
          178,
          194,
          90,
          122,
          83,
          93,
          291,
          91,
          118,
          139,
          123,
          195,
          116,
          123,
          86,
          102,
          89,
          166,
          88,
          134,
          82,
          227,
          97,
          135,
          205,
          609,
          89,
          91,
          219,
          122,
          90,
          96,
          276,
          223,
          240,
          88,
          83,
          634,
          190,
          133
         ]
        }
       ],
       "layout": {
        "template": {
         "data": {
          "bar": [
           {
            "error_x": {
             "color": "#2a3f5f"
            },
            "error_y": {
             "color": "#2a3f5f"
            },
            "marker": {
             "line": {
              "color": "#E5ECF6",
              "width": 0.5
             },
             "pattern": {
              "fillmode": "overlay",
              "size": 10,
              "solidity": 0.2
             }
            },
            "type": "bar"
           }
          ],
          "barpolar": [
           {
            "marker": {
             "line": {
              "color": "#E5ECF6",
              "width": 0.5
             },
             "pattern": {
              "fillmode": "overlay",
              "size": 10,
              "solidity": 0.2
             }
            },
            "type": "barpolar"
           }
          ],
          "carpet": [
           {
            "aaxis": {
             "endlinecolor": "#2a3f5f",
             "gridcolor": "white",
             "linecolor": "white",
             "minorgridcolor": "white",
             "startlinecolor": "#2a3f5f"
            },
            "baxis": {
             "endlinecolor": "#2a3f5f",
             "gridcolor": "white",
             "linecolor": "white",
             "minorgridcolor": "white",
             "startlinecolor": "#2a3f5f"
            },
            "type": "carpet"
           }
          ],
          "choropleth": [
           {
            "colorbar": {
             "outlinewidth": 0,
             "ticks": ""
            },
            "type": "choropleth"
           }
          ],
          "contour": [
           {
            "colorbar": {
             "outlinewidth": 0,
             "ticks": ""
            },
            "colorscale": [
             [
              0,
              "#0d0887"
             ],
             [
              0.1111111111111111,
              "#46039f"
             ],
             [
              0.2222222222222222,
              "#7201a8"
             ],
             [
              0.3333333333333333,
              "#9c179e"
             ],
             [
              0.4444444444444444,
              "#bd3786"
             ],
             [
              0.5555555555555556,
              "#d8576b"
             ],
             [
              0.6666666666666666,
              "#ed7953"
             ],
             [
              0.7777777777777778,
              "#fb9f3a"
             ],
             [
              0.8888888888888888,
              "#fdca26"
             ],
             [
              1,
              "#f0f921"
             ]
            ],
            "type": "contour"
           }
          ],
          "contourcarpet": [
           {
            "colorbar": {
             "outlinewidth": 0,
             "ticks": ""
            },
            "type": "contourcarpet"
           }
          ],
          "heatmap": [
           {
            "colorbar": {
             "outlinewidth": 0,
             "ticks": ""
            },
            "colorscale": [
             [
              0,
              "#0d0887"
             ],
             [
              0.1111111111111111,
              "#46039f"
             ],
             [
              0.2222222222222222,
              "#7201a8"
             ],
             [
              0.3333333333333333,
              "#9c179e"
             ],
             [
              0.4444444444444444,
              "#bd3786"
             ],
             [
              0.5555555555555556,
              "#d8576b"
             ],
             [
              0.6666666666666666,
              "#ed7953"
             ],
             [
              0.7777777777777778,
              "#fb9f3a"
             ],
             [
              0.8888888888888888,
              "#fdca26"
             ],
             [
              1,
              "#f0f921"
             ]
            ],
            "type": "heatmap"
           }
          ],
          "heatmapgl": [
           {
            "colorbar": {
             "outlinewidth": 0,
             "ticks": ""
            },
            "colorscale": [
             [
              0,
              "#0d0887"
             ],
             [
              0.1111111111111111,
              "#46039f"
             ],
             [
              0.2222222222222222,
              "#7201a8"
             ],
             [
              0.3333333333333333,
              "#9c179e"
             ],
             [
              0.4444444444444444,
              "#bd3786"
             ],
             [
              0.5555555555555556,
              "#d8576b"
             ],
             [
              0.6666666666666666,
              "#ed7953"
             ],
             [
              0.7777777777777778,
              "#fb9f3a"
             ],
             [
              0.8888888888888888,
              "#fdca26"
             ],
             [
              1,
              "#f0f921"
             ]
            ],
            "type": "heatmapgl"
           }
          ],
          "histogram": [
           {
            "marker": {
             "pattern": {
              "fillmode": "overlay",
              "size": 10,
              "solidity": 0.2
             }
            },
            "type": "histogram"
           }
          ],
          "histogram2d": [
           {
            "colorbar": {
             "outlinewidth": 0,
             "ticks": ""
            },
            "colorscale": [
             [
              0,
              "#0d0887"
             ],
             [
              0.1111111111111111,
              "#46039f"
             ],
             [
              0.2222222222222222,
              "#7201a8"
             ],
             [
              0.3333333333333333,
              "#9c179e"
             ],
             [
              0.4444444444444444,
              "#bd3786"
             ],
             [
              0.5555555555555556,
              "#d8576b"
             ],
             [
              0.6666666666666666,
              "#ed7953"
             ],
             [
              0.7777777777777778,
              "#fb9f3a"
             ],
             [
              0.8888888888888888,
              "#fdca26"
             ],
             [
              1,
              "#f0f921"
             ]
            ],
            "type": "histogram2d"
           }
          ],
          "histogram2dcontour": [
           {
            "colorbar": {
             "outlinewidth": 0,
             "ticks": ""
            },
            "colorscale": [
             [
              0,
              "#0d0887"
             ],
             [
              0.1111111111111111,
              "#46039f"
             ],
             [
              0.2222222222222222,
              "#7201a8"
             ],
             [
              0.3333333333333333,
              "#9c179e"
             ],
             [
              0.4444444444444444,
              "#bd3786"
             ],
             [
              0.5555555555555556,
              "#d8576b"
             ],
             [
              0.6666666666666666,
              "#ed7953"
             ],
             [
              0.7777777777777778,
              "#fb9f3a"
             ],
             [
              0.8888888888888888,
              "#fdca26"
             ],
             [
              1,
              "#f0f921"
             ]
            ],
            "type": "histogram2dcontour"
           }
          ],
          "mesh3d": [
           {
            "colorbar": {
             "outlinewidth": 0,
             "ticks": ""
            },
            "type": "mesh3d"
           }
          ],
          "parcoords": [
           {
            "line": {
             "colorbar": {
              "outlinewidth": 0,
              "ticks": ""
             }
            },
            "type": "parcoords"
           }
          ],
          "pie": [
           {
            "automargin": true,
            "type": "pie"
           }
          ],
          "scatter": [
           {
            "fillpattern": {
             "fillmode": "overlay",
             "size": 10,
             "solidity": 0.2
            },
            "type": "scatter"
           }
          ],
          "scatter3d": [
           {
            "line": {
             "colorbar": {
              "outlinewidth": 0,
              "ticks": ""
             }
            },
            "marker": {
             "colorbar": {
              "outlinewidth": 0,
              "ticks": ""
             }
            },
            "type": "scatter3d"
           }
          ],
          "scattercarpet": [
           {
            "marker": {
             "colorbar": {
              "outlinewidth": 0,
              "ticks": ""
             }
            },
            "type": "scattercarpet"
           }
          ],
          "scattergeo": [
           {
            "marker": {
             "colorbar": {
              "outlinewidth": 0,
              "ticks": ""
             }
            },
            "type": "scattergeo"
           }
          ],
          "scattergl": [
           {
            "marker": {
             "colorbar": {
              "outlinewidth": 0,
              "ticks": ""
             }
            },
            "type": "scattergl"
           }
          ],
          "scattermapbox": [
           {
            "marker": {
             "colorbar": {
              "outlinewidth": 0,
              "ticks": ""
             }
            },
            "type": "scattermapbox"
           }
          ],
          "scatterpolar": [
           {
            "marker": {
             "colorbar": {
              "outlinewidth": 0,
              "ticks": ""
             }
            },
            "type": "scatterpolar"
           }
          ],
          "scatterpolargl": [
           {
            "marker": {
             "colorbar": {
              "outlinewidth": 0,
              "ticks": ""
             }
            },
            "type": "scatterpolargl"
           }
          ],
          "scatterternary": [
           {
            "marker": {
             "colorbar": {
              "outlinewidth": 0,
              "ticks": ""
             }
            },
            "type": "scatterternary"
           }
          ],
          "surface": [
           {
            "colorbar": {
             "outlinewidth": 0,
             "ticks": ""
            },
            "colorscale": [
             [
              0,
              "#0d0887"
             ],
             [
              0.1111111111111111,
              "#46039f"
             ],
             [
              0.2222222222222222,
              "#7201a8"
             ],
             [
              0.3333333333333333,
              "#9c179e"
             ],
             [
              0.4444444444444444,
              "#bd3786"
             ],
             [
              0.5555555555555556,
              "#d8576b"
             ],
             [
              0.6666666666666666,
              "#ed7953"
             ],
             [
              0.7777777777777778,
              "#fb9f3a"
             ],
             [
              0.8888888888888888,
              "#fdca26"
             ],
             [
              1,
              "#f0f921"
             ]
            ],
            "type": "surface"
           }
          ],
          "table": [
           {
            "cells": {
             "fill": {
              "color": "#EBF0F8"
             },
             "line": {
              "color": "white"
             }
            },
            "header": {
             "fill": {
              "color": "#C8D4E3"
             },
             "line": {
              "color": "white"
             }
            },
            "type": "table"
           }
          ]
         },
         "layout": {
          "annotationdefaults": {
           "arrowcolor": "#2a3f5f",
           "arrowhead": 0,
           "arrowwidth": 1
          },
          "autotypenumbers": "strict",
          "coloraxis": {
           "colorbar": {
            "outlinewidth": 0,
            "ticks": ""
           }
          },
          "colorscale": {
           "diverging": [
            [
             0,
             "#8e0152"
            ],
            [
             0.1,
             "#c51b7d"
            ],
            [
             0.2,
             "#de77ae"
            ],
            [
             0.3,
             "#f1b6da"
            ],
            [
             0.4,
             "#fde0ef"
            ],
            [
             0.5,
             "#f7f7f7"
            ],
            [
             0.6,
             "#e6f5d0"
            ],
            [
             0.7,
             "#b8e186"
            ],
            [
             0.8,
             "#7fbc41"
            ],
            [
             0.9,
             "#4d9221"
            ],
            [
             1,
             "#276419"
            ]
           ],
           "sequential": [
            [
             0,
             "#0d0887"
            ],
            [
             0.1111111111111111,
             "#46039f"
            ],
            [
             0.2222222222222222,
             "#7201a8"
            ],
            [
             0.3333333333333333,
             "#9c179e"
            ],
            [
             0.4444444444444444,
             "#bd3786"
            ],
            [
             0.5555555555555556,
             "#d8576b"
            ],
            [
             0.6666666666666666,
             "#ed7953"
            ],
            [
             0.7777777777777778,
             "#fb9f3a"
            ],
            [
             0.8888888888888888,
             "#fdca26"
            ],
            [
             1,
             "#f0f921"
            ]
           ],
           "sequentialminus": [
            [
             0,
             "#0d0887"
            ],
            [
             0.1111111111111111,
             "#46039f"
            ],
            [
             0.2222222222222222,
             "#7201a8"
            ],
            [
             0.3333333333333333,
             "#9c179e"
            ],
            [
             0.4444444444444444,
             "#bd3786"
            ],
            [
             0.5555555555555556,
             "#d8576b"
            ],
            [
             0.6666666666666666,
             "#ed7953"
            ],
            [
             0.7777777777777778,
             "#fb9f3a"
            ],
            [
             0.8888888888888888,
             "#fdca26"
            ],
            [
             1,
             "#f0f921"
            ]
           ]
          },
          "colorway": [
           "#636efa",
           "#EF553B",
           "#00cc96",
           "#ab63fa",
           "#FFA15A",
           "#19d3f3",
           "#FF6692",
           "#B6E880",
           "#FF97FF",
           "#FECB52"
          ],
          "font": {
           "color": "#2a3f5f"
          },
          "geo": {
           "bgcolor": "white",
           "lakecolor": "white",
           "landcolor": "#E5ECF6",
           "showlakes": true,
           "showland": true,
           "subunitcolor": "white"
          },
          "hoverlabel": {
           "align": "left"
          },
          "hovermode": "closest",
          "mapbox": {
           "style": "light"
          },
          "paper_bgcolor": "white",
          "plot_bgcolor": "#E5ECF6",
          "polar": {
           "angularaxis": {
            "gridcolor": "white",
            "linecolor": "white",
            "ticks": ""
           },
           "bgcolor": "#E5ECF6",
           "radialaxis": {
            "gridcolor": "white",
            "linecolor": "white",
            "ticks": ""
           }
          },
          "scene": {
           "xaxis": {
            "backgroundcolor": "#E5ECF6",
            "gridcolor": "white",
            "gridwidth": 2,
            "linecolor": "white",
            "showbackground": true,
            "ticks": "",
            "zerolinecolor": "white"
           },
           "yaxis": {
            "backgroundcolor": "#E5ECF6",
            "gridcolor": "white",
            "gridwidth": 2,
            "linecolor": "white",
            "showbackground": true,
            "ticks": "",
            "zerolinecolor": "white"
           },
           "zaxis": {
            "backgroundcolor": "#E5ECF6",
            "gridcolor": "white",
            "gridwidth": 2,
            "linecolor": "white",
            "showbackground": true,
            "ticks": "",
            "zerolinecolor": "white"
           }
          },
          "shapedefaults": {
           "line": {
            "color": "#2a3f5f"
           }
          },
          "ternary": {
           "aaxis": {
            "gridcolor": "white",
            "linecolor": "white",
            "ticks": ""
           },
           "baxis": {
            "gridcolor": "white",
            "linecolor": "white",
            "ticks": ""
           },
           "bgcolor": "#E5ECF6",
           "caxis": {
            "gridcolor": "white",
            "linecolor": "white",
            "ticks": ""
           }
          },
          "title": {
           "x": 0.05
          },
          "xaxis": {
           "automargin": true,
           "gridcolor": "white",
           "linecolor": "white",
           "ticks": "",
           "title": {
            "standoff": 15
           },
           "zerolinecolor": "white",
           "zerolinewidth": 2
          },
          "yaxis": {
           "automargin": true,
           "gridcolor": "white",
           "linecolor": "white",
           "ticks": "",
           "title": {
            "standoff": 15
           },
           "zerolinecolor": "white",
           "zerolinewidth": 2
          }
         }
        },
        "title": {
         "text": "Gráfico de Barras Interativo"
        },
        "xaxis": {
         "title": {
          "text": "Palavras"
         }
        },
        "yaxis": {
         "title": {
          "text": "Frequência"
         }
        }
       }
      }
     },
     "metadata": {},
     "output_type": "display_data"
    }
   ],
   "source": [
    "import matplotlib.pyplot as plt\n",
    "\n",
    "\n",
    "import plotly.graph_objects as go\n",
    "\n",
    "\n",
    "frequencias = {}\n",
    "for type, words in df[\"keywords\"].iloc[0].items():\n",
    "    for word, details in words.items():\n",
    "        frequencias[word] = details[\"count\"]\n",
    "\n",
    "#frequencias = {k: v for k, v in frequencias.items() if v > 55}#in set(range(50, 1500))} #max e min pode ser tendo em conta qty de noticias\n",
    "\n",
    "palavras = list(frequencias.keys())\n",
    "valores = list(frequencias.values())\n",
    "\n",
    "fig = go.Figure(data=[go.Bar(x=palavras, y=valores)])\n",
    "\n",
    "fig.update_layout(\n",
    "    title='Gráfico de Barras Interativo',\n",
    "    xaxis_title='Palavras',\n",
    "    yaxis_title='Frequência',\n",
    ")\n",
    "\n",
    "fig.show()\n"
   ]
  },
  {
   "cell_type": "code",
   "execution_count": 49,
   "metadata": {},
   "outputs": [
    {
     "data": {
      "text/plain": [
       "(81, 3999, np.float64(207.20805369127515), np.float64(135.0), 298, 298)"
      ]
     },
     "execution_count": 49,
     "metadata": {},
     "output_type": "execute_result"
    }
   ],
   "source": [
    "import numpy as np\n",
    "\n",
    "min_val = min(set(frequencias.values()))\n",
    "max_val = max(set(frequencias.values()))\n",
    "mean_val = np.mean(list(frequencias.values()))\n",
    "median_val = np.median(list(frequencias.values()))\n",
    "count_val = np.count_nonzero(np.array(list(frequencias.values())) > 10)\n",
    "\n",
    "min_val, max_val, mean_val, median_val, count_val, len(set(list(frequencias.keys())))\n"
   ]
  }
 ],
 "metadata": {
  "kernelspec": {
   "display_name": "fcdProj",
   "language": "python",
   "name": "python3"
  },
  "language_info": {
   "codemirror_mode": {
    "name": "ipython",
    "version": 3
   },
   "file_extension": ".py",
   "mimetype": "text/x-python",
   "name": "python",
   "nbconvert_exporter": "python",
   "pygments_lexer": "ipython3",
   "version": "3.10.15"
  }
 },
 "nbformat": 4,
 "nbformat_minor": 2
}
