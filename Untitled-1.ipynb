{
 "cells": [
  {
   "cell_type": "markdown",
   "metadata": {},
   "source": [
    "**todo**\n",
    "\n",
    "- analise sentimento\n",
    "\n",
    "- ~~ner + conceitos~~\n",
    "\n",
    "- tentar newsVSprice de novo, agora com menos noticias\n",
    "\n",
    "- qty de noticias por newsSource\n",
    "\n",
    "- word cloud com cores de cada empresa"
   ]
  },
  {
   "cell_type": "markdown",
   "metadata": {},
   "source": [
    "# NER aos dados"
   ]
  },
  {
   "cell_type": "code",
   "execution_count": 1,
   "metadata": {},
   "outputs": [],
   "source": [
    "import pandas as pd\n",
    "import spacy\n",
    "\n",
    "df = pd.read_parquet(\"data04.parquet\")\n",
    "\n",
    "# Load the Portuguese model\n",
    "nlp = spacy.load(\"pt_core_news_sm\")\n",
    "\n",
    "\n",
    "dict = df.iloc[2,1][3]\n",
    "\n",
    "def NER_KEYWORDS(dict):\n",
    "    # Process the text\n",
    "    text = dict[\"ExtractedText\"]\n",
    "    doc = nlp(text)\n",
    "\n",
    "    meses = {\"janeiro\", \"fevereiro\", \"março\", \"abril\", \"maio\", \"junho\",\n",
    "             \"julho\", \"agosto\", \"setembro\", \"outubro\", \"novembro\", \"dezembro\"}\n",
    "    dias_da_semana = {\"segunda-feira\", \"terça-feira\", \"quarta-feira\",\n",
    "                      \"quinta-feira\", \"sexta-feira\", \"sábado\", \"domingo\", \"fim-de-semana\"}\n",
    "    noticias = {\"comentários\", \"notícias\", \"artigo\", \"jornal\", \"assine\", \"facebook\", \"assinaturas\",\n",
    "                \"online\", \"twitter\", \"instagram\", \"linkedin\", \"whatsapp\", \"telegram\", \"youtube\",\n",
    "                \"início\", \"partilhar\", \"contactos\", \"newsletter\", \"enviar\", \"termos\", \"privacidade\",\n",
    "                \"iniciar\", \"inicie\", \"sessão\", \"subscrever\", \"subscreva\", \"subscrever\", \"tv\", \"rádio\",\n",
    "                \"conteúdos\"}\n",
    "    # Extract named entities and filter keywords\n",
    "    named_entities = [\n",
    "        (ent.text, ent.label_) for ent in doc.ents\n",
    "        if ent.label_ in {\"PER\", \"ORG\", \"LOC\", \"MISC\"}\n",
    "        and ent.text.lower() not in meses\n",
    "        and ent.text.lower() not in dias_da_semana\n",
    "        and all(w not in ent.text.lower() for w in noticias)\n",
    "        and ent.text.isalnum()\n",
    "    ]\n",
    "    palavras_significativas = [\n",
    "        token.text for token in doc \n",
    "        if token.pos_ in {\"NOUN\"} # {\"NOUN\", \"VERB\", \"PROPN\"} \n",
    "        and not token.is_stop\n",
    "        and (token.text.islower() or token.text.isupper())\n",
    "        and token.text.lower() not in meses \n",
    "        and token.text.lower() not in dias_da_semana\n",
    "        and token.text.lower() not in noticias\n",
    "        and token.text.isalnum()\n",
    "        and len(token.text) > 3\n",
    "    ]\n",
    "\n",
    "    organized_entities = {}\n",
    "    for entity, category in named_entities:\n",
    "        if category not in organized_entities:\n",
    "            organized_entities[category] = [entity]\n",
    "        else:\n",
    "            organized_entities[category].append(entity)\n",
    " \n",
    "    dict[\"newsNER\"] = organized_entities\n",
    "    dict[\"newsNER\"][\"WORD\"] =  palavras_significativas\n",
    "    return dict\n",
    "\n",
    "#NER_KEYWORDS(dict)\n"
   ]
  },
  {
   "cell_type": "markdown",
   "metadata": {},
   "source": [
    "# analise de sentimentos\n",
    "\n",
    "**por acabar**"
   ]
  },
  {
   "cell_type": "code",
   "execution_count": 2,
   "metadata": {},
   "outputs": [],
   "source": [
    "import random\n",
    "def sentimentos(dict):\n",
    "    \"\"\"analise de sentimentos ficticia\"\"\"\n",
    "    text = dict[\"ExtractedText\"]\n",
    "    # ...\n",
    "    dict[\"newsSentiment\"] = random.random()\n",
    "    return dict"
   ]
  },
  {
   "cell_type": "markdown",
   "metadata": {},
   "source": [
    "# processar das noticias"
   ]
  },
  {
   "cell_type": "code",
   "execution_count": 3,
   "metadata": {},
   "outputs": [],
   "source": [
    "def ProcCol(list):\n",
    "    for i in range(len(list)):\n",
    "        list[i] = NER_KEYWORDS(list[i])\n",
    "        list[i] = sentimentos(list[i])\n",
    "    return list\n",
    "\n",
    "df[\"news\"] = df[\"news\"].map(ProcCol)"
   ]
  },
  {
   "cell_type": "code",
   "execution_count": 4,
   "metadata": {},
   "outputs": [],
   "source": [
    "#df[\"news\"].iloc[0][0]"
   ]
  },
  {
   "cell_type": "markdown",
   "metadata": {},
   "source": [
    "---\n",
    "---\n",
    "---\n",
    "---\n",
    "---\n",
    "---\n",
    "---\n",
    "---\n",
    "---\n",
    "---\n",
    "---\n",
    "---\n",
    "---\n",
    "---\n",
    "---\n",
    "---\n",
    "---\n",
    "---\n"
   ]
  },
  {
   "cell_type": "markdown",
   "metadata": {},
   "source": [
    "### nota:\n",
    "\n",
    "devo guardar os sites do arquivo, pode ser curioso ver de onde vêm certas palavras ou assim"
   ]
  },
  {
   "cell_type": "code",
   "execution_count": 5,
   "metadata": {},
   "outputs": [],
   "source": [
    "def keywords(lista, lower = 0.1):\n",
    "    ner = {}\n",
    "    for news in lista:\n",
    "        keywords = news[\"newsNER\"]\n",
    "        sentiment = news[\"newsSentiment\"]\n",
    "        for type, words in keywords.items():\n",
    "            for word in words:\n",
    "                # normalizar word\n",
    "                if word.lower() in ner:\n",
    "                    word = word.lower()\n",
    "                elif word.title() in ner:\n",
    "                    word = word.title()\n",
    "                elif word.upper() in ner:\n",
    "                    word = word.upper()\n",
    "\n",
    "                # adicionar word\n",
    "                if word in ner:\n",
    "                    ner[word][\"count\"] += 1\n",
    "                    ner[word][\"sentiment\"] = ((ner[word][\"sentiment\"] * (ner[word][\"count\"] - 1)) + sentiment) / ner[word][\"count\"]\n",
    "                    ner[word][\"type\"].add(type)\n",
    "                    if news[\"newsSource\"] not in ner[word][\"source\"]:\n",
    "                        ner[word][\"source\"][news[\"newsSource\"]] = 1\n",
    "                    else:\n",
    "                        ner[word][\"source\"][news[\"newsSource\"]] += 1\n",
    "                    ner[word][\"news\"].add(news[\"linkToArchive\"])\n",
    "\n",
    "                else: #not seen\n",
    "                    ner[word] = {\"count\": 1,\n",
    "                                 \"sentiment\": sentiment,\n",
    "                                 \"type\": {type},\n",
    "                                 \"source\": {news[\"newsSource\"]: 1},\n",
    "                                 \"news\": {news[\"linkToArchive\"]}}\n",
    "\n",
    "                    # criar entrada do dicionario chamada weight q se sobrepoes a contagem: ex.: probnew = 0.6 ent weight = count*1.1\n",
    "                    #       tbm variar consoante o type, se é WORD ou dos outros\n",
    "                    # tbm devia remover urls que sao iguais e so muda a data do upload\n",
    "                    # muitas coisas estao mal classificas como LOC devia ser ORG e assim...\n",
    "    \n",
    "    qtyNews = len(lista)\n",
    "    filtered_ner = {word: data for word, data in ner.items() if data[\"count\"] >= qtyNews * lower}\n",
    "\n",
    "    return filtered_ner\n",
    "\n",
    "#keywords(df[\"news\"].iloc[0])\n",
    "df[\"keywords\"] = df[\"news\"].map(keywords)\n",
    "#df[\"keywords\"].iloc[0]"
   ]
  },
  {
   "cell_type": "code",
   "execution_count": 6,
   "metadata": {},
   "outputs": [
    {
     "data": {
      "image/png": "[encoded data removed]",
      "text/plain": [
       "<Figure size 1000x500 with 1 Axes>"
      ]
     },
     "metadata": {},
     "output_type": "display_data"
    }
   ],
   "source": [
    "import matplotlib.pyplot as plt\n",
    "from wordcloud import WordCloud\n",
    "\n",
    "# normalizar as contagens/pesos, tlvz fazer um logaritmo ou assim, SE valer a pena pq aparecem mt pequenas\n",
    "word_freq = {word: data[\"count\"] for word, data in df[\"keywords\"].iloc[0].items()}\n",
    "\n",
    "wordcloud = WordCloud(width=800, height=400, background_color='white').generate_from_frequencies(word_freq)\n",
    "\n",
    "plt.figure(figsize=(10, 5))\n",
    "plt.imshow(wordcloud, interpolation='bilinear')\n",
    "plt.axis('off')\n",
    "plt.show()\n"
   ]
  },
  {
   "cell_type": "code",
   "execution_count": 10,
   "metadata": {},
   "outputs": [
    {
     "data": {
      "application/vnd.plotly.v1+json": {
       "config": {
        "plotlyServerURL": "https://plot.ly"
       },
       "data": [
        {
         "customdata": [
          [
           "ORG"
          ],
          [
           "ORG"
          ],
          [
           "PER",
           "ORG"
          ],
          [
           "LOC"
          ],
          [
           "LOC"
          ],
          [
           "WORD",
           "LOC",
           "PER"
          ],
          [
           "LOC"
          ],
          [
           "LOC"
          ],
          [
           "WORD"
          ],
          [
           "WORD",
           "MISC"
          ],
          [
           "WORD",
           "LOC"
          ],
          [
           "WORD",
           "LOC",
           "MISC"
          ],
          [
           "WORD",
           "LOC",
           "MISC"
          ],
          [
           "WORD"
          ],
          [
           "WORD"
          ],
          [
           "WORD",
           "LOC"
          ],
          [
           "WORD"
          ],
          [
           "WORD"
          ],
          [
           "WORD",
           "LOC"
          ],
          [
           "WORD",
           "MISC"
          ],
          [
           "WORD",
           "MISC"
          ],
          [
           "WORD",
           "PER"
          ],
          [
           "WORD"
          ],
          [
           "WORD",
           "MISC"
          ],
          [
           "WORD",
           "LOC"
          ],
          [
           "WORD",
           "LOC"
          ],
          [
           "WORD",
           "PER",
           "ORG"
          ],
          [
           "WORD",
           "PER"
          ],
          [
           "WORD",
           "LOC",
           "MISC"
          ],
          [
           "WORD"
          ],
          [
           "WORD",
           "MISC"
          ],
          [
           "WORD",
           "LOC",
           "MISC"
          ],
          [
           "WORD",
           "LOC"
          ],
          [
           "WORD",
           "PER"
          ],
          [
           "WORD"
          ],
          [
           "WORD",
           "LOC"
          ],
          [
           "WORD",
           "LOC"
          ],
          [
           "MISC",
           "LOC",
           "ORG"
          ],
          [
           "WORD"
          ],
          [
           "WORD",
           "PER"
          ],
          [
           "WORD",
           "LOC",
           "PER",
           "ORG"
          ],
          [
           "WORD"
          ],
          [
           "WORD"
          ],
          [
           "WORD",
           "LOC",
           "PER",
           "ORG"
          ],
          [
           "WORD",
           "LOC"
          ],
          [
           "WORD",
           "ORG"
          ],
          [
           "WORD",
           "LOC"
          ],
          [
           "WORD",
           "LOC",
           "PER",
           "ORG"
          ],
          [
           "ORG"
          ],
          [
           "MISC",
           "ORG"
          ],
          [
           "WORD",
           "LOC",
           "ORG"
          ],
          [
           "WORD",
           "LOC",
           "MISC"
          ],
          [
           "WORD",
           "LOC",
           "PER"
          ],
          [
           "WORD"
          ],
          [
           "WORD"
          ],
          [
           "WORD",
           "PER"
          ],
          [
           "WORD",
           "LOC",
           "MISC"
          ],
          [
           "WORD"
          ],
          [
           "WORD",
           "LOC",
           "MISC"
          ],
          [
           "WORD"
          ],
          [
           "WORD",
           "LOC",
           "ORG"
          ],
          [
           "WORD",
           "MISC"
          ],
          [
           "WORD",
           "LOC",
           "PER"
          ],
          [
           "WORD",
           "LOC"
          ],
          [
           "WORD"
          ],
          [
           "WORD"
          ],
          [
           "WORD",
           "MISC"
          ],
          [
           "WORD"
          ],
          [
           "WORD"
          ],
          [
           "WORD",
           "LOC"
          ],
          [
           "WORD",
           "MISC"
          ],
          [
           "WORD",
           "MISC"
          ],
          [
           "WORD",
           "MISC"
          ],
          [
           "WORD",
           "LOC",
           "ORG"
          ],
          [
           "WORD",
           "LOC"
          ],
          [
           "WORD"
          ],
          [
           "WORD",
           "MISC"
          ],
          [
           "WORD"
          ],
          [
           "WORD"
          ],
          [
           "WORD"
          ],
          [
           "WORD",
           "LOC",
           "PER",
           "MISC"
          ],
          [
           "WORD",
           "LOC"
          ],
          [
           "WORD",
           "LOC"
          ],
          [
           "WORD",
           "LOC"
          ],
          [
           "WORD"
          ],
          [
           "WORD",
           "MISC"
          ],
          [
           "WORD",
           "MISC"
          ],
          [
           "WORD",
           "PER"
          ],
          [
           "MISC",
           "LOC"
          ],
          [
           "WORD",
           "LOC",
           "PER"
          ],
          [
           "WORD",
           "MISC"
          ],
          [
           "WORD"
          ],
          [
           "WORD",
           "MISC"
          ],
          [
           "WORD",
           "ORG",
           "MISC"
          ],
          [
           "WORD",
           "MISC"
          ],
          [
           "WORD"
          ],
          [
           "WORD",
           "LOC",
           "ORG"
          ],
          [
           "WORD"
          ],
          [
           "WORD"
          ],
          [
           "WORD"
          ],
          [
           "WORD",
           "LOC",
           "PER",
           "ORG"
          ],
          [
           "LOC"
          ],
          [
           "WORD"
          ],
          [
           "WORD"
          ],
          [
           "WORD"
          ],
          [
           "WORD",
           "PER"
          ],
          [
           "WORD"
          ],
          [
           "WORD"
          ],
          [
           "WORD"
          ],
          [
           "WORD",
           "LOC",
           "PER",
           "ORG"
          ],
          [
           "LOC"
          ],
          [
           "WORD"
          ],
          [
           "WORD"
          ],
          [
           "WORD"
          ],
          [
           "PER",
           "ORG"
          ],
          [
           "MISC",
           "WORD"
          ],
          [
           "MISC",
           "ORG",
           "PER",
           "WORD",
           "LOC"
          ],
          [
           "WORD"
          ],
          [
           "WORD"
          ],
          [
           "WORD",
           "LOC",
           "ORG"
          ],
          [
           "WORD",
           "LOC"
          ],
          [
           "WORD",
           "ORG",
           "LOC",
           "MISC"
          ],
          [
           "WORD",
           "PER"
          ],
          [
           "WORD"
          ],
          [
           "WORD"
          ],
          [
           "WORD",
           "LOC",
           "PER",
           "MISC"
          ],
          [
           "WORD",
           "MISC"
          ],
          [
           "WORD",
           "LOC"
          ],
          [
           "WORD",
           "LOC"
          ],
          [
           "WORD",
           "LOC",
           "PER"
          ],
          [
           "LOC",
           "PER"
          ],
          [
           "WORD",
           "LOC",
           "PER"
          ],
          [
           "WORD",
           "MISC"
          ],
          [
           "WORD"
          ],
          [
           "WORD",
           "PER"
          ],
          [
           "WORD",
           "LOC",
           "PER",
           "MISC"
          ],
          [
           "WORD"
          ],
          [
           "LOC"
          ],
          [
           "LOC"
          ],
          [
           "ORG"
          ],
          [
           "ORG"
          ],
          [
           "WORD",
           "PER",
           "MISC"
          ],
          [
           "MISC",
           "ORG"
          ],
          [
           "WORD"
          ],
          [
           "WORD",
           "LOC"
          ],
          [
           "WORD"
          ],
          [
           "WORD"
          ],
          [
           "ORG"
          ],
          [
           "WORD"
          ],
          [
           "WORD"
          ],
          [
           "WORD"
          ],
          [
           "WORD"
          ],
          [
           "WORD"
          ],
          [
           "WORD",
           "LOC",
           "ORG"
          ],
          [
           "WORD",
           "LOC"
          ],
          [
           "WORD",
           "ORG"
          ],
          [
           "LOC"
          ],
          [
           "WORD"
          ],
          [
           "MISC",
           "WORD"
          ],
          [
           "WORD",
           "LOC",
           "PER"
          ],
          [
           "WORD"
          ],
          [
           "WORD",
           "LOC"
          ],
          [
           "WORD"
          ],
          [
           "WORD"
          ],
          [
           "WORD",
           "LOC",
           "PER",
           "ORG"
          ],
          [
           "WORD",
           "MISC"
          ],
          [
           "WORD",
           "LOC",
           "MISC"
          ],
          [
           "WORD",
           "LOC"
          ],
          [
           "WORD"
          ],
          [
           "WORD",
           "LOC"
          ],
          [
           "WORD",
           "PER",
           "MISC"
          ],
          [
           "WORD",
           "MISC"
          ],
          [
           "LOC"
          ],
          [
           "WORD",
           "LOC",
           "PER"
          ],
          [
           "WORD",
           "LOC"
          ],
          [
           "MISC",
           "WORD",
           "PER",
           "ORG"
          ],
          [
           "LOC",
           "PER"
          ],
          [
           "WORD"
          ],
          [
           "WORD"
          ],
          [
           "WORD"
          ],
          [
           "WORD"
          ],
          [
           "WORD",
           "MISC"
          ],
          [
           "WORD",
           "ORG"
          ],
          [
           "WORD"
          ],
          [
           "WORD",
           "LOC",
           "PER",
           "MISC"
          ],
          [
           "WORD",
           "LOC",
           "PER",
           "ORG"
          ],
          [
           "WORD"
          ],
          [
           "WORD"
          ],
          [
           "MISC",
           "LOC"
          ],
          [
           "WORD"
          ],
          [
           "WORD"
          ],
          [
           "WORD",
           "MISC"
          ],
          [
           "WORD"
          ],
          [
           "LOC",
           "ORG"
          ],
          [
           "PER"
          ],
          [
           "MISC",
           "ORG",
           "PER",
           "WORD",
           "LOC"
          ],
          [
           "WORD",
           "LOC"
          ],
          [
           "WORD"
          ],
          [
           "WORD"
          ],
          [
           "WORD",
           "LOC"
          ],
          [
           "MISC",
           "ORG",
           "PER",
           "WORD",
           "LOC"
          ],
          [
           "WORD",
           "PER",
           "ORG"
          ],
          [
           "WORD",
           "LOC",
           "MISC"
          ],
          [
           "WORD",
           "PER",
           "ORG"
          ],
          [
           "WORD",
           "MISC"
          ],
          [
           "MISC",
           "LOC",
           "PER"
          ],
          [
           "WORD",
           "LOC"
          ],
          [
           "WORD",
           "LOC"
          ],
          [
           "LOC",
           "PER"
          ],
          [
           "WORD"
          ],
          [
           "WORD"
          ],
          [
           "WORD"
          ],
          [
           "WORD"
          ],
          [
           "WORD",
           "LOC"
          ],
          [
           "WORD"
          ],
          [
           "WORD",
           "LOC"
          ],
          [
           "WORD",
           "LOC"
          ],
          [
           "WORD",
           "LOC"
          ],
          [
           "WORD",
           "LOC",
           "PER",
           "ORG"
          ],
          [
           "WORD"
          ],
          [
           "WORD",
           "MISC"
          ],
          [
           "WORD",
           "MISC"
          ],
          [
           "WORD",
           "MISC"
          ],
          [
           "WORD"
          ],
          [
           "WORD"
          ],
          [
           "WORD",
           "LOC",
           "MISC"
          ],
          [
           "WORD"
          ],
          [
           "WORD",
           "LOC"
          ],
          [
           "WORD",
           "MISC"
          ],
          [
           "MISC",
           "WORD"
          ],
          [
           "WORD",
           "LOC"
          ],
          [
           "WORD",
           "LOC"
          ],
          [
           "WORD",
           "PER"
          ],
          [
           "WORD",
           "LOC"
          ],
          [
           "WORD",
           "PER"
          ],
          [
           "MISC",
           "WORD"
          ],
          [
           "WORD",
           "LOC"
          ],
          [
           "MISC",
           "PER"
          ],
          [
           "WORD"
          ],
          [
           "WORD"
          ],
          [
           "WORD"
          ],
          [
           "WORD"
          ],
          [
           "MISC"
          ],
          [
           "MISC"
          ],
          [
           "WORD"
          ],
          [
           "WORD",
           "MISC"
          ],
          [
           "WORD"
          ],
          [
           "WORD",
           "PER"
          ],
          [
           "WORD",
           "PER"
          ],
          [
           "WORD"
          ],
          [
           "WORD"
          ],
          [
           "ORG"
          ],
          [
           "WORD",
           "MISC"
          ],
          [
           "WORD"
          ],
          [
           "LOC",
           "ORG"
          ],
          [
           "PER"
          ],
          [
           "WORD",
           "LOC"
          ],
          [
           "WORD"
          ],
          [
           "WORD"
          ],
          [
           "WORD"
          ],
          [
           "LOC"
          ],
          [
           "WORD"
          ],
          [
           "WORD"
          ],
          [
           "LOC",
           "PER",
           "ORG"
          ],
          [
           "WORD"
          ]
         ],
         "hovertemplate": "<b>%{x}</b><br>Count: %{y}<br>Class: %{customdata}<extra></extra>",
         "marker": {
          "color": [
           "blue",
           "blue",
           "green",
           "black",
           "black",
           "pink",
           "black",
           "black",
           "pink",
           "pink",
           "pink",
           "pink",
           "pink",
           "pink",
           "pink",
           "pink",
           "pink",
           "pink",
           "pink",
           "pink",
           "pink",
           "pink",
           "pink",
           "pink",
           "pink",
           "pink",
           "pink",
           "pink",
           "pink",
           "pink",
           "pink",
           "pink",
           "pink",
           "pink",
           "pink",
           "pink",
           "pink",
           "red",
           "pink",
           "pink",
           "pink",
           "pink",
           "pink",
           "pink",
           "pink",
           "pink",
           "pink",
           "pink",
           "blue",
           "red",
           "pink",
           "pink",
           "pink",
           "pink",
           "pink",
           "pink",
           "pink",
           "pink",
           "pink",
           "pink",
           "pink",
           "pink",
           "pink",
           "pink",
           "pink",
           "pink",
           "pink",
           "pink",
           "pink",
           "pink",
           "pink",
           "pink",
           "pink",
           "pink",
           "pink",
           "pink",
           "pink",
           "pink",
           "pink",
           "pink",
           "pink",
           "pink",
           "pink",
           "pink",
           "pink",
           "pink",
           "pink",
           "pink",
           "red",
           "pink",
           "pink",
           "pink",
           "pink",
           "pink",
           "pink",
           "pink",
           "pink",
           "pink",
           "pink",
           "pink",
           "pink",
           "black",
           "pink",
           "pink",
           "pink",
           "pink",
           "pink",
           "pink",
           "pink",
           "pink",
           "black",
           "pink",
           "pink",
           "pink",
           "green",
           "red",
           "red",
           "pink",
           "pink",
           "pink",
           "pink",
           "pink",
           "pink",
           "pink",
           "pink",
           "pink",
           "pink",
           "pink",
           "pink",
           "pink",
           "black",
           "pink",
           "pink",
           "pink",
           "pink",
           "pink",
           "pink",
           "black",
           "black",
           "blue",
           "blue",
           "pink",
           "red",
           "pink",
           "pink",
           "pink",
           "pink",
           "blue",
           "pink",
           "pink",
           "pink",
           "pink",
           "pink",
           "pink",
           "pink",
           "pink",
           "black",
           "pink",
           "red",
           "pink",
           "pink",
           "pink",
           "pink",
           "pink",
           "pink",
           "pink",
           "pink",
           "pink",
           "pink",
           "pink",
           "pink",
           "pink",
           "black",
           "pink",
           "pink",
           "red",
           "black",
           "pink",
           "pink",
           "pink",
           "pink",
           "pink",
           "pink",
           "pink",
           "pink",
           "pink",
           "pink",
           "pink",
           "red",
           "pink",
           "pink",
           "pink",
           "pink",
           "black",
           "green",
           "red",
           "pink",
           "pink",
           "pink",
           "pink",
           "red",
           "pink",
           "pink",
           "pink",
           "pink",
           "red",
           "pink",
           "pink",
           "black",
           "pink",
           "pink",
           "pink",
           "pink",
           "pink",
           "pink",
           "pink",
           "pink",
           "pink",
           "pink",
           "pink",
           "pink",
           "pink",
           "pink",
           "pink",
           "pink",
           "pink",
           "pink",
           "pink",
           "pink",
           "red",
           "pink",
           "pink",
           "pink",
           "pink",
           "pink",
           "red",
           "pink",
           "red",
           "pink",
           "pink",
           "pink",
           "pink",
           "red",
           "red",
           "pink",
           "pink",
           "pink",
           "pink",
           "pink",
           "pink",
           "pink",
           "blue",
           "pink",
           "pink",
           "black",
           "green",
           "pink",
           "pink",
           "pink",
           "pink",
           "black",
           "pink",
           "pink",
           "black",
           "pink"
          ]
         },
         "type": "bar",
         "x": [
          "DN",
          "FMI",
          "BCE",
          "EUA",
          "Portugal",
          "Governo",
          "Estado",
          "Lisboa",
          "pessoas",
          "funcionários",
          "trabalhadores",
          "empresa",
          "trabalho",
          "funções",
          "questões",
          "portugueses",
          "serviço",
          "comunicado",
          "país",
          "limites",
          "linha",
          "horas",
          "casa",
          "imprensa",
          "medidas",
          "situação",
          "agência",
          "alerta",
          "ministro",
          "caso",
          "presidente",
          "instituição",
          "actividade",
          "site",
          "dias",
          "anos",
          "direitos",
          "BCP",
          "informações",
          "clientes",
          "banco",
          "resposta",
          "impacto",
          "bolsa",
          "informação",
          "serviços",
          "mercado",
          "Fisco",
          "PT",
          "EDP",
          "decisão",
          "mundo",
          "empresas",
          "entrada",
          "proposta",
          "dívida",
          "economia",
          "trimestre",
          "accionistas",
          "prazo",
          "saúde",
          "vida",
          "gestores",
          "gestão",
          "acesso",
          "resultado",
          "mercados",
          "responsabilidade",
          "queda",
          "perdas",
          "euros",
          "resultados",
          "lucro",
          "aumento",
          "capital",
          "fundos",
          "investidores",
          "base",
          "hora",
          "rating",
          "acordo",
          "compra",
          "venda",
          "Investimento",
          "votação",
          "processo",
          "dívidas",
          "Sector",
          "Brasil",
          "acções",
          "concessão",
          "regras",
          "lucros",
          "edição",
          "risco",
          "altura",
          "política",
          "nome",
          "conta",
          "referência",
          "público",
          "Bruxelas",
          "pagamento",
          "operações",
          "negociações",
          "melhoria",
          "semestre",
          "índice",
          "plataforma",
          "Lusa",
          "Europa",
          "fonte",
          "evolução",
          "subida",
          "BPI",
          "Pensões",
          "Millennium",
          "período",
          "títulos",
          "CMVM",
          "crime",
          "fusão",
          "julgamento",
          "causa",
          "participação",
          "sociedade",
          "financiamento",
          "crédito",
          "operação",
          "administração",
          "Grécia",
          "autoridades",
          "bancos",
          "apresentação",
          "restantes",
          "banca",
          "activos",
          "China",
          "Espanha",
          "PS",
          "PSD",
          "fundador",
          "BES",
          "destaque",
          "plano",
          "reestruturação",
          "semana",
          "RTP",
          "leitores",
          "qualidade",
          "nota",
          "dados",
          "instituições",
          "negócio",
          "media",
          "direito",
          "Polónia",
          "propósito",
          "Email",
          "Comentário",
          "reforço",
          "condições",
          "trabalhos",
          "música",
          "opinião",
          "crise",
          "entrevista",
          "contas",
          "exercício",
          "custos",
          "reformas",
          "processos",
          "Angola",
          "Anónimo",
          "Desporto",
          "Sonangol",
          "Berardo",
          "escola",
          "programa",
          "accionista",
          "petrolífera",
          "solução",
          "comissão",
          "créditos",
          "notícia",
          "Tribunal",
          "reportagens",
          "artigos",
          "CGD",
          "semanas",
          "emissão",
          "histórias",
          "assinatura",
          "Irão",
          "Sócrates",
          "VÍDEO",
          "corte",
          "login",
          "limite",
          "emprego",
          "PATROCÍNIO",
          "Sporting",
          "Passos",
          "líder",
          "redução",
          "Wikileaks",
          "Password",
          "Empresário",
          "Visa",
          "intenção",
          "minutos",
          "autores",
          "liberdade",
          "campanha",
          "dinheiro",
          "ajuda",
          "apoios",
          "prejuízo",
          "salários",
          "dúvidas",
          "greve",
          "professores",
          "exposição",
          "presença",
          "rácio",
          "défice",
          "excelência",
          "juiz",
          "inquéritos",
          "PSI20",
          "prejuízos",
          "arguidos",
          "eleições",
          "saída",
          "marca",
          "Troika",
          "cortes",
          "ME",
          "reforma",
          "pagamentos",
          "testes",
          "acionistas",
          "Saltar",
          "RSS",
          "navegação",
          "conteúdo",
          "caixas",
          "código",
          "Custo",
          "assinantes",
          "moderador",
          "PayPal",
          "cultura",
          "débito",
          "Ongoing",
          "Imprimir",
          "ações",
          "jornalismo",
          "fidelização",
          "canais",
          "Partilhe",
          "programação",
          "partilhas",
          "Fosun",
          "cookies"
         ],
         "y": [
          100,
          85,
          146,
          312,
          941,
          518,
          431,
          384,
          205,
          94,
          269,
          332,
          205,
          83,
          124,
          151,
          144,
          129,
          300,
          892,
          122,
          265,
          151,
          163,
          113,
          149,
          84,
          89,
          88,
          270,
          652,
          246,
          125,
          500,
          475,
          811,
          392,
          5170,
          225,
          234,
          1856,
          305,
          99,
          151,
          285,
          95,
          305,
          96,
          101,
          135,
          201,
          433,
          268,
          171,
          248,
          388,
          395,
          163,
          198,
          111,
          93,
          132,
          101,
          191,
          188,
          175,
          91,
          100,
          161,
          132,
          2133,
          322,
          120,
          367,
          828,
          105,
          200,
          103,
          121,
          200,
          325,
          228,
          294,
          181,
          81,
          384,
          119,
          89,
          104,
          362,
          131,
          183,
          325,
          130,
          186,
          97,
          96,
          126,
          484,
          91,
          809,
          115,
          187,
          125,
          96,
          82,
          161,
          81,
          104,
          270,
          232,
          290,
          81,
          101,
          442,
          136,
          236,
          220,
          168,
          397,
          101,
          222,
          104,
          120,
          229,
          149,
          126,
          348,
          232,
          235,
          107,
          130,
          547,
          96,
          209,
          250,
          81,
          94,
          85,
          167,
          115,
          101,
          333,
          200,
          204,
          90,
          156,
          250,
          201,
          211,
          138,
          237,
          120,
          105,
          87,
          181,
          160,
          99,
          397,
          81,
          83,
          177,
          131,
          129,
          148,
          189,
          83,
          282,
          103,
          127,
          84,
          92,
          135,
          139,
          138,
          229,
          134,
          88,
          84,
          116,
          83,
          86,
          90,
          102,
          252,
          205,
          142,
          328,
          318,
          148,
          81,
          83,
          160,
          109,
          133,
          167,
          183,
          171,
          213,
          134,
          88,
          110,
          92,
          172,
          186,
          109,
          113,
          86,
          292,
          85,
          235,
          96,
          128,
          220,
          191,
          106,
          99,
          184,
          207,
          90,
          125,
          98,
          87,
          93,
          91,
          127,
          139,
          92,
          124,
          140,
          201,
          119,
          90,
          104,
          92,
          125,
          208,
          92,
          82,
          227,
          97,
          135,
          119,
          125,
          205,
          610,
          89,
          92,
          87,
          219,
          122,
          276,
          98,
          276,
          89,
          94,
          227,
          240,
          88,
          83,
          83,
          634,
          190,
          217,
          133
         ]
        }
       ],
       "layout": {
        "template": {
         "data": {
          "bar": [
           {
            "error_x": {
             "color": "#2a3f5f"
            },
            "error_y": {
             "color": "#2a3f5f"
            },
            "marker": {
             "line": {
              "color": "#E5ECF6",
              "width": 0.5
             },
             "pattern": {
              "fillmode": "overlay",
              "size": 10,
              "solidity": 0.2
             }
            },
            "type": "bar"
           }
          ],
          "barpolar": [
           {
            "marker": {
             "line": {
              "color": "#E5ECF6",
              "width": 0.5
             },
             "pattern": {
              "fillmode": "overlay",
              "size": 10,
              "solidity": 0.2
             }
            },
            "type": "barpolar"
           }
          ],
          "carpet": [
           {
            "aaxis": {
             "endlinecolor": "#2a3f5f",
             "gridcolor": "white",
             "linecolor": "white",
             "minorgridcolor": "white",
             "startlinecolor": "#2a3f5f"
            },
            "baxis": {
             "endlinecolor": "#2a3f5f",
             "gridcolor": "white",
             "linecolor": "white",
             "minorgridcolor": "white",
             "startlinecolor": "#2a3f5f"
            },
            "type": "carpet"
           }
          ],
          "choropleth": [
           {
            "colorbar": {
             "outlinewidth": 0,
             "ticks": ""
            },
            "type": "choropleth"
           }
          ],
          "contour": [
           {
            "colorbar": {
             "outlinewidth": 0,
             "ticks": ""
            },
            "colorscale": [
             [
              0,
              "#0d0887"
             ],
             [
              0.1111111111111111,
              "#46039f"
             ],
             [
              0.2222222222222222,
              "#7201a8"
             ],
             [
              0.3333333333333333,
              "#9c179e"
             ],
             [
              0.4444444444444444,
              "#bd3786"
             ],
             [
              0.5555555555555556,
              "#d8576b"
             ],
             [
              0.6666666666666666,
              "#ed7953"
             ],
             [
              0.7777777777777778,
              "#fb9f3a"
             ],
             [
              0.8888888888888888,
              "#fdca26"
             ],
             [
              1,
              "#f0f921"
             ]
            ],
            "type": "contour"
           }
          ],
          "contourcarpet": [
           {
            "colorbar": {
             "outlinewidth": 0,
             "ticks": ""
            },
            "type": "contourcarpet"
           }
          ],
          "heatmap": [
           {
            "colorbar": {
             "outlinewidth": 0,
             "ticks": ""
            },
            "colorscale": [
             [
              0,
              "#0d0887"
             ],
             [
              0.1111111111111111,
              "#46039f"
             ],
             [
              0.2222222222222222,
              "#7201a8"
             ],
             [
              0.3333333333333333,
              "#9c179e"
             ],
             [
              0.4444444444444444,
              "#bd3786"
             ],
             [
              0.5555555555555556,
              "#d8576b"
             ],
             [
              0.6666666666666666,
              "#ed7953"
             ],
             [
              0.7777777777777778,
              "#fb9f3a"
             ],
             [
              0.8888888888888888,
              "#fdca26"
             ],
             [
              1,
              "#f0f921"
             ]
            ],
            "type": "heatmap"
           }
          ],
          "heatmapgl": [
           {
            "colorbar": {
             "outlinewidth": 0,
             "ticks": ""
            },
            "colorscale": [
             [
              0,
              "#0d0887"
             ],
             [
              0.1111111111111111,
              "#46039f"
             ],
             [
              0.2222222222222222,
              "#7201a8"
             ],
             [
              0.3333333333333333,
              "#9c179e"
             ],
             [
              0.4444444444444444,
              "#bd3786"
             ],
             [
              0.5555555555555556,
              "#d8576b"
             ],
             [
              0.6666666666666666,
              "#ed7953"
             ],
             [
              0.7777777777777778,
              "#fb9f3a"
             ],
             [
              0.8888888888888888,
              "#fdca26"
             ],
             [
              1,
              "#f0f921"
             ]
            ],
            "type": "heatmapgl"
           }
          ],
          "histogram": [
           {
            "marker": {
             "pattern": {
              "fillmode": "overlay",
              "size": 10,
              "solidity": 0.2
             }
            },
            "type": "histogram"
           }
          ],
          "histogram2d": [
           {
            "colorbar": {
             "outlinewidth": 0,
             "ticks": ""
            },
            "colorscale": [
             [
              0,
              "#0d0887"
             ],
             [
              0.1111111111111111,
              "#46039f"
             ],
             [
              0.2222222222222222,
              "#7201a8"
             ],
             [
              0.3333333333333333,
              "#9c179e"
             ],
             [
              0.4444444444444444,
              "#bd3786"
             ],
             [
              0.5555555555555556,
              "#d8576b"
             ],
             [
              0.6666666666666666,
              "#ed7953"
             ],
             [
              0.7777777777777778,
              "#fb9f3a"
             ],
             [
              0.8888888888888888,
              "#fdca26"
             ],
             [
              1,
              "#f0f921"
             ]
            ],
            "type": "histogram2d"
           }
          ],
          "histogram2dcontour": [
           {
            "colorbar": {
             "outlinewidth": 0,
             "ticks": ""
            },
            "colorscale": [
             [
              0,
              "#0d0887"
             ],
             [
              0.1111111111111111,
              "#46039f"
             ],
             [
              0.2222222222222222,
              "#7201a8"
             ],
             [
              0.3333333333333333,
              "#9c179e"
             ],
             [
              0.4444444444444444,
              "#bd3786"
             ],
             [
              0.5555555555555556,
              "#d8576b"
             ],
             [
              0.6666666666666666,
              "#ed7953"
             ],
             [
              0.7777777777777778,
              "#fb9f3a"
             ],
             [
              0.8888888888888888,
              "#fdca26"
             ],
             [
              1,
              "#f0f921"
             ]
            ],
            "type": "histogram2dcontour"
           }
          ],
          "mesh3d": [
           {
            "colorbar": {
             "outlinewidth": 0,
             "ticks": ""
            },
            "type": "mesh3d"
           }
          ],
          "parcoords": [
           {
            "line": {
             "colorbar": {
              "outlinewidth": 0,
              "ticks": ""
             }
            },
            "type": "parcoords"
           }
          ],
          "pie": [
           {
            "automargin": true,
            "type": "pie"
           }
          ],
          "scatter": [
           {
            "fillpattern": {
             "fillmode": "overlay",
             "size": 10,
             "solidity": 0.2
            },
            "type": "scatter"
           }
          ],
          "scatter3d": [
           {
            "line": {
             "colorbar": {
              "outlinewidth": 0,
              "ticks": ""
             }
            },
            "marker": {
             "colorbar": {
              "outlinewidth": 0,
              "ticks": ""
             }
            },
            "type": "scatter3d"
           }
          ],
          "scattercarpet": [
           {
            "marker": {
             "colorbar": {
              "outlinewidth": 0,
              "ticks": ""
             }
            },
            "type": "scattercarpet"
           }
          ],
          "scattergeo": [
           {
            "marker": {
             "colorbar": {
              "outlinewidth": 0,
              "ticks": ""
             }
            },
            "type": "scattergeo"
           }
          ],
          "scattergl": [
           {
            "marker": {
             "colorbar": {
              "outlinewidth": 0,
              "ticks": ""
             }
            },
            "type": "scattergl"
           }
          ],
          "scattermapbox": [
           {
            "marker": {
             "colorbar": {
              "outlinewidth": 0,
              "ticks": ""
             }
            },
            "type": "scattermapbox"
           }
          ],
          "scatterpolar": [
           {
            "marker": {
             "colorbar": {
              "outlinewidth": 0,
              "ticks": ""
             }
            },
            "type": "scatterpolar"
           }
          ],
          "scatterpolargl": [
           {
            "marker": {
             "colorbar": {
              "outlinewidth": 0,
              "ticks": ""
             }
            },
            "type": "scatterpolargl"
           }
          ],
          "scatterternary": [
           {
            "marker": {
             "colorbar": {
              "outlinewidth": 0,
              "ticks": ""
             }
            },
            "type": "scatterternary"
           }
          ],
          "surface": [
           {
            "colorbar": {
             "outlinewidth": 0,
             "ticks": ""
            },
            "colorscale": [
             [
              0,
              "#0d0887"
             ],
             [
              0.1111111111111111,
              "#46039f"
             ],
             [
              0.2222222222222222,
              "#7201a8"
             ],
             [
              0.3333333333333333,
              "#9c179e"
             ],
             [
              0.4444444444444444,
              "#bd3786"
             ],
             [
              0.5555555555555556,
              "#d8576b"
             ],
             [
              0.6666666666666666,
              "#ed7953"
             ],
             [
              0.7777777777777778,
              "#fb9f3a"
             ],
             [
              0.8888888888888888,
              "#fdca26"
             ],
             [
              1,
              "#f0f921"
             ]
            ],
            "type": "surface"
           }
          ],
          "table": [
           {
            "cells": {
             "fill": {
              "color": "#EBF0F8"
             },
             "line": {
              "color": "white"
             }
            },
            "header": {
             "fill": {
              "color": "#C8D4E3"
             },
             "line": {
              "color": "white"
             }
            },
            "type": "table"
           }
          ]
         },
         "layout": {
          "annotationdefaults": {
           "arrowcolor": "#2a3f5f",
           "arrowhead": 0,
           "arrowwidth": 1
          },
          "autotypenumbers": "strict",
          "coloraxis": {
           "colorbar": {
            "outlinewidth": 0,
            "ticks": ""
           }
          },
          "colorscale": {
           "diverging": [
            [
             0,
             "#8e0152"
            ],
            [
             0.1,
             "#c51b7d"
            ],
            [
             0.2,
             "#de77ae"
            ],
            [
             0.3,
             "#f1b6da"
            ],
            [
             0.4,
             "#fde0ef"
            ],
            [
             0.5,
             "#f7f7f7"
            ],
            [
             0.6,
             "#e6f5d0"
            ],
            [
             0.7,
             "#b8e186"
            ],
            [
             0.8,
             "#7fbc41"
            ],
            [
             0.9,
             "#4d9221"
            ],
            [
             1,
             "#276419"
            ]
           ],
           "sequential": [
            [
             0,
             "#0d0887"
            ],
            [
             0.1111111111111111,
             "#46039f"
            ],
            [
             0.2222222222222222,
             "#7201a8"
            ],
            [
             0.3333333333333333,
             "#9c179e"
            ],
            [
             0.4444444444444444,
             "#bd3786"
            ],
            [
             0.5555555555555556,
             "#d8576b"
            ],
            [
             0.6666666666666666,
             "#ed7953"
            ],
            [
             0.7777777777777778,
             "#fb9f3a"
            ],
            [
             0.8888888888888888,
             "#fdca26"
            ],
            [
             1,
             "#f0f921"
            ]
           ],
           "sequentialminus": [
            [
             0,
             "#0d0887"
            ],
            [
             0.1111111111111111,
             "#46039f"
            ],
            [
             0.2222222222222222,
             "#7201a8"
            ],
            [
             0.3333333333333333,
             "#9c179e"
            ],
            [
             0.4444444444444444,
             "#bd3786"
            ],
            [
             0.5555555555555556,
             "#d8576b"
            ],
            [
             0.6666666666666666,
             "#ed7953"
            ],
            [
             0.7777777777777778,
             "#fb9f3a"
            ],
            [
             0.8888888888888888,
             "#fdca26"
            ],
            [
             1,
             "#f0f921"
            ]
           ]
          },
          "colorway": [
           "#636efa",
           "#EF553B",
           "#00cc96",
           "#ab63fa",
           "#FFA15A",
           "#19d3f3",
           "#FF6692",
           "#B6E880",
           "#FF97FF",
           "#FECB52"
          ],
          "font": {
           "color": "#2a3f5f"
          },
          "geo": {
           "bgcolor": "white",
           "lakecolor": "white",
           "landcolor": "#E5ECF6",
           "showlakes": true,
           "showland": true,
           "subunitcolor": "white"
          },
          "hoverlabel": {
           "align": "left"
          },
          "hovermode": "closest",
          "mapbox": {
           "style": "light"
          },
          "paper_bgcolor": "white",
          "plot_bgcolor": "#E5ECF6",
          "polar": {
           "angularaxis": {
            "gridcolor": "white",
            "linecolor": "white",
            "ticks": ""
           },
           "bgcolor": "#E5ECF6",
           "radialaxis": {
            "gridcolor": "white",
            "linecolor": "white",
            "ticks": ""
           }
          },
          "scene": {
           "xaxis": {
            "backgroundcolor": "#E5ECF6",
            "gridcolor": "white",
            "gridwidth": 2,
            "linecolor": "white",
            "showbackground": true,
            "ticks": "",
            "zerolinecolor": "white"
           },
           "yaxis": {
            "backgroundcolor": "#E5ECF6",
            "gridcolor": "white",
            "gridwidth": 2,
            "linecolor": "white",
            "showbackground": true,
            "ticks": "",
            "zerolinecolor": "white"
           },
           "zaxis": {
            "backgroundcolor": "#E5ECF6",
            "gridcolor": "white",
            "gridwidth": 2,
            "linecolor": "white",
            "showbackground": true,
            "ticks": "",
            "zerolinecolor": "white"
           }
          },
          "shapedefaults": {
           "line": {
            "color": "#2a3f5f"
           }
          },
          "ternary": {
           "aaxis": {
            "gridcolor": "white",
            "linecolor": "white",
            "ticks": ""
           },
           "baxis": {
            "gridcolor": "white",
            "linecolor": "white",
            "ticks": ""
           },
           "bgcolor": "#E5ECF6",
           "caxis": {
            "gridcolor": "white",
            "linecolor": "white",
            "ticks": ""
           }
          },
          "title": {
           "x": 0.05
          },
          "xaxis": {
           "automargin": true,
           "gridcolor": "white",
           "linecolor": "white",
           "ticks": "",
           "title": {
            "standoff": 15
           },
           "zerolinecolor": "white",
           "zerolinewidth": 2
          },
          "yaxis": {
           "automargin": true,
           "gridcolor": "white",
           "linecolor": "white",
           "ticks": "",
           "title": {
            "standoff": 15
           },
           "zerolinecolor": "white",
           "zerolinewidth": 2
          }
         }
        },
        "title": {
         "text": "Gráfico de Barras Interativo"
        },
        "xaxis": {
         "title": {
          "text": "Palavras"
         }
        },
        "yaxis": {
         "title": {
          "text": "Frequência"
         }
        }
       }
      }
     },
     "metadata": {},
     "output_type": "display_data"
    }
   ],
   "source": [
    "import plotly.graph_objects as go\n",
    "\n",
    "# Example input dictionary\n",
    "\n",
    "frequencias = df[\"keywords\"].iloc[0]\n",
    "\n",
    "# Step 1: Extract words, counts, and classes\n",
    "palavras = list(frequencias.keys())\n",
    "valores = [data['count'] for data in frequencias.values()]\n",
    "classes = [list(data['type']) for data in frequencias.values()]\n",
    "\n",
    "\n",
    "# Step 2: Define color mapping for classes\n",
    "color_map = {\n",
    "    'ORG': 'blue',\n",
    "    'PER': 'green',\n",
    "    'MISC': 'red',\n",
    "    \"WORD\": \"pink\",\n",
    "    \"LOC\": \"black\"\n",
    "}\n",
    "\n",
    "# Step 3: Assign colors based on class\n",
    "marker_colors = [\n",
    "    color_map[class_name[0]] if isinstance(class_name, list) else color_map[class_name]\n",
    "    for class_name in classes\n",
    "]\n",
    "# Step 4: Create the bar chart\n",
    "fig = go.Figure(data=[\n",
    "    go.Bar(\n",
    "        x=palavras,\n",
    "        y=valores,\n",
    "        marker_color=marker_colors,\n",
    "        hovertemplate=\"<b>%{x}</b><br>Count: %{y}<br>Class: %{customdata}<extra></extra>\",\n",
    "        customdata=classes  # Adding class data for hover information\n",
    "    )\n",
    "])\n",
    "\n",
    "fig.update_layout(\n",
    "    title='Gráfico de Barras Interativo',\n",
    "    xaxis_title='Palavras',\n",
    "    yaxis_title='Frequência',\n",
    ")\n",
    "\n",
    "fig.show()\n"
   ]
  },
  {
   "cell_type": "code",
   "execution_count": 8,
   "metadata": {},
   "outputs": [
    {
     "data": {
      "text/plain": [
       "(81, 5170, np.float64(223.9056603773585), np.float64(139.0), 265, 265)"
      ]
     },
     "execution_count": 8,
     "metadata": {},
     "output_type": "execute_result"
    }
   ],
   "source": [
    "import numpy as np\n",
    "\n",
    "frequencias = {word: data[\"count\"] for word, data in df[\"keywords\"].iloc[0].items()}\n",
    "\n",
    "min_val = min(set(frequencias.values()))\n",
    "max_val = max(set(frequencias.values()))\n",
    "mean_val = np.mean(list(frequencias.values()))\n",
    "median_val = np.median(list(frequencias.values()))\n",
    "count_val = np.count_nonzero(np.array(list(frequencias.values())) > 10)\n",
    "\n",
    "min_val, max_val, mean_val, median_val, count_val, len(set(list(frequencias.keys())))\n"
   ]
  },
  {
   "cell_type": "code",
   "execution_count": null,
   "metadata": {},
   "outputs": [],
   "source": []
  }
 ],
 "metadata": {
  "kernelspec": {
   "display_name": "fcdProj",
   "language": "python",
   "name": "python3"
  },
  "language_info": {
   "codemirror_mode": {
    "name": "ipython",
    "version": 3
   },
   "file_extension": ".py",
   "mimetype": "text/x-python",
   "name": "python",
   "nbconvert_exporter": "python",
   "pygments_lexer": "ipython3",
   "version": "3.10.15"
  }
 },
 "nbformat": 4,
 "nbformat_minor": 2
}
