{
 "cells": [
  {
   "cell_type": "markdown",
   "metadata": {},
   "source": [
    "**todo**\n",
    "\n",
    "- analise sentimento\n",
    "\n",
    "- ~~ner + conceitos~~\n",
    "\n",
    "- tentar newsVSprice de novo, agora com menos noticias\n",
    "\n",
    "- qty de noticias por newsSource"
   ]
  },
  {
   "cell_type": "markdown",
   "metadata": {},
   "source": [
    "# tentar fazer analise NER aos dados"
   ]
  },
  {
   "cell_type": "code",
   "execution_count": 7,
   "metadata": {},
   "outputs": [
    {
     "data": {
      "text/plain": [
       "{'ExtractedText': 'DN \\xa0 12 de Setembro de 2001 Madrid decide \"em breve\" sobre EDP na Cantábrico Madrid irá tomar \"em breve\" a decisão sobre os direitos de voto da EDP na companhia eléctrica Hidrocantábrico. A revelação foi ontem feita, em Lisboa pelo secretário de Estado da Energia espanhol, José Folgado, à saída de um encontro com o secretário de Estado Adjunto do ministro da Economia, Oliveira Fernandes. O responsável espanhol não elucidou, no entanto, o prazo para a tomada de decisão, tendo dado ênfase à realização do mercado ibérico da energia, em particular na electricidade. José Folgado referiu mesmo em relação ao caso da EDP - com direitos suspensos desde Maio - que Madrid não está sujeita a qualquer data, acrescentando, contudo, que o encontro de ontem constituiu \"um pilar determinante\" para a resolução da questão. José Folgado negou que Madrid tivesse condicionado a decisão ao reforço da espanhola Iberdrola no capital da EDP. \"O Governo espanhol apresenta um modelo, não uma determinada empresa em concreto\", apontou. Contactada pelo DN, a porta-voz do Ministério da Economia português escusou quaisquer comentários da parte portuguesa. Copyright © 1995,2001 Diário de Notícias, SA Todos os direitos reservados webmaster@DnOnline',\n",
       " 'linkToArchive': 'https://arquivo.pt/wayback/20010913000820/http://www.dn.pt/eco/12p35b.htm',\n",
       " 'newsProbability': 0.625,\n",
       " 'newsSource': 'Diário de Notícias',\n",
       " 'tstamp': '200109',\n",
       " 'newsNER': {'ORG': ['DN',\n",
       "   'EDP',\n",
       "   'Cantábrico Madrid',\n",
       "   'EDP',\n",
       "   'EDP',\n",
       "   'EDP',\n",
       "   'DN',\n",
       "   'SA'],\n",
       "  'LOC': ['Madrid',\n",
       "   'Lisboa',\n",
       "   'Estado da Energia',\n",
       "   'Estado Adjunto',\n",
       "   'Maio',\n",
       "   'Madrid',\n",
       "   'Madrid',\n",
       "   'Iberdrola',\n",
       "   'Governo espanhol'],\n",
       "  'PER': ['Hidrocantábrico',\n",
       "   'José Folgado',\n",
       "   'Oliveira Fernandes',\n",
       "   'José Folgado',\n",
       "   'José Folgado',\n",
       "   'Copyright ©'],\n",
       "  'MISC': ['Economia',\n",
       "   'Ministério da Economia',\n",
       "   'Diário de Notícias',\n",
       "   'webmaster@DnOnline'],\n",
       "  'WORD': ['decisão',\n",
       "   'direitos',\n",
       "   'voto',\n",
       "   'companhia',\n",
       "   'revelação',\n",
       "   'secretário',\n",
       "   'saída',\n",
       "   'encontro',\n",
       "   'secretário',\n",
       "   'ministro',\n",
       "   'responsável',\n",
       "   'entanto',\n",
       "   'prazo',\n",
       "   'tomada',\n",
       "   'decisão',\n",
       "   'ênfase',\n",
       "   'realização',\n",
       "   'mercado',\n",
       "   'energia',\n",
       "   'electricidade',\n",
       "   'caso',\n",
       "   'direitos',\n",
       "   'data',\n",
       "   'encontro',\n",
       "   'pilar',\n",
       "   'resolução',\n",
       "   'decisão',\n",
       "   'reforço',\n",
       "   'espanhola',\n",
       "   'capital',\n",
       "   'modelo',\n",
       "   'empresa',\n",
       "   'concreto',\n",
       "   'comentários',\n",
       "   'direitos']}}"
      ]
     },
     "execution_count": 7,
     "metadata": {},
     "output_type": "execute_result"
    }
   ],
   "source": [
    "import pandas as pd\n",
    "import spacy\n",
    "\n",
    "df = pd.read_parquet(\"data04.parquet\")\n",
    "\n",
    "# Load the Portuguese model\n",
    "nlp = spacy.load(\"pt_core_news_sm\")\n",
    "\n",
    "\n",
    "dict = df.iloc[2,1][3]\n",
    "\n",
    "def NER_KEYWORDS(dict):\n",
    "    # Process the text\n",
    "    text = dict[\"ExtractedText\"]\n",
    "    doc = nlp(text)\n",
    "\n",
    "    meses = {\"janeiro\", \"fevereiro\", \"março\", \"abril\", \"maio\", \"junho\",\n",
    "             \"julho\", \"agosto\", \"setembro\", \"outubro\", \"novembro\", \"dezembro\"}\n",
    "    dias_da_semana = {\"segunda-feira\", \"terça-feira\", \"quarta-feira\",\n",
    "                      \"quinta-feira\", \"sexta-feira\", \"sábado\", \"domingo\", \"fim-de-semana\"}\n",
    "    # Extract named entities and filter keywords\n",
    "    named_entities = [(ent.text, ent.label_) for ent in doc.ents]\n",
    "    palavras_significativas = [\n",
    "        token.text for token in doc \n",
    "        if token.pos_ in {\"NOUN\"} # {\"NOUN\", \"VERB\", \"PROPN\"} \n",
    "        and not token.is_stop\n",
    "        and (token.text.islower() or token.text.isupper())\n",
    "        and token.text not in meses \n",
    "        and token.text not in dias_da_semana\n",
    "        and token.text.isalnum()\n",
    "        and len(token.text) > 3\n",
    "    ]\n",
    "\n",
    "    organized_entities = {}\n",
    "    for entity, category in named_entities:\n",
    "        if category not in organized_entities:\n",
    "            organized_entities[category] = [entity]\n",
    "        else:\n",
    "            organized_entities[category].append(entity)\n",
    " \n",
    "    dict[\"newsNER\"] = organized_entities\n",
    "    dict[\"newsNER\"][\"WORD\"] =  palavras_significativas\n",
    "    return dict\n",
    "\n",
    "NER_KEYWORDS(dict)\n"
   ]
  },
  {
   "cell_type": "code",
   "execution_count": 8,
   "metadata": {},
   "outputs": [],
   "source": [
    "def NERCol(list):\n",
    "    for i in range(len(list)):\n",
    "        list[i] = NER_KEYWORDS(list[i])\n",
    "    return list\n",
    "\n",
    "df[\"news\"] = df[\"news\"].map(NERCol)"
   ]
  },
  {
   "cell_type": "markdown",
   "metadata": {},
   "source": [
    "### nota:\n",
    "\n",
    "devo guardar os sites do arquivo, pode ser curioso ver de onde vêm certas palavras ou assim"
   ]
  },
  {
   "cell_type": "code",
   "execution_count": 9,
   "metadata": {},
   "outputs": [
    {
     "data": {
      "text/html": [
       "<div>\n",
       "<style scoped>\n",
       "    .dataframe tbody tr th:only-of-type {\n",
       "        vertical-align: middle;\n",
       "    }\n",
       "\n",
       "    .dataframe tbody tr th {\n",
       "        vertical-align: top;\n",
       "    }\n",
       "\n",
       "    .dataframe thead th {\n",
       "        text-align: right;\n",
       "    }\n",
       "</style>\n",
       "<table border=\"1\" class=\"dataframe\">\n",
       "  <thead>\n",
       "    <tr style=\"text-align: right;\">\n",
       "      <th></th>\n",
       "      <th>aliases</th>\n",
       "      <th>news</th>\n",
       "      <th>keywords</th>\n",
       "    </tr>\n",
       "    <tr>\n",
       "      <th>companies</th>\n",
       "      <th></th>\n",
       "      <th></th>\n",
       "      <th></th>\n",
       "    </tr>\n",
       "  </thead>\n",
       "  <tbody>\n",
       "    <tr>\n",
       "      <th>Banco Comercial Português</th>\n",
       "      <td>[Banco Comercial Português, BCP]</td>\n",
       "      <td>[{'ExtractedText': 'DN   13 de Setembro de 200...</td>\n",
       "      <td>{'refúgio': 4, 'instalações': 19, 'pessoas': 2...</td>\n",
       "    </tr>\n",
       "    <tr>\n",
       "      <th>Galp Energia</th>\n",
       "      <td>[Galp Energia, GALP]</td>\n",
       "      <td>[{'ExtractedText': 'RTP Galp reforça posição n...</td>\n",
       "      <td>{'mercado': 577, 'acordo': 394, 'compra': 404,...</td>\n",
       "    </tr>\n",
       "    <tr>\n",
       "      <th>EDP</th>\n",
       "      <td>[EDP, Energias de Portugal, Electricidade de P...</td>\n",
       "      <td>[{'ExtractedText': 'DN-Sinteses Negocios 9 de ...</td>\n",
       "      <td>{'ELECTRICIDADE': 1, 'fase': 81, 'venda': 285,...</td>\n",
       "    </tr>\n",
       "    <tr>\n",
       "      <th>Sonae</th>\n",
       "      <td>[Sonae, SON]</td>\n",
       "      <td>[{'ExtractedText': 'DN-Sinteses 5 de Março de ...</td>\n",
       "      <td>{'sócio': 4, 'pormenores': 3, 'aliança': 6, 'e...</td>\n",
       "    </tr>\n",
       "    <tr>\n",
       "      <th>Mota-Engil</th>\n",
       "      <td>[Mota-Engil, EGL]</td>\n",
       "      <td>[{'ExtractedText': 'RTP Lucro da Mota-Engil so...</td>\n",
       "      <td>{'semestre': 75, 'lucro': 30, 'período': 94, '...</td>\n",
       "    </tr>\n",
       "  </tbody>\n",
       "</table>\n",
       "</div>"
      ],
      "text/plain": [
       "                                                                     aliases  \\\n",
       "companies                                                                      \n",
       "Banco Comercial Português                   [Banco Comercial Português, BCP]   \n",
       "Galp Energia                                            [Galp Energia, GALP]   \n",
       "EDP                        [EDP, Energias de Portugal, Electricidade de P...   \n",
       "Sonae                                                           [Sonae, SON]   \n",
       "Mota-Engil                                                 [Mota-Engil, EGL]   \n",
       "\n",
       "                                                                        news  \\\n",
       "companies                                                                      \n",
       "Banco Comercial Português  [{'ExtractedText': 'DN   13 de Setembro de 200...   \n",
       "Galp Energia               [{'ExtractedText': 'RTP Galp reforça posição n...   \n",
       "EDP                        [{'ExtractedText': 'DN-Sinteses Negocios 9 de ...   \n",
       "Sonae                      [{'ExtractedText': 'DN-Sinteses 5 de Março de ...   \n",
       "Mota-Engil                 [{'ExtractedText': 'RTP Lucro da Mota-Engil so...   \n",
       "\n",
       "                                                                    keywords  \n",
       "companies                                                                     \n",
       "Banco Comercial Português  {'refúgio': 4, 'instalações': 19, 'pessoas': 2...  \n",
       "Galp Energia               {'mercado': 577, 'acordo': 394, 'compra': 404,...  \n",
       "EDP                        {'ELECTRICIDADE': 1, 'fase': 81, 'venda': 285,...  \n",
       "Sonae                      {'sócio': 4, 'pormenores': 3, 'aliança': 6, 'e...  \n",
       "Mota-Engil                 {'semestre': 75, 'lucro': 30, 'período': 94, '...  "
      ]
     },
     "execution_count": 9,
     "metadata": {},
     "output_type": "execute_result"
    }
   ],
   "source": [
    "def newsKeywords_merge(lista):\n",
    "    dict = {}\n",
    "    for dicionario in lista:\n",
    "        keywords = dicionario[\"newsNER\"][\"WORD\"]\n",
    "        for keyword in keywords:\n",
    "            if keyword not in dict:\n",
    "                dict[keyword] = 1\n",
    "            else:\n",
    "                dict[keyword] += 1\n",
    "    \n",
    "    return dict\n",
    "df[\"keywords\"] = df[\"news\"].map(newsKeywords_merge)\n",
    "df"
   ]
  },
  {
   "cell_type": "code",
   "execution_count": 10,
   "metadata": {},
   "outputs": [
    {
     "data": {
      "application/vnd.plotly.v1+json": {
       "config": {
        "plotlyServerURL": "https://plot.ly"
       },
       "data": [
        {
         "type": "bar",
         "x": [
          "pessoas",
          "funcionários",
          "trabalhadores",
          "empresa",
          "países",
          "trabalho",
          "funções",
          "questões",
          "portugueses",
          "serviço",
          "comunicado",
          "apelo",
          "país",
          "limites",
          "linha",
          "horas",
          "conferência",
          "imediato",
          "casa",
          "imprensa",
          "medidas",
          "situação",
          "agência",
          "alerta",
          "assembleia",
          "ministro",
          "reunião",
          "caso",
          "presidente",
          "instituição",
          "actividade",
          "site",
          "dias",
          "sequência",
          "notícias",
          "anos",
          "mulher",
          "direitos",
          "impostos",
          "informações",
          "clientes",
          "banco",
          "resposta",
          "impacto",
          "bolsa",
          "informação",
          "serviços",
          "mercado",
          "decisão",
          "alta",
          "mundo",
          "análise",
          "revista",
          "empresas",
          "entrada",
          "balcões",
          "administradores",
          "proposta",
          "dívida",
          "agências",
          "economia",
          "trimestre",
          "taxa",
          "accionistas",
          "projectos",
          "prazo",
          "saúde",
          "crescimento",
          "vida",
          "futuro",
          "gestores",
          "gestão",
          "responsável",
          "acesso",
          "resultado",
          "mercados",
          "responsabilidade",
          "queda",
          "perdas",
          "euros",
          "resultados",
          "lucro",
          "aumento",
          "capital",
          "fundos",
          "investidores",
          "base",
          "conhecimento",
          "hora",
          "rating",
          "acordo",
          "compra",
          "venda",
          "votação",
          "processo",
          "postos",
          "dívidas",
          "distribuição",
          "acções",
          "concessão",
          "pesquisa",
          "regras",
          "lucros",
          "preço",
          "edição",
          "risco",
          "âmbito",
          "negócios",
          "altura",
          "nome",
          "conta",
          "ordem",
          "referência",
          "público",
          "pagamento",
          "operações",
          "negociações",
          "melhoria",
          "vendas",
          "semestre",
          "índice",
          "negociação",
          "plataforma",
          "sector",
          "tendência",
          "sessão",
          "fonte",
          "ganhos",
          "evolução",
          "espaço",
          "subida",
          "período",
          "títulos",
          "crime",
          "fusão",
          "julgamento",
          "início",
          "aquisição",
          "investigação",
          "entidade",
          "causa",
          "participação",
          "sociedade",
          "pensões",
          "financiamento",
          "investimento",
          "total",
          "crédito",
          "operação",
          "administração",
          "autoridades",
          "bancos",
          "avaliação",
          "apresentação",
          "governo",
          "seguida",
          "interesse",
          "banca",
          "activos",
          "fundador",
          "quadro",
          "guerra",
          "contrato",
          "prisão",
          "descida",
          "destaque",
          "sentido",
          "plano",
          "reestruturação",
          "semana",
          "metade",
          "leitores",
          "qualidade",
          "página",
          "nota",
          "dados",
          "instituições",
          "acção",
          "termos",
          "negócio",
          "media",
          "direito",
          "propósito",
          "reforço",
          "condições",
          "trabalhos",
          "email",
          "música",
          "opinião",
          "estrutura",
          "equipa",
          "controlo",
          "CMVM",
          "votos",
          "voto",
          "ONLINE",
          "crise",
          "entrevista",
          "morte",
          "artigo",
          "contas",
          "exercício",
          "custos",
          "participações",
          "reformas",
          "processos",
          "comentários",
          "escola",
          "programa",
          "habitação",
          "accionista",
          "petrolífera",
          "solução",
          "comissão",
          "créditos",
          "factos",
          "supervisor",
          "aumentos",
          "notícia",
          "reportagens",
          "documentos",
          "tribunal",
          "indemnização",
          "empréstimos",
          "recurso",
          "tribunais",
          "artigos",
          "visita",
          "semanas",
          "obrigações",
          "emissão",
          "assinatura",
          "jornal",
          "corte",
          "login",
          "oferta",
          "limite",
          "salário",
          "emprego",
          "violência",
          "líder",
          "mãos",
          "redução",
          "casos",
          "desporto",
          "carta",
          "intenção",
          "minutos",
          "autores",
          "comentário",
          "anónimo",
          "segundos",
          "utilizador",
          "password",
          "voos",
          "liberdade",
          "campanha",
          "expressão",
          "filhos",
          "dinheiro",
          "ajuda",
          "prejuízo",
          "salários",
          "dúvidas",
          "greve",
          "professores",
          "porta",
          "exposição",
          "presença",
          "conteúdos",
          "notação",
          "depósitos",
          "rácio",
          "défice",
          "excelência",
          "empresário",
          "juiz",
          "inquéritos",
          "publicação",
          "cenário",
          "taxas",
          "futebol",
          "margem",
          "comissões",
          "administrador",
          "desemprego",
          "data",
          "prejuízos",
          "arguidos",
          "rádio",
          "eleições",
          "opção",
          "saída",
          "imparidades",
          "marca",
          "cortes",
          "subsídio",
          "troika",
          "juros",
          "empréstimo",
          "casas",
          "rendas",
          "crianças",
          "pessoal",
          "amigos",
          "fundo",
          "vídeo",
          "reforma",
          "pagamentos",
          "testes",
          "acionistas",
          "navegação",
          "conteúdo",
          "localização",
          "caixas",
          "código",
          "modo",
          "tópicos",
          "registo",
          "rescisões",
          "assinantes",
          "campo",
          "modalidades",
          "moderador",
          "stress",
          "ASSINE",
          "MUNDO",
          "cultura",
          "débito",
          "história",
          "ações",
          "jornalismo",
          "fidelização",
          "actualidade",
          "mobile",
          "fotografias",
          "renovação",
          "videos",
          "contato",
          "chat",
          "descoberto",
          "canais",
          "correcção",
          "ação",
          "programação",
          "partilhas",
          "cookies"
         ],
         "y": [
          205,
          89,
          266,
          322,
          64,
          201,
          83,
          124,
          104,
          144,
          129,
          56,
          289,
          802,
          118,
          263,
          72,
          76,
          151,
          161,
          109,
          145,
          74,
          88,
          70,
          77,
          73,
          268,
          607,
          243,
          123,
          493,
          456,
          68,
          374,
          778,
          69,
          390,
          77,
          225,
          230,
          1821,
          305,
          99,
          140,
          284,
          94,
          303,
          199,
          77,
          311,
          64,
          66,
          243,
          171,
          58,
          73,
          248,
          387,
          57,
          166,
          163,
          73,
          190,
          61,
          111,
          67,
          75,
          131,
          59,
          95,
          187,
          57,
          188,
          175,
          88,
          100,
          161,
          129,
          2129,
          298,
          118,
          345,
          825,
          105,
          198,
          103,
          78,
          121,
          200,
          322,
          227,
          286,
          81,
          377,
          64,
          109,
          59,
          355,
          130,
          79,
          183,
          321,
          66,
          81,
          184,
          67,
          67,
          97,
          126,
          484,
          60,
          91,
          67,
          187,
          125,
          96,
          80,
          76,
          161,
          81,
          68,
          104,
          88,
          56,
          653,
          290,
          75,
          81,
          67,
          101,
          220,
          168,
          99,
          212,
          95,
          132,
          59,
          74,
          60,
          120,
          229,
          80,
          135,
          121,
          179,
          60,
          341,
          231,
          231,
          121,
          529,
          68,
          96,
          73,
          78,
          73,
          211,
          81,
          87,
          78,
          73,
          77,
          71,
          61,
          200,
          56,
          203,
          90,
          156,
          63,
          201,
          211,
          57,
          138,
          237,
          120,
          73,
          96,
          100,
          85,
          168,
          99,
          83,
          112,
          131,
          384,
          129,
          123,
          56,
          68,
          69,
          71,
          67,
          78,
          91,
          156,
          68,
          71,
          821,
          280,
          103,
          124,
          68,
          79,
          85,
          709,
          88,
          84,
          67,
          116,
          83,
          84,
          85,
          102,
          62,
          62,
          66,
          239,
          142,
          78,
          152,
          57,
          75,
          64,
          60,
          328,
          62,
          148,
          64,
          81,
          160,
          240,
          148,
          171,
          59,
          213,
          56,
          129,
          62,
          165,
          61,
          175,
          71,
          93,
          59,
          85,
          235,
          96,
          70,
          62,
          76,
          62,
          62,
          70,
          128,
          64,
          66,
          56,
          191,
          104,
          178,
          194,
          90,
          122,
          67,
          74,
          83,
          93,
          291,
          62,
          64,
          91,
          118,
          139,
          73,
          70,
          123,
          72,
          69,
          57,
          72,
          73,
          68,
          59,
          65,
          71,
          195,
          116,
          123,
          86,
          64,
          102,
          65,
          89,
          166,
          62,
          88,
          63,
          58,
          58,
          60,
          76,
          62,
          72,
          63,
          134,
          82,
          227,
          97,
          135,
          205,
          609,
          68,
          89,
          91,
          58,
          70,
          59,
          69,
          219,
          57,
          62,
          122,
          64,
          90,
          90,
          96,
          276,
          62,
          223,
          240,
          88,
          58,
          74,
          78,
          77,
          74,
          74,
          74,
          72,
          83,
          66,
          59,
          634,
          190,
          133
         ]
        }
       ],
       "layout": {
        "template": {
         "data": {
          "bar": [
           {
            "error_x": {
             "color": "#2a3f5f"
            },
            "error_y": {
             "color": "#2a3f5f"
            },
            "marker": {
             "line": {
              "color": "#E5ECF6",
              "width": 0.5
             },
             "pattern": {
              "fillmode": "overlay",
              "size": 10,
              "solidity": 0.2
             }
            },
            "type": "bar"
           }
          ],
          "barpolar": [
           {
            "marker": {
             "line": {
              "color": "#E5ECF6",
              "width": 0.5
             },
             "pattern": {
              "fillmode": "overlay",
              "size": 10,
              "solidity": 0.2
             }
            },
            "type": "barpolar"
           }
          ],
          "carpet": [
           {
            "aaxis": {
             "endlinecolor": "#2a3f5f",
             "gridcolor": "white",
             "linecolor": "white",
             "minorgridcolor": "white",
             "startlinecolor": "#2a3f5f"
            },
            "baxis": {
             "endlinecolor": "#2a3f5f",
             "gridcolor": "white",
             "linecolor": "white",
             "minorgridcolor": "white",
             "startlinecolor": "#2a3f5f"
            },
            "type": "carpet"
           }
          ],
          "choropleth": [
           {
            "colorbar": {
             "outlinewidth": 0,
             "ticks": ""
            },
            "type": "choropleth"
           }
          ],
          "contour": [
           {
            "colorbar": {
             "outlinewidth": 0,
             "ticks": ""
            },
            "colorscale": [
             [
              0,
              "#0d0887"
             ],
             [
              0.1111111111111111,
              "#46039f"
             ],
             [
              0.2222222222222222,
              "#7201a8"
             ],
             [
              0.3333333333333333,
              "#9c179e"
             ],
             [
              0.4444444444444444,
              "#bd3786"
             ],
             [
              0.5555555555555556,
              "#d8576b"
             ],
             [
              0.6666666666666666,
              "#ed7953"
             ],
             [
              0.7777777777777778,
              "#fb9f3a"
             ],
             [
              0.8888888888888888,
              "#fdca26"
             ],
             [
              1,
              "#f0f921"
             ]
            ],
            "type": "contour"
           }
          ],
          "contourcarpet": [
           {
            "colorbar": {
             "outlinewidth": 0,
             "ticks": ""
            },
            "type": "contourcarpet"
           }
          ],
          "heatmap": [
           {
            "colorbar": {
             "outlinewidth": 0,
             "ticks": ""
            },
            "colorscale": [
             [
              0,
              "#0d0887"
             ],
             [
              0.1111111111111111,
              "#46039f"
             ],
             [
              0.2222222222222222,
              "#7201a8"
             ],
             [
              0.3333333333333333,
              "#9c179e"
             ],
             [
              0.4444444444444444,
              "#bd3786"
             ],
             [
              0.5555555555555556,
              "#d8576b"
             ],
             [
              0.6666666666666666,
              "#ed7953"
             ],
             [
              0.7777777777777778,
              "#fb9f3a"
             ],
             [
              0.8888888888888888,
              "#fdca26"
             ],
             [
              1,
              "#f0f921"
             ]
            ],
            "type": "heatmap"
           }
          ],
          "heatmapgl": [
           {
            "colorbar": {
             "outlinewidth": 0,
             "ticks": ""
            },
            "colorscale": [
             [
              0,
              "#0d0887"
             ],
             [
              0.1111111111111111,
              "#46039f"
             ],
             [
              0.2222222222222222,
              "#7201a8"
             ],
             [
              0.3333333333333333,
              "#9c179e"
             ],
             [
              0.4444444444444444,
              "#bd3786"
             ],
             [
              0.5555555555555556,
              "#d8576b"
             ],
             [
              0.6666666666666666,
              "#ed7953"
             ],
             [
              0.7777777777777778,
              "#fb9f3a"
             ],
             [
              0.8888888888888888,
              "#fdca26"
             ],
             [
              1,
              "#f0f921"
             ]
            ],
            "type": "heatmapgl"
           }
          ],
          "histogram": [
           {
            "marker": {
             "pattern": {
              "fillmode": "overlay",
              "size": 10,
              "solidity": 0.2
             }
            },
            "type": "histogram"
           }
          ],
          "histogram2d": [
           {
            "colorbar": {
             "outlinewidth": 0,
             "ticks": ""
            },
            "colorscale": [
             [
              0,
              "#0d0887"
             ],
             [
              0.1111111111111111,
              "#46039f"
             ],
             [
              0.2222222222222222,
              "#7201a8"
             ],
             [
              0.3333333333333333,
              "#9c179e"
             ],
             [
              0.4444444444444444,
              "#bd3786"
             ],
             [
              0.5555555555555556,
              "#d8576b"
             ],
             [
              0.6666666666666666,
              "#ed7953"
             ],
             [
              0.7777777777777778,
              "#fb9f3a"
             ],
             [
              0.8888888888888888,
              "#fdca26"
             ],
             [
              1,
              "#f0f921"
             ]
            ],
            "type": "histogram2d"
           }
          ],
          "histogram2dcontour": [
           {
            "colorbar": {
             "outlinewidth": 0,
             "ticks": ""
            },
            "colorscale": [
             [
              0,
              "#0d0887"
             ],
             [
              0.1111111111111111,
              "#46039f"
             ],
             [
              0.2222222222222222,
              "#7201a8"
             ],
             [
              0.3333333333333333,
              "#9c179e"
             ],
             [
              0.4444444444444444,
              "#bd3786"
             ],
             [
              0.5555555555555556,
              "#d8576b"
             ],
             [
              0.6666666666666666,
              "#ed7953"
             ],
             [
              0.7777777777777778,
              "#fb9f3a"
             ],
             [
              0.8888888888888888,
              "#fdca26"
             ],
             [
              1,
              "#f0f921"
             ]
            ],
            "type": "histogram2dcontour"
           }
          ],
          "mesh3d": [
           {
            "colorbar": {
             "outlinewidth": 0,
             "ticks": ""
            },
            "type": "mesh3d"
           }
          ],
          "parcoords": [
           {
            "line": {
             "colorbar": {
              "outlinewidth": 0,
              "ticks": ""
             }
            },
            "type": "parcoords"
           }
          ],
          "pie": [
           {
            "automargin": true,
            "type": "pie"
           }
          ],
          "scatter": [
           {
            "fillpattern": {
             "fillmode": "overlay",
             "size": 10,
             "solidity": 0.2
            },
            "type": "scatter"
           }
          ],
          "scatter3d": [
           {
            "line": {
             "colorbar": {
              "outlinewidth": 0,
              "ticks": ""
             }
            },
            "marker": {
             "colorbar": {
              "outlinewidth": 0,
              "ticks": ""
             }
            },
            "type": "scatter3d"
           }
          ],
          "scattercarpet": [
           {
            "marker": {
             "colorbar": {
              "outlinewidth": 0,
              "ticks": ""
             }
            },
            "type": "scattercarpet"
           }
          ],
          "scattergeo": [
           {
            "marker": {
             "colorbar": {
              "outlinewidth": 0,
              "ticks": ""
             }
            },
            "type": "scattergeo"
           }
          ],
          "scattergl": [
           {
            "marker": {
             "colorbar": {
              "outlinewidth": 0,
              "ticks": ""
             }
            },
            "type": "scattergl"
           }
          ],
          "scattermapbox": [
           {
            "marker": {
             "colorbar": {
              "outlinewidth": 0,
              "ticks": ""
             }
            },
            "type": "scattermapbox"
           }
          ],
          "scatterpolar": [
           {
            "marker": {
             "colorbar": {
              "outlinewidth": 0,
              "ticks": ""
             }
            },
            "type": "scatterpolar"
           }
          ],
          "scatterpolargl": [
           {
            "marker": {
             "colorbar": {
              "outlinewidth": 0,
              "ticks": ""
             }
            },
            "type": "scatterpolargl"
           }
          ],
          "scatterternary": [
           {
            "marker": {
             "colorbar": {
              "outlinewidth": 0,
              "ticks": ""
             }
            },
            "type": "scatterternary"
           }
          ],
          "surface": [
           {
            "colorbar": {
             "outlinewidth": 0,
             "ticks": ""
            },
            "colorscale": [
             [
              0,
              "#0d0887"
             ],
             [
              0.1111111111111111,
              "#46039f"
             ],
             [
              0.2222222222222222,
              "#7201a8"
             ],
             [
              0.3333333333333333,
              "#9c179e"
             ],
             [
              0.4444444444444444,
              "#bd3786"
             ],
             [
              0.5555555555555556,
              "#d8576b"
             ],
             [
              0.6666666666666666,
              "#ed7953"
             ],
             [
              0.7777777777777778,
              "#fb9f3a"
             ],
             [
              0.8888888888888888,
              "#fdca26"
             ],
             [
              1,
              "#f0f921"
             ]
            ],
            "type": "surface"
           }
          ],
          "table": [
           {
            "cells": {
             "fill": {
              "color": "#EBF0F8"
             },
             "line": {
              "color": "white"
             }
            },
            "header": {
             "fill": {
              "color": "#C8D4E3"
             },
             "line": {
              "color": "white"
             }
            },
            "type": "table"
           }
          ]
         },
         "layout": {
          "annotationdefaults": {
           "arrowcolor": "#2a3f5f",
           "arrowhead": 0,
           "arrowwidth": 1
          },
          "autotypenumbers": "strict",
          "coloraxis": {
           "colorbar": {
            "outlinewidth": 0,
            "ticks": ""
           }
          },
          "colorscale": {
           "diverging": [
            [
             0,
             "#8e0152"
            ],
            [
             0.1,
             "#c51b7d"
            ],
            [
             0.2,
             "#de77ae"
            ],
            [
             0.3,
             "#f1b6da"
            ],
            [
             0.4,
             "#fde0ef"
            ],
            [
             0.5,
             "#f7f7f7"
            ],
            [
             0.6,
             "#e6f5d0"
            ],
            [
             0.7,
             "#b8e186"
            ],
            [
             0.8,
             "#7fbc41"
            ],
            [
             0.9,
             "#4d9221"
            ],
            [
             1,
             "#276419"
            ]
           ],
           "sequential": [
            [
             0,
             "#0d0887"
            ],
            [
             0.1111111111111111,
             "#46039f"
            ],
            [
             0.2222222222222222,
             "#7201a8"
            ],
            [
             0.3333333333333333,
             "#9c179e"
            ],
            [
             0.4444444444444444,
             "#bd3786"
            ],
            [
             0.5555555555555556,
             "#d8576b"
            ],
            [
             0.6666666666666666,
             "#ed7953"
            ],
            [
             0.7777777777777778,
             "#fb9f3a"
            ],
            [
             0.8888888888888888,
             "#fdca26"
            ],
            [
             1,
             "#f0f921"
            ]
           ],
           "sequentialminus": [
            [
             0,
             "#0d0887"
            ],
            [
             0.1111111111111111,
             "#46039f"
            ],
            [
             0.2222222222222222,
             "#7201a8"
            ],
            [
             0.3333333333333333,
             "#9c179e"
            ],
            [
             0.4444444444444444,
             "#bd3786"
            ],
            [
             0.5555555555555556,
             "#d8576b"
            ],
            [
             0.6666666666666666,
             "#ed7953"
            ],
            [
             0.7777777777777778,
             "#fb9f3a"
            ],
            [
             0.8888888888888888,
             "#fdca26"
            ],
            [
             1,
             "#f0f921"
            ]
           ]
          },
          "colorway": [
           "#636efa",
           "#EF553B",
           "#00cc96",
           "#ab63fa",
           "#FFA15A",
           "#19d3f3",
           "#FF6692",
           "#B6E880",
           "#FF97FF",
           "#FECB52"
          ],
          "font": {
           "color": "#2a3f5f"
          },
          "geo": {
           "bgcolor": "white",
           "lakecolor": "white",
           "landcolor": "#E5ECF6",
           "showlakes": true,
           "showland": true,
           "subunitcolor": "white"
          },
          "hoverlabel": {
           "align": "left"
          },
          "hovermode": "closest",
          "mapbox": {
           "style": "light"
          },
          "paper_bgcolor": "white",
          "plot_bgcolor": "#E5ECF6",
          "polar": {
           "angularaxis": {
            "gridcolor": "white",
            "linecolor": "white",
            "ticks": ""
           },
           "bgcolor": "#E5ECF6",
           "radialaxis": {
            "gridcolor": "white",
            "linecolor": "white",
            "ticks": ""
           }
          },
          "scene": {
           "xaxis": {
            "backgroundcolor": "#E5ECF6",
            "gridcolor": "white",
            "gridwidth": 2,
            "linecolor": "white",
            "showbackground": true,
            "ticks": "",
            "zerolinecolor": "white"
           },
           "yaxis": {
            "backgroundcolor": "#E5ECF6",
            "gridcolor": "white",
            "gridwidth": 2,
            "linecolor": "white",
            "showbackground": true,
            "ticks": "",
            "zerolinecolor": "white"
           },
           "zaxis": {
            "backgroundcolor": "#E5ECF6",
            "gridcolor": "white",
            "gridwidth": 2,
            "linecolor": "white",
            "showbackground": true,
            "ticks": "",
            "zerolinecolor": "white"
           }
          },
          "shapedefaults": {
           "line": {
            "color": "#2a3f5f"
           }
          },
          "ternary": {
           "aaxis": {
            "gridcolor": "white",
            "linecolor": "white",
            "ticks": ""
           },
           "baxis": {
            "gridcolor": "white",
            "linecolor": "white",
            "ticks": ""
           },
           "bgcolor": "#E5ECF6",
           "caxis": {
            "gridcolor": "white",
            "linecolor": "white",
            "ticks": ""
           }
          },
          "title": {
           "x": 0.05
          },
          "xaxis": {
           "automargin": true,
           "gridcolor": "white",
           "linecolor": "white",
           "ticks": "",
           "title": {
            "standoff": 15
           },
           "zerolinecolor": "white",
           "zerolinewidth": 2
          },
          "yaxis": {
           "automargin": true,
           "gridcolor": "white",
           "linecolor": "white",
           "ticks": "",
           "title": {
            "standoff": 15
           },
           "zerolinecolor": "white",
           "zerolinewidth": 2
          }
         }
        },
        "title": {
         "text": "Gráfico de Barras Interativo"
        },
        "xaxis": {
         "title": {
          "text": "Palavras"
         }
        },
        "yaxis": {
         "title": {
          "text": "Frequência"
         }
        }
       }
      }
     },
     "metadata": {},
     "output_type": "display_data"
    }
   ],
   "source": [
    "import matplotlib.pyplot as plt\n",
    "\n",
    "\n",
    "import plotly.graph_objects as go\n",
    "\n",
    "\n",
    "frequencias = df[\"keywords\"].iloc[0]\n",
    "\n",
    "frequencias = {k: v for k, v in frequencias.items() if v > 55}#in set(range(50, 1500))} #max e min pode ser tendo em conta qty de noticias\n",
    "\n",
    "palavras = list(frequencias.keys())\n",
    "valores = list(frequencias.values())\n",
    "\n",
    "# Criar gráfico de barras\n",
    "fig = go.Figure(data=[go.Bar(x=palavras, y=valores)])\n",
    "\n",
    "fig.update_layout(\n",
    "    title='Gráfico de Barras Interativo',\n",
    "    xaxis_title='Palavras',\n",
    "    yaxis_title='Frequência',\n",
    ")\n",
    "\n",
    "fig.show()\n"
   ]
  },
  {
   "cell_type": "code",
   "execution_count": 11,
   "metadata": {},
   "outputs": [
    {
     "data": {
      "text/plain": [
       "(56, 2129, np.float64(153.59654178674353), np.float64(91.0), 347, 347)"
      ]
     },
     "execution_count": 11,
     "metadata": {},
     "output_type": "execute_result"
    }
   ],
   "source": [
    "import numpy as np\n",
    "\n",
    "min_val = min(set(frequencias.values()))\n",
    "max_val = max(set(frequencias.values()))\n",
    "mean_val = np.mean(list(frequencias.values()))\n",
    "median_val = np.median(list(frequencias.values()))\n",
    "count_val = np.count_nonzero(np.array(list(frequencias.values())) > 10)\n",
    "\n",
    "min_val, max_val, mean_val, median_val, count_val, len(set(list(frequencias.keys())))\n"
   ]
  },
  {
   "cell_type": "code",
   "execution_count": 12,
   "metadata": {},
   "outputs": [],
   "source": [
    "#list(frequencias.keys())"
   ]
  },
  {
   "cell_type": "code",
   "execution_count": 50,
   "metadata": {},
   "outputs": [
    {
     "name": "stderr",
     "output_type": "stream",
     "text": [
      "[nltk_data] Downloading package punkt to /Users/hugover/nltk_data...\n",
      "[nltk_data]   Unzipping tokenizers/punkt.zip.\n"
     ]
    },
    {
     "ename": "LookupError",
     "evalue": "\n**********************************************************************\n  Resource \u001b[93mpunkt_tab\u001b[0m not found.\n  Please use the NLTK Downloader to obtain the resource:\n\n  \u001b[31m>>> import nltk\n  >>> nltk.download('punkt_tab')\n  \u001b[0m\n  For more information see: https://www.nltk.org/data.html\n\n  Attempted to load \u001b[93mtokenizers/punkt_tab/portuguese/\u001b[0m\n\n  Searched in:\n    - '/Users/hugover/nltk_data'\n    - '/opt/anaconda3/envs/fcdProj/nltk_data'\n    - '/opt/anaconda3/envs/fcdProj/share/nltk_data'\n    - '/opt/anaconda3/envs/fcdProj/lib/nltk_data'\n    - '/usr/share/nltk_data'\n    - '/usr/local/share/nltk_data'\n    - '/usr/lib/nltk_data'\n    - '/usr/local/lib/nltk_data'\n    - './nltk_data'\n**********************************************************************\n",
     "output_type": "error",
     "traceback": [
      "\u001b[0;31m---------------------------------------------------------------------------\u001b[0m",
      "\u001b[0;31mLookupError\u001b[0m                               Traceback (most recent call last)",
      "Cell \u001b[0;32mIn[50], line 61\u001b[0m\n\u001b[1;32m     58\u001b[0m resultados \u001b[38;5;241m=\u001b[39m []\n\u001b[1;32m     59\u001b[0m \u001b[38;5;28;01mfor\u001b[39;00m noticia \u001b[38;5;129;01min\u001b[39;00m df_noticias[\u001b[38;5;124m'\u001b[39m\u001b[38;5;124mnoticia\u001b[39m\u001b[38;5;124m'\u001b[39m]:\n\u001b[1;32m     60\u001b[0m     \u001b[38;5;66;03m# Dividir a notícia em frases\u001b[39;00m\n\u001b[0;32m---> 61\u001b[0m     frases \u001b[38;5;241m=\u001b[39m \u001b[43msent_tokenize\u001b[49m\u001b[43m(\u001b[49m\u001b[43mnoticia\u001b[49m\u001b[43m,\u001b[49m\u001b[43m \u001b[49m\u001b[43mlanguage\u001b[49m\u001b[38;5;241;43m=\u001b[39;49m\u001b[38;5;124;43m'\u001b[39;49m\u001b[38;5;124;43mportuguese\u001b[39;49m\u001b[38;5;124;43m'\u001b[39;49m\u001b[43m)\u001b[49m  \u001b[38;5;66;03m# Tokenizar em frases\u001b[39;00m\n\u001b[1;32m     62\u001b[0m     sentimento_total \u001b[38;5;241m=\u001b[39m \u001b[38;5;241m0\u001b[39m\n\u001b[1;32m     63\u001b[0m     \u001b[38;5;28;01mfor\u001b[39;00m frase \u001b[38;5;129;01min\u001b[39;00m frases:\n",
      "File \u001b[0;32m/opt/anaconda3/envs/fcdProj/lib/python3.10/site-packages/nltk/tokenize/__init__.py:119\u001b[0m, in \u001b[0;36msent_tokenize\u001b[0;34m(text, language)\u001b[0m\n\u001b[1;32m    109\u001b[0m \u001b[38;5;28;01mdef\u001b[39;00m \u001b[38;5;21msent_tokenize\u001b[39m(text, language\u001b[38;5;241m=\u001b[39m\u001b[38;5;124m\"\u001b[39m\u001b[38;5;124menglish\u001b[39m\u001b[38;5;124m\"\u001b[39m):\n\u001b[1;32m    110\u001b[0m \u001b[38;5;250m    \u001b[39m\u001b[38;5;124;03m\"\"\"\u001b[39;00m\n\u001b[1;32m    111\u001b[0m \u001b[38;5;124;03m    Return a sentence-tokenized copy of *text*,\u001b[39;00m\n\u001b[1;32m    112\u001b[0m \u001b[38;5;124;03m    using NLTK's recommended sentence tokenizer\u001b[39;00m\n\u001b[0;32m   (...)\u001b[0m\n\u001b[1;32m    117\u001b[0m \u001b[38;5;124;03m    :param language: the model name in the Punkt corpus\u001b[39;00m\n\u001b[1;32m    118\u001b[0m \u001b[38;5;124;03m    \"\"\"\u001b[39;00m\n\u001b[0;32m--> 119\u001b[0m     tokenizer \u001b[38;5;241m=\u001b[39m \u001b[43m_get_punkt_tokenizer\u001b[49m\u001b[43m(\u001b[49m\u001b[43mlanguage\u001b[49m\u001b[43m)\u001b[49m\n\u001b[1;32m    120\u001b[0m     \u001b[38;5;28;01mreturn\u001b[39;00m tokenizer\u001b[38;5;241m.\u001b[39mtokenize(text)\n",
      "File \u001b[0;32m/opt/anaconda3/envs/fcdProj/lib/python3.10/site-packages/nltk/tokenize/__init__.py:105\u001b[0m, in \u001b[0;36m_get_punkt_tokenizer\u001b[0;34m(language)\u001b[0m\n\u001b[1;32m     96\u001b[0m \u001b[38;5;129m@functools\u001b[39m\u001b[38;5;241m.\u001b[39mlru_cache\n\u001b[1;32m     97\u001b[0m \u001b[38;5;28;01mdef\u001b[39;00m \u001b[38;5;21m_get_punkt_tokenizer\u001b[39m(language\u001b[38;5;241m=\u001b[39m\u001b[38;5;124m\"\u001b[39m\u001b[38;5;124menglish\u001b[39m\u001b[38;5;124m\"\u001b[39m):\n\u001b[1;32m     98\u001b[0m \u001b[38;5;250m    \u001b[39m\u001b[38;5;124;03m\"\"\"\u001b[39;00m\n\u001b[1;32m     99\u001b[0m \u001b[38;5;124;03m    A constructor for the PunktTokenizer that utilizes\u001b[39;00m\n\u001b[1;32m    100\u001b[0m \u001b[38;5;124;03m    a lru cache for performance.\u001b[39;00m\n\u001b[0;32m   (...)\u001b[0m\n\u001b[1;32m    103\u001b[0m \u001b[38;5;124;03m    :type language: str\u001b[39;00m\n\u001b[1;32m    104\u001b[0m \u001b[38;5;124;03m    \"\"\"\u001b[39;00m\n\u001b[0;32m--> 105\u001b[0m     \u001b[38;5;28;01mreturn\u001b[39;00m \u001b[43mPunktTokenizer\u001b[49m\u001b[43m(\u001b[49m\u001b[43mlanguage\u001b[49m\u001b[43m)\u001b[49m\n",
      "File \u001b[0;32m/opt/anaconda3/envs/fcdProj/lib/python3.10/site-packages/nltk/tokenize/punkt.py:1744\u001b[0m, in \u001b[0;36mPunktTokenizer.__init__\u001b[0;34m(self, lang)\u001b[0m\n\u001b[1;32m   1742\u001b[0m \u001b[38;5;28;01mdef\u001b[39;00m \u001b[38;5;21m__init__\u001b[39m(\u001b[38;5;28mself\u001b[39m, lang\u001b[38;5;241m=\u001b[39m\u001b[38;5;124m\"\u001b[39m\u001b[38;5;124menglish\u001b[39m\u001b[38;5;124m\"\u001b[39m):\n\u001b[1;32m   1743\u001b[0m     PunktSentenceTokenizer\u001b[38;5;241m.\u001b[39m\u001b[38;5;21m__init__\u001b[39m(\u001b[38;5;28mself\u001b[39m)\n\u001b[0;32m-> 1744\u001b[0m     \u001b[38;5;28;43mself\u001b[39;49m\u001b[38;5;241;43m.\u001b[39;49m\u001b[43mload_lang\u001b[49m\u001b[43m(\u001b[49m\u001b[43mlang\u001b[49m\u001b[43m)\u001b[49m\n",
      "File \u001b[0;32m/opt/anaconda3/envs/fcdProj/lib/python3.10/site-packages/nltk/tokenize/punkt.py:1749\u001b[0m, in \u001b[0;36mPunktTokenizer.load_lang\u001b[0;34m(self, lang)\u001b[0m\n\u001b[1;32m   1746\u001b[0m \u001b[38;5;28;01mdef\u001b[39;00m \u001b[38;5;21mload_lang\u001b[39m(\u001b[38;5;28mself\u001b[39m, lang\u001b[38;5;241m=\u001b[39m\u001b[38;5;124m\"\u001b[39m\u001b[38;5;124menglish\u001b[39m\u001b[38;5;124m\"\u001b[39m):\n\u001b[1;32m   1747\u001b[0m     \u001b[38;5;28;01mfrom\u001b[39;00m \u001b[38;5;21;01mnltk\u001b[39;00m\u001b[38;5;21;01m.\u001b[39;00m\u001b[38;5;21;01mdata\u001b[39;00m \u001b[38;5;28;01mimport\u001b[39;00m find\n\u001b[0;32m-> 1749\u001b[0m     lang_dir \u001b[38;5;241m=\u001b[39m \u001b[43mfind\u001b[49m\u001b[43m(\u001b[49m\u001b[38;5;124;43mf\u001b[39;49m\u001b[38;5;124;43m\"\u001b[39;49m\u001b[38;5;124;43mtokenizers/punkt_tab/\u001b[39;49m\u001b[38;5;132;43;01m{\u001b[39;49;00m\u001b[43mlang\u001b[49m\u001b[38;5;132;43;01m}\u001b[39;49;00m\u001b[38;5;124;43m/\u001b[39;49m\u001b[38;5;124;43m\"\u001b[39;49m\u001b[43m)\u001b[49m\n\u001b[1;32m   1750\u001b[0m     \u001b[38;5;28mself\u001b[39m\u001b[38;5;241m.\u001b[39m_params \u001b[38;5;241m=\u001b[39m load_punkt_params(lang_dir)\n\u001b[1;32m   1751\u001b[0m     \u001b[38;5;28mself\u001b[39m\u001b[38;5;241m.\u001b[39m_lang \u001b[38;5;241m=\u001b[39m lang\n",
      "File \u001b[0;32m/opt/anaconda3/envs/fcdProj/lib/python3.10/site-packages/nltk/data.py:579\u001b[0m, in \u001b[0;36mfind\u001b[0;34m(resource_name, paths)\u001b[0m\n\u001b[1;32m    577\u001b[0m sep \u001b[38;5;241m=\u001b[39m \u001b[38;5;124m\"\u001b[39m\u001b[38;5;124m*\u001b[39m\u001b[38;5;124m\"\u001b[39m \u001b[38;5;241m*\u001b[39m \u001b[38;5;241m70\u001b[39m\n\u001b[1;32m    578\u001b[0m resource_not_found \u001b[38;5;241m=\u001b[39m \u001b[38;5;124mf\u001b[39m\u001b[38;5;124m\"\u001b[39m\u001b[38;5;130;01m\\n\u001b[39;00m\u001b[38;5;132;01m{\u001b[39;00msep\u001b[38;5;132;01m}\u001b[39;00m\u001b[38;5;130;01m\\n\u001b[39;00m\u001b[38;5;132;01m{\u001b[39;00mmsg\u001b[38;5;132;01m}\u001b[39;00m\u001b[38;5;130;01m\\n\u001b[39;00m\u001b[38;5;132;01m{\u001b[39;00msep\u001b[38;5;132;01m}\u001b[39;00m\u001b[38;5;130;01m\\n\u001b[39;00m\u001b[38;5;124m\"\u001b[39m\n\u001b[0;32m--> 579\u001b[0m \u001b[38;5;28;01mraise\u001b[39;00m \u001b[38;5;167;01mLookupError\u001b[39;00m(resource_not_found)\n",
      "\u001b[0;31mLookupError\u001b[0m: \n**********************************************************************\n  Resource \u001b[93mpunkt_tab\u001b[0m not found.\n  Please use the NLTK Downloader to obtain the resource:\n\n  \u001b[31m>>> import nltk\n  >>> nltk.download('punkt_tab')\n  \u001b[0m\n  For more information see: https://www.nltk.org/data.html\n\n  Attempted to load \u001b[93mtokenizers/punkt_tab/portuguese/\u001b[0m\n\n  Searched in:\n    - '/Users/hugover/nltk_data'\n    - '/opt/anaconda3/envs/fcdProj/nltk_data'\n    - '/opt/anaconda3/envs/fcdProj/share/nltk_data'\n    - '/opt/anaconda3/envs/fcdProj/lib/nltk_data'\n    - '/usr/share/nltk_data'\n    - '/usr/local/share/nltk_data'\n    - '/usr/lib/nltk_data'\n    - '/usr/local/lib/nltk_data'\n    - './nltk_data'\n**********************************************************************\n"
     ]
    }
   ],
   "source": [
    "import pandas as pd\n",
    "from vaderSentiment.vaderSentiment import SentimentIntensityAnalyzer\n",
    "import re\n",
    "import nltk\n",
    "from nltk import sent_tokenize\n",
    "\n",
    "# Baixar o modelo Punkt se ainda não o fez\n",
    "nltk.download('punkt')\n",
    "\n",
    "# 1. Coletar as Notícias Longas\n",
    "noticias_longas = [\n",
    "    \"\"\"\n",
    "    O mercado de ações teve um aumento significativo hoje, com o índice subindo 3% após a divulgação de resultados financeiros positivos. \n",
    "    Analistas apontam que a confiança do consumidor está aumentando, o que pode levar a um ciclo de crescimento econômico. \n",
    "    Entretanto, alguns investidores permanecem cautelosos devido à incerteza política.\n",
    "    \"\"\",\n",
    "    \"\"\"\n",
    "    As chuvas torrenciais causaram inundações em várias cidades do país, resultando em danos significativos à infraestrutura. \n",
    "    As autoridades estão mobilizando recursos para ajudar as comunidades afetadas, mas muitos estão preocupados com a frequência \n",
    "    dessas catástrofes climáticas, que parecem estar aumentando nos últimos anos.\n",
    "    \"\"\",\n",
    "    \"\"\"\n",
    "    A nova tecnologia de inteligência artificial desenvolvida por uma startup local promete revolucionar a maneira como interagimos \n",
    "    com dispositivos eletrônicos. Especialistas acreditam que isso pode abrir novas oportunidades no mercado de trabalho, mas também \n",
    "    levantam questões éticas sobre a automação e o impacto no emprego.\n",
    "    \"\"\",\n",
    "    \"\"\"\n",
    "    Os conflitos continuam a aumentar em várias regiões do mundo, com a escalada de tensões entre países vizinhos e a crise de \n",
    "    refugiados se intensificando. Organizações internacionais estão pedindo um diálogo pacífico, mas a situação permanece tensa e \n",
    "    incerta.\n",
    "    \"\"\",\n",
    "    \"\"\"\n",
    "    A inflação está afetando o poder de compra da população, levando a um aumento no custo de vida. Consumidores estão sentindo \n",
    "    o impacto nos preços dos alimentos e serviços, enquanto os economistas alertam que isso pode levar a uma desaceleração \n",
    "    econômica se não for controlado rapidamente.\n",
    "    \"\"\"\n",
    "]\n",
    "\n",
    "# 2. Criar um DataFrame\n",
    "df_noticias = pd.DataFrame(noticias_longas, columns=[\"noticia\"])\n",
    "\n",
    "# 3. Função para Pré-processamento de Texto\n",
    "def preprocessar_texto(texto):\n",
    "    texto = re.sub(r\"http\\S+|www\\S+|https\\S+\", '', texto, flags=re.MULTILINE)  # Remover links\n",
    "    texto = re.sub(r'\\@\\w+|\\#','', texto)  # Remover menções e hashtags\n",
    "    texto = re.sub(r'[^\\w\\s]', '', texto)  # Remover pontuação\n",
    "    texto = texto.lower()  # Transformar em minúsculas\n",
    "    return texto\n",
    "\n",
    "# 4. Análise de Sentimentos com VADER\n",
    "analyzer = SentimentIntensityAnalyzer()\n",
    "\n",
    "def analisar_sentimento_vader(texto):\n",
    "    scores = analyzer.polarity_scores(texto)\n",
    "    return scores['compound']  # Retorna o valor composto\n",
    "\n",
    "# 5. Pré-processar e Analisar Sentimentos\n",
    "resultados = []\n",
    "for noticia in df_noticias['noticia']:\n",
    "    # Dividir a notícia em frases\n",
    "    frases = sent_tokenize(noticia, language='portuguese')  # Tokenizar em frases\n",
    "    sentimento_total = 0\n",
    "    for frase in frases:\n",
    "        frase_processada = preprocessar_texto(frase)\n",
    "        sentimento_total += analisar_sentimento_vader(frase_processada)\n",
    "    # Calcular a média dos sentimentos das frases\n",
    "    media_sentimento = sentimento_total / len(frases)\n",
    "    resultados.append(media_sentimento)\n",
    "\n",
    "# 6. Adicionar os resultados ao DataFrame\n",
    "df_noticias['sentimento'] = resultados\n",
    "\n",
    "# 7. Visualizar os Resultados\n",
    "print(df_noticias[['noticia', 'sentimento']])\n"
   ]
  },
  {
   "cell_type": "code",
   "execution_count": null,
   "metadata": {},
   "outputs": [],
   "source": []
  }
 ],
 "metadata": {
  "kernelspec": {
   "display_name": "fcdProj",
   "language": "python",
   "name": "python3"
  },
  "language_info": {
   "codemirror_mode": {
    "name": "ipython",
    "version": 3
   },
   "file_extension": ".py",
   "mimetype": "text/x-python",
   "name": "python",
   "nbconvert_exporter": "python",
   "pygments_lexer": "ipython3",
   "version": "3.10.15"
  }
 },
 "nbformat": 4,
 "nbformat_minor": 2
}
