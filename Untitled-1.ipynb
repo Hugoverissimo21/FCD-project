{
 "cells": [
  {
   "cell_type": "markdown",
   "metadata": {},
   "source": [
    "**todo**\n",
    "\n",
    "- analise sentimento\n",
    "\n",
    "- ner + conceitos\n",
    "\n",
    "- tentar newsVSprice de novo, agora com menos noticias\n",
    "\n",
    "- qty de noticias por newsSource"
   ]
  },
  {
   "cell_type": "markdown",
   "metadata": {},
   "source": [
    "# tentar fazer analise NER aos dados"
   ]
  },
  {
   "cell_type": "code",
   "execution_count": 9,
   "metadata": {},
   "outputs": [
    {
     "data": {
      "text/plain": [
       "{'ExtractedText': 'DN \\xa0 12 de Setembro de 2001 Madrid decide \"em breve\" sobre EDP na Cantábrico Madrid irá tomar \"em breve\" a decisão sobre os direitos de voto da EDP na companhia eléctrica Hidrocantábrico. A revelação foi ontem feita, em Lisboa pelo secretário de Estado da Energia espanhol, José Folgado, à saída de um encontro com o secretário de Estado Adjunto do ministro da Economia, Oliveira Fernandes. O responsável espanhol não elucidou, no entanto, o prazo para a tomada de decisão, tendo dado ênfase à realização do mercado ibérico da energia, em particular na electricidade. José Folgado referiu mesmo em relação ao caso da EDP - com direitos suspensos desde Maio - que Madrid não está sujeita a qualquer data, acrescentando, contudo, que o encontro de ontem constituiu \"um pilar determinante\" para a resolução da questão. José Folgado negou que Madrid tivesse condicionado a decisão ao reforço da espanhola Iberdrola no capital da EDP. \"O Governo espanhol apresenta um modelo, não uma determinada empresa em concreto\", apontou. Contactada pelo DN, a porta-voz do Ministério da Economia português escusou quaisquer comentários da parte portuguesa. Copyright © 1995,2001 Diário de Notícias, SA Todos os direitos reservados webmaster@DnOnline',\n",
       " 'linkToArchive': 'https://arquivo.pt/wayback/20010913000820/http://www.dn.pt/eco/12p35b.htm',\n",
       " 'newsProbability': 0.625,\n",
       " 'newsSource': 'Diário de Notícias',\n",
       " 'tstamp': '200109',\n",
       " 'newsEntities': {'ORG': ['DN',\n",
       "   'EDP',\n",
       "   'Cantábrico Madrid',\n",
       "   'EDP',\n",
       "   'EDP',\n",
       "   'EDP',\n",
       "   'DN',\n",
       "   'SA'],\n",
       "  'LOC': ['Madrid',\n",
       "   'Lisboa',\n",
       "   'Estado da Energia',\n",
       "   'Estado Adjunto',\n",
       "   'Maio',\n",
       "   'Madrid',\n",
       "   'Madrid',\n",
       "   'Iberdrola',\n",
       "   'Governo espanhol'],\n",
       "  'PER': ['Hidrocantábrico',\n",
       "   'José Folgado',\n",
       "   'Oliveira Fernandes',\n",
       "   'José Folgado',\n",
       "   'José Folgado',\n",
       "   'Copyright ©'],\n",
       "  'MISC': ['Economia',\n",
       "   'Ministério da Economia',\n",
       "   'Diário de Notícias',\n",
       "   'webmaster@DnOnline']},\n",
       " 'newsKeywords': ['decisão',\n",
       "  'direitos',\n",
       "  'voto',\n",
       "  'companhia',\n",
       "  'revelação',\n",
       "  'secretário',\n",
       "  'saída',\n",
       "  'encontro',\n",
       "  'secretário',\n",
       "  'ministro',\n",
       "  'responsável',\n",
       "  'entanto',\n",
       "  'prazo',\n",
       "  'tomada',\n",
       "  'decisão',\n",
       "  'ênfase',\n",
       "  'realização',\n",
       "  'mercado',\n",
       "  'energia',\n",
       "  'electricidade',\n",
       "  'caso',\n",
       "  'direitos',\n",
       "  'data',\n",
       "  'encontro',\n",
       "  'pilar',\n",
       "  'resolução',\n",
       "  'decisão',\n",
       "  'reforço',\n",
       "  'espanhola',\n",
       "  'capital',\n",
       "  'modelo',\n",
       "  'empresa',\n",
       "  'concreto',\n",
       "  'comentários',\n",
       "  'direitos']}"
      ]
     },
     "execution_count": 9,
     "metadata": {},
     "output_type": "execute_result"
    }
   ],
   "source": [
    "import pandas as pd\n",
    "import spacy\n",
    "\n",
    "df = pd.read_parquet(\"data04.parquet\")\n",
    "\n",
    "# Load the Portuguese model\n",
    "nlp = spacy.load(\"pt_core_news_sm\")\n",
    "\n",
    "\n",
    "dict = df.iloc[2,1][3]\n",
    "\n",
    "def NER_KEYWORDS(dict):\n",
    "    # Process the text\n",
    "    text = dict[\"ExtractedText\"]\n",
    "    doc = nlp(text)\n",
    "\n",
    "    meses = {\"janeiro\", \"fevereiro\", \"março\", \"abril\", \"maio\", \"junho\",\n",
    "             \"julho\", \"agosto\", \"setembro\", \"outubro\", \"novembro\", \"dezembro\"}\n",
    "    dias_da_semana = {\"segunda-feira\", \"terça-feira\", \"quarta-feira\",\n",
    "                      \"quinta-feira\", \"sexta-feira\", \"sábado\", \"domingo\", \"fim-de-semana\"}\n",
    "    # Extract named entities and filter keywords\n",
    "    named_entities = [(ent.text, ent.label_) for ent in doc.ents]\n",
    "    palavras_significativas = [\n",
    "        token.text for token in doc \n",
    "        if token.pos_ in {\"NOUN\"} # {\"NOUN\", \"VERB\", \"PROPN\"} \n",
    "        and not token.is_stop\n",
    "        and (token.text.islower() or token.text.isupper())\n",
    "        and token.text not in meses \n",
    "        and token.text not in dias_da_semana\n",
    "        and token.text.isalnum()\n",
    "        and len(token.text) > 3\n",
    "    ]\n",
    "\n",
    "\n",
    "    organized_entities = {}\n",
    "    for entity, category in named_entities:\n",
    "        if category not in organized_entities:\n",
    "            organized_entities[category] = [entity]\n",
    "        else:\n",
    "            organized_entities[category].append(entity)\n",
    " \n",
    "    dict[\"newsEntities\"] = organized_entities\n",
    "    dict[\"newsKeywords\"] =  palavras_significativas\n",
    "    return dict\n",
    "\n",
    "NER_KEYWORDS(dict)\n"
   ]
  },
  {
   "cell_type": "code",
   "execution_count": 10,
   "metadata": {},
   "outputs": [],
   "source": [
    "def procCol(list):\n",
    "    for i in range(len(list)):\n",
    "        list[i] = NER_KEYWORDS(list[i])\n",
    "    return list\n",
    "\n",
    "df[\"news\"] = df[\"news\"].map(procCol)"
   ]
  },
  {
   "cell_type": "code",
   "execution_count": 11,
   "metadata": {},
   "outputs": [
    {
     "data": {
      "text/html": [
       "<div>\n",
       "<style scoped>\n",
       "    .dataframe tbody tr th:only-of-type {\n",
       "        vertical-align: middle;\n",
       "    }\n",
       "\n",
       "    .dataframe tbody tr th {\n",
       "        vertical-align: top;\n",
       "    }\n",
       "\n",
       "    .dataframe thead th {\n",
       "        text-align: right;\n",
       "    }\n",
       "</style>\n",
       "<table border=\"1\" class=\"dataframe\">\n",
       "  <thead>\n",
       "    <tr style=\"text-align: right;\">\n",
       "      <th></th>\n",
       "      <th>aliases</th>\n",
       "      <th>news</th>\n",
       "      <th>keywords</th>\n",
       "    </tr>\n",
       "    <tr>\n",
       "      <th>companies</th>\n",
       "      <th></th>\n",
       "      <th></th>\n",
       "      <th></th>\n",
       "    </tr>\n",
       "  </thead>\n",
       "  <tbody>\n",
       "    <tr>\n",
       "      <th>Banco Comercial Português</th>\n",
       "      <td>[Banco Comercial Português, BCP]</td>\n",
       "      <td>[{'ExtractedText': 'DN   13 de Setembro de 200...</td>\n",
       "      <td>{'refúgio': 4, 'instalações': 19, 'pessoas': 2...</td>\n",
       "    </tr>\n",
       "    <tr>\n",
       "      <th>Galp Energia</th>\n",
       "      <td>[Galp Energia, GALP]</td>\n",
       "      <td>[{'ExtractedText': 'RTP Galp reforça posição n...</td>\n",
       "      <td>{'mercado': 577, 'acordo': 394, 'compra': 404,...</td>\n",
       "    </tr>\n",
       "    <tr>\n",
       "      <th>EDP</th>\n",
       "      <td>[EDP, Energias de Portugal, Electricidade de P...</td>\n",
       "      <td>[{'ExtractedText': 'DN-Sinteses Negocios 9 de ...</td>\n",
       "      <td>{'ELECTRICIDADE': 1, 'fase': 81, 'venda': 285,...</td>\n",
       "    </tr>\n",
       "    <tr>\n",
       "      <th>Sonae</th>\n",
       "      <td>[Sonae, SON]</td>\n",
       "      <td>[{'ExtractedText': 'DN-Sinteses 5 de Março de ...</td>\n",
       "      <td>{'sócio': 4, 'pormenores': 3, 'aliança': 6, 'e...</td>\n",
       "    </tr>\n",
       "    <tr>\n",
       "      <th>Mota-Engil</th>\n",
       "      <td>[Mota-Engil, EGL]</td>\n",
       "      <td>[{'ExtractedText': 'RTP Lucro da Mota-Engil so...</td>\n",
       "      <td>{'semestre': 75, 'lucro': 30, 'período': 94, '...</td>\n",
       "    </tr>\n",
       "  </tbody>\n",
       "</table>\n",
       "</div>"
      ],
      "text/plain": [
       "                                                                     aliases  \\\n",
       "companies                                                                      \n",
       "Banco Comercial Português                   [Banco Comercial Português, BCP]   \n",
       "Galp Energia                                            [Galp Energia, GALP]   \n",
       "EDP                        [EDP, Energias de Portugal, Electricidade de P...   \n",
       "Sonae                                                           [Sonae, SON]   \n",
       "Mota-Engil                                                 [Mota-Engil, EGL]   \n",
       "\n",
       "                                                                        news  \\\n",
       "companies                                                                      \n",
       "Banco Comercial Português  [{'ExtractedText': 'DN   13 de Setembro de 200...   \n",
       "Galp Energia               [{'ExtractedText': 'RTP Galp reforça posição n...   \n",
       "EDP                        [{'ExtractedText': 'DN-Sinteses Negocios 9 de ...   \n",
       "Sonae                      [{'ExtractedText': 'DN-Sinteses 5 de Março de ...   \n",
       "Mota-Engil                 [{'ExtractedText': 'RTP Lucro da Mota-Engil so...   \n",
       "\n",
       "                                                                    keywords  \n",
       "companies                                                                     \n",
       "Banco Comercial Português  {'refúgio': 4, 'instalações': 19, 'pessoas': 2...  \n",
       "Galp Energia               {'mercado': 577, 'acordo': 394, 'compra': 404,...  \n",
       "EDP                        {'ELECTRICIDADE': 1, 'fase': 81, 'venda': 285,...  \n",
       "Sonae                      {'sócio': 4, 'pormenores': 3, 'aliança': 6, 'e...  \n",
       "Mota-Engil                 {'semestre': 75, 'lucro': 30, 'período': 94, '...  "
      ]
     },
     "execution_count": 11,
     "metadata": {},
     "output_type": "execute_result"
    }
   ],
   "source": [
    "def newsKeywords_merge(lista):\n",
    "    dict = {}\n",
    "    for dicionario in lista:\n",
    "        keywords = dicionario[\"newsKeywords\"]\n",
    "        for keyword in keywords:\n",
    "            if keyword not in dict:\n",
    "                dict[keyword] = 1\n",
    "            else:\n",
    "                dict[keyword] += 1\n",
    "    \n",
    "    return dict\n",
    "df[\"keywords\"] = df[\"news\"].map(newsKeywords_merge)\n",
    "df"
   ]
  },
  {
   "cell_type": "code",
   "execution_count": 25,
   "metadata": {},
   "outputs": [
    {
     "data": {
      "application/vnd.plotly.v1+json": {
       "config": {
        "plotlyServerURL": "https://plot.ly"
       },
       "data": [
        {
         "type": "bar",
         "x": [
          "pessoas",
          "funcionários",
          "trabalhadores",
          "empresa",
          "países",
          "trabalho",
          "funções",
          "questões",
          "portugueses",
          "serviço",
          "comunicado",
          "apelo",
          "país",
          "limites",
          "linha",
          "horas",
          "conferência",
          "imediato",
          "casa",
          "imprensa",
          "medidas",
          "situação",
          "agência",
          "alerta",
          "assembleia",
          "ministro",
          "reunião",
          "caso",
          "presidente",
          "instituição",
          "actividade",
          "site",
          "dias",
          "sequência",
          "notícias",
          "anos",
          "mulher",
          "direitos",
          "impostos",
          "informações",
          "clientes",
          "banco",
          "resposta",
          "impacto",
          "bolsa",
          "informação",
          "serviços",
          "mercado",
          "decisão",
          "alta",
          "mundo",
          "análise",
          "revista",
          "empresas",
          "entrada",
          "balcões",
          "administradores",
          "proposta",
          "dívida",
          "agências",
          "economia",
          "trimestre",
          "taxa",
          "accionistas",
          "projectos",
          "prazo",
          "saúde",
          "crescimento",
          "vida",
          "futuro",
          "gestores",
          "gestão",
          "responsável",
          "acesso",
          "resultado",
          "mercados",
          "responsabilidade",
          "queda",
          "perdas",
          "euros",
          "resultados",
          "lucro",
          "aumento",
          "capital",
          "fundos",
          "investidores",
          "base",
          "conhecimento",
          "hora",
          "rating",
          "acordo",
          "compra",
          "venda",
          "votação",
          "processo",
          "postos",
          "dívidas",
          "distribuição",
          "acções",
          "concessão",
          "pesquisa",
          "regras",
          "lucros",
          "preço",
          "edição",
          "risco",
          "âmbito",
          "negócios",
          "altura",
          "nome",
          "conta",
          "ordem",
          "referência",
          "público",
          "pagamento",
          "operações",
          "negociações",
          "melhoria",
          "vendas",
          "semestre",
          "índice",
          "negociação",
          "plataforma",
          "sector",
          "tendência",
          "sessão",
          "fonte",
          "ganhos",
          "evolução",
          "espaço",
          "subida",
          "período",
          "títulos",
          "crime",
          "fusão",
          "julgamento",
          "início",
          "aquisição",
          "investigação",
          "entidade",
          "causa",
          "participação",
          "sociedade",
          "pensões",
          "financiamento",
          "investimento",
          "total",
          "crédito",
          "operação",
          "administração",
          "autoridades",
          "bancos",
          "avaliação",
          "apresentação",
          "governo",
          "seguida",
          "interesse",
          "banca",
          "activos",
          "fundador",
          "quadro",
          "guerra",
          "contrato",
          "prisão",
          "descida",
          "destaque",
          "sentido",
          "plano",
          "reestruturação",
          "semana",
          "metade",
          "leitores",
          "qualidade",
          "página",
          "nota",
          "dados",
          "instituições",
          "acção",
          "termos",
          "negócio",
          "media",
          "direito",
          "propósito",
          "reforço",
          "condições",
          "trabalhos",
          "email",
          "música",
          "opinião",
          "estrutura",
          "equipa",
          "controlo",
          "CMVM",
          "votos",
          "voto",
          "ONLINE",
          "crise",
          "entrevista",
          "morte",
          "artigo",
          "contas",
          "exercício",
          "custos",
          "participações",
          "reformas",
          "processos",
          "comentários",
          "escola",
          "programa",
          "habitação",
          "accionista",
          "petrolífera",
          "solução",
          "comissão",
          "créditos",
          "factos",
          "supervisor",
          "aumentos",
          "notícia",
          "reportagens",
          "documentos",
          "tribunal",
          "indemnização",
          "empréstimos",
          "recurso",
          "tribunais",
          "artigos",
          "visita",
          "semanas",
          "obrigações",
          "emissão",
          "assinatura",
          "jornal",
          "corte",
          "login",
          "oferta",
          "limite",
          "salário",
          "emprego",
          "violência",
          "líder",
          "mãos",
          "redução",
          "casos",
          "desporto",
          "carta",
          "intenção",
          "minutos",
          "autores",
          "comentário",
          "anónimo",
          "segundos",
          "utilizador",
          "password",
          "voos",
          "liberdade",
          "campanha",
          "expressão",
          "filhos",
          "dinheiro",
          "ajuda",
          "prejuízo",
          "salários",
          "dúvidas",
          "greve",
          "professores",
          "porta",
          "exposição",
          "presença",
          "conteúdos",
          "notação",
          "depósitos",
          "rácio",
          "défice",
          "excelência",
          "empresário",
          "juiz",
          "inquéritos",
          "publicação",
          "cenário",
          "taxas",
          "futebol",
          "margem",
          "comissões",
          "administrador",
          "desemprego",
          "data",
          "prejuízos",
          "arguidos",
          "rádio",
          "eleições",
          "opção",
          "saída",
          "imparidades",
          "marca",
          "cortes",
          "subsídio",
          "troika",
          "juros",
          "empréstimo",
          "casas",
          "rendas",
          "crianças",
          "pessoal",
          "amigos",
          "fundo",
          "vídeo",
          "reforma",
          "pagamentos",
          "testes",
          "acionistas",
          "navegação",
          "conteúdo",
          "localização",
          "caixas",
          "código",
          "modo",
          "tópicos",
          "registo",
          "rescisões",
          "assinantes",
          "campo",
          "modalidades",
          "moderador",
          "stress",
          "ASSINE",
          "MUNDO",
          "cultura",
          "débito",
          "história",
          "ações",
          "jornalismo",
          "fidelização",
          "actualidade",
          "mobile",
          "fotografias",
          "renovação",
          "videos",
          "contato",
          "chat",
          "descoberto",
          "canais",
          "correcção",
          "ação",
          "programação",
          "partilhas",
          "cookies"
         ],
         "y": [
          205,
          89,
          266,
          322,
          64,
          201,
          83,
          124,
          104,
          144,
          129,
          56,
          289,
          802,
          118,
          263,
          72,
          76,
          151,
          161,
          109,
          145,
          74,
          88,
          70,
          77,
          73,
          268,
          607,
          243,
          123,
          493,
          456,
          68,
          374,
          778,
          69,
          390,
          77,
          225,
          230,
          1821,
          305,
          99,
          140,
          284,
          94,
          303,
          199,
          77,
          311,
          64,
          66,
          243,
          171,
          58,
          73,
          248,
          387,
          57,
          166,
          163,
          73,
          190,
          61,
          111,
          67,
          75,
          131,
          59,
          95,
          187,
          57,
          188,
          175,
          88,
          100,
          161,
          129,
          2129,
          298,
          118,
          345,
          825,
          105,
          198,
          103,
          78,
          121,
          200,
          322,
          227,
          286,
          81,
          377,
          64,
          109,
          59,
          355,
          130,
          79,
          183,
          321,
          66,
          81,
          184,
          67,
          67,
          97,
          126,
          484,
          60,
          91,
          67,
          187,
          125,
          96,
          80,
          76,
          161,
          81,
          68,
          104,
          88,
          56,
          653,
          290,
          75,
          81,
          67,
          101,
          220,
          168,
          99,
          212,
          95,
          132,
          59,
          74,
          60,
          120,
          229,
          80,
          135,
          121,
          179,
          60,
          341,
          231,
          231,
          121,
          529,
          68,
          96,
          73,
          78,
          73,
          211,
          81,
          87,
          78,
          73,
          77,
          71,
          61,
          200,
          56,
          203,
          90,
          156,
          63,
          201,
          211,
          57,
          138,
          237,
          120,
          73,
          96,
          100,
          85,
          168,
          99,
          83,
          112,
          131,
          384,
          129,
          123,
          56,
          68,
          69,
          71,
          67,
          78,
          91,
          156,
          68,
          71,
          821,
          280,
          103,
          124,
          68,
          79,
          85,
          709,
          88,
          84,
          67,
          116,
          83,
          84,
          85,
          102,
          62,
          62,
          66,
          239,
          142,
          78,
          152,
          57,
          75,
          64,
          60,
          328,
          62,
          148,
          64,
          81,
          160,
          240,
          148,
          171,
          59,
          213,
          56,
          129,
          62,
          165,
          61,
          175,
          71,
          93,
          59,
          85,
          235,
          96,
          70,
          62,
          76,
          62,
          62,
          70,
          128,
          64,
          66,
          56,
          191,
          104,
          178,
          194,
          90,
          122,
          67,
          74,
          83,
          93,
          291,
          62,
          64,
          91,
          118,
          139,
          73,
          70,
          123,
          72,
          69,
          57,
          72,
          73,
          68,
          59,
          65,
          71,
          195,
          116,
          123,
          86,
          64,
          102,
          65,
          89,
          166,
          62,
          88,
          63,
          58,
          58,
          60,
          76,
          62,
          72,
          63,
          134,
          82,
          227,
          97,
          135,
          205,
          609,
          68,
          89,
          91,
          58,
          70,
          59,
          69,
          219,
          57,
          62,
          122,
          64,
          90,
          90,
          96,
          276,
          62,
          223,
          240,
          88,
          58,
          74,
          78,
          77,
          74,
          74,
          74,
          72,
          83,
          66,
          59,
          634,
          190,
          133
         ]
        }
       ],
       "layout": {
        "template": {
         "data": {
          "bar": [
           {
            "error_x": {
             "color": "#2a3f5f"
            },
            "error_y": {
             "color": "#2a3f5f"
            },
            "marker": {
             "line": {
              "color": "#E5ECF6",
              "width": 0.5
             },
             "pattern": {
              "fillmode": "overlay",
              "size": 10,
              "solidity": 0.2
             }
            },
            "type": "bar"
           }
          ],
          "barpolar": [
           {
            "marker": {
             "line": {
              "color": "#E5ECF6",
              "width": 0.5
             },
             "pattern": {
              "fillmode": "overlay",
              "size": 10,
              "solidity": 0.2
             }
            },
            "type": "barpolar"
           }
          ],
          "carpet": [
           {
            "aaxis": {
             "endlinecolor": "#2a3f5f",
             "gridcolor": "white",
             "linecolor": "white",
             "minorgridcolor": "white",
             "startlinecolor": "#2a3f5f"
            },
            "baxis": {
             "endlinecolor": "#2a3f5f",
             "gridcolor": "white",
             "linecolor": "white",
             "minorgridcolor": "white",
             "startlinecolor": "#2a3f5f"
            },
            "type": "carpet"
           }
          ],
          "choropleth": [
           {
            "colorbar": {
             "outlinewidth": 0,
             "ticks": ""
            },
            "type": "choropleth"
           }
          ],
          "contour": [
           {
            "colorbar": {
             "outlinewidth": 0,
             "ticks": ""
            },
            "colorscale": [
             [
              0,
              "#0d0887"
             ],
             [
              0.1111111111111111,
              "#46039f"
             ],
             [
              0.2222222222222222,
              "#7201a8"
             ],
             [
              0.3333333333333333,
              "#9c179e"
             ],
             [
              0.4444444444444444,
              "#bd3786"
             ],
             [
              0.5555555555555556,
              "#d8576b"
             ],
             [
              0.6666666666666666,
              "#ed7953"
             ],
             [
              0.7777777777777778,
              "#fb9f3a"
             ],
             [
              0.8888888888888888,
              "#fdca26"
             ],
             [
              1,
              "#f0f921"
             ]
            ],
            "type": "contour"
           }
          ],
          "contourcarpet": [
           {
            "colorbar": {
             "outlinewidth": 0,
             "ticks": ""
            },
            "type": "contourcarpet"
           }
          ],
          "heatmap": [
           {
            "colorbar": {
             "outlinewidth": 0,
             "ticks": ""
            },
            "colorscale": [
             [
              0,
              "#0d0887"
             ],
             [
              0.1111111111111111,
              "#46039f"
             ],
             [
              0.2222222222222222,
              "#7201a8"
             ],
             [
              0.3333333333333333,
              "#9c179e"
             ],
             [
              0.4444444444444444,
              "#bd3786"
             ],
             [
              0.5555555555555556,
              "#d8576b"
             ],
             [
              0.6666666666666666,
              "#ed7953"
             ],
             [
              0.7777777777777778,
              "#fb9f3a"
             ],
             [
              0.8888888888888888,
              "#fdca26"
             ],
             [
              1,
              "#f0f921"
             ]
            ],
            "type": "heatmap"
           }
          ],
          "heatmapgl": [
           {
            "colorbar": {
             "outlinewidth": 0,
             "ticks": ""
            },
            "colorscale": [
             [
              0,
              "#0d0887"
             ],
             [
              0.1111111111111111,
              "#46039f"
             ],
             [
              0.2222222222222222,
              "#7201a8"
             ],
             [
              0.3333333333333333,
              "#9c179e"
             ],
             [
              0.4444444444444444,
              "#bd3786"
             ],
             [
              0.5555555555555556,
              "#d8576b"
             ],
             [
              0.6666666666666666,
              "#ed7953"
             ],
             [
              0.7777777777777778,
              "#fb9f3a"
             ],
             [
              0.8888888888888888,
              "#fdca26"
             ],
             [
              1,
              "#f0f921"
             ]
            ],
            "type": "heatmapgl"
           }
          ],
          "histogram": [
           {
            "marker": {
             "pattern": {
              "fillmode": "overlay",
              "size": 10,
              "solidity": 0.2
             }
            },
            "type": "histogram"
           }
          ],
          "histogram2d": [
           {
            "colorbar": {
             "outlinewidth": 0,
             "ticks": ""
            },
            "colorscale": [
             [
              0,
              "#0d0887"
             ],
             [
              0.1111111111111111,
              "#46039f"
             ],
             [
              0.2222222222222222,
              "#7201a8"
             ],
             [
              0.3333333333333333,
              "#9c179e"
             ],
             [
              0.4444444444444444,
              "#bd3786"
             ],
             [
              0.5555555555555556,
              "#d8576b"
             ],
             [
              0.6666666666666666,
              "#ed7953"
             ],
             [
              0.7777777777777778,
              "#fb9f3a"
             ],
             [
              0.8888888888888888,
              "#fdca26"
             ],
             [
              1,
              "#f0f921"
             ]
            ],
            "type": "histogram2d"
           }
          ],
          "histogram2dcontour": [
           {
            "colorbar": {
             "outlinewidth": 0,
             "ticks": ""
            },
            "colorscale": [
             [
              0,
              "#0d0887"
             ],
             [
              0.1111111111111111,
              "#46039f"
             ],
             [
              0.2222222222222222,
              "#7201a8"
             ],
             [
              0.3333333333333333,
              "#9c179e"
             ],
             [
              0.4444444444444444,
              "#bd3786"
             ],
             [
              0.5555555555555556,
              "#d8576b"
             ],
             [
              0.6666666666666666,
              "#ed7953"
             ],
             [
              0.7777777777777778,
              "#fb9f3a"
             ],
             [
              0.8888888888888888,
              "#fdca26"
             ],
             [
              1,
              "#f0f921"
             ]
            ],
            "type": "histogram2dcontour"
           }
          ],
          "mesh3d": [
           {
            "colorbar": {
             "outlinewidth": 0,
             "ticks": ""
            },
            "type": "mesh3d"
           }
          ],
          "parcoords": [
           {
            "line": {
             "colorbar": {
              "outlinewidth": 0,
              "ticks": ""
             }
            },
            "type": "parcoords"
           }
          ],
          "pie": [
           {
            "automargin": true,
            "type": "pie"
           }
          ],
          "scatter": [
           {
            "fillpattern": {
             "fillmode": "overlay",
             "size": 10,
             "solidity": 0.2
            },
            "type": "scatter"
           }
          ],
          "scatter3d": [
           {
            "line": {
             "colorbar": {
              "outlinewidth": 0,
              "ticks": ""
             }
            },
            "marker": {
             "colorbar": {
              "outlinewidth": 0,
              "ticks": ""
             }
            },
            "type": "scatter3d"
           }
          ],
          "scattercarpet": [
           {
            "marker": {
             "colorbar": {
              "outlinewidth": 0,
              "ticks": ""
             }
            },
            "type": "scattercarpet"
           }
          ],
          "scattergeo": [
           {
            "marker": {
             "colorbar": {
              "outlinewidth": 0,
              "ticks": ""
             }
            },
            "type": "scattergeo"
           }
          ],
          "scattergl": [
           {
            "marker": {
             "colorbar": {
              "outlinewidth": 0,
              "ticks": ""
             }
            },
            "type": "scattergl"
           }
          ],
          "scattermapbox": [
           {
            "marker": {
             "colorbar": {
              "outlinewidth": 0,
              "ticks": ""
             }
            },
            "type": "scattermapbox"
           }
          ],
          "scatterpolar": [
           {
            "marker": {
             "colorbar": {
              "outlinewidth": 0,
              "ticks": ""
             }
            },
            "type": "scatterpolar"
           }
          ],
          "scatterpolargl": [
           {
            "marker": {
             "colorbar": {
              "outlinewidth": 0,
              "ticks": ""
             }
            },
            "type": "scatterpolargl"
           }
          ],
          "scatterternary": [
           {
            "marker": {
             "colorbar": {
              "outlinewidth": 0,
              "ticks": ""
             }
            },
            "type": "scatterternary"
           }
          ],
          "surface": [
           {
            "colorbar": {
             "outlinewidth": 0,
             "ticks": ""
            },
            "colorscale": [
             [
              0,
              "#0d0887"
             ],
             [
              0.1111111111111111,
              "#46039f"
             ],
             [
              0.2222222222222222,
              "#7201a8"
             ],
             [
              0.3333333333333333,
              "#9c179e"
             ],
             [
              0.4444444444444444,
              "#bd3786"
             ],
             [
              0.5555555555555556,
              "#d8576b"
             ],
             [
              0.6666666666666666,
              "#ed7953"
             ],
             [
              0.7777777777777778,
              "#fb9f3a"
             ],
             [
              0.8888888888888888,
              "#fdca26"
             ],
             [
              1,
              "#f0f921"
             ]
            ],
            "type": "surface"
           }
          ],
          "table": [
           {
            "cells": {
             "fill": {
              "color": "#EBF0F8"
             },
             "line": {
              "color": "white"
             }
            },
            "header": {
             "fill": {
              "color": "#C8D4E3"
             },
             "line": {
              "color": "white"
             }
            },
            "type": "table"
           }
          ]
         },
         "layout": {
          "annotationdefaults": {
           "arrowcolor": "#2a3f5f",
           "arrowhead": 0,
           "arrowwidth": 1
          },
          "autotypenumbers": "strict",
          "coloraxis": {
           "colorbar": {
            "outlinewidth": 0,
            "ticks": ""
           }
          },
          "colorscale": {
           "diverging": [
            [
             0,
             "#8e0152"
            ],
            [
             0.1,
             "#c51b7d"
            ],
            [
             0.2,
             "#de77ae"
            ],
            [
             0.3,
             "#f1b6da"
            ],
            [
             0.4,
             "#fde0ef"
            ],
            [
             0.5,
             "#f7f7f7"
            ],
            [
             0.6,
             "#e6f5d0"
            ],
            [
             0.7,
             "#b8e186"
            ],
            [
             0.8,
             "#7fbc41"
            ],
            [
             0.9,
             "#4d9221"
            ],
            [
             1,
             "#276419"
            ]
           ],
           "sequential": [
            [
             0,
             "#0d0887"
            ],
            [
             0.1111111111111111,
             "#46039f"
            ],
            [
             0.2222222222222222,
             "#7201a8"
            ],
            [
             0.3333333333333333,
             "#9c179e"
            ],
            [
             0.4444444444444444,
             "#bd3786"
            ],
            [
             0.5555555555555556,
             "#d8576b"
            ],
            [
             0.6666666666666666,
             "#ed7953"
            ],
            [
             0.7777777777777778,
             "#fb9f3a"
            ],
            [
             0.8888888888888888,
             "#fdca26"
            ],
            [
             1,
             "#f0f921"
            ]
           ],
           "sequentialminus": [
            [
             0,
             "#0d0887"
            ],
            [
             0.1111111111111111,
             "#46039f"
            ],
            [
             0.2222222222222222,
             "#7201a8"
            ],
            [
             0.3333333333333333,
             "#9c179e"
            ],
            [
             0.4444444444444444,
             "#bd3786"
            ],
            [
             0.5555555555555556,
             "#d8576b"
            ],
            [
             0.6666666666666666,
             "#ed7953"
            ],
            [
             0.7777777777777778,
             "#fb9f3a"
            ],
            [
             0.8888888888888888,
             "#fdca26"
            ],
            [
             1,
             "#f0f921"
            ]
           ]
          },
          "colorway": [
           "#636efa",
           "#EF553B",
           "#00cc96",
           "#ab63fa",
           "#FFA15A",
           "#19d3f3",
           "#FF6692",
           "#B6E880",
           "#FF97FF",
           "#FECB52"
          ],
          "font": {
           "color": "#2a3f5f"
          },
          "geo": {
           "bgcolor": "white",
           "lakecolor": "white",
           "landcolor": "#E5ECF6",
           "showlakes": true,
           "showland": true,
           "subunitcolor": "white"
          },
          "hoverlabel": {
           "align": "left"
          },
          "hovermode": "closest",
          "mapbox": {
           "style": "light"
          },
          "paper_bgcolor": "white",
          "plot_bgcolor": "#E5ECF6",
          "polar": {
           "angularaxis": {
            "gridcolor": "white",
            "linecolor": "white",
            "ticks": ""
           },
           "bgcolor": "#E5ECF6",
           "radialaxis": {
            "gridcolor": "white",
            "linecolor": "white",
            "ticks": ""
           }
          },
          "scene": {
           "xaxis": {
            "backgroundcolor": "#E5ECF6",
            "gridcolor": "white",
            "gridwidth": 2,
            "linecolor": "white",
            "showbackground": true,
            "ticks": "",
            "zerolinecolor": "white"
           },
           "yaxis": {
            "backgroundcolor": "#E5ECF6",
            "gridcolor": "white",
            "gridwidth": 2,
            "linecolor": "white",
            "showbackground": true,
            "ticks": "",
            "zerolinecolor": "white"
           },
           "zaxis": {
            "backgroundcolor": "#E5ECF6",
            "gridcolor": "white",
            "gridwidth": 2,
            "linecolor": "white",
            "showbackground": true,
            "ticks": "",
            "zerolinecolor": "white"
           }
          },
          "shapedefaults": {
           "line": {
            "color": "#2a3f5f"
           }
          },
          "ternary": {
           "aaxis": {
            "gridcolor": "white",
            "linecolor": "white",
            "ticks": ""
           },
           "baxis": {
            "gridcolor": "white",
            "linecolor": "white",
            "ticks": ""
           },
           "bgcolor": "#E5ECF6",
           "caxis": {
            "gridcolor": "white",
            "linecolor": "white",
            "ticks": ""
           }
          },
          "title": {
           "x": 0.05
          },
          "xaxis": {
           "automargin": true,
           "gridcolor": "white",
           "linecolor": "white",
           "ticks": "",
           "title": {
            "standoff": 15
           },
           "zerolinecolor": "white",
           "zerolinewidth": 2
          },
          "yaxis": {
           "automargin": true,
           "gridcolor": "white",
           "linecolor": "white",
           "ticks": "",
           "title": {
            "standoff": 15
           },
           "zerolinecolor": "white",
           "zerolinewidth": 2
          }
         }
        },
        "title": {
         "text": "Gráfico de Barras Interativo"
        },
        "xaxis": {
         "title": {
          "text": "Palavras"
         }
        },
        "yaxis": {
         "title": {
          "text": "Frequência"
         }
        }
       }
      }
     },
     "metadata": {},
     "output_type": "display_data"
    }
   ],
   "source": [
    "import matplotlib.pyplot as plt\n",
    "\n",
    "\n",
    "import plotly.graph_objects as go\n",
    "\n",
    "\n",
    "frequencias = df[\"keywords\"].iloc[0]\n",
    "\n",
    "frequencias = {k: v for k, v in frequencias.items() if v > 55}#in set(range(50, 1500))} #max e min pode ser tendo em conta qty de noticias\n",
    "\n",
    "palavras = list(frequencias.keys())\n",
    "valores = list(frequencias.values())\n",
    "\n",
    "# Criar gráfico de barras\n",
    "fig = go.Figure(data=[go.Bar(x=palavras, y=valores)])\n",
    "\n",
    "fig.update_layout(\n",
    "    title='Gráfico de Barras Interativo',\n",
    "    xaxis_title='Palavras',\n",
    "    yaxis_title='Frequência',\n",
    ")\n",
    "\n",
    "fig.show()\n"
   ]
  },
  {
   "cell_type": "code",
   "execution_count": 24,
   "metadata": {},
   "outputs": [
    {
     "data": {
      "text/plain": [
       "(51, 2129, np.float64(143.67012987012987), np.float64(85.0), 385, 385)"
      ]
     },
     "execution_count": 24,
     "metadata": {},
     "output_type": "execute_result"
    }
   ],
   "source": [
    "import numpy as np\n",
    "\n",
    "min_val = min(set(frequencias.values()))\n",
    "max_val = max(set(frequencias.values()))\n",
    "mean_val = np.mean(list(frequencias.values()))\n",
    "median_val = np.median(list(frequencias.values()))\n",
    "count_val = np.count_nonzero(np.array(list(frequencias.values())) > 10)\n",
    "\n",
    "min_val, max_val, mean_val, median_val, count_val, len(set(list(frequencias.keys())))\n"
   ]
  },
  {
   "cell_type": "code",
   "execution_count": 16,
   "metadata": {},
   "outputs": [
    {
     "data": {
      "text/plain": [
       "['pessoas',\n",
       " 'funcionários',\n",
       " 'trabalhadores',\n",
       " 'empresa',\n",
       " 'países',\n",
       " 'trabalho',\n",
       " 'funções',\n",
       " 'questões',\n",
       " 'portugueses',\n",
       " 'serviço',\n",
       " 'comunicado',\n",
       " 'apelo',\n",
       " 'país',\n",
       " 'limites',\n",
       " 'linha',\n",
       " 'crimes',\n",
       " 'horas',\n",
       " 'resgate',\n",
       " 'conferência',\n",
       " 'imediato',\n",
       " 'casa',\n",
       " 'imprensa',\n",
       " 'medidas',\n",
       " 'situação',\n",
       " 'agência',\n",
       " 'alerta',\n",
       " 'carros',\n",
       " 'assembleia',\n",
       " 'ministro',\n",
       " 'reunião',\n",
       " 'caso',\n",
       " 'presidente',\n",
       " 'instituição',\n",
       " 'actividade',\n",
       " 'site',\n",
       " 'dias',\n",
       " 'sequência',\n",
       " 'notícias',\n",
       " 'noite',\n",
       " 'anos',\n",
       " 'mulher',\n",
       " 'direitos',\n",
       " 'impostos',\n",
       " 'informações',\n",
       " 'clientes',\n",
       " 'resposta',\n",
       " 'impacto',\n",
       " 'bolsa',\n",
       " 'cliente',\n",
       " 'informação',\n",
       " 'serviços',\n",
       " 'mercado',\n",
       " 'decisão',\n",
       " 'privatização',\n",
       " 'alta',\n",
       " 'mundo',\n",
       " 'análise',\n",
       " 'revista',\n",
       " 'empresas',\n",
       " 'entrada',\n",
       " 'balcões',\n",
       " 'administradores',\n",
       " 'proposta',\n",
       " 'dívida',\n",
       " 'agências',\n",
       " 'economia',\n",
       " 'trimestre',\n",
       " 'taxa',\n",
       " 'accionistas',\n",
       " 'projectos',\n",
       " 'prazo',\n",
       " 'saúde',\n",
       " 'crescimento',\n",
       " 'vida',\n",
       " 'futuro',\n",
       " 'gestores',\n",
       " 'gestão',\n",
       " 'responsável',\n",
       " 'acesso',\n",
       " 'médicos',\n",
       " 'resultado',\n",
       " 'mercados',\n",
       " 'responsabilidade',\n",
       " 'queda',\n",
       " 'perdas',\n",
       " 'resultados',\n",
       " 'lucro',\n",
       " 'aumento',\n",
       " 'capital',\n",
       " 'problemas',\n",
       " 'fundos',\n",
       " 'investidores',\n",
       " 'base',\n",
       " 'projecto',\n",
       " 'conhecimento',\n",
       " 'hora',\n",
       " 'investimentos',\n",
       " 'rating',\n",
       " 'acordo',\n",
       " 'compra',\n",
       " 'venda',\n",
       " 'votação',\n",
       " 'processo',\n",
       " 'postos',\n",
       " 'dívidas',\n",
       " 'distribuição',\n",
       " 'acções',\n",
       " 'concessão',\n",
       " 'pesquisa',\n",
       " 'regras',\n",
       " 'lucros',\n",
       " 'preço',\n",
       " 'edição',\n",
       " 'risco',\n",
       " 'âmbito',\n",
       " 'negócios',\n",
       " 'altura',\n",
       " 'nome',\n",
       " 'conta',\n",
       " 'ordem',\n",
       " 'referência',\n",
       " 'público',\n",
       " 'pagamento',\n",
       " 'operações',\n",
       " 'negociações',\n",
       " 'melhoria',\n",
       " 'passageiros',\n",
       " 'vendas',\n",
       " 'semestre',\n",
       " 'índice',\n",
       " 'negociação',\n",
       " 'razão',\n",
       " 'título',\n",
       " 'plataforma',\n",
       " 'sector',\n",
       " 'tendência',\n",
       " 'sessão',\n",
       " 'fonte',\n",
       " 'ganhos',\n",
       " 'evolução',\n",
       " 'abertura',\n",
       " 'espaço',\n",
       " 'subida',\n",
       " 'período',\n",
       " 'títulos',\n",
       " 'crime',\n",
       " 'fusão',\n",
       " 'julgamento',\n",
       " 'início',\n",
       " 'aquisição',\n",
       " 'jornalistas',\n",
       " 'investigação',\n",
       " 'entidade',\n",
       " 'causa',\n",
       " 'participação',\n",
       " 'sociedade',\n",
       " 'pensões',\n",
       " 'conjunto',\n",
       " 'financiamento',\n",
       " 'investimento',\n",
       " 'total',\n",
       " 'crédito',\n",
       " 'operação',\n",
       " 'administração',\n",
       " 'autoridades',\n",
       " 'bancos',\n",
       " 'avaliação',\n",
       " 'vista',\n",
       " 'apresentação',\n",
       " 'governo',\n",
       " 'propostas',\n",
       " 'seguida',\n",
       " 'interesse',\n",
       " 'corrida',\n",
       " 'banca',\n",
       " 'activos',\n",
       " 'fundador',\n",
       " 'quadro',\n",
       " 'guerra',\n",
       " 'contrato',\n",
       " 'prisão',\n",
       " 'descida',\n",
       " 'destaque',\n",
       " 'sentido',\n",
       " 'plano',\n",
       " 'reestruturação',\n",
       " 'semana',\n",
       " 'confiança',\n",
       " 'metade',\n",
       " 'leitores',\n",
       " 'qualidade',\n",
       " 'página',\n",
       " 'nota',\n",
       " 'dados',\n",
       " 'instituições',\n",
       " 'acção',\n",
       " 'termos',\n",
       " 'negócio',\n",
       " 'media',\n",
       " 'direito',\n",
       " 'propósito',\n",
       " 'supervisão',\n",
       " 'modelo',\n",
       " 'reforço',\n",
       " 'condições',\n",
       " 'trabalhos',\n",
       " 'email',\n",
       " 'música',\n",
       " 'opinião',\n",
       " 'estrutura',\n",
       " 'equipa',\n",
       " 'controlo',\n",
       " 'CMVM',\n",
       " 'votos',\n",
       " 'voto',\n",
       " 'ONLINE',\n",
       " 'crise',\n",
       " 'entrevista',\n",
       " 'morte',\n",
       " 'artigo',\n",
       " 'contas',\n",
       " 'exercício',\n",
       " 'custos',\n",
       " 'participações',\n",
       " 'reformas',\n",
       " 'processos',\n",
       " 'comentários',\n",
       " 'escola',\n",
       " 'programa',\n",
       " 'habitação',\n",
       " 'accionista',\n",
       " 'petrolífera',\n",
       " 'solução',\n",
       " 'comissão',\n",
       " 'créditos',\n",
       " 'inquérito',\n",
       " 'factos',\n",
       " 'supervisor',\n",
       " 'aumentos',\n",
       " 'notícia',\n",
       " 'reportagens',\n",
       " 'documentos',\n",
       " 'tribunal',\n",
       " 'verdade',\n",
       " 'acusação',\n",
       " 'indemnização',\n",
       " 'empréstimos',\n",
       " 'manipulação',\n",
       " 'sentença',\n",
       " 'recurso',\n",
       " 'tribunais',\n",
       " 'acusações',\n",
       " 'artigos',\n",
       " 'visita',\n",
       " 'semanas',\n",
       " 'obrigações',\n",
       " 'emissão',\n",
       " 'declarações',\n",
       " 'capacidade',\n",
       " 'assinatura',\n",
       " 'jornal',\n",
       " 'corte',\n",
       " 'login',\n",
       " 'oferta',\n",
       " 'limite',\n",
       " 'salário',\n",
       " 'emprego',\n",
       " 'violência',\n",
       " 'líder',\n",
       " 'mãos',\n",
       " 'redução',\n",
       " 'casos',\n",
       " 'desporto',\n",
       " 'carta',\n",
       " 'intenção',\n",
       " 'explicações',\n",
       " 'minutos',\n",
       " 'autores',\n",
       " 'comentário',\n",
       " 'anónimo',\n",
       " 'segundos',\n",
       " 'utilizador',\n",
       " 'password',\n",
       " 'voos',\n",
       " 'liberdade',\n",
       " 'campanha',\n",
       " 'expressão',\n",
       " 'filhos',\n",
       " 'dinheiro',\n",
       " 'ajuda',\n",
       " 'prejuízo',\n",
       " 'salários',\n",
       " 'dúvidas',\n",
       " 'greve',\n",
       " 'professores',\n",
       " 'estratégia',\n",
       " 'porta',\n",
       " 'exposição',\n",
       " 'presença',\n",
       " 'conteúdos',\n",
       " 'notação',\n",
       " 'lixo',\n",
       " 'depósitos',\n",
       " 'rácio',\n",
       " 'défice',\n",
       " 'excelência',\n",
       " 'alunos',\n",
       " 'empresário',\n",
       " 'juiz',\n",
       " 'inquéritos',\n",
       " 'publicação',\n",
       " 'cenário',\n",
       " 'taxas',\n",
       " 'futebol',\n",
       " 'margem',\n",
       " 'comissões',\n",
       " 'administrador',\n",
       " 'desemprego',\n",
       " 'data',\n",
       " 'prejuízos',\n",
       " 'arguidos',\n",
       " 'rádio',\n",
       " 'eleições',\n",
       " 'opção',\n",
       " 'dividendos',\n",
       " 'liderança',\n",
       " 'saída',\n",
       " 'justiça',\n",
       " 'imparidades',\n",
       " 'marca',\n",
       " 'cortes',\n",
       " 'subsídio',\n",
       " 'troika',\n",
       " 'juros',\n",
       " 'empréstimo',\n",
       " 'defesa',\n",
       " 'casas',\n",
       " 'menores',\n",
       " 'austeridade',\n",
       " 'clube',\n",
       " 'rendas',\n",
       " 'crianças',\n",
       " 'pessoal',\n",
       " 'amigos',\n",
       " 'fundo',\n",
       " 'incêndios',\n",
       " 'férias',\n",
       " 'vídeo',\n",
       " 'reforma',\n",
       " 'promoção',\n",
       " 'pagamentos',\n",
       " 'testes',\n",
       " 'recapitalização',\n",
       " 'acionistas',\n",
       " 'navegação',\n",
       " 'conteúdo',\n",
       " 'localização',\n",
       " 'limitações',\n",
       " 'caixas',\n",
       " 'código',\n",
       " 'opiniões',\n",
       " 'modo',\n",
       " 'tópicos',\n",
       " 'registo',\n",
       " 'rescisões',\n",
       " 'assinantes',\n",
       " 'campo',\n",
       " 'modalidades',\n",
       " 'moderador',\n",
       " 'stress',\n",
       " 'ASSINE',\n",
       " 'MUNDO',\n",
       " 'cultura',\n",
       " 'débito',\n",
       " 'prescrição',\n",
       " 'história',\n",
       " 'ações',\n",
       " 'jornalismo',\n",
       " 'fidelização',\n",
       " 'actualidade',\n",
       " 'mobile',\n",
       " 'fotografias',\n",
       " 'renovação',\n",
       " 'videos',\n",
       " 'contato',\n",
       " 'chat',\n",
       " 'descoberto',\n",
       " 'canais',\n",
       " 'setor',\n",
       " 'correcção',\n",
       " 'ação',\n",
       " 'acionista',\n",
       " 'programação',\n",
       " 'partilhas',\n",
       " 'newsletters',\n",
       " 'cookies',\n",
       " 'website']"
      ]
     },
     "execution_count": 16,
     "metadata": {},
     "output_type": "execute_result"
    }
   ],
   "source": [
    "list(frequencias.keys())"
   ]
  },
  {
   "cell_type": "code",
   "execution_count": null,
   "metadata": {},
   "outputs": [],
   "source": []
  }
 ],
 "metadata": {
  "kernelspec": {
   "display_name": "fcdProj",
   "language": "python",
   "name": "python3"
  },
  "language_info": {
   "codemirror_mode": {
    "name": "ipython",
    "version": 3
   },
   "file_extension": ".py",
   "mimetype": "text/x-python",
   "name": "python",
   "nbconvert_exporter": "python",
   "pygments_lexer": "ipython3",
   "version": "3.10.15"
  }
 },
 "nbformat": 4,
 "nbformat_minor": 2
}
