{
 "cells": [
  {
   "cell_type": "markdown",
   "metadata": {},
   "source": [
    "# data05.parquet in multiple files"
   ]
  },
  {
   "cell_type": "markdown",
   "metadata": {},
   "source": [
    "data05.parquet is to big, so i will split it in two"
   ]
  },
  {
   "cell_type": "markdown",
   "metadata": {},
   "source": [
    "just for storage purposes, wont be using neither of those files"
   ]
  },
  {
   "cell_type": "code",
   "execution_count": 2,
   "metadata": {},
   "outputs": [],
   "source": [
    "import pandas as pd"
   ]
  },
  {
   "cell_type": "code",
   "execution_count": 3,
   "metadata": {},
   "outputs": [
    {
     "data": {
      "text/html": [
       "<div>\n",
       "<style scoped>\n",
       "    .dataframe tbody tr th:only-of-type {\n",
       "        vertical-align: middle;\n",
       "    }\n",
       "\n",
       "    .dataframe tbody tr th {\n",
       "        vertical-align: top;\n",
       "    }\n",
       "\n",
       "    .dataframe thead th {\n",
       "        text-align: right;\n",
       "    }\n",
       "</style>\n",
       "<table border=\"1\" class=\"dataframe\">\n",
       "  <thead>\n",
       "    <tr style=\"text-align: right;\">\n",
       "      <th></th>\n",
       "      <th>aliases</th>\n",
       "      <th>news</th>\n",
       "      <th>keywords</th>\n",
       "    </tr>\n",
       "    <tr>\n",
       "      <th>companies</th>\n",
       "      <th></th>\n",
       "      <th></th>\n",
       "      <th></th>\n",
       "    </tr>\n",
       "  </thead>\n",
       "  <tbody>\n",
       "    <tr>\n",
       "      <th>Banco Comercial Português</th>\n",
       "      <td>[Banco Comercial Português, BCP]</td>\n",
       "      <td>[{'ExtractedText': 'DN   13 de Setembro de 200...</td>\n",
       "      <td>{'00h00': None, '03 Aug': None, '03 Mar': {'co...</td>\n",
       "    </tr>\n",
       "    <tr>\n",
       "      <th>Galp Energia</th>\n",
       "      <td>[Galp Energia, GALP]</td>\n",
       "      <td>[{'ExtractedText': 'RTP Galp reforça posição n...</td>\n",
       "      <td>{'00h00': {'count': 7.0, 'date': {'201004': 1....</td>\n",
       "    </tr>\n",
       "    <tr>\n",
       "      <th>EDP</th>\n",
       "      <td>[EDP, Energias de Portugal, Electricidade de P...</td>\n",
       "      <td>[{'ExtractedText': 'DN-Sinteses Negocios 9 de ...</td>\n",
       "      <td>{'00h00': {'count': 4.0, 'date': {'201004': No...</td>\n",
       "    </tr>\n",
       "    <tr>\n",
       "      <th>Sonae</th>\n",
       "      <td>[Sonae, SON]</td>\n",
       "      <td>[{'ExtractedText': 'DN-Sinteses 5 de Março de ...</td>\n",
       "      <td>{'00h00': {'count': 3.0, 'date': {'201004': No...</td>\n",
       "    </tr>\n",
       "    <tr>\n",
       "      <th>Mota-Engil</th>\n",
       "      <td>[Mota-Engil, EGL]</td>\n",
       "      <td>[{'ExtractedText': 'RTP Lucro da Mota-Engil so...</td>\n",
       "      <td>{'00h00': None, '03 Aug': None, '03 Mar': None...</td>\n",
       "    </tr>\n",
       "  </tbody>\n",
       "</table>\n",
       "</div>"
      ],
      "text/plain": [
       "                                                                     aliases  \\\n",
       "companies                                                                      \n",
       "Banco Comercial Português                   [Banco Comercial Português, BCP]   \n",
       "Galp Energia                                            [Galp Energia, GALP]   \n",
       "EDP                        [EDP, Energias de Portugal, Electricidade de P...   \n",
       "Sonae                                                           [Sonae, SON]   \n",
       "Mota-Engil                                                 [Mota-Engil, EGL]   \n",
       "\n",
       "                                                                        news  \\\n",
       "companies                                                                      \n",
       "Banco Comercial Português  [{'ExtractedText': 'DN   13 de Setembro de 200...   \n",
       "Galp Energia               [{'ExtractedText': 'RTP Galp reforça posição n...   \n",
       "EDP                        [{'ExtractedText': 'DN-Sinteses Negocios 9 de ...   \n",
       "Sonae                      [{'ExtractedText': 'DN-Sinteses 5 de Março de ...   \n",
       "Mota-Engil                 [{'ExtractedText': 'RTP Lucro da Mota-Engil so...   \n",
       "\n",
       "                                                                    keywords  \n",
       "companies                                                                     \n",
       "Banco Comercial Português  {'00h00': None, '03 Aug': None, '03 Mar': {'co...  \n",
       "Galp Energia               {'00h00': {'count': 7.0, 'date': {'201004': 1....  \n",
       "EDP                        {'00h00': {'count': 4.0, 'date': {'201004': No...  \n",
       "Sonae                      {'00h00': {'count': 3.0, 'date': {'201004': No...  \n",
       "Mota-Engil                 {'00h00': None, '03 Aug': None, '03 Mar': None...  "
      ]
     },
     "execution_count": 3,
     "metadata": {},
     "output_type": "execute_result"
    }
   ],
   "source": [
    "df = pd.read_parquet(\"data05.parquet\")\n",
    "df"
   ]
  },
  {
   "cell_type": "code",
   "execution_count": 5,
   "metadata": {},
   "outputs": [
    {
     "data": {
      "text/html": [
       "<div>\n",
       "<style scoped>\n",
       "    .dataframe tbody tr th:only-of-type {\n",
       "        vertical-align: middle;\n",
       "    }\n",
       "\n",
       "    .dataframe tbody tr th {\n",
       "        vertical-align: top;\n",
       "    }\n",
       "\n",
       "    .dataframe thead th {\n",
       "        text-align: right;\n",
       "    }\n",
       "</style>\n",
       "<table border=\"1\" class=\"dataframe\">\n",
       "  <thead>\n",
       "    <tr style=\"text-align: right;\">\n",
       "      <th></th>\n",
       "      <th>aliases</th>\n",
       "      <th>news</th>\n",
       "      <th>keywords</th>\n",
       "    </tr>\n",
       "  </thead>\n",
       "  <tbody>\n",
       "    <tr>\n",
       "      <th>Mota-Engil</th>\n",
       "      <td>[Mota-Engil, EGL]</td>\n",
       "      <td>[{'ExtractedText': 'RTP Lucro da Mota-Engil so...</td>\n",
       "      <td>{'00h00': None, '03 Aug': None, '03 Mar': None...</td>\n",
       "    </tr>\n",
       "  </tbody>\n",
       "</table>\n",
       "</div>"
      ],
      "text/plain": [
       "                      aliases  \\\n",
       "Mota-Engil  [Mota-Engil, EGL]   \n",
       "\n",
       "                                                         news  \\\n",
       "Mota-Engil  [{'ExtractedText': 'RTP Lucro da Mota-Engil so...   \n",
       "\n",
       "                                                     keywords  \n",
       "Mota-Engil  {'00h00': None, '03 Aug': None, '03 Mar': None...  "
      ]
     },
     "execution_count": 5,
     "metadata": {},
     "output_type": "execute_result"
    }
   ],
   "source": [
    "for row in range(len(df)):\n",
    "    df0 = pd.DataFrame(df.iloc[row]).T\n",
    "    df0.to_parquet(f\"data05_0{row}.parquet\")\n",
    "df0"
   ]
  },
  {
   "cell_type": "code",
   "execution_count": null,
   "metadata": {},
   "outputs": [],
   "source": []
  }
 ],
 "metadata": {
  "kernelspec": {
   "display_name": "fcdProj",
   "language": "python",
   "name": "python3"
  },
  "language_info": {
   "codemirror_mode": {
    "name": "ipython",
    "version": 3
   },
   "file_extension": ".py",
   "mimetype": "text/x-python",
   "name": "python",
   "nbconvert_exporter": "python",
   "pygments_lexer": "ipython3",
   "version": "3.10.15"
  }
 },
 "nbformat": 4,
 "nbformat_minor": 2
}
